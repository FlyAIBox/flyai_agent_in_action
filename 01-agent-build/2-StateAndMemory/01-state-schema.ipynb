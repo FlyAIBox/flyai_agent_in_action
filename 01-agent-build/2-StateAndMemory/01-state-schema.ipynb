{
 "cells": [
  {
   "cell_type": "markdown",
   "id": "env_config_overview",
   "metadata": {},
   "source": [
    "### 🔧 环境配置和检查\n\n#### 概述\n\n本教程需要特定的环境配置以确保最佳学习体验。以下配置将帮助您：\n\n- 使用统一的conda环境：激活统一的学习环境\n- 通过国内镜像源快速安装依赖：配置pip使用清华镜像源\n- 加速模型下载：设置HuggingFace镜像代理\n- 检查系统配置：检查硬件和软件配置\n\n#### 配置\n\n- **所需环境及其依赖已经部署好**\n- 在`Notebook`右上角选择`jupyter内核`为`python(flyai_agent_in_action)`，即可执行下方代码"
   ]
  },
  {
   "cell_type": "code",
   "execution_count": null,
   "id": "env_conda_activate",
   "metadata": {},
   "outputs": [],
   "source": [
    "%%script bash\n\n# 1. 激活 conda 环境 (仅对当前单元格有效)\neval \"$(conda shell.bash hook)\"\nconda activate flyai_agent_in_action\n\necho \"=========================================\"\necho \"== Conda 环境检查报告 (仅针对当前 Bash 子进程) ==\"\necho \"=========================================\"\n\n# 2. 检查当前激活的环境\nCURRENT_ENV_NAME=$(basename $CONDA_PREFIX)\n\nif [ \"$CURRENT_ENV_NAME\" = \"flyai_agent_in_action\" ]; then\n    echo \"✅ 当前单元格已成功激活到 flyai_agent_in_action 环境。\"\n    echo \"✅ 正在使用的环境路径: $CONDA_PREFIX\"\n    echo \"\"\n    echo \"💡 提示: 后续的 Python 单元格将使用 Notebook 当前选择的 Jupyter 内核。\"\n    echo \"   如果需要后续单元格也使用此环境，请执行以下操作:\"\n    echo \"   1. 检查 Notebook 右上角是否已选择 'python(flyai_agent_in_action)'。\"\nelse\n    echo \"❌ 激活失败或环境名称不匹配。当前环境: $CURRENT_ENV_NAME\"\n    echo \"\"\n    echo \"⚠️ 严重提示: 建议将 Notebook 的 Jupyter **内核 (Kernel)** 切换为 'python(flyai_agent_in_action)'。\"\n    echo \"   (通常位于 Notebook 右上角或 '内核' 菜单中)\"\n    echo \"\"\n    echo \"📚 备用方法 (不推荐): 如果无法切换内核，则必须在**每个**代码单元格的头部重复以下命令:\"\n    echo \"\"\n    echo \"%%script bash\"\n    echo \"# 必须在每个单元格都执行\"\n    echo \"eval \\\"\\$(conda shell.bash hook)\\\"\"\n    echo \"conda activate flyai_agent_in_action\"\nfi\n\necho \"=========================================\" "
   ]
  },
  {
   "cell_type": "code",
   "execution_count": null,
   "id": "env_pip_config",
   "metadata": {},
   "outputs": [],
   "source": [
    "# 2. 设置pip 为清华源\n",
    "%pip config set global.index-url https://pypi.tuna.tsinghua.edu.cn/simple\n",
    "%pip config list\n"
   ]
  },
  {
   "cell_type": "code",
   "execution_count": null,
   "id": "env_hf_proxy",
   "metadata": {},
   "outputs": [],
   "source": [
    "# 3. 设置HuggingFace代理\n",
    "%env HF_ENDPOINT=https://hf-mirror.com\n",
    "# 验证：使用shell命令检查\n",
    "!echo $HF_ENDPOINT"
   ]
  },
  {
   "cell_type": "code",
   "execution_count": null,
   "id": "env_system_check",
   "metadata": {},
   "outputs": [],
   "source": [
    "# 🔍 环境信息检查脚本\n",
    "#\n",
    "# 本脚本的作用：\n",
    "# 1. 安装 pandas 库用于数据表格展示\n",
    "# 2. 检查系统的各项配置信息\n",
    "# 3. 生成详细的环境报告表格\n",
    "#\n",
    "# 对于初学者来说，这个步骤帮助您：\n",
    "# - 了解当前运行环境的硬件配置\n",
    "# - 确认是否满足模型运行的最低要求\n",
    "# - 学习如何通过代码获取系统信息\n",
    "\n",
    "# 安装 pandas 库 - 用于创建和展示数据表格\n",
    "# pandas 是 Python 中最流行的数据处理和分析库\n",
    "%pip install pandas==2.2.2 tabulate==0.9.0\n",
    "\n",
    "import platform # 导入 platform 模块以获取系统信息\n",
    "import os # 导入 os 模块以与操作系统交互\n",
    "import subprocess # 导入 subprocess 模块以运行外部命令\n",
    "import pandas as pd # 导入 pandas 模块，通常用于数据处理，这里用于创建表格\n",
    "import shutil # 导入 shutil 模块以获取磁盘空间信息\n",
    "\n",
    "# 获取 CPU 信息的函数，包括核心数量\n",
    "def get_cpu_info():\n",
    "    cpu_info = \"\" # 初始化 CPU 信息字符串\n",
    "    physical_cores = \"N/A\"\n",
    "    logical_cores = \"N/A\"\n",
    "\n",
    "    if platform.system() == \"Windows\": # 如果是 Windows 系统\n",
    "        cpu_info = platform.processor() # 使用 platform.processor() 获取 CPU 信息\n",
    "        try:\n",
    "            # 获取 Windows 上的核心数量 (需要 WMI)\n",
    "            import wmi\n",
    "            c = wmi.WMI()\n",
    "            for proc in c.Win32_Processor():\n",
    "                physical_cores = proc.NumberOfCores\n",
    "                logical_cores = proc.NumberOfLogicalProcessors\n",
    "        except:\n",
    "            pass # 如果 WMI 不可用，忽略错误\n",
    "\n",
    "    elif platform.system() == \"Darwin\": # 如果是 macOS 系统\n",
    "        # 在 macOS 上使用 sysctl 命令获取 CPU 信息和核心数量\n",
    "        os.environ['PATH'] = os.environ['PATH'] + os.pathsep + '/usr/sbin' # 更新 PATH 环境变量\n",
    "        try:\n",
    "            process_brand = subprocess.Popen(['sysctl', \"machdep.cpu.brand_string\"], stdout=subprocess.PIPE, stderr=subprocess.PIPE)\n",
    "            stdout_brand, stderr_brand = process_brand.communicate()\n",
    "            cpu_info = stdout_brand.decode().split(': ')[1].strip() if stdout_brand else \"Could not retrieve CPU info\"\n",
    "\n",
    "            process_physical = subprocess.Popen(['sysctl', \"hw.physicalcpu\"], stdout=subprocess.PIPE, stderr=subprocess.PIPE)\n",
    "            stdout_physical, stderr_physical = process_physical.communicate()\n",
    "            physical_cores = stdout_physical.decode().split(': ')[1].strip() if stdout_physical else \"N/A\"\n",
    "\n",
    "            process_logical = subprocess.Popen(['sysctl', \"hw.logicalcpu\"], stdout=subprocess.PIPE, stderr=subprocess.PIPE)\n",
    "            stdout_logical, stderr_logical = process_logical.communicate()\n",
    "            logical_cores = stdout_logical.decode().split(': ')[1].strip() if stdout_logical else \"N/A\"\n",
    "\n",
    "        except:\n",
    "            cpu_info = \"Could not retrieve CPU info\"\n",
    "            physical_cores = \"N/A\"\n",
    "            logical_cores = \"N/A\"\n",
    "\n",
    "    else:  # Linux 系统\n",
    "        try:\n",
    "            # 在 Linux 上读取 /proc/cpuinfo 文件获取 CPU 信息和核心数量\n",
    "            with open('/proc/cpuinfo') as f:\n",
    "                physical_cores_count = 0\n",
    "                logical_cores_count = 0\n",
    "                cpu_info_lines = []\n",
    "                for line in f:\n",
    "                    if line.startswith('model name'): # 查找以 'model name'开头的行\n",
    "                        if not cpu_info: # 只获取第一个 model name\n",
    "                            cpu_info = line.split(': ')[1].strip()\n",
    "                    elif line.startswith('cpu cores'): # 查找以 'cpu cores' 开头的行\n",
    "                        physical_cores_count = int(line.split(': ')[1].strip())\n",
    "                    elif line.startswith('processor'): # 查找以 'processor' 开头的行\n",
    "                        logical_cores_count += 1\n",
    "                physical_cores = str(physical_cores_count) if physical_cores_count > 0 else \"N/A\"\n",
    "                logical_cores = str(logical_cores_count) if logical_cores_count > 0 else \"N/A\"\n",
    "                if not cpu_info:\n",
    "                     cpu_info = \"Could not retrieve CPU info\"\n",
    "\n",
    "        except:\n",
    "            cpu_info = \"Could not retrieve CPU info\"\n",
    "            physical_cores = \"N/A\"\n",
    "            logical_cores = \"N/A\"\n",
    "\n",
    "    return f\"{cpu_info} ({physical_cores} physical cores, {logical_cores} logical cores)\" # 返回 CPU 信息和核心数量\n",
    "\n",
    "\n",
    "# 获取内存信息的函数\n",
    "def get_memory_info():\n",
    "    mem_info = \"\" # 初始化内存信息字符串\n",
    "    if platform.system() == \"Windows\":\n",
    "        # 在 Windows 上不容易通过标准库获取，需要外部库或 PowerShell\n",
    "        mem_info = \"Requires external tools on Windows\" # 设置提示信息\n",
    "    elif platform.system() == \"Darwin\": # 如果是 macOS 系统\n",
    "        # 在 macOS 上使用 sysctl 命令获取内存大小\n",
    "        process = subprocess.Popen(['sysctl', \"hw.memsize\"], stdout=subprocess.PIPE, stderr=subprocess.PIPE) # 运行 sysctl 命令\n",
    "        stdout, stderr = process.communicate() # 获取标准输出和标准错误\n",
    "        mem_bytes = int(stdout.decode().split(': ')[1].strip()) # 解析输出，获取内存大小（字节）\n",
    "        mem_gb = mem_bytes / (1024**3) # 转换为 GB\n",
    "        mem_info = f\"{mem_gb:.2f} GB\" # 格式化输出\n",
    "    else:  # Linux 系统\n",
    "        try:\n",
    "            # 在 Linux 上读取 /proc/meminfo 文件获取内存信息\n",
    "            with open('/proc/meminfo') as f:\n",
    "                total_mem_kb = 0\n",
    "                available_mem_kb = 0\n",
    "                for line in f:\n",
    "                    if line.startswith('MemTotal'): # 查找以 'MemTotal' 开头的行\n",
    "                        total_mem_kb = int(line.split(':')[1].strip().split()[0]) # 解析行，获取总内存（KB）\n",
    "                    elif line.startswith('MemAvailable'): # 查找以 'MemAvailable' 开头的行\n",
    "                         available_mem_kb = int(line.split(':')[1].strip().split()[0]) # 解析行，获取可用内存（KB）\n",
    "\n",
    "                if total_mem_kb > 0:\n",
    "                    total_mem_gb = total_mem_kb / (1024**2) # 转换为 GB\n",
    "                    mem_info = f\"{total_mem_gb:.2f} GB\" # 格式化输出总内存\n",
    "                    if available_mem_kb > 0:\n",
    "                        available_mem_gb = available_mem_kb / (1024**2)\n",
    "                        mem_info += f\" (Available: {available_mem_gb:.2f} GB)\" # 添加可用内存信息\n",
    "                else:\n",
    "                     mem_info = \"Could not retrieve memory info\" # 如果读取文件出错，设置错误信息\n",
    "\n",
    "        except:\n",
    "            mem_info = \"Could not retrieve memory info\" # 如果读取文件出错，设置错误信息\n",
    "    return mem_info # 返回内存信息\n",
    "\n",
    "# 获取 GPU 信息的函数，包括显存\n",
    "def get_gpu_info():\n",
    "    try:\n",
    "        # 尝试使用 nvidia-smi 获取 NVIDIA GPU 信息和显存\n",
    "        result = subprocess.run(['nvidia-smi', '--query-gpu=name,memory.total', '--format=csv,noheader'], capture_output=True, text=True)\n",
    "        if result.returncode == 0: # 如果命令成功执行\n",
    "            gpu_lines = result.stdout.strip().split('\\n') # 解析输出，获取 GPU 名称和显存\n",
    "            gpu_info_list = []\n",
    "            for line in gpu_lines:\n",
    "                name, memory = line.split(', ')\n",
    "                gpu_info_list.append(f\"{name} ({memory})\") # 格式化 GPU 信息\n",
    "            return \", \".join(gpu_info_list) if gpu_info_list else \"NVIDIA GPU found, but info not listed\" # 返回 GPU 信息或提示信息\n",
    "        else:\n",
    "             # 尝试使用 lshw 获取其他 GPU 信息 (需要安装 lshw)\n",
    "            try:\n",
    "                result_lshw = subprocess.run(['lshw', '-C', 'display'], capture_output=True, text=True)\n",
    "                if result_lshw.returncode == 0: # 如果命令成功执行\n",
    "                     # 简单解析输出中的 product 名称和显存\n",
    "                    gpu_info_lines = []\n",
    "                    current_gpu = {}\n",
    "                    for line in result_lshw.stdout.splitlines():\n",
    "                        if 'product:' in line:\n",
    "                             if current_gpu:\n",
    "                                 gpu_info_lines.append(f\"{current_gpu.get('product', 'GPU')} ({current_gpu.get('memory', 'N/A')})\")\n",
    "                             current_gpu = {'product': line.split('product:')[1].strip()}\n",
    "                        elif 'size:' in line and 'memory' in line:\n",
    "                             current_gpu['memory'] = line.split('size:')[1].strip()\n",
    "\n",
    "                    if current_gpu: # 添加最后一个 GPU 的信息\n",
    "                        gpu_info_lines.append(f\"{current_gpu.get('product', 'GPU')} ({current_gpu.get('memory', 'N/A')})\")\n",
    "\n",
    "                    return \", \".join(gpu_info_lines) if gpu_info_lines else \"GPU found (via lshw), but info not parsed\" # 如果找到 GPU 但信息无法解析，设置提示信息\n",
    "                else:\n",
    "                    return \"No GPU found (checked nvidia-smi and lshw)\" # 如果两个命令都找不到 GPU，设置提示信息\n",
    "            except FileNotFoundError:\n",
    "                 return \"No GPU found (checked nvidia-smi, lshw not found)\" # 如果找不到 lshw 命令，设置提示信息\n",
    "    except FileNotFoundError:\n",
    "        return \"No GPU found (nvidia-smi not found)\" # 如果找不到 nvidia-smi 命令，设置提示信息\n",
    "\n",
    "\n",
    "# 获取 CUDA 版本的函数\n",
    "def get_cuda_version():\n",
    "    try:\n",
    "        # 尝试使用 nvcc --version 获取 CUDA 版本\n",
    "        result = subprocess.run(['nvcc', '--version'], capture_output=True, text=True)\n",
    "        if result.returncode == 0: # 如果命令成功执行\n",
    "            for line in result.stdout.splitlines():\n",
    "                if 'release' in line: # 查找包含 'release' 的行\n",
    "                    return line.split('release ')[1].split(',')[0] # 解析行，提取版本号\n",
    "        return \"CUDA not found or version not parsed\" # 如果找不到 CUDA 或版本无法解析，设置提示信息\n",
    "    except FileNotFoundError:\n",
    "        return \"CUDA not found\" # 如果找不到 nvcc 命令，设置提示信息\n",
    "\n",
    "# 获取 Python 版本的函数\n",
    "def get_python_version():\n",
    "    return platform.python_version() # 获取 Python 版本\n",
    "\n",
    "# 获取 Conda 版本的函数\n",
    "def get_conda_version():\n",
    "    try:\n",
    "        # 尝试使用 conda --version 获取 Conda 版本\n",
    "        result = subprocess.run(['conda', '--version'], capture_output=True, text=True)\n",
    "        if result.returncode == 0: # 如果命令成功执行\n",
    "            return result.stdout.strip() # 返回 Conda 版本\n",
    "        return \"Conda not found or version not parsed\" # 如果找不到 Conda 或版本无法解析，设置提示信息\n",
    "    except FileNotFoundError:\n",
    "        return \"Conda not found\" # 如果找不到 conda 命令，设置提示信息\n",
    "\n",
    "# 获取物理磁盘空间信息的函数\n",
    "def get_disk_space():\n",
    "    try:\n",
    "        total, used, free = shutil.disk_usage(\"/\") # 获取根目录的磁盘使用情况\n",
    "        total_gb = total / (1024**3) # 转换为 GB\n",
    "        used_gb = used / (1024**3) # 转换为 GB\n",
    "        free_gb = free / (1024**3) # 转换为 GB\n",
    "        return f\"Total: {total_gb:.2f} GB, Used: {used_gb:.2f} GB, Free: {free_gb:.2f} GB\" # 格式化输出\n",
    "    except Exception as e:\n",
    "        return f\"Could not retrieve disk info: {e}\" # 如果获取信息出错，设置错误信息\n",
    "\n",
    "# 获取环境信息\n",
    "os_name = platform.system() # 获取操作系统名称\n",
    "os_version = platform.release() # 获取操作系统版本\n",
    "if os_name == \"Linux\":\n",
    "    try:\n",
    "        # 在 Linux 上尝试获取发行版和版本\n",
    "        lsb_info = subprocess.run(['lsb_release', '-a'], capture_output=True, text=True)\n",
    "        if lsb_info.returncode == 0: # 如果命令成功执行\n",
    "            for line in lsb_info.stdout.splitlines():\n",
    "                if 'Description:' in line: # 查找包含 'Description:' 的行\n",
    "                    os_version = line.split('Description:')[1].strip() # 提取描述信息作为版本\n",
    "                    break # 找到后退出循环\n",
    "                elif 'Release:' in line: # 查找包含 'Release:' 的行\n",
    "                     os_version = line.split('Release:')[1].strip() # 提取版本号\n",
    "                     # 尝试获取 codename\n",
    "                     try:\n",
    "                         codename_info = subprocess.run(['lsb_release', '-c'], capture_output=True, text=True)\n",
    "                         if codename_info.returncode == 0:\n",
    "                             os_version += f\" ({codename_info.stdout.split(':')[1].strip()})\" # 将 codename 添加到版本信息中\n",
    "                     except:\n",
    "                         pass # 如果获取 codename 失败则忽略\n",
    "\n",
    "    except FileNotFoundError:\n",
    "        pass # lsb_release 可能未安装，忽略错误\n",
    "\n",
    "full_os_info = f\"{os_name} {os_version}\" # 组合完整的操作系统信息\n",
    "cpu_info = get_cpu_info() # 调用函数获取 CPU 信息和核心数量\n",
    "memory_info = get_memory_info() # 调用函数获取内存信息\n",
    "gpu_info = get_gpu_info() # 调用函数获取 GPU 信息和显存\n",
    "cuda_version = get_cuda_version() # 调用函数获取 CUDA 版本\n",
    "python_version = get_python_version() # 调用函数获取 Python 版本\n",
    "conda_version = get_conda_version() # 调用函数获取 Conda 版本\n",
    "disk_info = get_disk_space() # 调用函数获取物理磁盘空间信息\n",
    "\n",
    "\n",
    "# 创建用于存储数据的字典\n",
    "env_data = {\n",
    "    \"项目\": [ # 项目名称列表\n",
    "        \"操作系统\",\n",
    "        \"CPU 信息\",\n",
    "        \"内存信息\",\n",
    "        \"GPU 信息\",\n",
    "        \"CUDA 信息\",\n",
    "        \"Python 版本\",\n",
    "        \"Conda 版本\",\n",
    "        \"物理磁盘空间\" # 添加物理磁盘空间\n",
    "    ],\n",
    "    \"信息\": [ # 对应的信息列表\n",
    "        full_os_info,\n",
    "        cpu_info,\n",
    "        memory_info,\n",
    "        gpu_info,\n",
    "        cuda_version,\n",
    "        python_version,\n",
    "        conda_version,\n",
    "        disk_info # 添加物理磁盘空间信息\n",
    "    ]\n",
    "}\n",
    "\n",
    "# 创建一个 pandas DataFrame\n",
    "df = pd.DataFrame(env_data)\n",
    "\n",
    "# 打印表格\n",
    "print(\"### 环境信息\") # 打印标题\n",
    "print(df.to_markdown(index=False)) # 将 DataFrame 转换为 Markdown 格式并打印，不包含索引\n"
   ]
  },
  {
   "cell_type": "markdown",
   "metadata": {
    "colab_type": "text",
    "id": "view-in-github"
   },
   "source": [
    "<a href=\"https://colab.research.google.com/github/FlyAIBox/langchain-academy/blob/fly101/module-2/state-schema.ipynb\" target=\"_parent\"><img src=\"https://colab.research.google.com/assets/colab-badge.svg\" alt=\"Open In Colab\"/></a>"
   ]
  },
  {
   "cell_type": "markdown",
   "id": "f118fabe-37b7-4cd4-b7a4-9b0fc3875ca3",
   "metadata": {
    "id": "f118fabe-37b7-4cd4-b7a4-9b0fc3875ca3"
   },
   "source": [
    "# 状态模式（State Schema）\n",
    "\n",
    "## 回顾\n",
    "\n",
    "在第 1 模块中，我们打好了基础，构建了一个能够：\n",
    "\n",
    "- `act（行动）`：让模型调用特定工具\n",
    "- `observe（观察）`：将工具输出回传给模型\n",
    "- `reason（推理）`：让模型基于工具输出进行推理，决定下一步（例如继续调用工具或直接回复）\n",
    "- `persist state（持久化状态）`：使用内存检查点器支持可被中断的长对话\n",
    "\n",
    "我们还演示了如何在本地通过 LangGraph Studio 运行，以及如何使用 LangGraph Cloud 部署。\n",
    "\n",
    "## 目标\n",
    "\n",
    "本模块将帮助你更深入地理解“状态（state）”与“记忆（memory）”。\n",
    "\n",
    "首先，我们来回顾在 LangGraph 中定义状态模式的几种常见方式。"
   ]
  },
  {
   "cell_type": "code",
   "execution_count": null,
   "id": "b9a896f4-8509-456a-9a25-46532342f459",
   "metadata": {
    "id": "b9a896f4-8509-456a-9a25-46532342f459"
   },
   "outputs": [],
   "source": [
    "%%capture --no-stderr\n",
    "# %pip install --quiet -U langgraph\n",
    "%pip install langgraph==0.6.7"
   ]
  },
  {
   "cell_type": "markdown",
   "id": "9f7927b0-9909-4e54-b997-ac49c1aeaa09",
   "metadata": {
    "id": "9f7927b0-9909-4e54-b997-ac49c1aeaa09"
   },
   "source": [
    "## 模式说明（Schema）\n",
    "\n",
    "在定义 LangGraph 的 `StateGraph` 时，我们需要一个[状态模式（state schema）](https://langchain-ai.github.io/langgraph/concepts/low_level/#state)。\n",
    "\n",
    "状态模式用于描述图中将要使用的数据结构与类型。\n",
    "所有节点（nodes）都应当遵循并通过该模式进行通信。\n",
    "\n",
    "---\n",
    "\n",
    "在 LangGraph 中，**State Schema**（状态模式）是用于定义图的状态（state）或“记忆”（memory）的数据结构。它规定了在整个图的执行过程中，数据是如何在不同节点间共享和传递的。\n",
    "\n",
    "简单来说，你可以将 State Schema 理解为一个字典（dict），其中每个键（key）代表一个特定的数据字段，而值（value）则存储该字段的实际数据。当图运行时，每个节点都可以访问、读取和更新这个共享的状态字典。\n",
    "\n",
    "例如，一个简单的状态模式可能包含以下字段：\n",
    "\n",
    "* `chat_history`: 用于存储用户和 Agent 之间的对话历史。\n",
    "* `user_input`: 用于存储最新的用户输入。\n",
    "* `tool_output`: 用于存储工具调用的结果。\n",
    "\n",
    "通过使用 State Schema，LangGraph 能够实现：\n",
    "\n",
    "* **跨节点的数据共享**: 不同的节点（如处理用户输入的节点、调用工具的节点、生成响应的节点）都能够访问同一个共享状态，从而实现数据的无缝传递。\n",
    "* **短时/长时记忆**: 结合数据库（如 Postgres），State Schema 可以支持短时记忆（当前运行的状态）和长时记忆（跨多次运行持久化的状态）。\n",
    "* **可控的执行流**: 边（edges）可以根据状态中的数据来决定下一步的执行路径，例如，如果 `tool_output` 中包含特定信息，就将控制流路由到另一个节点。\n",
    "\n",
    "---\n",
    "\n",
    "LangGraph 在定义状态模式方面非常灵活，既支持多种 Python 的[类型](https://docs.python.org/3/library/stdtypes.html#type-objects)，也支持不同的校验方式。\n",
    "\n",
    "## TypedDict\n",
    "\n",
    "正如在模块 1 中提到的，我们可以使用 Python `typing` 模块中的 `TypedDict`。\n",
    "\n",
    "它允许你声明字典的键及其对应的值类型。\n",
    "\n",
    "需要注意：这些只是“类型提示（type hints）”。\n",
    "\n",
    "它们可用于静态类型检查器（例如 [mypy](https://github.com/python/mypy)）或 IDE 在运行前发现潜在的类型问题，\n",
    "\n",
    "但在运行时并不会强制校验！"
   ]
  },
  {
   "cell_type": "code",
   "execution_count": null,
   "id": "eedb39f0-af0f-4794-bc16-65980d278b59",
   "metadata": {
    "id": "eedb39f0-af0f-4794-bc16-65980d278b59"
   },
   "outputs": [],
   "source": [
    "# 说明：使用 TypedDict 定义最基础的“状态模式（State Schema）”\n",
    "# 提示：TypedDict 只提供类型提示（静态检查），运行时不会强制校验类型\n",
    "# 适用：入门理解“状态键=通道（channel）”的概念，每个键是一条状态通道\n",
    "from typing_extensions import TypedDict\n",
    "\n",
    "class TypedDictState(TypedDict):\n",
    "    # 必填字符串键：foo（一条状态通道）\n",
    "    foo: str\n",
    "    # 必填字符串键：bar（另一条状态通道）\n",
    "    bar: str"
   ]
  },
  {
   "cell_type": "markdown",
   "id": "d5a71661-1086-455f-a5e0-a6d104034a95",
   "metadata": {
    "id": "d5a71661-1086-455f-a5e0-a6d104034a95"
   },
   "source": [
    "如果需要更严格的取值约束，可以使用 `Literal` 这样的类型提示。\n",
    "\n",
    "例如，这里将 `mood` 的取值限制为 \"happy\" 或 \"sad\"。"
   ]
  },
  {
   "cell_type": "code",
   "execution_count": null,
   "id": "4ad9749c-b127-433f-baa3-189a9349e9f6",
   "metadata": {
    "id": "4ad9749c-b127-433f-baa3-189a9349e9f6"
   },
   "outputs": [],
   "source": [
    "# 说明：通过 Literal 收紧取值范围（仍然是类型提示，运行时不强制）\n",
    "# 这里将 mood 限定为 \"happy\" 或 \"sad\"，便于 IDE/静态检查提前发现潜在问题\n",
    "from typing import Literal\n",
    "\n",
    "class TypedDictState(TypedDict):\n",
    "    # 用户名（字符串）\n",
    "    name: str\n",
    "    # 心情（仅允许 \"happy\" 或 \"sad\"）\n",
    "    mood: Literal[\"happy\",\"sad\"]"
   ]
  },
  {
   "cell_type": "markdown",
   "id": "c1a9152d-1728-4a67-9e23-1ef622525047",
   "metadata": {
    "id": "c1a9152d-1728-4a67-9e23-1ef622525047"
   },
   "source": [
    "在 LangGraph 中，我们可以将定义好的状态类（例如这里的 `TypedDictState`）直接传入 `StateGraph` 使用。\n",
    "\n",
    "可以将每个状态键理解为图中的一条“通道（channel）”。\n",
    "\n",
    "正如模块 1 所述：在每个节点中，我们会覆盖指定键（即通道）的值。"
   ]
  },
  {
   "cell_type": "code",
   "execution_count": null,
   "id": "2f7a0d6d-f70b-44ed-86e3-7cdb39873ba4",
   "metadata": {
    "colab": {
     "base_uri": "https://localhost:8080/",
     "height": 350
    },
    "id": "2f7a0d6d-f70b-44ed-86e3-7cdb39873ba4",
    "outputId": "7b70e4d9-e9df-4ab2-ed04-c51d31665325"
   },
   "outputs": [
    {
     "data": {
      "image/png": "[encoded data removed]",
      "text/plain": [
       "<IPython.core.display.Image object>"
      ]
     },
     "metadata": {},
     "output_type": "display_data"
    }
   ],
   "source": [
    "# 演示：使用 TypedDictState 作为图的“状态模式”\n",
    "# - 每个节点（node）返回一个子字典来“覆盖”对应的状态键（通道）\n",
    "# - 这里有 3 个节点：node_1 修改 name；node_2/3 设置 mood\n",
    "# - 通过条件边（conditional edges）在 node_2 与 node_3 之间二选一\n",
    "import random\n",
    "from IPython.display import Image, display\n",
    "from langgraph.graph import StateGraph, START, END\n",
    "\n",
    "# 节点函数约定：输入是当前聚合后的 state，返回需要更新的键值对\n",
    "# 注意：即便 state 是 TypedDict，节点返回值依旧是普通 dict（LangGraph 会按键合并）\n",
    "def node_1(state):\n",
    "    print(\"---Node 1---\")\n",
    "    return {\"name\": state['name'] + \" is ... \"}\n",
    "\n",
    "# 固定将 mood 置为 \"happy\"\n",
    "def node_2(state):\n",
    "    print(\"---Node 2---\")\n",
    "    return {\"mood\": \"happy\"}\n",
    "\n",
    "# 固定将 mood 置为 \"sad\"\n",
    "def node_3(state):\n",
    "    print(\"---Node 3---\")\n",
    "    return {\"mood\": \"sad\"}\n",
    "\n",
    "# 路由函数：根据当前 state 决定下一步走向哪个节点\n",
    "# 返回值必须是已有节点名之一\n",
    "from typing import Literal\n",
    "\n",
    "def decide_mood(state) -> Literal[\"node_2\", \"node_3\"]:\n",
    "    # 这里做一个 50/50 的随机分流，用于演示条件边\n",
    "    if random.random() < 0.5:\n",
    "        return \"node_2\"  # 50% 进入 node_2\n",
    "    return \"node_3\"      # 50% 进入 node_3\n",
    "\n",
    "# 构建图（绑定状态模式）\n",
    "builder = StateGraph(TypedDictState)\n",
    "# 注册节点\n",
    "builder.add_node(\"node_1\", node_1)\n",
    "builder.add_node(\"node_2\", node_2)\n",
    "builder.add_node(\"node_3\", node_3)\n",
    "\n",
    "# 配置边：从 START 到 node_1，然后按条件分流到 node_2 或 node_3，最后到 END\n",
    "builder.add_edge(START, \"node_1\")\n",
    "builder.add_conditional_edges(\"node_1\", decide_mood)\n",
    "builder.add_edge(\"node_2\", END)\n",
    "builder.add_edge(\"node_3\", END)\n",
    "\n",
    "# 编译得到可执行的图\n",
    "graph = builder.compile()\n",
    "\n",
    "# 可视化图结构（Mermaid 渲染）\n",
    "display(Image(graph.get_graph().draw_mermaid_png()))"
   ]
  },
  {
   "cell_type": "markdown",
   "id": "724bb640-2b0e-46c1-9416-b5bcdb9c17c8",
   "metadata": {
    "id": "724bb640-2b0e-46c1-9416-b5bcdb9c17c8"
   },
   "source": [
    "由于此处的状态是字典，我们可以直接以字典形式调用图，为状态中的 `name` 键设置初始值。"
   ]
  },
  {
   "cell_type": "code",
   "execution_count": null,
   "id": "74e09d32-6a08-4250-b19a-1f701828829d",
   "metadata": {
    "colab": {
     "base_uri": "https://localhost:8080/"
    },
    "id": "74e09d32-6a08-4250-b19a-1f701828829d",
    "outputId": "880d6cb6-a8c3-4970-d508-8c8c0adadeb0"
   },
   "outputs": [
    {
     "name": "stdout",
     "output_type": "stream",
     "text": [
      "---Node 1---\n",
      "---Node 2---\n"
     ]
    },
    {
     "data": {
      "text/plain": [
       "{'name': 'Lance is ... ', 'mood': 'happy'}"
      ]
     },
     "execution_count": 6,
     "metadata": {},
     "output_type": "execute_result"
    }
   ],
   "source": [
    "# 调用：传入初始状态（dict 形式），只需给出需要初始化的键\n",
    "# 这里仅初始化 name；mood 将由后续节点写入\n",
    "graph.invoke({\"name\":\"Lance\"})"
   ]
  },
  {
   "cell_type": "markdown",
   "id": "70cc5368-18b8-49c7-b561-41888b092311",
   "metadata": {
    "id": "70cc5368-18b8-49c7-b561-41888b092311"
   },
   "source": [
    "## Dataclass（数据类）\n",
    "\n",
    "Python 的 [dataclasses](https://docs.python.org/3/library/dataclasses.html) 提供了[另一种定义结构化数据的方式](https://www.datacamp.com/tutorial/python-data-classes)。\n",
    "\n",
    "Dataclass 提供简洁语法，适用于主要用于存放数据的类的定义。"
   ]
  },
  {
   "cell_type": "code",
   "execution_count": null,
   "id": "d576fc2c-350b-42ad-89e5-f93ae102dbf8",
   "metadata": {
    "id": "d576fc2c-350b-42ad-89e5-f93ae102dbf8"
   },
   "outputs": [],
   "source": [
    "# 说明：使用 dataclasses 定义状态模式\n",
    "# 提示：dataclass 一样只提供类型提示，运行时不强制校验\n",
    "# 区别：访问键的方式从 state[\"name\"] 变为 state.name\n",
    "from dataclasses import dataclass\n",
    "from typing import Literal\n",
    "\n",
    "@dataclass\n",
    "class DataclassState:\n",
    "    # 用户名（字符串）\n",
    "    name: str\n",
    "    # 心情（仅允许 \"happy\" 或 \"sad\" 的类型提示）\n",
    "    mood: Literal[\"happy\",\"sad\"]"
   ]
  },
  {
   "cell_type": "markdown",
   "id": "64482b93-3c8f-4a30-925f-9be64e4b8b6f",
   "metadata": {
    "id": "64482b93-3c8f-4a30-925f-9be64e4b8b6f"
   },
   "source": [
    "要访问 `dataclass` 的字段，只需调整 `node_1` 中访问的方式：\n",
    "\n",
    "- `dataclass` 状态使用 `state.name`，而前面的 `TypedDict` 使用 `state[\"name\"]`\n",
    "\n",
    "你可能会觉得奇怪：在每个节点中，我们依然返回一个普通字典来更新状态。\n",
    "\n",
    "之所以可以这样做，是因为 LangGraph 会将状态对象的每个键单独存储。\n",
    "\n",
    "节点返回的对象只需要包含与状态中键（属性）同名的项即可！\n",
    "\n",
    "在这个例子中，`dataclass` 具有键 `name`，因此我们仍可通过节点返回的 dict 来更新它，这与使用 `TypedDict` 时的做法一致。"
   ]
  },
  {
   "cell_type": "code",
   "execution_count": null,
   "id": "1e1eda69-916f-4f6e-b400-6e65f73d8716",
   "metadata": {
    "colab": {
     "base_uri": "https://localhost:8080/",
     "height": 350
    },
    "id": "1e1eda69-916f-4f6e-b400-6e65f73d8716",
    "outputId": "222d1b60-291a-4379-f7e8-3ec3cc7e226b"
   },
   "outputs": [
    {
     "data": {
      "image/png": "[encoded data removed]",
      "text/plain": [
       "<IPython.core.display.Image object>"
      ]
     },
     "metadata": {},
     "output_type": "display_data"
    }
   ],
   "source": [
    "# 与 TypedDict 版本唯一不同：在节点中以属性访问（state.name）读取值\n",
    "# 返回值仍是普通 dict（按键合并更新）\n",
    "def node_1(state):\n",
    "    print(\"---Node 1---\")\n",
    "    return {\"name\": state.name + \" is ... \"}\n",
    "\n",
    "# 用 dataclass 版本的状态构建图\n",
    "builder = StateGraph(DataclassState)\n",
    "# 其余节点与边的配置复用之前定义的 node_2/node_3/decide_mood\n",
    "builder.add_node(\"node_1\", node_1)\n",
    "builder.add_node(\"node_2\", node_2)\n",
    "builder.add_node(\"node_3\", node_3)\n",
    "\n",
    "# 边关系相同\n",
    "builder.add_edge(START, \"node_1\")\n",
    "builder.add_conditional_edges(\"node_1\", decide_mood)\n",
    "builder.add_edge(\"node_2\", END)\n",
    "builder.add_edge(\"node_3\", END)\n",
    "\n",
    "# 编译\n",
    "graph = builder.compile()\n",
    "\n",
    "# 可视化\n",
    "display(Image(graph.get_graph().draw_mermaid_png()))"
   ]
  },
  {
   "cell_type": "markdown",
   "id": "06beb50a-4878-4d7e-ac6c-d60a0f417eb3",
   "metadata": {
    "id": "06beb50a-4878-4d7e-ac6c-d60a0f417eb3"
   },
   "source": [
    "我们可以直接传入一个 `dataclass` 实例来设置状态中各个键（通道）的初始值！"
   ]
  },
  {
   "cell_type": "code",
   "execution_count": null,
   "id": "8c042325-e93d-43e1-9ac7-a0e20c2fb08d",
   "metadata": {
    "colab": {
     "base_uri": "https://localhost:8080/"
    },
    "id": "8c042325-e93d-43e1-9ac7-a0e20c2fb08d",
    "outputId": "e82861bf-836f-4f1a-fa6f-9045c08cd37c"
   },
   "outputs": [
    {
     "name": "stdout",
     "output_type": "stream",
     "text": [
      "---Node 1---\n",
      "---Node 3---\n"
     ]
    },
    {
     "data": {
      "text/plain": [
       "{'name': 'Lance is ... ', 'mood': 'sad'}"
      ]
     },
     "execution_count": 9,
     "metadata": {},
     "output_type": "execute_result"
    }
   ],
   "source": [
    "# 调用：dataclass 作为初始状态对象，按字段名提供初始值\n",
    "graph.invoke(DataclassState(name=\"Lance\", mood=\"sad\"))"
   ]
  },
  {
   "cell_type": "markdown",
   "id": "2405e49b-e786-4bf9-ac85-1fb941d01bcd",
   "metadata": {
    "id": "2405e49b-e786-4bf9-ac85-1fb941d01bcd"
   },
   "source": [
    "## Pydantic\n",
    "\n",
    "如前所述，`TypedDict` 与 `dataclasses` 仅提供类型提示，并不会在运行时强制类型校验。\n",
    "\n",
    "这意味着即使赋予了非法值，代码也可能不会报错！\n",
    "\n",
    "例如，即便类型提示为 `mood: Literal[\"happy\",\"sad\"]`，你仍然可以将 `mood` 设为 `mad`，这在运行时并不会触发异常。"
   ]
  },
  {
   "cell_type": "code",
   "execution_count": null,
   "id": "522fcc76-abf7-452a-9d7b-000e06942d94",
   "metadata": {
    "id": "522fcc76-abf7-452a-9d7b-000e06942d94"
   },
   "outputs": [],
   "source": [
    "# 演示：dataclass 不做运行时校验，因此这行不会抛错（但与类型提示冲突）\n",
    "# 在大型应用中建议使用运行时校验（例如 Pydantic）保证数据质量\n",
    "dataclass_instance = DataclassState(name=\"Lance\", mood=\"mad\")"
   ]
  },
  {
   "cell_type": "markdown",
   "id": "4f095c3a-96b5-4318-9303-20424b4455e9",
   "metadata": {
    "id": "4f095c3a-96b5-4318-9303-20424b4455e9"
   },
   "source": [
    "[Pydantic](https://docs.pydantic.dev/latest/api/base_model/) 是一个基于 Python 类型注解的数据校验与配置管理库。\n",
    "\n",
    "得益于其强大的校验能力，它非常适合用于 [在 LangGraph 中定义状态模式](https://langchain-ai.github.io/langgraph/how-tos/state-model/)。\n",
    "\n",
    "Pydantic 能在运行时校验数据是否符合指定的类型与约束。"
   ]
  },
  {
   "cell_type": "code",
   "execution_count": null,
   "id": "62e8720e-217f-4b98-837a-af45c3fa577f",
   "metadata": {
    "colab": {
     "base_uri": "https://localhost:8080/"
    },
    "id": "62e8720e-217f-4b98-837a-af45c3fa577f",
    "outputId": "c47e6f6b-e302-4a1b-d712-00c8c754c66e"
   },
   "outputs": [
    {
     "name": "stdout",
     "output_type": "stream",
     "text": [
      "Validation Error: 1 validation error for PydanticState\n",
      "mood\n",
      "  Value error, Each mood must be either 'happy' or 'sad' [type=value_error, input_value='mad', input_type=str]\n",
      "    For further information visit https://errors.pydantic.dev/2.11/v/value_error\n"
     ]
    }
   ],
   "source": [
    "# 说明：使用 Pydantic 定义状态模式（支持运行时校验）\n",
    "# 优点：当输入数据不满足约束时，立即抛出 ValidationError，避免“脏数据”进入系统\n",
    "from pydantic import BaseModel, field_validator, ValidationError\n",
    "\n",
    "class PydanticState(BaseModel):\n",
    "    name: str\n",
    "    mood: str  # 运行时将校验值必须在 {\"happy\", \"sad\"} 内\n",
    "\n",
    "    @field_validator('mood')\n",
    "    @classmethod\n",
    "    def validate_mood(cls, value):\n",
    "        # 运行时校验：确保 mood 只能是 \"happy\" 或 \"sad\"\n",
    "        if value not in [\"happy\", \"sad\"]:\n",
    "            raise ValueError(\"Each mood must be either 'happy' or 'sad'\")\n",
    "        return value\n",
    "\n",
    "# 演示：传入非法值将触发校验异常\n",
    "try:\n",
    "    state = PydanticState(name=\"John Doe\", mood=\"mad\")\n",
    "except ValidationError as e:\n",
    "    print(\"Validation Error:\", e)"
   ]
  },
  {
   "cell_type": "markdown",
   "id": "f29913ca-0295-48eb-af4e-cae515dd9a9c",
   "metadata": {
    "id": "f29913ca-0295-48eb-af4e-cae515dd9a9c"
   },
   "source": [
    "我们可以将 `PydanticState` 无缝用于图中。"
   ]
  },
  {
   "cell_type": "code",
   "execution_count": null,
   "id": "91db3393-b7f8-46e5-8129-0e7539b2804c",
   "metadata": {
    "colab": {
     "base_uri": "https://localhost:8080/",
     "height": 350
    },
    "id": "91db3393-b7f8-46e5-8129-0e7539b2804c",
    "outputId": "e5ad0735-3c2e-4d4c-b0ed-20178389072e"
   },
   "outputs": [
    {
     "data": {
      "image/png": "[encoded data removed]",
      "text/plain": [
       "<IPython.core.display.Image object>"
      ]
     },
     "metadata": {},
     "output_type": "display_data"
    }
   ],
   "source": [
    "# 使用 PydanticState 构建图（其余节点逻辑与前面一致）\n",
    "# 好处：如果某个节点尝试写入非法值，Pydantic 会在运行时报错\n",
    "builder = StateGraph(PydanticState)\n",
    "\n",
    "builder.add_node(\"node_1\", node_1)\n",
    "builder.add_node(\"node_2\", node_2)\n",
    "builder.add_node(\"node_3\", node_3)\n",
    "\n",
    "builder.add_edge(START, \"node_1\")\n",
    "builder.add_conditional_edges(\"node_1\", decide_mood)\n",
    "builder.add_edge(\"node_2\", END)\n",
    "builder.add_edge(\"node_3\", END)\n",
    "\n",
    "# 编译并可视化\n",
    "graph = builder.compile()\n",
    "display(Image(graph.get_graph().draw_mermaid_png()))"
   ]
  },
  {
   "cell_type": "code",
   "execution_count": null,
   "id": "e96c78be-b483-4fa4-949b-62d4274e97ac",
   "metadata": {
    "colab": {
     "base_uri": "https://localhost:8080/"
    },
    "id": "e96c78be-b483-4fa4-949b-62d4274e97ac",
    "outputId": "2a6374e4-238b-4348-ec9b-e9c21bce823e"
   },
   "outputs": [
    {
     "name": "stdout",
     "output_type": "stream",
     "text": [
      "---Node 1---\n",
      "---Node 2---\n"
     ]
    },
    {
     "data": {
      "text/plain": [
       "{'name': 'Lance is ... ', 'mood': 'happy'}"
      ]
     },
     "execution_count": 13,
     "metadata": {},
     "output_type": "execute_result"
    }
   ],
   "source": [
    "# 调用：将 PydanticState 作为初始状态对象传入（若入参非法会报错）\n",
    "graph.invoke(PydanticState(name=\"Lance\", mood=\"sad\"))"
   ]
  },
  {
   "cell_type": "code",
   "execution_count": null,
   "id": "8119232a-7d56-4abc-b0ef-18bf5f0cc9fd",
   "metadata": {
    "id": "8119232a-7d56-4abc-b0ef-18bf5f0cc9fd"
   },
   "outputs": [],
   "source": []
  }
 ],
 "metadata": {
  "colab": {
   "include_colab_link": true,
   "provenance": []
  },
  "kernelspec": {
   "display_name": "Python 3 (ipykernel)",
   "language": "python",
   "name": "python3"
  },
  "language_info": {
   "codemirror_mode": {
    "name": "ipython",
    "version": 3
   },
   "file_extension": ".py",
   "mimetype": "text/x-python",
   "name": "python",
   "nbconvert_exporter": "python",
   "pygments_lexer": "ipython3",
   "version": "3.12.1"
  }
 },
 "nbformat": 4,
 "nbformat_minor": 5
}