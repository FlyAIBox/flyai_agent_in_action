{
 "cells": [
  {
   "cell_type": "markdown",
   "id": "env_config_overview",
   "metadata": {
    "jp-MarkdownHeadingCollapsed": true
   },
   "source": [
    "### 🔧 环境配置和检查\n",
    "\n",
    "#### 概述\n",
    "\n",
    "本教程需要特定的环境配置以确保最佳学习体验。以下配置将帮助您：\n",
    "\n",
    "- 使用统一的conda环境：激活统一的学习环境\n",
    "- 通过国内镜像源快速安装依赖：配置pip使用清华镜像源\n",
    "- 加速模型下载：设置HuggingFace镜像代理\n",
    "- 检查系统配置：检查硬件和软件配置\n",
    "\n",
    "#### 配置\n",
    "\n",
    "- **所需环境及其依赖已经部署好**\n",
    "- 在`Notebook`右上角选择`jupyter内核`为`python(flyai_agent_in_action)`，即可执行下方代码"
   ]
  },
  {
   "cell_type": "code",
   "execution_count": 1,
   "id": "env_conda_activate",
   "metadata": {},
   "outputs": [
    {
     "name": "stdout",
     "output_type": "stream",
     "text": [
      "=========================================\n",
      "== Conda 环境检查报告 (仅针对当前 Bash 子进程) ==\n",
      "=========================================\n",
      "✅ 当前单元格已成功激活到 flyai_agent_in_action 环境。\n",
      "✅ 正在使用的环境路径: /workspace/envs/flyai_agent_in_action\n",
      "\n",
      "💡 提示: 后续的 Python 单元格将使用 Notebook 当前选择的 Jupyter 内核。\n",
      "   如果需要后续单元格也使用此环境，请执行以下操作:\n",
      "   1. 检查 Notebook 右上角是否已选择 'python(flyai_agent_in_action)'。\n",
      "=========================================\n"
     ]
    }
   ],
   "source": [
    "%%script bash\n",
    "\n",
    "# 1. 激活 conda 环境 (仅对当前单元格有效)\n",
    "eval \"$(conda shell.bash hook)\"\n",
    "conda activate flyai_agent_in_action\n",
    "\n",
    "echo \"=========================================\"\n",
    "echo \"== Conda 环境检查报告 (仅针对当前 Bash 子进程) ==\"\n",
    "echo \"=========================================\"\n",
    "\n",
    "# 2. 检查当前激活的环境\n",
    "CURRENT_ENV_NAME=$(basename $CONDA_PREFIX)\n",
    "\n",
    "if [ \"$CURRENT_ENV_NAME\" = \"flyai_agent_in_action\" ]; then\n",
    "    echo \"✅ 当前单元格已成功激活到 flyai_agent_in_action 环境。\"\n",
    "    echo \"✅ 正在使用的环境路径: $CONDA_PREFIX\"\n",
    "    echo \"\"\n",
    "    echo \"💡 提示: 后续的 Python 单元格将使用 Notebook 当前选择的 Jupyter 内核。\"\n",
    "    echo \"   如果需要后续单元格也使用此环境，请执行以下操作:\"\n",
    "    echo \"   1. 检查 Notebook 右上角是否已选择 'python(flyai_agent_in_action)'。\"\n",
    "else\n",
    "    echo \"❌ 激活失败或环境名称不匹配。当前环境: $CURRENT_ENV_NAME\"\n",
    "    echo \"\"\n",
    "    echo \"⚠️ 严重提示: 建议将 Notebook 的 Jupyter **内核 (Kernel)** 切换为 'python(flyai_agent_in_action)'。\"\n",
    "    echo \"   (通常位于 Notebook 右上角或 '内核' 菜单中)\"\n",
    "    echo \"\"\n",
    "    echo \"📚 备用方法 (不推荐): 如果无法切换内核，则必须在**每个**代码单元格的头部重复以下命令:\"\n",
    "    echo \"\"\n",
    "    echo \"%%script bash\"\n",
    "    echo \"# 必须在每个单元格都执行\"\n",
    "    echo \"eval \\\"\\$(conda shell.bash hook)\\\"\"\n",
    "    echo \"conda activate flyai_agent_in_action\"\n",
    "fi\n",
    "\n",
    "echo \"=========================================\" "
   ]
  },
  {
   "cell_type": "code",
   "execution_count": 2,
   "id": "env_pip_config",
   "metadata": {},
   "outputs": [
    {
     "name": "stdout",
     "output_type": "stream",
     "text": [
      "Writing to /root/.config/pip/pip.conf\n",
      "Note: you may need to restart the kernel to use updated packages.\n",
      "global.index-url='https://pypi.tuna.tsinghua.edu.cn/simple'\n",
      ":env:.target=''\n",
      "Note: you may need to restart the kernel to use updated packages.\n"
     ]
    }
   ],
   "source": [
    "# 2. 设置pip 为清华源\n",
    "%pip config set global.index-url https://pypi.tuna.tsinghua.edu.cn/simple\n",
    "%pip config list\n"
   ]
  },
  {
   "cell_type": "code",
   "execution_count": 3,
   "id": "env_hf_proxy",
   "metadata": {},
   "outputs": [
    {
     "name": "stdout",
     "output_type": "stream",
     "text": [
      "env: HF_ENDPOINT=https://hf-mirror.com\n",
      "https://hf-mirror.com\n"
     ]
    }
   ],
   "source": [
    "# 3. 设置HuggingFace代理\n",
    "%env HF_ENDPOINT=https://hf-mirror.com\n",
    "# 验证：使用shell命令检查\n",
    "!echo $HF_ENDPOINT"
   ]
  },
  {
   "cell_type": "code",
   "execution_count": 4,
   "id": "env_system_check",
   "metadata": {},
   "outputs": [
    {
     "name": "stdout",
     "output_type": "stream",
     "text": [
      "Looking in indexes: https://pypi.tuna.tsinghua.edu.cn/simple\n",
      "Requirement already satisfied: pandas==2.2.2 in /workspace/envs/flyai_agent_in_action/lib/python3.12/site-packages (2.2.2)\n",
      "Requirement already satisfied: tabulate==0.9.0 in /workspace/envs/flyai_agent_in_action/lib/python3.12/site-packages (0.9.0)\n",
      "Requirement already satisfied: numpy>=1.26.0 in /workspace/envs/flyai_agent_in_action/lib/python3.12/site-packages (from pandas==2.2.2) (2.3.3)\n",
      "Requirement already satisfied: python-dateutil>=2.8.2 in /workspace/envs/flyai_agent_in_action/lib/python3.12/site-packages (from pandas==2.2.2) (2.9.0.post0)\n",
      "Requirement already satisfied: pytz>=2020.1 in /workspace/envs/flyai_agent_in_action/lib/python3.12/site-packages (from pandas==2.2.2) (2025.2)\n",
      "Requirement already satisfied: tzdata>=2022.7 in /workspace/envs/flyai_agent_in_action/lib/python3.12/site-packages (from pandas==2.2.2) (2025.2)\n",
      "Requirement already satisfied: six>=1.5 in /workspace/envs/flyai_agent_in_action/lib/python3.12/site-packages (from python-dateutil>=2.8.2->pandas==2.2.2) (1.17.0)\n",
      "\u001b[33mWARNING: Running pip as the 'root' user can result in broken permissions and conflicting behaviour with the system package manager, possibly rendering your system unusable. It is recommended to use a virtual environment instead: https://pip.pypa.io/warnings/venv. Use the --root-user-action option if you know what you are doing and want to suppress this warning.\u001b[0m\u001b[33m\n",
      "\u001b[0mNote: you may need to restart the kernel to use updated packages.\n",
      "### 环境信息\n",
      "| 项目         | 信息                                                                  |\n",
      "|:-------------|:----------------------------------------------------------------------|\n",
      "| 操作系统     | Linux 5.15.0-126-generic                                              |\n",
      "| CPU 信息     | Intel(R) Xeon(R) Platinum 8468 (48 physical cores, 192 logical cores) |\n",
      "| 内存信息     | 2015.36 GB (Available: 1867.16 GB)                                    |\n",
      "| GPU 信息     | No GPU found (checked nvidia-smi, lshw not found)                     |\n",
      "| CUDA 信息    | 12.6                                                                  |\n",
      "| Python 版本  | 3.12.11                                                               |\n",
      "| Conda 版本   | conda 25.7.0                                                          |\n",
      "| 物理磁盘空间 | Total: 2014.78 GB, Used: 788.88 GB, Free: 1123.48 GB                  |\n"
     ]
    }
   ],
   "source": [
    "# 🔍 环境信息检查脚本\n",
    "#\n",
    "# 本脚本的作用：\n",
    "# 1. 安装 pandas 库用于数据表格展示\n",
    "# 2. 检查系统的各项配置信息\n",
    "# 3. 生成详细的环境报告表格\n",
    "#\n",
    "# 对于初学者来说，这个步骤帮助您：\n",
    "# - 了解当前运行环境的硬件配置\n",
    "# - 确认是否满足模型运行的最低要求\n",
    "# - 学习如何通过代码获取系统信息\n",
    "\n",
    "# 安装 pandas 库 - 用于创建和展示数据表格\n",
    "# pandas 是 Python 中最流行的数据处理和分析库\n",
    "%pip install pandas==2.2.2 tabulate==0.9.0\n",
    "\n",
    "import platform # 导入 platform 模块以获取系统信息\n",
    "import os # 导入 os 模块以与操作系统交互\n",
    "import subprocess # 导入 subprocess 模块以运行外部命令\n",
    "import pandas as pd # 导入 pandas 模块，通常用于数据处理，这里用于创建表格\n",
    "import shutil # 导入 shutil 模块以获取磁盘空间信息\n",
    "\n",
    "# 获取 CPU 信息的函数，包括核心数量\n",
    "def get_cpu_info():\n",
    "    cpu_info = \"\" # 初始化 CPU 信息字符串\n",
    "    physical_cores = \"N/A\"\n",
    "    logical_cores = \"N/A\"\n",
    "\n",
    "    if platform.system() == \"Windows\": # 如果是 Windows 系统\n",
    "        cpu_info = platform.processor() # 使用 platform.processor() 获取 CPU 信息\n",
    "        try:\n",
    "            # 获取 Windows 上的核心数量 (需要 WMI)\n",
    "            import wmi\n",
    "            c = wmi.WMI()\n",
    "            for proc in c.Win32_Processor():\n",
    "                physical_cores = proc.NumberOfCores\n",
    "                logical_cores = proc.NumberOfLogicalProcessors\n",
    "        except:\n",
    "            pass # 如果 WMI 不可用，忽略错误\n",
    "\n",
    "    elif platform.system() == \"Darwin\": # 如果是 macOS 系统\n",
    "        # 在 macOS 上使用 sysctl 命令获取 CPU 信息和核心数量\n",
    "        os.environ['PATH'] = os.environ['PATH'] + os.pathsep + '/usr/sbin' # 更新 PATH 环境变量\n",
    "        try:\n",
    "            process_brand = subprocess.Popen(['sysctl', \"machdep.cpu.brand_string\"], stdout=subprocess.PIPE, stderr=subprocess.PIPE)\n",
    "            stdout_brand, stderr_brand = process_brand.communicate()\n",
    "            cpu_info = stdout_brand.decode().split(': ')[1].strip() if stdout_brand else \"Could not retrieve CPU info\"\n",
    "\n",
    "            process_physical = subprocess.Popen(['sysctl', \"hw.physicalcpu\"], stdout=subprocess.PIPE, stderr=subprocess.PIPE)\n",
    "            stdout_physical, stderr_physical = process_physical.communicate()\n",
    "            physical_cores = stdout_physical.decode().split(': ')[1].strip() if stdout_physical else \"N/A\"\n",
    "\n",
    "            process_logical = subprocess.Popen(['sysctl', \"hw.logicalcpu\"], stdout=subprocess.PIPE, stderr=subprocess.PIPE)\n",
    "            stdout_logical, stderr_logical = process_logical.communicate()\n",
    "            logical_cores = stdout_logical.decode().split(': ')[1].strip() if stdout_logical else \"N/A\"\n",
    "\n",
    "        except:\n",
    "            cpu_info = \"Could not retrieve CPU info\"\n",
    "            physical_cores = \"N/A\"\n",
    "            logical_cores = \"N/A\"\n",
    "\n",
    "    else:  # Linux 系统\n",
    "        try:\n",
    "            # 在 Linux 上读取 /proc/cpuinfo 文件获取 CPU 信息和核心数量\n",
    "            with open('/proc/cpuinfo') as f:\n",
    "                physical_cores_count = 0\n",
    "                logical_cores_count = 0\n",
    "                cpu_info_lines = []\n",
    "                for line in f:\n",
    "                    if line.startswith('model name'): # 查找以 'model name'开头的行\n",
    "                        if not cpu_info: # 只获取第一个 model name\n",
    "                            cpu_info = line.split(': ')[1].strip()\n",
    "                    elif line.startswith('cpu cores'): # 查找以 'cpu cores' 开头的行\n",
    "                        physical_cores_count = int(line.split(': ')[1].strip())\n",
    "                    elif line.startswith('processor'): # 查找以 'processor' 开头的行\n",
    "                        logical_cores_count += 1\n",
    "                physical_cores = str(physical_cores_count) if physical_cores_count > 0 else \"N/A\"\n",
    "                logical_cores = str(logical_cores_count) if logical_cores_count > 0 else \"N/A\"\n",
    "                if not cpu_info:\n",
    "                     cpu_info = \"Could not retrieve CPU info\"\n",
    "\n",
    "        except:\n",
    "            cpu_info = \"Could not retrieve CPU info\"\n",
    "            physical_cores = \"N/A\"\n",
    "            logical_cores = \"N/A\"\n",
    "\n",
    "    return f\"{cpu_info} ({physical_cores} physical cores, {logical_cores} logical cores)\" # 返回 CPU 信息和核心数量\n",
    "\n",
    "\n",
    "# 获取内存信息的函数\n",
    "def get_memory_info():\n",
    "    mem_info = \"\" # 初始化内存信息字符串\n",
    "    if platform.system() == \"Windows\":\n",
    "        # 在 Windows 上不容易通过标准库获取，需要外部库或 PowerShell\n",
    "        mem_info = \"Requires external tools on Windows\" # 设置提示信息\n",
    "    elif platform.system() == \"Darwin\": # 如果是 macOS 系统\n",
    "        # 在 macOS 上使用 sysctl 命令获取内存大小\n",
    "        process = subprocess.Popen(['sysctl', \"hw.memsize\"], stdout=subprocess.PIPE, stderr=subprocess.PIPE) # 运行 sysctl 命令\n",
    "        stdout, stderr = process.communicate() # 获取标准输出和标准错误\n",
    "        mem_bytes = int(stdout.decode().split(': ')[1].strip()) # 解析输出，获取内存大小（字节）\n",
    "        mem_gb = mem_bytes / (1024**3) # 转换为 GB\n",
    "        mem_info = f\"{mem_gb:.2f} GB\" # 格式化输出\n",
    "    else:  # Linux 系统\n",
    "        try:\n",
    "            # 在 Linux 上读取 /proc/meminfo 文件获取内存信息\n",
    "            with open('/proc/meminfo') as f:\n",
    "                total_mem_kb = 0\n",
    "                available_mem_kb = 0\n",
    "                for line in f:\n",
    "                    if line.startswith('MemTotal'): # 查找以 'MemTotal' 开头的行\n",
    "                        total_mem_kb = int(line.split(':')[1].strip().split()[0]) # 解析行，获取总内存（KB）\n",
    "                    elif line.startswith('MemAvailable'): # 查找以 'MemAvailable' 开头的行\n",
    "                         available_mem_kb = int(line.split(':')[1].strip().split()[0]) # 解析行，获取可用内存（KB）\n",
    "\n",
    "                if total_mem_kb > 0:\n",
    "                    total_mem_gb = total_mem_kb / (1024**2) # 转换为 GB\n",
    "                    mem_info = f\"{total_mem_gb:.2f} GB\" # 格式化输出总内存\n",
    "                    if available_mem_kb > 0:\n",
    "                        available_mem_gb = available_mem_kb / (1024**2)\n",
    "                        mem_info += f\" (Available: {available_mem_gb:.2f} GB)\" # 添加可用内存信息\n",
    "                else:\n",
    "                     mem_info = \"Could not retrieve memory info\" # 如果读取文件出错，设置错误信息\n",
    "\n",
    "        except:\n",
    "            mem_info = \"Could not retrieve memory info\" # 如果读取文件出错，设置错误信息\n",
    "    return mem_info # 返回内存信息\n",
    "\n",
    "# 获取 GPU 信息的函数，包括显存\n",
    "def get_gpu_info():\n",
    "    try:\n",
    "        # 尝试使用 nvidia-smi 获取 NVIDIA GPU 信息和显存\n",
    "        result = subprocess.run(['nvidia-smi', '--query-gpu=name,memory.total', '--format=csv,noheader'], capture_output=True, text=True)\n",
    "        if result.returncode == 0: # 如果命令成功执行\n",
    "            gpu_lines = result.stdout.strip().split('\\n') # 解析输出，获取 GPU 名称和显存\n",
    "            gpu_info_list = []\n",
    "            for line in gpu_lines:\n",
    "                name, memory = line.split(', ')\n",
    "                gpu_info_list.append(f\"{name} ({memory})\") # 格式化 GPU 信息\n",
    "            return \", \".join(gpu_info_list) if gpu_info_list else \"NVIDIA GPU found, but info not listed\" # 返回 GPU 信息或提示信息\n",
    "        else:\n",
    "             # 尝试使用 lshw 获取其他 GPU 信息 (需要安装 lshw)\n",
    "            try:\n",
    "                result_lshw = subprocess.run(['lshw', '-C', 'display'], capture_output=True, text=True)\n",
    "                if result_lshw.returncode == 0: # 如果命令成功执行\n",
    "                     # 简单解析输出中的 product 名称和显存\n",
    "                    gpu_info_lines = []\n",
    "                    current_gpu = {}\n",
    "                    for line in result_lshw.stdout.splitlines():\n",
    "                        if 'product:' in line:\n",
    "                             if current_gpu:\n",
    "                                 gpu_info_lines.append(f\"{current_gpu.get('product', 'GPU')} ({current_gpu.get('memory', 'N/A')})\")\n",
    "                             current_gpu = {'product': line.split('product:')[1].strip()}\n",
    "                        elif 'size:' in line and 'memory' in line:\n",
    "                             current_gpu['memory'] = line.split('size:')[1].strip()\n",
    "\n",
    "                    if current_gpu: # 添加最后一个 GPU 的信息\n",
    "                        gpu_info_lines.append(f\"{current_gpu.get('product', 'GPU')} ({current_gpu.get('memory', 'N/A')})\")\n",
    "\n",
    "                    return \", \".join(gpu_info_lines) if gpu_info_lines else \"GPU found (via lshw), but info not parsed\" # 如果找到 GPU 但信息无法解析，设置提示信息\n",
    "                else:\n",
    "                    return \"No GPU found (checked nvidia-smi and lshw)\" # 如果两个命令都找不到 GPU，设置提示信息\n",
    "            except FileNotFoundError:\n",
    "                 return \"No GPU found (checked nvidia-smi, lshw not found)\" # 如果找不到 lshw 命令，设置提示信息\n",
    "    except FileNotFoundError:\n",
    "        return \"No GPU found (nvidia-smi not found)\" # 如果找不到 nvidia-smi 命令，设置提示信息\n",
    "\n",
    "\n",
    "# 获取 CUDA 版本的函数\n",
    "def get_cuda_version():\n",
    "    try:\n",
    "        # 尝试使用 nvcc --version 获取 CUDA 版本\n",
    "        result = subprocess.run(['nvcc', '--version'], capture_output=True, text=True)\n",
    "        if result.returncode == 0: # 如果命令成功执行\n",
    "            for line in result.stdout.splitlines():\n",
    "                if 'release' in line: # 查找包含 'release' 的行\n",
    "                    return line.split('release ')[1].split(',')[0] # 解析行，提取版本号\n",
    "        return \"CUDA not found or version not parsed\" # 如果找不到 CUDA 或版本无法解析，设置提示信息\n",
    "    except FileNotFoundError:\n",
    "        return \"CUDA not found\" # 如果找不到 nvcc 命令，设置提示信息\n",
    "\n",
    "# 获取 Python 版本的函数\n",
    "def get_python_version():\n",
    "    return platform.python_version() # 获取 Python 版本\n",
    "\n",
    "# 获取 Conda 版本的函数\n",
    "def get_conda_version():\n",
    "    try:\n",
    "        # 尝试使用 conda --version 获取 Conda 版本\n",
    "        result = subprocess.run(['conda', '--version'], capture_output=True, text=True)\n",
    "        if result.returncode == 0: # 如果命令成功执行\n",
    "            return result.stdout.strip() # 返回 Conda 版本\n",
    "        return \"Conda not found or version not parsed\" # 如果找不到 Conda 或版本无法解析，设置提示信息\n",
    "    except FileNotFoundError:\n",
    "        return \"Conda not found\" # 如果找不到 conda 命令，设置提示信息\n",
    "\n",
    "# 获取物理磁盘空间信息的函数\n",
    "def get_disk_space():\n",
    "    try:\n",
    "        total, used, free = shutil.disk_usage(\"/\") # 获取根目录的磁盘使用情况\n",
    "        total_gb = total / (1024**3) # 转换为 GB\n",
    "        used_gb = used / (1024**3) # 转换为 GB\n",
    "        free_gb = free / (1024**3) # 转换为 GB\n",
    "        return f\"Total: {total_gb:.2f} GB, Used: {used_gb:.2f} GB, Free: {free_gb:.2f} GB\" # 格式化输出\n",
    "    except Exception as e:\n",
    "        return f\"Could not retrieve disk info: {e}\" # 如果获取信息出错，设置错误信息\n",
    "\n",
    "# 获取环境信息\n",
    "os_name = platform.system() # 获取操作系统名称\n",
    "os_version = platform.release() # 获取操作系统版本\n",
    "if os_name == \"Linux\":\n",
    "    try:\n",
    "        # 在 Linux 上尝试获取发行版和版本\n",
    "        lsb_info = subprocess.run(['lsb_release', '-a'], capture_output=True, text=True)\n",
    "        if lsb_info.returncode == 0: # 如果命令成功执行\n",
    "            for line in lsb_info.stdout.splitlines():\n",
    "                if 'Description:' in line: # 查找包含 'Description:' 的行\n",
    "                    os_version = line.split('Description:')[1].strip() # 提取描述信息作为版本\n",
    "                    break # 找到后退出循环\n",
    "                elif 'Release:' in line: # 查找包含 'Release:' 的行\n",
    "                     os_version = line.split('Release:')[1].strip() # 提取版本号\n",
    "                     # 尝试获取 codename\n",
    "                     try:\n",
    "                         codename_info = subprocess.run(['lsb_release', '-c'], capture_output=True, text=True)\n",
    "                         if codename_info.returncode == 0:\n",
    "                             os_version += f\" ({codename_info.stdout.split(':')[1].strip()})\" # 将 codename 添加到版本信息中\n",
    "                     except:\n",
    "                         pass # 如果获取 codename 失败则忽略\n",
    "\n",
    "    except FileNotFoundError:\n",
    "        pass # lsb_release 可能未安装，忽略错误\n",
    "\n",
    "full_os_info = f\"{os_name} {os_version}\" # 组合完整的操作系统信息\n",
    "cpu_info = get_cpu_info() # 调用函数获取 CPU 信息和核心数量\n",
    "memory_info = get_memory_info() # 调用函数获取内存信息\n",
    "gpu_info = get_gpu_info() # 调用函数获取 GPU 信息和显存\n",
    "cuda_version = get_cuda_version() # 调用函数获取 CUDA 版本\n",
    "python_version = get_python_version() # 调用函数获取 Python 版本\n",
    "conda_version = get_conda_version() # 调用函数获取 Conda 版本\n",
    "disk_info = get_disk_space() # 调用函数获取物理磁盘空间信息\n",
    "\n",
    "\n",
    "# 创建用于存储数据的字典\n",
    "env_data = {\n",
    "    \"项目\": [ # 项目名称列表\n",
    "        \"操作系统\",\n",
    "        \"CPU 信息\",\n",
    "        \"内存信息\",\n",
    "        \"GPU 信息\",\n",
    "        \"CUDA 信息\",\n",
    "        \"Python 版本\",\n",
    "        \"Conda 版本\",\n",
    "        \"物理磁盘空间\" # 添加物理磁盘空间\n",
    "    ],\n",
    "    \"信息\": [ # 对应的信息列表\n",
    "        full_os_info,\n",
    "        cpu_info,\n",
    "        memory_info,\n",
    "        gpu_info,\n",
    "        cuda_version,\n",
    "        python_version,\n",
    "        conda_version,\n",
    "        disk_info # 添加物理磁盘空间信息\n",
    "    ]\n",
    "}\n",
    "\n",
    "# 创建一个 pandas DataFrame\n",
    "df = pd.DataFrame(env_data)\n",
    "\n",
    "# 打印表格\n",
    "print(\"### 环境信息\") # 打印标题\n",
    "print(df.to_markdown(index=False)) # 将 DataFrame 转换为 Markdown 格式并打印，不包含索引\n"
   ]
  },
  {
   "cell_type": "markdown",
   "id": "b7ae0ff7-497d-4c31-a57a-00fe92799232",
   "metadata": {
    "id": "b7ae0ff7-497d-4c31-a57a-00fe92799232"
   },
   "source": [
    "# 状态归约器（State Reducers）\n",
    "\n",
    "## 回顾\n",
    "\n",
    "我们已经学习了在 LangGraph 中定义状态（state）模式的几种方式：`TypedDict`、`Pydantic`、以及 `Dataclasses`。\n",
    "\n",
    "## 学习目标\n",
    "\n",
    "本节将系统讲解“归约器（reducer）”的概念与用法。Reducer 用于指定：**当多个节点对同一状态键（或通道）进行更新时，图应如何对这些更新进行合并，从而生成一致且可预期的最终状态。** 面向初学者的理解要点是：节点总是返回“增量状态”，reducer 负责把这些增量按既定规则整合到全局状态中。"
   ]
  },
  {
   "cell_type": "code",
   "execution_count": 5,
   "id": "398c5e8e-641f-4be6-b1e8-7531f86bd2e9",
   "metadata": {
    "id": "398c5e8e-641f-4be6-b1e8-7531f86bd2e9"
   },
   "outputs": [
    {
     "name": "stdout",
     "output_type": "stream",
     "text": [
      "Looking in indexes: https://pypi.tuna.tsinghua.edu.cn/simple\n",
      "Requirement already satisfied: langgraph==0.6.7 in /workspace/envs/flyai_agent_in_action/lib/python3.12/site-packages (0.6.7)\n",
      "Requirement already satisfied: langchain_core==0.3.75 in /workspace/envs/flyai_agent_in_action/lib/python3.12/site-packages (0.3.75)\n",
      "Requirement already satisfied: langgraph-checkpoint<3.0.0,>=2.1.0 in /workspace/envs/flyai_agent_in_action/lib/python3.12/site-packages (from langgraph==0.6.7) (2.1.1)\n",
      "Requirement already satisfied: langgraph-prebuilt<0.7.0,>=0.6.0 in /workspace/envs/flyai_agent_in_action/lib/python3.12/site-packages (from langgraph==0.6.7) (0.6.4)\n",
      "Requirement already satisfied: langgraph-sdk<0.3.0,>=0.2.2 in /workspace/envs/flyai_agent_in_action/lib/python3.12/site-packages (from langgraph==0.6.7) (0.2.6)\n",
      "Requirement already satisfied: pydantic>=2.7.4 in /workspace/envs/flyai_agent_in_action/lib/python3.12/site-packages (from langgraph==0.6.7) (2.11.9)\n",
      "Requirement already satisfied: xxhash>=3.5.0 in /workspace/envs/flyai_agent_in_action/lib/python3.12/site-packages (from langgraph==0.6.7) (3.6.0)\n",
      "Requirement already satisfied: langsmith>=0.3.45 in /workspace/envs/flyai_agent_in_action/lib/python3.12/site-packages (from langchain_core==0.3.75) (0.4.31)\n",
      "Requirement already satisfied: tenacity!=8.4.0,<10.0.0,>=8.1.0 in /workspace/envs/flyai_agent_in_action/lib/python3.12/site-packages (from langchain_core==0.3.75) (9.1.2)\n",
      "Requirement already satisfied: jsonpatch<2.0,>=1.33 in /workspace/envs/flyai_agent_in_action/lib/python3.12/site-packages (from langchain_core==0.3.75) (1.33)\n",
      "Requirement already satisfied: PyYAML>=5.3 in /workspace/envs/flyai_agent_in_action/lib/python3.12/site-packages (from langchain_core==0.3.75) (6.0.3)\n",
      "Requirement already satisfied: typing-extensions>=4.7 in /workspace/envs/flyai_agent_in_action/lib/python3.12/site-packages (from langchain_core==0.3.75) (4.14.1)\n",
      "Requirement already satisfied: packaging>=23.2 in /workspace/envs/flyai_agent_in_action/lib/python3.12/site-packages (from langchain_core==0.3.75) (25.0)\n",
      "Requirement already satisfied: jsonpointer>=1.9 in /workspace/envs/flyai_agent_in_action/lib/python3.12/site-packages (from jsonpatch<2.0,>=1.33->langchain_core==0.3.75) (3.0.0)\n",
      "Requirement already satisfied: ormsgpack>=1.10.0 in /workspace/envs/flyai_agent_in_action/lib/python3.12/site-packages (from langgraph-checkpoint<3.0.0,>=2.1.0->langgraph==0.6.7) (1.10.0)\n",
      "Requirement already satisfied: httpx>=0.25.2 in /workspace/envs/flyai_agent_in_action/lib/python3.12/site-packages (from langgraph-sdk<0.3.0,>=0.2.2->langgraph==0.6.7) (0.28.1)\n",
      "Requirement already satisfied: orjson>=3.10.1 in /workspace/envs/flyai_agent_in_action/lib/python3.12/site-packages (from langgraph-sdk<0.3.0,>=0.2.2->langgraph==0.6.7) (3.11.3)\n",
      "Requirement already satisfied: anyio in /workspace/envs/flyai_agent_in_action/lib/python3.12/site-packages (from httpx>=0.25.2->langgraph-sdk<0.3.0,>=0.2.2->langgraph==0.6.7) (4.11.0)\n",
      "Requirement already satisfied: certifi in /workspace/envs/flyai_agent_in_action/lib/python3.12/site-packages (from httpx>=0.25.2->langgraph-sdk<0.3.0,>=0.2.2->langgraph==0.6.7) (2025.8.3)\n",
      "Requirement already satisfied: httpcore==1.* in /workspace/envs/flyai_agent_in_action/lib/python3.12/site-packages (from httpx>=0.25.2->langgraph-sdk<0.3.0,>=0.2.2->langgraph==0.6.7) (1.0.9)\n",
      "Requirement already satisfied: idna in /workspace/envs/flyai_agent_in_action/lib/python3.12/site-packages (from httpx>=0.25.2->langgraph-sdk<0.3.0,>=0.2.2->langgraph==0.6.7) (3.10)\n",
      "Requirement already satisfied: h11>=0.16 in /workspace/envs/flyai_agent_in_action/lib/python3.12/site-packages (from httpcore==1.*->httpx>=0.25.2->langgraph-sdk<0.3.0,>=0.2.2->langgraph==0.6.7) (0.16.0)\n",
      "Requirement already satisfied: requests-toolbelt>=1.0.0 in /workspace/envs/flyai_agent_in_action/lib/python3.12/site-packages (from langsmith>=0.3.45->langchain_core==0.3.75) (1.0.0)\n",
      "Requirement already satisfied: requests>=2.0.0 in /workspace/envs/flyai_agent_in_action/lib/python3.12/site-packages (from langsmith>=0.3.45->langchain_core==0.3.75) (2.32.5)\n",
      "Requirement already satisfied: zstandard>=0.23.0 in /workspace/envs/flyai_agent_in_action/lib/python3.12/site-packages (from langsmith>=0.3.45->langchain_core==0.3.75) (0.25.0)\n",
      "Requirement already satisfied: annotated-types>=0.6.0 in /workspace/envs/flyai_agent_in_action/lib/python3.12/site-packages (from pydantic>=2.7.4->langgraph==0.6.7) (0.7.0)\n",
      "Requirement already satisfied: pydantic-core==2.33.2 in /workspace/envs/flyai_agent_in_action/lib/python3.12/site-packages (from pydantic>=2.7.4->langgraph==0.6.7) (2.33.2)\n",
      "Requirement already satisfied: typing-inspection>=0.4.0 in /workspace/envs/flyai_agent_in_action/lib/python3.12/site-packages (from pydantic>=2.7.4->langgraph==0.6.7) (0.4.2)\n",
      "Requirement already satisfied: charset_normalizer<4,>=2 in /workspace/envs/flyai_agent_in_action/lib/python3.12/site-packages (from requests>=2.0.0->langsmith>=0.3.45->langchain_core==0.3.75) (3.4.3)\n",
      "Requirement already satisfied: urllib3<3,>=1.21.1 in /workspace/envs/flyai_agent_in_action/lib/python3.12/site-packages (from requests>=2.0.0->langsmith>=0.3.45->langchain_core==0.3.75) (2.5.0)\n",
      "Requirement already satisfied: sniffio>=1.1 in /workspace/envs/flyai_agent_in_action/lib/python3.12/site-packages (from anyio->httpx>=0.25.2->langgraph-sdk<0.3.0,>=0.2.2->langgraph==0.6.7) (1.3.1)\n",
      "\u001b[33mWARNING: Running pip as the 'root' user can result in broken permissions and conflicting behaviour with the system package manager, possibly rendering your system unusable. It is recommended to use a virtual environment instead: https://pip.pypa.io/warnings/venv. Use the --root-user-action option if you know what you are doing and want to suppress this warning.\u001b[0m\u001b[33m\n",
      "\u001b[0mNote: you may need to restart the kernel to use updated packages.\n"
     ]
    }
   ],
   "source": [
    "# %%capture --no-stderr\n",
    "# %pip install --quiet -U langchain_core langgraph\n",
    "%pip install langgraph==0.6.7 langchain_core==0.3.75"
   ]
  },
  {
   "cell_type": "markdown",
   "id": "4d5bd534-c5be-48fe-91bc-af39ebee76b7",
   "metadata": {
    "id": "4d5bd534-c5be-48fe-91bc-af39ebee76b7"
   },
   "source": [
    "## 默认的“覆盖式”更新\n",
    "\n",
    "下面用 `TypedDict` 来定义状态结构，演示默认的更新策略：如果未指定 reducer，后写入的值将覆盖同名键的先前值。"
   ]
  },
  {
   "cell_type": "code",
   "execution_count": 6,
   "id": "64e2438c-9353-4256-bc3c-1bb830374c0b",
   "metadata": {
    "colab": {
     "base_uri": "https://localhost:8080/",
     "height": 251
    },
    "id": "64e2438c-9353-4256-bc3c-1bb830374c0b",
    "outputId": "2b2fd1fe-3315-4bbc-a34f-2a7b55df7e6a"
   },
   "outputs": [
    {
     "data": {
      "image/png": "[encoded data removed]",
      "text/plain": [
       "<IPython.core.display.Image object>"
      ]
     },
     "metadata": {},
     "output_type": "display_data"
    }
   ],
   "source": [
    "# 说明：本单元演示最基础的状态（State）定义与节点更新。\n",
    "# - 使用 TypedDict 定义图的状态结构。\n",
    "# - 默认更新策略为“覆盖”（overwrite），即同名键的值被后写入的结果覆盖。\n",
    "# - 面向初学者要点：每个节点返回的是“增量（partial）状态”，图会据此合并成新状态。\n",
    "\n",
    "from typing_extensions import TypedDict\n",
    "from IPython.display import Image, display\n",
    "from langgraph.graph import StateGraph, START, END\n",
    "\n",
    "class State(TypedDict):\n",
    "    # 状态模式：仅包含一个整型键 foo\n",
    "    foo: int\n",
    "\n",
    "def node_1(state):\n",
    "    # 节点逻辑：读取状态中的 foo，自增 1 后作为增量返回\n",
    "    print(\"---Node 1---\")\n",
    "    return {\"foo\": state['foo'] + 1}\n",
    "\n",
    "# 构建图（Graph）：注册节点与边\n",
    "builder = StateGraph(State)\n",
    "builder.add_node(\"node_1\", node_1)\n",
    "\n",
    "# 定义执行逻辑：从 START 进入 node_1，随后到 END 结束\n",
    "builder.add_edge(START, \"node_1\")\n",
    "builder.add_edge(\"node_1\", END)\n",
    "\n",
    "# 编译图\n",
    "graph = builder.compile()\n",
    "\n",
    "# 可视化图结构（Mermaid PNG）\n",
    "display(Image(graph.get_graph().draw_mermaid_png()))"
   ]
  },
  {
   "cell_type": "code",
   "execution_count": 7,
   "id": "69634df1-4f02-446f-b5cf-6a83d1e15e37",
   "metadata": {
    "colab": {
     "base_uri": "https://localhost:8080/"
    },
    "id": "69634df1-4f02-446f-b5cf-6a83d1e15e37",
    "outputId": "a89e5ada-fb7c-443b-cb5f-f5ac97ff48f2"
   },
   "outputs": [
    {
     "name": "stdout",
     "output_type": "stream",
     "text": [
      "---Node 1---\n"
     ]
    },
    {
     "data": {
      "text/plain": [
       "{'foo': 2}"
      ]
     },
     "execution_count": 7,
     "metadata": {},
     "output_type": "execute_result"
    }
   ],
   "source": [
    "graph.invoke({\"foo\" : 1})"
   ]
  },
  {
   "cell_type": "markdown",
   "id": "775a099c-c41c-412f-8f05-e7436388ae79",
   "metadata": {
    "id": "775a099c-c41c-412f-8f05-e7436388ae79"
   },
   "source": [
    "来看这条状态更新语句：`return {\"foo\": state['foo'] + 1}`。\n",
    "\n",
    "如前所述，如果未指定 reducer，LangGraph 并不知道你的“首选更新方式”，**因此会采用默认策略：覆盖同名键的旧值。**\n",
    "\n",
    "```\n",
    "return {\"foo\": state['foo'] + 1}\n",
    "```\n",
    "\n",
    "当输入为 `{'foo': 1}` 时，图返回的状态为 `{'foo': 2}`。\n",
    "\n",
    "## 分支（Branching）\n",
    "\n",
    "接下来看看分支并发时会发生什么。"
   ]
  },
  {
   "cell_type": "code",
   "execution_count": 8,
   "id": "2b8d6ad4-2991-4325-933d-67057bc150f4",
   "metadata": {
    "colab": {
     "base_uri": "https://localhost:8080/",
     "height": 350
    },
    "id": "2b8d6ad4-2991-4325-933d-67057bc150f4",
    "outputId": "7dfa5244-67d0-4df3-dbe9-cdaf27f24132"
   },
   "outputs": [
    {
     "data": {
      "image/png": "[encoded data removed]",
      "text/plain": [
       "<IPython.core.display.Image object>"
      ]
     },
     "metadata": {},
     "output_type": "display_data"
    }
   ],
   "source": [
    "# 说明：本单元演示“分支并发”导致的状态写入冲突。\n",
    "# - node_1 执行后，同时（同一步）触发 node_2 与 node_3。\n",
    "# - 二者都返回 {\"foo\": ...}，默认策略为覆盖（overwrite），同一步对同一键写入多个值会产生歧义。\n",
    "# - 因此后续执行时会抛出 InvalidUpdateError，提示需要为该键声明归并（reducer）。\n",
    "\n",
    "class State(TypedDict):\n",
    "    foo: int\n",
    "\n",
    "def node_1(state):\n",
    "    print(\"---Node 1---\")\n",
    "    return {\"foo\": state['foo'] + 1}\n",
    "\n",
    "def node_2(state):\n",
    "    print(\"---Node 2---\")\n",
    "    return {\"foo\": state['foo'] + 1}\n",
    "\n",
    "def node_3(state):\n",
    "    print(\"---Node 3---\")\n",
    "    return {\"foo\": state['foo'] + 1}\n",
    "\n",
    "# 构建图\n",
    "builder = StateGraph(State)\n",
    "builder.add_node(\"node_1\", node_1)\n",
    "builder.add_node(\"node_2\", node_2)\n",
    "builder.add_node(\"node_3\", node_3)\n",
    "\n",
    "# 执行逻辑：node_1 -> (node_2 并发 node_3) -> END\n",
    "builder.add_edge(START, \"node_1\")\n",
    "builder.add_edge(\"node_1\", \"node_2\")\n",
    "builder.add_edge(\"node_1\", \"node_3\")\n",
    "builder.add_edge(\"node_2\", END)\n",
    "builder.add_edge(\"node_3\", END)\n",
    "\n",
    "# 编译图\n",
    "graph = builder.compile()\n",
    "\n",
    "# 可视化图结构\n",
    "display(Image(graph.get_graph().draw_mermaid_png()))"
   ]
  },
  {
   "cell_type": "code",
   "execution_count": 9,
   "id": "106729b3",
   "metadata": {
    "colab": {
     "base_uri": "https://localhost:8080/"
    },
    "id": "106729b3",
    "outputId": "d8c7e85b-1426-40f0-8517-17899a8ad3a0"
   },
   "outputs": [
    {
     "name": "stdout",
     "output_type": "stream",
     "text": [
      "---Node 1---\n",
      "---Node 2---\n",
      "---Node 3---\n",
      "InvalidUpdateError occurred: At key 'foo': Can receive only one value per step. Use an Annotated key to handle multiple values.\n",
      "For troubleshooting, visit: https://python.langchain.com/docs/troubleshooting/errors/INVALID_CONCURRENT_GRAPH_UPDATE\n"
     ]
    }
   ],
   "source": [
    "from langgraph.errors import InvalidUpdateError\n",
    "try:\n",
    "    graph.invoke({\"foo\" : 1})\n",
    "except InvalidUpdateError as e:\n",
    "    print(f\"InvalidUpdateError occurred: {e}\")\n"
   ]
  },
  {
   "cell_type": "markdown",
   "id": "b9717ccd-3d34-476a-8952-e6a7629ebefe",
   "metadata": {
    "id": "b9717ccd-3d34-476a-8952-e6a7629ebefe"
   },
   "source": [
    "这里出现了一个问题！\n",
    "\n",
    "`node_1` 同时分支到 `node_2` 与 `node_3`。\n",
    "\n",
    "`node_2` 和 `node_3` 会并行执行（即同一步执行）。\n",
    "\n",
    "**它们在“同一步”都试图更新同一个键，且默认是“覆盖式”更新。**\n",
    "\n",
    "对于图而言，这会造成歧义：到底保留哪一个值？"
   ]
  },
  {
   "cell_type": "markdown",
   "id": "f1609cf7-dc47-4926-a154-77904b6cc550",
   "metadata": {
    "id": "f1609cf7-dc47-4926-a154-77904b6cc550"
   },
   "source": [
    "## 归并器（Reducers）\n",
    "\n",
    "[Reducer](https://langchain-ai.github.io/langgraph/concepts/low_level/#reducers) 提供了一种通用方法来解决该歧义问题：它明确规定“如何执行更新”。\n",
    "\n",
    "在 LangGraph 中，我们可以结合 `Annotated` 类型为某个键声明一个 reducer 函数。\n",
    "\n",
    "例如，这里我们希望“追加”每个并发节点返回的结果，而不是相互覆盖。Python 内置模块 `operator` 中的 `operator.add` 对列表的作用是“列表拼接”，正好满足这种“把多个更新拼到一起”的语义。"
   ]
  },
  {
   "cell_type": "code",
   "execution_count": 10,
   "id": "103d808c-55ec-44f2-a688-7b5e1572875a",
   "metadata": {
    "colab": {
     "base_uri": "https://localhost:8080/",
     "height": 251
    },
    "id": "103d808c-55ec-44f2-a688-7b5e1572875a",
    "outputId": "51ff3b7d-f9a4-4be2-f84e-ad11c81420e3"
   },
   "outputs": [
    {
     "data": {
      "image/png": "[encoded data removed]",
      "text/plain": [
       "<IPython.core.display.Image object>"
      ]
     },
     "metadata": {},
     "output_type": "display_data"
    }
   ],
   "source": [
    "# 说明：通过 Annotated 指定 reducer（归并函数），让同一步对同一键的多次写入可以“合并”。\n",
    "# - 这里为键 foo 使用 operator.add 作为 reducer；对 list 而言，add 等价于“列表拼接”。\n",
    "# - 因此多个节点返回的列表将被拼接到一起，而不是互相覆盖。\n",
    "\n",
    "from operator import add\n",
    "from typing import Annotated\n",
    "\n",
    "class State(TypedDict):\n",
    "    # foo 为整型列表，并使用 add 作为 reducer\n",
    "    foo: Annotated[list[int], add]\n",
    "\n",
    "def node_1(state):\n",
    "    # 返回单元素列表以触发拼接行为\n",
    "    print(\"---Node 1---\")\n",
    "    return {\"foo\": [state['foo'][0] + 1]}\n",
    "\n",
    "# 构建图\n",
    "builder = StateGraph(State)\n",
    "builder.add_node(\"node_1\", node_1)\n",
    "\n",
    "# 执行逻辑\n",
    "builder.add_edge(START, \"node_1\")\n",
    "builder.add_edge(\"node_1\", END)\n",
    "\n",
    "# 编译图\n",
    "graph = builder.compile()\n",
    "\n",
    "# 可视化\n",
    "display(Image(graph.get_graph().draw_mermaid_png()))"
   ]
  },
  {
   "cell_type": "code",
   "execution_count": 11,
   "id": "9e68cdff-f6e1-4de5-a7bf-6ca0cfee19bf",
   "metadata": {
    "colab": {
     "base_uri": "https://localhost:8080/"
    },
    "id": "9e68cdff-f6e1-4de5-a7bf-6ca0cfee19bf",
    "outputId": "deb2aa38-02a9-4d31-aaee-47021ac79157"
   },
   "outputs": [
    {
     "name": "stdout",
     "output_type": "stream",
     "text": [
      "---Node 1---\n"
     ]
    },
    {
     "data": {
      "text/plain": [
       "{'foo': [1, 2]}"
      ]
     },
     "execution_count": 11,
     "metadata": {},
     "output_type": "execute_result"
    }
   ],
   "source": [
    "graph.invoke({\"foo\" : [1]})"
   ]
  },
  {
   "cell_type": "markdown",
   "id": "63fbd6e0-0207-4049-b86d-c006cbba630b",
   "metadata": {
    "id": "63fbd6e0-0207-4049-b86d-c006cbba630b"
   },
   "source": [
    "现在，状态键 `foo` 的类型是列表。\n",
    "\n",
    "借助 `operator.add` 作为 reducer，各节点返回的更新会被“追加”到该列表中（而非覆盖）。"
   ]
  },
  {
   "cell_type": "code",
   "execution_count": 12,
   "id": "768fd0ed-5e24-44a4-b14d-0e299310e105",
   "metadata": {
    "colab": {
     "base_uri": "https://localhost:8080/",
     "height": 350
    },
    "id": "768fd0ed-5e24-44a4-b14d-0e299310e105",
    "outputId": "58ea0266-f68a-439c-f070-d92ffff16ca0"
   },
   "outputs": [
    {
     "data": {
      "image/png": "[encoded data removed]",
      "text/plain": [
       "<IPython.core.display.Image object>"
      ]
     },
     "metadata": {},
     "output_type": "display_data"
    }
   ],
   "source": [
    "# 说明：在为 foo 指定 add reducer 后，分支并发写入将被安全拼接。\n",
    "# - node_2、node_3 同一步返回单元素列表，最终状态将把这些列表拼接到 foo 尾部。\n",
    "# - 示例取“最后一个元素 + 1”仅为演示增量，非严格并发计数方案。\n",
    "\n",
    "def node_1(state):\n",
    "    print(\"---Node 1---\")\n",
    "    return {\"foo\": [state['foo'][-1] + 1]}\n",
    "\n",
    "def node_2(state):\n",
    "    print(\"---Node 2---\")\n",
    "    return {\"foo\": [state['foo'][-1] + 1]}\n",
    "\n",
    "def node_3(state):\n",
    "    print(\"---Node 3---\")\n",
    "    return {\"foo\": [state['foo'][-1] + 1]}\n",
    "\n",
    "# 构建图\n",
    "builder = StateGraph(State)\n",
    "builder.add_node(\"node_1\", node_1)\n",
    "builder.add_node(\"node_2\", node_2)\n",
    "builder.add_node(\"node_3\", node_3)\n",
    "\n",
    "# 执行逻辑\n",
    "builder.add_edge(START, \"node_1\")\n",
    "builder.add_edge(\"node_1\", \"node_2\")\n",
    "builder.add_edge(\"node_1\", \"node_3\")\n",
    "builder.add_edge(\"node_2\", END)\n",
    "builder.add_edge(\"node_3\", END)\n",
    "\n",
    "# 编译图\n",
    "graph = builder.compile()\n",
    "\n",
    "# 可视化\n",
    "display(Image(graph.get_graph().draw_mermaid_png()))"
   ]
  },
  {
   "cell_type": "markdown",
   "id": "5439baad-5a75-4188-b936-dbe74cdd9078",
   "metadata": {
    "id": "5439baad-5a75-4188-b936-dbe74cdd9078"
   },
   "source": [
    "可以看到，`node_2` 与 `node_3` 的更新是并发进行的，因为它们处于同一步执行。"
   ]
  },
  {
   "cell_type": "code",
   "execution_count": 13,
   "id": "44598f97-0a59-4ed4-9d9a-e15a98b3d8fb",
   "metadata": {
    "colab": {
     "base_uri": "https://localhost:8080/"
    },
    "id": "44598f97-0a59-4ed4-9d9a-e15a98b3d8fb",
    "outputId": "81632bf0-23be-462e-9c6c-55167f82d0a0"
   },
   "outputs": [
    {
     "name": "stdout",
     "output_type": "stream",
     "text": [
      "---Node 1---\n",
      "---Node 2---\n",
      "---Node 3---\n"
     ]
    },
    {
     "data": {
      "text/plain": [
       "{'foo': [1, 2, 3, 3]}"
      ]
     },
     "execution_count": 13,
     "metadata": {},
     "output_type": "execute_result"
    }
   ],
   "source": [
    "graph.invoke({\"foo\" : [1]})"
   ]
  },
  {
   "cell_type": "markdown",
   "id": "87faaa07-2955-4466-9bca-4b536e05f260",
   "metadata": {
    "id": "87faaa07-2955-4466-9bca-4b536e05f260"
   },
   "source": [
    "接下来，看看当把 `None` 作为 `foo` 的输入会发生什么。\n",
    "\n",
    "会报错：因为 `operator.add` 试图在 `node_1` 中把 `None` 与列表拼接（`list + None`），从而触发 TypeError。"
   ]
  },
  {
   "cell_type": "code",
   "execution_count": 14,
   "id": "7f05984b-2bc7-48d1-b070-c8a001a6b59a",
   "metadata": {
    "colab": {
     "base_uri": "https://localhost:8080/"
    },
    "id": "7f05984b-2bc7-48d1-b070-c8a001a6b59a",
    "outputId": "1c2a5ca1-7c1b-463b-f769-959cb04d3d0f"
   },
   "outputs": [
    {
     "name": "stdout",
     "output_type": "stream",
     "text": [
      "TypeError occurred: can only concatenate list (not \"NoneType\") to list\n"
     ]
    }
   ],
   "source": [
    "try:\n",
    "    graph.invoke({\"foo\" : None})\n",
    "except TypeError as e:\n",
    "    print(f\"TypeError occurred: {e}\")"
   ]
  },
  {
   "cell_type": "markdown",
   "id": "4f9d4930-ee8f-4ffc-b9e1-3c910b2e15f6",
   "metadata": {
    "id": "4f9d4930-ee8f-4ffc-b9e1-3c910b2e15f6"
   },
   "source": [
    "## 自定义归并器（Custom Reducers）\n",
    "\n",
    "为了解决上述问题，[可以自定义 reducer](https://langchain-ai.github.io/langgraph/how-tos/subgraph/#custom-reducer-functions-to-manage-state)。\n",
    "\n",
    "例如，我们可以编写一个自定义的列表合并逻辑，正确处理单侧或双侧为 `None` 的情况。"
   ]
  },
  {
   "cell_type": "code",
   "execution_count": 15,
   "id": "3314219d-29ff-4b78-b18e-fa9f7878a02f",
   "metadata": {
    "id": "3314219d-29ff-4b78-b18e-fa9f7878a02f"
   },
   "outputs": [],
   "source": [
    "# 说明：自定义 reducer，以安全合并列表并兼容 None 输入。\n",
    "# - reduce_list 对 None 视为 []，从而避免 add 在 list + None 时抛出 TypeError。\n",
    "# - DefaultState 使用内置 add；CustomReducerState 使用 reduce_list，以获得更鲁棒的行为。\n",
    "\n",
    "def reduce_list(left: list | None, right: list | None) -> list:\n",
    "    \"\"\"安全地合并两个列表，处理任一或两个输入可能为 None 的情况。\n",
    "\n",
    "    参数：\n",
    "        left (list | None): 第一个要合并的列表，或为 None。\n",
    "        right (list | None): 第二个要合并的列表，或为 None。\n",
    "\n",
    "    返回：\n",
    "        list: 包含两个输入列表所有元素的新列表。\n",
    "              如果输入是 None，则被视为空列表。\n",
    "    \"\"\"\n",
    "    if not left:\n",
    "        left = []\n",
    "    if not right:\n",
    "        right = []\n",
    "    return left + right\n",
    "\n",
    "class DefaultState(TypedDict):\n",
    "    # 使用内置 add（列表拼接），不处理 None\n",
    "    foo: Annotated[list[int], add]\n",
    "\n",
    "class CustomReducerState(TypedDict):\n",
    "    # 使用自定义 reduce_list，自动将 None 视为空列表\n",
    "    foo: Annotated[list[int], reduce_list]"
   ]
  },
  {
   "cell_type": "markdown",
   "id": "dcdea26a-38d0-4faf-9bf6-cd52eb902635",
   "metadata": {
    "id": "dcdea26a-38d0-4faf-9bf6-cd52eb902635"
   },
   "source": [
    "在 `node_1` 中，我们向列表追加元素 2。"
   ]
  },
  {
   "cell_type": "code",
   "execution_count": 16,
   "id": "f5f270db-6eff-47c9-853b-dfb8108ff28c",
   "metadata": {
    "colab": {
     "base_uri": "https://localhost:8080/",
     "height": 269
    },
    "id": "f5f270db-6eff-47c9-853b-dfb8108ff28c",
    "outputId": "15c53a96-eaec-437d-ef47-46a0e9b4b8e7"
   },
   "outputs": [
    {
     "data": {
      "image/png": "[encoded data removed]",
      "text/plain": [
       "<IPython.core.display.Image object>"
      ]
     },
     "metadata": {},
     "output_type": "display_data"
    },
    {
     "name": "stdout",
     "output_type": "stream",
     "text": [
      "TypeError occurred: can only concatenate list (not \"NoneType\") to list\n"
     ]
    }
   ],
   "source": [
    "# 说明：使用默认 add reducer，在输入 foo=None 时会报错（list 无法与 None 拼接）。\n",
    "\n",
    "def node_1(state):\n",
    "    print(\"---Node 1---\")\n",
    "    return {\"foo\": [2]}\n",
    "\n",
    "# 构建图（默认 add）\n",
    "builder = StateGraph(DefaultState)\n",
    "builder.add_node(\"node_1\", node_1)\n",
    "\n",
    "# 执行逻辑\n",
    "builder.add_edge(START, \"node_1\")\n",
    "builder.add_edge(\"node_1\", END)\n",
    "\n",
    "# 编译图\n",
    "graph = builder.compile()\n",
    "\n",
    "# 可视化\n",
    "display(Image(graph.get_graph().draw_mermaid_png()))\n",
    "\n",
    "# 测试：None 作为初始 foo，将触发 TypeError\n",
    "try:\n",
    "    print(graph.invoke({\"foo\" : None}))\n",
    "except TypeError as e:\n",
    "    print(f\"TypeError occurred: {e}\")"
   ]
  },
  {
   "cell_type": "markdown",
   "id": "fd21936b-62f1-4311-9ce5-2c7d08aa35bf",
   "metadata": {
    "id": "fd21936b-62f1-4311-9ce5-2c7d08aa35bf"
   },
   "source": [
    "现在使用我们自定义的 reducer，可以看到不会再抛出错误。"
   ]
  },
  {
   "cell_type": "code",
   "execution_count": 17,
   "id": "867784bc-796c-4b1e-a4d3-2810395cf5e2",
   "metadata": {
    "colab": {
     "base_uri": "https://localhost:8080/",
     "height": 288
    },
    "id": "867784bc-796c-4b1e-a4d3-2810395cf5e2",
    "outputId": "24290da1-a5ba-492c-8a9b-743afeaf1932"
   },
   "outputs": [
    {
     "data": {
      "image/png": "[encoded data removed]",
      "text/plain": [
       "<IPython.core.display.Image object>"
      ]
     },
     "metadata": {},
     "output_type": "display_data"
    },
    {
     "name": "stdout",
     "output_type": "stream",
     "text": [
      "---Node 1---\n",
      "{'foo': [2]}\n"
     ]
    }
   ],
   "source": [
    "# 说明：使用自定义 reduce_list 后，输入 foo=None 将被视为 []，因此不会报错。\n",
    "\n",
    "# 构建图（自定义 reduce_list）\n",
    "builder = StateGraph(CustomReducerState)\n",
    "builder.add_node(\"node_1\", node_1)\n",
    "\n",
    "# 执行逻辑\n",
    "builder.add_edge(START, \"node_1\")\n",
    "builder.add_edge(\"node_1\", END)\n",
    "\n",
    "# 编译图\n",
    "graph = builder.compile()\n",
    "\n",
    "# 可视化\n",
    "display(Image(graph.get_graph().draw_mermaid_png()))\n",
    "\n",
    "# 测试：None 作为初始 foo，不会抛错\n",
    "try:\n",
    "    print(graph.invoke({\"foo\" : None}))\n",
    "except TypeError as e:\n",
    "    print(f\"TypeError occurred: {e}\")"
   ]
  },
  {
   "cell_type": "markdown",
   "id": "b7ebc65e-c185-4981-a6e7-20fe37d2f8fe",
   "metadata": {
    "id": "b7ebc65e-c185-4981-a6e7-20fe37d2f8fe"
   },
   "source": [
    "## 消息（Messages）\n",
    "\n",
    "在第 1 模块中，我们演示了如何使用内置 reducer `add_messages` 来管理状态中的消息。\n",
    "\n",
    "我们也说明过：[在消息场景下，`MessagesState` 是一种便捷用法](https://langchain-ai.github.io/langgraph/concepts/low_level/#messagesstate)。\n",
    "\n",
    "- `MessagesState` 内置了 `messages` 键；\n",
    "- 同时内置了该键对应的reducer键 `add_messages` ；\n",
    "\n",
    "两种方式在语义上等价。\n",
    "\n",
    "下面为了简洁，直接通过 `from langgraph.graph import MessagesState` 使用该类。\n"
   ]
  },
  {
   "cell_type": "code",
   "execution_count": 18,
   "id": "901e69e5-c4cb-4d58-82fb-3b7d968758e3",
   "metadata": {
    "id": "901e69e5-c4cb-4d58-82fb-3b7d968758e3"
   },
   "outputs": [],
   "source": [
    "# 说明：消息（messages）场景下，可使用内置 reducer add_messages 管理追加/覆盖/删除。\n",
    "# - CustomMessagesState：显式声明 messages 键及其 add_messages reducer。\n",
    "# - ExtendedMessagesState：继承 MessagesState（已内置 messages 与 add_messages），再扩展其他键。\n",
    "\n",
    "from typing import Annotated\n",
    "from langgraph.graph import MessagesState\n",
    "from langchain_core.messages import AnyMessage\n",
    "from langgraph.graph.message import add_messages\n",
    "\n",
    "# 自定义 TypedDict：显式包含 messages 列表，并指定 add_messages 作为 reducer\n",
    "class CustomMessagesState(TypedDict):\n",
    "    messages: Annotated[list[AnyMessage], add_messages]\n",
    "    added_key_1: str\n",
    "    added_key_2: str\n",
    "    # etc\n",
    "\n",
    "# 使用 MessagesState：其已内置 messages 键与 add_messages reducer\n",
    "class ExtendedMessagesState(MessagesState):\n",
    "    # 可在此基础上扩展额外的业务键\n",
    "    added_key_1: str\n",
    "    added_key_2: str\n",
    "    # etc"
   ]
  },
  {
   "cell_type": "markdown",
   "id": "287805e4-722a-4428-b040-2892b29de870",
   "metadata": {
    "id": "287805e4-722a-4428-b040-2892b29de870"
   },
   "source": [
    "下面进一步介绍 `add_messages` reducer 的使用要点。"
   ]
  },
  {
   "cell_type": "code",
   "execution_count": 19,
   "id": "c8f61350-4fe0-4a2b-bb24-9305afb3c668",
   "metadata": {
    "colab": {
     "base_uri": "https://localhost:8080/"
    },
    "id": "c8f61350-4fe0-4a2b-bb24-9305afb3c668",
    "outputId": "dfbda283-b7b1-4e87-bc3e-190086704b6d"
   },
   "outputs": [
    {
     "data": {
      "text/plain": [
       "[AIMessage(content='您好！有什么可以为您效劳的？', additional_kwargs={}, response_metadata={}, name='Model', id='04f8fc8b-1a24-43db-8fff-5c7b3c759bb3'),\n",
       " HumanMessage(content='我正在寻找有关海洋生物学的信息。', additional_kwargs={}, response_metadata={}, name='Lance', id='d553a32f-c78e-4981-b511-fa3a019e80dc'),\n",
       " AIMessage(content='好的，我很乐意帮忙。您具体对什么感兴趣？', additional_kwargs={}, response_metadata={}, name='Model', id='6fc6bcca-1a34-485e-b0a1-ba1b0ea6358b')]"
      ]
     },
     "execution_count": 19,
     "metadata": {},
     "output_type": "execute_result"
    }
   ],
   "source": [
    "from langgraph.graph.message import add_messages\n",
    "from langchain_core.messages import AIMessage, HumanMessage\n",
    "\n",
    "# 初始消息列表（state.messages 的示例）\n",
    "initial_messages = [AIMessage(content=\"您好！有什么可以为您效劳的？\", name=\"Model\"),\n",
    "                    HumanMessage(content=\"我正在寻找有关海洋生物学的信息。\", name=\"Lance\")\n",
    "                   ]\n",
    "\n",
    "# 新增消息：将被追加到列表尾部（add_messages 的追加语义）\n",
    "new_message = AIMessage(content=\"好的，我很乐意帮忙。您具体对什么感兴趣？\", name=\"Model\")\n",
    "\n",
    "# 测试：返回新列表，包含原消息 + 新消息\n",
    "add_messages(initial_messages , new_message)"
   ]
  },
  {
   "cell_type": "markdown",
   "id": "bc492370-0502-43e6-87cc-181c60b3dbdb",
   "metadata": {
    "id": "bc492370-0502-43e6-87cc-181c60b3dbdb"
   },
   "source": [
    "可以看到，`add_messages` 支持将新消息“追加”到状态中的 `messages` 列表。\n",
    "\n",
    "### 覆盖（Re-writing）\n",
    "\n",
    "使用 `add_messages` 时有个常用技巧：\n",
    "\n",
    "如果传入的新消息与列表中某条消息 `id` 相同，则会触发“覆盖”语义——同 `id` 的消息内容会被替换更新。"
   ]
  },
  {
   "cell_type": "code",
   "execution_count": 20,
   "id": "1f6f82fd-a5a8-4e98-80f6-bb058f2acc47",
   "metadata": {
    "colab": {
     "base_uri": "https://localhost:8080/"
    },
    "id": "1f6f82fd-a5a8-4e98-80f6-bb058f2acc47",
    "outputId": "f03fe265-1bf6-4126-e0ba-b0a46dc138b8"
   },
   "outputs": [
    {
     "data": {
      "text/plain": [
       "[AIMessage(content='您好！有什么可以为您效劳的？', additional_kwargs={}, response_metadata={}, name='Model', id='1'),\n",
       " HumanMessage(content='我正在寻找有关鲸鱼的信息，特别是', additional_kwargs={}, response_metadata={}, name='Lance', id='2')]"
      ]
     },
     "execution_count": 20,
     "metadata": {},
     "output_type": "execute_result"
    }
   ],
   "source": [
    "# 初始列表：包含两条消息，id 分别为 1 和 2\n",
    "initial_messages = [AIMessage(content=\"您好！有什么可以为您效劳的？\", name=\"Model\", id=\"1\"),\n",
    "                    HumanMessage(content=\"我正在寻找有关海洋生物学的信息。\", name=\"Lance\", id=\"2\")\n",
    "                   ]\n",
    "\n",
    "# 新消息：id 与已有消息（id=2）相同 ——> 触发“覆盖”语义（同 id 覆盖）\n",
    "new_message = HumanMessage(content=\"我正在寻找有关鲸鱼的信息，特别是\", name=\"Lance\", id=\"2\")\n",
    "\n",
    "# 测试：返回的新列表中，id=2 的消息将被新内容覆盖\n",
    "add_messages(initial_messages , new_message)"
   ]
  },
  {
   "cell_type": "markdown",
   "id": "f06e7788-7054-4752-99fe-27ebb901f263",
   "metadata": {
    "id": "f06e7788-7054-4752-99fe-27ebb901f263"
   },
   "source": [
    "### 删除（Removal）\n",
    "\n",
    "`add_messages` 还支持[删除消息](https://langchain-ai.github.io/langgraph/how-tos/memory/delete-messages/)。\n",
    "\n",
    "做法是：使用 `langchain_core` 提供的 [RemoveMessage](https://api.python.langchain.com/en/latest/messages/langchain_core.messages.modifier.RemoveMessage.html)（仅需提供要删除消息的 `id`），`add_messages` 会据此实现删除语义。"
   ]
  },
  {
   "cell_type": "code",
   "execution_count": 21,
   "id": "67ac97e5-efe2-40bc-9fe3-fd4f50922b8b",
   "metadata": {
    "colab": {
     "base_uri": "https://localhost:8080/"
    },
    "id": "67ac97e5-efe2-40bc-9fe3-fd4f50922b8b",
    "outputId": "fd841fc9-afc1-4f3b-fc45-649b18cce2b7"
   },
   "outputs": [
    {
     "name": "stdout",
     "output_type": "stream",
     "text": [
      "[RemoveMessage(content='', additional_kwargs={}, response_metadata={}, id='1'), RemoveMessage(content='', additional_kwargs={}, response_metadata={}, id='2')]\n"
     ]
    }
   ],
   "source": [
    "from langchain_core.messages import RemoveMessage\n",
    "\n",
    "# 消息列表示例（含 4 条消息）\n",
    "messages = [AIMessage(\"你好。\", name=\"Bot\", id=\"1\")]\n",
    "messages.append(HumanMessage(\"你好。\", name=\"Lance\", id=\"2\"))\n",
    "messages.append(AIMessage(\"你之前说你在研究海洋哺乳动物，对吗？\", name=\"Bot\", id=\"3\"))\n",
    "messages.append(HumanMessage(\"是的，我知道鲸鱼。但我还应该了解哪些其他的呢？\", name=\"Lance\", id=\"4\"))\n",
    "\n",
    "# 待删除列表：构造 RemoveMessage（仅需 id），交由 add_messages 实现删除语义\n",
    "# 这里示例删除前两条（id=1,2）\n",
    "# messages[:-2] 在 Python 中是列表切片（List Slicing）的一种用法，它的意思是：\n",
    "# 截取 messages 列表中除了最后两个元素之外的所有元素，并生成一个新的列表。\n",
    "delete_messages = [RemoveMessage(id=m.id) for m in messages[:-2]]\n",
    "print(delete_messages)"
   ]
  },
  {
   "cell_type": "code",
   "execution_count": 22,
   "id": "2d250578-3ec0-452e-91c0-072d785d96db",
   "metadata": {
    "colab": {
     "base_uri": "https://localhost:8080/"
    },
    "id": "2d250578-3ec0-452e-91c0-072d785d96db",
    "outputId": "36adc162-d3ab-4195-d75d-54457cb71323"
   },
   "outputs": [
    {
     "data": {
      "text/plain": [
       "[AIMessage(content='你之前说你在研究海洋哺乳动物，对吗？', additional_kwargs={}, response_metadata={}, name='Bot', id='3'),\n",
       " HumanMessage(content='是的，我知道鲸鱼。但我还应该了解哪些其他的呢？', additional_kwargs={}, response_metadata={}, name='Lance', id='4')]"
      ]
     },
     "execution_count": 22,
     "metadata": {},
     "output_type": "execute_result"
    }
   ],
   "source": [
    "# 通过 add_messages 应用删除操作：返回的新列表将不包含 id=1,2 的消息\n",
    "add_messages(messages , delete_messages)"
   ]
  },
  {
   "cell_type": "markdown",
   "id": "5db095c5-6d9a-4e62-a097-0403797511f6",
   "metadata": {
    "id": "5db095c5-6d9a-4e62-a097-0403797511f6"
   },
   "source": [
    "可以看到，`delete_messages` 中标注的 id=1、2 的消息已被删除。\n",
    "\n",
    "稍后你会在更完整的图中看到这些技巧的实际应用。"
   ]
  }
 ],
 "metadata": {
  "colab": {
   "include_colab_link": true,
   "provenance": []
  },
  "kernelspec": {
   "display_name": "python(flyai_agent_in_action)",
   "language": "python",
   "name": "flyai_agent_in_action"
  },
  "language_info": {
   "codemirror_mode": {
    "name": "ipython",
    "version": 3
   },
   "file_extension": ".py",
   "mimetype": "text/x-python",
   "name": "python",
   "nbconvert_exporter": "python",
   "pygments_lexer": "ipython3",
   "version": "3.12.11"
  }
 },
 "nbformat": 4,
 "nbformat_minor": 5
}
