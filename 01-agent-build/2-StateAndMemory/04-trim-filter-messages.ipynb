{
 "cells": [
  {
   "cell_type": "markdown",
   "id": "env_config_overview",
   "metadata": {},
   "source": [
    "### 🔧 环境配置和检查\n\n#### 概述\n\n本教程需要特定的环境配置以确保最佳学习体验。以下配置将帮助您：\n\n- 使用统一的conda环境：激活统一的学习环境\n- 通过国内镜像源快速安装依赖：配置pip使用清华镜像源\n- 加速模型下载：设置HuggingFace镜像代理\n- 检查系统配置：检查硬件和软件配置\n\n#### 配置\n\n- **所需环境及其依赖已经部署好**\n- 在`Notebook`右上角选择`jupyter内核`为`python(flyai_agent_in_action)`，即可执行下方代码"
   ]
  },
  {
   "cell_type": "code",
   "execution_count": null,
   "id": "env_conda_activate",
   "metadata": {},
   "outputs": [],
   "source": [
    "%%script bash\n\n# 1. 激活 conda 环境 (仅对当前单元格有效)\neval \"$(conda shell.bash hook)\"\nconda activate flyai_agent_in_action\n\necho \"=========================================\"\necho \"== Conda 环境检查报告 (仅针对当前 Bash 子进程) ==\"\necho \"=========================================\"\n\n# 2. 检查当前激活的环境\nCURRENT_ENV_NAME=$(basename $CONDA_PREFIX)\n\nif [ \"$CURRENT_ENV_NAME\" = \"flyai_agent_in_action\" ]; then\n    echo \"✅ 当前单元格已成功激活到 flyai_agent_in_action 环境。\"\n    echo \"✅ 正在使用的环境路径: $CONDA_PREFIX\"\n    echo \"\"\n    echo \"💡 提示: 后续的 Python 单元格将使用 Notebook 当前选择的 Jupyter 内核。\"\n    echo \"   如果需要后续单元格也使用此环境，请执行以下操作:\"\n    echo \"   1. 检查 Notebook 右上角是否已选择 'python(flyai_agent_in_action)'。\"\nelse\n    echo \"❌ 激活失败或环境名称不匹配。当前环境: $CURRENT_ENV_NAME\"\n    echo \"\"\n    echo \"⚠️ 严重提示: 建议将 Notebook 的 Jupyter **内核 (Kernel)** 切换为 'python(flyai_agent_in_action)'。\"\n    echo \"   (通常位于 Notebook 右上角或 '内核' 菜单中)\"\n    echo \"\"\n    echo \"📚 备用方法 (不推荐): 如果无法切换内核，则必须在**每个**代码单元格的头部重复以下命令:\"\n    echo \"\"\n    echo \"%%script bash\"\n    echo \"# 必须在每个单元格都执行\"\n    echo \"eval \\\"\\$(conda shell.bash hook)\\\"\"\n    echo \"conda activate flyai_agent_in_action\"\nfi\n\necho \"=========================================\" "
   ]
  },
  {
   "cell_type": "code",
   "execution_count": null,
   "id": "env_pip_config",
   "metadata": {},
   "outputs": [],
   "source": [
    "# 2. 设置pip 为清华源\n",
    "%pip config set global.index-url https://pypi.tuna.tsinghua.edu.cn/simple\n",
    "%pip config list\n"
   ]
  },
  {
   "cell_type": "code",
   "execution_count": null,
   "id": "env_hf_proxy",
   "metadata": {},
   "outputs": [],
   "source": [
    "# 3. 设置HuggingFace代理\n",
    "%env HF_ENDPOINT=https://hf-mirror.com\n",
    "# 验证：使用shell命令检查\n",
    "!echo $HF_ENDPOINT"
   ]
  },
  {
   "cell_type": "code",
   "execution_count": null,
   "id": "env_system_check",
   "metadata": {},
   "outputs": [],
   "source": [
    "# 🔍 环境信息检查脚本\n",
    "#\n",
    "# 本脚本的作用：\n",
    "# 1. 安装 pandas 库用于数据表格展示\n",
    "# 2. 检查系统的各项配置信息\n",
    "# 3. 生成详细的环境报告表格\n",
    "#\n",
    "# 对于初学者来说，这个步骤帮助您：\n",
    "# - 了解当前运行环境的硬件配置\n",
    "# - 确认是否满足模型运行的最低要求\n",
    "# - 学习如何通过代码获取系统信息\n",
    "\n",
    "# 安装 pandas 库 - 用于创建和展示数据表格\n",
    "# pandas 是 Python 中最流行的数据处理和分析库\n",
    "%pip install pandas==2.2.2 tabulate==0.9.0\n",
    "\n",
    "import platform # 导入 platform 模块以获取系统信息\n",
    "import os # 导入 os 模块以与操作系统交互\n",
    "import subprocess # 导入 subprocess 模块以运行外部命令\n",
    "import pandas as pd # 导入 pandas 模块，通常用于数据处理，这里用于创建表格\n",
    "import shutil # 导入 shutil 模块以获取磁盘空间信息\n",
    "\n",
    "# 获取 CPU 信息的函数，包括核心数量\n",
    "def get_cpu_info():\n",
    "    cpu_info = \"\" # 初始化 CPU 信息字符串\n",
    "    physical_cores = \"N/A\"\n",
    "    logical_cores = \"N/A\"\n",
    "\n",
    "    if platform.system() == \"Windows\": # 如果是 Windows 系统\n",
    "        cpu_info = platform.processor() # 使用 platform.processor() 获取 CPU 信息\n",
    "        try:\n",
    "            # 获取 Windows 上的核心数量 (需要 WMI)\n",
    "            import wmi\n",
    "            c = wmi.WMI()\n",
    "            for proc in c.Win32_Processor():\n",
    "                physical_cores = proc.NumberOfCores\n",
    "                logical_cores = proc.NumberOfLogicalProcessors\n",
    "        except:\n",
    "            pass # 如果 WMI 不可用，忽略错误\n",
    "\n",
    "    elif platform.system() == \"Darwin\": # 如果是 macOS 系统\n",
    "        # 在 macOS 上使用 sysctl 命令获取 CPU 信息和核心数量\n",
    "        os.environ['PATH'] = os.environ['PATH'] + os.pathsep + '/usr/sbin' # 更新 PATH 环境变量\n",
    "        try:\n",
    "            process_brand = subprocess.Popen(['sysctl', \"machdep.cpu.brand_string\"], stdout=subprocess.PIPE, stderr=subprocess.PIPE)\n",
    "            stdout_brand, stderr_brand = process_brand.communicate()\n",
    "            cpu_info = stdout_brand.decode().split(': ')[1].strip() if stdout_brand else \"Could not retrieve CPU info\"\n",
    "\n",
    "            process_physical = subprocess.Popen(['sysctl', \"hw.physicalcpu\"], stdout=subprocess.PIPE, stderr=subprocess.PIPE)\n",
    "            stdout_physical, stderr_physical = process_physical.communicate()\n",
    "            physical_cores = stdout_physical.decode().split(': ')[1].strip() if stdout_physical else \"N/A\"\n",
    "\n",
    "            process_logical = subprocess.Popen(['sysctl', \"hw.logicalcpu\"], stdout=subprocess.PIPE, stderr=subprocess.PIPE)\n",
    "            stdout_logical, stderr_logical = process_logical.communicate()\n",
    "            logical_cores = stdout_logical.decode().split(': ')[1].strip() if stdout_logical else \"N/A\"\n",
    "\n",
    "        except:\n",
    "            cpu_info = \"Could not retrieve CPU info\"\n",
    "            physical_cores = \"N/A\"\n",
    "            logical_cores = \"N/A\"\n",
    "\n",
    "    else:  # Linux 系统\n",
    "        try:\n",
    "            # 在 Linux 上读取 /proc/cpuinfo 文件获取 CPU 信息和核心数量\n",
    "            with open('/proc/cpuinfo') as f:\n",
    "                physical_cores_count = 0\n",
    "                logical_cores_count = 0\n",
    "                cpu_info_lines = []\n",
    "                for line in f:\n",
    "                    if line.startswith('model name'): # 查找以 'model name'开头的行\n",
    "                        if not cpu_info: # 只获取第一个 model name\n",
    "                            cpu_info = line.split(': ')[1].strip()\n",
    "                    elif line.startswith('cpu cores'): # 查找以 'cpu cores' 开头的行\n",
    "                        physical_cores_count = int(line.split(': ')[1].strip())\n",
    "                    elif line.startswith('processor'): # 查找以 'processor' 开头的行\n",
    "                        logical_cores_count += 1\n",
    "                physical_cores = str(physical_cores_count) if physical_cores_count > 0 else \"N/A\"\n",
    "                logical_cores = str(logical_cores_count) if logical_cores_count > 0 else \"N/A\"\n",
    "                if not cpu_info:\n",
    "                     cpu_info = \"Could not retrieve CPU info\"\n",
    "\n",
    "        except:\n",
    "            cpu_info = \"Could not retrieve CPU info\"\n",
    "            physical_cores = \"N/A\"\n",
    "            logical_cores = \"N/A\"\n",
    "\n",
    "    return f\"{cpu_info} ({physical_cores} physical cores, {logical_cores} logical cores)\" # 返回 CPU 信息和核心数量\n",
    "\n",
    "\n",
    "# 获取内存信息的函数\n",
    "def get_memory_info():\n",
    "    mem_info = \"\" # 初始化内存信息字符串\n",
    "    if platform.system() == \"Windows\":\n",
    "        # 在 Windows 上不容易通过标准库获取，需要外部库或 PowerShell\n",
    "        mem_info = \"Requires external tools on Windows\" # 设置提示信息\n",
    "    elif platform.system() == \"Darwin\": # 如果是 macOS 系统\n",
    "        # 在 macOS 上使用 sysctl 命令获取内存大小\n",
    "        process = subprocess.Popen(['sysctl', \"hw.memsize\"], stdout=subprocess.PIPE, stderr=subprocess.PIPE) # 运行 sysctl 命令\n",
    "        stdout, stderr = process.communicate() # 获取标准输出和标准错误\n",
    "        mem_bytes = int(stdout.decode().split(': ')[1].strip()) # 解析输出，获取内存大小（字节）\n",
    "        mem_gb = mem_bytes / (1024**3) # 转换为 GB\n",
    "        mem_info = f\"{mem_gb:.2f} GB\" # 格式化输出\n",
    "    else:  # Linux 系统\n",
    "        try:\n",
    "            # 在 Linux 上读取 /proc/meminfo 文件获取内存信息\n",
    "            with open('/proc/meminfo') as f:\n",
    "                total_mem_kb = 0\n",
    "                available_mem_kb = 0\n",
    "                for line in f:\n",
    "                    if line.startswith('MemTotal'): # 查找以 'MemTotal' 开头的行\n",
    "                        total_mem_kb = int(line.split(':')[1].strip().split()[0]) # 解析行，获取总内存（KB）\n",
    "                    elif line.startswith('MemAvailable'): # 查找以 'MemAvailable' 开头的行\n",
    "                         available_mem_kb = int(line.split(':')[1].strip().split()[0]) # 解析行，获取可用内存（KB）\n",
    "\n",
    "                if total_mem_kb > 0:\n",
    "                    total_mem_gb = total_mem_kb / (1024**2) # 转换为 GB\n",
    "                    mem_info = f\"{total_mem_gb:.2f} GB\" # 格式化输出总内存\n",
    "                    if available_mem_kb > 0:\n",
    "                        available_mem_gb = available_mem_kb / (1024**2)\n",
    "                        mem_info += f\" (Available: {available_mem_gb:.2f} GB)\" # 添加可用内存信息\n",
    "                else:\n",
    "                     mem_info = \"Could not retrieve memory info\" # 如果读取文件出错，设置错误信息\n",
    "\n",
    "        except:\n",
    "            mem_info = \"Could not retrieve memory info\" # 如果读取文件出错，设置错误信息\n",
    "    return mem_info # 返回内存信息\n",
    "\n",
    "# 获取 GPU 信息的函数，包括显存\n",
    "def get_gpu_info():\n",
    "    try:\n",
    "        # 尝试使用 nvidia-smi 获取 NVIDIA GPU 信息和显存\n",
    "        result = subprocess.run(['nvidia-smi', '--query-gpu=name,memory.total', '--format=csv,noheader'], capture_output=True, text=True)\n",
    "        if result.returncode == 0: # 如果命令成功执行\n",
    "            gpu_lines = result.stdout.strip().split('\\n') # 解析输出，获取 GPU 名称和显存\n",
    "            gpu_info_list = []\n",
    "            for line in gpu_lines:\n",
    "                name, memory = line.split(', ')\n",
    "                gpu_info_list.append(f\"{name} ({memory})\") # 格式化 GPU 信息\n",
    "            return \", \".join(gpu_info_list) if gpu_info_list else \"NVIDIA GPU found, but info not listed\" # 返回 GPU 信息或提示信息\n",
    "        else:\n",
    "             # 尝试使用 lshw 获取其他 GPU 信息 (需要安装 lshw)\n",
    "            try:\n",
    "                result_lshw = subprocess.run(['lshw', '-C', 'display'], capture_output=True, text=True)\n",
    "                if result_lshw.returncode == 0: # 如果命令成功执行\n",
    "                     # 简单解析输出中的 product 名称和显存\n",
    "                    gpu_info_lines = []\n",
    "                    current_gpu = {}\n",
    "                    for line in result_lshw.stdout.splitlines():\n",
    "                        if 'product:' in line:\n",
    "                             if current_gpu:\n",
    "                                 gpu_info_lines.append(f\"{current_gpu.get('product', 'GPU')} ({current_gpu.get('memory', 'N/A')})\")\n",
    "                             current_gpu = {'product': line.split('product:')[1].strip()}\n",
    "                        elif 'size:' in line and 'memory' in line:\n",
    "                             current_gpu['memory'] = line.split('size:')[1].strip()\n",
    "\n",
    "                    if current_gpu: # 添加最后一个 GPU 的信息\n",
    "                        gpu_info_lines.append(f\"{current_gpu.get('product', 'GPU')} ({current_gpu.get('memory', 'N/A')})\")\n",
    "\n",
    "                    return \", \".join(gpu_info_lines) if gpu_info_lines else \"GPU found (via lshw), but info not parsed\" # 如果找到 GPU 但信息无法解析，设置提示信息\n",
    "                else:\n",
    "                    return \"No GPU found (checked nvidia-smi and lshw)\" # 如果两个命令都找不到 GPU，设置提示信息\n",
    "            except FileNotFoundError:\n",
    "                 return \"No GPU found (checked nvidia-smi, lshw not found)\" # 如果找不到 lshw 命令，设置提示信息\n",
    "    except FileNotFoundError:\n",
    "        return \"No GPU found (nvidia-smi not found)\" # 如果找不到 nvidia-smi 命令，设置提示信息\n",
    "\n",
    "\n",
    "# 获取 CUDA 版本的函数\n",
    "def get_cuda_version():\n",
    "    try:\n",
    "        # 尝试使用 nvcc --version 获取 CUDA 版本\n",
    "        result = subprocess.run(['nvcc', '--version'], capture_output=True, text=True)\n",
    "        if result.returncode == 0: # 如果命令成功执行\n",
    "            for line in result.stdout.splitlines():\n",
    "                if 'release' in line: # 查找包含 'release' 的行\n",
    "                    return line.split('release ')[1].split(',')[0] # 解析行，提取版本号\n",
    "        return \"CUDA not found or version not parsed\" # 如果找不到 CUDA 或版本无法解析，设置提示信息\n",
    "    except FileNotFoundError:\n",
    "        return \"CUDA not found\" # 如果找不到 nvcc 命令，设置提示信息\n",
    "\n",
    "# 获取 Python 版本的函数\n",
    "def get_python_version():\n",
    "    return platform.python_version() # 获取 Python 版本\n",
    "\n",
    "# 获取 Conda 版本的函数\n",
    "def get_conda_version():\n",
    "    try:\n",
    "        # 尝试使用 conda --version 获取 Conda 版本\n",
    "        result = subprocess.run(['conda', '--version'], capture_output=True, text=True)\n",
    "        if result.returncode == 0: # 如果命令成功执行\n",
    "            return result.stdout.strip() # 返回 Conda 版本\n",
    "        return \"Conda not found or version not parsed\" # 如果找不到 Conda 或版本无法解析，设置提示信息\n",
    "    except FileNotFoundError:\n",
    "        return \"Conda not found\" # 如果找不到 conda 命令，设置提示信息\n",
    "\n",
    "# 获取物理磁盘空间信息的函数\n",
    "def get_disk_space():\n",
    "    try:\n",
    "        total, used, free = shutil.disk_usage(\"/\") # 获取根目录的磁盘使用情况\n",
    "        total_gb = total / (1024**3) # 转换为 GB\n",
    "        used_gb = used / (1024**3) # 转换为 GB\n",
    "        free_gb = free / (1024**3) # 转换为 GB\n",
    "        return f\"Total: {total_gb:.2f} GB, Used: {used_gb:.2f} GB, Free: {free_gb:.2f} GB\" # 格式化输出\n",
    "    except Exception as e:\n",
    "        return f\"Could not retrieve disk info: {e}\" # 如果获取信息出错，设置错误信息\n",
    "\n",
    "# 获取环境信息\n",
    "os_name = platform.system() # 获取操作系统名称\n",
    "os_version = platform.release() # 获取操作系统版本\n",
    "if os_name == \"Linux\":\n",
    "    try:\n",
    "        # 在 Linux 上尝试获取发行版和版本\n",
    "        lsb_info = subprocess.run(['lsb_release', '-a'], capture_output=True, text=True)\n",
    "        if lsb_info.returncode == 0: # 如果命令成功执行\n",
    "            for line in lsb_info.stdout.splitlines():\n",
    "                if 'Description:' in line: # 查找包含 'Description:' 的行\n",
    "                    os_version = line.split('Description:')[1].strip() # 提取描述信息作为版本\n",
    "                    break # 找到后退出循环\n",
    "                elif 'Release:' in line: # 查找包含 'Release:' 的行\n",
    "                     os_version = line.split('Release:')[1].strip() # 提取版本号\n",
    "                     # 尝试获取 codename\n",
    "                     try:\n",
    "                         codename_info = subprocess.run(['lsb_release', '-c'], capture_output=True, text=True)\n",
    "                         if codename_info.returncode == 0:\n",
    "                             os_version += f\" ({codename_info.stdout.split(':')[1].strip()})\" # 将 codename 添加到版本信息中\n",
    "                     except:\n",
    "                         pass # 如果获取 codename 失败则忽略\n",
    "\n",
    "    except FileNotFoundError:\n",
    "        pass # lsb_release 可能未安装，忽略错误\n",
    "\n",
    "full_os_info = f\"{os_name} {os_version}\" # 组合完整的操作系统信息\n",
    "cpu_info = get_cpu_info() # 调用函数获取 CPU 信息和核心数量\n",
    "memory_info = get_memory_info() # 调用函数获取内存信息\n",
    "gpu_info = get_gpu_info() # 调用函数获取 GPU 信息和显存\n",
    "cuda_version = get_cuda_version() # 调用函数获取 CUDA 版本\n",
    "python_version = get_python_version() # 调用函数获取 Python 版本\n",
    "conda_version = get_conda_version() # 调用函数获取 Conda 版本\n",
    "disk_info = get_disk_space() # 调用函数获取物理磁盘空间信息\n",
    "\n",
    "\n",
    "# 创建用于存储数据的字典\n",
    "env_data = {\n",
    "    \"项目\": [ # 项目名称列表\n",
    "        \"操作系统\",\n",
    "        \"CPU 信息\",\n",
    "        \"内存信息\",\n",
    "        \"GPU 信息\",\n",
    "        \"CUDA 信息\",\n",
    "        \"Python 版本\",\n",
    "        \"Conda 版本\",\n",
    "        \"物理磁盘空间\" # 添加物理磁盘空间\n",
    "    ],\n",
    "    \"信息\": [ # 对应的信息列表\n",
    "        full_os_info,\n",
    "        cpu_info,\n",
    "        memory_info,\n",
    "        gpu_info,\n",
    "        cuda_version,\n",
    "        python_version,\n",
    "        conda_version,\n",
    "        disk_info # 添加物理磁盘空间信息\n",
    "    ]\n",
    "}\n",
    "\n",
    "# 创建一个 pandas DataFrame\n",
    "df = pd.DataFrame(env_data)\n",
    "\n",
    "# 打印表格\n",
    "print(\"### 环境信息\") # 打印标题\n",
    "print(df.to_markdown(index=False)) # 将 DataFrame 转换为 Markdown 格式并打印，不包含索引\n"
   ]
  },
  {
   "cell_type": "markdown",
   "id": "32b00113",
   "metadata": {
    "colab_type": "text",
    "id": "view-in-github"
   },
   "source": [
    "<a href=\"https://colab.research.google.com/github/FlyAIBox/langchain-academy/blob/fly101/module-2/trim-filter-messages.ipynb\" target=\"_parent\"><img src=\"https://colab.research.google.com/assets/colab-badge.svg\" alt=\"Open In Colab\"/></a>"
   ]
  },
  {
   "cell_type": "markdown",
   "id": "c52ea2f9-03ff-4647-b782-46867ebed04e",
   "metadata": {
    "id": "c52ea2f9-03ff-4647-b782-46867ebed04e"
   },
   "source": [
    "# 过滤与裁剪对话消息（Filtering and Trimming Messages）\n",
    "\n",
    "## 回顾\n",
    "\n",
    "到目前为止，我们已经进一步理解了以下内容：\n",
    "\n",
    "- 如何自定义图状态（Graph State）的数据模式（Schema）\n",
    "- 如何定义自定义的状态归约器器（State Reducers）\n",
    "- 如何在一个项目中使用多种图状态 Schema\n",
    "\n",
    "## 目标\n",
    "\n",
    "接下来，我们将在 LangGraph 中把这些概念用于实际模型调用。\n",
    "\n",
    "在后续章节里，我们会逐步构建一个支持长期记忆的聊天机器人。\n",
    "\n",
    "因为机器人依赖消息来对话，我们先介绍在图状态中处理消息的几种高级方式：过滤（Filter）与裁剪（Trim）。"
   ]
  },
  {
   "cell_type": "code",
   "execution_count": 1,
   "id": "d5197aba-5d46-421b-ae3b-4e3034edcfda",
   "metadata": {
    "id": "d5197aba-5d46-421b-ae3b-4e3034edcfda"
   },
   "outputs": [],
   "source": [
    "%%capture --no-stderr\n",
    "# %pip install --quiet -U langchain_core langgraph langchain_openai\n",
    "%pip install --quiet langchain_openai==0.3.32 langchain_core==0.3.75 langgraph==0.6.7"
   ]
  },
  {
   "cell_type": "code",
   "execution_count": 2,
   "id": "768dc606-d5f2-468d-96ea-910b264e0f8a",
   "metadata": {
    "colab": {
     "base_uri": "https://localhost:8080/"
    },
    "id": "768dc606-d5f2-468d-96ea-910b264e0f8a",
    "outputId": "86b1e4e0-4df3-42df-cdd2-529a5ca6a231"
   },
   "outputs": [
    {
     "name": "stdout",
     "output_type": "stream",
     "text": [
      "OPENAI_API_KEY: ··········\n",
      "OPENAI_BASE_URL: ··········\n"
     ]
    }
   ],
   "source": [
    "import os, getpass\n",
    "\n",
    "# 小工具：若环境变量未设置，则在运行时提示手动输入并写入到进程环境变量\n",
    "# 生产环境建议通过更安全的方式（如 .env、密钥管理服务、CI/CD 注入）设置\n",
    "\n",
    "def _set_env(var: str):\n",
    "    if not os.environ.get(var):\n",
    "        os.environ[var] = getpass.getpass(f\"{var}: \")\n",
    "\n",
    "# OpenAI API 密钥（用于 ChatOpenAI 调用）\n",
    "_set_env(\"OPENAI_API_KEY\")\n",
    "# 设置 OpenAI API代理地址 (例如：https://api.apiyi.com/v1）\n",
    "_set_env(\"OPENAI_BASE_URL\")"
   ]
  },
  {
   "cell_type": "markdown",
   "id": "8b64d8d3-e4ac-4961-bdc0-688825eb5864",
   "metadata": {
    "id": "8b64d8d3-e4ac-4961-bdc0-688825eb5864"
   },
   "source": [
    "我们将使用 [LangSmith](https://docs.smith.langchain.com/) 进行[调用追踪（tracing）](https://docs.smith.langchain.com/concepts/tracing)。\n",
    "\n",
    "本笔记会将追踪数据记录到项目 `langchain-academy` 中。"
   ]
  },
  {
   "cell_type": "code",
   "execution_count": 3,
   "id": "dd020c79",
   "metadata": {
    "colab": {
     "base_uri": "https://localhost:8080/"
    },
    "id": "dd020c79",
    "outputId": "ae7dec59-b178-4045-fd29-de21c5547aaf"
   },
   "outputs": [
    {
     "name": "stdout",
     "output_type": "stream",
     "text": [
      "LANGSMITH_API_KEY: ··········\n"
     ]
    }
   ],
   "source": [
    "# LangSmith 用于链路追踪与可视化分析\n",
    "_set_env(\"LANGSMITH_API_KEY\")\n",
    "os.environ[\"LANGSMITH_TRACING\"] = \"true\"\n",
    "# 指定追踪项目名，便于区分不同实验/环境\n",
    "os.environ[\"LANGSMITH_PROJECT\"] = \"langchain-academy\""
   ]
  },
  {
   "cell_type": "markdown",
   "id": "72f3fc90-58b6-4f7f-897e-dddf6ae532c7",
   "metadata": {
    "id": "72f3fc90-58b6-4f7f-897e-dddf6ae532c7"
   },
   "source": [
    "## 将消息作为状态（Messages as State）\n",
    "\n",
    "首先，我们先定义一些对话消息。"
   ]
  },
  {
   "cell_type": "code",
   "execution_count": 4,
   "id": "cf11a463-e27a-4a05-b41d-64882e38edca",
   "metadata": {
    "colab": {
     "base_uri": "https://localhost:8080/"
    },
    "id": "cf11a463-e27a-4a05-b41d-64882e38edca",
    "outputId": "1444c716-76be-4eea-c649-029780eaa50f"
   },
   "outputs": [
    {
     "name": "stdout",
     "output_type": "stream",
     "text": [
      "==================================\u001b[1m Ai Message \u001b[0m==================================\n",
      "Name: Bot\n",
      "\n",
      "你之前说你在研究海洋哺乳动物，对吗？\n",
      "================================\u001b[1m Human Message \u001b[0m=================================\n",
      "Name: Lance\n",
      "\n",
      "是的，我知道鲸鱼。但我还应该了解哪些其他的？\n"
     ]
    }
   ],
   "source": [
    "from pprint import pprint\n",
    "from langchain_core.messages import AIMessage, HumanMessage\n",
    "\n",
    "# 定义一组对话消息（先是 AI，再是人类），用于后续示例\n",
    "messages = [AIMessage(f\"你之前说你在研究海洋哺乳动物，对吗？\", name=\"Bot\")]\n",
    "messages.append(HumanMessage(f\"是的，我知道鲸鱼。但我还应该了解哪些其他的？\", name=\"Lance\"))\n",
    "# 以更易读的格式打印消息，便于调试与理解\n",
    "for m in messages:\n",
    "    m.pretty_print()"
   ]
  },
  {
   "cell_type": "markdown",
   "id": "b814adcb-6bf9-4b75-be11-e59f933fbd0c",
   "metadata": {
    "id": "b814adcb-6bf9-4b75-be11-e59f933fbd0c"
   },
   "source": [
    "回顾一下：我们可以直接把这组消息传给聊天模型。"
   ]
  },
  {
   "cell_type": "code",
   "execution_count": 5,
   "id": "4712e288-e622-48a2-ad3f-a52f65f3ab08",
   "metadata": {
    "colab": {
     "base_uri": "https://localhost:8080/"
    },
    "id": "4712e288-e622-48a2-ad3f-a52f65f3ab08",
    "outputId": "23c82818-51f1-414b-ea15-a7965cbde0f2"
   },
   "outputs": [
    {
     "name": "stderr",
     "output_type": "stream",
     "text": [
      "WARNING:langsmith.client:Failed to multipart ingest runs: langsmith.utils.LangSmithError: Failed to POST https://api.smith.langchain.com/runs/multipart in LangSmith API. HTTPError('403 Client Error: Forbidden for url: https://api.smith.langchain.com/runs/multipart', '{\"error\":\"Forbidden\"}\\n')\n"
     ]
    },
    {
     "data": {
      "text/plain": [
       "AIMessage(content='除了鲸鱼，还有许多其他的海洋哺乳动物值得了解。其中包括：\\n\\n1. **海豚**：海豚是非常聪明的哺乳动物，以其复杂的社会行为和高水平的智力著称。种类很多，如瓶鼻海豚、虎鲸（也称杀人鲸，实际上是海豚的一种）等。\\n\\n2. **海豹**：海豹是鳍足类动物，生活在全球范围内的海洋中。常见的种类包括普通海豹、象海豹和北极环斑海豹等。\\n\\n3. **海狮**：海狮也是鳍足类动物，它们与海豹不同的是可以更灵活地在陆地上行走。加州海狮是最为知名的品种之一。\\n\\n4. **海象**：海象以其巨大的体型和长长的獠牙而闻名，主要生活在北极地区。\\n\\n5. **儒艮和海牛**：这些被称为“海牛”的大型草食性哺乳动物主要生活在温暖的沿海水域。它们被认为是美人鱼传说的起源。\\n\\n6. **北极熊**：虽然不总是被认为是海洋哺乳动物，但北极熊依赖海洋栖息地和海冰以获得食物。\\n\\n了解这些动物不仅能够帮助我们认识多样化的海洋生态系统，还有助于推动它们的保护和研究工作。', additional_kwargs={'refusal': None}, response_metadata={'token_usage': {'completion_tokens': 339, 'prompt_tokens': 45, 'total_tokens': 384, 'completion_tokens_details': {'accepted_prediction_tokens': 0, 'audio_tokens': 0, 'reasoning_tokens': 0, 'rejected_prediction_tokens': 0}, 'prompt_tokens_details': {'audio_tokens': 0, 'cached_tokens': 0}, 'input_tokens': 0, 'output_tokens': 0, 'input_tokens_details': None}, 'model_name': 'gpt-4o', 'system_fingerprint': 'fp_ee1d74bde0', 'id': 'chatcmpl-CEXOnnJySL61wZnbHpFl1kEnmq8HU', 'service_tier': None, 'finish_reason': 'stop', 'logprobs': None}, id='run--2fcf6e91-0bf6-4eb8-a994-f5e08861daf3-0', usage_metadata={'input_tokens': 45, 'output_tokens': 339, 'total_tokens': 384, 'input_token_details': {'audio': 0, 'cache_read': 0}, 'output_token_details': {'audio': 0, 'reasoning': 0}})"
      ]
     },
     "execution_count": 5,
     "metadata": {},
     "output_type": "execute_result"
    }
   ],
   "source": [
    "from langchain_openai import ChatOpenAI\n",
    "\n",
    "# 初始化聊天模型；gpt-4o 仅为示例，可根据账号权限与成本选择其他模型\n",
    "llm = ChatOpenAI(model=\"gpt-4o\")\n",
    "\n",
    "# 直接将完整消息历史传入模型（注意：长对话会推高 token 与延迟）\n",
    "llm.invoke(messages)"
   ]
  },
  {
   "cell_type": "markdown",
   "id": "fbd1dab8-0af8-4621-8264-ce65065f76ec",
   "metadata": {
    "id": "fbd1dab8-0af8-4621-8264-ce65065f76ec"
   },
   "source": [
    "我们可以在一个使用 `MessagesState` 的简单图（Graph）里运行聊天模型。"
   ]
  },
  {
   "cell_type": "code",
   "execution_count": 6,
   "id": "bbd8c39c-633b-4176-9cc6-8318e42bb5dd",
   "metadata": {
    "colab": {
     "base_uri": "https://localhost:8080/",
     "height": 251
    },
    "id": "bbd8c39c-633b-4176-9cc6-8318e42bb5dd",
    "outputId": "b5fb0b94-b85f-4e4c-c4ea-48ab0afd87e9"
   },
   "outputs": [
    {
     "data": {
      "image/png": "[encoded data removed]",
      "text/plain": [
       "<IPython.core.display.Image object>"
      ]
     },
     "metadata": {},
     "output_type": "display_data"
    }
   ],
   "source": [
    "from IPython.display import Image, display\n",
    "from langgraph.graph import MessagesState\n",
    "from langgraph.graph import StateGraph, START, END\n",
    "\n",
    "# 定义一个图节点：接收状态中的所有消息，直接调用聊天模型\n",
    "# 注意：此处未做任何过滤/裁剪，长对话会不断增长\n",
    "\n",
    "def chat_model_node(state: MessagesState):\n",
    "    return {\"messages\": llm.invoke(state[\"messages\"])}\n",
    "\n",
    "# 构建最简图：START -> chat_model -> END\n",
    "builder = StateGraph(MessagesState)\n",
    "builder.add_node(\"chat_model\", chat_model_node)\n",
    "builder.add_edge(START, \"chat_model\")\n",
    "builder.add_edge(\"chat_model\", END)\n",
    "graph = builder.compile()\n",
    "\n",
    "# 可视化图结构\n",
    "display(Image(graph.get_graph().draw_mermaid_png()))"
   ]
  },
  {
   "cell_type": "code",
   "execution_count": 7,
   "id": "3a5a3e4a-ccfd-4d14-81f1-f0de6e11a1e4",
   "metadata": {
    "colab": {
     "base_uri": "https://localhost:8080/"
    },
    "id": "3a5a3e4a-ccfd-4d14-81f1-f0de6e11a1e4",
    "outputId": "988612ad-e9b8-410e-8541-53f1ad26ea06"
   },
   "outputs": [
    {
     "name": "stderr",
     "output_type": "stream",
     "text": [
      "WARNING:langsmith.client:Failed to send compressed multipart ingest: langsmith.utils.LangSmithError: Failed to POST https://api.smith.langchain.com/runs/multipart in LangSmith API. HTTPError('403 Client Error: Forbidden for url: https://api.smith.langchain.com/runs/multipart', '{\"error\":\"Forbidden\"}\\n')\n"
     ]
    },
    {
     "name": "stdout",
     "output_type": "stream",
     "text": [
      "==================================\u001b[1m Ai Message \u001b[0m==================================\n",
      "Name: Bot\n",
      "\n",
      "你之前说你在研究海洋哺乳动物，对吗？\n",
      "================================\u001b[1m Human Message \u001b[0m=================================\n",
      "Name: Lance\n",
      "\n",
      "是的，我知道鲸鱼。但我还应该了解哪些其他的？\n",
      "==================================\u001b[1m Ai Message \u001b[0m==================================\n",
      "\n",
      "除了鲸鱼，研究海洋哺乳动物时还可以了解以下几类：\n",
      "\n",
      "1. **海豚（Dolphins）**：海豚是非常聪明的海洋哺乳动物，属于齿鲸亚目，许多种类广泛分布于全球各大洋。\n",
      "\n",
      "2. **鼠海豚（Porpoises）**：与海豚相似但体型较小，齿形为铲状，与海豚的锥形牙齿不同。\n",
      "\n",
      "3. **海豹（Seals）**：海豹是鳍脚类动物之一，适应在陆地和海洋环境中生存。\n",
      "\n",
      "4. **海狮（Sea Lions）和海象（Walrus）**：这些也是鳍脚类动物，海狮以其外露的耳廓与海豹区分开来，而海象有长长的獠牙。\n",
      "\n",
      "5. **儒艮（Dugongs）和海牛（Manatees）**：这些被统称为海牛目动物，主要生活在浅水中，以海草为食。\n",
      "\n",
      "6. **北极熊（Polar Bears）**：虽然严格来说属于陆生哺乳动物，但它们依赖海冰狩猎海豹，是重要的海洋食性动物。\n",
      "\n",
      "7. **海獭（Sea Otters）**：海獭是食肉目动物，生活在北太平洋，主要以海胆、贝类等为食，对海洋生态系统有重要影响。\n",
      "\n",
      "了解这些动物的生物学特性、生态角色和保护现状，可以帮助更全面地理解海洋生态系统。\n"
     ]
    }
   ],
   "source": [
    "output = graph.invoke({'messages': messages})\n",
    "for m in output['messages']:\n",
    "    m.pretty_print()"
   ]
  },
  {
   "cell_type": "markdown",
   "id": "34c33e63-1ef4-412d-bb10-6a1b9e5b35a7",
   "metadata": {
    "id": "34c33e63-1ef4-412d-bb10-6a1b9e5b35a7"
   },
   "source": [
    "## 归约器（Reducer）\n",
    "\n",
    "在处理消息时，一个实际挑战是管理“长对话”。\n",
    "\n",
    "如果不加控制，随着对话历史不断增长，模型每次都会接收越来越长的消息列表，导致令牌（token）消耗增大、延迟升高。\n",
    "\n",
    "为了解决这个问题，我们有几种常用方法。\n",
    "\n",
    "首先，回顾之前的技巧：使用 `RemoveMessage` 配合 `add_messages` 归约器来删除不需要的历史消息。"
   ]
  },
  {
   "cell_type": "code",
   "execution_count": 8,
   "id": "222c6bc5-bb0e-4a43-80f5-c8ec38d99f3a",
   "metadata": {
    "colab": {
     "base_uri": "https://localhost:8080/",
     "height": 350
    },
    "id": "222c6bc5-bb0e-4a43-80f5-c8ec38d99f3a",
    "outputId": "4cd3968a-cff6-41f8-8d19-7ef79c3f815b"
   },
   "outputs": [
    {
     "data": {
      "image/png": "[encoded data removed]",
      "text/plain": [
       "<IPython.core.display.Image object>"
      ]
     },
     "metadata": {},
     "output_type": "display_data"
    }
   ],
   "source": [
    "from langchain_core.messages import RemoveMessage\n",
    "\n",
    "# 过滤节点：仅保留最近 2 条消息，删除更早的历史\n",
    "# 使用 RemoveMessage + add_messages 归约器的组合语义\n",
    "\n",
    "def filter_messages(state: MessagesState):\n",
    "    # Delete all but the 2 most recent messages\n",
    "    delete_messages = [RemoveMessage(id=m.id) for m in state[\"messages\"][:-2]]\n",
    "    return {\"messages\": delete_messages}\n",
    "\n",
    "# 调用节点：将过滤后的消息传给模型\n",
    "\n",
    "def chat_model_node(state: MessagesState):\n",
    "    return {\"messages\": [llm.invoke(state[\"messages\"])]}\n",
    "\n",
    "# 构建图：START -> filter -> chat_model -> END\n",
    "builder = StateGraph(MessagesState)\n",
    "builder.add_node(\"filter\", filter_messages)\n",
    "builder.add_node(\"chat_model\", chat_model_node)\n",
    "builder.add_edge(START, \"filter\")\n",
    "builder.add_edge(\"filter\", \"chat_model\")\n",
    "builder.add_edge(\"chat_model\", END)\n",
    "graph = builder.compile()\n",
    "\n",
    "# 可视化\n",
    "display(Image(graph.get_graph().draw_mermaid_png()))"
   ]
  },
  {
   "cell_type": "code",
   "execution_count": 9,
   "id": "95a7c2cc-54ce-43e7-9a90-abf37827d709",
   "metadata": {
    "colab": {
     "base_uri": "https://localhost:8080/"
    },
    "id": "95a7c2cc-54ce-43e7-9a90-abf37827d709",
    "outputId": "a6b1c515-165c-4128-d1d5-5d0c4c79953b"
   },
   "outputs": [
    {
     "name": "stderr",
     "output_type": "stream",
     "text": [
      "WARNING:langsmith.client:Failed to send compressed multipart ingest: langsmith.utils.LangSmithError: Failed to POST https://api.smith.langchain.com/runs/multipart in LangSmith API. HTTPError('403 Client Error: Forbidden for url: https://api.smith.langchain.com/runs/multipart', '{\"error\":\"Forbidden\"}\\n')\n"
     ]
    },
    {
     "name": "stdout",
     "output_type": "stream",
     "text": [
      "==================================\u001b[1m Ai Message \u001b[0m==================================\n",
      "Name: Bot\n",
      "\n",
      "你之前说你在研究海洋哺乳动物，对吗？\n",
      "================================\u001b[1m Human Message \u001b[0m=================================\n",
      "Name: Lance\n",
      "\n",
      "是的，我知道鲸鱼。但我还应该了解哪些其他的？\n",
      "==================================\u001b[1m Ai Message \u001b[0m==================================\n",
      "\n",
      "除了鲸鱼以外，还有许多其他的海洋哺乳动物你可以研究。以下是一些值得了解的海洋哺乳动物类别：\n",
      "\n",
      "1. **海豚（Dolphins）**：海豚是齿鲸小类下的一员，智商高，社交性强，种类繁多，例如瓶鼻海豚、虎鲸（也称逆戟鲸）等。\n",
      "\n",
      "2. **鼠海豚（Porpoises）**：与海豚类似，但在体型和生理结构上有一定区别，比如鼠海豚的吻部通常较短，牙齿的形状也不同。\n",
      "\n",
      "3. **海豹（Seals）**：属于鳍足类动物，既包括无耳海豹（真海豹科）也包括有耳海豹（海狮科和海狗科），海豹依赖陆地或冰面进行繁殖和休息。\n",
      "\n",
      "4. **海狮（Sea Lions）与海狗（Fur Seals）**：海狮和海狗均属于有耳海豹科，具有外耳壳，可在陆地上行走自如，常见的种类如加州海狮和新西兰毛皮海狮。\n",
      "\n",
      "5. **海牛（Manatees）与儒艮（Dugongs）**：这些是草食性海洋哺乳类，被称为“海洋牛”，“海牛”生活在沿海与河口水域，而“儒艮”主要分布于温暖的海域。\n",
      "\n",
      "6. **海獭（Sea Otters）**：主要栖息于北太平洋寒冷水域，以其利用工具（如石头）打开贝类而闻名，是重要的海洋生态系统的调控者。\n",
      "\n",
      "7. **北极熊（Polar Bears）**：尽管不是完全生活在海中，但它们经常依赖海冰来捕猎海豹，因此也被视作海洋哺乳动物的一员。\n",
      "\n",
      "了解这些海洋哺乳动物有助于你对它们在生态系统中所扮演的角色和它们面临的保护问题有更全面的认识。\n"
     ]
    }
   ],
   "source": [
    "# Message list with a preamble\n",
    "messages = [AIMessage(\"你好。\", name=\"Bot\", id=\"1\")]\n",
    "messages.append(HumanMessage(\"你好。\", name=\"Lance\", id=\"2\"))\n",
    "messages.append(AIMessage(\"你之前说你在研究海洋哺乳动物，对吗？\", name=\"Bot\", id=\"3\"))\n",
    "messages.append(HumanMessage(\"是的，我知道鲸鱼。但我还应该了解哪些其他的？\", name=\"Lance\", id=\"4\"))\n",
    "\n",
    "# Invoke\n",
    "output = graph.invoke({'messages': messages})\n",
    "for m in output['messages']:\n",
    "    m.pretty_print()"
   ]
  },
  {
   "cell_type": "markdown",
   "id": "f506457d-014b-4fee-a684-e5edfb4b8f0d",
   "metadata": {
    "id": "f506457d-014b-4fee-a684-e5edfb4b8f0d"
   },
   "source": [
    "## 过滤消息（Filtering Messages）\n",
    "\n",
    "如果你不需要或不想修改图状态本身，可以只对“传入聊天模型的消息列表”进行过滤。\n",
    "\n",
    "例如，仅把最后一条消息传给模型：`llm.invoke(messages[-1:])`。"
   ]
  },
  {
   "cell_type": "code",
   "execution_count": 10,
   "id": "22d0b904-7cd6-486b-8948-105bee3d4683",
   "metadata": {
    "colab": {
     "base_uri": "https://localhost:8080/",
     "height": 251
    },
    "id": "22d0b904-7cd6-486b-8948-105bee3d4683",
    "outputId": "f05f73bc-05e6-47a5-b65e-0a06071aa7a7"
   },
   "outputs": [
    {
     "data": {
      "image/png": "[encoded data removed]",
      "text/plain": [
       "<IPython.core.display.Image object>"
      ]
     },
     "metadata": {},
     "output_type": "display_data"
    }
   ],
   "source": [
    "# 仅传入“最后一条消息”给模型，避免把整段历史都送入模型\n",
    "# 注意：这种方式适用于上下文依赖较弱的问答；若强依赖上下文，请考虑裁剪（trim）而非简单过滤\n",
    "\n",
    "def chat_model_node(state: MessagesState):\n",
    "    return {\"messages\": [llm.invoke(state[\"messages\"][-1:])]}\n",
    "\n",
    "# 构建图\n",
    "builder = StateGraph(MessagesState)\n",
    "builder.add_node(\"chat_model\", chat_model_node)\n",
    "builder.add_edge(START, \"chat_model\")\n",
    "builder.add_edge(\"chat_model\", END)\n",
    "graph = builder.compile()\n",
    "\n",
    "# 可视化\n",
    "display(Image(graph.get_graph().draw_mermaid_png()))"
   ]
  },
  {
   "cell_type": "markdown",
   "id": "6f58c6fc-532f-418d-b70a-cfcb3307daf5",
   "metadata": {
    "id": "6f58c6fc-532f-418d-b70a-cfcb3307daf5"
   },
   "source": [
    "接下来，我们把现有消息列表继续扩展：先加入上面的 LLM 回复，再追加一个追问。"
   ]
  },
  {
   "cell_type": "code",
   "execution_count": 11,
   "id": "16956015-1dbe-4108-89b5-4209b68b51ca",
   "metadata": {
    "id": "16956015-1dbe-4108-89b5-4209b68b51ca"
   },
   "outputs": [],
   "source": [
    "messages.append(output['messages'][-1])\n",
    "messages.append(HumanMessage(f\"再告诉我一些关于独角鲸的事吧！\", name=\"Lance\"))"
   ]
  },
  {
   "cell_type": "code",
   "execution_count": 12,
   "id": "85563415-c085-46a8-a4ac-155df798c54e",
   "metadata": {
    "colab": {
     "base_uri": "https://localhost:8080/"
    },
    "id": "85563415-c085-46a8-a4ac-155df798c54e",
    "outputId": "cc792e3f-a61c-4047-8954-74b6620fd095"
   },
   "outputs": [
    {
     "name": "stdout",
     "output_type": "stream",
     "text": [
      "==================================\u001b[1m Ai Message \u001b[0m==================================\n",
      "Name: Bot\n",
      "\n",
      "你好。\n",
      "================================\u001b[1m Human Message \u001b[0m=================================\n",
      "Name: Lance\n",
      "\n",
      "你好。\n",
      "==================================\u001b[1m Ai Message \u001b[0m==================================\n",
      "Name: Bot\n",
      "\n",
      "你之前说你在研究海洋哺乳动物，对吗？\n",
      "================================\u001b[1m Human Message \u001b[0m=================================\n",
      "Name: Lance\n",
      "\n",
      "是的，我知道鲸鱼。但我还应该了解哪些其他的？\n",
      "==================================\u001b[1m Ai Message \u001b[0m==================================\n",
      "\n",
      "除了鲸鱼以外，还有许多其他的海洋哺乳动物你可以研究。以下是一些值得了解的海洋哺乳动物类别：\n",
      "\n",
      "1. **海豚（Dolphins）**：海豚是齿鲸小类下的一员，智商高，社交性强，种类繁多，例如瓶鼻海豚、虎鲸（也称逆戟鲸）等。\n",
      "\n",
      "2. **鼠海豚（Porpoises）**：与海豚类似，但在体型和生理结构上有一定区别，比如鼠海豚的吻部通常较短，牙齿的形状也不同。\n",
      "\n",
      "3. **海豹（Seals）**：属于鳍足类动物，既包括无耳海豹（真海豹科）也包括有耳海豹（海狮科和海狗科），海豹依赖陆地或冰面进行繁殖和休息。\n",
      "\n",
      "4. **海狮（Sea Lions）与海狗（Fur Seals）**：海狮和海狗均属于有耳海豹科，具有外耳壳，可在陆地上行走自如，常见的种类如加州海狮和新西兰毛皮海狮。\n",
      "\n",
      "5. **海牛（Manatees）与儒艮（Dugongs）**：这些是草食性海洋哺乳类，被称为“海洋牛”，“海牛”生活在沿海与河口水域，而“儒艮”主要分布于温暖的海域。\n",
      "\n",
      "6. **海獭（Sea Otters）**：主要栖息于北太平洋寒冷水域，以其利用工具（如石头）打开贝类而闻名，是重要的海洋生态系统的调控者。\n",
      "\n",
      "7. **北极熊（Polar Bears）**：尽管不是完全生活在海中，但它们经常依赖海冰来捕猎海豹，因此也被视作海洋哺乳动物的一员。\n",
      "\n",
      "了解这些海洋哺乳动物有助于你对它们在生态系统中所扮演的角色和它们面临的保护问题有更全面的认识。\n",
      "================================\u001b[1m Human Message \u001b[0m=================================\n",
      "Name: Lance\n",
      "\n",
      "再告诉我一些关于独角鲸的事吧！\n"
     ]
    }
   ],
   "source": [
    "for m in messages:\n",
    "    m.pretty_print()"
   ]
  },
  {
   "cell_type": "code",
   "execution_count": 13,
   "id": "23349705-a059-47b5-9760-d8f64e687393",
   "metadata": {
    "colab": {
     "base_uri": "https://localhost:8080/"
    },
    "id": "23349705-a059-47b5-9760-d8f64e687393",
    "outputId": "a54ab476-d742-47c8-86ca-3d5c35deaaee"
   },
   "outputs": [
    {
     "name": "stderr",
     "output_type": "stream",
     "text": [
      "WARNING:langsmith.client:Failed to send compressed multipart ingest: langsmith.utils.LangSmithError: Failed to POST https://api.smith.langchain.com/runs/multipart in LangSmith API. HTTPError('403 Client Error: Forbidden for url: https://api.smith.langchain.com/runs/multipart', '{\"error\":\"Forbidden\"}\\n')\n"
     ]
    },
    {
     "name": "stdout",
     "output_type": "stream",
     "text": [
      "==================================\u001b[1m Ai Message \u001b[0m==================================\n",
      "Name: Bot\n",
      "\n",
      "你好。\n",
      "================================\u001b[1m Human Message \u001b[0m=================================\n",
      "Name: Lance\n",
      "\n",
      "你好。\n",
      "==================================\u001b[1m Ai Message \u001b[0m==================================\n",
      "Name: Bot\n",
      "\n",
      "你之前说你在研究海洋哺乳动物，对吗？\n",
      "================================\u001b[1m Human Message \u001b[0m=================================\n",
      "Name: Lance\n",
      "\n",
      "是的，我知道鲸鱼。但我还应该了解哪些其他的？\n",
      "==================================\u001b[1m Ai Message \u001b[0m==================================\n",
      "\n",
      "除了鲸鱼以外，还有许多其他的海洋哺乳动物你可以研究。以下是一些值得了解的海洋哺乳动物类别：\n",
      "\n",
      "1. **海豚（Dolphins）**：海豚是齿鲸小类下的一员，智商高，社交性强，种类繁多，例如瓶鼻海豚、虎鲸（也称逆戟鲸）等。\n",
      "\n",
      "2. **鼠海豚（Porpoises）**：与海豚类似，但在体型和生理结构上有一定区别，比如鼠海豚的吻部通常较短，牙齿的形状也不同。\n",
      "\n",
      "3. **海豹（Seals）**：属于鳍足类动物，既包括无耳海豹（真海豹科）也包括有耳海豹（海狮科和海狗科），海豹依赖陆地或冰面进行繁殖和休息。\n",
      "\n",
      "4. **海狮（Sea Lions）与海狗（Fur Seals）**：海狮和海狗均属于有耳海豹科，具有外耳壳，可在陆地上行走自如，常见的种类如加州海狮和新西兰毛皮海狮。\n",
      "\n",
      "5. **海牛（Manatees）与儒艮（Dugongs）**：这些是草食性海洋哺乳类，被称为“海洋牛”，“海牛”生活在沿海与河口水域，而“儒艮”主要分布于温暖的海域。\n",
      "\n",
      "6. **海獭（Sea Otters）**：主要栖息于北太平洋寒冷水域，以其利用工具（如石头）打开贝类而闻名，是重要的海洋生态系统的调控者。\n",
      "\n",
      "7. **北极熊（Polar Bears）**：尽管不是完全生活在海中，但它们经常依赖海冰来捕猎海豹，因此也被视作海洋哺乳动物的一员。\n",
      "\n",
      "了解这些海洋哺乳动物有助于你对它们在生态系统中所扮演的角色和它们面临的保护问题有更全面的认识。\n",
      "================================\u001b[1m Human Message \u001b[0m=================================\n",
      "Name: Lance\n",
      "\n",
      "再告诉我一些关于独角鲸的事吧！\n",
      "==================================\u001b[1m Ai Message \u001b[0m==================================\n",
      "\n",
      "独角鲸（Monodon monoceros），是一种生活在北极海域的鲸类动物，以其长长的螺旋状牙齿而闻名。这种牙齿实际上是雄性独角鲸的一颗加长的犬齿，能够长达3米，但某些雌性独角鲸也可能拥有短牙。除了引人注目的牙齿，独角鲸还有一些有趣的特点：\n",
      "\n",
      "1. **栖息地**：独角鲸主要生活在北极及其附近的冰冷海域，如格陵兰海和巴芬湾。这些区域的冰川环境为它们提供了很好的庇护和食物来源。\n",
      "\n",
      "2. **饮食习惯**：它们以鱼类和软体动物为主食，例如鳕鱼和乌贼。有时候也会吃虾和其他甲壳类动物。\n",
      "\n",
      "3. **声纳能力**：独角鲸依赖声纳（回声定位）来导航和寻找食物。这种能力在黑暗和冰冷的海洋环境中尤其重要。\n",
      "\n",
      "4. **社会行为**：独角鲸通常以小群体形式活动，有时群体会达到数十只。它们是社交性很强的动物，常常进行复杂的声音交流。\n",
      "\n",
      "5. **传说与文化**：在历史上，独角鲸的牙齿曾被视作独角兽的角，被用作权力或治愈能力的象征。\n",
      "\n",
      "6. **保护状态**：由于其独特的栖息地和特殊的生态需求，独角鲸面临着来自气候变化、海洋污染和渔业威胁等方面的挑战。国际自然保护联盟（IUCN）将独角鲸列为近危物种，强调了保护其生存环境的重要性。\n",
      "\n",
      "独角鲸是自然界最迷人且独特的动物之一，其独特的生理特征和社会行为使它们在科学研究和保护工作中具有特殊的地位。\n"
     ]
    }
   ],
   "source": [
    "# Invoke, using message filtering\n",
    "output = graph.invoke({'messages': messages})\n",
    "for m in output['messages']:\n",
    "    m.pretty_print()"
   ]
  },
  {
   "cell_type": "markdown",
   "id": "42e1d8d2-e297-4d78-b54c-d12b3c866745",
   "metadata": {
    "id": "42e1d8d2-e297-4d78-b54c-d12b3c866745"
   },
   "source": [
    "图状态中仍然保存着全部消息。\n",
    "\n",
    "不过，从 LangSmith 的追踪可以看到：模型实际调用时只使用了最后一条消息。\n",
    "\n",
    "https://smith.langchain.com/public/75aca3ce-ef19-4b92-94be-0178c7a660d9/r"
   ]
  },
  {
   "cell_type": "markdown",
   "id": "fc40d930-3c1f-47fe-8d2a-ce174873353c",
   "metadata": {
    "id": "fc40d930-3c1f-47fe-8d2a-ce174873353c"
   },
   "source": [
    "## 裁剪消息（Trim Messages）\n",
    "\n",
    "另一种方式是按令牌数对历史进行“裁剪”（trim）：即通过 [`trim_messages`](https://python.langchain.com/v0.2/docs/how_to/trim_messages/#getting-the-last-max_tokens-tokens) 限制用于本次回复的历史消息总令牌数。\n",
    "\n",
    "- 过滤（filter）：只是事后挑选一部分消息传给模型；\n",
    "- 裁剪（trim）：从头/尾等策略出发，严格限制可用的历史上下文所占令牌数。\n",
    "\n",
    "下面演示如何使用 `trim_messages`。"
   ]
  },
  {
   "cell_type": "code",
   "execution_count": 14,
   "id": "2ff99b81-cf03-4cc2-b44f-44829a73e1fd",
   "metadata": {
    "colab": {
     "base_uri": "https://localhost:8080/",
     "height": 251
    },
    "id": "2ff99b81-cf03-4cc2-b44f-44829a73e1fd",
    "outputId": "01d5e043-6313-4da4-e557-db2851691a64"
   },
   "outputs": [
    {
     "data": {
      "image/png": "[encoded data removed]",
      "text/plain": [
       "<IPython.core.display.Image object>"
      ]
     },
     "metadata": {},
     "output_type": "display_data"
    }
   ],
   "source": [
    "from langchain_core.messages import trim_messages\n",
    "\n",
    "# 节点：对“历史消息”按令牌数进行裁剪，再调用模型\n",
    "# - max_tokens：历史消息允许占用的最大 token 数\n",
    "# - strategy：裁剪策略（\"last\" 表示优先保留靠后的消息）\n",
    "# - token_counter：用于估算 token 数的模型或计数器\n",
    "# - allow_partial：为 False 时，不会截断单条消息的一部分（保证每条消息的完整性）\n",
    "\n",
    "def chat_model_node(state: MessagesState):\n",
    "    messages = trim_messages(\n",
    "            state[\"messages\"],\n",
    "            max_tokens=100,\n",
    "            strategy=\"last\",\n",
    "            token_counter=ChatOpenAI(model=\"gpt-4o\"),\n",
    "            allow_partial=False,\n",
    "        )\n",
    "    return {\"messages\": [llm.invoke(messages)]}\n",
    "\n",
    "# 构建图\n",
    "builder = StateGraph(MessagesState)\n",
    "builder.add_node(\"chat_model\", chat_model_node)\n",
    "builder.add_edge(START, \"chat_model\")\n",
    "builder.add_edge(\"chat_model\", END)\n",
    "graph = builder.compile()\n",
    "\n",
    "# 可视化\n",
    "display(Image(graph.get_graph().draw_mermaid_png()))"
   ]
  },
  {
   "cell_type": "code",
   "execution_count": 15,
   "id": "24df63ac-da29-4874-b3df-7e390e97cc8a",
   "metadata": {
    "id": "24df63ac-da29-4874-b3df-7e390e97cc8a"
   },
   "outputs": [],
   "source": [
    "messages.append(output['messages'][-1])\n",
    "messages.append(HumanMessage(f\"Tell me where Orcas live!\", name=\"Lance\"))"
   ]
  },
  {
   "cell_type": "code",
   "execution_count": 16,
   "id": "6d9d8971-c75c-43ca-a209-eb1d07b2ead0",
   "metadata": {
    "colab": {
     "base_uri": "https://localhost:8080/"
    },
    "id": "6d9d8971-c75c-43ca-a209-eb1d07b2ead0",
    "outputId": "82e30268-08c3-4ad0-9812-15a56502a810"
   },
   "outputs": [
    {
     "name": "stderr",
     "output_type": "stream",
     "text": [
      "WARNING:langsmith.client:Failed to send compressed multipart ingest: langsmith.utils.LangSmithError: Failed to POST https://api.smith.langchain.com/runs/multipart in LangSmith API. HTTPError('403 Client Error: Forbidden for url: https://api.smith.langchain.com/runs/multipart', '{\"error\":\"Forbidden\"}\\n')\n"
     ]
    },
    {
     "data": {
      "text/plain": [
       "[HumanMessage(content='Tell me where Orcas live!', additional_kwargs={}, response_metadata={}, name='Lance')]"
      ]
     },
     "execution_count": 16,
     "metadata": {},
     "output_type": "execute_result"
    }
   ],
   "source": [
    "# Example of trimming messages\n",
    "trim_messages(\n",
    "            messages,\n",
    "            max_tokens=100,\n",
    "            strategy=\"last\",\n",
    "            token_counter=ChatOpenAI(model=\"gpt-4o\"),\n",
    "            allow_partial=False\n",
    "        )"
   ]
  },
  {
   "cell_type": "code",
   "execution_count": 17,
   "id": "ed70a269-a869-4fa0-a1df-29736a432c51",
   "metadata": {
    "colab": {
     "base_uri": "https://localhost:8080/"
    },
    "id": "ed70a269-a869-4fa0-a1df-29736a432c51",
    "outputId": "a3aa43b7-7b84-44b0-c27f-971c6e1df9ac"
   },
   "outputs": [
    {
     "name": "stderr",
     "output_type": "stream",
     "text": [
      "WARNING:langsmith.client:Failed to send compressed multipart ingest: langsmith.utils.LangSmithError: Failed to POST https://api.smith.langchain.com/runs/multipart in LangSmith API. HTTPError('403 Client Error: Forbidden for url: https://api.smith.langchain.com/runs/multipart', '{\"error\":\"Forbidden\"}\\n')\n"
     ]
    }
   ],
   "source": [
    "# Invoke, using message trimming in the chat_model_node\n",
    "messages_out_trim = graph.invoke({'messages': messages})"
   ]
  },
  {
   "cell_type": "markdown",
   "id": "38b3db67-380e-46b5-9a6a-20100ba52008",
   "metadata": {
    "id": "38b3db67-380e-46b5-9a6a-20100ba52008"
   },
   "source": [
    "最后，我们再通过 LangSmith 追踪看看本次模型调用的实际入参情况：\n",
    "\n",
    "https://smith.langchain.com/o/7bfa9385-4ac5-468a-a06c-ffd7dbac42ec/projects/p/d0a1a7a3-9644-4271-82cb-ccadc3ab6969?timeModel=%7B%22duration%22%3A%227d%22%7D&peek=e3584c0f-6c78-4bbd-9178-ab793cdd89e4&peeked_trace=e3584c0f-6c78-4bbd-9178-ab793cdd89e4"
   ]
  },
  {
   "cell_type": "markdown",
   "id": "bW5gPAqjCadX",
   "metadata": {
    "id": "bW5gPAqjCadX"
   },
   "source": []
  }
 ],
 "metadata": {
  "colab": {
   "include_colab_link": true,
   "provenance": []
  },
  "kernelspec": {
   "display_name": "Python 3 (ipykernel)",
   "language": "python",
   "name": "python3"
  },
  "language_info": {
   "codemirror_mode": {
    "name": "ipython",
    "version": 3
   },
   "file_extension": ".py",
   "mimetype": "text/x-python",
   "name": "python",
   "nbconvert_exporter": "python",
   "pygments_lexer": "ipython3",
   "version": "3.12.1"
  }
 },
 "nbformat": 4,
 "nbformat_minor": 5
}