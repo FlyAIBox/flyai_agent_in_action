{
 "cells": [
  {
   "cell_type": "markdown",
   "id": "env_config_overview",
   "metadata": {},
   "source": [
    "# 🔧 环境配置和检查\n",
    "\n",
    "## 概述\n",
    "本教程需要特定的环境配置以确保最佳学习体验。以下配置将帮助您：\n",
    "- 使用统一的conda环境\n",
    "- 通过国内镜像源快速安装依赖\n",
    "- 加速模型下载\n",
    "- 检查系统配置\n",
    "\n",
    "## 配置步骤\n",
    "1. **Conda环境管理** - 激活统一的学习环境\n",
    "2. **包管理器优化** - 配置pip使用清华镜像源\n",
    "3. **模型下载加速** - 设置HuggingFace镜像代理\n",
    "4. **系统环境诊断** - 检查硬件和软件配置\n"
   ]
  },
  {
   "cell_type": "code",
   "execution_count": null,
   "id": "env_conda_activate",
   "metadata": {},
   "outputs": [],
   "source": [
    "# 1. 激活conda环境\n",
    "%%script bash\n",
    "# 初始化 conda\n",
    "eval \"$(conda shell.bash hook)\"\n",
    "conda activate flyai_agent_in_action\n",
    "conda env list\n"
   ]
  },
  {
   "cell_type": "code",
   "execution_count": null,
   "id": "env_pip_config",
   "metadata": {},
   "outputs": [],
   "source": [
    "# 2. 设置pip 为清华源\n",
    "%pip config set global.index-url https://pypi.tuna.tsinghua.edu.cn/simple\n",
    "%pip config list\n"
   ]
  },
  {
   "cell_type": "code",
   "execution_count": null,
   "id": "env_hf_proxy",
   "metadata": {},
   "outputs": [],
   "source": [
    "# 3. 设置HuggingFace代理\n",
    "%env HF_ENDPOINT=https://hf-mirror.com\n",
    "# 验证：使用shell命令检查\n",
    "!echo $HF_ENDPOINT"
   ]
  },
  {
   "cell_type": "code",
   "execution_count": null,
   "id": "env_system_check",
   "metadata": {},
   "outputs": [],
   "source": [
    "# 🔍 环境信息检查脚本\n",
    "#\n",
    "# 本脚本的作用：\n",
    "# 1. 安装 pandas 库用于数据表格展示\n",
    "# 2. 检查系统的各项配置信息\n",
    "# 3. 生成详细的环境报告表格\n",
    "#\n",
    "# 对于初学者来说，这个步骤帮助您：\n",
    "# - 了解当前运行环境的硬件配置\n",
    "# - 确认是否满足模型运行的最低要求\n",
    "# - 学习如何通过代码获取系统信息\n",
    "\n",
    "# 安装 pandas 库 - 用于创建和展示数据表格\n",
    "# pandas 是 Python 中最流行的数据处理和分析库\n",
    "%pip install pandas==2.2.2 tabulate==0.9.0\n",
    "\n",
    "import platform # 导入 platform 模块以获取系统信息\n",
    "import os # 导入 os 模块以与操作系统交互\n",
    "import subprocess # 导入 subprocess 模块以运行外部命令\n",
    "import pandas as pd # 导入 pandas 模块，通常用于数据处理，这里用于创建表格\n",
    "import shutil # 导入 shutil 模块以获取磁盘空间信息\n",
    "\n",
    "# 获取 CPU 信息的函数，包括核心数量\n",
    "def get_cpu_info():\n",
    "    cpu_info = \"\" # 初始化 CPU 信息字符串\n",
    "    physical_cores = \"N/A\"\n",
    "    logical_cores = \"N/A\"\n",
    "\n",
    "    if platform.system() == \"Windows\": # 如果是 Windows 系统\n",
    "        cpu_info = platform.processor() # 使用 platform.processor() 获取 CPU 信息\n",
    "        try:\n",
    "            # 获取 Windows 上的核心数量 (需要 WMI)\n",
    "            import wmi\n",
    "            c = wmi.WMI()\n",
    "            for proc in c.Win32_Processor():\n",
    "                physical_cores = proc.NumberOfCores\n",
    "                logical_cores = proc.NumberOfLogicalProcessors\n",
    "        except:\n",
    "            pass # 如果 WMI 不可用，忽略错误\n",
    "\n",
    "    elif platform.system() == \"Darwin\": # 如果是 macOS 系统\n",
    "        # 在 macOS 上使用 sysctl 命令获取 CPU 信息和核心数量\n",
    "        os.environ['PATH'] = os.environ['PATH'] + os.pathsep + '/usr/sbin' # 更新 PATH 环境变量\n",
    "        try:\n",
    "            process_brand = subprocess.Popen(['sysctl', \"machdep.cpu.brand_string\"], stdout=subprocess.PIPE, stderr=subprocess.PIPE)\n",
    "            stdout_brand, stderr_brand = process_brand.communicate()\n",
    "            cpu_info = stdout_brand.decode().split(': ')[1].strip() if stdout_brand else \"Could not retrieve CPU info\"\n",
    "\n",
    "            process_physical = subprocess.Popen(['sysctl', \"hw.physicalcpu\"], stdout=subprocess.PIPE, stderr=subprocess.PIPE)\n",
    "            stdout_physical, stderr_physical = process_physical.communicate()\n",
    "            physical_cores = stdout_physical.decode().split(': ')[1].strip() if stdout_physical else \"N/A\"\n",
    "\n",
    "            process_logical = subprocess.Popen(['sysctl', \"hw.logicalcpu\"], stdout=subprocess.PIPE, stderr=subprocess.PIPE)\n",
    "            stdout_logical, stderr_logical = process_logical.communicate()\n",
    "            logical_cores = stdout_logical.decode().split(': ')[1].strip() if stdout_logical else \"N/A\"\n",
    "\n",
    "        except:\n",
    "            cpu_info = \"Could not retrieve CPU info\"\n",
    "            physical_cores = \"N/A\"\n",
    "            logical_cores = \"N/A\"\n",
    "\n",
    "    else:  # Linux 系统\n",
    "        try:\n",
    "            # 在 Linux 上读取 /proc/cpuinfo 文件获取 CPU 信息和核心数量\n",
    "            with open('/proc/cpuinfo') as f:\n",
    "                physical_cores_count = 0\n",
    "                logical_cores_count = 0\n",
    "                cpu_info_lines = []\n",
    "                for line in f:\n",
    "                    if line.startswith('model name'): # 查找以 'model name'开头的行\n",
    "                        if not cpu_info: # 只获取第一个 model name\n",
    "                            cpu_info = line.split(': ')[1].strip()\n",
    "                    elif line.startswith('cpu cores'): # 查找以 'cpu cores' 开头的行\n",
    "                        physical_cores_count = int(line.split(': ')[1].strip())\n",
    "                    elif line.startswith('processor'): # 查找以 'processor' 开头的行\n",
    "                        logical_cores_count += 1\n",
    "                physical_cores = str(physical_cores_count) if physical_cores_count > 0 else \"N/A\"\n",
    "                logical_cores = str(logical_cores_count) if logical_cores_count > 0 else \"N/A\"\n",
    "                if not cpu_info:\n",
    "                     cpu_info = \"Could not retrieve CPU info\"\n",
    "\n",
    "        except:\n",
    "            cpu_info = \"Could not retrieve CPU info\"\n",
    "            physical_cores = \"N/A\"\n",
    "            logical_cores = \"N/A\"\n",
    "\n",
    "    return f\"{cpu_info} ({physical_cores} physical cores, {logical_cores} logical cores)\" # 返回 CPU 信息和核心数量\n",
    "\n",
    "\n",
    "# 获取内存信息的函数\n",
    "def get_memory_info():\n",
    "    mem_info = \"\" # 初始化内存信息字符串\n",
    "    if platform.system() == \"Windows\":\n",
    "        # 在 Windows 上不容易通过标准库获取，需要外部库或 PowerShell\n",
    "        mem_info = \"Requires external tools on Windows\" # 设置提示信息\n",
    "    elif platform.system() == \"Darwin\": # 如果是 macOS 系统\n",
    "        # 在 macOS 上使用 sysctl 命令获取内存大小\n",
    "        process = subprocess.Popen(['sysctl', \"hw.memsize\"], stdout=subprocess.PIPE, stderr=subprocess.PIPE) # 运行 sysctl 命令\n",
    "        stdout, stderr = process.communicate() # 获取标准输出和标准错误\n",
    "        mem_bytes = int(stdout.decode().split(': ')[1].strip()) # 解析输出，获取内存大小（字节）\n",
    "        mem_gb = mem_bytes / (1024**3) # 转换为 GB\n",
    "        mem_info = f\"{mem_gb:.2f} GB\" # 格式化输出\n",
    "    else:  # Linux 系统\n",
    "        try:\n",
    "            # 在 Linux 上读取 /proc/meminfo 文件获取内存信息\n",
    "            with open('/proc/meminfo') as f:\n",
    "                total_mem_kb = 0\n",
    "                available_mem_kb = 0\n",
    "                for line in f:\n",
    "                    if line.startswith('MemTotal'): # 查找以 'MemTotal' 开头的行\n",
    "                        total_mem_kb = int(line.split(':')[1].strip().split()[0]) # 解析行，获取总内存（KB）\n",
    "                    elif line.startswith('MemAvailable'): # 查找以 'MemAvailable' 开头的行\n",
    "                         available_mem_kb = int(line.split(':')[1].strip().split()[0]) # 解析行，获取可用内存（KB）\n",
    "\n",
    "                if total_mem_kb > 0:\n",
    "                    total_mem_gb = total_mem_kb / (1024**2) # 转换为 GB\n",
    "                    mem_info = f\"{total_mem_gb:.2f} GB\" # 格式化输出总内存\n",
    "                    if available_mem_kb > 0:\n",
    "                        available_mem_gb = available_mem_kb / (1024**2)\n",
    "                        mem_info += f\" (Available: {available_mem_gb:.2f} GB)\" # 添加可用内存信息\n",
    "                else:\n",
    "                     mem_info = \"Could not retrieve memory info\" # 如果读取文件出错，设置错误信息\n",
    "\n",
    "        except:\n",
    "            mem_info = \"Could not retrieve memory info\" # 如果读取文件出错，设置错误信息\n",
    "    return mem_info # 返回内存信息\n",
    "\n",
    "# 获取 GPU 信息的函数，包括显存\n",
    "def get_gpu_info():\n",
    "    try:\n",
    "        # 尝试使用 nvidia-smi 获取 NVIDIA GPU 信息和显存\n",
    "        result = subprocess.run(['nvidia-smi', '--query-gpu=name,memory.total', '--format=csv,noheader'], capture_output=True, text=True)\n",
    "        if result.returncode == 0: # 如果命令成功执行\n",
    "            gpu_lines = result.stdout.strip().split('\\n') # 解析输出，获取 GPU 名称和显存\n",
    "            gpu_info_list = []\n",
    "            for line in gpu_lines:\n",
    "                name, memory = line.split(', ')\n",
    "                gpu_info_list.append(f\"{name} ({memory})\") # 格式化 GPU 信息\n",
    "            return \", \".join(gpu_info_list) if gpu_info_list else \"NVIDIA GPU found, but info not listed\" # 返回 GPU 信息或提示信息\n",
    "        else:\n",
    "             # 尝试使用 lshw 获取其他 GPU 信息 (需要安装 lshw)\n",
    "            try:\n",
    "                result_lshw = subprocess.run(['lshw', '-C', 'display'], capture_output=True, text=True)\n",
    "                if result_lshw.returncode == 0: # 如果命令成功执行\n",
    "                     # 简单解析输出中的 product 名称和显存\n",
    "                    gpu_info_lines = []\n",
    "                    current_gpu = {}\n",
    "                    for line in result_lshw.stdout.splitlines():\n",
    "                        if 'product:' in line:\n",
    "                             if current_gpu:\n",
    "                                 gpu_info_lines.append(f\"{current_gpu.get('product', 'GPU')} ({current_gpu.get('memory', 'N/A')})\")\n",
    "                             current_gpu = {'product': line.split('product:')[1].strip()}\n",
    "                        elif 'size:' in line and 'memory' in line:\n",
    "                             current_gpu['memory'] = line.split('size:')[1].strip()\n",
    "\n",
    "                    if current_gpu: # 添加最后一个 GPU 的信息\n",
    "                        gpu_info_lines.append(f\"{current_gpu.get('product', 'GPU')} ({current_gpu.get('memory', 'N/A')})\")\n",
    "\n",
    "                    return \", \".join(gpu_info_lines) if gpu_info_lines else \"GPU found (via lshw), but info not parsed\" # 如果找到 GPU 但信息无法解析，设置提示信息\n",
    "                else:\n",
    "                    return \"No GPU found (checked nvidia-smi and lshw)\" # 如果两个命令都找不到 GPU，设置提示信息\n",
    "            except FileNotFoundError:\n",
    "                 return \"No GPU found (checked nvidia-smi, lshw not found)\" # 如果找不到 lshw 命令，设置提示信息\n",
    "    except FileNotFoundError:\n",
    "        return \"No GPU found (nvidia-smi not found)\" # 如果找不到 nvidia-smi 命令，设置提示信息\n",
    "\n",
    "\n",
    "# 获取 CUDA 版本的函数\n",
    "def get_cuda_version():\n",
    "    try:\n",
    "        # 尝试使用 nvcc --version 获取 CUDA 版本\n",
    "        result = subprocess.run(['nvcc', '--version'], capture_output=True, text=True)\n",
    "        if result.returncode == 0: # 如果命令成功执行\n",
    "            for line in result.stdout.splitlines():\n",
    "                if 'release' in line: # 查找包含 'release' 的行\n",
    "                    return line.split('release ')[1].split(',')[0] # 解析行，提取版本号\n",
    "        return \"CUDA not found or version not parsed\" # 如果找不到 CUDA 或版本无法解析，设置提示信息\n",
    "    except FileNotFoundError:\n",
    "        return \"CUDA not found\" # 如果找不到 nvcc 命令，设置提示信息\n",
    "\n",
    "# 获取 Python 版本的函数\n",
    "def get_python_version():\n",
    "    return platform.python_version() # 获取 Python 版本\n",
    "\n",
    "# 获取 Conda 版本的函数\n",
    "def get_conda_version():\n",
    "    try:\n",
    "        # 尝试使用 conda --version 获取 Conda 版本\n",
    "        result = subprocess.run(['conda', '--version'], capture_output=True, text=True)\n",
    "        if result.returncode == 0: # 如果命令成功执行\n",
    "            return result.stdout.strip() # 返回 Conda 版本\n",
    "        return \"Conda not found or version not parsed\" # 如果找不到 Conda 或版本无法解析，设置提示信息\n",
    "    except FileNotFoundError:\n",
    "        return \"Conda not found\" # 如果找不到 conda 命令，设置提示信息\n",
    "\n",
    "# 获取物理磁盘空间信息的函数\n",
    "def get_disk_space():\n",
    "    try:\n",
    "        total, used, free = shutil.disk_usage(\"/\") # 获取根目录的磁盘使用情况\n",
    "        total_gb = total / (1024**3) # 转换为 GB\n",
    "        used_gb = used / (1024**3) # 转换为 GB\n",
    "        free_gb = free / (1024**3) # 转换为 GB\n",
    "        return f\"Total: {total_gb:.2f} GB, Used: {used_gb:.2f} GB, Free: {free_gb:.2f} GB\" # 格式化输出\n",
    "    except Exception as e:\n",
    "        return f\"Could not retrieve disk info: {e}\" # 如果获取信息出错，设置错误信息\n",
    "\n",
    "# 获取环境信息\n",
    "os_name = platform.system() # 获取操作系统名称\n",
    "os_version = platform.release() # 获取操作系统版本\n",
    "if os_name == \"Linux\":\n",
    "    try:\n",
    "        # 在 Linux 上尝试获取发行版和版本\n",
    "        lsb_info = subprocess.run(['lsb_release', '-a'], capture_output=True, text=True)\n",
    "        if lsb_info.returncode == 0: # 如果命令成功执行\n",
    "            for line in lsb_info.stdout.splitlines():\n",
    "                if 'Description:' in line: # 查找包含 'Description:' 的行\n",
    "                    os_version = line.split('Description:')[1].strip() # 提取描述信息作为版本\n",
    "                    break # 找到后退出循环\n",
    "                elif 'Release:' in line: # 查找包含 'Release:' 的行\n",
    "                     os_version = line.split('Release:')[1].strip() # 提取版本号\n",
    "                     # 尝试获取 codename\n",
    "                     try:\n",
    "                         codename_info = subprocess.run(['lsb_release', '-c'], capture_output=True, text=True)\n",
    "                         if codename_info.returncode == 0:\n",
    "                             os_version += f\" ({codename_info.stdout.split(':')[1].strip()})\" # 将 codename 添加到版本信息中\n",
    "                     except:\n",
    "                         pass # 如果获取 codename 失败则忽略\n",
    "\n",
    "    except FileNotFoundError:\n",
    "        pass # lsb_release 可能未安装，忽略错误\n",
    "\n",
    "full_os_info = f\"{os_name} {os_version}\" # 组合完整的操作系统信息\n",
    "cpu_info = get_cpu_info() # 调用函数获取 CPU 信息和核心数量\n",
    "memory_info = get_memory_info() # 调用函数获取内存信息\n",
    "gpu_info = get_gpu_info() # 调用函数获取 GPU 信息和显存\n",
    "cuda_version = get_cuda_version() # 调用函数获取 CUDA 版本\n",
    "python_version = get_python_version() # 调用函数获取 Python 版本\n",
    "conda_version = get_conda_version() # 调用函数获取 Conda 版本\n",
    "disk_info = get_disk_space() # 调用函数获取物理磁盘空间信息\n",
    "\n",
    "\n",
    "# 创建用于存储数据的字典\n",
    "env_data = {\n",
    "    \"项目\": [ # 项目名称列表\n",
    "        \"操作系统\",\n",
    "        \"CPU 信息\",\n",
    "        \"内存信息\",\n",
    "        \"GPU 信息\",\n",
    "        \"CUDA 信息\",\n",
    "        \"Python 版本\",\n",
    "        \"Conda 版本\",\n",
    "        \"物理磁盘空间\" # 添加物理磁盘空间\n",
    "    ],\n",
    "    \"信息\": [ # 对应的信息列表\n",
    "        full_os_info,\n",
    "        cpu_info,\n",
    "        memory_info,\n",
    "        gpu_info,\n",
    "        cuda_version,\n",
    "        python_version,\n",
    "        conda_version,\n",
    "        disk_info # 添加物理磁盘空间信息\n",
    "    ]\n",
    "}\n",
    "\n",
    "# 创建一个 pandas DataFrame\n",
    "df = pd.DataFrame(env_data)\n",
    "\n",
    "# 打印表格\n",
    "print(\"### 环境信息\") # 打印标题\n",
    "print(df.to_markdown(index=False)) # 将 DataFrame 转换为 Markdown 格式并打印，不包含索引\n"
   ]
  },
  {
   "cell_type": "markdown",
   "metadata": {
    "colab_type": "text",
    "id": "view-in-github"
   },
   "source": [
    "<a href=\"https://colab.research.google.com/github/FlyAIBox/langchain-academy/blob/fly101/module-3/edit-state-human-feedback.ipynb\" target=\"_parent\"><img src=\"https://colab.research.google.com/assets/colab-badge.svg\" alt=\"Open In Colab\"/></a>"
   ]
  },
  {
   "cell_type": "markdown",
   "id": "147e576c",
   "metadata": {
    "id": "147e576c"
   },
   "source": [
    "# 图状态编辑与人工反馈\n",
    "\n",
    "\n",
    "## 本教程简介\n",
    "\n",
    "本教程将向您展示如何在LangGraph中编辑图状态并集成人工反馈。这是构建人机协作AI系统的关键技术，让人类可以在AI执行过程中进行干预和指导。"
   ]
  },
  {
   "cell_type": "markdown",
   "id": "3b2f2448-21c3-4196-9e61-0b47e7d0048b",
   "metadata": {
    "id": "3b2f2448-21c3-4196-9e61-0b47e7d0048b"
   },
   "source": [
    "# 编辑图状态\n",
    "\n",
    "## 回顾\n",
    "\n",
    "我们之前讨论了人机协作（human-in-the-loop）的动机：\n",
    "\n",
    "**(1) 审批（Approval）** - 我们可以中断智能体，向用户展示状态，并允许用户接受某个操作\n",
    "\n",
    "**(2) 调试（Debugging）** - 我们可以回滚图来重现或避免问题\n",
    "\n",
    "**(3) 编辑（Editing）** - 您可以修改状态\n",
    "\n",
    "我们展示了断点如何支持用户审批，但还不知道如何在图被中断后修改图状态！\n",
    "\n",
    "## 学习目标\n",
    "\n",
    "现在，让我们展示如何直接编辑图状态并插入人工反馈。"
   ]
  },
  {
   "cell_type": "code",
   "execution_count": 1,
   "id": "95d26b8c-d958-4d21-9ca4-4636d3dfe45c",
   "metadata": {
    "id": "95d26b8c-d958-4d21-9ca4-4636d3dfe45c"
   },
   "outputs": [],
   "source": [
    "# 安装必要的依赖包\n",
    "# 这些包是构建LangGraph应用的核心组件\n",
    "%%capture --no-stderr\n",
    "# %pip install --quiet -U langgraph langchain_openai langgraph_sdk langgraph-prebuilt\n",
    "%pip install --quiet langgraph==0.6.7 langchain_openai==0.3.32 langgraph_sdk==0.2.6 langgraph-prebuilt==0.6.4"
   ]
  },
  {
   "cell_type": "code",
   "execution_count": 2,
   "id": "d5948594",
   "metadata": {
    "colab": {
     "base_uri": "https://localhost:8080/"
    },
    "id": "d5948594",
    "outputId": "90174103-6cdd-4be5-a4c9-7c84d2b01331"
   },
   "outputs": [
    {
     "name": "stdout",
     "output_type": "stream",
     "text": [
      "OPENAI_API_KEY: ··········\n",
      "OPENAI_BASE_URL: ··········\n"
     ]
    }
   ],
   "source": [
    "# 设置环境变量\n",
    "import os, getpass\n",
    "\n",
    "def _set_env(var: str):\n",
    "    \"\"\"安全地设置环境变量，如果不存在则提示用户输入\"\"\"\n",
    "    if not os.environ.get(var):\n",
    "        os.environ[var] = getpass.getpass(f\"{var}: \")\n",
    "\n",
    "# 设置OpenAI API密钥，这是使用OpenAI模型所必需的\n",
    "_set_env(\"OPENAI_API_KEY\")\n",
    "# 设置 OpenAI API代理地址 (例如：https://api.apiyi.com/v1）\n",
    "_set_env(\"OPENAI_BASE_URL\")"
   ]
  },
  {
   "cell_type": "markdown",
   "id": "65a8df1f-a76a-4803-a532-ea9802106ac8",
   "metadata": {
    "id": "65a8df1f-a76a-4803-a532-ea9802106ac8"
   },
   "source": [
    "## 编辑状态\n",
    "\n",
    "之前，我们介绍了断点（breakpoints）。\n",
    "\n",
    "我们使用断点来中断图，并在执行下一个节点之前等待用户审批。\n",
    "\n",
    "但断点也是[修改图状态的机会](https://langchain-ai.github.io/langgraph/how-tos/human_in_the_loop/edit-graph-state/)。\n",
    "\n",
    "让我们在`assistant`节点之前设置一个断点来构建我们的智能体。"
   ]
  },
  {
   "cell_type": "code",
   "execution_count": 4,
   "id": "bcf24f05-ac2b-455e-846c-0c50ac86e1f4",
   "metadata": {
    "id": "bcf24f05-ac2b-455e-846c-0c50ac86e1f4"
   },
   "outputs": [],
   "source": [
    "# 导入必要的库\n",
    "from langchain_openai import ChatOpenAI\n",
    "\n",
    "# 定义数学运算工具函数\n",
    "def multiply(a: int, b: int) -> int:\n",
    "    \"\"\"乘法运算：计算两个整数的乘积\n",
    "\n",
    "    Args:\n",
    "        a: 第一个整数\n",
    "        b: 第二个整数\n",
    "    \"\"\"\n",
    "    return a * b\n",
    "\n",
    "def add(a: int, b: int) -> int:\n",
    "    \"\"\"加法运算：计算两个整数的和\n",
    "\n",
    "    Args:\n",
    "        a: 第一个整数\n",
    "        b: 第二个整数\n",
    "    \"\"\"\n",
    "    return a + b\n",
    "\n",
    "def divide(a: int, b: int) -> float:\n",
    "    \"\"\"除法运算：计算两个整数的商\n",
    "\n",
    "    Args:\n",
    "        a: 被除数\n",
    "        b: 除数\n",
    "    \"\"\"\n",
    "    return a / b\n",
    "\n",
    "# 将工具函数组合成工具列表\n",
    "tools = [add, multiply, divide]\n",
    "\n",
    "# 初始化OpenAI聊天模型\n",
    "llm = ChatOpenAI(model=\"gpt-4o\")\n",
    "\n",
    "# 将工具绑定到语言模型，使模型能够调用这些工具\n",
    "llm_with_tools = llm.bind_tools(tools)"
   ]
  },
  {
   "cell_type": "code",
   "execution_count": 5,
   "id": "5dfe84af-5c62-4c3f-8ed7-96b5261f0b7b",
   "metadata": {
    "colab": {
     "base_uri": "https://localhost:8080/",
     "height": 308
    },
    "id": "5dfe84af-5c62-4c3f-8ed7-96b5261f0b7b",
    "outputId": "b0a5516f-31c0-495d-d439-caf0e80e825b"
   },
   "outputs": [
    {
     "data": {
      "image/png": "[encoded data removed]",
      "text/plain": [
       "<IPython.core.display.Image object>"
      ]
     },
     "metadata": {},
     "output_type": "display_data"
    }
   ],
   "source": [
    "# 导入必要的库\n",
    "from IPython.display import Image, display\n",
    "\n",
    "from langgraph.checkpoint.memory import MemorySaver\n",
    "from langgraph.graph import MessagesState\n",
    "from langgraph.graph import START, StateGraph\n",
    "from langgraph.prebuilt import tools_condition, ToolNode\n",
    "\n",
    "from langchain_core.messages import HumanMessage, SystemMessage\n",
    "\n",
    "# 定义系统消息，指导AI助手的行为\n",
    "sys_msg = SystemMessage(content=\"You are a helpful assistant tasked with performing arithmetic on a set of inputs.\")\n",
    "\n",
    "# 定义助手节点函数\n",
    "def assistant(state: MessagesState):\n",
    "    \"\"\"助手节点：使用语言模型处理消息并可能调用工具\n",
    "\n",
    "    Args:\n",
    "        state: 包含消息列表的图状态\n",
    "\n",
    "    Returns:\n",
    "        包含AI响应的新状态更新\n",
    "    \"\"\"\n",
    "    return {\"messages\": [llm_with_tools.invoke([sys_msg] + state[\"messages\"])]}\n",
    "\n",
    "# 创建状态图构建器\n",
    "builder = StateGraph(MessagesState)\n",
    "\n",
    "# 定义节点：这些节点执行具体的工作\n",
    "builder.add_node(\"assistant\", assistant)  # AI助手节点\n",
    "builder.add_node(\"tools\", ToolNode(tools))  # 工具执行节点\n",
    "\n",
    "# 定义边：这些边决定控制流程\n",
    "builder.add_edge(START, \"assistant\")  # 从开始到助手\n",
    "builder.add_conditional_edges(\n",
    "    \"assistant\",\n",
    "    # 如果助手的最新消息是工具调用 -> tools_condition 路由到工具节点\n",
    "    # 如果助手的最新消息不是工具调用 -> tools_condition 路由到结束\n",
    "    tools_condition,\n",
    ")\n",
    "builder.add_edge(\"tools\", \"assistant\")  # 从工具回到助手\n",
    "\n",
    "# 创建内存检查点保存器，用于保存图状态\n",
    "memory = MemorySaver()\n",
    "\n",
    "# 编译图，在assistant节点之前设置中断点\n",
    "graph = builder.compile(interrupt_before=[\"assistant\"], checkpointer=memory)\n",
    "\n",
    "# 显示图的可视化结构\n",
    "display(Image(graph.get_graph(xray=True).draw_mermaid_png()))"
   ]
  },
  {
   "cell_type": "markdown",
   "id": "92a47fd5-1f60-41dc-9206-698ed8ece530",
   "metadata": {
    "id": "92a47fd5-1f60-41dc-9206-698ed8ece530"
   },
   "source": [
    "让我们运行图！\n",
    "\n",
    "我们可以看到图在聊天模型响应之前被中断了。"
   ]
  },
  {
   "cell_type": "code",
   "execution_count": 6,
   "id": "a2ce488d-00e4-492e-a62c-dd98702c313f",
   "metadata": {
    "colab": {
     "base_uri": "https://localhost:8080/"
    },
    "id": "a2ce488d-00e4-492e-a62c-dd98702c313f",
    "outputId": "7736c7bb-0693-433a-99c8-9a04c1458e72"
   },
   "outputs": [
    {
     "name": "stdout",
     "output_type": "stream",
     "text": [
      "================================\u001b[1m Human Message \u001b[0m=================================\n",
      "\n",
      "Multiply 2 and 3\n"
     ]
    }
   ],
   "source": [
    "# 定义初始输入：用户要求进行数学运算\n",
    "initial_input = {\"messages\": \"Multiply 2 and 3\"}\n",
    "\n",
    "# 创建线程配置，用于跟踪对话状态\n",
    "thread = {\"configurable\": {\"thread_id\": \"1\"}}\n",
    "\n",
    "# 运行图直到第一个中断点\n",
    "# 由于设置了interrupt_before=[\"assistant\"]，图会在assistant节点执行前停止\n",
    "for event in graph.stream(initial_input, thread, stream_mode=\"values\"):\n",
    "    event['messages'][-1].pretty_print()"
   ]
  },
  {
   "cell_type": "code",
   "execution_count": 7,
   "id": "4be478ef-bd60-4d32-8a05-5f56c93a8396",
   "metadata": {
    "colab": {
     "base_uri": "https://localhost:8080/"
    },
    "id": "4be478ef-bd60-4d32-8a05-5f56c93a8396",
    "outputId": "d898817a-3556-4785-c4e3-2fc1cc4a1229"
   },
   "outputs": [
    {
     "data": {
      "text/plain": [
       "StateSnapshot(values={'messages': [HumanMessage(content='Multiply 2 and 3', additional_kwargs={}, response_metadata={}, id='47164047-b316-461d-a6db-b688fe22b9e2')]}, next=('assistant',), config={'configurable': {'thread_id': '1', 'checkpoint_ns': '', 'checkpoint_id': '1f08fb04-cc7f-6ab3-8000-bd10cf2ba52e'}}, metadata={'source': 'loop', 'step': 0, 'parents': {}}, created_at='2025-09-12T08:13:01.367558+00:00', parent_config={'configurable': {'thread_id': '1', 'checkpoint_ns': '', 'checkpoint_id': '1f08fb04-cc7d-67ae-bfff-212de85ada55'}}, tasks=(PregelTask(id='4751155e-2a98-83df-df8a-f489f43e45d3', name='assistant', path=('__pregel_pull', 'assistant'), error=None, interrupts=(), state=None, result=None),), interrupts=())"
      ]
     },
     "execution_count": 7,
     "metadata": {},
     "output_type": "execute_result"
    }
   ],
   "source": [
    "# 获取当前图状态，查看中断时的状态信息\n",
    "state = graph.get_state(thread)\n",
    "state"
   ]
  },
  {
   "cell_type": "markdown",
   "id": "36ef63a1-2ab8-416d-babf-d35054e294f0",
   "metadata": {
    "id": "36ef63a1-2ab8-416d-babf-d35054e294f0"
   },
   "source": [
    "现在，我们可以直接应用状态更新。\n",
    "\n",
    "记住，对`messages`键的更新将使用`add_messages`归约器：\n",
    "\n",
    "* 如果我们想要覆盖现有消息，可以提供消息的`id`。\n",
    "* 如果我们只是想要追加到消息列表中，那么可以传递一个没有指定`id`的消息，如下所示。"
   ]
  },
  {
   "cell_type": "code",
   "execution_count": 8,
   "id": "9179cff1-e529-473a-9ce2-e23b932c2063",
   "metadata": {
    "colab": {
     "base_uri": "https://localhost:8080/"
    },
    "id": "9179cff1-e529-473a-9ce2-e23b932c2063",
    "outputId": "1ea55096-4c34-41bd-8f31-6795d6cef635"
   },
   "outputs": [
    {
     "data": {
      "text/plain": [
       "{'configurable': {'thread_id': '1',\n",
       "  'checkpoint_ns': '',\n",
       "  'checkpoint_id': '1f08fb05-0434-60e6-8001-c9837f4ce146'}}"
      ]
     },
     "execution_count": 8,
     "metadata": {},
     "output_type": "execute_result"
    }
   ],
   "source": [
    "# 更新图状态：添加新的人类消息\n",
    "# 这里我们添加一条新消息来修改用户的原始请求\n",
    "graph.update_state(\n",
    "    thread,\n",
    "    {\"messages\": [HumanMessage(content=\"No, actually multiply 3 and 3!\")]},\n",
    ")"
   ]
  },
  {
   "cell_type": "markdown",
   "id": "d77b8d6a-8c7b-4f7a-b723-121af25ac829",
   "metadata": {
    "id": "d77b8d6a-8c7b-4f7a-b723-121af25ac829"
   },
   "source": [
    "让我们看一下结果。\n",
    "\n",
    "我们使用新消息调用了`update_state`。\n",
    "\n",
    "`add_messages`归约器将其追加到我们的状态键`messages`中。"
   ]
  },
  {
   "cell_type": "code",
   "execution_count": 9,
   "id": "141b6aab-ec6d-44f3-beb1-6c22ac5f2158",
   "metadata": {
    "colab": {
     "base_uri": "https://localhost:8080/"
    },
    "id": "141b6aab-ec6d-44f3-beb1-6c22ac5f2158",
    "outputId": "29f6863a-e7ed-492a-8754-ad65919747d3"
   },
   "outputs": [
    {
     "name": "stdout",
     "output_type": "stream",
     "text": [
      "================================\u001b[1m Human Message \u001b[0m=================================\n",
      "\n",
      "Multiply 2 and 3\n",
      "================================\u001b[1m Human Message \u001b[0m=================================\n",
      "\n",
      "No, actually multiply 3 and 3!\n"
     ]
    }
   ],
   "source": [
    "# 获取更新后的状态并显示所有消息\n",
    "new_state = graph.get_state(thread).values\n",
    "for m in new_state['messages']:\n",
    "    m.pretty_print()"
   ]
  },
  {
   "cell_type": "markdown",
   "id": "e4041959-cc3a-4168-8cf7-06d1711921d8",
   "metadata": {
    "id": "e4041959-cc3a-4168-8cf7-06d1711921d8"
   },
   "source": [
    "现在，让我们继续执行我们的智能体，只需传递`None`并允许它从当前状态继续。\n",
    "\n",
    "我们发出当前状态，然后继续执行剩余的节点。"
   ]
  },
  {
   "cell_type": "code",
   "execution_count": 10,
   "id": "f166bed2-87c9-41ec-b235-0305721c2d6b",
   "metadata": {
    "colab": {
     "base_uri": "https://localhost:8080/"
    },
    "id": "f166bed2-87c9-41ec-b235-0305721c2d6b",
    "outputId": "ee0bd980-4ec0-49d3-e382-a65aa66b03d3"
   },
   "outputs": [
    {
     "name": "stdout",
     "output_type": "stream",
     "text": [
      "================================\u001b[1m Human Message \u001b[0m=================================\n",
      "\n",
      "No, actually multiply 3 and 3!\n",
      "==================================\u001b[1m Ai Message \u001b[0m==================================\n",
      "Tool Calls:\n",
      "  multiply (call_uAdcIWOIU6ToL8jpdhIwy9NE)\n",
      " Call ID: call_uAdcIWOIU6ToL8jpdhIwy9NE\n",
      "  Args:\n",
      "    a: 3\n",
      "    b: 3\n",
      "=================================\u001b[1m Tool Message \u001b[0m=================================\n",
      "Name: multiply\n",
      "\n",
      "9\n"
     ]
    }
   ],
   "source": [
    "# 继续执行图，从当前中断点开始\n",
    "# 传递None表示从当前状态继续，而不是重新开始\n",
    "for event in graph.stream(None, thread, stream_mode=\"values\"):\n",
    "    event['messages'][-1].pretty_print()"
   ]
  },
  {
   "cell_type": "markdown",
   "id": "b18dc1ca",
   "metadata": {
    "id": "b18dc1ca"
   },
   "source": [
    "现在，我们又回到了`assistant`节点，它设置了我们的`breakpoint`。\n",
    "\n",
    "我们可以再次传递`None`来继续执行。"
   ]
  },
  {
   "cell_type": "code",
   "execution_count": 11,
   "id": "f5952731-0170-4589-a399-ee787df35400",
   "metadata": {
    "colab": {
     "base_uri": "https://localhost:8080/"
    },
    "id": "f5952731-0170-4589-a399-ee787df35400",
    "outputId": "2f880747-c7b3-41d7-f6e1-165ab9ca18f8"
   },
   "outputs": [
    {
     "name": "stdout",
     "output_type": "stream",
     "text": [
      "=================================\u001b[1m Tool Message \u001b[0m=================================\n",
      "Name: multiply\n",
      "\n",
      "9\n",
      "==================================\u001b[1m Ai Message \u001b[0m==================================\n",
      "\n",
      "The product of 3 and 3 is 9.\n"
     ]
    }
   ],
   "source": [
    "# 继续执行图，完成剩余的计算\n",
    "for event in graph.stream(None, thread, stream_mode=\"values\"):\n",
    "    event['messages'][-1].pretty_print()"
   ]
  },
  {
   "cell_type": "markdown",
   "id": "bc22c3e9-b00c-4ead-b752-a682b45b3718",
   "metadata": {
    "id": "bc22c3e9-b00c-4ead-b752-a682b45b3718"
   },
   "source": [
    "### 在Studio中编辑图状态\n",
    "\n",
    "**⚠️ 免责声明**\n",
    "\n",
    "自这些视频拍摄以来，我们已经更新了Studio，使其可以在本地运行并在浏览器中打开。这是现在运行Studio的首选方式（而不是使用视频中显示的桌面应用程序）。请参阅[本地开发服务器](https://langchain-ai.github.io/langgraph/concepts/langgraph_studio/#local-development-server)的文档和[运行开发服务器](https://langchain-ai.github.io/langgraph/how-tos/local-studio/#run-the-development-server)的文档。要启动本地开发服务器，请在此模块的`/studio`目录中的终端运行以下命令：\n",
    "\n",
    "```\n",
    "langgraph dev\n",
    "```\n",
    "\n",
    "您应该看到以下输出：\n",
    "```\n",
    "- 🚀 API: http://127.0.0.1:2024\n",
    "- 🎨 Studio UI: https://smith.langchain.com/studio/?baseUrl=http://127.0.0.1:2024\n",
    "- 📚 API Docs: http://127.0.0.1:2024/docs\n",
    "```\n",
    "\n",
    "打开您的浏览器并导航到Studio UI：`https://smith.langchain.com/studio/?baseUrl=http://127.0.0.1:2024`。\n",
    "\n",
    "LangGraph API [支持编辑图状态](https://langchain-ai.github.io/langgraph/cloud/how-tos/human_in_the_loop_edit_state/#initial-invocation)。"
   ]
  },
  {
   "cell_type": "code",
   "execution_count": null,
   "id": "020efeba-fa80-4839-81f9-9ce228f9844e",
   "metadata": {
    "id": "020efeba-fa80-4839-81f9-9ce228f9844e"
   },
   "outputs": [],
   "source": [
    "# 检查是否在Google Colab环境中运行\n",
    "# LangGraph Studio目前不支持在Google Colab中运行\n",
    "if 'google.colab' in str(get_ipython()):\n",
    "    raise Exception(\"Unfortunately LangGraph Studio is currently not supported on Google Colab\")"
   ]
  },
  {
   "cell_type": "code",
   "execution_count": null,
   "id": "642aabab-f822-4917-9d66-3314ac5008fd",
   "metadata": {
    "id": "642aabab-f822-4917-9d66-3314ac5008fd"
   },
   "outputs": [],
   "source": [
    "# 这是本地开发服务器的URL\n",
    "# 创建LangGraph SDK客户端，用于与本地Studio服务器通信\n",
    "from langgraph_sdk import get_client\n",
    "client = get_client(url=\"http://127.0.0.1:2024\")"
   ]
  },
  {
   "cell_type": "markdown",
   "id": "be74cb09",
   "metadata": {
    "id": "be74cb09"
   },
   "source": [
    "我们的智能体定义在`studio/agent.py`中。\n",
    "\n",
    "如果您查看代码，您会发现它*没有*断点！\n",
    "\n",
    "当然，我们可以将其添加到`agent.py`中，但API的一个非常好的功能是我们可以传入断点！\n",
    "\n",
    "在这里，我们传递`interrupt_before=[\"assistant\"]`。"
   ]
  },
  {
   "cell_type": "code",
   "execution_count": null,
   "id": "1c352f9e-6a0f-4a94-a083-b85b0233efa9",
   "metadata": {
    "id": "1c352f9e-6a0f-4a94-a083-b85b0233efa9",
    "outputId": "d91eabef-33b8-4aa6-c358-531465c67799"
   },
   "outputs": [
    {
     "name": "stdout",
     "output_type": "stream",
     "text": [
      "Receiving new event of type: metadata...\n",
      "--------------------------------------------------\n",
      "Receiving new event of type: values...\n",
      "{'content': 'Multiply 2 and 3', 'additional_kwargs': {}, 'response_metadata': {}, 'type': 'human', 'name': None, 'id': '882dabe4-b877-4d71-bd09-c34cb97c4f46', 'example': False}\n",
      "--------------------------------------------------\n"
     ]
    }
   ],
   "source": [
    "# 使用LangGraph SDK创建线程并运行智能体\n",
    "initial_input = {\"messages\": \"Multiply 2 and 3\"}\n",
    "thread = await client.threads.create()\n",
    "\n",
    "# 异步流式运行智能体，在assistant节点前中断\n",
    "async for chunk in client.runs.stream(\n",
    "    thread[\"thread_id\"],\n",
    "    \"agent\",\n",
    "    input=initial_input,\n",
    "    stream_mode=\"values\",\n",
    "    interrupt_before=[\"assistant\"],  # 在assistant节点前设置中断点\n",
    "):\n",
    "    print(f\"Receiving new event of type: {chunk.event}...\")\n",
    "    messages = chunk.data.get('messages', [])\n",
    "    if messages:\n",
    "        print(messages[-1])\n",
    "    print(\"-\" * 50)"
   ]
  },
  {
   "cell_type": "markdown",
   "id": "13065dd9-5f43-47d6-ac2a-9dc15c0c54e6",
   "metadata": {
    "id": "13065dd9-5f43-47d6-ac2a-9dc15c0c54e6"
   },
   "source": [
    "我们可以获取当前状态"
   ]
  },
  {
   "cell_type": "code",
   "execution_count": null,
   "id": "4da2c464-3e71-496a-badc-671aeee168b6",
   "metadata": {
    "id": "4da2c464-3e71-496a-badc-671aeee168b6",
    "outputId": "5c6760d1-cde8-4a7a-89a2-edfd32fa860d"
   },
   "outputs": [
    {
     "data": {
      "text/plain": [
       "{'values': {'messages': [{'content': 'Multiply 2 and 3',\n",
       "    'additional_kwargs': {},\n",
       "    'response_metadata': {},\n",
       "    'type': 'human',\n",
       "    'name': None,\n",
       "    'id': '882dabe4-b877-4d71-bd09-c34cb97c4f46',\n",
       "    'example': False}]},\n",
       " 'next': ['assistant'],\n",
       " 'tasks': [{'id': 'a71c0b80-a679-57cb-aa59-a1655b763480',\n",
       "   'name': 'assistant',\n",
       "   'error': None,\n",
       "   'interrupts': [],\n",
       "   'state': None}],\n",
       " 'metadata': {'step': 0,\n",
       "  'run_id': '1ef6a41c-ea63-663f-b3e8-4f001bf0bf53',\n",
       "  'source': 'loop',\n",
       "  'writes': None,\n",
       "  'parents': {},\n",
       "  'user_id': '',\n",
       "  'graph_id': 'agent',\n",
       "  'thread_id': 'a95ffa54-2435-4a47-a9da-e886369ca8ee',\n",
       "  'created_by': 'system',\n",
       "  'assistant_id': 'fe096781-5601-53d2-b2f6-0d3403f7e9ca'},\n",
       " 'created_at': '2024-09-03T22:13:54.466695+00:00',\n",
       " 'checkpoint_id': '1ef6a41c-ead7-637b-8000-8c6a7b98379e',\n",
       " 'parent_checkpoint_id': '1ef6a41c-ead3-637d-bfff-397ebdb4f2ea'}"
      ]
     },
     "execution_count": 11,
     "metadata": {},
     "output_type": "execute_result"
    }
   ],
   "source": [
    "# 获取当前线程的状态信息\n",
    "current_state = await client.threads.get_state(thread['thread_id'])\n",
    "current_state"
   ]
  },
  {
   "cell_type": "markdown",
   "id": "4527bbf1-0927-41a6-aeef-d15e32bbbdc3",
   "metadata": {
    "id": "4527bbf1-0927-41a6-aeef-d15e32bbbdc3"
   },
   "source": [
    "我们可以查看状态中的最后一条消息。"
   ]
  },
  {
   "cell_type": "code",
   "execution_count": null,
   "id": "801ae2d9-0551-46b8-aee2-82293cee4011",
   "metadata": {
    "id": "801ae2d9-0551-46b8-aee2-82293cee4011",
    "outputId": "2b8f37bb-425b-4723-866c-535cf67d0ca5"
   },
   "outputs": [
    {
     "data": {
      "text/plain": [
       "{'content': 'Multiply 2 and 3',\n",
       " 'additional_kwargs': {},\n",
       " 'response_metadata': {},\n",
       " 'type': 'human',\n",
       " 'name': None,\n",
       " 'id': '882dabe4-b877-4d71-bd09-c34cb97c4f46',\n",
       " 'example': False}"
      ]
     },
     "execution_count": 12,
     "metadata": {},
     "output_type": "execute_result"
    }
   ],
   "source": [
    "# 获取状态中的最后一条消息\n",
    "last_message = current_state['values']['messages'][-1]\n",
    "last_message"
   ]
  },
  {
   "cell_type": "markdown",
   "id": "f0581ba8-db3d-474d-9042-b1c7f3461caf",
   "metadata": {
    "id": "f0581ba8-db3d-474d-9042-b1c7f3461caf"
   },
   "source": [
    "我们可以编辑它！"
   ]
  },
  {
   "cell_type": "code",
   "execution_count": null,
   "id": "86b12be7-7e4a-40d0-8521-dced7c393c71",
   "metadata": {
    "id": "86b12be7-7e4a-40d0-8521-dced7c393c71",
    "outputId": "dc5306a2-dc09-4944-b9b4-3881b99721d0"
   },
   "outputs": [
    {
     "data": {
      "text/plain": [
       "{'content': 'No, actually multiply 3 and 3!',\n",
       " 'additional_kwargs': {},\n",
       " 'response_metadata': {},\n",
       " 'type': 'human',\n",
       " 'name': None,\n",
       " 'id': '882dabe4-b877-4d71-bd09-c34cb97c4f46',\n",
       " 'example': False}"
      ]
     },
     "execution_count": 13,
     "metadata": {},
     "output_type": "execute_result"
    }
   ],
   "source": [
    "# 修改最后一条消息的内容\n",
    "last_message['content'] = \"No, actually multiply 3 and 3!\"\n",
    "last_message"
   ]
  },
  {
   "cell_type": "code",
   "execution_count": null,
   "id": "f84f2c24-f281-4591-90e5-de3a5547c9da",
   "metadata": {
    "id": "f84f2c24-f281-4591-90e5-de3a5547c9da",
    "outputId": "f9bc9e55-6b14-4402-8a04-19cdfb3bf6d1"
   },
   "outputs": [
    {
     "data": {
      "text/plain": [
       "{'content': 'No, actually multiply 3 and 3!',\n",
       " 'additional_kwargs': {},\n",
       " 'response_metadata': {},\n",
       " 'type': 'human',\n",
       " 'name': None,\n",
       " 'id': '882dabe4-b877-4d71-bd09-c34cb97c4f46',\n",
       " 'example': False}"
      ]
     },
     "execution_count": 14,
     "metadata": {},
     "output_type": "execute_result"
    }
   ],
   "source": [
    "# 显示修改后的消息\n",
    "last_message"
   ]
  },
  {
   "cell_type": "markdown",
   "id": "ce7b4280-6ae7-4246-9c87-44e0daa6c654",
   "metadata": {
    "id": "ce7b4280-6ae7-4246-9c87-44e0daa6c654"
   },
   "source": [
    "记住，正如我们之前所说，对`messages`键的更新将使用相同的`add_messages`归约器。\n",
    "\n",
    "如果我们想要覆盖现有消息，那么我们可以提供消息的`id`。\n",
    "\n",
    "在这里，我们就是这样做的。我们只修改了消息的`content`，如上所示。"
   ]
  },
  {
   "cell_type": "code",
   "execution_count": null,
   "id": "84d33b6e-32ff-4eca-8114-345e508f3481",
   "metadata": {
    "id": "84d33b6e-32ff-4eca-8114-345e508f3481",
    "outputId": "35656290-6862-4a0c-cf93-bd2f78648f1d"
   },
   "outputs": [
    {
     "data": {
      "text/plain": [
       "{'configurable': {'thread_id': 'a95ffa54-2435-4a47-a9da-e886369ca8ee',\n",
       "  'checkpoint_ns': '',\n",
       "  'checkpoint_id': '1ef6a41d-cc8e-6979-8001-8c7c283b636c'},\n",
       " 'checkpoint_id': '1ef6a41d-cc8e-6979-8001-8c7c283b636c'}"
      ]
     },
     "execution_count": 15,
     "metadata": {},
     "output_type": "execute_result"
    }
   ],
   "source": [
    "# 使用修改后的消息更新线程状态\n",
    "await client.threads.update_state(thread['thread_id'], {\"messages\": last_message})"
   ]
  },
  {
   "cell_type": "markdown",
   "id": "1f07f0d1-7083-4827-babd-d3702eb59a37",
   "metadata": {
    "id": "1f07f0d1-7083-4827-babd-d3702eb59a37"
   },
   "source": [
    "现在，我们通过传递`None`来恢复执行。"
   ]
  },
  {
   "cell_type": "code",
   "execution_count": null,
   "id": "ef18d12d-e0a6-487a-9f32-ad30e2634a20",
   "metadata": {
    "id": "ef18d12d-e0a6-487a-9f32-ad30e2634a20",
    "outputId": "b2fc7224-1faf-4d49-aec0-9d9e5d0fc751"
   },
   "outputs": [
    {
     "name": "stdout",
     "output_type": "stream",
     "text": [
      "Receiving new event of type: metadata...\n",
      "--------------------------------------------------\n",
      "Receiving new event of type: values...\n",
      "{'content': 'No, actually multiply 3 and 3!', 'additional_kwargs': {'additional_kwargs': {}, 'response_metadata': {}, 'example': False}, 'response_metadata': {}, 'type': 'human', 'name': None, 'id': '882dabe4-b877-4d71-bd09-c34cb97c4f46', 'example': False}\n",
      "--------------------------------------------------\n",
      "Receiving new event of type: values...\n",
      "{'content': '', 'additional_kwargs': {'tool_calls': [{'index': 0, 'id': 'call_vi16je2EIikHuT7Aue2sd1qd', 'function': {'arguments': '{\"a\":3,\"b\":3}', 'name': 'multiply'}, 'type': 'function'}]}, 'response_metadata': {'finish_reason': 'tool_calls', 'model_name': 'gpt-4o-2024-05-13', 'system_fingerprint': 'fp_157b3831f5'}, 'type': 'ai', 'name': None, 'id': 'run-775b42f7-0590-4c54-aaeb-78599b1f12d2', 'example': False, 'tool_calls': [{'name': 'multiply', 'args': {'a': 3, 'b': 3}, 'id': 'call_vi16je2EIikHuT7Aue2sd1qd', 'type': 'tool_call'}], 'invalid_tool_calls': [], 'usage_metadata': None}\n",
      "--------------------------------------------------\n",
      "Receiving new event of type: values...\n",
      "{'content': '9', 'additional_kwargs': {}, 'response_metadata': {}, 'type': 'tool', 'name': 'multiply', 'id': '226bfbad-0cea-4900-80c5-761a62bd4bc1', 'tool_call_id': 'call_vi16je2EIikHuT7Aue2sd1qd', 'artifact': None, 'status': 'success'}\n",
      "--------------------------------------------------\n"
     ]
    }
   ],
   "source": [
    "# 恢复执行：从当前中断点继续运行智能体\n",
    "async for chunk in client.runs.stream(\n",
    "    thread[\"thread_id\"],\n",
    "    assistant_id=\"agent\",\n",
    "    input=None,  # 传递None表示从当前状态继续\n",
    "    stream_mode=\"values\",\n",
    "    interrupt_before=[\"assistant\"],\n",
    "):\n",
    "    print(f\"Receiving new event of type: {chunk.event}...\")\n",
    "    messages = chunk.data.get('messages', [])\n",
    "    if messages:\n",
    "        print(messages[-1])\n",
    "    print(\"-\" * 50)"
   ]
  },
  {
   "cell_type": "markdown",
   "id": "6a82dd35-cbc8-486d-8e20-10d0c4d138d6",
   "metadata": {
    "id": "6a82dd35-cbc8-486d-8e20-10d0c4d138d6"
   },
   "source": [
    "我们得到了工具调用的结果`9`，正如预期的那样。"
   ]
  },
  {
   "cell_type": "code",
   "execution_count": null,
   "id": "1d1bb3c7-dc26-4c32-b3df-865f41ef3c73",
   "metadata": {
    "id": "1d1bb3c7-dc26-4c32-b3df-865f41ef3c73",
    "outputId": "1573a6dc-736f-454a-fdbf-13d22c3ab2db"
   },
   "outputs": [
    {
     "name": "stdout",
     "output_type": "stream",
     "text": [
      "Receiving new event of type: metadata...\n",
      "--------------------------------------------------\n",
      "Receiving new event of type: values...\n",
      "{'content': '9', 'additional_kwargs': {}, 'response_metadata': {}, 'type': 'tool', 'name': 'multiply', 'id': '226bfbad-0cea-4900-80c5-761a62bd4bc1', 'tool_call_id': 'call_vi16je2EIikHuT7Aue2sd1qd', 'artifact': None, 'status': 'success'}\n",
      "--------------------------------------------------\n",
      "Receiving new event of type: values...\n",
      "{'content': 'The result of multiplying 3 by 3 is 9.', 'additional_kwargs': {}, 'response_metadata': {'finish_reason': 'stop', 'model_name': 'gpt-4o-2024-05-13', 'system_fingerprint': 'fp_157b3831f5'}, 'type': 'ai', 'name': None, 'id': 'run-859bbf47-9f35-4e71-ae98-9d93ee49d16c', 'example': False, 'tool_calls': [], 'invalid_tool_calls': [], 'usage_metadata': None}\n",
      "--------------------------------------------------\n"
     ]
    }
   ],
   "source": [
    "# 继续执行，完成最终响应\n",
    "async for chunk in client.runs.stream(\n",
    "    thread[\"thread_id\"],\n",
    "    assistant_id=\"agent\",\n",
    "    input=None,\n",
    "    stream_mode=\"values\",\n",
    "    interrupt_before=[\"assistant\"],\n",
    "):\n",
    "    print(f\"Receiving new event of type: {chunk.event}...\")\n",
    "    messages = chunk.data.get('messages', [])\n",
    "    if messages:\n",
    "        print(messages[-1])\n",
    "    print(\"-\" * 50)"
   ]
  },
  {
   "cell_type": "markdown",
   "id": "6914c5ca-27e4-421c-835a-9e4327dac12f",
   "metadata": {
    "id": "6914c5ca-27e4-421c-835a-9e4327dac12f"
   },
   "source": [
    "## 等待用户输入\n",
    "\n",
    "所以，很明显我们可以在断点后编辑智能体状态。\n",
    "\n",
    "现在，如果我们想要允许人工反馈来执行这种状态更新呢？\n",
    "\n",
    "我们将在智能体中添加一个[作为人工反馈占位符的节点](https://langchain-ai.github.io/langgraph/how-tos/human_in_the_loop/wait-user-input/#setup)。\n",
    "\n",
    "这个`human_feedback`节点允许用户直接向状态添加反馈。\n",
    "\n",
    "我们使用`interrupt_before`在我们的`human_feedback`节点前指定断点。\n",
    "\n",
    "我们设置一个检查点保存器来保存图的状态直到这个节点。"
   ]
  },
  {
   "cell_type": "code",
   "execution_count": 12,
   "id": "e4b475ff-681f-4660-80dd-d6ade7bd48e3",
   "metadata": {
    "colab": {
     "base_uri": "https://localhost:8080/",
     "height": 407
    },
    "id": "e4b475ff-681f-4660-80dd-d6ade7bd48e3",
    "outputId": "3b45b3db-176e-4faa-f05f-ace71df1718b"
   },
   "outputs": [
    {
     "data": {
      "image/png": "[encoded data removed]",
      "text/plain": [
       "<IPython.core.display.Image object>"
      ]
     },
     "metadata": {},
     "output_type": "display_data"
    }
   ],
   "source": [
    "# 定义系统消息\n",
    "sys_msg = SystemMessage(content=\"You are a helpful assistant tasked with performing arithmetic on a set of inputs.\")\n",
    "\n",
    "# 人工反馈节点：这是一个空操作节点，应该在此处中断\n",
    "def human_feedback(state: MessagesState):\n",
    "    \"\"\"人工反馈节点：用于接收和处理用户输入\n",
    "\n",
    "    Args:\n",
    "        state: 包含消息列表的图状态\n",
    "\n",
    "    Returns:\n",
    "        无返回值，此节点主要用于中断点\n",
    "    \"\"\"\n",
    "    pass\n",
    "\n",
    "# 助手节点\n",
    "def assistant(state: MessagesState):\n",
    "    \"\"\"助手节点：使用语言模型处理消息并可能调用工具\n",
    "\n",
    "    Args:\n",
    "        state: 包含消息列表的图状态\n",
    "\n",
    "    Returns:\n",
    "        包含AI响应的新状态更新\n",
    "    \"\"\"\n",
    "    return {\"messages\": [llm_with_tools.invoke([sys_msg] + state[\"messages\"])]}\n",
    "\n",
    "# 创建状态图构建器\n",
    "builder = StateGraph(MessagesState)\n",
    "\n",
    "# 定义节点：这些节点执行具体的工作\n",
    "builder.add_node(\"assistant\", assistant)  # AI助手节点\n",
    "builder.add_node(\"tools\", ToolNode(tools))  # 工具执行节点\n",
    "builder.add_node(\"human_feedback\", human_feedback)  # 人工反馈节点\n",
    "\n",
    "# 定义边：这些边决定控制流程\n",
    "builder.add_edge(START, \"human_feedback\")  # 从开始到人工反馈\n",
    "builder.add_edge(\"human_feedback\", \"assistant\")  # 从人工反馈到助手\n",
    "builder.add_conditional_edges(\n",
    "    \"assistant\",\n",
    "    # 如果助手的最新消息是工具调用 -> tools_condition 路由到工具节点\n",
    "    # 如果助手的最新消息不是工具调用 -> tools_condition 路由到结束\n",
    "    tools_condition,\n",
    ")\n",
    "builder.add_edge(\"tools\", \"human_feedback\")  # 从工具回到人工反馈\n",
    "\n",
    "# 创建内存检查点保存器\n",
    "memory = MemorySaver()\n",
    "\n",
    "# 编译图，在human_feedback节点前设置中断点\n",
    "graph = builder.compile(interrupt_before=[\"human_feedback\"], checkpointer=memory)\n",
    "\n",
    "# 显示图的可视化结构\n",
    "display(Image(graph.get_graph().draw_mermaid_png()))"
   ]
  },
  {
   "cell_type": "markdown",
   "id": "32d4ceb6-a224-4307-8196-3f53d367df5c",
   "metadata": {
    "id": "32d4ceb6-a224-4307-8196-3f53d367df5c"
   },
   "source": [
    "我们将从用户那里获得反馈。\n",
    "\n",
    "我们使用`.update_state`来用我们获得的人工响应更新图的状态，就像之前一样。\n",
    "\n",
    "我们使用`as_node=\"human_feedback\"`参数将此状态更新应用为指定的节点`human_feedback`。"
   ]
  },
  {
   "cell_type": "code",
   "execution_count": 13,
   "id": "3fc7bcd6-660c-4a8a-ad8d-e6698dcf6201",
   "metadata": {
    "colab": {
     "base_uri": "https://localhost:8080/"
    },
    "id": "3fc7bcd6-660c-4a8a-ad8d-e6698dcf6201",
    "outputId": "5434c93a-8c14-45fb-eba9-31dcd80163e6"
   },
   "outputs": [
    {
     "name": "stdout",
     "output_type": "stream",
     "text": [
      "================================\u001b[1m Human Message \u001b[0m=================================\n",
      "\n",
      "Multiply 2 and 3\n",
      "Tell me how you want to update the state: yes\n",
      "================================\u001b[1m Human Message \u001b[0m=================================\n",
      "\n",
      "yes\n",
      "==================================\u001b[1m Ai Message \u001b[0m==================================\n",
      "Tool Calls:\n",
      "  multiply (call_e84l1bff3LoD4QbXbjOD8Kfv)\n",
      " Call ID: call_e84l1bff3LoD4QbXbjOD8Kfv\n",
      "  Args:\n",
      "    a: 2\n",
      "    b: 3\n",
      "=================================\u001b[1m Tool Message \u001b[0m=================================\n",
      "Name: multiply\n",
      "\n",
      "6\n"
     ]
    }
   ],
   "source": [
    "# 定义初始输入\n",
    "initial_input = {\"messages\": \"Multiply 2 and 3\"}\n",
    "\n",
    "# 创建线程配置\n",
    "thread = {\"configurable\": {\"thread_id\": \"5\"}}\n",
    "\n",
    "# 运行图直到第一个中断点\n",
    "for event in graph.stream(initial_input, thread, stream_mode=\"values\"):\n",
    "    event[\"messages\"][-1].pretty_print()\n",
    "\n",
    "# 获取用户输入\n",
    "user_input = input(\"Tell me how you want to update the state: \")\n",
    "\n",
    "# 我们现在更新状态，就像我们是human_feedback节点一样\n",
    "graph.update_state(thread, {\"messages\": user_input}, as_node=\"human_feedback\")\n",
    "\n",
    "# 继续图执行\n",
    "for event in graph.stream(None, thread, stream_mode=\"values\"):\n",
    "    event[\"messages\"][-1].pretty_print()"
   ]
  },
  {
   "cell_type": "code",
   "execution_count": 14,
   "id": "abf4cf5f-c0cb-4fdb-be6b-271ae4e967e2",
   "metadata": {
    "colab": {
     "base_uri": "https://localhost:8080/"
    },
    "id": "abf4cf5f-c0cb-4fdb-be6b-271ae4e967e2",
    "outputId": "777cc649-b03d-4106-be74-9b12f4be2c37"
   },
   "outputs": [
    {
     "name": "stdout",
     "output_type": "stream",
     "text": [
      "=================================\u001b[1m Tool Message \u001b[0m=================================\n",
      "Name: multiply\n",
      "\n",
      "6\n",
      "==================================\u001b[1m Ai Message \u001b[0m==================================\n",
      "\n",
      "The result of multiplying 2 and 3 is 6.\n"
     ]
    }
   ],
   "source": [
    "# 继续图执行，完成最终响应\n",
    "for event in graph.stream(None, thread, stream_mode=\"values\"):\n",
    "    event[\"messages\"][-1].pretty_print()"
   ]
  }
 ],
 "metadata": {
  "colab": {
   "include_colab_link": true,
   "provenance": []
  },
  "kernelspec": {
   "display_name": "Python 3 (ipykernel)",
   "language": "python",
   "name": "python3"
  },
  "language_info": {
   "codemirror_mode": {
    "name": "ipython",
    "version": 3
   },
   "file_extension": ".py",
   "mimetype": "text/x-python",
   "name": "python",
   "nbconvert_exporter": "python",
   "pygments_lexer": "ipython3",
   "version": "3.11.8"
  }
 },
 "nbformat": 4,
 "nbformat_minor": 5
}