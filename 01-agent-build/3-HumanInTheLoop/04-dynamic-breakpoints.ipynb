{
 "cells": [
  {
   "cell_type": "markdown",
   "id": "env_config_overview",
   "metadata": {},
   "source": [
    "# 🔧 环境配置和检查\n",
    "\n",
    "## 概述\n",
    "本教程需要特定的环境配置以确保最佳学习体验。以下配置将帮助您：\n",
    "- 使用统一的conda环境\n",
    "- 通过国内镜像源快速安装依赖\n",
    "- 加速模型下载\n",
    "- 检查系统配置\n",
    "\n",
    "## 配置步骤\n",
    "1. **Conda环境管理** - 激活统一的学习环境\n",
    "2. **包管理器优化** - 配置pip使用清华镜像源\n",
    "3. **模型下载加速** - 设置HuggingFace镜像代理\n",
    "4. **系统环境诊断** - 检查硬件和软件配置\n"
   ]
  },
  {
   "cell_type": "code",
   "execution_count": null,
   "id": "env_conda_activate",
   "metadata": {},
   "outputs": [],
   "source": [
    "# 1. 激活conda环境\n",
    "%%script bash\n",
    "# 初始化 conda\n",
    "eval \"$(conda shell.bash hook)\"\n",
    "conda activate flyai_agent_in_action\n",
    "conda env list\n"
   ]
  },
  {
   "cell_type": "code",
   "execution_count": null,
   "id": "env_pip_config",
   "metadata": {},
   "outputs": [],
   "source": [
    "# 2. 设置pip 为清华源\n",
    "%pip config set global.index-url https://pypi.tuna.tsinghua.edu.cn/simple\n",
    "%pip config list\n"
   ]
  },
  {
   "cell_type": "code",
   "execution_count": null,
   "id": "env_hf_proxy",
   "metadata": {},
   "outputs": [],
   "source": [
    "# 3. 设置HuggingFace代理\n",
    "%env HF_ENDPOINT=https://hf-mirror.com\n",
    "# 验证：使用shell命令检查\n",
    "!echo $HF_ENDPOINT"
   ]
  },
  {
   "cell_type": "code",
   "execution_count": null,
   "id": "env_system_check",
   "metadata": {},
   "outputs": [],
   "source": [
    "# 🔍 环境信息检查脚本\n",
    "#\n",
    "# 本脚本的作用：\n",
    "# 1. 安装 pandas 库用于数据表格展示\n",
    "# 2. 检查系统的各项配置信息\n",
    "# 3. 生成详细的环境报告表格\n",
    "#\n",
    "# 对于初学者来说，这个步骤帮助您：\n",
    "# - 了解当前运行环境的硬件配置\n",
    "# - 确认是否满足模型运行的最低要求\n",
    "# - 学习如何通过代码获取系统信息\n",
    "\n",
    "# 安装 pandas 库 - 用于创建和展示数据表格\n",
    "# pandas 是 Python 中最流行的数据处理和分析库\n",
    "%pip install pandas==2.2.2 tabulate==0.9.0\n",
    "\n",
    "import platform # 导入 platform 模块以获取系统信息\n",
    "import os # 导入 os 模块以与操作系统交互\n",
    "import subprocess # 导入 subprocess 模块以运行外部命令\n",
    "import pandas as pd # 导入 pandas 模块，通常用于数据处理，这里用于创建表格\n",
    "import shutil # 导入 shutil 模块以获取磁盘空间信息\n",
    "\n",
    "# 获取 CPU 信息的函数，包括核心数量\n",
    "def get_cpu_info():\n",
    "    cpu_info = \"\" # 初始化 CPU 信息字符串\n",
    "    physical_cores = \"N/A\"\n",
    "    logical_cores = \"N/A\"\n",
    "\n",
    "    if platform.system() == \"Windows\": # 如果是 Windows 系统\n",
    "        cpu_info = platform.processor() # 使用 platform.processor() 获取 CPU 信息\n",
    "        try:\n",
    "            # 获取 Windows 上的核心数量 (需要 WMI)\n",
    "            import wmi\n",
    "            c = wmi.WMI()\n",
    "            for proc in c.Win32_Processor():\n",
    "                physical_cores = proc.NumberOfCores\n",
    "                logical_cores = proc.NumberOfLogicalProcessors\n",
    "        except:\n",
    "            pass # 如果 WMI 不可用，忽略错误\n",
    "\n",
    "    elif platform.system() == \"Darwin\": # 如果是 macOS 系统\n",
    "        # 在 macOS 上使用 sysctl 命令获取 CPU 信息和核心数量\n",
    "        os.environ['PATH'] = os.environ['PATH'] + os.pathsep + '/usr/sbin' # 更新 PATH 环境变量\n",
    "        try:\n",
    "            process_brand = subprocess.Popen(['sysctl', \"machdep.cpu.brand_string\"], stdout=subprocess.PIPE, stderr=subprocess.PIPE)\n",
    "            stdout_brand, stderr_brand = process_brand.communicate()\n",
    "            cpu_info = stdout_brand.decode().split(': ')[1].strip() if stdout_brand else \"Could not retrieve CPU info\"\n",
    "\n",
    "            process_physical = subprocess.Popen(['sysctl', \"hw.physicalcpu\"], stdout=subprocess.PIPE, stderr=subprocess.PIPE)\n",
    "            stdout_physical, stderr_physical = process_physical.communicate()\n",
    "            physical_cores = stdout_physical.decode().split(': ')[1].strip() if stdout_physical else \"N/A\"\n",
    "\n",
    "            process_logical = subprocess.Popen(['sysctl', \"hw.logicalcpu\"], stdout=subprocess.PIPE, stderr=subprocess.PIPE)\n",
    "            stdout_logical, stderr_logical = process_logical.communicate()\n",
    "            logical_cores = stdout_logical.decode().split(': ')[1].strip() if stdout_logical else \"N/A\"\n",
    "\n",
    "        except:\n",
    "            cpu_info = \"Could not retrieve CPU info\"\n",
    "            physical_cores = \"N/A\"\n",
    "            logical_cores = \"N/A\"\n",
    "\n",
    "    else:  # Linux 系统\n",
    "        try:\n",
    "            # 在 Linux 上读取 /proc/cpuinfo 文件获取 CPU 信息和核心数量\n",
    "            with open('/proc/cpuinfo') as f:\n",
    "                physical_cores_count = 0\n",
    "                logical_cores_count = 0\n",
    "                cpu_info_lines = []\n",
    "                for line in f:\n",
    "                    if line.startswith('model name'): # 查找以 'model name'开头的行\n",
    "                        if not cpu_info: # 只获取第一个 model name\n",
    "                            cpu_info = line.split(': ')[1].strip()\n",
    "                    elif line.startswith('cpu cores'): # 查找以 'cpu cores' 开头的行\n",
    "                        physical_cores_count = int(line.split(': ')[1].strip())\n",
    "                    elif line.startswith('processor'): # 查找以 'processor' 开头的行\n",
    "                        logical_cores_count += 1\n",
    "                physical_cores = str(physical_cores_count) if physical_cores_count > 0 else \"N/A\"\n",
    "                logical_cores = str(logical_cores_count) if logical_cores_count > 0 else \"N/A\"\n",
    "                if not cpu_info:\n",
    "                     cpu_info = \"Could not retrieve CPU info\"\n",
    "\n",
    "        except:\n",
    "            cpu_info = \"Could not retrieve CPU info\"\n",
    "            physical_cores = \"N/A\"\n",
    "            logical_cores = \"N/A\"\n",
    "\n",
    "    return f\"{cpu_info} ({physical_cores} physical cores, {logical_cores} logical cores)\" # 返回 CPU 信息和核心数量\n",
    "\n",
    "\n",
    "# 获取内存信息的函数\n",
    "def get_memory_info():\n",
    "    mem_info = \"\" # 初始化内存信息字符串\n",
    "    if platform.system() == \"Windows\":\n",
    "        # 在 Windows 上不容易通过标准库获取，需要外部库或 PowerShell\n",
    "        mem_info = \"Requires external tools on Windows\" # 设置提示信息\n",
    "    elif platform.system() == \"Darwin\": # 如果是 macOS 系统\n",
    "        # 在 macOS 上使用 sysctl 命令获取内存大小\n",
    "        process = subprocess.Popen(['sysctl', \"hw.memsize\"], stdout=subprocess.PIPE, stderr=subprocess.PIPE) # 运行 sysctl 命令\n",
    "        stdout, stderr = process.communicate() # 获取标准输出和标准错误\n",
    "        mem_bytes = int(stdout.decode().split(': ')[1].strip()) # 解析输出，获取内存大小（字节）\n",
    "        mem_gb = mem_bytes / (1024**3) # 转换为 GB\n",
    "        mem_info = f\"{mem_gb:.2f} GB\" # 格式化输出\n",
    "    else:  # Linux 系统\n",
    "        try:\n",
    "            # 在 Linux 上读取 /proc/meminfo 文件获取内存信息\n",
    "            with open('/proc/meminfo') as f:\n",
    "                total_mem_kb = 0\n",
    "                available_mem_kb = 0\n",
    "                for line in f:\n",
    "                    if line.startswith('MemTotal'): # 查找以 'MemTotal' 开头的行\n",
    "                        total_mem_kb = int(line.split(':')[1].strip().split()[0]) # 解析行，获取总内存（KB）\n",
    "                    elif line.startswith('MemAvailable'): # 查找以 'MemAvailable' 开头的行\n",
    "                         available_mem_kb = int(line.split(':')[1].strip().split()[0]) # 解析行，获取可用内存（KB）\n",
    "\n",
    "                if total_mem_kb > 0:\n",
    "                    total_mem_gb = total_mem_kb / (1024**2) # 转换为 GB\n",
    "                    mem_info = f\"{total_mem_gb:.2f} GB\" # 格式化输出总内存\n",
    "                    if available_mem_kb > 0:\n",
    "                        available_mem_gb = available_mem_kb / (1024**2)\n",
    "                        mem_info += f\" (Available: {available_mem_gb:.2f} GB)\" # 添加可用内存信息\n",
    "                else:\n",
    "                     mem_info = \"Could not retrieve memory info\" # 如果读取文件出错，设置错误信息\n",
    "\n",
    "        except:\n",
    "            mem_info = \"Could not retrieve memory info\" # 如果读取文件出错，设置错误信息\n",
    "    return mem_info # 返回内存信息\n",
    "\n",
    "# 获取 GPU 信息的函数，包括显存\n",
    "def get_gpu_info():\n",
    "    try:\n",
    "        # 尝试使用 nvidia-smi 获取 NVIDIA GPU 信息和显存\n",
    "        result = subprocess.run(['nvidia-smi', '--query-gpu=name,memory.total', '--format=csv,noheader'], capture_output=True, text=True)\n",
    "        if result.returncode == 0: # 如果命令成功执行\n",
    "            gpu_lines = result.stdout.strip().split('\\n') # 解析输出，获取 GPU 名称和显存\n",
    "            gpu_info_list = []\n",
    "            for line in gpu_lines:\n",
    "                name, memory = line.split(', ')\n",
    "                gpu_info_list.append(f\"{name} ({memory})\") # 格式化 GPU 信息\n",
    "            return \", \".join(gpu_info_list) if gpu_info_list else \"NVIDIA GPU found, but info not listed\" # 返回 GPU 信息或提示信息\n",
    "        else:\n",
    "             # 尝试使用 lshw 获取其他 GPU 信息 (需要安装 lshw)\n",
    "            try:\n",
    "                result_lshw = subprocess.run(['lshw', '-C', 'display'], capture_output=True, text=True)\n",
    "                if result_lshw.returncode == 0: # 如果命令成功执行\n",
    "                     # 简单解析输出中的 product 名称和显存\n",
    "                    gpu_info_lines = []\n",
    "                    current_gpu = {}\n",
    "                    for line in result_lshw.stdout.splitlines():\n",
    "                        if 'product:' in line:\n",
    "                             if current_gpu:\n",
    "                                 gpu_info_lines.append(f\"{current_gpu.get('product', 'GPU')} ({current_gpu.get('memory', 'N/A')})\")\n",
    "                             current_gpu = {'product': line.split('product:')[1].strip()}\n",
    "                        elif 'size:' in line and 'memory' in line:\n",
    "                             current_gpu['memory'] = line.split('size:')[1].strip()\n",
    "\n",
    "                    if current_gpu: # 添加最后一个 GPU 的信息\n",
    "                        gpu_info_lines.append(f\"{current_gpu.get('product', 'GPU')} ({current_gpu.get('memory', 'N/A')})\")\n",
    "\n",
    "                    return \", \".join(gpu_info_lines) if gpu_info_lines else \"GPU found (via lshw), but info not parsed\" # 如果找到 GPU 但信息无法解析，设置提示信息\n",
    "                else:\n",
    "                    return \"No GPU found (checked nvidia-smi and lshw)\" # 如果两个命令都找不到 GPU，设置提示信息\n",
    "            except FileNotFoundError:\n",
    "                 return \"No GPU found (checked nvidia-smi, lshw not found)\" # 如果找不到 lshw 命令，设置提示信息\n",
    "    except FileNotFoundError:\n",
    "        return \"No GPU found (nvidia-smi not found)\" # 如果找不到 nvidia-smi 命令，设置提示信息\n",
    "\n",
    "\n",
    "# 获取 CUDA 版本的函数\n",
    "def get_cuda_version():\n",
    "    try:\n",
    "        # 尝试使用 nvcc --version 获取 CUDA 版本\n",
    "        result = subprocess.run(['nvcc', '--version'], capture_output=True, text=True)\n",
    "        if result.returncode == 0: # 如果命令成功执行\n",
    "            for line in result.stdout.splitlines():\n",
    "                if 'release' in line: # 查找包含 'release' 的行\n",
    "                    return line.split('release ')[1].split(',')[0] # 解析行，提取版本号\n",
    "        return \"CUDA not found or version not parsed\" # 如果找不到 CUDA 或版本无法解析，设置提示信息\n",
    "    except FileNotFoundError:\n",
    "        return \"CUDA not found\" # 如果找不到 nvcc 命令，设置提示信息\n",
    "\n",
    "# 获取 Python 版本的函数\n",
    "def get_python_version():\n",
    "    return platform.python_version() # 获取 Python 版本\n",
    "\n",
    "# 获取 Conda 版本的函数\n",
    "def get_conda_version():\n",
    "    try:\n",
    "        # 尝试使用 conda --version 获取 Conda 版本\n",
    "        result = subprocess.run(['conda', '--version'], capture_output=True, text=True)\n",
    "        if result.returncode == 0: # 如果命令成功执行\n",
    "            return result.stdout.strip() # 返回 Conda 版本\n",
    "        return \"Conda not found or version not parsed\" # 如果找不到 Conda 或版本无法解析，设置提示信息\n",
    "    except FileNotFoundError:\n",
    "        return \"Conda not found\" # 如果找不到 conda 命令，设置提示信息\n",
    "\n",
    "# 获取物理磁盘空间信息的函数\n",
    "def get_disk_space():\n",
    "    try:\n",
    "        total, used, free = shutil.disk_usage(\"/\") # 获取根目录的磁盘使用情况\n",
    "        total_gb = total / (1024**3) # 转换为 GB\n",
    "        used_gb = used / (1024**3) # 转换为 GB\n",
    "        free_gb = free / (1024**3) # 转换为 GB\n",
    "        return f\"Total: {total_gb:.2f} GB, Used: {used_gb:.2f} GB, Free: {free_gb:.2f} GB\" # 格式化输出\n",
    "    except Exception as e:\n",
    "        return f\"Could not retrieve disk info: {e}\" # 如果获取信息出错，设置错误信息\n",
    "\n",
    "# 获取环境信息\n",
    "os_name = platform.system() # 获取操作系统名称\n",
    "os_version = platform.release() # 获取操作系统版本\n",
    "if os_name == \"Linux\":\n",
    "    try:\n",
    "        # 在 Linux 上尝试获取发行版和版本\n",
    "        lsb_info = subprocess.run(['lsb_release', '-a'], capture_output=True, text=True)\n",
    "        if lsb_info.returncode == 0: # 如果命令成功执行\n",
    "            for line in lsb_info.stdout.splitlines():\n",
    "                if 'Description:' in line: # 查找包含 'Description:' 的行\n",
    "                    os_version = line.split('Description:')[1].strip() # 提取描述信息作为版本\n",
    "                    break # 找到后退出循环\n",
    "                elif 'Release:' in line: # 查找包含 'Release:' 的行\n",
    "                     os_version = line.split('Release:')[1].strip() # 提取版本号\n",
    "                     # 尝试获取 codename\n",
    "                     try:\n",
    "                         codename_info = subprocess.run(['lsb_release', '-c'], capture_output=True, text=True)\n",
    "                         if codename_info.returncode == 0:\n",
    "                             os_version += f\" ({codename_info.stdout.split(':')[1].strip()})\" # 将 codename 添加到版本信息中\n",
    "                     except:\n",
    "                         pass # 如果获取 codename 失败则忽略\n",
    "\n",
    "    except FileNotFoundError:\n",
    "        pass # lsb_release 可能未安装，忽略错误\n",
    "\n",
    "full_os_info = f\"{os_name} {os_version}\" # 组合完整的操作系统信息\n",
    "cpu_info = get_cpu_info() # 调用函数获取 CPU 信息和核心数量\n",
    "memory_info = get_memory_info() # 调用函数获取内存信息\n",
    "gpu_info = get_gpu_info() # 调用函数获取 GPU 信息和显存\n",
    "cuda_version = get_cuda_version() # 调用函数获取 CUDA 版本\n",
    "python_version = get_python_version() # 调用函数获取 Python 版本\n",
    "conda_version = get_conda_version() # 调用函数获取 Conda 版本\n",
    "disk_info = get_disk_space() # 调用函数获取物理磁盘空间信息\n",
    "\n",
    "\n",
    "# 创建用于存储数据的字典\n",
    "env_data = {\n",
    "    \"项目\": [ # 项目名称列表\n",
    "        \"操作系统\",\n",
    "        \"CPU 信息\",\n",
    "        \"内存信息\",\n",
    "        \"GPU 信息\",\n",
    "        \"CUDA 信息\",\n",
    "        \"Python 版本\",\n",
    "        \"Conda 版本\",\n",
    "        \"物理磁盘空间\" # 添加物理磁盘空间\n",
    "    ],\n",
    "    \"信息\": [ # 对应的信息列表\n",
    "        full_os_info,\n",
    "        cpu_info,\n",
    "        memory_info,\n",
    "        gpu_info,\n",
    "        cuda_version,\n",
    "        python_version,\n",
    "        conda_version,\n",
    "        disk_info # 添加物理磁盘空间信息\n",
    "    ]\n",
    "}\n",
    "\n",
    "# 创建一个 pandas DataFrame\n",
    "df = pd.DataFrame(env_data)\n",
    "\n",
    "# 打印表格\n",
    "print(\"### 环境信息\") # 打印标题\n",
    "print(df.to_markdown(index=False)) # 将 DataFrame 转换为 Markdown 格式并打印，不包含索引\n"
   ]
  },
  {
   "cell_type": "markdown",
   "metadata": {
    "colab_type": "text",
    "id": "view-in-github"
   },
   "source": [
    "<a href=\"https://colab.research.google.com/github/FlyAIBox/langchain-academy/blob/fly101/module-3/dynamic-breakpoints.ipynb\" target=\"_parent\"><img src=\"https://colab.research.google.com/assets/colab-badge.svg\" alt=\"Open In Colab\"/></a>"
   ]
  },
  {
   "cell_type": "markdown",
   "id": "2109e6a2",
   "metadata": {
    "id": "2109e6a2"
   },
   "source": [
    "# 动态断点 (Dynamic Breakpoints) - LangGraph 教程\n",
    "\n",
    "## 什么是动态断点？\n",
    "\n",
    "动态断点是 LangGraph 中一个强大的功能，允许在图的执行过程中**动态地**中断执行流程。与传统的静态断点不同，动态断点可以根据运行时的条件来决定是否中断，这为构建智能的人机交互系统提供了极大的灵活性。"
   ]
  },
  {
   "cell_type": "markdown",
   "id": "d0cefea1-f982-4bb1-b691-27a855bfdccb",
   "metadata": {
    "id": "d0cefea1-f982-4bb1-b691-27a855bfdccb"
   },
   "source": [
    "# 动态断点 (Dynamic Breakpoints)\n",
    "\n",
    "## 回顾：人机交互的动机\n",
    "\n",
    "在前面的课程中，我们讨论了人机交互（Human-in-the-Loop）的三种主要动机：\n",
    "\n",
    "### 1. 审批机制 (Approval)\n",
    "- **功能**：中断智能体执行，向用户展示当前状态，允许用户决定是否接受某个操作\n",
    "- **应用场景**：需要人工确认的重要决策，如金融交易、医疗诊断等\n",
    "\n",
    "### 2. 调试功能 (Debugging)  \n",
    "- **功能**：可以回退图的状态来重现或避免问题\n",
    "- **应用场景**：开发调试、错误排查、性能优化\n",
    "\n",
    "### 3. 状态编辑 (Editing)\n",
    "- **功能**：允许修改图的状态\n",
    "- **应用场景**：实时调整参数、修正错误、优化流程\n",
    "\n",
    "## 传统断点 vs 动态断点\n",
    "\n",
    "### 传统断点（静态断点）\n",
    "- **设置时机**：在图编译时由开发者设置\n",
    "- **特点**：固定的中断点，无法根据运行时条件改变\n",
    "- **局限性**：缺乏灵活性，无法适应复杂的业务逻辑\n",
    "\n",
    "### 动态断点（内部断点）\n",
    "- **设置时机**：在节点内部根据条件动态触发\n",
    "- **实现方式**：使用 `NodeInterrupt` 异常\n",
    "- **优势**：\n",
    "  1. **条件性中断**：基于开发者定义的逻辑条件\n",
    "  2. **信息传递**：可以向用户传递中断原因\n",
    "  3. **灵活控制**：根据运行时状态决定是否中断\n",
    "\n",
    "## 本教程目标\n",
    "\n",
    "我们将创建一个简单的图，演示如何根据输入长度动态触发中断。当输入超过5个字符时，图会抛出 `NodeInterrupt` 异常并暂停执行。"
   ]
  },
  {
   "cell_type": "code",
   "execution_count": 1,
   "id": "387d8d87-598a-485a-a99f-a9270a7c2e73",
   "metadata": {
    "id": "387d8d87-598a-485a-a99f-a9270a7c2e73"
   },
   "outputs": [],
   "source": [
    "# 安装必要的依赖包\n",
    "# 这个命令会安装 LangGraph 相关的核心包\n",
    "%%capture --no-stderr\n",
    "# %pip install --quiet -U langgraph langchain_openai langgraph_sdk\n",
    "%pip install --quiet langgraph==0.6.7 langchain_openai==0.3.32 langgraph_sdk==0.2.6"
   ]
  },
  {
   "cell_type": "code",
   "execution_count": 2,
   "id": "6248f166-2013-445a-b4ae-1fb7b92f8c32",
   "metadata": {
    "colab": {
     "base_uri": "https://localhost:8080/",
     "height": 560
    },
    "id": "6248f166-2013-445a-b4ae-1fb7b92f8c32",
    "outputId": "947f0652-3d94-42ba-a11b-1733e7ba1b57"
   },
   "outputs": [
    {
     "name": "stdout",
     "output_type": "stream",
     "text": [
      "正在构建 LangGraph...\n",
      "图构建完成！\n",
      "图结构：START -> step_1 -> step_2 -> step_3 -> END\n",
      "注意：step_2 包含动态断点逻辑\n",
      "\n",
      "正在生成图的可视化...\n"
     ]
    },
    {
     "data": {
      "image/png": "[encoded data removed]",
      "text/plain": [
       "<IPython.core.display.Image object>"
      ]
     },
     "metadata": {},
     "output_type": "display_data"
    }
   ],
   "source": [
    "# 导入必要的库\n",
    "from IPython.display import Image, display\n",
    "from typing_extensions import TypedDict\n",
    "from langgraph.checkpoint.memory import MemorySaver\n",
    "from langgraph.errors import NodeInterrupt\n",
    "from langgraph.graph import START, END, StateGraph\n",
    "\n",
    "# 定义图的状态结构\n",
    "# TypedDict 用于定义状态的数据类型，确保类型安全\n",
    "class State(TypedDict):\n",
    "    input: str  # 输入字符串\n",
    "\n",
    "# 第一步：简单的状态传递节点\n",
    "def step_1(state: State) -> State:\n",
    "    \"\"\"\n",
    "    第一步处理函数\n",
    "    功能：接收状态并打印步骤信息，然后原样返回状态\n",
    "    参数：state - 包含输入的状态字典\n",
    "    返回：处理后的状态\n",
    "    \"\"\"\n",
    "    print(\"---Step 1---\")\n",
    "    return state\n",
    "\n",
    "# 第二步：包含动态断点的节点\n",
    "def step_2(state: State) -> State:\n",
    "    \"\"\"\n",
    "    第二步处理函数 - 演示动态断点\n",
    "    功能：检查输入长度，如果超过5个字符则抛出 NodeInterrupt 异常\n",
    "    参数：state - 包含输入的状态字典\n",
    "    返回：处理后的状态（如果未中断）\n",
    "    异常：NodeInterrupt - 当输入长度超过5个字符时抛出\n",
    "    \"\"\"\n",
    "    # 动态断点逻辑：检查输入长度\n",
    "    if len(state['input']) > 5:\n",
    "        # 抛出 NodeInterrupt 异常，包含详细的错误信息\n",
    "        raise NodeInterrupt(f\"Received input that is longer than 5 characters: {state['input']}\")\n",
    "\n",
    "    print(\"---Step 2---\")\n",
    "    return state\n",
    "\n",
    "# 第三步：最终处理节点\n",
    "def step_3(state: State) -> State:\n",
    "    \"\"\"\n",
    "    第三步处理函数\n",
    "    功能：最终处理步骤，打印完成信息\n",
    "    参数：state - 包含输入的状态字典\n",
    "    返回：处理后的状态\n",
    "    \"\"\"\n",
    "    print(\"---Step 3---\")\n",
    "    return state\n",
    "\n",
    "# 构建图结构\n",
    "print(\"正在构建 LangGraph...\")\n",
    "builder = StateGraph(State)\n",
    "\n",
    "# 添加节点到图中\n",
    "builder.add_node(\"step_1\", step_1)  # 添加第一步节点\n",
    "builder.add_node(\"step_2\", step_2)  # 添加第二步节点（包含动态断点）\n",
    "builder.add_node(\"step_3\", step_3)  # 添加第三步节点\n",
    "\n",
    "# 定义节点之间的连接关系\n",
    "builder.add_edge(START, \"step_1\")      # 从开始到第一步\n",
    "builder.add_edge(\"step_1\", \"step_2\")   # 从第一步到第二步\n",
    "builder.add_edge(\"step_2\", \"step_3\")   # 从第二步到第三步\n",
    "builder.add_edge(\"step_3\", END)        # 从第三步到结束\n",
    "\n",
    "# 设置内存检查点\n",
    "# MemorySaver 用于保存图的状态，支持中断和恢复\n",
    "memory = MemorySaver()\n",
    "\n",
    "# 编译图并添加内存检查点\n",
    "graph = builder.compile(checkpointer=memory)\n",
    "\n",
    "print(\"图构建完成！\")\n",
    "print(\"图结构：START -> step_1 -> step_2 -> step_3 -> END\")\n",
    "print(\"注意：step_2 包含动态断点逻辑\")\n",
    "\n",
    "# 显示图的可视化结构\n",
    "print(\"\\n正在生成图的可视化...\")\n",
    "display(Image(graph.get_graph().draw_mermaid_png()))"
   ]
  },
  {
   "cell_type": "markdown",
   "id": "b2c6e5c8-0556-43d1-9eef-b3af32728f74",
   "metadata": {
    "id": "b2c6e5c8-0556-43d1-9eef-b3af32728f74"
   },
   "source": [
    "## 测试动态断点功能\n",
    "\n",
    "现在让我们用一个超过5个字符的输入来测试图，看看动态断点是如何工作的。"
   ]
  },
  {
   "cell_type": "code",
   "execution_count": 4,
   "id": "de73c9ce-ccc5-4ffd-8d82-7018364e7c4f",
   "metadata": {
    "colab": {
     "base_uri": "https://localhost:8080/"
    },
    "id": "de73c9ce-ccc5-4ffd-8d82-7018364e7c4f",
    "outputId": "8c5a530b-a999-486f-82c8-c8eab5db91ae"
   },
   "outputs": [
    {
     "name": "stdout",
     "output_type": "stream",
     "text": [
      "开始执行图...\n",
      "输入内容: 'hello world' (长度: 11 字符)\n",
      "预期结果: 在 step_2 处触发动态断点\n",
      "--------------------------------------------------\n",
      "状态更新: {'input': 'hello world'}\n",
      "---Step 1---\n",
      "状态更新: {'input': 'hello world'}\n",
      "--------------------------------------------------\n",
      "图执行被中断！\n"
     ]
    },
    {
     "name": "stderr",
     "output_type": "stream",
     "text": [
      "/tmp/ipython-input-3069364372.py:36: LangGraphDeprecatedSinceV10: NodeInterrupt is deprecated. Please use `langgraph.types.interrupt` instead. Deprecated in LangGraph V1.0 to be removed in V2.0.\n",
      "  raise NodeInterrupt(f\"Received input that is longer than 5 characters: {state['input']}\")\n"
     ]
    }
   ],
   "source": [
    "# 准备测试数据\n",
    "# 使用一个超过5个字符的输入来触发动态断点\n",
    "initial_input = {\"input\": \"hello world\"}  # 11个字符，会触发断点\n",
    "thread_config = {\"configurable\": {\"thread_id\": \"1\"}}  # 线程配置，用于状态管理\n",
    "\n",
    "print(\"开始执行图...\")\n",
    "print(f\"输入内容: '{initial_input['input']}' (长度: {len(initial_input['input'])} 字符)\")\n",
    "print(\"预期结果: 在 step_2 处触发动态断点\")\n",
    "print(\"-\" * 50)\n",
    "\n",
    "# 运行图直到第一次中断\n",
    "# stream_mode=\"values\" 表示只返回状态值，不返回其他元数据\n",
    "for event in graph.stream(initial_input, thread_config, stream_mode=\"values\"):\n",
    "    print(f\"状态更新: {event}\")\n",
    "\n",
    "print(\"-\" * 50)\n",
    "print(\"图执行被中断！\")"
   ]
  },
  {
   "cell_type": "markdown",
   "id": "da79063f-5b67-49dd-8ef0-3eae4c480cb5",
   "metadata": {
    "id": "da79063f-5b67-49dd-8ef0-3eae4c480cb5"
   },
   "source": [
    "## 检查中断后的图状态\n",
    "\n",
    "当图被中断后，我们可以检查当前的状态，看看下一个要执行的节点是什么。\n"
   ]
  },
  {
   "cell_type": "code",
   "execution_count": 5,
   "id": "34706f0d-379b-4236-a42e-c8e52b27fb22",
   "metadata": {
    "colab": {
     "base_uri": "https://localhost:8080/"
    },
    "id": "34706f0d-379b-4236-a42e-c8e52b27fb22",
    "outputId": "77567412-f071-4c99-b440-3900cd93945b"
   },
   "outputs": [
    {
     "name": "stdout",
     "output_type": "stream",
     "text": [
      "当前图状态信息:\n",
      "下一个要执行的节点: ('step_2',)\n",
      "当前状态值: {'input': 'hello world'}\n",
      "是否有中断: True\n",
      "中断信息: (Interrupt(value='Received input that is longer than 5 characters: hello world', id='placeholder-id'),)\n"
     ]
    }
   ],
   "source": [
    "# 获取当前图的状态\n",
    "state = graph.get_state(thread_config)\n",
    "\n",
    "print(\"当前图状态信息:\")\n",
    "print(f\"下一个要执行的节点: {state.next}\")\n",
    "print(f\"当前状态值: {state.values}\")\n",
    "print(f\"是否有中断: {len(state.tasks) > 0 and any(task.interrupts for task in state.tasks)}\")\n",
    "\n",
    "# 检查中断详情\n",
    "if state.tasks:\n",
    "    for task in state.tasks:\n",
    "        if task.interrupts:\n",
    "            print(f\"中断信息: {task.interrupts}\")"
   ]
  },
  {
   "cell_type": "markdown",
   "id": "3ed78755-f1e8-4c66-a4f8-a7ccff472c91",
   "metadata": {
    "id": "3ed78755-f1e8-4c66-a4f8-a7ccff472c91"
   },
   "source": [
    "## 查看中断详情\n",
    "\n",
    "我们可以看到中断信息被记录在状态中，这包含了中断的原因和上下文信息。"
   ]
  },
  {
   "cell_type": "code",
   "execution_count": 6,
   "id": "93815a05-819a-4050-8834-73236fa910dc",
   "metadata": {
    "colab": {
     "base_uri": "https://localhost:8080/"
    },
    "id": "93815a05-819a-4050-8834-73236fa910dc",
    "outputId": "a9812903-ebe3-4355-dbba-81ae66982c01"
   },
   "outputs": [
    {
     "name": "stdout",
     "output_type": "stream",
     "text": [
      "任务详情:\n",
      "任务 1:\n",
      "  - 任务ID: 2298311f-c3a5-0ecc-da6c-86c45f7651cd\n",
      "  - 节点名称: step_2\n",
      "  - 错误信息: None\n",
      "  - 中断信息: (Interrupt(value='Received input that is longer than 5 characters: hello world', id='placeholder-id'),)\n",
      "  - 状态: None\n",
      "\n"
     ]
    }
   ],
   "source": [
    "# 查看任务详情，包括中断信息\n",
    "print(\"任务详情:\")\n",
    "for i, task in enumerate(state.tasks):\n",
    "    print(f\"任务 {i+1}:\")\n",
    "    print(f\"  - 任务ID: {task.id}\")\n",
    "    print(f\"  - 节点名称: {task.name}\")\n",
    "    print(f\"  - 错误信息: {task.error}\")\n",
    "    print(f\"  - 中断信息: {task.interrupts}\")\n",
    "    print(f\"  - 状态: {task.state}\")\n",
    "    print()"
   ]
  },
  {
   "cell_type": "markdown",
   "id": "27d74573-b62c-4ac1-a142-d04c2dccfd08",
   "metadata": {
    "id": "27d74573-b62c-4ac1-a142-d04c2dccfd08"
   },
   "source": [
    "## 尝试恢复图执行\n",
    "\n",
    "我们可以尝试从断点处恢复图的执行。但是，如果状态没有改变，图会重新执行同一个节点，导致无限循环！"
   ]
  },
  {
   "cell_type": "code",
   "execution_count": 7,
   "id": "b735875e-62c6-4253-ba85-7ccf93a353b4",
   "metadata": {
    "colab": {
     "base_uri": "https://localhost:8080/"
    },
    "id": "b735875e-62c6-4253-ba85-7ccf93a353b4",
    "outputId": "3116beed-af89-4bf1-fd0a-68918540f226"
   },
   "outputs": [
    {
     "name": "stdout",
     "output_type": "stream",
     "text": [
      "尝试恢复图执行（不改变状态）...\n",
      "注意：这会导致重新执行 step_2，再次触发中断！\n",
      "--------------------------------------------------\n",
      "状态更新: {'input': 'hello world'}\n",
      "--------------------------------------------------\n",
      "图再次被中断！\n"
     ]
    },
    {
     "name": "stderr",
     "output_type": "stream",
     "text": [
      "/tmp/ipython-input-3069364372.py:36: LangGraphDeprecatedSinceV10: NodeInterrupt is deprecated. Please use `langgraph.types.interrupt` instead. Deprecated in LangGraph V1.0 to be removed in V2.0.\n",
      "  raise NodeInterrupt(f\"Received input that is longer than 5 characters: {state['input']}\")\n"
     ]
    }
   ],
   "source": [
    "# 尝试恢复图执行（不改变状态）\n",
    "print(\"尝试恢复图执行（不改变状态）...\")\n",
    "print(\"注意：这会导致重新执行 step_2，再次触发中断！\")\n",
    "print(\"-\" * 50)\n",
    "\n",
    "for event in graph.stream(None, thread_config, stream_mode=\"values\"):\n",
    "    print(f\"状态更新: {event}\")\n",
    "\n",
    "print(\"-\" * 50)\n",
    "print(\"图再次被中断！\")"
   ]
  },
  {
   "cell_type": "code",
   "execution_count": null,
   "id": "1e3bc5e3-7a2f-49a1-8bdc-fd3597bd5fae",
   "metadata": {
    "id": "1e3bc5e3-7a2f-49a1-8bdc-fd3597bd5fae",
    "outputId": "e4b1f7f0-e30c-495d-9625-51654cacb94c"
   },
   "outputs": [
    {
     "name": "stdout",
     "output_type": "stream",
     "text": [
      "('step_2',)\n"
     ]
    }
   ],
   "source": [
    "# 再次检查状态，确认仍在 step_2\n",
    "state = graph.get_state(thread_config)\n",
    "print(f\"当前状态: 仍在 {state.next} 节点\")\n",
    "print(\"这证明了如果不改变状态，图会一直重复执行同一个节点！\")"
   ]
  },
  {
   "cell_type": "markdown",
   "id": "79ab61de-5c3f-44a5-b417-e36b1a2f26dd",
   "metadata": {
    "id": "79ab61de-5c3f-44a5-b417-e36b1a2f26dd"
   },
   "source": [
    "## 修改状态以解决中断\n",
    "\n",
    "现在我们需要修改状态来解决中断问题。我们可以将输入改为5个字符或更少，这样就不会触发动态断点了。"
   ]
  },
  {
   "cell_type": "code",
   "execution_count": 8,
   "id": "6f08dff4-3399-46de-a9ba-ba89b8cdb61e",
   "metadata": {
    "colab": {
     "base_uri": "https://localhost:8080/"
    },
    "id": "6f08dff4-3399-46de-a9ba-ba89b8cdb61e",
    "outputId": "503478a0-3f04-4ee1-d0b3-7c02c3d5104c"
   },
   "outputs": [
    {
     "name": "stdout",
     "output_type": "stream",
     "text": [
      "正在更新状态...\n",
      "原输入: 'hello world' (11字符)\n",
      "新输入: 'hi' (2字符)\n",
      "状态更新结果: {'configurable': {'thread_id': '1', 'checkpoint_ns': '', 'checkpoint_id': '1f08fb36-56e6-644a-8005-5309408c3550'}}\n",
      "现在可以继续执行图了！\n"
     ]
    }
   ],
   "source": [
    "# 更新状态：将输入改为短字符串，避免触发断点\n",
    "print(\"正在更新状态...\")\n",
    "print(\"原输入: 'hello world' (11字符)\")\n",
    "print(\"新输入: 'hi' (2字符)\")\n",
    "\n",
    "# 使用 update_state 方法修改图的状态\n",
    "result = graph.update_state(\n",
    "    thread_config,\n",
    "    {\"input\": \"hi\"},  # 新的输入，只有2个字符\n",
    ")\n",
    "\n",
    "print(f\"状态更新结果: {result}\")\n",
    "print(\"现在可以继续执行图了！\")"
   ]
  },
  {
   "cell_type": "code",
   "execution_count": 9,
   "id": "4cb3f62b-fccd-47c3-af1e-541969e4d804",
   "metadata": {
    "colab": {
     "base_uri": "https://localhost:8080/"
    },
    "id": "4cb3f62b-fccd-47c3-af1e-541969e4d804",
    "outputId": "d28982a2-2b6a-4278-c27d-5bc7ffb70d61"
   },
   "outputs": [
    {
     "name": "stdout",
     "output_type": "stream",
     "text": [
      "继续执行图...\n",
      "预期结果: 所有步骤都能正常执行，不会触发中断\n",
      "--------------------------------------------------\n",
      "状态更新: {'input': 'hi'}\n",
      "---Step 2---\n",
      "状态更新: {'input': 'hi'}\n",
      "---Step 3---\n",
      "状态更新: {'input': 'hi'}\n",
      "--------------------------------------------------\n",
      "图执行完成！\n"
     ]
    }
   ],
   "source": [
    "# 继续执行图，现在应该能正常完成\n",
    "print(\"继续执行图...\")\n",
    "print(\"预期结果: 所有步骤都能正常执行，不会触发中断\")\n",
    "print(\"-\" * 50)\n",
    "\n",
    "for event in graph.stream(None, thread_config, stream_mode=\"values\"):\n",
    "    print(f\"状态更新: {event}\")\n",
    "\n",
    "print(\"-\" * 50)\n",
    "print(\"图执行完成！\")"
   ]
  },
  {
   "cell_type": "markdown",
   "id": "76e3dea8-8270-42c7-8d24-606b79b9c6aa",
   "metadata": {
    "id": "76e3dea8-8270-42c7-8d24-606b79b9c6aa"
   },
   "source": [
    "## 使用 LangGraph Studio 进行可视化调试\n",
    "\n",
    "### 启动本地开发服务器\n",
    "\n",
    "**⚠️ 重要说明**\n",
    "\n",
    "自视频录制以来，我们已经更新了 Studio，现在可以在本地运行并在浏览器中打开。这是在本地运行 Studio 的首选方式（而不是使用视频中显示的桌面应用程序）。\n",
    "\n",
    "要启动本地开发服务器，请在此模块的 `/studio` 目录中运行以下命令：\n",
    "\n",
    "```bash\n",
    "langgraph dev\n",
    "```\n",
    "\n",
    "您应该看到以下输出：\n",
    "```\n",
    "- 🚀 API: http://127.0.0.1:2024\n",
    "- 🎨 Studio UI: https://smith.langchain.com/studio/?baseUrl=http://127.0.0.1:2024\n",
    "- 📚 API Docs: http://127.0.0.1:2024/docs\n",
    "```\n",
    "\n",
    "在浏览器中打开 Studio UI：`https://smith.langchain.com/studio/?baseUrl=http://127.0.0.1:2024`\n",
    "\n",
    "### Studio 的优势\n",
    "\n",
    "1. **可视化调试**：可以直观地看到图的执行流程\n",
    "2. **状态检查**：实时查看每个节点的状态变化\n",
    "3. **交互式操作**：可以手动修改状态并继续执行\n",
    "4. **断点管理**：方便地管理各种类型的断点"
   ]
  },
  {
   "cell_type": "code",
   "execution_count": null,
   "id": "be02c417-5adc-4789-aa90-02fd2312eb53",
   "metadata": {
    "id": "be02c417-5adc-4789-aa90-02fd2312eb53"
   },
   "outputs": [],
   "source": [
    "# 检查是否在 Google Colab 环境中运行\n",
    "# LangGraph Studio 目前不支持 Google Colab\n",
    "if 'google.colab' in str(get_ipython()):\n",
    "    raise Exception(\"很抱歉，LangGraph Studio 目前不支持在 Google Colab 中运行\")"
   ]
  },
  {
   "cell_type": "markdown",
   "id": "2390ff2e-6b1a-4c6e-b0ce-debd45085dc8",
   "metadata": {
    "id": "2390ff2e-6b1a-4c6e-b0ce-debd45085dc8"
   },
   "source": [
    "## 通过 SDK 连接到 Studio\n",
    "\n",
    "现在我们将通过 LangGraph SDK 连接到本地开发服务器，演示如何在 Studio 环境中使用动态断点。"
   ]
  },
  {
   "cell_type": "code",
   "execution_count": null,
   "id": "4696327d",
   "metadata": {
    "id": "4696327d"
   },
   "outputs": [],
   "source": [
    "# 导入 LangGraph SDK\n",
    "from langgraph_sdk import get_client\n",
    "\n",
    "# 连接到本地开发服务器\n",
    "URL = \"http://127.0.0.1:2024\"  # 本地开发服务器的地址\n",
    "print(f\"正在连接到 LangGraph Studio: {URL}\")\n",
    "\n",
    "try:\n",
    "    client = get_client(url=URL)\n",
    "    print(\"✅ 连接成功！\")\n",
    "\n",
    "    # 搜索所有可用的图\n",
    "    print(\"正在搜索可用的图...\")\n",
    "    assistants = await client.assistants.search()\n",
    "    print(f\"找到 {len(assistants)} 个可用的图\")\n",
    "\n",
    "    # 显示可用的图\n",
    "    for i, assistant in enumerate(assistants):\n",
    "        print(f\"  {i+1}. {assistant['assistant_id']}\")\n",
    "\n",
    "except Exception as e:\n",
    "    print(f\"❌ 连接失败: {e}\")\n",
    "    print(\"请确保 LangGraph Studio 正在运行 (langgraph dev)\")"
   ]
  },
  {
   "cell_type": "code",
   "execution_count": null,
   "id": "8cb892cb-c79c-46bb-820b-d0479e71c5c4",
   "metadata": {
    "id": "8cb892cb-c79c-46bb-820b-d0479e71c5c4",
    "outputId": "a002a936-5bd6-41c4-ac39-c1b8f98442e8"
   },
   "outputs": [
    {
     "name": "stdout",
     "output_type": "stream",
     "text": [
      "Receiving new event of type: metadata...\n",
      "{'run_id': '1ef6a43a-1b04-64d0-9a79-1caff72c8a89'}\n",
      "\n",
      "\n",
      "\n",
      "Receiving new event of type: values...\n",
      "{'input': 'hello world'}\n",
      "\n",
      "\n",
      "\n",
      "Receiving new event of type: values...\n",
      "{'input': 'hello world'}\n",
      "\n",
      "\n",
      "\n"
     ]
    }
   ],
   "source": [
    "# 创建一个新的线程来执行图\n",
    "print(\"创建新的执行线程...\")\n",
    "thread = await client.threads.create()\n",
    "print(f\"线程ID: {thread['thread_id']}\")\n",
    "\n",
    "# 准备测试输入（会触发动态断点）\n",
    "input_dict = {\"input\": \"hello world\"}\n",
    "print(f\"输入数据: {input_dict}\")\n",
    "\n",
    "print(\"\\n开始执行图...\")\n",
    "print(\"预期结果: 在 step_2 处触发动态断点\")\n",
    "print(\"-\" * 60)\n",
    "\n",
    "# 使用 SDK 执行图\n",
    "async for chunk in client.runs.stream(\n",
    "    thread[\"thread_id\"],\n",
    "    assistant_id=\"dynamic_breakpoints\",  # 使用预定义的动态断点图\n",
    "    input=input_dict,\n",
    "    stream_mode=\"values\",):\n",
    "\n",
    "    print(f\"收到事件类型: {chunk.event}\")\n",
    "    print(f\"事件数据: {chunk.data}\")\n",
    "    print(\"\\n\" + \"=\"*40 + \"\\n\")\n",
    "\n",
    "print(\"图执行被中断！\")"
   ]
  },
  {
   "cell_type": "code",
   "execution_count": null,
   "id": "0ba7d9da",
   "metadata": {
    "id": "0ba7d9da"
   },
   "outputs": [],
   "source": [
    "# 获取当前线程的状态\n",
    "print(\"获取当前线程状态...\")\n",
    "current_state = await client.threads.get_state(thread['thread_id'])\n",
    "print(\"状态获取成功！\")"
   ]
  },
  {
   "cell_type": "code",
   "execution_count": null,
   "id": "9610fc2b-ae39-4ffa-84af-b049e7d22cd6",
   "metadata": {
    "id": "9610fc2b-ae39-4ffa-84af-b049e7d22cd6",
    "outputId": "0722cfbf-fee3-4d6a-f2ee-bbc099a9156b"
   },
   "outputs": [
    {
     "data": {
      "text/plain": [
       "['step_2']"
      ]
     },
     "execution_count": 14,
     "metadata": {},
     "output_type": "execute_result"
    }
   ],
   "source": [
    "# 查看下一个要执行的节点\n",
    "print(\"当前状态信息:\")\n",
    "print(f\"下一个要执行的节点: {current_state['next']}\")\n",
    "print(f\"当前状态值: {current_state['values']}\")\n",
    "print(f\"是否有中断: {len(current_state['tasks']) > 0 and any(task.get('interrupts') for task in current_state['tasks'])}\")"
   ]
  },
  {
   "cell_type": "code",
   "execution_count": null,
   "id": "1e880cf0-18b1-4f7b-a770-24d45dd22757",
   "metadata": {
    "id": "1e880cf0-18b1-4f7b-a770-24d45dd22757",
    "outputId": "8008773d-c1b9-41e2-eff5-942e1611a393"
   },
   "outputs": [
    {
     "data": {
      "text/plain": [
       "{'configurable': {'thread_id': 'ea8c2912-987e-49d9-b890-6e81d46065f9',\n",
       "  'checkpoint_ns': '',\n",
       "  'checkpoint_id': '1ef6a43a-64b2-6e85-8002-3cf4f2873968'},\n",
       " 'checkpoint_id': '1ef6a43a-64b2-6e85-8002-3cf4f2873968'}"
      ]
     },
     "execution_count": 15,
     "metadata": {},
     "output_type": "execute_result"
    }
   ],
   "source": [
    "# 更新线程状态以解决中断\n",
    "print(\"正在更新线程状态...\")\n",
    "print(\"原输入: 'hello world' (11字符)\")\n",
    "print(\"新输入: 'hi!' (3字符)\")\n",
    "\n",
    "# 使用 SDK 更新状态\n",
    "result = await client.threads.update_state(thread['thread_id'], {\"input\": \"hi!\"})\n",
    "print(f\"状态更新结果: {result}\")\n",
    "print(\"现在可以继续执行图了！\")"
   ]
  },
  {
   "cell_type": "code",
   "execution_count": null,
   "id": "16dc65b9-95c0-46eb-9f73-da0a35e70034",
   "metadata": {
    "id": "16dc65b9-95c0-46eb-9f73-da0a35e70034",
    "outputId": "87c92226-3d4b-41e9-a5c8-f08ac06d132a"
   },
   "outputs": [
    {
     "name": "stdout",
     "output_type": "stream",
     "text": [
      "Receiving new event of type: metadata...\n",
      "{'run_id': '1ef64c33-fb34-6eaf-8b59-1d85c5b8acc9'}\n",
      "\n",
      "\n",
      "\n",
      "Receiving new event of type: values...\n",
      "{'input': 'hi!'}\n",
      "\n",
      "\n",
      "\n",
      "Receiving new event of type: values...\n",
      "{'input': 'hi!'}\n",
      "\n",
      "\n",
      "\n"
     ]
    }
   ],
   "source": [
    "# 继续执行图，现在应该能正常完成\n",
    "print(\"继续执行图...\")\n",
    "print(\"预期结果: 所有步骤都能正常执行，不会触发中断\")\n",
    "print(\"-\" * 60)\n",
    "\n",
    "async for chunk in client.runs.stream(\n",
    "    thread[\"thread_id\"],\n",
    "    assistant_id=\"dynamic_breakpoints\",\n",
    "    input=None,  # 使用 None 表示继续执行，不提供新输入\n",
    "    stream_mode=\"values\",):\n",
    "\n",
    "    print(f\"收到事件类型: {chunk.event}\")\n",
    "    print(f\"事件数据: {chunk.data}\")\n",
    "    print(\"\\n\" + \"=\"*40 + \"\\n\")\n",
    "\n",
    "print(\"图执行完成！\")"
   ]
  },
  {
   "cell_type": "code",
   "execution_count": null,
   "id": "5f662b10-ad4c-45c7-a420-ded8ccae8faa",
   "metadata": {
    "id": "5f662b10-ad4c-45c7-a420-ded8ccae8faa",
    "outputId": "acc3e36d-8b4e-4b62-9fd9-0a40da4dbf07"
   },
   "outputs": [
    {
     "data": {
      "text/plain": [
       "{'values': {'input': 'hi!'},\n",
       " 'next': ['step_2'],\n",
       " 'tasks': [{'id': '858e41b2-6501-585c-9bca-55c1e729ef91',\n",
       "   'name': 'step_2',\n",
       "   'error': None,\n",
       "   'interrupts': [],\n",
       "   'state': None}],\n",
       " 'metadata': {'step': 2,\n",
       "  'source': 'update',\n",
       "  'writes': {'step_1': {'input': 'hi!'}},\n",
       "  'parents': {},\n",
       "  'graph_id': 'dynamic_breakpoints'},\n",
       " 'created_at': '2024-09-03T22:27:05.707260+00:00',\n",
       " 'checkpoint_id': '1ef6a43a-64b2-6e85-8002-3cf4f2873968',\n",
       " 'parent_checkpoint_id': '1ef6a43a-1cb8-6c3d-8001-7b11d0d34f00'}"
      ]
     },
     "execution_count": 16,
     "metadata": {},
     "output_type": "execute_result"
    }
   ],
   "source": [
    "# 检查最终状态\n",
    "print(\"检查最终状态...\")\n",
    "current_state = await client.threads.get_state(thread['thread_id'])\n",
    "\n",
    "print(\"最终状态信息:\")\n",
    "print(f\"下一个要执行的节点: {current_state['next']}\")\n",
    "print(f\"当前状态值: {current_state['values']}\")\n",
    "print(f\"任务数量: {len(current_state['tasks'])}\")\n",
    "print(f\"是否有中断: {len(current_state['tasks']) > 0 and any(task.get('interrupts') for task in current_state['tasks'])}\")\n",
    "\n",
    "if not current_state['next']:\n",
    "    print(\"✅ 图已成功完成执行！\")\n",
    "else:\n",
    "    print(f\"⚠️ 图仍在等待执行: {current_state['next']}\")"
   ]
  },
  {
   "cell_type": "markdown",
   "id": "17637122",
   "metadata": {
    "id": "17637122"
   },
   "source": [
    "## 总结\n",
    "\n",
    "### 动态断点的核心概念\n",
    "\n",
    "1. **条件性中断**：根据运行时条件决定是否中断\n",
    "2. **信息传递**：通过 `NodeInterrupt` 传递中断原因\n",
    "3. **状态管理**：需要修改状态才能解决中断问题\n",
    "\n",
    "### 关键学习点\n",
    "\n",
    "1. **NodeInterrupt 异常**：用于在节点内部触发动态中断\n",
    "2. **状态更新**：使用 `update_state` 方法修改图状态\n",
    "3. **中断恢复**：修改状态后可以继续执行图\n",
    "4. **Studio 集成**：通过 SDK 在 Studio 环境中使用动态断点\n",
    "\n",
    "### 实际应用场景\n",
    "\n",
    "- **内容审核**：当检测到敏感内容时中断，等待人工审核\n",
    "- **质量控制**：当输出质量不达标时中断，要求重新生成\n",
    "- **用户确认**：当需要用户确认重要操作时中断\n",
    "- **错误处理**：当检测到异常情况时中断，等待处理\n",
    "\n",
    "### 最佳实践\n",
    "\n",
    "1. **明确中断条件**：确保中断条件清晰且必要\n",
    "2. **提供有用信息**：在 `NodeInterrupt` 中包含足够的上下文信息\n",
    "3. **状态设计**：确保状态可以被合理修改以解决中断\n",
    "4. **用户体验**：考虑用户如何理解和处理中断情况\n"
   ]
  },
  {
   "cell_type": "code",
   "execution_count": null,
   "id": "873b3696-df61-4f2e-94d8-089b7072aafa",
   "metadata": {
    "id": "873b3696-df61-4f2e-94d8-089b7072aafa"
   },
   "outputs": [],
   "source": []
  }
 ],
 "metadata": {
  "colab": {
   "include_colab_link": true,
   "provenance": []
  },
  "kernelspec": {
   "display_name": "academy",
   "language": "python",
   "name": "python3"
  },
  "language_info": {
   "codemirror_mode": {
    "name": "ipython",
    "version": 3
   },
   "file_extension": ".py",
   "mimetype": "text/x-python",
   "name": "python",
   "nbconvert_exporter": "python",
   "pygments_lexer": "ipython3",
   "version": "3.11.8"
  }
 },
 "nbformat": 4,
 "nbformat_minor": 5
}