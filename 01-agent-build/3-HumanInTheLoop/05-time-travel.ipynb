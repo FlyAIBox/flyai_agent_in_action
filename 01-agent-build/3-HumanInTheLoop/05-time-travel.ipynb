{
 "cells": [
  {
   "cell_type": "markdown",
   "id": "env_config_overview",
   "metadata": {
    "jp-MarkdownHeadingCollapsed": true
   },
   "source": [
    "### 🔧 环境配置和检查\n",
    "\n",
    "#### 概述\n",
    "\n",
    "本教程需要特定的环境配置以确保最佳学习体验。以下配置将帮助您：\n",
    "\n",
    "- 使用统一的conda环境：激活统一的学习环境\n",
    "- 通过国内镜像源快速安装依赖：配置pip使用清华镜像源\n",
    "- 加速模型下载：设置HuggingFace镜像Agent\n",
    "- 检查系统配置：检查硬件和软件配置\n",
    "\n",
    "#### 配置\n",
    "\n",
    "- **所需环境及其依赖已经部署好**\n",
    "- 在`Notebook`右上角选择`jupyter内核`为`python(flyai_agent_in_action)`，即可执行下方代码"
   ]
  },
  {
   "cell_type": "code",
   "execution_count": 1,
   "id": "env_conda_activate",
   "metadata": {},
   "outputs": [
    {
     "name": "stdout",
     "output_type": "stream",
     "text": [
      "=========================================\n",
      "== Conda 环境检查报告 (仅针对当前 Bash 子进程) ==\n",
      "=========================================\n",
      "✅ 当前单元格已成功激活到 flyai_agent_in_action 环境。\n",
      "✅ 正在使用的环境路径: /workspace/envs/flyai_agent_in_action\n",
      "\n",
      "💡 提示: 后续的 Python 单元格将使用 Notebook 当前选择的 Jupyter 内核。\n",
      "   如果需要后续单元格也使用此环境，请执行以下操作:\n",
      "   1. 检查 Notebook 右上角是否已选择 'python(flyai_agent_in_action)'。\n",
      "=========================================\n"
     ]
    }
   ],
   "source": [
    "%%script bash\n",
    "\n",
    "# 1. 激活 conda 环境 (仅对当前单元格有效)\n",
    "eval \"$(conda shell.bash hook)\"\n",
    "conda activate flyai_agent_in_action\n",
    "\n",
    "echo \"=========================================\"\n",
    "echo \"== Conda 环境检查报告 (仅针对当前 Bash 子进程) ==\"\n",
    "echo \"=========================================\"\n",
    "\n",
    "# 2. 检查当前激活的环境\n",
    "CURRENT_ENV_NAME=$(basename $CONDA_PREFIX)\n",
    "\n",
    "if [ \"$CURRENT_ENV_NAME\" = \"flyai_agent_in_action\" ]; then\n",
    "    echo \"✅ 当前单元格已成功激活到 flyai_agent_in_action 环境。\"\n",
    "    echo \"✅ 正在使用的环境路径: $CONDA_PREFIX\"\n",
    "    echo \"\"\n",
    "    echo \"💡 提示: 后续的 Python 单元格将使用 Notebook 当前选择的 Jupyter 内核。\"\n",
    "    echo \"   如果需要后续单元格也使用此环境，请执行以下操作:\"\n",
    "    echo \"   1. 检查 Notebook 右上角是否已选择 'python(flyai_agent_in_action)'。\"\n",
    "else\n",
    "    echo \"❌ 激活失败或环境名称不匹配。当前环境: $CURRENT_ENV_NAME\"\n",
    "    echo \"\"\n",
    "    echo \"⚠️ 严重提示: 建议将 Notebook 的 Jupyter **内核 (Kernel)** 切换为 'python(flyai_agent_in_action)'。\"\n",
    "    echo \"   (通常位于 Notebook 右上角或 '内核' 菜单中)\"\n",
    "    echo \"\"\n",
    "    echo \"📚 备用方法 (不推荐): 如果无法切换内核，则必须在**每个**代码单元格的头部重复以下命令:\"\n",
    "    echo \"\"\n",
    "    echo \"%%script bash\"\n",
    "    echo \"# 必须在每个单元格都执行\"\n",
    "    echo \"eval \\\"\\$(conda shell.bash hook)\\\"\"\n",
    "    echo \"conda activate flyai_agent_in_action\"\n",
    "fi\n",
    "\n",
    "echo \"=========================================\" "
   ]
  },
  {
   "cell_type": "code",
   "execution_count": 2,
   "id": "env_pip_config",
   "metadata": {},
   "outputs": [
    {
     "name": "stdout",
     "output_type": "stream",
     "text": [
      "Writing to /root/.config/pip/pip.conf\n",
      "Note: you may need to restart the kernel to use updated packages.\n",
      "global.index-url='https://pypi.tuna.tsinghua.edu.cn/simple'\n",
      ":env:.target=''\n",
      "Note: you may need to restart the kernel to use updated packages.\n"
     ]
    }
   ],
   "source": [
    "# 2. 设置pip 为清华源\n",
    "%pip config set global.index-url https://pypi.tuna.tsinghua.edu.cn/simple\n",
    "%pip config list\n"
   ]
  },
  {
   "cell_type": "code",
   "execution_count": 3,
   "id": "env_hf_proxy",
   "metadata": {},
   "outputs": [
    {
     "name": "stdout",
     "output_type": "stream",
     "text": [
      "env: HF_ENDPOINT=https://hf-mirror.com\n",
      "https://hf-mirror.com\n"
     ]
    }
   ],
   "source": [
    "# 3. 设置HuggingFaceAgent\n",
    "%env HF_ENDPOINT=https://hf-mirror.com\n",
    "# 验证：使用shell命令检查\n",
    "!echo $HF_ENDPOINT"
   ]
  },
  {
   "cell_type": "code",
   "execution_count": 4,
   "id": "env_system_check",
   "metadata": {},
   "outputs": [
    {
     "name": "stdout",
     "output_type": "stream",
     "text": [
      "Looking in indexes: https://pypi.tuna.tsinghua.edu.cn/simple\n",
      "Requirement already satisfied: pandas==2.2.2 in /workspace/envs/flyai_agent_in_action/lib/python3.12/site-packages (2.2.2)\n",
      "Requirement already satisfied: tabulate==0.9.0 in /workspace/envs/flyai_agent_in_action/lib/python3.12/site-packages (0.9.0)\n",
      "Requirement already satisfied: numpy>=1.26.0 in /workspace/envs/flyai_agent_in_action/lib/python3.12/site-packages (from pandas==2.2.2) (2.3.3)\n",
      "Requirement already satisfied: python-dateutil>=2.8.2 in /workspace/envs/flyai_agent_in_action/lib/python3.12/site-packages (from pandas==2.2.2) (2.9.0.post0)\n",
      "Requirement already satisfied: pytz>=2020.1 in /workspace/envs/flyai_agent_in_action/lib/python3.12/site-packages (from pandas==2.2.2) (2025.2)\n",
      "Requirement already satisfied: tzdata>=2022.7 in /workspace/envs/flyai_agent_in_action/lib/python3.12/site-packages (from pandas==2.2.2) (2025.2)\n",
      "Requirement already satisfied: six>=1.5 in /workspace/envs/flyai_agent_in_action/lib/python3.12/site-packages (from python-dateutil>=2.8.2->pandas==2.2.2) (1.17.0)\n",
      "\u001b[33mWARNING: Running pip as the 'root' user can result in broken permissions and conflicting behaviour with the system package manager, possibly rendering your system unusable. It is recommended to use a virtual environment instead: https://pip.pypa.io/warnings/venv. Use the --root-user-action option if you know what you are doing and want to suppress this warning.\u001b[0m\u001b[33m\n",
      "\u001b[0mNote: you may need to restart the kernel to use updated packages.\n",
      "### 环境信息\n",
      "| 项目         | 信息                                                                  |\n",
      "|:-------------|:----------------------------------------------------------------------|\n",
      "| 操作系统     | Linux 5.15.0-126-generic                                              |\n",
      "| CPU 信息     | Intel(R) Xeon(R) Platinum 8468 (48 physical cores, 192 logical cores) |\n",
      "| 内存信息     | 2015.36 GB (Available: 1867.89 GB)                                    |\n",
      "| GPU 信息     | No GPU found (checked nvidia-smi, lshw not found)                     |\n",
      "| CUDA 信息    | 12.6                                                                  |\n",
      "| Python 版本  | 3.12.11                                                               |\n",
      "| Conda 版本   | conda 25.7.0                                                          |\n",
      "| 物理磁盘空间 | Total: 2014.78 GB, Used: 788.88 GB, Free: 1123.48 GB                  |\n"
     ]
    }
   ],
   "source": [
    "# 🔍 环境信息检查脚本\n",
    "#\n",
    "# 本脚本的作用：\n",
    "# 1. 安装 pandas 库用于数据表格展示\n",
    "# 2. 检查系统的各项配置信息\n",
    "# 3. 生成详细的环境报告表格\n",
    "#\n",
    "# 对于初学者来说，这个步骤帮助您：\n",
    "# - 了解当前运行环境的硬件配置\n",
    "# - 确认是否满足模型运行的最低要求\n",
    "# - 学习如何通过代码获取系统信息\n",
    "\n",
    "# 安装 pandas 库 - 用于创建和展示数据表格\n",
    "# pandas 是 Python 中最流行的数据处理和分析库\n",
    "%pip install pandas==2.2.2 tabulate==0.9.0\n",
    "\n",
    "import platform # 导入 platform 模块以获取系统信息\n",
    "import os # 导入 os 模块以与操作系统交互\n",
    "import subprocess # 导入 subprocess 模块以运行外部命令\n",
    "import pandas as pd # 导入 pandas 模块，通常用于数据处理，这里用于创建表格\n",
    "import shutil # 导入 shutil 模块以获取磁盘空间信息\n",
    "\n",
    "# 获取 CPU 信息的函数，包括核心数量\n",
    "def get_cpu_info():\n",
    "    cpu_info = \"\" # 初始化 CPU 信息字符串\n",
    "    physical_cores = \"N/A\"\n",
    "    logical_cores = \"N/A\"\n",
    "\n",
    "    if platform.system() == \"Windows\": # 如果是 Windows 系统\n",
    "        cpu_info = platform.processor() # 使用 platform.processor() 获取 CPU 信息\n",
    "        try:\n",
    "            # 获取 Windows 上的核心数量 (需要 WMI)\n",
    "            import wmi\n",
    "            c = wmi.WMI()\n",
    "            for proc in c.Win32_Processor():\n",
    "                physical_cores = proc.NumberOfCores\n",
    "                logical_cores = proc.NumberOfLogicalProcessors\n",
    "        except:\n",
    "            pass # 如果 WMI 不可用，忽略错误\n",
    "\n",
    "    elif platform.system() == \"Darwin\": # 如果是 macOS 系统\n",
    "        # 在 macOS 上使用 sysctl 命令获取 CPU 信息和核心数量\n",
    "        os.environ['PATH'] = os.environ['PATH'] + os.pathsep + '/usr/sbin' # 更新 PATH 环境变量\n",
    "        try:\n",
    "            process_brand = subprocess.Popen(['sysctl', \"machdep.cpu.brand_string\"], stdout=subprocess.PIPE, stderr=subprocess.PIPE)\n",
    "            stdout_brand, stderr_brand = process_brand.communicate()\n",
    "            cpu_info = stdout_brand.decode().split(': ')[1].strip() if stdout_brand else \"Could not retrieve CPU info\"\n",
    "\n",
    "            process_physical = subprocess.Popen(['sysctl', \"hw.physicalcpu\"], stdout=subprocess.PIPE, stderr=subprocess.PIPE)\n",
    "            stdout_physical, stderr_physical = process_physical.communicate()\n",
    "            physical_cores = stdout_physical.decode().split(': ')[1].strip() if stdout_physical else \"N/A\"\n",
    "\n",
    "            process_logical = subprocess.Popen(['sysctl', \"hw.logicalcpu\"], stdout=subprocess.PIPE, stderr=subprocess.PIPE)\n",
    "            stdout_logical, stderr_logical = process_logical.communicate()\n",
    "            logical_cores = stdout_logical.decode().split(': ')[1].strip() if stdout_logical else \"N/A\"\n",
    "\n",
    "        except:\n",
    "            cpu_info = \"Could not retrieve CPU info\"\n",
    "            physical_cores = \"N/A\"\n",
    "            logical_cores = \"N/A\"\n",
    "\n",
    "    else:  # Linux 系统\n",
    "        try:\n",
    "            # 在 Linux 上读取 /proc/cpuinfo 文件获取 CPU 信息和核心数量\n",
    "            with open('/proc/cpuinfo') as f:\n",
    "                physical_cores_count = 0\n",
    "                logical_cores_count = 0\n",
    "                cpu_info_lines = []\n",
    "                for line in f:\n",
    "                    if line.startswith('model name'): # 查找以 'model name'开头的行\n",
    "                        if not cpu_info: # 只获取第一个 model name\n",
    "                            cpu_info = line.split(': ')[1].strip()\n",
    "                    elif line.startswith('cpu cores'): # 查找以 'cpu cores' 开头的行\n",
    "                        physical_cores_count = int(line.split(': ')[1].strip())\n",
    "                    elif line.startswith('processor'): # 查找以 'processor' 开头的行\n",
    "                        logical_cores_count += 1\n",
    "                physical_cores = str(physical_cores_count) if physical_cores_count > 0 else \"N/A\"\n",
    "                logical_cores = str(logical_cores_count) if logical_cores_count > 0 else \"N/A\"\n",
    "                if not cpu_info:\n",
    "                     cpu_info = \"Could not retrieve CPU info\"\n",
    "\n",
    "        except:\n",
    "            cpu_info = \"Could not retrieve CPU info\"\n",
    "            physical_cores = \"N/A\"\n",
    "            logical_cores = \"N/A\"\n",
    "\n",
    "    return f\"{cpu_info} ({physical_cores} physical cores, {logical_cores} logical cores)\" # 返回 CPU 信息和核心数量\n",
    "\n",
    "\n",
    "# 获取内存信息的函数\n",
    "def get_memory_info():\n",
    "    mem_info = \"\" # 初始化内存信息字符串\n",
    "    if platform.system() == \"Windows\":\n",
    "        # 在 Windows 上不容易通过标准库获取，需要外部库或 PowerShell\n",
    "        mem_info = \"Requires external tools on Windows\" # 设置提示信息\n",
    "    elif platform.system() == \"Darwin\": # 如果是 macOS 系统\n",
    "        # 在 macOS 上使用 sysctl 命令获取内存大小\n",
    "        process = subprocess.Popen(['sysctl', \"hw.memsize\"], stdout=subprocess.PIPE, stderr=subprocess.PIPE) # 运行 sysctl 命令\n",
    "        stdout, stderr = process.communicate() # 获取标准输出和标准错误\n",
    "        mem_bytes = int(stdout.decode().split(': ')[1].strip()) # 解析输出，获取内存大小（字节）\n",
    "        mem_gb = mem_bytes / (1024**3) # 转换为 GB\n",
    "        mem_info = f\"{mem_gb:.2f} GB\" # 格式化输出\n",
    "    else:  # Linux 系统\n",
    "        try:\n",
    "            # 在 Linux 上读取 /proc/meminfo 文件获取内存信息\n",
    "            with open('/proc/meminfo') as f:\n",
    "                total_mem_kb = 0\n",
    "                available_mem_kb = 0\n",
    "                for line in f:\n",
    "                    if line.startswith('MemTotal'): # 查找以 'MemTotal' 开头的行\n",
    "                        total_mem_kb = int(line.split(':')[1].strip().split()[0]) # 解析行，获取总内存（KB）\n",
    "                    elif line.startswith('MemAvailable'): # 查找以 'MemAvailable' 开头的行\n",
    "                         available_mem_kb = int(line.split(':')[1].strip().split()[0]) # 解析行，获取可用内存（KB）\n",
    "\n",
    "                if total_mem_kb > 0:\n",
    "                    total_mem_gb = total_mem_kb / (1024**2) # 转换为 GB\n",
    "                    mem_info = f\"{total_mem_gb:.2f} GB\" # 格式化输出总内存\n",
    "                    if available_mem_kb > 0:\n",
    "                        available_mem_gb = available_mem_kb / (1024**2)\n",
    "                        mem_info += f\" (Available: {available_mem_gb:.2f} GB)\" # 添加可用内存信息\n",
    "                else:\n",
    "                     mem_info = \"Could not retrieve memory info\" # 如果读取文件出错，设置错误信息\n",
    "\n",
    "        except:\n",
    "            mem_info = \"Could not retrieve memory info\" # 如果读取文件出错，设置错误信息\n",
    "    return mem_info # 返回内存信息\n",
    "\n",
    "# 获取 GPU 信息的函数，包括显存\n",
    "def get_gpu_info():\n",
    "    try:\n",
    "        # 尝试使用 nvidia-smi 获取 NVIDIA GPU 信息和显存\n",
    "        result = subprocess.run(['nvidia-smi', '--query-gpu=name,memory.total', '--format=csv,noheader'], capture_output=True, text=True)\n",
    "        if result.returncode == 0: # 如果命令成功执行\n",
    "            gpu_lines = result.stdout.strip().split('\\n') # 解析输出，获取 GPU 名称和显存\n",
    "            gpu_info_list = []\n",
    "            for line in gpu_lines:\n",
    "                name, memory = line.split(', ')\n",
    "                gpu_info_list.append(f\"{name} ({memory})\") # 格式化 GPU 信息\n",
    "            return \", \".join(gpu_info_list) if gpu_info_list else \"NVIDIA GPU found, but info not listed\" # 返回 GPU 信息或提示信息\n",
    "        else:\n",
    "             # 尝试使用 lshw 获取其他 GPU 信息 (需要安装 lshw)\n",
    "            try:\n",
    "                result_lshw = subprocess.run(['lshw', '-C', 'display'], capture_output=True, text=True)\n",
    "                if result_lshw.returncode == 0: # 如果命令成功执行\n",
    "                     # 简单解析输出中的 product 名称和显存\n",
    "                    gpu_info_lines = []\n",
    "                    current_gpu = {}\n",
    "                    for line in result_lshw.stdout.splitlines():\n",
    "                        if 'product:' in line:\n",
    "                             if current_gpu:\n",
    "                                 gpu_info_lines.append(f\"{current_gpu.get('product', 'GPU')} ({current_gpu.get('memory', 'N/A')})\")\n",
    "                             current_gpu = {'product': line.split('product:')[1].strip()}\n",
    "                        elif 'size:' in line and 'memory' in line:\n",
    "                             current_gpu['memory'] = line.split('size:')[1].strip()\n",
    "\n",
    "                    if current_gpu: # 添加最后一个 GPU 的信息\n",
    "                        gpu_info_lines.append(f\"{current_gpu.get('product', 'GPU')} ({current_gpu.get('memory', 'N/A')})\")\n",
    "\n",
    "                    return \", \".join(gpu_info_lines) if gpu_info_lines else \"GPU found (via lshw), but info not parsed\" # 如果找到 GPU 但信息无法解析，设置提示信息\n",
    "                else:\n",
    "                    return \"No GPU found (checked nvidia-smi and lshw)\" # 如果两个命令都找不到 GPU，设置提示信息\n",
    "            except FileNotFoundError:\n",
    "                 return \"No GPU found (checked nvidia-smi, lshw not found)\" # 如果找不到 lshw 命令，设置提示信息\n",
    "    except FileNotFoundError:\n",
    "        return \"No GPU found (nvidia-smi not found)\" # 如果找不到 nvidia-smi 命令，设置提示信息\n",
    "\n",
    "\n",
    "# 获取 CUDA 版本的函数\n",
    "def get_cuda_version():\n",
    "    try:\n",
    "        # 尝试使用 nvcc --version 获取 CUDA 版本\n",
    "        result = subprocess.run(['nvcc', '--version'], capture_output=True, text=True)\n",
    "        if result.returncode == 0: # 如果命令成功执行\n",
    "            for line in result.stdout.splitlines():\n",
    "                if 'release' in line: # 查找包含 'release' 的行\n",
    "                    return line.split('release ')[1].split(',')[0] # 解析行，提取版本号\n",
    "        return \"CUDA not found or version not parsed\" # 如果找不到 CUDA 或版本无法解析，设置提示信息\n",
    "    except FileNotFoundError:\n",
    "        return \"CUDA not found\" # 如果找不到 nvcc 命令，设置提示信息\n",
    "\n",
    "# 获取 Python 版本的函数\n",
    "def get_python_version():\n",
    "    return platform.python_version() # 获取 Python 版本\n",
    "\n",
    "# 获取 Conda 版本的函数\n",
    "def get_conda_version():\n",
    "    try:\n",
    "        # 尝试使用 conda --version 获取 Conda 版本\n",
    "        result = subprocess.run(['conda', '--version'], capture_output=True, text=True)\n",
    "        if result.returncode == 0: # 如果命令成功执行\n",
    "            return result.stdout.strip() # 返回 Conda 版本\n",
    "        return \"Conda not found or version not parsed\" # 如果找不到 Conda 或版本无法解析，设置提示信息\n",
    "    except FileNotFoundError:\n",
    "        return \"Conda not found\" # 如果找不到 conda 命令，设置提示信息\n",
    "\n",
    "# 获取物理磁盘空间信息的函数\n",
    "def get_disk_space():\n",
    "    try:\n",
    "        total, used, free = shutil.disk_usage(\"/\") # 获取根目录的磁盘使用情况\n",
    "        total_gb = total / (1024**3) # 转换为 GB\n",
    "        used_gb = used / (1024**3) # 转换为 GB\n",
    "        free_gb = free / (1024**3) # 转换为 GB\n",
    "        return f\"Total: {total_gb:.2f} GB, Used: {used_gb:.2f} GB, Free: {free_gb:.2f} GB\" # 格式化输出\n",
    "    except Exception as e:\n",
    "        return f\"Could not retrieve disk info: {e}\" # 如果获取信息出错，设置错误信息\n",
    "\n",
    "# 获取环境信息\n",
    "os_name = platform.system() # 获取操作系统名称\n",
    "os_version = platform.release() # 获取操作系统版本\n",
    "if os_name == \"Linux\":\n",
    "    try:\n",
    "        # 在 Linux 上尝试获取发行版和版本\n",
    "        lsb_info = subprocess.run(['lsb_release', '-a'], capture_output=True, text=True)\n",
    "        if lsb_info.returncode == 0: # 如果命令成功执行\n",
    "            for line in lsb_info.stdout.splitlines():\n",
    "                if 'Description:' in line: # 查找包含 'Description:' 的行\n",
    "                    os_version = line.split('Description:')[1].strip() # 提取描述信息作为版本\n",
    "                    break # 找到后退出循环\n",
    "                elif 'Release:' in line: # 查找包含 'Release:' 的行\n",
    "                     os_version = line.split('Release:')[1].strip() # 提取版本号\n",
    "                     # 尝试获取 codename\n",
    "                     try:\n",
    "                         codename_info = subprocess.run(['lsb_release', '-c'], capture_output=True, text=True)\n",
    "                         if codename_info.returncode == 0:\n",
    "                             os_version += f\" ({codename_info.stdout.split(':')[1].strip()})\" # 将 codename 添加到版本信息中\n",
    "                     except:\n",
    "                         pass # 如果获取 codename 失败则忽略\n",
    "\n",
    "    except FileNotFoundError:\n",
    "        pass # lsb_release 可能未安装，忽略错误\n",
    "\n",
    "full_os_info = f\"{os_name} {os_version}\" # 组合完整的操作系统信息\n",
    "cpu_info = get_cpu_info() # 调用函数获取 CPU 信息和核心数量\n",
    "memory_info = get_memory_info() # 调用函数获取内存信息\n",
    "gpu_info = get_gpu_info() # 调用函数获取 GPU 信息和显存\n",
    "cuda_version = get_cuda_version() # 调用函数获取 CUDA 版本\n",
    "python_version = get_python_version() # 调用函数获取 Python 版本\n",
    "conda_version = get_conda_version() # 调用函数获取 Conda 版本\n",
    "disk_info = get_disk_space() # 调用函数获取物理磁盘空间信息\n",
    "\n",
    "\n",
    "# 创建用于存储数据的字典\n",
    "env_data = {\n",
    "    \"项目\": [ # 项目名称列表\n",
    "        \"操作系统\",\n",
    "        \"CPU 信息\",\n",
    "        \"内存信息\",\n",
    "        \"GPU 信息\",\n",
    "        \"CUDA 信息\",\n",
    "        \"Python 版本\",\n",
    "        \"Conda 版本\",\n",
    "        \"物理磁盘空间\" # 添加物理磁盘空间\n",
    "    ],\n",
    "    \"信息\": [ # 对应的信息列表\n",
    "        full_os_info,\n",
    "        cpu_info,\n",
    "        memory_info,\n",
    "        gpu_info,\n",
    "        cuda_version,\n",
    "        python_version,\n",
    "        conda_version,\n",
    "        disk_info # 添加物理磁盘空间信息\n",
    "    ]\n",
    "}\n",
    "\n",
    "# 创建一个 pandas DataFrame\n",
    "df = pd.DataFrame(env_data)\n",
    "\n",
    "# 打印表格\n",
    "print(\"### 环境信息\") # 打印标题\n",
    "print(df.to_markdown(index=False)) # 将 DataFrame 转换为 Markdown 格式并打印，不包含索引\n"
   ]
  },
  {
   "cell_type": "markdown",
   "id": "ba98beac-d461-4d7d-878a-11beca03ea1c",
   "metadata": {
    "id": "ba98beac-d461-4d7d-878a-11beca03ea1c"
   },
   "source": [
    "## 时间旅行（Time travel）\n",
    "\n",
    "### 回顾\n",
    "\n",
    "我们讨论了“人机协作（Human-in-the-loop）”的动机：\n",
    "\n",
    "(1) 许可（Approval）——可以中断Agent（agent）执行，把当前状态展示给用户，并等待用户批准某个动作。\n",
    "\n",
    "(2) 调试（Debugging）——可以倒回到过去的图状态，重放以复现或规避问题。\n",
    "\n",
    "(3) 编辑（Editing）——可以直接修改图的状态。\n",
    "\n",
    "我们展示了如何使用断点（breakpoints）在特定节点暂停图，或让图在运行时按条件动态中断。\n",
    "\n",
    "随后，我们演示了如何在获得人类批准后继续，或者直接基于人类反馈修改图状态。\n",
    "\n",
    "### 目标\n",
    "\n",
    "下面将展示 **LangGraph 如何通过“查看历史、回放、从历史状态分叉”来支持调试**（参考文档：`https://langchain-ai.github.io/langgraph/how-tos/human_in_the_loop/time-travel/`）。\n",
    "\n",
    "这套能力称为“时间旅行（time travel）”。\n",
    "\n",
    "---\n",
    "LangGraph 中的 **“时光旅行（Time travel）”** 是一个调试功能，允许你检查和分析图（graph）中每个步骤的状态。这个功能非常有用，因为它能让你像回放电影一样，逐帧查看图的执行过程，从而更好地理解：\n",
    "\n",
    "* **图的执行流程**：了解数据和状态如何在节点之间传递。\n",
    "* **状态的变化**：精确地看到每个节点执行后，图的全局状态是如何更新的。\n",
    "* **调试问题**：当某个节点出现意外行为或图进入错误状态时，你可以追溯到导致问题的具体步骤。\n",
    "\n",
    "简而言之，它让你能够 **“穿越” 回去**，查看任何一个特定时间点（即任何一个节点执行完毕后）的完整状态快照。"
   ]
  },
  {
   "cell_type": "code",
   "execution_count": 5,
   "id": "bd48aeb6-8478-4cb4-aef1-d524b80824d3",
   "metadata": {
    "id": "bd48aeb6-8478-4cb4-aef1-d524b80824d3"
   },
   "outputs": [
    {
     "name": "stdout",
     "output_type": "stream",
     "text": [
      "\u001b[33mWARNING: Running pip as the 'root' user can result in broken permissions and conflicting behaviour with the system package manager, possibly rendering your system unusable. It is recommended to use a virtual environment instead: https://pip.pypa.io/warnings/venv. Use the --root-user-action option if you know what you are doing and want to suppress this warning.\u001b[0m\u001b[33m\n",
      "\u001b[0mNote: you may need to restart the kernel to use updated packages.\n"
     ]
    }
   ],
   "source": [
    "%pip install --quiet langgraph==0.6.7 langchain_openai==0.3.32  langgraph_sdk==0.2.6 langgraph-prebuilt==0.6.4"
   ]
  },
  {
   "cell_type": "code",
   "execution_count": 6,
   "id": "7d32093f",
   "metadata": {
    "colab": {
     "base_uri": "https://localhost:8080/"
    },
    "id": "7d32093f",
    "outputId": "f32d14df-e63a-4bb9-906b-8ae90dfee8ca"
   },
   "outputs": [
    {
     "name": "stdin",
     "output_type": "stream",
     "text": [
      "OPENAI_API_KEY:  ········\n",
      "OPENAI_BASE_URL:  ········\n"
     ]
    }
   ],
   "source": [
    "import os, getpass\n",
    "\n",
    "def _set_env(var: str):\n",
    "    if not os.environ.get(var):\n",
    "        os.environ[var] = getpass.getpass(f\"{var}: \")\n",
    "\n",
    "# 设置 OpenAI API 密钥\n",
    "# 这是使用 OpenAI 模型所必需的\n",
    "_set_env(\"OPENAI_API_KEY\")\n",
    "# 设置 OpenAI APIAgent地址 (例如：https://api.apiyi.com/v1）\n",
    "_set_env(\"OPENAI_BASE_URL\")"
   ]
  },
  {
   "cell_type": "markdown",
   "id": "0497d316-832a-4668-b133-fd317ee81220",
   "metadata": {
    "id": "0497d316-832a-4668-b133-fd317ee81220"
   },
   "source": [
    "我们先构建一个最小可用的“计算助手”Agent（agent），它可以调用我们注册的算术工具函数。"
   ]
  },
  {
   "cell_type": "code",
   "execution_count": 7,
   "id": "d64ab3a1-b39c-4176-88c7-791a0b80c725",
   "metadata": {
    "id": "d64ab3a1-b39c-4176-88c7-791a0b80c725"
   },
   "outputs": [],
   "source": [
    "from langchain_openai import ChatOpenAI\n",
    "\n",
    "\n",
    "def multiply(a: int, b: int) -> int:\n",
    "    \"\"\"将两个整数相乘并返回结果。\n",
    "\n",
    "    参数:\n",
    "        a: 第一个整数\n",
    "        b: 第二个整数\n",
    "    返回:\n",
    "        两数相乘的整数结果\n",
    "    \"\"\"\n",
    "    return a * b\n",
    "\n",
    "\n",
    "# 声明一个可被大模型调用的“工具”函数（函数签名即工具规范）\n",
    "def add(a: int, b: int) -> int:\n",
    "    \"\"\"将两个整数相加并返回结果。\n",
    "\n",
    "    参数:\n",
    "        a: 第一个整数\n",
    "        b: 第二个整数\n",
    "    返回:\n",
    "        两数相加的整数结果\n",
    "    \"\"\"\n",
    "    return a + b\n",
    "\n",
    "\n",
    "def divide(a: int, b: int) -> float:\n",
    "    \"\"\"将整数 a 除以整数 b 并返回浮点结果。\n",
    "\n",
    "    参数:\n",
    "        a: 被除数（整数）\n",
    "        b: 除数（整数，注意不能为 0）\n",
    "    返回:\n",
    "        相除得到的浮点数结果\n",
    "    \"\"\"\n",
    "    return a / b\n",
    "\n",
    "\n",
    "# 向图中注册的工具列表（大模型可通过函数调用协议使用）\n",
    "tools = [add, multiply, divide]\n",
    "\n",
    "# 初始化聊天模型；这里使用 OpenAI 的 gpt-4o\n",
    "llm = ChatOpenAI(model=\"gpt-4o\")\n",
    "\n",
    "# 绑定工具，使得模型可以通过“工具调用（function calling）”调用上面的 Python 函数\n",
    "llm_with_tools = llm.bind_tools(tools)"
   ]
  },
  {
   "cell_type": "code",
   "execution_count": 8,
   "id": "1d8622a9-57cd-44dc-8696-46c5ab32d0b9",
   "metadata": {
    "colab": {
     "base_uri": "https://localhost:8080/",
     "height": 266
    },
    "id": "1d8622a9-57cd-44dc-8696-46c5ab32d0b9",
    "outputId": "e38c1c8c-ce28-4101-82ae-f043a8f63443"
   },
   "outputs": [
    {
     "name": "stdout",
     "output_type": "stream",
     "text": [
      "图可视化：\n"
     ]
    },
    {
     "data": {
      "image/png": "[encoded data removed]",
      "text/plain": [
       "<IPython.core.display.Image object>"
      ]
     },
     "metadata": {},
     "output_type": "display_data"
    },
    {
     "name": "stdout",
     "output_type": "stream",
     "text": [
      "✅ 图渲染成功！\n"
     ]
    }
   ],
   "source": [
    "from IPython.display import Image, display\n",
    "\n",
    "from langgraph.checkpoint.memory import MemorySaver\n",
    "from langgraph.graph import MessagesState\n",
    "from langgraph.graph import START, END, StateGraph\n",
    "from langgraph.prebuilt import tools_condition, ToolNode\n",
    "\n",
    "from langchain_core.messages import AIMessage, HumanMessage, SystemMessage\n",
    "\n",
    "# 系统提示词：限定助手的角色与任务，保证输出聚焦在算术计算\n",
    "sys_msg = SystemMessage(content=\"You are a helpful assistant tasked with performing arithmetic on a set of inputs.\")\n",
    "\n",
    "# 定义“助手”节点：\n",
    "# - 输入：MessagesState（包含当前对话消息列表）\n",
    "# - 行为：将系统消息 + 历史消息传入大模型（已绑定工具），得到新的 AI 消息\n",
    "# - 输出：追加一条 AI 消息到消息状态\n",
    "\n",
    "def assistant(state: MessagesState):\n",
    "   return {\"messages\": [llm_with_tools.invoke([sys_msg] + state[\"messages\"]) ]}\n",
    "\n",
    "# 构建图（StateGraph）：声明状态类型为 MessagesState（内置消息归约器，按消息 ID 可覆盖/追加）\n",
    "builder = StateGraph(MessagesState)\n",
    "\n",
    "# 定义节点（工作单元）：\n",
    "# - assistant：由大模型生成回复或工具调用\n",
    "# - tools：当触发工具调用时，由 ToolNode 执行对应的 Python 函数\n",
    "builder.add_node(\"assistant\", assistant)\n",
    "builder.add_node(\"tools\", ToolNode(tools))\n",
    "\n",
    "# 定义边（控制流）：\n",
    "# 1) 从 START 进入 assistant\n",
    "builder.add_edge(START, \"assistant\")\n",
    "# 2) 条件边：若 assistant 最新消息包含工具调用 -> 流转到 tools；否则 -> 流程结束\n",
    "builder.add_conditional_edges(\n",
    "    \"assistant\",\n",
    "    tools_condition,\n",
    ")\n",
    "# 3) 工具执行后回到 assistant，让模型基于工具结果继续对话或结束\n",
    "builder.add_edge(\"tools\", \"assistant\")\n",
    "\n",
    "# 启用内存检查点（MemorySaver）：用于记录每一步状态，以支持“时间旅行”（回放/分叉）\n",
    "memory = MemorySaver()\n",
    "graph = builder.compile(checkpointer=MemorySaver())\n",
    "\n",
    "# 可视化图结构（xray=True 展示节点与条件流转），便于理解整体流程\n",
    "# 展示图结构\n",
    "# 图可视化\n",
    "print(\"图可视化：\")\n",
    "\n",
    "# 方案1：尝试使用 Pyppeteer 本地渲染（推荐）\n",
    "try:\n",
    "    # 可视化：通过 Mermaid 渲染图结构\n",
    "    display(Image(graph.get_graph(xray=True).draw_mermaid_png()))\n",
    "    print(\"✅ 图渲染成功！\")\n",
    "except Exception as e:\n",
    "    print(f\"❌ Pyppeteer 渲染失败: {e}\")\n",
    "    \n",
    "    # 方案2：显示 Mermaid 文本格式\n",
    "    print(\"\\n📝 图结构（Mermaid 文本格式）：\")\n",
    "    print(\"=\" * 50)\n",
    "    mermaid_text = graph.get_graph().draw_mermaid()\n",
    "    print(mermaid_text)\n",
    "    print(\"=\" * 50)\n",
    "    \n",
    "    # 方案3：显示图的节点和边信息\n",
    "    print(\"\\n🔗 图结构信息：\")\n",
    "    print(\"节点:\", list(graph.get_graph().nodes.keys()))\n",
    "    print(\"边:\", list(graph.get_graph().edges))\n",
    "    \n",
    "    # 方案4：提供手动渲染说明\n",
    "    print(\"\\n💡 手动渲染说明：\")\n",
    "    print(\"1. 复制上面的 Mermaid 文本\")\n",
    "    print(\"2. 访问 https://mermaid.live/\")\n",
    "    print(\"3. 粘贴文本到编辑器中查看图形\")\n",
    "    print(\"4. 或者使用支持 Mermaid 的 Markdown 编辑器\")"
   ]
  },
  {
   "cell_type": "markdown",
   "id": "fab18a04-1329-47ac-a25b-4e01bf756e2a",
   "metadata": {
    "id": "fab18a04-1329-47ac-a25b-4e01bf756e2a"
   },
   "source": [
    "像前面一样，我们来运行一次完整流程。"
   ]
  },
  {
   "cell_type": "code",
   "execution_count": 9,
   "id": "05b2ab62-82bc-4356-8d5b-2d4f49069fdd",
   "metadata": {
    "colab": {
     "base_uri": "https://localhost:8080/"
    },
    "id": "05b2ab62-82bc-4356-8d5b-2d4f49069fdd",
    "outputId": "8bf3d986-6e4b-4c86-c807-9a0401a1c2e7"
   },
   "outputs": [
    {
     "name": "stdout",
     "output_type": "stream",
     "text": [
      "================================\u001b[1m Human Message \u001b[0m=================================\n",
      "\n",
      "Multiply 2 and 3\n",
      "==================================\u001b[1m Ai Message \u001b[0m==================================\n",
      "Tool Calls:\n",
      "  multiply (call_W3zlacF4oEyGDkkoiv2QAtpZ)\n",
      " Call ID: call_W3zlacF4oEyGDkkoiv2QAtpZ\n",
      "  Args:\n",
      "    a: 2\n",
      "    b: 3\n",
      "=================================\u001b[1m Tool Message \u001b[0m=================================\n",
      "Name: multiply\n",
      "\n",
      "6\n",
      "==================================\u001b[1m Ai Message \u001b[0m==================================\n",
      "\n",
      "The result of multiplying 2 and 3 is 6.\n"
     ]
    }
   ],
   "source": [
    "# 运行一次：将人类输入注入消息状态，并按节点顺序流式执行\n",
    "# stream_mode=\"values\" 表示每个节点执行后输出完整状态（便于学习/调试）\n",
    "\n",
    "# 输入消息\n",
    "initial_input = {\"messages\": HumanMessage(content=\"Multiply 2 and 3\")}\n",
    "\n",
    "# 线程配置（thread_id 用于标识一次会话轨迹，支持时间旅行）\n",
    "thread = {\"configurable\": {\"thread_id\": \"1\"}}\n",
    "\n",
    "# 执行图：依次运行 assistant ->（若触发工具）tools -> assistant ... 直到结束\n",
    "for event in graph.stream(initial_input, thread, stream_mode=\"values\"):\n",
    "    event['messages'][-1].pretty_print()"
   ]
  },
  {
   "cell_type": "markdown",
   "id": "268cfa43-22d1-4d63-8d81-a3ce00f1f2c8",
   "metadata": {
    "id": "268cfa43-22d1-4d63-8d81-a3ce00f1f2c8"
   },
   "source": [
    "## 浏览历史\n",
    "\n",
    "给定 `thread_id`，我们可以使用 `get_state` 查看图的“当前”状态！"
   ]
  },
  {
   "cell_type": "code",
   "execution_count": 10,
   "id": "161eb053-18f6-4c99-8674-8cbd11cae57e",
   "metadata": {
    "colab": {
     "base_uri": "https://localhost:8080/"
    },
    "id": "161eb053-18f6-4c99-8674-8cbd11cae57e",
    "outputId": "d91f61e7-ada5-42ab-f598-a0ba41daab41"
   },
   "outputs": [
    {
     "data": {
      "text/plain": [
       "StateSnapshot(values={'messages': [HumanMessage(content='Multiply 2 and 3', additional_kwargs={}, response_metadata={}, id='59609b0a-aa2c-4c7c-8ea3-b43b013b23a5'), AIMessage(content='', additional_kwargs={'tool_calls': [{'id': 'call_W3zlacF4oEyGDkkoiv2QAtpZ', 'function': {'arguments': '{\"a\":2,\"b\":3}', 'name': 'multiply', 'parameters': None}, 'type': 'function'}], 'refusal': None}, response_metadata={'token_usage': {'completion_tokens': 18, 'prompt_tokens': 217, 'total_tokens': 235, 'completion_tokens_details': {'accepted_prediction_tokens': 0, 'audio_tokens': 0, 'reasoning_tokens': 0, 'rejected_prediction_tokens': 0}, 'prompt_tokens_details': {'audio_tokens': 0, 'cached_tokens': 0}, 'input_tokens': 0, 'output_tokens': 0, 'input_tokens_details': None}, 'model_name': 'gpt-4o', 'system_fingerprint': 'fp_5d7ee1b844', 'id': 'chatcmpl-CMlHS3SiOGlOJYpj9djJwyTNzkPQf', 'service_tier': None, 'finish_reason': 'tool_calls', 'logprobs': None}, id='run--44baeafe-3c8c-438a-acea-bdbd89e1c9f3-0', tool_calls=[{'name': 'multiply', 'args': {'a': 2, 'b': 3}, 'id': 'call_W3zlacF4oEyGDkkoiv2QAtpZ', 'type': 'tool_call'}], usage_metadata={'input_tokens': 217, 'output_tokens': 18, 'total_tokens': 235, 'input_token_details': {'audio': 0, 'cache_read': 0}, 'output_token_details': {'audio': 0, 'reasoning': 0}}), ToolMessage(content='6', name='multiply', id='f6fa92c1-5026-4941-8980-e4247de22ff7', tool_call_id='call_W3zlacF4oEyGDkkoiv2QAtpZ'), AIMessage(content='The result of multiplying 2 and 3 is 6.', additional_kwargs={'refusal': None}, response_metadata={'token_usage': {'completion_tokens': 15, 'prompt_tokens': 242, 'total_tokens': 257, 'completion_tokens_details': {'accepted_prediction_tokens': 0, 'audio_tokens': 0, 'reasoning_tokens': 0, 'rejected_prediction_tokens': 0}, 'prompt_tokens_details': {'audio_tokens': 0, 'cached_tokens': 0}, 'input_tokens': 0, 'output_tokens': 0, 'input_tokens_details': None}, 'model_name': 'gpt-4o', 'system_fingerprint': 'fp_5d7ee1b844', 'id': 'chatcmpl-CMlHTUthukkiaDX9bPv41PTmCLR6p', 'service_tier': None, 'finish_reason': 'stop', 'logprobs': None}, id='run--b50a342f-210f-4ff6-a37f-de3adc596ff9-0', usage_metadata={'input_tokens': 242, 'output_tokens': 15, 'total_tokens': 257, 'input_token_details': {'audio': 0, 'cache_read': 0}, 'output_token_details': {'audio': 0, 'reasoning': 0}})]}, next=(), config={'configurable': {'thread_id': '1', 'checkpoint_ns': '', 'checkpoint_id': '1f0a0c0b-6005-6686-8003-ba6761e62790'}}, metadata={'source': 'loop', 'step': 3, 'parents': {}}, created_at='2025-10-04T01:23:19.612568+00:00', parent_config={'configurable': {'thread_id': '1', 'checkpoint_ns': '', 'checkpoint_id': '1f0a0c0b-56ce-68c0-8002-ca545aaf1989'}}, tasks=(), interrupts=())"
      ]
     },
     "execution_count": 10,
     "metadata": {},
     "output_type": "execute_result"
    }
   ],
   "source": [
    "# 查看当前线程的最新状态快照（包含 values/next/config/metadata 等）\n",
    "graph.get_state({'configurable': {'thread_id': '1'}})"
   ]
  },
  {
   "cell_type": "markdown",
   "id": "8d00869e-7b41-4d71-ad3c-cacf8f9c029f",
   "metadata": {
    "id": "8d00869e-7b41-4d71-ad3c-cacf8f9c029f"
   },
   "source": [
    "我们也可以浏览Agent的“状态历史”。\n",
    "\n",
    "`get_state_history` 可以让我们获取先前每一步的状态记录。\n"
   ]
  },
  {
   "cell_type": "code",
   "execution_count": 11,
   "id": "3010169c-3bfa-498c-a30c-7ba53744e4d5",
   "metadata": {
    "id": "3010169c-3bfa-498c-a30c-7ba53744e4d5"
   },
   "outputs": [],
   "source": [
    "# 获取线程的“状态历史”（从最近到最早）。用于回放与分叉。\n",
    "all_states = [s for s in graph.get_state_history(thread)]"
   ]
  },
  {
   "cell_type": "code",
   "execution_count": 12,
   "id": "c4612ccf-59fc-4848-8845-0433fee2ca8e",
   "metadata": {
    "colab": {
     "base_uri": "https://localhost:8080/"
    },
    "id": "c4612ccf-59fc-4848-8845-0433fee2ca8e",
    "outputId": "8ad4c9d0-7fb4-41bd-e8f4-aee721dfbcff"
   },
   "outputs": [
    {
     "data": {
      "text/plain": [
       "5"
      ]
     },
     "execution_count": 12,
     "metadata": {},
     "output_type": "execute_result"
    }
   ],
   "source": [
    "len(all_states)"
   ]
  },
  {
   "cell_type": "code",
   "execution_count": 28,
   "id": "c6e7d3ee-ad78-4ae6-8a0e-a7e16ee75d7b",
   "metadata": {},
   "outputs": [
    {
     "data": {
      "text/plain": [
       "[StateSnapshot(values={'messages': [HumanMessage(content='Multiply 5 and 3', additional_kwargs={}, response_metadata={}, id='59609b0a-aa2c-4c7c-8ea3-b43b013b23a5')]}, next=('assistant',), config={'configurable': {'thread_id': '1', 'checkpoint_ns': '', 'checkpoint_id': '1f0a0c0b-6e54-6c1b-8001-3402a5df76f3'}}, metadata={'source': 'update', 'step': 1, 'parents': {}}, created_at='2025-10-04T01:23:21.113077+00:00', parent_config={'configurable': {'thread_id': '1', 'checkpoint_ns': '', 'checkpoint_id': '1f0a0c0b-4a7c-6dcd-8000-992ba4966deb'}}, tasks=(PregelTask(id='45abab41-d611-f33c-213d-b84fb28d4152', name='assistant', path=('__pregel_pull', 'assistant'), error=None, interrupts=(), state=None, result=None),), interrupts=()),\n",
       " StateSnapshot(values={'messages': [HumanMessage(content='Multiply 2 and 3', additional_kwargs={}, response_metadata={}, id='59609b0a-aa2c-4c7c-8ea3-b43b013b23a5'), AIMessage(content='', additional_kwargs={'tool_calls': [{'id': 'call_fQpqIYqauvUSZQEXTpALIPFo', 'function': {'arguments': '{\"a\":2,\"b\":3}', 'name': 'multiply', 'parameters': None}, 'type': 'function'}], 'refusal': None}, response_metadata={'token_usage': {'completion_tokens': 18, 'prompt_tokens': 217, 'total_tokens': 235, 'completion_tokens_details': {'accepted_prediction_tokens': 0, 'audio_tokens': 0, 'reasoning_tokens': 0, 'rejected_prediction_tokens': 0}, 'prompt_tokens_details': {'audio_tokens': 0, 'cached_tokens': 0}, 'input_tokens': 0, 'output_tokens': 0, 'input_tokens_details': None}, 'model_name': 'gpt-4o', 'system_fingerprint': 'fp_5d7ee1b844', 'id': 'chatcmpl-CMlHTXkBNC7buypznjsdFnsCUBVxv', 'service_tier': None, 'finish_reason': 'tool_calls', 'logprobs': None}, id='run--276ffc07-50aa-44ea-8821-1ecddaa25fce-0', tool_calls=[{'name': 'multiply', 'args': {'a': 2, 'b': 3}, 'id': 'call_fQpqIYqauvUSZQEXTpALIPFo', 'type': 'tool_call'}], usage_metadata={'input_tokens': 217, 'output_tokens': 18, 'total_tokens': 235, 'input_token_details': {'audio': 0, 'cache_read': 0}, 'output_token_details': {'audio': 0, 'reasoning': 0}}), ToolMessage(content='6', name='multiply', id='333de2ae-18b6-4e85-a3ec-f5b56f772bb8', tool_call_id='call_fQpqIYqauvUSZQEXTpALIPFo'), AIMessage(content='The result of multiplying 2 and 3 is 6.', additional_kwargs={'refusal': None}, response_metadata={'token_usage': {'completion_tokens': 15, 'prompt_tokens': 242, 'total_tokens': 257, 'completion_tokens_details': {'accepted_prediction_tokens': 0, 'audio_tokens': 0, 'reasoning_tokens': 0, 'rejected_prediction_tokens': 0}, 'prompt_tokens_details': {'audio_tokens': 0, 'cached_tokens': 0}, 'input_tokens': 0, 'output_tokens': 0, 'input_tokens_details': None}, 'model_name': 'gpt-4o', 'system_fingerprint': 'fp_5d7ee1b844', 'id': 'chatcmpl-CMlHUhzpIto5Xfa3TFqjvfqRgBiss', 'service_tier': None, 'finish_reason': 'stop', 'logprobs': None}, id='run--906a8282-96c8-44a6-b3de-c34bcac7190e-0', usage_metadata={'input_tokens': 242, 'output_tokens': 15, 'total_tokens': 257, 'input_token_details': {'audio': 0, 'cache_read': 0}, 'output_token_details': {'audio': 0, 'reasoning': 0}})]}, next=(), config={'configurable': {'thread_id': '1', 'checkpoint_ns': '', 'checkpoint_id': '1f0a0c0b-6e1a-6a6f-8003-4d6ff8d9e366'}}, metadata={'source': 'loop', 'step': 3, 'parents': {}}, created_at='2025-10-04T01:23:21.089276+00:00', parent_config={'configurable': {'thread_id': '1', 'checkpoint_ns': '', 'checkpoint_id': '1f0a0c0b-67c1-607e-8002-0f359d5b9809'}}, tasks=(), interrupts=()),\n",
       " StateSnapshot(values={'messages': [HumanMessage(content='Multiply 2 and 3', additional_kwargs={}, response_metadata={}, id='59609b0a-aa2c-4c7c-8ea3-b43b013b23a5'), AIMessage(content='', additional_kwargs={'tool_calls': [{'id': 'call_fQpqIYqauvUSZQEXTpALIPFo', 'function': {'arguments': '{\"a\":2,\"b\":3}', 'name': 'multiply', 'parameters': None}, 'type': 'function'}], 'refusal': None}, response_metadata={'token_usage': {'completion_tokens': 18, 'prompt_tokens': 217, 'total_tokens': 235, 'completion_tokens_details': {'accepted_prediction_tokens': 0, 'audio_tokens': 0, 'reasoning_tokens': 0, 'rejected_prediction_tokens': 0}, 'prompt_tokens_details': {'audio_tokens': 0, 'cached_tokens': 0}, 'input_tokens': 0, 'output_tokens': 0, 'input_tokens_details': None}, 'model_name': 'gpt-4o', 'system_fingerprint': 'fp_5d7ee1b844', 'id': 'chatcmpl-CMlHTXkBNC7buypznjsdFnsCUBVxv', 'service_tier': None, 'finish_reason': 'tool_calls', 'logprobs': None}, id='run--276ffc07-50aa-44ea-8821-1ecddaa25fce-0', tool_calls=[{'name': 'multiply', 'args': {'a': 2, 'b': 3}, 'id': 'call_fQpqIYqauvUSZQEXTpALIPFo', 'type': 'tool_call'}], usage_metadata={'input_tokens': 217, 'output_tokens': 18, 'total_tokens': 235, 'input_token_details': {'audio': 0, 'cache_read': 0}, 'output_token_details': {'audio': 0, 'reasoning': 0}}), ToolMessage(content='6', name='multiply', id='333de2ae-18b6-4e85-a3ec-f5b56f772bb8', tool_call_id='call_fQpqIYqauvUSZQEXTpALIPFo')]}, next=('assistant',), config={'configurable': {'thread_id': '1', 'checkpoint_ns': '', 'checkpoint_id': '1f0a0c0b-67c1-607e-8002-0f359d5b9809'}}, metadata={'source': 'loop', 'step': 2, 'parents': {}}, created_at='2025-10-04T01:23:20.423426+00:00', parent_config={'configurable': {'thread_id': '1', 'checkpoint_ns': '', 'checkpoint_id': '1f0a0c0b-67bd-6369-8001-8fa23bb2079d'}}, tasks=(PregelTask(id='72394802-15c9-13cd-7d03-0a6af414c738', name='assistant', path=('__pregel_pull', 'assistant'), error=None, interrupts=(), state=None, result={'messages': [AIMessage(content='The result of multiplying 2 and 3 is 6.', additional_kwargs={'refusal': None}, response_metadata={'token_usage': {'completion_tokens': 15, 'prompt_tokens': 242, 'total_tokens': 257, 'completion_tokens_details': {'accepted_prediction_tokens': 0, 'audio_tokens': 0, 'reasoning_tokens': 0, 'rejected_prediction_tokens': 0}, 'prompt_tokens_details': {'audio_tokens': 0, 'cached_tokens': 0}, 'input_tokens': 0, 'output_tokens': 0, 'input_tokens_details': None}, 'model_name': 'gpt-4o', 'system_fingerprint': 'fp_5d7ee1b844', 'id': 'chatcmpl-CMlHUhzpIto5Xfa3TFqjvfqRgBiss', 'service_tier': None, 'finish_reason': 'stop', 'logprobs': None}, id='run--906a8282-96c8-44a6-b3de-c34bcac7190e-0', usage_metadata={'input_tokens': 242, 'output_tokens': 15, 'total_tokens': 257, 'input_token_details': {'audio': 0, 'cache_read': 0}, 'output_token_details': {'audio': 0, 'reasoning': 0}})]}),), interrupts=()),\n",
       " StateSnapshot(values={'messages': [HumanMessage(content='Multiply 2 and 3', additional_kwargs={}, response_metadata={}, id='59609b0a-aa2c-4c7c-8ea3-b43b013b23a5'), AIMessage(content='', additional_kwargs={'tool_calls': [{'id': 'call_fQpqIYqauvUSZQEXTpALIPFo', 'function': {'arguments': '{\"a\":2,\"b\":3}', 'name': 'multiply', 'parameters': None}, 'type': 'function'}], 'refusal': None}, response_metadata={'token_usage': {'completion_tokens': 18, 'prompt_tokens': 217, 'total_tokens': 235, 'completion_tokens_details': {'accepted_prediction_tokens': 0, 'audio_tokens': 0, 'reasoning_tokens': 0, 'rejected_prediction_tokens': 0}, 'prompt_tokens_details': {'audio_tokens': 0, 'cached_tokens': 0}, 'input_tokens': 0, 'output_tokens': 0, 'input_tokens_details': None}, 'model_name': 'gpt-4o', 'system_fingerprint': 'fp_5d7ee1b844', 'id': 'chatcmpl-CMlHTXkBNC7buypznjsdFnsCUBVxv', 'service_tier': None, 'finish_reason': 'tool_calls', 'logprobs': None}, id='run--276ffc07-50aa-44ea-8821-1ecddaa25fce-0', tool_calls=[{'name': 'multiply', 'args': {'a': 2, 'b': 3}, 'id': 'call_fQpqIYqauvUSZQEXTpALIPFo', 'type': 'tool_call'}], usage_metadata={'input_tokens': 217, 'output_tokens': 18, 'total_tokens': 235, 'input_token_details': {'audio': 0, 'cache_read': 0}, 'output_token_details': {'audio': 0, 'reasoning': 0}})]}, next=('tools',), config={'configurable': {'thread_id': '1', 'checkpoint_ns': '', 'checkpoint_id': '1f0a0c0b-67bd-6369-8001-8fa23bb2079d'}}, metadata={'source': 'loop', 'step': 1, 'parents': {}}, created_at='2025-10-04T01:23:20.421858+00:00', parent_config={'configurable': {'thread_id': '1', 'checkpoint_ns': '', 'checkpoint_id': '1f0a0c0b-4a7c-6dcd-8000-992ba4966deb'}}, tasks=(PregelTask(id='7eb6c701-1345-9977-aea5-641f58b6fa2b', name='tools', path=('__pregel_pull', 'tools'), error=None, interrupts=(), state=None, result={'messages': [ToolMessage(content='6', name='multiply', id='333de2ae-18b6-4e85-a3ec-f5b56f772bb8', tool_call_id='call_fQpqIYqauvUSZQEXTpALIPFo')]}),), interrupts=()),\n",
       " StateSnapshot(values={'messages': [HumanMessage(content='Multiply 2 and 3', additional_kwargs={}, response_metadata={}, id='59609b0a-aa2c-4c7c-8ea3-b43b013b23a5'), AIMessage(content='', additional_kwargs={'tool_calls': [{'id': 'call_W3zlacF4oEyGDkkoiv2QAtpZ', 'function': {'arguments': '{\"a\":2,\"b\":3}', 'name': 'multiply', 'parameters': None}, 'type': 'function'}], 'refusal': None}, response_metadata={'token_usage': {'completion_tokens': 18, 'prompt_tokens': 217, 'total_tokens': 235, 'completion_tokens_details': {'accepted_prediction_tokens': 0, 'audio_tokens': 0, 'reasoning_tokens': 0, 'rejected_prediction_tokens': 0}, 'prompt_tokens_details': {'audio_tokens': 0, 'cached_tokens': 0}, 'input_tokens': 0, 'output_tokens': 0, 'input_tokens_details': None}, 'model_name': 'gpt-4o', 'system_fingerprint': 'fp_5d7ee1b844', 'id': 'chatcmpl-CMlHS3SiOGlOJYpj9djJwyTNzkPQf', 'service_tier': None, 'finish_reason': 'tool_calls', 'logprobs': None}, id='run--44baeafe-3c8c-438a-acea-bdbd89e1c9f3-0', tool_calls=[{'name': 'multiply', 'args': {'a': 2, 'b': 3}, 'id': 'call_W3zlacF4oEyGDkkoiv2QAtpZ', 'type': 'tool_call'}], usage_metadata={'input_tokens': 217, 'output_tokens': 18, 'total_tokens': 235, 'input_token_details': {'audio': 0, 'cache_read': 0}, 'output_token_details': {'audio': 0, 'reasoning': 0}}), ToolMessage(content='6', name='multiply', id='f6fa92c1-5026-4941-8980-e4247de22ff7', tool_call_id='call_W3zlacF4oEyGDkkoiv2QAtpZ'), AIMessage(content='The result of multiplying 2 and 3 is 6.', additional_kwargs={'refusal': None}, response_metadata={'token_usage': {'completion_tokens': 15, 'prompt_tokens': 242, 'total_tokens': 257, 'completion_tokens_details': {'accepted_prediction_tokens': 0, 'audio_tokens': 0, 'reasoning_tokens': 0, 'rejected_prediction_tokens': 0}, 'prompt_tokens_details': {'audio_tokens': 0, 'cached_tokens': 0}, 'input_tokens': 0, 'output_tokens': 0, 'input_tokens_details': None}, 'model_name': 'gpt-4o', 'system_fingerprint': 'fp_5d7ee1b844', 'id': 'chatcmpl-CMlHTUthukkiaDX9bPv41PTmCLR6p', 'service_tier': None, 'finish_reason': 'stop', 'logprobs': None}, id='run--b50a342f-210f-4ff6-a37f-de3adc596ff9-0', usage_metadata={'input_tokens': 242, 'output_tokens': 15, 'total_tokens': 257, 'input_token_details': {'audio': 0, 'cache_read': 0}, 'output_token_details': {'audio': 0, 'reasoning': 0}})]}, next=(), config={'configurable': {'thread_id': '1', 'checkpoint_ns': '', 'checkpoint_id': '1f0a0c0b-6005-6686-8003-ba6761e62790'}}, metadata={'source': 'loop', 'step': 3, 'parents': {}}, created_at='2025-10-04T01:23:19.612568+00:00', parent_config={'configurable': {'thread_id': '1', 'checkpoint_ns': '', 'checkpoint_id': '1f0a0c0b-56ce-68c0-8002-ca545aaf1989'}}, tasks=(), interrupts=()),\n",
       " StateSnapshot(values={'messages': [HumanMessage(content='Multiply 2 and 3', additional_kwargs={}, response_metadata={}, id='59609b0a-aa2c-4c7c-8ea3-b43b013b23a5'), AIMessage(content='', additional_kwargs={'tool_calls': [{'id': 'call_W3zlacF4oEyGDkkoiv2QAtpZ', 'function': {'arguments': '{\"a\":2,\"b\":3}', 'name': 'multiply', 'parameters': None}, 'type': 'function'}], 'refusal': None}, response_metadata={'token_usage': {'completion_tokens': 18, 'prompt_tokens': 217, 'total_tokens': 235, 'completion_tokens_details': {'accepted_prediction_tokens': 0, 'audio_tokens': 0, 'reasoning_tokens': 0, 'rejected_prediction_tokens': 0}, 'prompt_tokens_details': {'audio_tokens': 0, 'cached_tokens': 0}, 'input_tokens': 0, 'output_tokens': 0, 'input_tokens_details': None}, 'model_name': 'gpt-4o', 'system_fingerprint': 'fp_5d7ee1b844', 'id': 'chatcmpl-CMlHS3SiOGlOJYpj9djJwyTNzkPQf', 'service_tier': None, 'finish_reason': 'tool_calls', 'logprobs': None}, id='run--44baeafe-3c8c-438a-acea-bdbd89e1c9f3-0', tool_calls=[{'name': 'multiply', 'args': {'a': 2, 'b': 3}, 'id': 'call_W3zlacF4oEyGDkkoiv2QAtpZ', 'type': 'tool_call'}], usage_metadata={'input_tokens': 217, 'output_tokens': 18, 'total_tokens': 235, 'input_token_details': {'audio': 0, 'cache_read': 0}, 'output_token_details': {'audio': 0, 'reasoning': 0}}), ToolMessage(content='6', name='multiply', id='f6fa92c1-5026-4941-8980-e4247de22ff7', tool_call_id='call_W3zlacF4oEyGDkkoiv2QAtpZ')]}, next=('assistant',), config={'configurable': {'thread_id': '1', 'checkpoint_ns': '', 'checkpoint_id': '1f0a0c0b-56ce-68c0-8002-ca545aaf1989'}}, metadata={'source': 'loop', 'step': 2, 'parents': {}}, created_at='2025-10-04T01:23:18.646382+00:00', parent_config={'configurable': {'thread_id': '1', 'checkpoint_ns': '', 'checkpoint_id': '1f0a0c0b-56c9-6e46-8001-5a75c2456a79'}}, tasks=(PregelTask(id='f2ae3ea5-e80f-c361-c2d7-891d44ea9a18', name='assistant', path=('__pregel_pull', 'assistant'), error=None, interrupts=(), state=None, result={'messages': [AIMessage(content='The result of multiplying 2 and 3 is 6.', additional_kwargs={'refusal': None}, response_metadata={'token_usage': {'completion_tokens': 15, 'prompt_tokens': 242, 'total_tokens': 257, 'completion_tokens_details': {'accepted_prediction_tokens': 0, 'audio_tokens': 0, 'reasoning_tokens': 0, 'rejected_prediction_tokens': 0}, 'prompt_tokens_details': {'audio_tokens': 0, 'cached_tokens': 0}, 'input_tokens': 0, 'output_tokens': 0, 'input_tokens_details': None}, 'model_name': 'gpt-4o', 'system_fingerprint': 'fp_5d7ee1b844', 'id': 'chatcmpl-CMlHTUthukkiaDX9bPv41PTmCLR6p', 'service_tier': None, 'finish_reason': 'stop', 'logprobs': None}, id='run--b50a342f-210f-4ff6-a37f-de3adc596ff9-0', usage_metadata={'input_tokens': 242, 'output_tokens': 15, 'total_tokens': 257, 'input_token_details': {'audio': 0, 'cache_read': 0}, 'output_token_details': {'audio': 0, 'reasoning': 0}})]}),), interrupts=()),\n",
       " StateSnapshot(values={'messages': [HumanMessage(content='Multiply 2 and 3', additional_kwargs={}, response_metadata={}, id='59609b0a-aa2c-4c7c-8ea3-b43b013b23a5'), AIMessage(content='', additional_kwargs={'tool_calls': [{'id': 'call_W3zlacF4oEyGDkkoiv2QAtpZ', 'function': {'arguments': '{\"a\":2,\"b\":3}', 'name': 'multiply', 'parameters': None}, 'type': 'function'}], 'refusal': None}, response_metadata={'token_usage': {'completion_tokens': 18, 'prompt_tokens': 217, 'total_tokens': 235, 'completion_tokens_details': {'accepted_prediction_tokens': 0, 'audio_tokens': 0, 'reasoning_tokens': 0, 'rejected_prediction_tokens': 0}, 'prompt_tokens_details': {'audio_tokens': 0, 'cached_tokens': 0}, 'input_tokens': 0, 'output_tokens': 0, 'input_tokens_details': None}, 'model_name': 'gpt-4o', 'system_fingerprint': 'fp_5d7ee1b844', 'id': 'chatcmpl-CMlHS3SiOGlOJYpj9djJwyTNzkPQf', 'service_tier': None, 'finish_reason': 'tool_calls', 'logprobs': None}, id='run--44baeafe-3c8c-438a-acea-bdbd89e1c9f3-0', tool_calls=[{'name': 'multiply', 'args': {'a': 2, 'b': 3}, 'id': 'call_W3zlacF4oEyGDkkoiv2QAtpZ', 'type': 'tool_call'}], usage_metadata={'input_tokens': 217, 'output_tokens': 18, 'total_tokens': 235, 'input_token_details': {'audio': 0, 'cache_read': 0}, 'output_token_details': {'audio': 0, 'reasoning': 0}})]}, next=('tools',), config={'configurable': {'thread_id': '1', 'checkpoint_ns': '', 'checkpoint_id': '1f0a0c0b-56c9-6e46-8001-5a75c2456a79'}}, metadata={'source': 'loop', 'step': 1, 'parents': {}}, created_at='2025-10-04T01:23:18.644472+00:00', parent_config={'configurable': {'thread_id': '1', 'checkpoint_ns': '', 'checkpoint_id': '1f0a0c0b-4a7c-6dcd-8000-992ba4966deb'}}, tasks=(PregelTask(id='d5f7963c-0cfc-5e58-d68c-2e2ea36883f3', name='tools', path=('__pregel_pull', 'tools'), error=None, interrupts=(), state=None, result={'messages': [ToolMessage(content='6', name='multiply', id='f6fa92c1-5026-4941-8980-e4247de22ff7', tool_call_id='call_W3zlacF4oEyGDkkoiv2QAtpZ')]}),), interrupts=()),\n",
       " StateSnapshot(values={'messages': [HumanMessage(content='Multiply 2 and 3', additional_kwargs={}, response_metadata={}, id='59609b0a-aa2c-4c7c-8ea3-b43b013b23a5')]}, next=('assistant',), config={'configurable': {'thread_id': '1', 'checkpoint_ns': '', 'checkpoint_id': '1f0a0c0b-4a7c-6dcd-8000-992ba4966deb'}}, metadata={'source': 'loop', 'step': 0, 'parents': {}}, created_at='2025-10-04T01:23:17.354635+00:00', parent_config={'configurable': {'thread_id': '1', 'checkpoint_ns': '', 'checkpoint_id': '1f0a0c0b-4a7b-60ce-bfff-a754d992bfd1'}}, tasks=(PregelTask(id='b0016181-18e9-5106-fd2b-2fb0aa61ba3f', name='assistant', path=('__pregel_pull', 'assistant'), error=None, interrupts=(), state=None, result={'messages': [AIMessage(content='', additional_kwargs={'tool_calls': [{'id': 'call_W3zlacF4oEyGDkkoiv2QAtpZ', 'function': {'arguments': '{\"a\":2,\"b\":3}', 'name': 'multiply', 'parameters': None}, 'type': 'function'}], 'refusal': None}, response_metadata={'token_usage': {'completion_tokens': 18, 'prompt_tokens': 217, 'total_tokens': 235, 'completion_tokens_details': {'accepted_prediction_tokens': 0, 'audio_tokens': 0, 'reasoning_tokens': 0, 'rejected_prediction_tokens': 0}, 'prompt_tokens_details': {'audio_tokens': 0, 'cached_tokens': 0}, 'input_tokens': 0, 'output_tokens': 0, 'input_tokens_details': None}, 'model_name': 'gpt-4o', 'system_fingerprint': 'fp_5d7ee1b844', 'id': 'chatcmpl-CMlHS3SiOGlOJYpj9djJwyTNzkPQf', 'service_tier': None, 'finish_reason': 'tool_calls', 'logprobs': None}, id='run--44baeafe-3c8c-438a-acea-bdbd89e1c9f3-0', tool_calls=[{'name': 'multiply', 'args': {'a': 2, 'b': 3}, 'id': 'call_W3zlacF4oEyGDkkoiv2QAtpZ', 'type': 'tool_call'}], usage_metadata={'input_tokens': 217, 'output_tokens': 18, 'total_tokens': 235, 'input_token_details': {'audio': 0, 'cache_read': 0}, 'output_token_details': {'audio': 0, 'reasoning': 0}})]}),), interrupts=()),\n",
       " StateSnapshot(values={'messages': []}, next=('__start__',), config={'configurable': {'thread_id': '1', 'checkpoint_ns': '', 'checkpoint_id': '1f0a0c0b-4a7b-60ce-bfff-a754d992bfd1'}}, metadata={'source': 'input', 'step': -1, 'parents': {}}, created_at='2025-10-04T01:23:17.353894+00:00', parent_config=None, tasks=(PregelTask(id='6418482e-a1e1-ec1d-8468-c09b1785ccf7', name='__start__', path=('__pregel_pull', '__start__'), error=None, interrupts=(), state=None, result={'messages': HumanMessage(content='Multiply 2 and 3', additional_kwargs={}, response_metadata={}, id='59609b0a-aa2c-4c7c-8ea3-b43b013b23a5')}),), interrupts=())]"
      ]
     },
     "execution_count": 28,
     "metadata": {},
     "output_type": "execute_result"
    }
   ],
   "source": [
    "all_states"
   ]
  },
  {
   "cell_type": "markdown",
   "id": "af30f269-1152-4fa1-a7c6-2947acad9a27",
   "metadata": {
    "id": "af30f269-1152-4fa1-a7c6-2947acad9a27"
   },
   "source": [
    "`all_states` 是一个 **Python 列表**，它包含了一系列 **`StateSnapshot`** 对象。这通常是 **LangChain/LangGraph** 框架中 **检查点 (Checkpointer)** 的输出，用于记录工作流中每一步的状态历史。\n",
    "\n",
    "为了清晰地展示这些复杂对象中的关键信息，对列表中的每一个 `StateSnapshot` 进行格式化，突出显示 **步骤 (step)**、**消息 (`messages`)** 和 **下一步 (`next`)**。\n",
    "\n",
    "-----\n",
    "\n",
    "#### 格式化后的 `all_states` 状态历史\n",
    "\n",
    "该列表按时间**倒序**排列（最新的快照在最前面，`step` 值最大，`created_at` 最晚）。\n",
    "\n",
    "| 步骤 (step) | 创建时间 (created\\_at) | 流程状态 (`next`) | 关键 `messages` (对话内容) |\n",
    "| :---: | :--- | :--- | :--- |\n",
    "| **1** | `2025-10-04T01:23:21.113077+00:00` | `('assistant',)` | **Human:** 'Multiply 5 and 3' |\n",
    "| **3** | `2025-10-04T01:23:21.089276+00:00` | `()` (End) | **Human:** 'Multiply 2 and 3' <br>**AI (Tool Call):** multiply(2, 3) <br>**Tool Output:** '6' <br>**AI (Final):** 'The result of multiplying 2 and 3 is 6.' |\n",
    "| **2** | `2025-10-04T01:23:20.423426+00:00` | `('assistant',)` | **Human:** 'Multiply 2 and 3' <br>**AI (Tool Call):** multiply(2, 3) <br>**Tool Output:** '6' |\n",
    "| **1** | `2025-10-04T01:23:20.421858+00:00` | `('tools',)` | **Human:** 'Multiply 2 and 3' <br>**AI (Tool Call):** multiply(2, 3) |\n",
    "| **3** | `2025-10-04T01:23:19.612568+00:00` | `()` (End) | **Human:** 'Multiply 2 and 3' <br>**AI (Tool Call):** multiply(2, 3) <br>**Tool Output:** '6' <br>**AI (Final):** 'The result of multiplying 2 and 3 is 6.' |\n",
    "| **2** | `2025-10-04T01:23:18.646382+00:00` | `('assistant',)` | **Human:** 'Multiply 2 and 3' <br>**AI (Tool Call):** multiply(2, 3) <br>**Tool Output:** '6' |\n",
    "| **1** | `2025-10-04T01:23:18.644472+00:00` | `('tools',)` | **Human:** 'Multiply 2 and 3' <br>**AI (Tool Call):** multiply(2, 3) |\n",
    "| **0** | `2025-10-04T01:23:17.354635+00:00` | `('assistant',)` | **Human:** 'Multiply 2 and 3' |\n",
    "| **-1** | `2025-10-04T01:23:17.353894+00:00` | `('__start__',)` | **messages:** `[]` (初始空状态) |\n",
    "\n",
    "-----\n",
    "\n",
    "#### 观察到的工作流模式\n",
    "\n",
    "从状态快照中可以看出，LangGraph 在处理一个带工具调用的请求时，通常遵循以下循环模式：\n",
    "\n",
    "1.  **Step 0 (`__start__`)**: 接收到 **`HumanMessage`** (例如: 'Multiply 2 and 3')。\n",
    "2.  **Step 1 (`assistant` -\\> `tools`)**: **AI** 收到用户消息后，决定调用一个工具（如 `multiply(2, 3)`），并返回一个包含 `tool_calls` 的 **`AIMessage`**。\n",
    "3.  **Step 2 (`tools` -\\> `assistant`)**: **Tools** 节点执行工具，返回包含结果 (如 **`6`**) 的 **`ToolMessage`**。\n",
    "4.  **Step 3 (`assistant` -\\> `()`)**: **AI** 收到工具结果，生成最终的自然语言回复 (如 'The result... is 6.')，并以空 `next` 元组表示 **结束** 流程。\n",
    "\n",
    "**注意**：\n",
    "\n",
    "  * **`step 1` 和 `step 3` 的重复出现**：在列表开头，有两个不同的操作流程被记录。\n",
    "      * 最新的一个（`step 1`, `next=('assistant',)`）可能代表一个**新的、未完成**的请求：**'Multiply 5 and 3'**。\n",
    "      * 其他完整的流程都是针对 **'Multiply 2 and 3'** 的，其中 `step 3` 是最终完成状态。\n",
    "  * **重复的流程**：针对 'Multiply 2 and 3' 有多组完整的 `step 0, 1, 2, 3` 流程，这可能是在演示或测试环境中多次运行相同输入的结果。"
   ]
  },
  {
   "cell_type": "markdown",
   "id": "78f6ff41-1683-4892-828c-47000c28144e",
   "metadata": {
    "id": "af30f269-1152-4fa1-a7c6-2947acad9a27"
   },
   "source": [
    "列表的第一个元素就是当前状态，与 `get_state` 的结果一致。"
   ]
  },
  {
   "cell_type": "code",
   "execution_count": 13,
   "id": "4e60b292-8efc-4cc3-b836-51f060fa608b",
   "metadata": {
    "colab": {
     "base_uri": "https://localhost:8080/"
    },
    "id": "4e60b292-8efc-4cc3-b836-51f060fa608b",
    "outputId": "23d6a445-78e9-4556-e076-2a75244eefc5"
   },
   "outputs": [
    {
     "data": {
      "text/plain": [
       "StateSnapshot(values={'messages': [HumanMessage(content='Multiply 2 and 3', additional_kwargs={}, response_metadata={}, id='59609b0a-aa2c-4c7c-8ea3-b43b013b23a5')]}, next=('assistant',), config={'configurable': {'thread_id': '1', 'checkpoint_ns': '', 'checkpoint_id': '1f0a0c0b-4a7c-6dcd-8000-992ba4966deb'}}, metadata={'source': 'loop', 'step': 0, 'parents': {}}, created_at='2025-10-04T01:23:17.354635+00:00', parent_config={'configurable': {'thread_id': '1', 'checkpoint_ns': '', 'checkpoint_id': '1f0a0c0b-4a7b-60ce-bfff-a754d992bfd1'}}, tasks=(PregelTask(id='b0016181-18e9-5106-fd2b-2fb0aa61ba3f', name='assistant', path=('__pregel_pull', 'assistant'), error=None, interrupts=(), state=None, result={'messages': [AIMessage(content='', additional_kwargs={'tool_calls': [{'id': 'call_W3zlacF4oEyGDkkoiv2QAtpZ', 'function': {'arguments': '{\"a\":2,\"b\":3}', 'name': 'multiply', 'parameters': None}, 'type': 'function'}], 'refusal': None}, response_metadata={'token_usage': {'completion_tokens': 18, 'prompt_tokens': 217, 'total_tokens': 235, 'completion_tokens_details': {'accepted_prediction_tokens': 0, 'audio_tokens': 0, 'reasoning_tokens': 0, 'rejected_prediction_tokens': 0}, 'prompt_tokens_details': {'audio_tokens': 0, 'cached_tokens': 0}, 'input_tokens': 0, 'output_tokens': 0, 'input_tokens_details': None}, 'model_name': 'gpt-4o', 'system_fingerprint': 'fp_5d7ee1b844', 'id': 'chatcmpl-CMlHS3SiOGlOJYpj9djJwyTNzkPQf', 'service_tier': None, 'finish_reason': 'tool_calls', 'logprobs': None}, id='run--44baeafe-3c8c-438a-acea-bdbd89e1c9f3-0', tool_calls=[{'name': 'multiply', 'args': {'a': 2, 'b': 3}, 'id': 'call_W3zlacF4oEyGDkkoiv2QAtpZ', 'type': 'tool_call'}], usage_metadata={'input_tokens': 217, 'output_tokens': 18, 'total_tokens': 235, 'input_token_details': {'audio': 0, 'cache_read': 0}, 'output_token_details': {'audio': 0, 'reasoning': 0}})]}),), interrupts=())"
      ]
     },
     "execution_count": 13,
     "metadata": {},
     "output_type": "execute_result"
    }
   ],
   "source": [
    "all_states[-2]"
   ]
  },
  {
   "cell_type": "markdown",
   "id": "4148a710-ceed-413b-b93c-070c6c792fa2",
   "metadata": {
    "id": "4148a710-ceed-413b-b93c-070c6c792fa2"
   },
   "source": [
    "上面的流程也可以如下图所示可视化：\n",
    "\n",
    "![fig1.jpg](https://cdn.prod.website-files.com/65b8cd72835ceeacd4449a53/66dbb038211b544898570be3_time-travel1.png)"
   ]
  },
  {
   "cell_type": "markdown",
   "id": "a5ad554a-faf3-489f-a9a9-774f4ec2a526",
   "metadata": {
    "id": "a5ad554a-faf3-489f-a9a9-774f4ec2a526"
   },
   "source": [
    "## 回放（Replaying）\n",
    "\n",
    "我们可以从任意一个历史步骤重新运行Agent。\n",
    "\n",
    "![fig2.jpg](https://cdn.prod.website-files.com/65b8cd72835ceeacd4449a53/66dbb038a0bd34b541c78fb8_time-travel2.png)"
   ]
  },
  {
   "cell_type": "markdown",
   "id": "e135d2db-d613-42da-877e-d429f21aaefd",
   "metadata": {
    "id": "e135d2db-d613-42da-877e-d429f21aaefd"
   },
   "source": [
    "我们回到“接收人类输入”的那一步来观察与回放。"
   ]
  },
  {
   "cell_type": "code",
   "execution_count": 14,
   "id": "3688e511-a440-4330-a450-e5ed889c3b30",
   "metadata": {
    "id": "3688e511-a440-4330-a450-e5ed889c3b30"
   },
   "outputs": [],
   "source": [
    "to_replay = all_states[-2]"
   ]
  },
  {
   "cell_type": "code",
   "execution_count": 15,
   "id": "72adf296-d519-4bdc-af03-3b29799e9534",
   "metadata": {
    "colab": {
     "base_uri": "https://localhost:8080/"
    },
    "id": "72adf296-d519-4bdc-af03-3b29799e9534",
    "outputId": "bec50e2a-2569-42f7-8e45-de6a8ab63cbc"
   },
   "outputs": [
    {
     "data": {
      "text/plain": [
       "StateSnapshot(values={'messages': [HumanMessage(content='Multiply 2 and 3', additional_kwargs={}, response_metadata={}, id='59609b0a-aa2c-4c7c-8ea3-b43b013b23a5')]}, next=('assistant',), config={'configurable': {'thread_id': '1', 'checkpoint_ns': '', 'checkpoint_id': '1f0a0c0b-4a7c-6dcd-8000-992ba4966deb'}}, metadata={'source': 'loop', 'step': 0, 'parents': {}}, created_at='2025-10-04T01:23:17.354635+00:00', parent_config={'configurable': {'thread_id': '1', 'checkpoint_ns': '', 'checkpoint_id': '1f0a0c0b-4a7b-60ce-bfff-a754d992bfd1'}}, tasks=(PregelTask(id='b0016181-18e9-5106-fd2b-2fb0aa61ba3f', name='assistant', path=('__pregel_pull', 'assistant'), error=None, interrupts=(), state=None, result={'messages': [AIMessage(content='', additional_kwargs={'tool_calls': [{'id': 'call_W3zlacF4oEyGDkkoiv2QAtpZ', 'function': {'arguments': '{\"a\":2,\"b\":3}', 'name': 'multiply', 'parameters': None}, 'type': 'function'}], 'refusal': None}, response_metadata={'token_usage': {'completion_tokens': 18, 'prompt_tokens': 217, 'total_tokens': 235, 'completion_tokens_details': {'accepted_prediction_tokens': 0, 'audio_tokens': 0, 'reasoning_tokens': 0, 'rejected_prediction_tokens': 0}, 'prompt_tokens_details': {'audio_tokens': 0, 'cached_tokens': 0}, 'input_tokens': 0, 'output_tokens': 0, 'input_tokens_details': None}, 'model_name': 'gpt-4o', 'system_fingerprint': 'fp_5d7ee1b844', 'id': 'chatcmpl-CMlHS3SiOGlOJYpj9djJwyTNzkPQf', 'service_tier': None, 'finish_reason': 'tool_calls', 'logprobs': None}, id='run--44baeafe-3c8c-438a-acea-bdbd89e1c9f3-0', tool_calls=[{'name': 'multiply', 'args': {'a': 2, 'b': 3}, 'id': 'call_W3zlacF4oEyGDkkoiv2QAtpZ', 'type': 'tool_call'}], usage_metadata={'input_tokens': 217, 'output_tokens': 18, 'total_tokens': 235, 'input_token_details': {'audio': 0, 'cache_read': 0}, 'output_token_details': {'audio': 0, 'reasoning': 0}})]}),), interrupts=())"
      ]
     },
     "execution_count": 15,
     "metadata": {},
     "output_type": "execute_result"
    }
   ],
   "source": [
    "to_replay"
   ]
  },
  {
   "cell_type": "markdown",
   "id": "571e7894-6546-48ff-9c25-fa6d120391b3",
   "metadata": {
    "id": "571e7894-6546-48ff-9c25-fa6d120391b3"
   },
   "source": [
    "查看该检查点的状态。"
   ]
  },
  {
   "cell_type": "code",
   "execution_count": 16,
   "id": "6fe69428-f364-4330-bf5d-aa966c7f3b07",
   "metadata": {
    "colab": {
     "base_uri": "https://localhost:8080/"
    },
    "id": "6fe69428-f364-4330-bf5d-aa966c7f3b07",
    "outputId": "42f38867-05e3-493b-d40f-29b6f3945342"
   },
   "outputs": [
    {
     "data": {
      "text/plain": [
       "{'messages': [HumanMessage(content='Multiply 2 and 3', additional_kwargs={}, response_metadata={}, id='59609b0a-aa2c-4c7c-8ea3-b43b013b23a5')]}"
      ]
     },
     "execution_count": 16,
     "metadata": {},
     "output_type": "execute_result"
    }
   ],
   "source": [
    "to_replay.values"
   ]
  },
  {
   "cell_type": "markdown",
   "id": "ff2df545-cc80-4962-a34a-faac7af8eb3d",
   "metadata": {
    "id": "ff2df545-cc80-4962-a34a-faac7af8eb3d"
   },
   "source": [
    "我们还能看到接下来要调用的节点（`next`）。"
   ]
  },
  {
   "cell_type": "code",
   "execution_count": 17,
   "id": "d2f333f9-9b2b-46f6-ac3a-525f86b20f1b",
   "metadata": {
    "colab": {
     "base_uri": "https://localhost:8080/"
    },
    "id": "d2f333f9-9b2b-46f6-ac3a-525f86b20f1b",
    "outputId": "a3874d6f-d391-4dd7-b41b-5411a34f9ad2"
   },
   "outputs": [
    {
     "data": {
      "text/plain": [
       "('assistant',)"
      ]
     },
     "execution_count": 17,
     "metadata": {},
     "output_type": "execute_result"
    }
   ],
   "source": [
    "to_replay.next"
   ]
  },
  {
   "cell_type": "markdown",
   "id": "b8938c18-5c22-47df-b71e-40afa73c87af",
   "metadata": {
    "id": "b8938c18-5c22-47df-b71e-40afa73c87af"
   },
   "source": [
    "我们也能拿到该检查点的 `config`，其中包含 `checkpoint_id` 与 `thread_id`。"
   ]
  },
  {
   "cell_type": "code",
   "execution_count": 18,
   "id": "b1298786-afa5-4277-927e-708a8629231b",
   "metadata": {
    "colab": {
     "base_uri": "https://localhost:8080/"
    },
    "id": "b1298786-afa5-4277-927e-708a8629231b",
    "outputId": "c6a9235a-d8af-4c09-937a-37e528ae12a4"
   },
   "outputs": [
    {
     "data": {
      "text/plain": [
       "{'configurable': {'thread_id': '1',\n",
       "  'checkpoint_ns': '',\n",
       "  'checkpoint_id': '1f0a0c0b-4a7c-6dcd-8000-992ba4966deb'}}"
      ]
     },
     "execution_count": 18,
     "metadata": {},
     "output_type": "execute_result"
    }
   ],
   "source": [
    "to_replay.config"
   ]
  },
  {
   "cell_type": "markdown",
   "id": "1d93b5eb-f541-4f82-93b1-48f54bf5cf83",
   "metadata": {
    "id": "1d93b5eb-f541-4f82-93b1-48f54bf5cf83"
   },
   "source": [
    "要从这里回放，只需把该 `config` 传回给Agent即可！\n",
    "\n",
    "图会识别此检查点之前已执行过，因此会从该检查点开始“重放”其后的节点。"
   ]
  },
  {
   "cell_type": "code",
   "execution_count": 19,
   "id": "531b4cd1-54f6-44aa-9ffe-cf5403dad65d",
   "metadata": {
    "colab": {
     "base_uri": "https://localhost:8080/"
    },
    "id": "531b4cd1-54f6-44aa-9ffe-cf5403dad65d",
    "outputId": "6f92525c-79cb-48bd-a965-3b7e9996724f"
   },
   "outputs": [
    {
     "name": "stdout",
     "output_type": "stream",
     "text": [
      "================================\u001b[1m Human Message \u001b[0m=================================\n",
      "\n",
      "Multiply 2 and 3\n",
      "==================================\u001b[1m Ai Message \u001b[0m==================================\n",
      "Tool Calls:\n",
      "  multiply (call_fQpqIYqauvUSZQEXTpALIPFo)\n",
      " Call ID: call_fQpqIYqauvUSZQEXTpALIPFo\n",
      "  Args:\n",
      "    a: 2\n",
      "    b: 3\n",
      "=================================\u001b[1m Tool Message \u001b[0m=================================\n",
      "Name: multiply\n",
      "\n",
      "6\n",
      "==================================\u001b[1m Ai Message \u001b[0m==================================\n",
      "\n",
      "The result of multiplying 2 and 3 is 6.\n"
     ]
    }
   ],
   "source": [
    "for event in graph.stream(None, to_replay.config, stream_mode=\"values\"):\n",
    "    event['messages'][-1].pretty_print()"
   ]
  },
  {
   "cell_type": "markdown",
   "id": "7d7a914e-63e6-4424-970f-15059ce9b4c3",
   "metadata": {
    "id": "7d7a914e-63e6-4424-970f-15059ce9b4c3"
   },
   "source": [
    "现在，我们可以查看回放后当前线程的最新状态。"
   ]
  },
  {
   "cell_type": "markdown",
   "id": "5a5a1f03-19f2-4d22-ba54-1c065ff08e85",
   "metadata": {
    "id": "5a5a1f03-19f2-4d22-ba54-1c065ff08e85"
   },
   "source": [
    "## 分叉（Forking）\n",
    "\n",
    "如果我们想从同一个历史步骤“重新开始”，但换一个不同的输入，这就是“分叉”。\n",
    "\n",
    "![fig3.jpg](https://cdn.prod.website-files.com/65b8cd72835ceeacd4449a53/66dbb038f89f2d847ee5c336_time-travel3.png)"
   ]
  },
  {
   "cell_type": "code",
   "execution_count": 20,
   "id": "cdeb5bf2-1566-4d8c-8ea5-65894e3a7038",
   "metadata": {
    "colab": {
     "base_uri": "https://localhost:8080/"
    },
    "id": "cdeb5bf2-1566-4d8c-8ea5-65894e3a7038",
    "outputId": "f892e1b9-a695-45fb-e1ee-573b976675bd"
   },
   "outputs": [
    {
     "data": {
      "text/plain": [
       "[HumanMessage(content='Multiply 2 and 3', additional_kwargs={}, response_metadata={}, id='59609b0a-aa2c-4c7c-8ea3-b43b013b23a5')]"
      ]
     },
     "execution_count": 20,
     "metadata": {},
     "output_type": "execute_result"
    }
   ],
   "source": [
    "to_fork = all_states[-2]\n",
    "to_fork.values[\"messages\"]"
   ]
  },
  {
   "cell_type": "markdown",
   "id": "4a15f6a6-6eaa-48d6-92bb-864ea3a31b6a",
   "metadata": {
    "id": "4a15f6a6-6eaa-48d6-92bb-864ea3a31b6a"
   },
   "source": [
    "同样，我们也能拿到该步骤对应的 `config`。"
   ]
  },
  {
   "cell_type": "code",
   "execution_count": 21,
   "id": "d1621b27-ee51-4dc3-81c4-1d05317280db",
   "metadata": {
    "colab": {
     "base_uri": "https://localhost:8080/"
    },
    "id": "d1621b27-ee51-4dc3-81c4-1d05317280db",
    "outputId": "fed816b6-cbd0-4036-87e6-3c7cd1bdc2ab"
   },
   "outputs": [
    {
     "data": {
      "text/plain": [
       "{'configurable': {'thread_id': '1',\n",
       "  'checkpoint_ns': '',\n",
       "  'checkpoint_id': '1f0a0c0b-4a7c-6dcd-8000-992ba4966deb'}}"
      ]
     },
     "execution_count": 21,
     "metadata": {},
     "output_type": "execute_result"
    }
   ],
   "source": [
    "to_fork.config"
   ]
  },
  {
   "cell_type": "markdown",
   "id": "c2102195-0583-4dbe-ad2f-02fac7915585",
   "metadata": {
    "id": "c2102195-0583-4dbe-ad2f-02fac7915585"
   },
   "source": [
    "我们来在这个检查点上修改状态。\n",
    "\n",
    "只需调用 `update_state` 并提供 `checkpoint_id`。\n",
    "\n",
    "回顾 `messages` 归约器的规则：\n",
    "\n",
    "- 默认是追加；除非显式提供“消息 ID”。\n",
    "- 若提供相同“消息 ID”，则对该消息进行覆盖而不是追加。\n",
    "\n",
    "因此要覆盖该条人类消息，只需提供其原始 `id`（可通过 `to_fork.values[\"messages\"][0].id` 获取）。"
   ]
  },
  {
   "cell_type": "code",
   "execution_count": 22,
   "id": "0b4a918d-858a-41ac-a5d4-e99260e2d6ec",
   "metadata": {
    "id": "0b4a918d-858a-41ac-a5d4-e99260e2d6ec"
   },
   "outputs": [],
   "source": [
    "fork_config = graph.update_state(\n",
    "    to_fork.config,\n",
    "    {\"messages\": [HumanMessage(content='Multiply 5 and 3',\n",
    "                               id=to_fork.values[\"messages\"][0].id)]},\n",
    ")"
   ]
  },
  {
   "cell_type": "code",
   "execution_count": 23,
   "id": "8ff4e9bb-8221-42d1-b7d0-b0cbd5dc374a",
   "metadata": {
    "colab": {
     "base_uri": "https://localhost:8080/"
    },
    "id": "8ff4e9bb-8221-42d1-b7d0-b0cbd5dc374a",
    "outputId": "63d0bfe8-e177-45b2-9217-a85e29c899e9"
   },
   "outputs": [
    {
     "data": {
      "text/plain": [
       "{'configurable': {'thread_id': '1',\n",
       "  'checkpoint_ns': '',\n",
       "  'checkpoint_id': '1f0a0c0b-6e54-6c1b-8001-3402a5df76f3'}}"
      ]
     },
     "execution_count": 23,
     "metadata": {},
     "output_type": "execute_result"
    }
   ],
   "source": [
    "fork_config"
   ]
  },
  {
   "cell_type": "markdown",
   "id": "bebfe6fd-c94b-4291-a125-ec6170e35bc5",
   "metadata": {
    "id": "bebfe6fd-c94b-4291-a125-ec6170e35bc5"
   },
   "source": [
    "这会创建一个新的“分叉”检查点。\n",
    "\n",
    "注意：元数据（例如下一步将流转到哪个节点）会被保留！\n",
    "\n",
    "当前线程的最新状态已被更新为分叉后的输入。"
   ]
  },
  {
   "cell_type": "code",
   "execution_count": 24,
   "id": "586ce86c-1257-45e9-ba30-6287932b9484",
   "metadata": {
    "colab": {
     "base_uri": "https://localhost:8080/"
    },
    "id": "586ce86c-1257-45e9-ba30-6287932b9484",
    "outputId": "091cf42c-8beb-4680-a134-252716280a13"
   },
   "outputs": [
    {
     "data": {
      "text/plain": [
       "[HumanMessage(content='Multiply 5 and 3', additional_kwargs={}, response_metadata={}, id='59609b0a-aa2c-4c7c-8ea3-b43b013b23a5')]"
      ]
     },
     "execution_count": 24,
     "metadata": {},
     "output_type": "execute_result"
    }
   ],
   "source": [
    "all_states = [state for state in graph.get_state_history(thread) ]\n",
    "all_states[0].values[\"messages\"]"
   ]
  },
  {
   "cell_type": "code",
   "execution_count": 25,
   "id": "12e19798-25d8-49e8-8542-13d2b3bdf58e",
   "metadata": {
    "colab": {
     "base_uri": "https://localhost:8080/"
    },
    "id": "12e19798-25d8-49e8-8542-13d2b3bdf58e",
    "outputId": "4a3b8625-d91f-4738-a30b-a1d8f7e47aca"
   },
   "outputs": [
    {
     "data": {
      "text/plain": [
       "StateSnapshot(values={'messages': [HumanMessage(content='Multiply 5 and 3', additional_kwargs={}, response_metadata={}, id='59609b0a-aa2c-4c7c-8ea3-b43b013b23a5')]}, next=('assistant',), config={'configurable': {'thread_id': '1', 'checkpoint_ns': '', 'checkpoint_id': '1f0a0c0b-6e54-6c1b-8001-3402a5df76f3'}}, metadata={'source': 'update', 'step': 1, 'parents': {}}, created_at='2025-10-04T01:23:21.113077+00:00', parent_config={'configurable': {'thread_id': '1', 'checkpoint_ns': '', 'checkpoint_id': '1f0a0c0b-4a7c-6dcd-8000-992ba4966deb'}}, tasks=(PregelTask(id='45abab41-d611-f33c-213d-b84fb28d4152', name='assistant', path=('__pregel_pull', 'assistant'), error=None, interrupts=(), state=None, result=None),), interrupts=())"
      ]
     },
     "execution_count": 25,
     "metadata": {},
     "output_type": "execute_result"
    }
   ],
   "source": [
    "graph.get_state({'configurable': {'thread_id': '1'}})"
   ]
  },
  {
   "cell_type": "markdown",
   "id": "78c641e2-b8e9-4461-b854-8725006a5eb6",
   "metadata": {
    "id": "78c641e2-b8e9-4461-b854-8725006a5eb6"
   },
   "source": [
    "接下来流式运行时，图会识别该检查点“尚未执行过后续节点”。\n",
    "\n",
    "因此将“真正运行”后续节点，而不是简单回放。"
   ]
  },
  {
   "cell_type": "code",
   "execution_count": 26,
   "id": "1c49f2a8-b325-45e4-b36c-17fab1b37cc0",
   "metadata": {
    "colab": {
     "base_uri": "https://localhost:8080/"
    },
    "id": "1c49f2a8-b325-45e4-b36c-17fab1b37cc0",
    "outputId": "58c3f3f6-4d37-45b9-b338-f408e4e3ad4e"
   },
   "outputs": [
    {
     "name": "stdout",
     "output_type": "stream",
     "text": [
      "================================\u001b[1m Human Message \u001b[0m=================================\n",
      "\n",
      "Multiply 5 and 3\n",
      "==================================\u001b[1m Ai Message \u001b[0m==================================\n",
      "Tool Calls:\n",
      "  multiply (call_e0npcQyeMW8evdDixBYFvaJf)\n",
      " Call ID: call_e0npcQyeMW8evdDixBYFvaJf\n",
      "  Args:\n",
      "    a: 5\n",
      "    b: 3\n",
      "=================================\u001b[1m Tool Message \u001b[0m=================================\n",
      "Name: multiply\n",
      "\n",
      "15\n",
      "==================================\u001b[1m Ai Message \u001b[0m==================================\n",
      "\n",
      "The result of multiplying 5 and 3 is 15.\n"
     ]
    }
   ],
   "source": [
    "for event in graph.stream(None, fork_config, stream_mode=\"values\"):\n",
    "    event['messages'][-1].pretty_print()"
   ]
  },
  {
   "cell_type": "markdown",
   "id": "428d7f80-ee60-4147-b51f-ee3b0cf5cbba",
   "metadata": {
    "id": "428d7f80-ee60-4147-b51f-ee3b0cf5cbba"
   },
   "source": [
    "现在可以看到，当前状态已处于本次运行的终点。"
   ]
  },
  {
   "cell_type": "code",
   "execution_count": 27,
   "id": "132ef840-64c7-479c-ad34-3f177f4b2524",
   "metadata": {
    "colab": {
     "base_uri": "https://localhost:8080/"
    },
    "id": "132ef840-64c7-479c-ad34-3f177f4b2524",
    "outputId": "e88fe34c-2854-47c2-ed10-433e48e34355"
   },
   "outputs": [
    {
     "data": {
      "text/plain": [
       "StateSnapshot(values={'messages': [HumanMessage(content='Multiply 5 and 3', additional_kwargs={}, response_metadata={}, id='59609b0a-aa2c-4c7c-8ea3-b43b013b23a5'), AIMessage(content='', additional_kwargs={'tool_calls': [{'id': 'call_e0npcQyeMW8evdDixBYFvaJf', 'function': {'arguments': '{\"a\":5,\"b\":3}', 'name': 'multiply', 'parameters': None}, 'type': 'function'}], 'refusal': None}, response_metadata={'token_usage': {'completion_tokens': 18, 'prompt_tokens': 217, 'total_tokens': 235, 'completion_tokens_details': {'accepted_prediction_tokens': 0, 'audio_tokens': 0, 'reasoning_tokens': 0, 'rejected_prediction_tokens': 0}, 'prompt_tokens_details': {'audio_tokens': 0, 'cached_tokens': 0}, 'input_tokens': 0, 'output_tokens': 0, 'input_tokens_details': None}, 'model_name': 'gpt-4o', 'system_fingerprint': 'fp_5d7ee1b844', 'id': 'chatcmpl-CMlHVLOu7vGDYaqjo3V2095kv1Ys5', 'service_tier': None, 'finish_reason': 'tool_calls', 'logprobs': None}, id='run--92e9279c-750a-45d9-b3fa-537397f6093f-0', tool_calls=[{'name': 'multiply', 'args': {'a': 5, 'b': 3}, 'id': 'call_e0npcQyeMW8evdDixBYFvaJf', 'type': 'tool_call'}], usage_metadata={'input_tokens': 217, 'output_tokens': 18, 'total_tokens': 235, 'input_token_details': {'audio': 0, 'cache_read': 0}, 'output_token_details': {'audio': 0, 'reasoning': 0}}), ToolMessage(content='15', name='multiply', id='0d4743ec-c5f0-44f4-b06c-f5d66a1bf144', tool_call_id='call_e0npcQyeMW8evdDixBYFvaJf'), AIMessage(content='The result of multiplying 5 and 3 is 15.', additional_kwargs={'refusal': None}, response_metadata={'token_usage': {'completion_tokens': 15, 'prompt_tokens': 242, 'total_tokens': 257, 'completion_tokens_details': {'accepted_prediction_tokens': 0, 'audio_tokens': 0, 'reasoning_tokens': 0, 'rejected_prediction_tokens': 0}, 'prompt_tokens_details': {'audio_tokens': 0, 'cached_tokens': 0}, 'input_tokens': 0, 'output_tokens': 0, 'input_tokens_details': None}, 'model_name': 'gpt-4o', 'system_fingerprint': 'fp_5d7ee1b844', 'id': 'chatcmpl-CMlHWFhRldNhrghdRhLx4fgy5P5Zh', 'service_tier': None, 'finish_reason': 'stop', 'logprobs': None}, id='run--8fceb855-c939-44e7-beef-77978bc14038-0', usage_metadata={'input_tokens': 242, 'output_tokens': 15, 'total_tokens': 257, 'input_token_details': {'audio': 0, 'cache_read': 0}, 'output_token_details': {'audio': 0, 'reasoning': 0}})]}, next=(), config={'configurable': {'thread_id': '1', 'checkpoint_ns': '', 'checkpoint_id': '1f0a0c0b-7e54-60e6-8004-b910a500a7c2'}}, metadata={'source': 'loop', 'step': 4, 'parents': {}}, created_at='2025-10-04T01:23:22.790512+00:00', parent_config={'configurable': {'thread_id': '1', 'checkpoint_ns': '', 'checkpoint_id': '1f0a0c0b-761d-6a49-8003-aab09fc3211e'}}, tasks=(), interrupts=())"
      ]
     },
     "execution_count": 27,
     "metadata": {},
     "output_type": "execute_result"
    }
   ],
   "source": [
    "graph.get_state({'configurable': {'thread_id': '1'}})"
   ]
  }
 ],
 "metadata": {
  "colab": {
   "include_colab_link": true,
   "provenance": []
  },
  "kernelspec": {
   "display_name": "python(flyai_agent_in_action)",
   "language": "python",
   "name": "flyai_agent_in_action"
  },
  "language_info": {
   "codemirror_mode": {
    "name": "ipython",
    "version": 3
   },
   "file_extension": ".py",
   "mimetype": "text/x-python",
   "name": "python",
   "nbconvert_exporter": "python",
   "pygments_lexer": "ipython3",
   "version": "3.12.11"
  }
 },
 "nbformat": 4,
 "nbformat_minor": 5
}
