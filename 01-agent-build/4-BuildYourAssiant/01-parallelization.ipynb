{
 "cells": [
  {
   "cell_type": "markdown",
   "id": "env_config_overview",
   "metadata": {},
   "source": [
    "### 🔧 环境配置和检查\n\n#### 概述\n\n本教程需要特定的环境配置以确保最佳学习体验。以下配置将帮助您：\n\n- 使用统一的conda环境：激活统一的学习环境\n- 通过国内镜像源快速安装依赖：配置pip使用清华镜像源\n- 加速模型下载：设置HuggingFace镜像代理\n- 检查系统配置：检查硬件和软件配置\n\n#### 配置\n\n- **所需环境及其依赖已经部署好**\n- 在`Notebook`右上角选择`jupyter内核`为`python(flyai_agent_in_action)`，即可执行下方代码"
   ]
  },
  {
   "cell_type": "code",
   "execution_count": null,
   "id": "env_conda_activate",
   "metadata": {},
   "outputs": [],
   "source": [
    "%%script bash\n\n# 1. 激活 conda 环境 (仅对当前单元格有效)\neval \"$(conda shell.bash hook)\"\nconda activate flyai_agent_in_action\n\necho \"=========================================\"\necho \"== Conda 环境检查报告 (仅针对当前 Bash 子进程) ==\"\necho \"=========================================\"\n\n# 2. 检查当前激活的环境\nCURRENT_ENV_NAME=$(basename $CONDA_PREFIX)\n\nif [ \"$CURRENT_ENV_NAME\" = \"flyai_agent_in_action\" ]; then\n    echo \"✅ 当前单元格已成功激活到 flyai_agent_in_action 环境。\"\n    echo \"✅ 正在使用的环境路径: $CONDA_PREFIX\"\n    echo \"\"\n    echo \"💡 提示: 后续的 Python 单元格将使用 Notebook 当前选择的 Jupyter 内核。\"\n    echo \"   如果需要后续单元格也使用此环境，请执行以下操作:\"\n    echo \"   1. 检查 Notebook 右上角是否已选择 'python(flyai_agent_in_action)'。\"\nelse\n    echo \"❌ 激活失败或环境名称不匹配。当前环境: $CURRENT_ENV_NAME\"\n    echo \"\"\n    echo \"⚠️ 严重提示: 建议将 Notebook 的 Jupyter **内核 (Kernel)** 切换为 'python(flyai_agent_in_action)'。\"\n    echo \"   (通常位于 Notebook 右上角或 '内核' 菜单中)\"\n    echo \"\"\n    echo \"📚 备用方法 (不推荐): 如果无法切换内核，则必须在**每个**代码单元格的头部重复以下命令:\"\n    echo \"\"\n    echo \"%%script bash\"\n    echo \"# 必须在每个单元格都执行\"\n    echo \"eval \\\"\\$(conda shell.bash hook)\\\"\"\n    echo \"conda activate flyai_agent_in_action\"\nfi\n\necho \"=========================================\" "
   ]
  },
  {
   "cell_type": "code",
   "execution_count": null,
   "id": "env_pip_config",
   "metadata": {},
   "outputs": [],
   "source": [
    "# 2. 设置pip 为清华源\n",
    "%pip config set global.index-url https://pypi.tuna.tsinghua.edu.cn/simple\n",
    "%pip config list\n"
   ]
  },
  {
   "cell_type": "code",
   "execution_count": null,
   "id": "env_hf_proxy",
   "metadata": {},
   "outputs": [],
   "source": [
    "# 3. 设置HuggingFace代理\n",
    "%env HF_ENDPOINT=https://hf-mirror.com\n",
    "# 验证：使用shell命令检查\n",
    "!echo $HF_ENDPOINT"
   ]
  },
  {
   "cell_type": "code",
   "execution_count": null,
   "id": "env_system_check",
   "metadata": {},
   "outputs": [],
   "source": [
    "# 🔍 环境信息检查脚本\n",
    "#\n",
    "# 本脚本的作用：\n",
    "# 1. 安装 pandas 库用于数据表格展示\n",
    "# 2. 检查系统的各项配置信息\n",
    "# 3. 生成详细的环境报告表格\n",
    "#\n",
    "# 对于初学者来说，这个步骤帮助您：\n",
    "# - 了解当前运行环境的硬件配置\n",
    "# - 确认是否满足模型运行的最低要求\n",
    "# - 学习如何通过代码获取系统信息\n",
    "\n",
    "# 安装 pandas 库 - 用于创建和展示数据表格\n",
    "# pandas 是 Python 中最流行的数据处理和分析库\n",
    "%pip install pandas==2.2.2 tabulate==0.9.0\n",
    "\n",
    "import platform # 导入 platform 模块以获取系统信息\n",
    "import os # 导入 os 模块以与操作系统交互\n",
    "import subprocess # 导入 subprocess 模块以运行外部命令\n",
    "import pandas as pd # 导入 pandas 模块，通常用于数据处理，这里用于创建表格\n",
    "import shutil # 导入 shutil 模块以获取磁盘空间信息\n",
    "\n",
    "# 获取 CPU 信息的函数，包括核心数量\n",
    "def get_cpu_info():\n",
    "    cpu_info = \"\" # 初始化 CPU 信息字符串\n",
    "    physical_cores = \"N/A\"\n",
    "    logical_cores = \"N/A\"\n",
    "\n",
    "    if platform.system() == \"Windows\": # 如果是 Windows 系统\n",
    "        cpu_info = platform.processor() # 使用 platform.processor() 获取 CPU 信息\n",
    "        try:\n",
    "            # 获取 Windows 上的核心数量 (需要 WMI)\n",
    "            import wmi\n",
    "            c = wmi.WMI()\n",
    "            for proc in c.Win32_Processor():\n",
    "                physical_cores = proc.NumberOfCores\n",
    "                logical_cores = proc.NumberOfLogicalProcessors\n",
    "        except:\n",
    "            pass # 如果 WMI 不可用，忽略错误\n",
    "\n",
    "    elif platform.system() == \"Darwin\": # 如果是 macOS 系统\n",
    "        # 在 macOS 上使用 sysctl 命令获取 CPU 信息和核心数量\n",
    "        os.environ['PATH'] = os.environ['PATH'] + os.pathsep + '/usr/sbin' # 更新 PATH 环境变量\n",
    "        try:\n",
    "            process_brand = subprocess.Popen(['sysctl', \"machdep.cpu.brand_string\"], stdout=subprocess.PIPE, stderr=subprocess.PIPE)\n",
    "            stdout_brand, stderr_brand = process_brand.communicate()\n",
    "            cpu_info = stdout_brand.decode().split(': ')[1].strip() if stdout_brand else \"Could not retrieve CPU info\"\n",
    "\n",
    "            process_physical = subprocess.Popen(['sysctl', \"hw.physicalcpu\"], stdout=subprocess.PIPE, stderr=subprocess.PIPE)\n",
    "            stdout_physical, stderr_physical = process_physical.communicate()\n",
    "            physical_cores = stdout_physical.decode().split(': ')[1].strip() if stdout_physical else \"N/A\"\n",
    "\n",
    "            process_logical = subprocess.Popen(['sysctl', \"hw.logicalcpu\"], stdout=subprocess.PIPE, stderr=subprocess.PIPE)\n",
    "            stdout_logical, stderr_logical = process_logical.communicate()\n",
    "            logical_cores = stdout_logical.decode().split(': ')[1].strip() if stdout_logical else \"N/A\"\n",
    "\n",
    "        except:\n",
    "            cpu_info = \"Could not retrieve CPU info\"\n",
    "            physical_cores = \"N/A\"\n",
    "            logical_cores = \"N/A\"\n",
    "\n",
    "    else:  # Linux 系统\n",
    "        try:\n",
    "            # 在 Linux 上读取 /proc/cpuinfo 文件获取 CPU 信息和核心数量\n",
    "            with open('/proc/cpuinfo') as f:\n",
    "                physical_cores_count = 0\n",
    "                logical_cores_count = 0\n",
    "                cpu_info_lines = []\n",
    "                for line in f:\n",
    "                    if line.startswith('model name'): # 查找以 'model name'开头的行\n",
    "                        if not cpu_info: # 只获取第一个 model name\n",
    "                            cpu_info = line.split(': ')[1].strip()\n",
    "                    elif line.startswith('cpu cores'): # 查找以 'cpu cores' 开头的行\n",
    "                        physical_cores_count = int(line.split(': ')[1].strip())\n",
    "                    elif line.startswith('processor'): # 查找以 'processor' 开头的行\n",
    "                        logical_cores_count += 1\n",
    "                physical_cores = str(physical_cores_count) if physical_cores_count > 0 else \"N/A\"\n",
    "                logical_cores = str(logical_cores_count) if logical_cores_count > 0 else \"N/A\"\n",
    "                if not cpu_info:\n",
    "                     cpu_info = \"Could not retrieve CPU info\"\n",
    "\n",
    "        except:\n",
    "            cpu_info = \"Could not retrieve CPU info\"\n",
    "            physical_cores = \"N/A\"\n",
    "            logical_cores = \"N/A\"\n",
    "\n",
    "    return f\"{cpu_info} ({physical_cores} physical cores, {logical_cores} logical cores)\" # 返回 CPU 信息和核心数量\n",
    "\n",
    "\n",
    "# 获取内存信息的函数\n",
    "def get_memory_info():\n",
    "    mem_info = \"\" # 初始化内存信息字符串\n",
    "    if platform.system() == \"Windows\":\n",
    "        # 在 Windows 上不容易通过标准库获取，需要外部库或 PowerShell\n",
    "        mem_info = \"Requires external tools on Windows\" # 设置提示信息\n",
    "    elif platform.system() == \"Darwin\": # 如果是 macOS 系统\n",
    "        # 在 macOS 上使用 sysctl 命令获取内存大小\n",
    "        process = subprocess.Popen(['sysctl', \"hw.memsize\"], stdout=subprocess.PIPE, stderr=subprocess.PIPE) # 运行 sysctl 命令\n",
    "        stdout, stderr = process.communicate() # 获取标准输出和标准错误\n",
    "        mem_bytes = int(stdout.decode().split(': ')[1].strip()) # 解析输出，获取内存大小（字节）\n",
    "        mem_gb = mem_bytes / (1024**3) # 转换为 GB\n",
    "        mem_info = f\"{mem_gb:.2f} GB\" # 格式化输出\n",
    "    else:  # Linux 系统\n",
    "        try:\n",
    "            # 在 Linux 上读取 /proc/meminfo 文件获取内存信息\n",
    "            with open('/proc/meminfo') as f:\n",
    "                total_mem_kb = 0\n",
    "                available_mem_kb = 0\n",
    "                for line in f:\n",
    "                    if line.startswith('MemTotal'): # 查找以 'MemTotal' 开头的行\n",
    "                        total_mem_kb = int(line.split(':')[1].strip().split()[0]) # 解析行，获取总内存（KB）\n",
    "                    elif line.startswith('MemAvailable'): # 查找以 'MemAvailable' 开头的行\n",
    "                         available_mem_kb = int(line.split(':')[1].strip().split()[0]) # 解析行，获取可用内存（KB）\n",
    "\n",
    "                if total_mem_kb > 0:\n",
    "                    total_mem_gb = total_mem_kb / (1024**2) # 转换为 GB\n",
    "                    mem_info = f\"{total_mem_gb:.2f} GB\" # 格式化输出总内存\n",
    "                    if available_mem_kb > 0:\n",
    "                        available_mem_gb = available_mem_kb / (1024**2)\n",
    "                        mem_info += f\" (Available: {available_mem_gb:.2f} GB)\" # 添加可用内存信息\n",
    "                else:\n",
    "                     mem_info = \"Could not retrieve memory info\" # 如果读取文件出错，设置错误信息\n",
    "\n",
    "        except:\n",
    "            mem_info = \"Could not retrieve memory info\" # 如果读取文件出错，设置错误信息\n",
    "    return mem_info # 返回内存信息\n",
    "\n",
    "# 获取 GPU 信息的函数，包括显存\n",
    "def get_gpu_info():\n",
    "    try:\n",
    "        # 尝试使用 nvidia-smi 获取 NVIDIA GPU 信息和显存\n",
    "        result = subprocess.run(['nvidia-smi', '--query-gpu=name,memory.total', '--format=csv,noheader'], capture_output=True, text=True)\n",
    "        if result.returncode == 0: # 如果命令成功执行\n",
    "            gpu_lines = result.stdout.strip().split('\\n') # 解析输出，获取 GPU 名称和显存\n",
    "            gpu_info_list = []\n",
    "            for line in gpu_lines:\n",
    "                name, memory = line.split(', ')\n",
    "                gpu_info_list.append(f\"{name} ({memory})\") # 格式化 GPU 信息\n",
    "            return \", \".join(gpu_info_list) if gpu_info_list else \"NVIDIA GPU found, but info not listed\" # 返回 GPU 信息或提示信息\n",
    "        else:\n",
    "             # 尝试使用 lshw 获取其他 GPU 信息 (需要安装 lshw)\n",
    "            try:\n",
    "                result_lshw = subprocess.run(['lshw', '-C', 'display'], capture_output=True, text=True)\n",
    "                if result_lshw.returncode == 0: # 如果命令成功执行\n",
    "                     # 简单解析输出中的 product 名称和显存\n",
    "                    gpu_info_lines = []\n",
    "                    current_gpu = {}\n",
    "                    for line in result_lshw.stdout.splitlines():\n",
    "                        if 'product:' in line:\n",
    "                             if current_gpu:\n",
    "                                 gpu_info_lines.append(f\"{current_gpu.get('product', 'GPU')} ({current_gpu.get('memory', 'N/A')})\")\n",
    "                             current_gpu = {'product': line.split('product:')[1].strip()}\n",
    "                        elif 'size:' in line and 'memory' in line:\n",
    "                             current_gpu['memory'] = line.split('size:')[1].strip()\n",
    "\n",
    "                    if current_gpu: # 添加最后一个 GPU 的信息\n",
    "                        gpu_info_lines.append(f\"{current_gpu.get('product', 'GPU')} ({current_gpu.get('memory', 'N/A')})\")\n",
    "\n",
    "                    return \", \".join(gpu_info_lines) if gpu_info_lines else \"GPU found (via lshw), but info not parsed\" # 如果找到 GPU 但信息无法解析，设置提示信息\n",
    "                else:\n",
    "                    return \"No GPU found (checked nvidia-smi and lshw)\" # 如果两个命令都找不到 GPU，设置提示信息\n",
    "            except FileNotFoundError:\n",
    "                 return \"No GPU found (checked nvidia-smi, lshw not found)\" # 如果找不到 lshw 命令，设置提示信息\n",
    "    except FileNotFoundError:\n",
    "        return \"No GPU found (nvidia-smi not found)\" # 如果找不到 nvidia-smi 命令，设置提示信息\n",
    "\n",
    "\n",
    "# 获取 CUDA 版本的函数\n",
    "def get_cuda_version():\n",
    "    try:\n",
    "        # 尝试使用 nvcc --version 获取 CUDA 版本\n",
    "        result = subprocess.run(['nvcc', '--version'], capture_output=True, text=True)\n",
    "        if result.returncode == 0: # 如果命令成功执行\n",
    "            for line in result.stdout.splitlines():\n",
    "                if 'release' in line: # 查找包含 'release' 的行\n",
    "                    return line.split('release ')[1].split(',')[0] # 解析行，提取版本号\n",
    "        return \"CUDA not found or version not parsed\" # 如果找不到 CUDA 或版本无法解析，设置提示信息\n",
    "    except FileNotFoundError:\n",
    "        return \"CUDA not found\" # 如果找不到 nvcc 命令，设置提示信息\n",
    "\n",
    "# 获取 Python 版本的函数\n",
    "def get_python_version():\n",
    "    return platform.python_version() # 获取 Python 版本\n",
    "\n",
    "# 获取 Conda 版本的函数\n",
    "def get_conda_version():\n",
    "    try:\n",
    "        # 尝试使用 conda --version 获取 Conda 版本\n",
    "        result = subprocess.run(['conda', '--version'], capture_output=True, text=True)\n",
    "        if result.returncode == 0: # 如果命令成功执行\n",
    "            return result.stdout.strip() # 返回 Conda 版本\n",
    "        return \"Conda not found or version not parsed\" # 如果找不到 Conda 或版本无法解析，设置提示信息\n",
    "    except FileNotFoundError:\n",
    "        return \"Conda not found\" # 如果找不到 conda 命令，设置提示信息\n",
    "\n",
    "# 获取物理磁盘空间信息的函数\n",
    "def get_disk_space():\n",
    "    try:\n",
    "        total, used, free = shutil.disk_usage(\"/\") # 获取根目录的磁盘使用情况\n",
    "        total_gb = total / (1024**3) # 转换为 GB\n",
    "        used_gb = used / (1024**3) # 转换为 GB\n",
    "        free_gb = free / (1024**3) # 转换为 GB\n",
    "        return f\"Total: {total_gb:.2f} GB, Used: {used_gb:.2f} GB, Free: {free_gb:.2f} GB\" # 格式化输出\n",
    "    except Exception as e:\n",
    "        return f\"Could not retrieve disk info: {e}\" # 如果获取信息出错，设置错误信息\n",
    "\n",
    "# 获取环境信息\n",
    "os_name = platform.system() # 获取操作系统名称\n",
    "os_version = platform.release() # 获取操作系统版本\n",
    "if os_name == \"Linux\":\n",
    "    try:\n",
    "        # 在 Linux 上尝试获取发行版和版本\n",
    "        lsb_info = subprocess.run(['lsb_release', '-a'], capture_output=True, text=True)\n",
    "        if lsb_info.returncode == 0: # 如果命令成功执行\n",
    "            for line in lsb_info.stdout.splitlines():\n",
    "                if 'Description:' in line: # 查找包含 'Description:' 的行\n",
    "                    os_version = line.split('Description:')[1].strip() # 提取描述信息作为版本\n",
    "                    break # 找到后退出循环\n",
    "                elif 'Release:' in line: # 查找包含 'Release:' 的行\n",
    "                     os_version = line.split('Release:')[1].strip() # 提取版本号\n",
    "                     # 尝试获取 codename\n",
    "                     try:\n",
    "                         codename_info = subprocess.run(['lsb_release', '-c'], capture_output=True, text=True)\n",
    "                         if codename_info.returncode == 0:\n",
    "                             os_version += f\" ({codename_info.stdout.split(':')[1].strip()})\" # 将 codename 添加到版本信息中\n",
    "                     except:\n",
    "                         pass # 如果获取 codename 失败则忽略\n",
    "\n",
    "    except FileNotFoundError:\n",
    "        pass # lsb_release 可能未安装，忽略错误\n",
    "\n",
    "full_os_info = f\"{os_name} {os_version}\" # 组合完整的操作系统信息\n",
    "cpu_info = get_cpu_info() # 调用函数获取 CPU 信息和核心数量\n",
    "memory_info = get_memory_info() # 调用函数获取内存信息\n",
    "gpu_info = get_gpu_info() # 调用函数获取 GPU 信息和显存\n",
    "cuda_version = get_cuda_version() # 调用函数获取 CUDA 版本\n",
    "python_version = get_python_version() # 调用函数获取 Python 版本\n",
    "conda_version = get_conda_version() # 调用函数获取 Conda 版本\n",
    "disk_info = get_disk_space() # 调用函数获取物理磁盘空间信息\n",
    "\n",
    "\n",
    "# 创建用于存储数据的字典\n",
    "env_data = {\n",
    "    \"项目\": [ # 项目名称列表\n",
    "        \"操作系统\",\n",
    "        \"CPU 信息\",\n",
    "        \"内存信息\",\n",
    "        \"GPU 信息\",\n",
    "        \"CUDA 信息\",\n",
    "        \"Python 版本\",\n",
    "        \"Conda 版本\",\n",
    "        \"物理磁盘空间\" # 添加物理磁盘空间\n",
    "    ],\n",
    "    \"信息\": [ # 对应的信息列表\n",
    "        full_os_info,\n",
    "        cpu_info,\n",
    "        memory_info,\n",
    "        gpu_info,\n",
    "        cuda_version,\n",
    "        python_version,\n",
    "        conda_version,\n",
    "        disk_info # 添加物理磁盘空间信息\n",
    "    ]\n",
    "}\n",
    "\n",
    "# 创建一个 pandas DataFrame\n",
    "df = pd.DataFrame(env_data)\n",
    "\n",
    "# 打印表格\n",
    "print(\"### 环境信息\") # 打印标题\n",
    "print(df.to_markdown(index=False)) # 将 DataFrame 转换为 Markdown 格式并打印，不包含索引\n"
   ]
  },
  {
   "cell_type": "markdown",
   "metadata": {
    "colab_type": "text",
    "id": "view-in-github"
   },
   "source": [
    "<a href=\"https://colab.research.google.com/github/FlyAIBox/langchain-academy/blob/fly101/module-4/parallelization.ipynb\" target=\"_parent\"><img src=\"https://colab.research.google.com/assets/colab-badge.svg\" alt=\"Open In Colab\"/></a>"
   ]
  },
  {
   "cell_type": "markdown",
   "id": "f4169bfb-769a-4db3-833e-c827f19024b2",
   "metadata": {
    "id": "f4169bfb-769a-4db3-833e-c827f19024b2"
   },
   "source": [
    "# 并行节点执行（Parallel node execution）\n",
    "\n",
    "## 回顾（Review）\n",
    "\n",
    "在第 3 章中，我们深入讲解了“人机协作（human-in-the-loop）”，展示了 3 个常见场景：\n",
    "\n",
    "(1) `审批（Approval）`：暂停代理执行，向用户展示当前状态，请用户确认/放行某个动作。\n",
    "\n",
    "(2) `调试（Debugging）`：回溯图（rewind the graph），以复现或规避问题。\n",
    "\n",
    "(3) `编辑（Editing）`：直接修改状态。\n",
    "\n",
    "## 目标（Goals）\n",
    "\n",
    "本章在第 3 章的人机协作基础上，结合第 2 章的“记忆（memory）”概念，进一步推进。\n",
    "\n",
    "我们将进入“多智能体（multi-agent）”工作流，并最终构建一个把本课程各模块串联起来的多智能体研究助理。\n",
    "\n",
    "为此，我们先介绍一些与 LangGraph 可控性相关的主题。\n",
    "\n",
    "本章从[并行化（parallelization）](https://langchain-ai.github.io/langgraph/how-tos/branching/#how-to-create-branches-for-parallel-node-execution)开始。\n",
    "\n",
    "## 扇出与扇入（Fan out and fan in）\n",
    "\n",
    "我们先构建一个简单的线性图，在每一步都覆盖（overwrite）状态。"
   ]
  },
  {
   "cell_type": "code",
   "execution_count": 1,
   "id": "618eab5c-4ef7-4273-8e0b-a9c847897ed7",
   "metadata": {
    "id": "618eab5c-4ef7-4273-8e0b-a9c847897ed7"
   },
   "outputs": [],
   "source": [
    "%%capture --no-stderr\n",
    "# %pip install -U  langgraph tavily-python wikipedia langchain_openai langchain_community langgraph_sdk\n",
    "%pip install --quiet langgraph==0.6.7 langchain_openai==0.3.32  langgraph_sdk==0.2.6 langchain_community==0.3.29 tavily-python==0.7.12 wikipedia==1.4.0"
   ]
  },
  {
   "cell_type": "code",
   "execution_count": 2,
   "id": "31bbec0d",
   "metadata": {
    "colab": {
     "base_uri": "https://localhost:8080/"
    },
    "id": "31bbec0d",
    "outputId": "91cbf159-7ebc-4d59-ae48-85b7dfbce167"
   },
   "outputs": [
    {
     "name": "stdout",
     "output_type": "stream",
     "text": [
      "OPENAI_API_KEY: ··········\n",
      "OPENAI_BASE_URL: ··········\n"
     ]
    }
   ],
   "source": [
    "import os, getpass\n",
    "\n",
    "def _set_env(var: str):\n",
    "    if not os.environ.get(var):\n",
    "        os.environ[var] = getpass.getpass(f\"{var}: \")\n",
    "\n",
    "# 设置 OpenAI API 密钥\n",
    "# 这是使用 OpenAI 模型所必需的\n",
    "_set_env(\"OPENAI_API_KEY\")\n",
    "# 设置 OpenAI API代理地址 (例如：https://api.apiyi.com/v1）\n",
    "_set_env(\"OPENAI_BASE_URL\")"
   ]
  },
  {
   "cell_type": "code",
   "execution_count": 5,
   "id": "1dd77093-1794-4bd7-8c57-58f59a74c20b",
   "metadata": {
    "colab": {
     "base_uri": "https://localhost:8080/",
     "height": 548
    },
    "id": "1dd77093-1794-4bd7-8c57-58f59a74c20b",
    "outputId": "3428e688-4784-4dec-d337-fed8c1e632fa"
   },
   "outputs": [
    {
     "data": {
      "image/png": "[encoded data removed]",
      "text/plain": [
       "<IPython.core.display.Image object>"
      ]
     },
     "metadata": {},
     "output_type": "display_data"
    }
   ],
   "source": [
    "from IPython.display import Image, display\n",
    "\n",
    "from typing import Any\n",
    "from typing_extensions import TypedDict\n",
    "\n",
    "from langgraph.graph import StateGraph, START, END\n",
    "\n",
    "# 定义状态的类型\n",
    "class State(TypedDict):\n",
    "    # 'state' 键将存储字符串列表，使用 operator.add 作为归约器（reducer）\n",
    "    # operator.add 对于列表来说是拼接操作，使得更新是追加而不是覆盖\n",
    "    state: str\n",
    "\n",
    "# 定义一个节点类，用于向状态中添加一个秘密值\n",
    "class ReturnNodeValue:\n",
    "    def __init__(self, node_secret: str):\n",
    "        # 初始化节点时存储秘密值\n",
    "        self._value = node_secret\n",
    "\n",
    "    # 这个方法将在节点执行时被调用\n",
    "    def __call__(self, state: State) -> Any:\n",
    "        # 打印当前状态和要添加的值\n",
    "        print(f\"Adding {self._value} to {state['state']}\")\n",
    "        # 返回一个字典，更新状态中的 'state' 键\n",
    "        return {\"state\": [self._value]}\n",
    "\n",
    "# 构建一个状态图\n",
    "builder = StateGraph(State)\n",
    "\n",
    "# 添加节点到图中，每个节点都使用 ReturnNodeValue 类并传入一个秘密值\n",
    "builder.add_node(\"a\", ReturnNodeValue(\"I'm A\"))\n",
    "builder.add_node(\"b\", ReturnNodeValue(\"I'm B\"))\n",
    "builder.add_node(\"c\", ReturnNodeValue(\"I'm C\"))\n",
    "builder.add_node(\"d\", ReturnNodeValue(\"I'm D\"))\n",
    "\n",
    "# 定义图的流程（边）\n",
    "# 从开始节点 START 到节点 \"a\"\n",
    "builder.add_edge(START, \"a\")\n",
    "# 从节点 \"a\" 到节点 \"b\"\n",
    "builder.add_edge(\"a\", \"b\")\n",
    "# 从节点 \"b\" 到节点 \"c\"\n",
    "builder.add_edge(\"b\", \"c\")\n",
    "# 从节点 \"c\" 到节点 \"d\"\n",
    "builder.add_edge(\"c\", \"d\")\n",
    "# 从节点 \"d\" 到结束节点 END\n",
    "builder.add_edge(\"d\", END)\n",
    "\n",
    "# 编译图，使其可执行\n",
    "graph = builder.compile()\n",
    "\n",
    "# 绘制图的 Mermaid 图并显示\n",
    "display(Image(graph.get_graph().draw_mermaid_png()))"
   ]
  },
  {
   "cell_type": "markdown",
   "id": "bdd027d3-ef9f-4d43-b190-e9f07d521e18",
   "metadata": {
    "id": "bdd027d3-ef9f-4d43-b190-e9f07d521e18"
   },
   "source": [
    "如预期所示，我们在每一步都“覆盖（overwrite）”了 `state`。\n",
    "\n",
    "对初学者提示：如果希望“追加（append）”而不是覆盖，需要为该状态键配置一个“归约器（Reducer）”来合并同一步里来自多个节点的更新，见下文示例。"
   ]
  },
  {
   "cell_type": "code",
   "execution_count": 6,
   "id": "bf260088-90d5-45b2-93ab-42f241560840",
   "metadata": {
    "colab": {
     "base_uri": "https://localhost:8080/"
    },
    "id": "bf260088-90d5-45b2-93ab-42f241560840",
    "outputId": "8cfa7417-475f-49fe-d2df-fbdc93e7c5da"
   },
   "outputs": [
    {
     "name": "stdout",
     "output_type": "stream",
     "text": [
      "Adding I'm A to []\n",
      "Adding I'm B to [\"I'm A\"]\n",
      "Adding I'm C to [\"I'm B\"]\n",
      "Adding I'm D to [\"I'm C\"]\n"
     ]
    },
    {
     "data": {
      "text/plain": [
       "{'state': [\"I'm D\"]}"
      ]
     },
     "execution_count": 6,
     "metadata": {},
     "output_type": "execute_result"
    }
   ],
   "source": [
    "graph.invoke({\"state\": []})"
   ]
  },
  {
   "cell_type": "markdown",
   "id": "a9dec27d-dc43-4088-beb2-53ad090d2971",
   "metadata": {
    "id": "a9dec27d-dc43-4088-beb2-53ad090d2971"
   },
   "source": [
    "现在，我们让 `b` 和 `c` 并行运行，随后再运行 `d`。\n",
    "\n",
    "做法：从 `a` 同时“扇出（fan-out）”到 `b` 与 `c`，再“扇入（fan-in）”到 `d`。\n",
    "\n",
    "注意：状态更新会在每个步骤（step）结束时统一应用。\n",
    "\n",
    "下面运行看看。"
   ]
  },
  {
   "cell_type": "code",
   "execution_count": 7,
   "id": "8fdeaaab-a8c3-470f-89ef-9cf0a2760667",
   "metadata": {
    "colab": {
     "base_uri": "https://localhost:8080/",
     "height": 449
    },
    "id": "8fdeaaab-a8c3-470f-89ef-9cf0a2760667",
    "outputId": "fc56d013-2172-4931-9a3e-429e62c0dc55"
   },
   "outputs": [
    {
     "data": {
      "image/png": "[encoded data removed]",
      "text/plain": [
       "<IPython.core.display.Image object>"
      ]
     },
     "metadata": {},
     "output_type": "display_data"
    }
   ],
   "source": [
    "builder = StateGraph(State)\n",
    "\n",
    "# Initialize each node with node_secret\n",
    "builder.add_node(\"a\", ReturnNodeValue(\"I'm A\"))\n",
    "builder.add_node(\"b\", ReturnNodeValue(\"I'm B\"))\n",
    "builder.add_node(\"c\", ReturnNodeValue(\"I'm C\"))\n",
    "builder.add_node(\"d\", ReturnNodeValue(\"I'm D\"))\n",
    "\n",
    "# Flow\n",
    "builder.add_edge(START, \"a\")\n",
    "builder.add_edge(\"a\", \"b\")\n",
    "builder.add_edge(\"a\", \"c\")\n",
    "builder.add_edge(\"b\", \"d\")\n",
    "builder.add_edge(\"c\", \"d\")\n",
    "builder.add_edge(\"d\", END)\n",
    "graph = builder.compile()\n",
    "\n",
    "display(Image(graph.get_graph().draw_mermaid_png()))"
   ]
  },
  {
   "cell_type": "markdown",
   "id": "35238fde-0230-4ae8-9200-158a8835c4f1",
   "metadata": {
    "id": "35238fde-0230-4ae8-9200-158a8835c4f1"
   },
   "source": [
    "**这里会报错**！\n",
    "\n",
    "原因：在同一个步骤里，`b` 和 `c` 同时向同一个状态键/通道（`state`）写入数据。默认规则是“每个步骤每个键只能接收一个值”。\n",
    "\n",
    "解决思路：为该键配置支持多值合并的“归约器（Reducer）”（下文使用 `operator.add` 作为示例）。"
   ]
  },
  {
   "cell_type": "code",
   "execution_count": 8,
   "id": "9048b041-6849-4f09-9811-6b7a80f67859",
   "metadata": {
    "colab": {
     "base_uri": "https://localhost:8080/"
    },
    "id": "9048b041-6849-4f09-9811-6b7a80f67859",
    "outputId": "2bd5c96f-e0d5-4716-ac2e-3981a27e0550"
   },
   "outputs": [
    {
     "name": "stdout",
     "output_type": "stream",
     "text": [
      "Adding I'm A to []\n",
      "Adding I'm B to [\"I'm A\"]\n",
      "Adding I'm C to [\"I'm A\"]\n",
      "An error occurred: At key 'state': Can receive only one value per step. Use an Annotated key to handle multiple values.\n",
      "For troubleshooting, visit: https://python.langchain.com/docs/troubleshooting/errors/INVALID_CONCURRENT_GRAPH_UPDATE\n"
     ]
    }
   ],
   "source": [
    "from langgraph.errors import InvalidUpdateError\n",
    "try:\n",
    "    graph.invoke({\"state\": []})\n",
    "except InvalidUpdateError as e:\n",
    "    print(f\"An error occurred: {e}\")"
   ]
  },
  {
   "cell_type": "markdown",
   "id": "64cc329d-59fa-4c26-adcf-9122a824955d",
   "metadata": {
    "id": "64cc329d-59fa-4c26-adcf-9122a824955d"
   },
   "source": [
    "在使用扇出时，如果同一步里会向同一个状态键/通道写入多个值，就必须为该键配置“归约器（Reducer）”。\n",
    "\n",
    "在第 2 章我们提过，`operator.add` 是 Python 内置模块 operator 中的函数。\n",
    "\n",
    "当 `operator.add` 应用于列表时，它表示“列表拼接”（list concatenation），可把多个更新合并为一个列表。"
   ]
  },
  {
   "cell_type": "code",
   "execution_count": 9,
   "id": "8f1292ac-510a-4801-b2a3-e2c6d2d9582a",
   "metadata": {
    "colab": {
     "base_uri": "https://localhost:8080/",
     "height": 449
    },
    "id": "8f1292ac-510a-4801-b2a3-e2c6d2d9582a",
    "outputId": "5c2b027a-537b-47e3-d4d4-9b27b7b98402"
   },
   "outputs": [
    {
     "data": {
      "image/png": "[encoded data removed]",
      "text/plain": [
       "<IPython.core.display.Image object>"
      ]
     },
     "metadata": {},
     "output_type": "display_data"
    }
   ],
   "source": [
    "import operator\n",
    "from typing import Annotated\n",
    "\n",
    "class State(TypedDict):\n",
    "    # The operator.add reducer fn makes this append-only\n",
    "    state: Annotated[list, operator.add]\n",
    "\n",
    "# Add nodes\n",
    "builder = StateGraph(State)\n",
    "\n",
    "# Initialize each node with node_secret\n",
    "builder.add_node(\"a\", ReturnNodeValue(\"I'm A\"))\n",
    "builder.add_node(\"b\", ReturnNodeValue(\"I'm B\"))\n",
    "builder.add_node(\"c\", ReturnNodeValue(\"I'm C\"))\n",
    "builder.add_node(\"d\", ReturnNodeValue(\"I'm D\"))\n",
    "\n",
    "# Flow\n",
    "builder.add_edge(START, \"a\")\n",
    "builder.add_edge(\"a\", \"b\")\n",
    "builder.add_edge(\"a\", \"c\")\n",
    "builder.add_edge(\"b\", \"d\")\n",
    "builder.add_edge(\"c\", \"d\")\n",
    "builder.add_edge(\"d\", END)\n",
    "graph = builder.compile()\n",
    "\n",
    "display(Image(graph.get_graph().draw_mermaid_png()))"
   ]
  },
  {
   "cell_type": "code",
   "execution_count": null,
   "id": "ffbad231-fc1d-49b1-a9fc-ed9153fa3977",
   "metadata": {
    "id": "ffbad231-fc1d-49b1-a9fc-ed9153fa3977",
    "outputId": "70ece626-4195-4450-abd2-135cdc81f74c"
   },
   "outputs": [
    {
     "name": "stdout",
     "output_type": "stream",
     "text": [
      "Adding I'm A to []\n",
      "Adding I'm B to [\"I'm A\"]\n",
      "Adding I'm C to [\"I'm A\"]\n",
      "Adding I'm D to [\"I'm A\", \"I'm B\", \"I'm C\"]\n"
     ]
    },
    {
     "data": {
      "text/plain": [
       "{'state': [\"I'm A\", \"I'm B\", \"I'm C\", \"I'm D\"]}"
      ]
     },
     "execution_count": 8,
     "metadata": {},
     "output_type": "execute_result"
    }
   ],
   "source": [
    "graph.invoke({\"state\": []})"
   ]
  },
  {
   "cell_type": "markdown",
   "id": "bdf5baa2-cecd-44b6-b0c4-d258340783f8",
   "metadata": {
    "id": "bdf5baa2-cecd-44b6-b0c4-d258340783f8"
   },
   "source": [
    "现在可以看到：并行的 `b` 与 `c` 对 `state` 的更新被“追加（append）”到列表中，而不是互相覆盖。"
   ]
  },
  {
   "cell_type": "markdown",
   "id": "ed6fc7c7-198d-41be-867f-e77c93ba3217",
   "metadata": {
    "id": "ed6fc7c7-198d-41be-867f-e77c93ba3217"
   },
   "source": [
    "## 等待并行分支全部完成（Waiting for nodes to finish）\n",
    "\n",
    "考虑一个情形：某条并行路径比另一条路径多一步（更长）。"
   ]
  },
  {
   "cell_type": "code",
   "execution_count": 10,
   "id": "f50b5d4f-dd39-4c22-b623-e0abc23f9144",
   "metadata": {
    "colab": {
     "base_uri": "https://localhost:8080/",
     "height": 548
    },
    "id": "f50b5d4f-dd39-4c22-b623-e0abc23f9144",
    "outputId": "7dbac4f2-27d1-45d6-ac02-10cf37dea724"
   },
   "outputs": [
    {
     "data": {
      "image/png": "[encoded data removed]",
      "text/plain": [
       "<IPython.core.display.Image object>"
      ]
     },
     "metadata": {},
     "output_type": "display_data"
    }
   ],
   "source": [
    "builder = StateGraph(State)\n",
    "\n",
    "# Initialize each node with node_secret\n",
    "builder.add_node(\"a\", ReturnNodeValue(\"I'm A\"))\n",
    "builder.add_node(\"b\", ReturnNodeValue(\"I'm B\"))\n",
    "builder.add_node(\"b2\", ReturnNodeValue(\"I'm B2\"))\n",
    "builder.add_node(\"c\", ReturnNodeValue(\"I'm C\"))\n",
    "builder.add_node(\"d\", ReturnNodeValue(\"I'm D\"))\n",
    "\n",
    "# Flow\n",
    "builder.add_edge(START, \"a\")\n",
    "builder.add_edge(\"a\", \"b\")\n",
    "builder.add_edge(\"a\", \"c\")\n",
    "builder.add_edge(\"b\", \"b2\")\n",
    "builder.add_edge([\"b2\", \"c\"], \"d\")\n",
    "builder.add_edge(\"d\", END)\n",
    "graph = builder.compile()\n",
    "\n",
    "display(Image(graph.get_graph().draw_mermaid_png()))"
   ]
  },
  {
   "cell_type": "markdown",
   "id": "11640e6f-ac62-4ad4-89d9-7f6f9b56bf7a",
   "metadata": {
    "id": "11640e6f-ac62-4ad4-89d9-7f6f9b56bf7a"
   },
   "source": [
    "在这个例子里，`b`、`b2` 与 `c` 同属于同一个步骤（step）。\n",
    "\n",
    "因此，图会等待它们全部执行完毕，才会推进到下一步 `d`。"
   ]
  },
  {
   "cell_type": "code",
   "execution_count": 11,
   "id": "fafda930-e75b-410f-ba93-eb5fc0219303",
   "metadata": {
    "colab": {
     "base_uri": "https://localhost:8080/"
    },
    "id": "fafda930-e75b-410f-ba93-eb5fc0219303",
    "outputId": "111a0d74-89f8-42c8-8b04-f96f8f4f1c47"
   },
   "outputs": [
    {
     "name": "stdout",
     "output_type": "stream",
     "text": [
      "Adding I'm A to []\n",
      "Adding I'm B to [\"I'm A\"]\n",
      "Adding I'm C to [\"I'm A\"]\n",
      "Adding I'm B2 to [\"I'm A\", \"I'm B\", \"I'm C\"]\n",
      "Adding I'm D to [\"I'm A\", \"I'm B\", \"I'm C\", \"I'm B2\"]\n"
     ]
    },
    {
     "data": {
      "text/plain": [
       "{'state': [\"I'm A\", \"I'm B\", \"I'm C\", \"I'm B2\", \"I'm D\"]}"
      ]
     },
     "execution_count": 11,
     "metadata": {},
     "output_type": "execute_result"
    }
   ],
   "source": [
    "graph.invoke({\"state\": []})"
   ]
  },
  {
   "cell_type": "markdown",
   "id": "6610a2e3-b053-47e8-bf4e-0968dfaa0a5d",
   "metadata": {
    "id": "6610a2e3-b053-47e8-bf4e-0968dfaa0a5d"
   },
   "source": [
    "## 控制同一步内的更新顺序（Setting the order of state updates）\n",
    "\n",
    "注意：在同一个步骤内，更新的“应用次序”并非由我们显式控制。\n",
    "\n",
    "更准确地说，LangGraph 会基于图的拓扑关系给出一个确定性的次序，但这个次序**不受我们直接控制**。\n",
    "\n",
    "上面输出中可以看到：`c` 的更新先于 `b2` 生效。\n",
    "\n",
    "如果需要稳定的顺序，我们可以自定义一个“归约器（Reducer）”，例如对合并后的列表进行排序。"
   ]
  },
  {
   "cell_type": "code",
   "execution_count": 12,
   "id": "24788e73-0950-432e-ad32-7987ea076529",
   "metadata": {
    "colab": {
     "base_uri": "https://localhost:8080/",
     "height": 548
    },
    "id": "24788e73-0950-432e-ad32-7987ea076529",
    "outputId": "9e3be6dc-4b4b-4723-c327-fccb1f2846ae"
   },
   "outputs": [
    {
     "data": {
      "image/png": "[encoded data removed]",
      "text/plain": [
       "<IPython.core.display.Image object>"
      ]
     },
     "metadata": {},
     "output_type": "display_data"
    }
   ],
   "source": [
    "def sorting_reducer(left, right):\n",
    "    \"\"\" Combines and sorts the values in a list\"\"\"\n",
    "    if not isinstance(left, list):\n",
    "        left = [left]\n",
    "\n",
    "    if not isinstance(right, list):\n",
    "        right = [right]\n",
    "\n",
    "    return sorted(left + right, reverse=False)\n",
    "\n",
    "class State(TypedDict):\n",
    "    # sorting_reducer will sort the values in state\n",
    "    state: Annotated[list, sorting_reducer]\n",
    "\n",
    "# Add nodes\n",
    "builder = StateGraph(State)\n",
    "\n",
    "# Initialize each node with node_secret\n",
    "builder.add_node(\"a\", ReturnNodeValue(\"I'm A\"))\n",
    "builder.add_node(\"b\", ReturnNodeValue(\"I'm B\"))\n",
    "builder.add_node(\"b2\", ReturnNodeValue(\"I'm B2\"))\n",
    "builder.add_node(\"c\", ReturnNodeValue(\"I'm C\"))\n",
    "builder.add_node(\"d\", ReturnNodeValue(\"I'm D\"))\n",
    "\n",
    "# Flow\n",
    "builder.add_edge(START, \"a\")\n",
    "builder.add_edge(\"a\", \"b\")\n",
    "builder.add_edge(\"a\", \"c\")\n",
    "builder.add_edge(\"b\", \"b2\")\n",
    "builder.add_edge([\"b2\", \"c\"], \"d\")\n",
    "builder.add_edge(\"d\", END)\n",
    "graph = builder.compile()\n",
    "\n",
    "display(Image(graph.get_graph().draw_mermaid_png()))"
   ]
  },
  {
   "cell_type": "code",
   "execution_count": 14,
   "id": "607dba2e-f9f0-4bc7-8ba6-684521a49bdc",
   "metadata": {
    "colab": {
     "base_uri": "https://localhost:8080/"
    },
    "id": "607dba2e-f9f0-4bc7-8ba6-684521a49bdc",
    "outputId": "2820dd6c-0318-44a6-b603-e67452e16fc9"
   },
   "outputs": [
    {
     "name": "stdout",
     "output_type": "stream",
     "text": [
      "Adding I'm A to []\n",
      "Adding I'm B to [\"I'm A\"]\n",
      "Adding I'm C to [\"I'm A\"]\n",
      "Adding I'm B2 to [\"I'm A\", \"I'm B\", \"I'm C\"]\n",
      "Adding I'm D to [\"I'm A\", \"I'm B\", \"I'm B2\", \"I'm C\"]\n"
     ]
    },
    {
     "data": {
      "text/plain": [
       "{'state': [\"I'm A\", \"I'm B\", \"I'm B2\", \"I'm C\", \"I'm D\"]}"
      ]
     },
     "execution_count": 14,
     "metadata": {},
     "output_type": "execute_result"
    }
   ],
   "source": [
    "graph.invoke({\"state\": []})"
   ]
  },
  {
   "cell_type": "markdown",
   "id": "fb1714c0-e881-48e7-bcb8-a60016f0485e",
   "metadata": {
    "id": "fb1714c0-e881-48e7-bcb8-a60016f0485e"
   },
   "source": [
    "现在，归约器会对合并后的 `state` 值进行排序！\n",
    "\n",
    "上述 `sorting_reducer` 是“全局排序”的示例。你也可以采用更工程化的方式：\n",
    "\n",
    "1. 在并行步骤中，先把各分支输出写入到状态里的一个临时字段；\n",
    "2. 在并行步骤之后，增加一个“汇聚（sink）”节点，统一读取临时字段并按需要的规则组合与排序；\n",
    "3. 合并完成后，清理临时字段，保证状态整洁。\n",
    "\n",
    "更多细节参见文档：[稳定排序（stable sorting）](https://langchain-ai.github.io/langgraph/how-tos/branching/#stable-sorting)。\n"
   ]
  },
  {
   "cell_type": "markdown",
   "id": "34e0750b-e6af-40d9-835c-c664da5a2d3b",
   "metadata": {
    "id": "34e0750b-e6af-40d9-835c-c664da5a2d3b"
   },
   "source": [
    "## 结合大模型（LLM）\n",
    "\n",
    "我们来做一个更贴近实战的示例：\n",
    "\n",
    "目标：从两个外部来源（Wikipedia 与 Web 搜索）收集上下文，再让 LLM 基于这些上下文来回答问题。"
   ]
  },
  {
   "cell_type": "code",
   "execution_count": 15,
   "id": "e1e9d03c-cb41-415c-862d-c9616d5a2d07",
   "metadata": {
    "id": "e1e9d03c-cb41-415c-862d-c9616d5a2d07"
   },
   "outputs": [],
   "source": [
    "from langchain_openai import ChatOpenAI\n",
    "llm = ChatOpenAI(model=\"gpt-4o\", temperature=0)"
   ]
  },
  {
   "cell_type": "code",
   "execution_count": 16,
   "id": "0f75cc78-d1a1-47a5-8648-bf5a79c883de",
   "metadata": {
    "id": "0f75cc78-d1a1-47a5-8648-bf5a79c883de"
   },
   "outputs": [],
   "source": [
    "class State(TypedDict):\n",
    "    question: str\n",
    "    answer: str\n",
    "    context: Annotated[list, operator.add]"
   ]
  },
  {
   "cell_type": "markdown",
   "id": "9e714ea8-095c-461a-98bc-ee782a84ef5c",
   "metadata": {
    "id": "9e714ea8-095c-461a-98bc-ee782a84ef5c"
   },
   "source": [
    "你可以尝试不同的 Web 搜索工具。[Tavily](https://app.tavily.com/home) 是一个不错的选择。使用前请确保已设置环境变量 `TAVILY_API_KEY`。"
   ]
  },
  {
   "cell_type": "code",
   "execution_count": 17,
   "id": "c8bb519a-d08a-4ec7-8f0b-2ce6a9bf7342",
   "metadata": {
    "colab": {
     "base_uri": "https://localhost:8080/"
    },
    "id": "c8bb519a-d08a-4ec7-8f0b-2ce6a9bf7342",
    "outputId": "8e3533b9-0102-4c7e-e5a2-5bf2d2adc003"
   },
   "outputs": [
    {
     "name": "stdout",
     "output_type": "stream",
     "text": [
      "TAVILY_API_KEY: ··········\n"
     ]
    }
   ],
   "source": [
    "import os, getpass\n",
    "def _set_env(var: str):\n",
    "    if not os.environ.get(var):\n",
    "        os.environ[var] = getpass.getpass(f\"{var}: \")\n",
    "_set_env(\"TAVILY_API_KEY\")"
   ]
  },
  {
   "cell_type": "code",
   "execution_count": 28,
   "id": "bfb4f56c-3334-4927-8ed8-62fd384ee43e",
   "metadata": {
    "colab": {
     "base_uri": "https://localhost:8080/",
     "height": 350
    },
    "id": "bfb4f56c-3334-4927-8ed8-62fd384ee43e",
    "outputId": "39e2d19a-ad61-4aca-9fc0-25b3b39e15f5"
   },
   "outputs": [
    {
     "data": {
      "image/png": "[encoded data removed]",
      "text/plain": [
       "<IPython.core.display.Image object>"
      ]
     },
     "metadata": {},
     "output_type": "display_data"
    }
   ],
   "source": [
    "from langchain_core.messages import HumanMessage, SystemMessage\n",
    "\n",
    "from langchain_community.document_loaders import WikipediaLoader\n",
    "from langchain_community.tools import TavilySearchResults\n",
    "\n",
    "# 定义一个节点函数，用于从 Web 搜索中检索文档\n",
    "def search_web(state):\n",
    "\n",
    "    \"\"\" Retrieve docs from web search \"\"\"\n",
    "\n",
    "    # 初始化 Tavily 搜索工具，最多返回 3 个结果\n",
    "    tavily_search = TavilySearchResults(max_results=3)\n",
    "    # 使用状态中的问题进行搜索\n",
    "    search_docs = tavily_search.invoke(state['question'])\n",
    "\n",
    "     # 格式化搜索结果，将每个文档的内容和链接包装在 <Document> 标签中\n",
    "    formatted_search_docs = \"\\n\\n---\\n\\n\".join(\n",
    "        [\n",
    "            f'<Document href=\"{doc[\"url\"]}\">\\n{doc[\"content\"]}\\n</Document>'\n",
    "            for doc in search_docs\n",
    "        ]\n",
    "    )\n",
    "\n",
    "    print(\"Formatted Web Docs:\")\n",
    "    print(formatted_search_docs)\n",
    "\n",
    "    # 返回一个字典，将格式化后的文档列表作为 'context' 键的值\n",
    "    return {\"context\": [formatted_search_docs]}\n",
    "\n",
    "# 定义一个节点函数，用于从 Wikipedia 检索文档\n",
    "def search_wikipedia(state):\n",
    "\n",
    "    \"\"\" Retrieve docs from wikipedia \"\"\"\n",
    "\n",
    "    # 初始化 Wikipedia 加载器，最多加载 2 个文档\n",
    "    search_docs = WikipediaLoader(query=state['question'],\n",
    "                                  load_max_docs=2).load()\n",
    "\n",
    "     # 格式化搜索结果，将每个文档的内容、来源和页码包装在 <Document> 标签中\n",
    "    formatted_search_docs = \"\\n\\n---\\n\\n\".join(\n",
    "        [\n",
    "            f'<Document source=\"{doc.metadata[\"source\"]}\" page=\"{doc.metadata.get(\"page\", \"\")}\">\\n{doc.page_content}\\n</Document>'\n",
    "            for doc in search_docs\n",
    "        ]\n",
    "    )\n",
    "\n",
    "    print(\"Formatted Wikipedia Docs:\")\n",
    "    print(formatted_search_docs)\n",
    "\n",
    "    # 返回一个字典，将格式化后的文档列表作为 'context' 键的值\n",
    "    return {\"context\": [formatted_search_docs]}\n",
    "\n",
    "# 定义一个节点函数，用于根据上下文生成答案\n",
    "def generate_answer(state):\n",
    "\n",
    "    \"\"\" Node to answer a question \"\"\"\n",
    "\n",
    "    # 从状态中获取上下文和问题\n",
    "    context = state[\"context\"]\n",
    "    question = state[\"question\"]\n",
    "\n",
    "    # 定义用于生成答案的模板\n",
    "    # answer_template = \"\"\"Answer the question {question} using this context: {context}\"\"\"\n",
    "    answer_template = \"\"\"使用此上下文:{context} 回答问题 {question} \"\"\"\n",
    "    # 使用问题和上下文格式化指令\n",
    "    answer_instructions = answer_template.format(question=question,\n",
    "                                                       context=context)\n",
    "\n",
    "    # 调用 LLM 模型生成答案，输入包括系统消息和人类消息\n",
    "    answer = llm.invoke([SystemMessage(content=answer_instructions)]+[HumanMessage(content=f\"Answer the question.\")])\n",
    "\n",
    "    # 返回一个字典，将生成的答案作为 'answer' 键的值\n",
    "    return {\"answer\": answer}\n",
    "\n",
    "# 初始化状态图，状态类型为 State\n",
    "builder = StateGraph(State)\n",
    "\n",
    "# 添加节点到图中，每个节点对应一个上面定义的函数\n",
    "builder.add_node(\"search_web\",search_web)\n",
    "builder.add_node(\"search_wikipedia\", search_wikipedia)\n",
    "builder.add_node(\"generate_answer\", generate_answer)\n",
    "\n",
    "# 定义图的流程（边）\n",
    "# 从开始节点 START 同时连接到 \"search_wikipedia\" 和 \"search_web\"，实现并行执行\n",
    "builder.add_edge(START, \"search_wikipedia\")\n",
    "builder.add_edge(START, \"search_web\")\n",
    "# 从 \"search_wikipedia\" 连接到 \"generate_answer\"\n",
    "builder.add_edge(\"search_wikipedia\", \"generate_answer\")\n",
    "# 从 \"search_web\" 连接到 \"generate_answer\"\n",
    "builder.add_edge(\"search_web\", \"generate_answer\")\n",
    "# 从 \"generate_answer\" 连接到结束节点 END\n",
    "builder.add_edge(\"generate_answer\", END)\n",
    "# 编译图，使其可执行\n",
    "graph = builder.compile()\n",
    "\n",
    "# 绘制图的 Mermaid 图并显示\n",
    "display(Image(graph.get_graph().draw_mermaid_png()))"
   ]
  },
  {
   "cell_type": "code",
   "execution_count": 29,
   "id": "fa544ca0-10af-491e-ad7a-477d004413eb",
   "metadata": {
    "colab": {
     "base_uri": "https://localhost:8080/",
     "height": 1000
    },
    "id": "fa544ca0-10af-491e-ad7a-477d004413eb",
    "outputId": "aed6d249-6128-4a93-8503-7f6c33ac98a8"
   },
   "outputs": [
    {
     "name": "stdout",
     "output_type": "stream",
     "text": [
      "Formatted Wikipedia Docs:\n",
      "\n",
      "Formatted Web Docs:\n",
      "<Document href=\"https://nvidianews.nvidia.com/news/nvidia-announces-financial-results-for-second-quarter-fiscal-2026\">\n",
      "NVIDIA (NASDAQ: NVDA) today reported revenue for the second quarter ended July 27, 2025, of $46.7 billion, up 6% from the previous quarter and up 56% from a year ago. NVIDIA’s Blackwell Data Center revenue grew 17% sequentially.\n",
      "\n",
      "There were no H20 sales to China-based customers in the second quarter.NVIDIA benefited from a $180 million release of previously reserved H20 inventory, from approximately $650 million in unrestricted H20 sales to a customer outside of China. [...] During the first half of fiscal 2026, NVIDIA returned $24.3 billion to shareholders in the form of shares repurchased and cash dividends. As of the end of the second quarter, the company had $14.7 billion remaining under its share repurchase authorization. On August 26, 2025, the Board of Directors approved an additional $60.0 billion to the Company’s share repurchase authorization, without expiration. [...] Weighted average shares used in per share computation:\n",
      "Basic 24,366 24,578 24,404 24,599\n",
      "Diluted 24,532 24,848 24,571 24,869\n",
      "\n",
      "NVIDIA CORPORATION\n",
      "CONDENSED CONSOLIDATED BALANCE SHEETS\n",
      "(In millions)\n",
      "(Unaudited)\n",
      "\n",
      "July 27,January 26,\n",
      "20252025\n",
      "ASSETS\n",
      "\n",
      "Current assets:\n",
      "Cash, cash equivalents and marketable securities$56,791$43,210\n",
      "Accounts receivable, net 27,808 23,065\n",
      "Inventories 14,962 10,080\n",
      "Prepaid expenses and other current assets 2,658 3,771\n",
      "Total current assets102,21980,126\n",
      "</Document>\n",
      "\n",
      "---\n",
      "\n",
      "<Document href=\"https://investor.nvidia.com/financial-info/financial-reports/\">\n",
      "Revenue of $46.7 billion, up 6% from Q1 and up 56% from a year ago\n",
      "   Data Center revenue of $41.1 billion, up 5% from Q1 and up 56% from a year ago\n",
      "   Blackwell Data Center revenue grew 17% sequentially\n",
      "\n",
      "SANTA CLARA, Calif., Aug. 27, 2025 (GLOBE NEWSWIRE) -- NVIDIA (NASDAQ: NVDA) today reported revenue for the second quarter ended July 27, 2025, of $46.7 billion, up 6% from the previous quarter and up 56% from a year ago. NVIDIA’s Blackwell Data Center revenue grew 17% sequentially.\n",
      "</Document>\n",
      "\n",
      "---\n",
      "\n",
      "<Document href=\"https://www.ofweek.com/ai/2025-09/ART-201713-8420-30670505.html\">\n",
      "登录\n",
      " 注册\n",
      "\n",
      "- 个人中心|\n",
      "  退出\n",
      "\n",
      "当前位置：\n",
      "OFweek 人工智能网\n",
      "  >  \n",
      "大数据\n",
      "  >  正文\n",
      "\n",
      "英伟达 : 宇宙第一股，不够炸裂就是罪？\n",
      "\n",
      "2025-09-11 16:58\n",
      "\n",
      "英伟达 (NVDA.O)北京时间8月28日凌晨，美股盘后发布 2026财年第二季度财报（截至 2025年7月），具体内容如下：\n",
      "\n",
      "1.核心经营指标：总收入467亿美元，市场预期（461亿美元），其中季度环比增长27亿美元，主要是受数据中心业务和游戏业务的带动。毛利率72.4%，市场预期（71.9%）。\n",
      "\n",
      "公司上季度毛利率出现明显滑落，主要是受H20芯片计提存货减值大约有45亿左右的影响。若剔除该突发事件影响，上季度的毛利率将在71%附近，本季度继续提升，主要是GB系列量产增加的推动。\n",
      "\n",
      "2.数据中心：本季度收入411亿美元，同比增长56.4%，其中本季度大约有6.5亿美元的H20销往中国以外的其他地区。受H20被禁事件的影响，本季度的收入中没有H20销往中国地区的收入贡献。 [...] 本季度增长主要来自于数据中心和游戏业务带动，其中游戏业务在RTX50系列产品带动下表现超预期；而受H20禁令影响，数据中心业务环比仍有20亿美元的增长，业务表现符合市场预期。\n",
      "\n",
      "展望下季度，公司给出了540亿美元的收入指引，其中依然没有包含H20销往中国的部分。下季度收入环比增长约73亿美元，其中主要来自于GB系列量产增加的带动。\n",
      "\n",
      "2.2 毛利率（GAAP）：2026财年第二季度（即2Q25）英伟达实现毛利率（GAAP）72.4%，市场预期（71.9%）。公司上季度毛利率的“闪崩”，主要H20禁令的影响，公司计提了将近45亿美元的存货减计等相关费用。\n",
      "\n",
      "如不考虑H20突发事件的影响，将45亿美元存货减计加回来后，公司上季度的毛利率将重回71%附近。本季度毛利率实际上仍是环比提升的（71%->72.4%），主要是受GB系列量产增加以及供应链成本减少的影响。\n",
      "\n",
      "对于下季度公司预期毛利率(GAAP)为73.3%，市场预期（72.1%）。对于H20事件的影响，公司在此前完成了存货减计，对后续毛利率影响较小。随着GB系列产品量产增加的带动，公司预计年底毛利率将回升至75%左右。\n",
      "</Document>\n"
     ]
    },
    {
     "data": {
      "application/vnd.google.colaboratory.intrinsic+json": {
       "type": "string"
      },
      "text/plain": [
       "\"Nvidia's financial performance for the second quarter of 2025 was strong. The company reported revenue of $46.7 billion, which was up 6% from the previous quarter and up 56% from a year ago. The Blackwell Data Center revenue grew 17% sequentially. Nvidia's data center revenue was $41.1 billion, up 5% from the previous quarter and up 56% from a year ago. The company achieved a gross margin of 72.4%, exceeding market expectations of 71.9%. Despite the impact of the H20 chip ban, which led to a significant inventory write-down, Nvidia's revenue growth was driven by its data center and gaming businesses. The company also returned $24.3 billion to shareholders through share repurchases and cash dividends during the first half of fiscal 2026.\""
      ]
     },
     "execution_count": 29,
     "metadata": {},
     "output_type": "execute_result"
    }
   ],
   "source": [
    "result = graph.invoke({\"question\": \"Nvidia 2025年第二季度财报表现如何？\"})\n",
    "result['answer'].content"
   ]
  },
  {
   "cell_type": "markdown",
   "id": "3dbbecab-80eb-4f0c-b43a-45542fc0ae9c",
   "metadata": {
    "id": "3dbbecab-80eb-4f0c-b43a-45542fc0ae9c"
   },
   "source": [
    "## 结合 LangGraph API 使用\n",
    "\n",
    "**⚠️ 说明**\n",
    "\n",
    "自视频录制后，Studio 已更新为可在本地运行并通过浏览器访问。推荐使用本地方式（而不是视频中展示的桌面应用）。\n",
    "\n",
    "- 本地开发服务器文档：[链接](https://langchain-ai.github.io/langgraph/concepts/langgraph_studio/#local-development-server)\n",
    "- 如何启动本地 Studio：[链接](https://langchain-ai.github.io/langgraph/how-tos/local-studio/#run-the-development-server)\n",
    "\n",
    "在本模块的 `/studio` 目录下，执行：\n",
    "\n",
    "```\n",
    "langgraph dev\n",
    "```\n",
    "\n",
    "启动后你将看到类似输出：\n",
    "```\n",
    "- 🚀 API: http://127.0.0.1:2024\n",
    "- 🎨 Studio UI: https://smith.langchain.com/studio/?baseUrl=http://127.0.0.1:2024\n",
    "- 📚 API Docs: http://127.0.0.1:2024/docs\n",
    "```\n",
    "\n",
    "在浏览器打开 Studio UI：`https://smith.langchain.com/studio/?baseUrl=http://127.0.0.1:2024`。"
   ]
  },
  {
   "cell_type": "code",
   "execution_count": null,
   "id": "4bc8ad8d-1365-4801-a8a5-b85cd4965119",
   "metadata": {
    "id": "4bc8ad8d-1365-4801-a8a5-b85cd4965119"
   },
   "outputs": [],
   "source": [
    "if 'google.colab' in str(get_ipython()):\n",
    "    raise Exception(\"Unfortunately LangGraph Studio is currently not supported on Google Colab\")"
   ]
  },
  {
   "cell_type": "code",
   "execution_count": null,
   "id": "23919dc9-27d8-4d10-b91d-24acdf8c0fb9",
   "metadata": {
    "id": "23919dc9-27d8-4d10-b91d-24acdf8c0fb9"
   },
   "outputs": [],
   "source": [
    "from langgraph_sdk import get_client\n",
    "client = get_client(url=\"http://127.0.0.1:2024\")"
   ]
  },
  {
   "cell_type": "code",
   "execution_count": null,
   "id": "ff35e68f-4017-4f45-93cf-ddbb355a0bc1",
   "metadata": {
    "id": "ff35e68f-4017-4f45-93cf-ddbb355a0bc1",
    "outputId": "55c3216e-03dd-4a1c-c051-cc2df4b4aded"
   },
   "outputs": [
    {
     "name": "stdout",
     "output_type": "stream",
     "text": [
      "Nvidia's Q2 2024 earnings were strong, showcasing record revenue and a robust performance in its data center division. The company reported revenue of $30.0 billion, which was up 15% from the previous quarter and up 122% from a year ago. GAAP earnings per diluted share were $0.67, up 12% from the previous quarter and up 168% from a year ago. Non-GAAP earnings per diluted share were $0.68, up 11% from the previous quarter and up 152% from a year ago. However, the gross margin saw a decline from 78% in Q1 to 75% in Q2, which could indicate higher production costs or more aggressive pricing strategies. Despite this, Nvidia remains a dominant force in the AI chip sector.\n"
     ]
    }
   ],
   "source": [
    "thread = await client.threads.create()\n",
    "input_question = {\"question\": \"How were Nvidia Q2 2024 earnings?\"}\n",
    "async for event in client.runs.stream(thread[\"thread_id\"],\n",
    "                                      assistant_id=\"parallelization\",\n",
    "                                      input=input_question,\n",
    "                                      stream_mode=\"values\"):\n",
    "    # Check if answer has been added to state\n",
    "    if event.data is not None:\n",
    "        answer = event.data.get('answer', None)\n",
    "        if answer:\n",
    "            print(answer['content'])"
   ]
  },
  {
   "cell_type": "code",
   "execution_count": null,
   "id": "54da0234-bddb-4c5b-9b93-b75b7c824d3b",
   "metadata": {
    "id": "54da0234-bddb-4c5b-9b93-b75b7c824d3b"
   },
   "outputs": [],
   "source": []
  }
 ],
 "metadata": {
  "colab": {
   "include_colab_link": true,
   "provenance": []
  },
  "kernelspec": {
   "display_name": "Python 3 (ipykernel)",
   "language": "python",
   "name": "python3"
  },
  "language_info": {
   "codemirror_mode": {
    "name": "ipython",
    "version": 3
   },
   "file_extension": ".py",
   "mimetype": "text/x-python",
   "name": "python",
   "nbconvert_exporter": "python",
   "pygments_lexer": "ipython3",
   "version": "3.11.13"
  }
 },
 "nbformat": 4,
 "nbformat_minor": 5
}