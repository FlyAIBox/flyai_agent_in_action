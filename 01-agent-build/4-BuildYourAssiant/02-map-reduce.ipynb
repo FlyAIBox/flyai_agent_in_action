{
 "cells": [
  {
   "cell_type": "markdown",
   "id": "env_config_overview",
   "metadata": {
    "jp-MarkdownHeadingCollapsed": true
   },
   "source": [
    "### 🔧 环境配置和检查\n",
    "\n",
    "#### 概述\n",
    "\n",
    "本教程需要特定的环境配置以确保最佳学习体验。以下配置将帮助您：\n",
    "\n",
    "- 使用统一的conda环境：激活统一的学习环境\n",
    "- 通过国内镜像源快速安装依赖：配置pip使用清华镜像源\n",
    "- 加速模型下载：设置HuggingFace镜像代理\n",
    "- 检查系统配置：检查硬件和软件配置\n",
    "\n",
    "#### 配置\n",
    "\n",
    "- **所需环境及其依赖已经部署好**\n",
    "- 在`Notebook`右上角选择`jupyter内核`为`python(flyai_agent_in_action)`，即可执行下方代码"
   ]
  },
  {
   "cell_type": "code",
   "execution_count": 1,
   "id": "env_conda_activate",
   "metadata": {},
   "outputs": [
    {
     "name": "stdout",
     "output_type": "stream",
     "text": [
      "=========================================\n",
      "== Conda 环境检查报告 (仅针对当前 Bash 子进程) ==\n",
      "=========================================\n",
      "✅ 当前单元格已成功激活到 flyai_agent_in_action 环境。\n",
      "✅ 正在使用的环境路径: /workspace/envs/flyai_agent_in_action\n",
      "\n",
      "💡 提示: 后续的 Python 单元格将使用 Notebook 当前选择的 Jupyter 内核。\n",
      "   如果需要后续单元格也使用此环境，请执行以下操作:\n",
      "   1. 检查 Notebook 右上角是否已选择 'python(flyai_agent_in_action)'。\n",
      "=========================================\n"
     ]
    }
   ],
   "source": [
    "%%script bash\n",
    "\n",
    "# 1. 激活 conda 环境 (仅对当前单元格有效)\n",
    "eval \"$(conda shell.bash hook)\"\n",
    "conda activate flyai_agent_in_action\n",
    "\n",
    "echo \"=========================================\"\n",
    "echo \"== Conda 环境检查报告 (仅针对当前 Bash 子进程) ==\"\n",
    "echo \"=========================================\"\n",
    "\n",
    "# 2. 检查当前激活的环境\n",
    "CURRENT_ENV_NAME=$(basename $CONDA_PREFIX)\n",
    "\n",
    "if [ \"$CURRENT_ENV_NAME\" = \"flyai_agent_in_action\" ]; then\n",
    "    echo \"✅ 当前单元格已成功激活到 flyai_agent_in_action 环境。\"\n",
    "    echo \"✅ 正在使用的环境路径: $CONDA_PREFIX\"\n",
    "    echo \"\"\n",
    "    echo \"💡 提示: 后续的 Python 单元格将使用 Notebook 当前选择的 Jupyter 内核。\"\n",
    "    echo \"   如果需要后续单元格也使用此环境，请执行以下操作:\"\n",
    "    echo \"   1. 检查 Notebook 右上角是否已选择 'python(flyai_agent_in_action)'。\"\n",
    "else\n",
    "    echo \"❌ 激活失败或环境名称不匹配。当前环境: $CURRENT_ENV_NAME\"\n",
    "    echo \"\"\n",
    "    echo \"⚠️ 严重提示: 建议将 Notebook 的 Jupyter **内核 (Kernel)** 切换为 'python(flyai_agent_in_action)'。\"\n",
    "    echo \"   (通常位于 Notebook 右上角或 '内核' 菜单中)\"\n",
    "    echo \"\"\n",
    "    echo \"📚 备用方法 (不推荐): 如果无法切换内核，则必须在**每个**代码单元格的头部重复以下命令:\"\n",
    "    echo \"\"\n",
    "    echo \"%%script bash\"\n",
    "    echo \"# 必须在每个单元格都执行\"\n",
    "    echo \"eval \\\"\\$(conda shell.bash hook)\\\"\"\n",
    "    echo \"conda activate flyai_agent_in_action\"\n",
    "fi\n",
    "\n",
    "echo \"=========================================\" "
   ]
  },
  {
   "cell_type": "code",
   "execution_count": 2,
   "id": "env_pip_config",
   "metadata": {},
   "outputs": [
    {
     "name": "stdout",
     "output_type": "stream",
     "text": [
      "Writing to /root/.config/pip/pip.conf\n",
      "Note: you may need to restart the kernel to use updated packages.\n",
      "global.index-url='https://pypi.tuna.tsinghua.edu.cn/simple'\n",
      ":env:.target=''\n",
      "Note: you may need to restart the kernel to use updated packages.\n"
     ]
    }
   ],
   "source": [
    "# 2. 设置pip 为清华源\n",
    "%pip config set global.index-url https://pypi.tuna.tsinghua.edu.cn/simple\n",
    "%pip config list\n"
   ]
  },
  {
   "cell_type": "code",
   "execution_count": 3,
   "id": "env_hf_proxy",
   "metadata": {},
   "outputs": [
    {
     "name": "stdout",
     "output_type": "stream",
     "text": [
      "env: HF_ENDPOINT=https://hf-mirror.com\n",
      "https://hf-mirror.com\n"
     ]
    }
   ],
   "source": [
    "# 3. 设置HuggingFace代理\n",
    "%env HF_ENDPOINT=https://hf-mirror.com\n",
    "# 验证：使用shell命令检查\n",
    "!echo $HF_ENDPOINT"
   ]
  },
  {
   "cell_type": "code",
   "execution_count": 4,
   "id": "env_system_check",
   "metadata": {},
   "outputs": [
    {
     "name": "stdout",
     "output_type": "stream",
     "text": [
      "Looking in indexes: https://pypi.tuna.tsinghua.edu.cn/simple\n",
      "Requirement already satisfied: pandas==2.2.2 in /workspace/envs/flyai_agent_in_action/lib/python3.12/site-packages (2.2.2)\n",
      "Requirement already satisfied: tabulate==0.9.0 in /workspace/envs/flyai_agent_in_action/lib/python3.12/site-packages (0.9.0)\n",
      "Requirement already satisfied: numpy>=1.26.0 in /workspace/envs/flyai_agent_in_action/lib/python3.12/site-packages (from pandas==2.2.2) (2.3.3)\n",
      "Requirement already satisfied: python-dateutil>=2.8.2 in /workspace/envs/flyai_agent_in_action/lib/python3.12/site-packages (from pandas==2.2.2) (2.9.0.post0)\n",
      "Requirement already satisfied: pytz>=2020.1 in /workspace/envs/flyai_agent_in_action/lib/python3.12/site-packages (from pandas==2.2.2) (2025.2)\n",
      "Requirement already satisfied: tzdata>=2022.7 in /workspace/envs/flyai_agent_in_action/lib/python3.12/site-packages (from pandas==2.2.2) (2025.2)\n",
      "Requirement already satisfied: six>=1.5 in /workspace/envs/flyai_agent_in_action/lib/python3.12/site-packages (from python-dateutil>=2.8.2->pandas==2.2.2) (1.17.0)\n",
      "\u001b[33mWARNING: Running pip as the 'root' user can result in broken permissions and conflicting behaviour with the system package manager, possibly rendering your system unusable. It is recommended to use a virtual environment instead: https://pip.pypa.io/warnings/venv. Use the --root-user-action option if you know what you are doing and want to suppress this warning.\u001b[0m\u001b[33m\n",
      "\u001b[0mNote: you may need to restart the kernel to use updated packages.\n",
      "### 环境信息\n",
      "| 项目         | 信息                                                                  |\n",
      "|:-------------|:----------------------------------------------------------------------|\n",
      "| 操作系统     | Linux 5.15.0-126-generic                                              |\n",
      "| CPU 信息     | Intel(R) Xeon(R) Platinum 8468 (48 physical cores, 192 logical cores) |\n",
      "| 内存信息     | 2015.36 GB (Available: 1867.99 GB)                                    |\n",
      "| GPU 信息     | No GPU found (checked nvidia-smi, lshw not found)                     |\n",
      "| CUDA 信息    | 12.6                                                                  |\n",
      "| Python 版本  | 3.12.11                                                               |\n",
      "| Conda 版本   | conda 25.7.0                                                          |\n",
      "| 物理磁盘空间 | Total: 2014.78 GB, Used: 651.77 GB, Free: 1260.59 GB                  |\n"
     ]
    }
   ],
   "source": [
    "# 🔍 环境信息检查脚本\n",
    "#\n",
    "# 本脚本的作用：\n",
    "# 1. 安装 pandas 库用于数据表格展示\n",
    "# 2. 检查系统的各项配置信息\n",
    "# 3. 生成详细的环境报告表格\n",
    "#\n",
    "# 对于初学者来说，这个步骤帮助您：\n",
    "# - 了解当前运行环境的硬件配置\n",
    "# - 确认是否满足模型运行的最低要求\n",
    "# - 学习如何通过代码获取系统信息\n",
    "\n",
    "# 安装 pandas 库 - 用于创建和展示数据表格\n",
    "# pandas 是 Python 中最流行的数据处理和分析库\n",
    "%pip install pandas==2.2.2 tabulate==0.9.0\n",
    "\n",
    "import platform # 导入 platform 模块以获取系统信息\n",
    "import os # 导入 os 模块以与操作系统交互\n",
    "import subprocess # 导入 subprocess 模块以运行外部命令\n",
    "import pandas as pd # 导入 pandas 模块，通常用于数据处理，这里用于创建表格\n",
    "import shutil # 导入 shutil 模块以获取磁盘空间信息\n",
    "\n",
    "# 获取 CPU 信息的函数，包括核心数量\n",
    "def get_cpu_info():\n",
    "    cpu_info = \"\" # 初始化 CPU 信息字符串\n",
    "    physical_cores = \"N/A\"\n",
    "    logical_cores = \"N/A\"\n",
    "\n",
    "    if platform.system() == \"Windows\": # 如果是 Windows 系统\n",
    "        cpu_info = platform.processor() # 使用 platform.processor() 获取 CPU 信息\n",
    "        try:\n",
    "            # 获取 Windows 上的核心数量 (需要 WMI)\n",
    "            import wmi\n",
    "            c = wmi.WMI()\n",
    "            for proc in c.Win32_Processor():\n",
    "                physical_cores = proc.NumberOfCores\n",
    "                logical_cores = proc.NumberOfLogicalProcessors\n",
    "        except:\n",
    "            pass # 如果 WMI 不可用，忽略错误\n",
    "\n",
    "    elif platform.system() == \"Darwin\": # 如果是 macOS 系统\n",
    "        # 在 macOS 上使用 sysctl 命令获取 CPU 信息和核心数量\n",
    "        os.environ['PATH'] = os.environ['PATH'] + os.pathsep + '/usr/sbin' # 更新 PATH 环境变量\n",
    "        try:\n",
    "            process_brand = subprocess.Popen(['sysctl', \"machdep.cpu.brand_string\"], stdout=subprocess.PIPE, stderr=subprocess.PIPE)\n",
    "            stdout_brand, stderr_brand = process_brand.communicate()\n",
    "            cpu_info = stdout_brand.decode().split(': ')[1].strip() if stdout_brand else \"Could not retrieve CPU info\"\n",
    "\n",
    "            process_physical = subprocess.Popen(['sysctl', \"hw.physicalcpu\"], stdout=subprocess.PIPE, stderr=subprocess.PIPE)\n",
    "            stdout_physical, stderr_physical = process_physical.communicate()\n",
    "            physical_cores = stdout_physical.decode().split(': ')[1].strip() if stdout_physical else \"N/A\"\n",
    "\n",
    "            process_logical = subprocess.Popen(['sysctl', \"hw.logicalcpu\"], stdout=subprocess.PIPE, stderr=subprocess.PIPE)\n",
    "            stdout_logical, stderr_logical = process_logical.communicate()\n",
    "            logical_cores = stdout_logical.decode().split(': ')[1].strip() if stdout_logical else \"N/A\"\n",
    "\n",
    "        except:\n",
    "            cpu_info = \"Could not retrieve CPU info\"\n",
    "            physical_cores = \"N/A\"\n",
    "            logical_cores = \"N/A\"\n",
    "\n",
    "    else:  # Linux 系统\n",
    "        try:\n",
    "            # 在 Linux 上读取 /proc/cpuinfo 文件获取 CPU 信息和核心数量\n",
    "            with open('/proc/cpuinfo') as f:\n",
    "                physical_cores_count = 0\n",
    "                logical_cores_count = 0\n",
    "                cpu_info_lines = []\n",
    "                for line in f:\n",
    "                    if line.startswith('model name'): # 查找以 'model name'开头的行\n",
    "                        if not cpu_info: # 只获取第一个 model name\n",
    "                            cpu_info = line.split(': ')[1].strip()\n",
    "                    elif line.startswith('cpu cores'): # 查找以 'cpu cores' 开头的行\n",
    "                        physical_cores_count = int(line.split(': ')[1].strip())\n",
    "                    elif line.startswith('processor'): # 查找以 'processor' 开头的行\n",
    "                        logical_cores_count += 1\n",
    "                physical_cores = str(physical_cores_count) if physical_cores_count > 0 else \"N/A\"\n",
    "                logical_cores = str(logical_cores_count) if logical_cores_count > 0 else \"N/A\"\n",
    "                if not cpu_info:\n",
    "                     cpu_info = \"Could not retrieve CPU info\"\n",
    "\n",
    "        except:\n",
    "            cpu_info = \"Could not retrieve CPU info\"\n",
    "            physical_cores = \"N/A\"\n",
    "            logical_cores = \"N/A\"\n",
    "\n",
    "    return f\"{cpu_info} ({physical_cores} physical cores, {logical_cores} logical cores)\" # 返回 CPU 信息和核心数量\n",
    "\n",
    "\n",
    "# 获取内存信息的函数\n",
    "def get_memory_info():\n",
    "    mem_info = \"\" # 初始化内存信息字符串\n",
    "    if platform.system() == \"Windows\":\n",
    "        # 在 Windows 上不容易通过标准库获取，需要外部库或 PowerShell\n",
    "        mem_info = \"Requires external tools on Windows\" # 设置提示信息\n",
    "    elif platform.system() == \"Darwin\": # 如果是 macOS 系统\n",
    "        # 在 macOS 上使用 sysctl 命令获取内存大小\n",
    "        process = subprocess.Popen(['sysctl', \"hw.memsize\"], stdout=subprocess.PIPE, stderr=subprocess.PIPE) # 运行 sysctl 命令\n",
    "        stdout, stderr = process.communicate() # 获取标准输出和标准错误\n",
    "        mem_bytes = int(stdout.decode().split(': ')[1].strip()) # 解析输出，获取内存大小（字节）\n",
    "        mem_gb = mem_bytes / (1024**3) # 转换为 GB\n",
    "        mem_info = f\"{mem_gb:.2f} GB\" # 格式化输出\n",
    "    else:  # Linux 系统\n",
    "        try:\n",
    "            # 在 Linux 上读取 /proc/meminfo 文件获取内存信息\n",
    "            with open('/proc/meminfo') as f:\n",
    "                total_mem_kb = 0\n",
    "                available_mem_kb = 0\n",
    "                for line in f:\n",
    "                    if line.startswith('MemTotal'): # 查找以 'MemTotal' 开头的行\n",
    "                        total_mem_kb = int(line.split(':')[1].strip().split()[0]) # 解析行，获取总内存（KB）\n",
    "                    elif line.startswith('MemAvailable'): # 查找以 'MemAvailable' 开头的行\n",
    "                         available_mem_kb = int(line.split(':')[1].strip().split()[0]) # 解析行，获取可用内存（KB）\n",
    "\n",
    "                if total_mem_kb > 0:\n",
    "                    total_mem_gb = total_mem_kb / (1024**2) # 转换为 GB\n",
    "                    mem_info = f\"{total_mem_gb:.2f} GB\" # 格式化输出总内存\n",
    "                    if available_mem_kb > 0:\n",
    "                        available_mem_gb = available_mem_kb / (1024**2)\n",
    "                        mem_info += f\" (Available: {available_mem_gb:.2f} GB)\" # 添加可用内存信息\n",
    "                else:\n",
    "                     mem_info = \"Could not retrieve memory info\" # 如果读取文件出错，设置错误信息\n",
    "\n",
    "        except:\n",
    "            mem_info = \"Could not retrieve memory info\" # 如果读取文件出错，设置错误信息\n",
    "    return mem_info # 返回内存信息\n",
    "\n",
    "# 获取 GPU 信息的函数，包括显存\n",
    "def get_gpu_info():\n",
    "    try:\n",
    "        # 尝试使用 nvidia-smi 获取 NVIDIA GPU 信息和显存\n",
    "        result = subprocess.run(['nvidia-smi', '--query-gpu=name,memory.total', '--format=csv,noheader'], capture_output=True, text=True)\n",
    "        if result.returncode == 0: # 如果命令成功执行\n",
    "            gpu_lines = result.stdout.strip().split('\\n') # 解析输出，获取 GPU 名称和显存\n",
    "            gpu_info_list = []\n",
    "            for line in gpu_lines:\n",
    "                name, memory = line.split(', ')\n",
    "                gpu_info_list.append(f\"{name} ({memory})\") # 格式化 GPU 信息\n",
    "            return \", \".join(gpu_info_list) if gpu_info_list else \"NVIDIA GPU found, but info not listed\" # 返回 GPU 信息或提示信息\n",
    "        else:\n",
    "             # 尝试使用 lshw 获取其他 GPU 信息 (需要安装 lshw)\n",
    "            try:\n",
    "                result_lshw = subprocess.run(['lshw', '-C', 'display'], capture_output=True, text=True)\n",
    "                if result_lshw.returncode == 0: # 如果命令成功执行\n",
    "                     # 简单解析输出中的 product 名称和显存\n",
    "                    gpu_info_lines = []\n",
    "                    current_gpu = {}\n",
    "                    for line in result_lshw.stdout.splitlines():\n",
    "                        if 'product:' in line:\n",
    "                             if current_gpu:\n",
    "                                 gpu_info_lines.append(f\"{current_gpu.get('product', 'GPU')} ({current_gpu.get('memory', 'N/A')})\")\n",
    "                             current_gpu = {'product': line.split('product:')[1].strip()}\n",
    "                        elif 'size:' in line and 'memory' in line:\n",
    "                             current_gpu['memory'] = line.split('size:')[1].strip()\n",
    "\n",
    "                    if current_gpu: # 添加最后一个 GPU 的信息\n",
    "                        gpu_info_lines.append(f\"{current_gpu.get('product', 'GPU')} ({current_gpu.get('memory', 'N/A')})\")\n",
    "\n",
    "                    return \", \".join(gpu_info_lines) if gpu_info_lines else \"GPU found (via lshw), but info not parsed\" # 如果找到 GPU 但信息无法解析，设置提示信息\n",
    "                else:\n",
    "                    return \"No GPU found (checked nvidia-smi and lshw)\" # 如果两个命令都找不到 GPU，设置提示信息\n",
    "            except FileNotFoundError:\n",
    "                 return \"No GPU found (checked nvidia-smi, lshw not found)\" # 如果找不到 lshw 命令，设置提示信息\n",
    "    except FileNotFoundError:\n",
    "        return \"No GPU found (nvidia-smi not found)\" # 如果找不到 nvidia-smi 命令，设置提示信息\n",
    "\n",
    "\n",
    "# 获取 CUDA 版本的函数\n",
    "def get_cuda_version():\n",
    "    try:\n",
    "        # 尝试使用 nvcc --version 获取 CUDA 版本\n",
    "        result = subprocess.run(['nvcc', '--version'], capture_output=True, text=True)\n",
    "        if result.returncode == 0: # 如果命令成功执行\n",
    "            for line in result.stdout.splitlines():\n",
    "                if 'release' in line: # 查找包含 'release' 的行\n",
    "                    return line.split('release ')[1].split(',')[0] # 解析行，提取版本号\n",
    "        return \"CUDA not found or version not parsed\" # 如果找不到 CUDA 或版本无法解析，设置提示信息\n",
    "    except FileNotFoundError:\n",
    "        return \"CUDA not found\" # 如果找不到 nvcc 命令，设置提示信息\n",
    "\n",
    "# 获取 Python 版本的函数\n",
    "def get_python_version():\n",
    "    return platform.python_version() # 获取 Python 版本\n",
    "\n",
    "# 获取 Conda 版本的函数\n",
    "def get_conda_version():\n",
    "    try:\n",
    "        # 尝试使用 conda --version 获取 Conda 版本\n",
    "        result = subprocess.run(['conda', '--version'], capture_output=True, text=True)\n",
    "        if result.returncode == 0: # 如果命令成功执行\n",
    "            return result.stdout.strip() # 返回 Conda 版本\n",
    "        return \"Conda not found or version not parsed\" # 如果找不到 Conda 或版本无法解析，设置提示信息\n",
    "    except FileNotFoundError:\n",
    "        return \"Conda not found\" # 如果找不到 conda 命令，设置提示信息\n",
    "\n",
    "# 获取物理磁盘空间信息的函数\n",
    "def get_disk_space():\n",
    "    try:\n",
    "        total, used, free = shutil.disk_usage(\"/\") # 获取根目录的磁盘使用情况\n",
    "        total_gb = total / (1024**3) # 转换为 GB\n",
    "        used_gb = used / (1024**3) # 转换为 GB\n",
    "        free_gb = free / (1024**3) # 转换为 GB\n",
    "        return f\"Total: {total_gb:.2f} GB, Used: {used_gb:.2f} GB, Free: {free_gb:.2f} GB\" # 格式化输出\n",
    "    except Exception as e:\n",
    "        return f\"Could not retrieve disk info: {e}\" # 如果获取信息出错，设置错误信息\n",
    "\n",
    "# 获取环境信息\n",
    "os_name = platform.system() # 获取操作系统名称\n",
    "os_version = platform.release() # 获取操作系统版本\n",
    "if os_name == \"Linux\":\n",
    "    try:\n",
    "        # 在 Linux 上尝试获取发行版和版本\n",
    "        lsb_info = subprocess.run(['lsb_release', '-a'], capture_output=True, text=True)\n",
    "        if lsb_info.returncode == 0: # 如果命令成功执行\n",
    "            for line in lsb_info.stdout.splitlines():\n",
    "                if 'Description:' in line: # 查找包含 'Description:' 的行\n",
    "                    os_version = line.split('Description:')[1].strip() # 提取描述信息作为版本\n",
    "                    break # 找到后退出循环\n",
    "                elif 'Release:' in line: # 查找包含 'Release:' 的行\n",
    "                     os_version = line.split('Release:')[1].strip() # 提取版本号\n",
    "                     # 尝试获取 codename\n",
    "                     try:\n",
    "                         codename_info = subprocess.run(['lsb_release', '-c'], capture_output=True, text=True)\n",
    "                         if codename_info.returncode == 0:\n",
    "                             os_version += f\" ({codename_info.stdout.split(':')[1].strip()})\" # 将 codename 添加到版本信息中\n",
    "                     except:\n",
    "                         pass # 如果获取 codename 失败则忽略\n",
    "\n",
    "    except FileNotFoundError:\n",
    "        pass # lsb_release 可能未安装，忽略错误\n",
    "\n",
    "full_os_info = f\"{os_name} {os_version}\" # 组合完整的操作系统信息\n",
    "cpu_info = get_cpu_info() # 调用函数获取 CPU 信息和核心数量\n",
    "memory_info = get_memory_info() # 调用函数获取内存信息\n",
    "gpu_info = get_gpu_info() # 调用函数获取 GPU 信息和显存\n",
    "cuda_version = get_cuda_version() # 调用函数获取 CUDA 版本\n",
    "python_version = get_python_version() # 调用函数获取 Python 版本\n",
    "conda_version = get_conda_version() # 调用函数获取 Conda 版本\n",
    "disk_info = get_disk_space() # 调用函数获取物理磁盘空间信息\n",
    "\n",
    "\n",
    "# 创建用于存储数据的字典\n",
    "env_data = {\n",
    "    \"项目\": [ # 项目名称列表\n",
    "        \"操作系统\",\n",
    "        \"CPU 信息\",\n",
    "        \"内存信息\",\n",
    "        \"GPU 信息\",\n",
    "        \"CUDA 信息\",\n",
    "        \"Python 版本\",\n",
    "        \"Conda 版本\",\n",
    "        \"物理磁盘空间\" # 添加物理磁盘空间\n",
    "    ],\n",
    "    \"信息\": [ # 对应的信息列表\n",
    "        full_os_info,\n",
    "        cpu_info,\n",
    "        memory_info,\n",
    "        gpu_info,\n",
    "        cuda_version,\n",
    "        python_version,\n",
    "        conda_version,\n",
    "        disk_info # 添加物理磁盘空间信息\n",
    "    ]\n",
    "}\n",
    "\n",
    "# 创建一个 pandas DataFrame\n",
    "df = pd.DataFrame(env_data)\n",
    "\n",
    "# 打印表格\n",
    "print(\"### 环境信息\") # 打印标题\n",
    "print(df.to_markdown(index=False)) # 将 DataFrame 转换为 Markdown 格式并打印，不包含索引\n"
   ]
  },
  {
   "cell_type": "markdown",
   "id": "36737349-c949-4d64-9aa3-3767cbd02ad1",
   "metadata": {
    "id": "36737349-c949-4d64-9aa3-3767cbd02ad1"
   },
   "source": [
    "# Map-Reduce（映射-归约）\n",
    "\n",
    "## 回顾（Review）\n",
    "\n",
    "我们正在逐步构建一个多智能体（multi-agent）研究助理，它会把本课程中的各个模块串联起来。\n",
    "\n",
    "为构建这个多智能体助理，我们已经介绍了一些 LangGraph 的“可控性”主题。\n",
    "\n",
    "上一节我们学习了并行化（parallelization）和子图（sub-graphs）。\n",
    "\n",
    "## 目标（Goals）\n",
    "\n",
    "本节我们将学习 [Map-Reduce](https://langchain-ai.github.io/langgraph/how-tos/map-reduce/) 模式。\n",
    "---\n",
    "LangGraph 中的 **Map-Reduce** 是一种常见且强大的编程模式，用于处理并行任务。它在 LangGraph 的上下文中通常指的是创建一个能够并行执行多个子任务的节点，然后将这些子任务的结果收集（或“合并”）起来，以产生一个最终结果。\n",
    "\n",
    "**这个模式在 LangGraph 中没有一个专门的、内置的“Map-Reduce”节点类型。相反，它是通过构建一个特定的图结构来实现的**，这个图通常包含：\n",
    "\n",
    "1.  **Map 阶段（并行处理）**：一个或多个节点被设计为接收一个输入列表，并为列表中的每个元素启动一个独立的、并行的执行流（即子图或子任务）。\n",
    "2.  **Reduce 阶段（结果合并）**：一个**Join**节点或一个自定义的聚合节点，其作用是等待所有并行的执行流完成，然后将它们各自的输出收集起来，进行合并、汇总或总结。\n",
    "\n",
    "### 为什么在 LangGraph 中使用 Map-Reduce？\n",
    "\n",
    "  * **提高效率**：当你有多个独立但需要执行相同或相似任务的数据块时，Map-Reduce 模式能让你同时处理它们，而不是按顺序执行，从而大大减少总处理时间。例如，你可以同时对 100 个文档进行摘要提取，而不是一个一个来。\n",
    "  * **处理复杂任务**：这个模式非常适合那些可以将大问题分解为多个小问题（Map），然后将小问题的答案组合成最终答案（Reduce）的场景。\n",
    "  * **灵活性**：你可以使用 LangGraph 的**Join**节点（这是一个内置功能，用来等待所有传入的边都到达后才执行）来轻松实现 Reduce 阶段。你也可以编写一个自定义的函数来作为 Reduce 节点，以实现任何你需要的聚合逻辑，比如求和、平均、拼接字符串等。\n",
    "\n",
    "-----\n",
    "\n",
    "### 一个简单的 Map-Reduce 示例\n",
    "\n",
    "假设你有一个任务：对一个包含多个 URL 的列表进行内容抓取和摘要。\n",
    "\n",
    "**图的结构可能如下：**\n",
    "\n",
    "```\n",
    "                [Start]\n",
    "                   |\n",
    "             (输入URL列表)\n",
    "                   |\n",
    "                   ▼\n",
    "       +-----------------------+\n",
    "       |   [并行处理节点]      |  (Map 阶段)\n",
    "       | (为每个URL启动一个子任务) |\n",
    "       +-----------------------+\n",
    "          /     |     \\\n",
    "         /      |      \\\n",
    "       ▼        ▼        ▼\n",
    "[提取URL_1]  [提取URL_2] ...  [提取URL_N]  (每个任务都并行执行)\n",
    "         \\      |      /\n",
    "          \\     |     /\n",
    "       +-----------------------+\n",
    "       |   [Join 节点]         |  (Reduce 阶段)\n",
    "       | (等待所有任务完成)      |\n",
    "       +-----------------------+\n",
    "                   |\n",
    "                   ▼\n",
    "       +-----------------------+\n",
    "       |   [聚合节点]          |  (将所有摘要合并)\n",
    "       +-----------------------+\n",
    "                   |\n",
    "                   ▼\n",
    "                 [End]\n",
    "```\n",
    "\n",
    "在这个例子中：\n",
    "\n",
    "1.  **Map**：你有一个并行处理节点，它接收 URL 列表。它为每个 URL 分别启动一个子图执行，每个子图负责抓取一个网页并生成摘要。\n",
    "2.  **Reduce**：一个 `Join` 节点会等待所有并行子图执行完毕。一旦所有子图都返回了结果，这个 `Join` 节点就会将这些结果传递给下一个节点。\n",
    "3.  **最终处理**：一个最后的节点接收所有返回的摘要，并将它们拼接成一个完整的文档或报告。\n",
    "\n",
    "虽然 LangGraph 没有一个叫作 `Map-Reduce` 的命令，但它提供的工具（如 `Join` 节点和创建并行子图的能力）使实现这种模式变得非常直接和高效。"
   ]
  },
  {
   "cell_type": "code",
   "execution_count": 5,
   "id": "f24e95c8",
   "metadata": {
    "id": "f24e95c8"
   },
   "outputs": [
    {
     "name": "stdout",
     "output_type": "stream",
     "text": [
      "\u001b[33mWARNING: Running pip as the 'root' user can result in broken permissions and conflicting behaviour with the system package manager, possibly rendering your system unusable. It is recommended to use a virtual environment instead: https://pip.pypa.io/warnings/venv. Use the --root-user-action option if you know what you are doing and want to suppress this warning.\u001b[0m\u001b[33m\n",
      "\u001b[0mNote: you may need to restart the kernel to use updated packages.\n"
     ]
    }
   ],
   "source": [
    "# %%capture --no-stderr\n",
    "# %pip install -U langchain_openai langgraph\n",
    "%pip install --quiet langgraph==0.6.7 langchain_openai==0.3.32"
   ]
  },
  {
   "cell_type": "code",
   "execution_count": 6,
   "id": "ff57cbf7",
   "metadata": {
    "colab": {
     "base_uri": "https://localhost:8080/"
    },
    "id": "ff57cbf7",
    "outputId": "0798a212-1480-4803-91da-c256bc8ecddc"
   },
   "outputs": [
    {
     "name": "stdin",
     "output_type": "stream",
     "text": [
      "OPENAI_API_KEY:  ········\n",
      "OPENAI_BASE_URL:  ········\n"
     ]
    }
   ],
   "source": [
    "import os, getpass\n",
    "\n",
    "def _set_env(var: str):\n",
    "    if not os.environ.get(var):\n",
    "        os.environ[var] = getpass.getpass(f\"{var}: \")\n",
    "\n",
    "# 设置 OpenAI API 密钥\n",
    "# 这是使用 OpenAI 模型所必需的\n",
    "_set_env(\"OPENAI_API_KEY\")\n",
    "# 设置 OpenAI API代理地址 (例如：https://api.apiyi.com/v1）\n",
    "_set_env(\"OPENAI_BASE_URL\")"
   ]
  },
  {
   "cell_type": "markdown",
   "id": "cbcd868a",
   "metadata": {
    "id": "cbcd868a"
   },
   "source": [
    "我们将使用 [LangSmith](https://docs.smith.langchain.com/) 进行[链路追踪（tracing）](https://docs.smith.langchain.com/concepts/tracing)。这可以帮助初学者观察每一步调用与中间结果，便于调试与理解。"
   ]
  },
  {
   "cell_type": "code",
   "execution_count": 7,
   "id": "9fdc647f",
   "metadata": {
    "colab": {
     "base_uri": "https://localhost:8080/"
    },
    "id": "9fdc647f",
    "outputId": "2e65c5b6-6a7a-4c52-c0a3-672adb1864d6"
   },
   "outputs": [
    {
     "name": "stdin",
     "output_type": "stream",
     "text": [
      "LANGSMITH_API_KEY:  ········\n"
     ]
    }
   ],
   "source": [
    "_set_env(\"LANGSMITH_API_KEY\")\n",
    "os.environ[\"LANGSMITH_TRACING\"] = \"true\"\n",
    "os.environ[\"LANGSMITH_PROJECT\"] = \"FlyAIBox\""
   ]
  },
  {
   "cell_type": "markdown",
   "id": "2bbe9b9f-4375-4bca-8e32-7d57cb861469",
   "metadata": {
    "id": "2bbe9b9f-4375-4bca-8e32-7d57cb861469"
   },
   "source": [
    "## Map-Reduce示例系统\n",
    "\n",
    "Map-Reduce 是一种高效的任务拆解与并行处理模式，通常分为两个阶段：\n",
    "\n",
    "1) `Map`（映射）：把一个大任务拆分为多个可并行处理的小任务。\n",
    "\n",
    "2) `Reduce`（归约）：汇总所有并行子任务的结果，并得到最终输出。\n",
    "\n",
    "我们来设计一个简单系统来演示这个思想，做两件事：\n",
    "\n",
    "1) `Map`：围绕某个主题生成一组笑话（每个子主题各出一个）。\n",
    "\n",
    "2) `Reduce`：从生成的笑话中挑选出最好的一条。\n",
    "\n",
    "我们将使用大语言模型（LLM）来完成“生成候选（Map）”与“选择最佳（Reduce）”。"
   ]
  },
  {
   "cell_type": "code",
   "execution_count": 8,
   "id": "994cf903-1ed6-4ae2-b32a-7891a2808f81",
   "metadata": {
    "id": "994cf903-1ed6-4ae2-b32a-7891a2808f81"
   },
   "outputs": [],
   "source": [
    "from langchain_openai import ChatOpenAI\n",
    "\n",
    "# 将使用的提示词（Prompts）：\n",
    "# - 生成与主题相关的 3 个子主题\n",
    "subjects_prompt = \"\"\"生成与这个总体主题相关的3个子主题列表: {topic}.\"\"\"\n",
    "# - 针对某个子主题生成一个笑话\n",
    "joke_prompt = \"\"\"生成一个的笑话，关于 {subject}\"\"\"\n",
    "# - 在一组笑话中选择最佳的一条，并返回其索引（从 0 开始计数）\n",
    "best_joke_prompt = \"\"\"以下是一些关于{topic}的笑话。请选择最好笑的一个！返回最佳笑话的ID，第一个笑话的ID从0开始。笑话: \\n\\n  {jokes}\"\"\"\n",
    "\n",
    "# LLM（使用确定性温度）\n",
    "model = ChatOpenAI(model=\"gpt-4o\", temperature=0)"
   ]
  },
  {
   "cell_type": "markdown",
   "id": "f3b883cc-3469-4e96-b1a4-deadf7bf3ce5",
   "metadata": {
    "id": "f3b883cc-3469-4e96-b1a4-deadf7bf3ce5"
   },
   "source": [
    "## 状态（State）\n",
    "\n",
    "### 并行生成笑话\n",
    "\n",
    "我们先定义图（graph）的入口节点，它将会：\n",
    "\n",
    "- 接收用户输入的主题（topic）\n",
    "- 基于主题生成一组“子主题”（用于分别写笑话）\n",
    "- 把每个子主题发送到笑话生成节点（并行执行）\n",
    "\n",
    "我们的有向状态中包含一个 `jokes` 键，用来累积（append）并行生成的笑话列表。注意这里我们为 `jokes` 配置了“列表合并（list reduce）”的归约器，用于把多个并行结果合并到一个列表中。"
   ]
  },
  {
   "cell_type": "code",
   "execution_count": 9,
   "id": "099218ca-ee78-4291-95a1-87ee61382e3b",
   "metadata": {
    "id": "099218ca-ee78-4291-95a1-87ee61382e3b"
   },
   "outputs": [],
   "source": [
    "import operator\n",
    "from typing import Annotated\n",
    "from typing_extensions import TypedDict\n",
    "from pydantic import BaseModel\n",
    "\n",
    "# Subjects 类定义了从总体主题生成子主题的结构。\n",
    "# 它继承自 BaseModel，用于数据验证和结构化输出。\n",
    "class Subjects(BaseModel):\n",
    "    # subjects 字段是一个字符串列表，用于存储生成的子主题。\n",
    "    subjects: list[str]\n",
    "\n",
    "# BestJoke 类定义了从笑话列表中选择最佳笑话的结构。\n",
    "# 它继承自 BaseModel，用于数据验证和结构化输出。\n",
    "class BestJoke(BaseModel):\n",
    "    # id 字段是一个整数，表示在笑话列表中的索引（从 0 开始）。\n",
    "    id: int\n",
    "\n",
    "# OverallState 类定义了整个 Map-Reduce 图的总体状态。\n",
    "# 它继承自 TypedDict，用于提供类型提示。\n",
    "class OverallState(TypedDict):\n",
    "    # topic 字段是一个字符串，存储用户输入的总体主题。\n",
    "    topic: str\n",
    "    # subjects 字段是一个列表，存储从总体主题生成的子主题。\n",
    "    subjects: list\n",
    "    # jokes 字段是一个列表，使用 Annotated 结合 operator.add\n",
    "    # 定义了如何合并并行生成的笑话。operator.add 表示将新的笑话添加到列表中。\n",
    "    jokes: Annotated[list, operator.add]\n",
    "    # best_selected_joke 字段是一个字符串，存储最终选出的最佳笑话。\n",
    "    best_selected_joke: str"
   ]
  },
  {
   "cell_type": "markdown",
   "id": "c7176d1c-4a88-4b0f-a960-ee04a45279bd",
   "metadata": {
    "id": "c7176d1c-4a88-4b0f-a960-ee04a45279bd"
   },
   "source": [
    "为笑话生成子主题（subjects）。"
   ]
  },
  {
   "cell_type": "code",
   "execution_count": 10,
   "id": "45010efd-ad31-4daa-b77e-aaec79ef0309",
   "metadata": {
    "id": "45010efd-ad31-4daa-b77e-aaec79ef0309"
   },
   "outputs": [],
   "source": [
    "def generate_topics(state: OverallState):\n",
    "    # 根据总体主题格式化提示词\n",
    "    prompt = subjects_prompt.format(topic=state[\"topic\"])\n",
    "    # 使用带有结构化输出的模型调用LLM，期望返回Subjects类的结构\n",
    "    response = model.with_structured_output(Subjects).invoke(prompt)\n",
    "    # 从LLM的响应中提取子主题列表，并作为状态更新返回\n",
    "    return {\"subjects\": response.subjects}"
   ]
  },
  {
   "cell_type": "markdown",
   "id": "e5296bb0-c163-4e5c-8181-1e305b37442a",
   "metadata": {
    "id": "e5296bb0-c163-4e5c-8181-1e305b37442a"
   },
   "source": [
    "关键点在这里：我们使用 [Send](https://langchain-ai.github.io/langgraph/concepts/low_level/#send) 为“每一个子主题”分别创建一次笑话生成任务。\n",
    "\n",
    "这非常实用！无论有多少子主题，都会自动并行地触发笑话生成。\n",
    "\n",
    "- `generate_joke`：图中的节点名称\n",
    "- `{\"subject\": s}`：发送给该节点的“局部状态”\n",
    "\n",
    "注意：`Send` 允许我们向目标节点传入“它自己的局部状态”，不需要与全局的 `OverallState` 一一对应。\n",
    "\n",
    "在这里，`generate_joke` 使用的是自己的内部状态结构（只需要 `subject`），我们通过 `Send` 来填充并传递它。"
   ]
  },
  {
   "cell_type": "code",
   "execution_count": 11,
   "id": "bc83e575-11f6-41a9-990a-adb571bcda06",
   "metadata": {
    "id": "bc83e575-11f6-41a9-990a-adb571bcda06"
   },
   "outputs": [],
   "source": [
    "from langgraph.types import Send\n",
    "def continue_to_jokes(state: OverallState):\n",
    "    # 遍历状态中的每个子主题（subjects）\n",
    "    # 为每个子主题创建一个 Send 对象\n",
    "    # Send 对象指示图将执行 \"generate_joke\" 节点\n",
    "    # 并将一个包含当前子主题的局部状态 {\"subject\": s} 传递给它\n",
    "    return [Send(\"generate_joke\", {\"subject\": s}) for s in state[\"subjects\"]]"
   ]
  },
  {
   "cell_type": "markdown",
   "id": "9847192d-d358-411e-90c0-f06be0738717",
   "metadata": {
    "id": "9847192d-d358-411e-90c0-f06be0738717"
   },
   "source": [
    "### 笑话生成（Map）\n",
    "\n",
    "现在我们来定义一个“生成笑话”的节点 `generate_joke`。\n",
    "\n",
    "该节点会把生成结果写回全局状态的 `jokes` 列表。\n",
    "\n",
    "由于 `jokes` 使用了“列表合并”的归约器（reducer），多个并行生成的结果会自动合并为一个列表。"
   ]
  },
  {
   "cell_type": "code",
   "execution_count": 12,
   "id": "bcddc567-73d3-4fb3-bfc5-1bea538f2aab",
   "metadata": {
    "id": "bcddc567-73d3-4fb3-bfc5-1bea538f2aab"
   },
   "outputs": [],
   "source": [
    "# JokeState 类定义了生成笑话节点（Map 阶段）的输入状态结构。\n",
    "# 它继承自 TypedDict，用于提供类型提示。\n",
    "class JokeState(TypedDict):\n",
    "    # subject 字段是一个字符串，存储当前需要生成笑话的子主题。\n",
    "    subject: str\n",
    "\n",
    "# Joke 类定义了生成笑话节点（Map 阶段）的输出结构。\n",
    "# 它继承自 BaseModel，用于数据验证和结构化输出。\n",
    "class Joke(BaseModel):\n",
    "    # joke 字段是一个字符串，存储生成的笑话文本。\n",
    "    joke: str\n",
    "\n",
    "# generate_joke 函数是 Map 阶段的核心节点，负责根据子主题生成笑话。\n",
    "def generate_joke(state: JokeState):\n",
    "    # 根据输入的子主题格式化笑话提示词。\n",
    "    prompt = joke_prompt.format(subject=state[\"subject\"])\n",
    "    # 使用带有结构化输出的模型调用LLM，期望返回 Joke 类的结构。\n",
    "    response = model.with_structured_output(Joke).invoke(prompt)\n",
    "    # 返回一个字典，其中 'jokes' 键对应一个包含生成的笑话的列表。\n",
    "    # 注意这里返回的是一个列表，因为 OverallState 的 jokes 字段配置了列表合并，\n",
    "    # 这样多个并行生成的笑话会自动合并到一个列表中。\n",
    "    return {\"jokes\": [response.joke]}"
   ]
  },
  {
   "cell_type": "markdown",
   "id": "02960657-d174-4076-99a8-b3f9eea015f4",
   "metadata": {
    "id": "02960657-d174-4076-99a8-b3f9eea015f4"
   },
   "source": [
    "### 最佳笑话选择（Reduce）\n",
    "\n",
    "接下来添加一个“选择最佳笑话”的节点，根据所有候选笑话，挑出得分最高或最合理的一条。这里我们直接让 LLM 返回最佳笑话的索引。"
   ]
  },
  {
   "cell_type": "code",
   "execution_count": 13,
   "id": "8d672870-75e3-4307-bda0-c41a86cbbaff",
   "metadata": {
    "id": "8d672870-75e3-4307-bda0-c41a86cbbaff"
   },
   "outputs": [],
   "source": [
    "def best_joke(state: OverallState):\n",
    "    # 将状态中累积的笑话列表用双换行符连接成一个字符串，方便作为整体输入给LLM。\n",
    "    jokes = \"\\n\\n\".join(state[\"jokes\"])\n",
    "    # 根据总体主题和所有笑话格式化选择最佳笑话的提示词。\n",
    "    prompt = best_joke_prompt.format(topic=state[\"topic\"], jokes=jokes)\n",
    "    # 使用带有结构化输出的模型调用LLM，期望返回 BestJoke 类的结构，其中包含最佳笑话的索引。\n",
    "    response = model.with_structured_output(BestJoke).invoke(prompt)\n",
    "    # 根据LLM返回的最佳笑话索引，从原始笑话列表中提取出最佳笑话的文本，并作为状态更新返回。\n",
    "    return {\"best_selected_joke\": state[\"jokes\"][response.id]}"
   ]
  },
  {
   "cell_type": "markdown",
   "id": "837cd12e-5bff-426e-97f4-c774df998cfb",
   "metadata": {
    "id": "837cd12e-5bff-426e-97f4-c774df998cfb"
   },
   "source": [
    "## 编译并可视化（Compile）"
   ]
  },
  {
   "cell_type": "code",
   "execution_count": 14,
   "id": "2ae6be4b-144e-483c-88ad-ce86d6477a0d",
   "metadata": {
    "colab": {
     "base_uri": "https://localhost:8080/",
     "height": 449
    },
    "id": "2ae6be4b-144e-483c-88ad-ce86d6477a0d",
    "outputId": "7383bd27-d04d-4c83-e66d-dcc2761ebc11"
   },
   "outputs": [
    {
     "data": {
      "image/png": "[encoded data removed]",
      "text/plain": [
       "<IPython.core.display.Image object>"
      ]
     },
     "execution_count": 14,
     "metadata": {},
     "output_type": "execute_result"
    }
   ],
   "source": [
    "from IPython.display import Image\n",
    "from langgraph.graph import END, StateGraph, START\n",
    "\n",
    "# 构建图：把上述各个节点与边组合成完整图\n",
    "graph = StateGraph(OverallState)\n",
    "graph.add_node(\"generate_topics\", generate_topics)\n",
    "# 并行生成笑话的节点\n",
    "graph.add_node(\"generate_joke\", generate_joke)\n",
    "# 选择最佳笑话的节点\n",
    "graph.add_node(\"best_joke\", best_joke)\n",
    "# 起始 -> 生成子主题\n",
    "graph.add_edge(START, \"generate_topics\")\n",
    "# 条件边：为每个子主题发送到 generate_joke，并行执行\n",
    "graph.add_conditional_edges(\"generate_topics\", continue_to_jokes, [\"generate_joke\"])\n",
    "# Map -> Reduce\n",
    "graph.add_edge(\"generate_joke\", \"best_joke\")\n",
    "# 结束\n",
    "graph.add_edge(\"best_joke\", END)\n",
    "\n",
    "# 编译图\n",
    "app = graph.compile()\n",
    "Image(app.get_graph().draw_mermaid_png())"
   ]
  },
  {
   "cell_type": "code",
   "execution_count": 15,
   "id": "e21dc7c9-0add-4125-be76-af701adb874a",
   "metadata": {
    "colab": {
     "base_uri": "https://localhost:8080/"
    },
    "id": "e21dc7c9-0add-4125-be76-af701adb874a",
    "outputId": "8b519011-e78f-47b6-8c99-eb0a8b13c7b4"
   },
   "outputs": [
    {
     "name": "stdout",
     "output_type": "stream",
     "text": [
      "{'generate_topics': {'subjects': ['小花猫的生活习性', '小花猫的健康与护理', '小花猫的行为与训练']}}\n",
      "{'generate_joke': {'jokes': ['小花猫每天都喜欢在窗台上晒太阳，\\n有一天，它对着太阳说：\\n\"太阳公公，你能不能稍微离我近一点？这样我就不用每天都跑到窗台上晒太阳了。\"\\n太阳公公笑着回答：\\n\"小花猫，我要是离你太近，你就变成烤猫了！\"']}}\n",
      "{'generate_joke': {'jokes': ['为什么小花猫总是拒绝参加训练班？\\n\\n因为它觉得自己已经是个\"猫\"学家了，根本不需要再\"猫\"习！😸']}}\n",
      "{'generate_joke': {'jokes': ['**Why did the little tabby cat start a fitness routine?**\\n\\nBecause it wanted to be a \"purr-sonal trainer\" and help its owner get in \"purr-fect\" shape! 😸\\n\\n**What did the vet say to the overweight cat?**\\n\\n\"You need to cut down on the \\'pawsitive\\' reinforcement treats!\" 🐾\\n\\n**Why did the cat bring a comb to the vet?**\\n\\nBecause it heard it was time for a \"fur-midable\" check-up! 🐱\\n\\n**How do cats stay healthy?**\\n\\nBy doing \"purr-lates\" and eating a balanced diet of \"meow-sli\" and \"whisker-berries\"! 🍓\\n\\n**Why did the cat sit on the computer?**\\n\\nBecause it wanted to keep an eye on its \"cat-alytic\" health app! 💻\\n\\n**What did the cat say after its grooming session?**\\n\\n\"I\\'m feline fine and ready to pounce into the day!\" 🐾']}}\n",
      "{'best_joke': {'best_selected_joke': '**Why did the little tabby cat start a fitness routine?**\\n\\nBecause it wanted to be a \"purr-sonal trainer\" and help its owner get in \"purr-fect\" shape! 😸\\n\\n**What did the vet say to the overweight cat?**\\n\\n\"You need to cut down on the \\'pawsitive\\' reinforcement treats!\" 🐾\\n\\n**Why did the cat bring a comb to the vet?**\\n\\nBecause it heard it was time for a \"fur-midable\" check-up! 🐱\\n\\n**How do cats stay healthy?**\\n\\nBy doing \"purr-lates\" and eating a balanced diet of \"meow-sli\" and \"whisker-berries\"! 🍓\\n\\n**Why did the cat sit on the computer?**\\n\\nBecause it wanted to keep an eye on its \"cat-alytic\" health app! 💻\\n\\n**What did the cat say after its grooming session?**\\n\\n\"I\\'m feline fine and ready to pounce into the day!\" 🐾'}}\n"
     ]
    }
   ],
   "source": [
    "# 调用图：以输入主题触发生成与选择流程\n",
    "for s in app.stream({\"topic\": \"小花猫\"}):\n",
    "    print(s)  # 逐步输出每一步状态，便于初学者观察执行顺序"
   ]
  },
  {
   "cell_type": "code",
   "execution_count": null,
   "id": "741a5e45-9a4c-43b4-8393-9298b3dcda53",
   "metadata": {
    "id": "741a5e45-9a4c-43b4-8393-9298b3dcda53"
   },
   "outputs": [],
   "source": []
  }
 ],
 "metadata": {
  "colab": {
   "include_colab_link": true,
   "provenance": []
  },
  "kernelspec": {
   "display_name": "python(flyai_agent_in_action)",
   "language": "python",
   "name": "flyai_agent_in_action"
  },
  "language_info": {
   "codemirror_mode": {
    "name": "ipython",
    "version": 3
   },
   "file_extension": ".py",
   "mimetype": "text/x-python",
   "name": "python",
   "nbconvert_exporter": "python",
   "pygments_lexer": "ipython3",
   "version": "3.12.11"
  }
 },
 "nbformat": 4,
 "nbformat_minor": 5
}
