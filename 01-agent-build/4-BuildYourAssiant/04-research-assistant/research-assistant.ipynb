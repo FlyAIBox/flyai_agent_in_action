{
  "cells": [
    {
      "cell_type": "markdown",
      "metadata": {
        "id": "view-in-github",
        "colab_type": "text"
      },
      "source": [
        "<a href=\"https://colab.research.google.com/github/FlyAIBox/flyai_agent_in_action/blob/main/01-agent-build/4-BuildYourAssiant/04-research-assistant/research-assistant.ipynb\" target=\"_parent\"><img src=\"https://colab.research.google.com/assets/colab-badge.svg\" alt=\"Open In Colab\"/></a>"
      ]
    },
    {
      "cell_type": "markdown",
      "id": "env_config_overview",
      "metadata": {
        "jp-MarkdownHeadingCollapsed": true,
        "id": "env_config_overview"
      },
      "source": [
        "### 🔧 环境配置和检查\n",
        "\n",
        "#### 概述\n",
        "\n",
        "本教程需要特定的环境配置以确保最佳学习体验。以下配置将帮助您：\n",
        "\n",
        "- 使用统一的conda环境：激活统一的学习环境\n",
        "- 通过国内镜像源快速安装依赖：配置pip使用清华镜像源\n",
        "- 加速模型下载：设置HuggingFace镜像代理\n",
        "- 检查系统配置：检查硬件和软件配置\n",
        "\n",
        "#### 配置\n",
        "\n",
        "- **所需环境及其依赖已经部署好**\n",
        "- 在`Notebook`右上角选择`jupyter内核`为`python(flyai_agent_in_action)`，即可执行下方代码"
      ]
    },
    {
      "cell_type": "code",
      "execution_count": 1,
      "id": "env_conda_activate",
      "metadata": {
        "id": "env_conda_activate",
        "outputId": "f0260c8c-f75c-4294-e5a6-355073964095",
        "colab": {
          "base_uri": "https://localhost:8080/"
        }
      },
      "outputs": [
        {
          "output_type": "stream",
          "name": "stdout",
          "text": [
            "=========================================\n",
            "== Conda 环境检查报告 (仅针对当前 Bash 子进程) ==\n",
            "=========================================\n",
            "❌ 激活失败或环境名称不匹配。当前环境: \n",
            "\n",
            "⚠️ 严重提示: 建议将 Notebook 的 Jupyter **内核 (Kernel)** 切换为 'python(flyai_agent_in_action)'。\n",
            "   (通常位于 Notebook 右上角或 '内核' 菜单中)\n",
            "\n",
            "📚 备用方法 (不推荐): 如果无法切换内核，则必须在**每个**代码单元格的头部重复以下命令:\n",
            "\n",
            "%%script bash\n",
            "# 必须在每个单元格都执行\n",
            "eval \"$(conda shell.bash hook)\"\n",
            "conda activate flyai_agent_in_action\n",
            "=========================================\n"
          ]
        },
        {
          "output_type": "stream",
          "name": "stderr",
          "text": [
            "bash: line 3: conda: command not found\n",
            "bash: line 4: conda: command not found\n",
            "basename: missing operand\n",
            "Try 'basename --help' for more information.\n"
          ]
        }
      ],
      "source": [
        "%%script bash\n",
        "\n",
        "# 1. 激活 conda 环境 (仅对当前单元格有效)\n",
        "eval \"$(conda shell.bash hook)\"\n",
        "conda activate flyai_agent_in_action\n",
        "\n",
        "echo \"=========================================\"\n",
        "echo \"== Conda 环境检查报告 (仅针对当前 Bash 子进程) ==\"\n",
        "echo \"=========================================\"\n",
        "\n",
        "# 2. 检查当前激活的环境\n",
        "CURRENT_ENV_NAME=$(basename $CONDA_PREFIX)\n",
        "\n",
        "if [ \"$CURRENT_ENV_NAME\" = \"flyai_agent_in_action\" ]; then\n",
        "    echo \"✅ 当前单元格已成功激活到 flyai_agent_in_action 环境。\"\n",
        "    echo \"✅ 正在使用的环境路径: $CONDA_PREFIX\"\n",
        "    echo \"\"\n",
        "    echo \"💡 提示: 后续的 Python 单元格将使用 Notebook 当前选择的 Jupyter 内核。\"\n",
        "    echo \"   如果需要后续单元格也使用此环境，请执行以下操作:\"\n",
        "    echo \"   1. 检查 Notebook 右上角是否已选择 'python(flyai_agent_in_action)'。\"\n",
        "else\n",
        "    echo \"❌ 激活失败或环境名称不匹配。当前环境: $CURRENT_ENV_NAME\"\n",
        "    echo \"\"\n",
        "    echo \"⚠️ 严重提示: 建议将 Notebook 的 Jupyter **内核 (Kernel)** 切换为 'python(flyai_agent_in_action)'。\"\n",
        "    echo \"   (通常位于 Notebook 右上角或 '内核' 菜单中)\"\n",
        "    echo \"\"\n",
        "    echo \"📚 备用方法 (不推荐): 如果无法切换内核，则必须在**每个**代码单元格的头部重复以下命令:\"\n",
        "    echo \"\"\n",
        "    echo \"%%script bash\"\n",
        "    echo \"# 必须在每个单元格都执行\"\n",
        "    echo \"eval \\\"\\$(conda shell.bash hook)\\\"\"\n",
        "    echo \"conda activate flyai_agent_in_action\"\n",
        "fi\n",
        "\n",
        "echo \"=========================================\""
      ]
    },
    {
      "cell_type": "code",
      "execution_count": 2,
      "id": "env_pip_config",
      "metadata": {
        "id": "env_pip_config",
        "outputId": "a3273719-0e64-4231-cde1-a33c3631e136",
        "colab": {
          "base_uri": "https://localhost:8080/"
        }
      },
      "outputs": [
        {
          "output_type": "stream",
          "name": "stdout",
          "text": [
            "Writing to /root/.config/pip/pip.conf\n",
            "global.disable-pip-version-check='True'\n",
            "global.index-url='https://pypi.tuna.tsinghua.edu.cn/simple'\n",
            "global.log='/var/log/pip.log'\n",
            "global.root-user-action='ignore'\n",
            "list.format='columns'\n"
          ]
        }
      ],
      "source": [
        "# 2. 设置pip 为清华源\n",
        "%pip config set global.index-url https://pypi.tuna.tsinghua.edu.cn/simple\n",
        "%pip config list\n"
      ]
    },
    {
      "cell_type": "code",
      "execution_count": 3,
      "id": "env_hf_proxy",
      "metadata": {
        "id": "env_hf_proxy",
        "outputId": "178e4d45-b256-4c70-b1b9-66153ee80583",
        "colab": {
          "base_uri": "https://localhost:8080/"
        }
      },
      "outputs": [
        {
          "output_type": "stream",
          "name": "stdout",
          "text": [
            "env: HF_ENDPOINT=https://hf-mirror.com\n",
            "https://hf-mirror.com\n"
          ]
        }
      ],
      "source": [
        "# 3. 设置HuggingFace代理\n",
        "%env HF_ENDPOINT=https://hf-mirror.com\n",
        "# 验证：使用shell命令检查\n",
        "!echo $HF_ENDPOINT"
      ]
    },
    {
      "cell_type": "code",
      "execution_count": 4,
      "id": "env_system_check",
      "metadata": {
        "id": "env_system_check",
        "outputId": "251468de-f549-4158-ce0c-07702053980d",
        "colab": {
          "base_uri": "https://localhost:8080/"
        }
      },
      "outputs": [
        {
          "output_type": "stream",
          "name": "stdout",
          "text": [
            "Looking in indexes: https://pypi.tuna.tsinghua.edu.cn/simple\n",
            "Requirement already satisfied: pandas==2.2.2 in /usr/local/lib/python3.12/dist-packages (2.2.2)\n",
            "Requirement already satisfied: tabulate==0.9.0 in /usr/local/lib/python3.12/dist-packages (0.9.0)\n",
            "Requirement already satisfied: numpy>=1.26.0 in /usr/local/lib/python3.12/dist-packages (from pandas==2.2.2) (2.0.2)\n",
            "Requirement already satisfied: python-dateutil>=2.8.2 in /usr/local/lib/python3.12/dist-packages (from pandas==2.2.2) (2.9.0.post0)\n",
            "Requirement already satisfied: pytz>=2020.1 in /usr/local/lib/python3.12/dist-packages (from pandas==2.2.2) (2025.2)\n",
            "Requirement already satisfied: tzdata>=2022.7 in /usr/local/lib/python3.12/dist-packages (from pandas==2.2.2) (2025.2)\n",
            "Requirement already satisfied: six>=1.5 in /usr/local/lib/python3.12/dist-packages (from python-dateutil>=2.8.2->pandas==2.2.2) (1.17.0)\n",
            "### 环境信息\n",
            "| 项目         | 信息                                                               |\n",
            "|:-------------|:-------------------------------------------------------------------|\n",
            "| 操作系统     | Linux Ubuntu 22.04.4 LTS                                           |\n",
            "| CPU 信息     | Intel(R) Xeon(R) CPU @ 2.20GHz (1 physical cores, 2 logical cores) |\n",
            "| 内存信息     | 12.67 GB (Available: 11.53 GB)                                     |\n",
            "| GPU 信息     | No GPU found (nvidia-smi not found)                                |\n",
            "| CUDA 信息    | 12.5                                                               |\n",
            "| Python 版本  | 3.12.11                                                            |\n",
            "| Conda 版本   | Conda not found                                                    |\n",
            "| 物理磁盘空间 | Total: 107.72 GB, Used: 39.36 GB, Free: 68.34 GB                   |\n"
          ]
        }
      ],
      "source": [
        "# 🔍 环境信息检查脚本\n",
        "#\n",
        "# 本脚本的作用：\n",
        "# 1. 安装 pandas 库用于数据表格展示\n",
        "# 2. 检查系统的各项配置信息\n",
        "# 3. 生成详细的环境报告表格\n",
        "#\n",
        "# 对于初学者来说，这个步骤帮助您：\n",
        "# - 了解当前运行环境的硬件配置\n",
        "# - 确认是否满足模型运行的最低要求\n",
        "# - 学习如何通过代码获取系统信息\n",
        "\n",
        "# 安装 pandas 库 - 用于创建和展示数据表格\n",
        "# pandas 是 Python 中最流行的数据处理和分析库\n",
        "%pip install pandas==2.2.2 tabulate==0.9.0\n",
        "\n",
        "import platform # 导入 platform 模块以获取系统信息\n",
        "import os # 导入 os 模块以与操作系统交互\n",
        "import subprocess # 导入 subprocess 模块以运行外部命令\n",
        "import pandas as pd # 导入 pandas 模块，通常用于数据处理，这里用于创建表格\n",
        "import shutil # 导入 shutil 模块以获取磁盘空间信息\n",
        "\n",
        "# 获取 CPU 信息的函数，包括核心数量\n",
        "def get_cpu_info():\n",
        "    cpu_info = \"\" # 初始化 CPU 信息字符串\n",
        "    physical_cores = \"N/A\"\n",
        "    logical_cores = \"N/A\"\n",
        "\n",
        "    if platform.system() == \"Windows\": # 如果是 Windows 系统\n",
        "        cpu_info = platform.processor() # 使用 platform.processor() 获取 CPU 信息\n",
        "        try:\n",
        "            # 获取 Windows 上的核心数量 (需要 WMI)\n",
        "            import wmi\n",
        "            c = wmi.WMI()\n",
        "            for proc in c.Win32_Processor():\n",
        "                physical_cores = proc.NumberOfCores\n",
        "                logical_cores = proc.NumberOfLogicalProcessors\n",
        "        except:\n",
        "            pass # 如果 WMI 不可用，忽略错误\n",
        "\n",
        "    elif platform.system() == \"Darwin\": # 如果是 macOS 系统\n",
        "        # 在 macOS 上使用 sysctl 命令获取 CPU 信息和核心数量\n",
        "        os.environ['PATH'] = os.environ['PATH'] + os.pathsep + '/usr/sbin' # 更新 PATH 环境变量\n",
        "        try:\n",
        "            process_brand = subprocess.Popen(['sysctl', \"machdep.cpu.brand_string\"], stdout=subprocess.PIPE, stderr=subprocess.PIPE)\n",
        "            stdout_brand, stderr_brand = process_brand.communicate()\n",
        "            cpu_info = stdout_brand.decode().split(': ')[1].strip() if stdout_brand else \"Could not retrieve CPU info\"\n",
        "\n",
        "            process_physical = subprocess.Popen(['sysctl', \"hw.physicalcpu\"], stdout=subprocess.PIPE, stderr=subprocess.PIPE)\n",
        "            stdout_physical, stderr_physical = process_physical.communicate()\n",
        "            physical_cores = stdout_physical.decode().split(': ')[1].strip() if stdout_physical else \"N/A\"\n",
        "\n",
        "            process_logical = subprocess.Popen(['sysctl', \"hw.logicalcpu\"], stdout=subprocess.PIPE, stderr=subprocess.PIPE)\n",
        "            stdout_logical, stderr_logical = process_logical.communicate()\n",
        "            logical_cores = stdout_logical.decode().split(': ')[1].strip() if stdout_logical else \"N/A\"\n",
        "\n",
        "        except:\n",
        "            cpu_info = \"Could not retrieve CPU info\"\n",
        "            physical_cores = \"N/A\"\n",
        "            logical_cores = \"N/A\"\n",
        "\n",
        "    else:  # Linux 系统\n",
        "        try:\n",
        "            # 在 Linux 上读取 /proc/cpuinfo 文件获取 CPU 信息和核心数量\n",
        "            with open('/proc/cpuinfo') as f:\n",
        "                physical_cores_count = 0\n",
        "                logical_cores_count = 0\n",
        "                cpu_info_lines = []\n",
        "                for line in f:\n",
        "                    if line.startswith('model name'): # 查找以 'model name'开头的行\n",
        "                        if not cpu_info: # 只获取第一个 model name\n",
        "                            cpu_info = line.split(': ')[1].strip()\n",
        "                    elif line.startswith('cpu cores'): # 查找以 'cpu cores' 开头的行\n",
        "                        physical_cores_count = int(line.split(': ')[1].strip())\n",
        "                    elif line.startswith('processor'): # 查找以 'processor' 开头的行\n",
        "                        logical_cores_count += 1\n",
        "                physical_cores = str(physical_cores_count) if physical_cores_count > 0 else \"N/A\"\n",
        "                logical_cores = str(logical_cores_count) if logical_cores_count > 0 else \"N/A\"\n",
        "                if not cpu_info:\n",
        "                     cpu_info = \"Could not retrieve CPU info\"\n",
        "\n",
        "        except:\n",
        "            cpu_info = \"Could not retrieve CPU info\"\n",
        "            physical_cores = \"N/A\"\n",
        "            logical_cores = \"N/A\"\n",
        "\n",
        "    return f\"{cpu_info} ({physical_cores} physical cores, {logical_cores} logical cores)\" # 返回 CPU 信息和核心数量\n",
        "\n",
        "\n",
        "# 获取内存信息的函数\n",
        "def get_memory_info():\n",
        "    mem_info = \"\" # 初始化内存信息字符串\n",
        "    if platform.system() == \"Windows\":\n",
        "        # 在 Windows 上不容易通过标准库获取，需要外部库或 PowerShell\n",
        "        mem_info = \"Requires external tools on Windows\" # 设置提示信息\n",
        "    elif platform.system() == \"Darwin\": # 如果是 macOS 系统\n",
        "        # 在 macOS 上使用 sysctl 命令获取内存大小\n",
        "        process = subprocess.Popen(['sysctl', \"hw.memsize\"], stdout=subprocess.PIPE, stderr=subprocess.PIPE) # 运行 sysctl 命令\n",
        "        stdout, stderr = process.communicate() # 获取标准输出和标准错误\n",
        "        mem_bytes = int(stdout.decode().split(': ')[1].strip()) # 解析输出，获取内存大小（字节）\n",
        "        mem_gb = mem_bytes / (1024**3) # 转换为 GB\n",
        "        mem_info = f\"{mem_gb:.2f} GB\" # 格式化输出\n",
        "    else:  # Linux 系统\n",
        "        try:\n",
        "            # 在 Linux 上读取 /proc/meminfo 文件获取内存信息\n",
        "            with open('/proc/meminfo') as f:\n",
        "                total_mem_kb = 0\n",
        "                available_mem_kb = 0\n",
        "                for line in f:\n",
        "                    if line.startswith('MemTotal'): # 查找以 'MemTotal' 开头的行\n",
        "                        total_mem_kb = int(line.split(':')[1].strip().split()[0]) # 解析行，获取总内存（KB）\n",
        "                    elif line.startswith('MemAvailable'): # 查找以 'MemAvailable' 开头的行\n",
        "                         available_mem_kb = int(line.split(':')[1].strip().split()[0]) # 解析行，获取可用内存（KB）\n",
        "\n",
        "                if total_mem_kb > 0:\n",
        "                    total_mem_gb = total_mem_kb / (1024**2) # 转换为 GB\n",
        "                    mem_info = f\"{total_mem_gb:.2f} GB\" # 格式化输出总内存\n",
        "                    if available_mem_kb > 0:\n",
        "                        available_mem_gb = available_mem_kb / (1024**2)\n",
        "                        mem_info += f\" (Available: {available_mem_gb:.2f} GB)\" # 添加可用内存信息\n",
        "                else:\n",
        "                     mem_info = \"Could not retrieve memory info\" # 如果读取文件出错，设置错误信息\n",
        "\n",
        "        except:\n",
        "            mem_info = \"Could not retrieve memory info\" # 如果读取文件出错，设置错误信息\n",
        "    return mem_info # 返回内存信息\n",
        "\n",
        "# 获取 GPU 信息的函数，包括显存\n",
        "def get_gpu_info():\n",
        "    try:\n",
        "        # 尝试使用 nvidia-smi 获取 NVIDIA GPU 信息和显存\n",
        "        result = subprocess.run(['nvidia-smi', '--query-gpu=name,memory.total', '--format=csv,noheader'], capture_output=True, text=True)\n",
        "        if result.returncode == 0: # 如果命令成功执行\n",
        "            gpu_lines = result.stdout.strip().split('\\n') # 解析输出，获取 GPU 名称和显存\n",
        "            gpu_info_list = []\n",
        "            for line in gpu_lines:\n",
        "                name, memory = line.split(', ')\n",
        "                gpu_info_list.append(f\"{name} ({memory})\") # 格式化 GPU 信息\n",
        "            return \", \".join(gpu_info_list) if gpu_info_list else \"NVIDIA GPU found, but info not listed\" # 返回 GPU 信息或提示信息\n",
        "        else:\n",
        "             # 尝试使用 lshw 获取其他 GPU 信息 (需要安装 lshw)\n",
        "            try:\n",
        "                result_lshw = subprocess.run(['lshw', '-C', 'display'], capture_output=True, text=True)\n",
        "                if result_lshw.returncode == 0: # 如果命令成功执行\n",
        "                     # 简单解析输出中的 product 名称和显存\n",
        "                    gpu_info_lines = []\n",
        "                    current_gpu = {}\n",
        "                    for line in result_lshw.stdout.splitlines():\n",
        "                        if 'product:' in line:\n",
        "                             if current_gpu:\n",
        "                                 gpu_info_lines.append(f\"{current_gpu.get('product', 'GPU')} ({current_gpu.get('memory', 'N/A')})\")\n",
        "                             current_gpu = {'product': line.split('product:')[1].strip()}\n",
        "                        elif 'size:' in line and 'memory' in line:\n",
        "                             current_gpu['memory'] = line.split('size:')[1].strip()\n",
        "\n",
        "                    if current_gpu: # 添加最后一个 GPU 的信息\n",
        "                        gpu_info_lines.append(f\"{current_gpu.get('product', 'GPU')} ({current_gpu.get('memory', 'N/A')})\")\n",
        "\n",
        "                    return \", \".join(gpu_info_lines) if gpu_info_lines else \"GPU found (via lshw), but info not parsed\" # 如果找到 GPU 但信息无法解析，设置提示信息\n",
        "                else:\n",
        "                    return \"No GPU found (checked nvidia-smi and lshw)\" # 如果两个命令都找不到 GPU，设置提示信息\n",
        "            except FileNotFoundError:\n",
        "                 return \"No GPU found (checked nvidia-smi, lshw not found)\" # 如果找不到 lshw 命令，设置提示信息\n",
        "    except FileNotFoundError:\n",
        "        return \"No GPU found (nvidia-smi not found)\" # 如果找不到 nvidia-smi 命令，设置提示信息\n",
        "\n",
        "\n",
        "# 获取 CUDA 版本的函数\n",
        "def get_cuda_version():\n",
        "    try:\n",
        "        # 尝试使用 nvcc --version 获取 CUDA 版本\n",
        "        result = subprocess.run(['nvcc', '--version'], capture_output=True, text=True)\n",
        "        if result.returncode == 0: # 如果命令成功执行\n",
        "            for line in result.stdout.splitlines():\n",
        "                if 'release' in line: # 查找包含 'release' 的行\n",
        "                    return line.split('release ')[1].split(',')[0] # 解析行，提取版本号\n",
        "        return \"CUDA not found or version not parsed\" # 如果找不到 CUDA 或版本无法解析，设置提示信息\n",
        "    except FileNotFoundError:\n",
        "        return \"CUDA not found\" # 如果找不到 nvcc 命令，设置提示信息\n",
        "\n",
        "# 获取 Python 版本的函数\n",
        "def get_python_version():\n",
        "    return platform.python_version() # 获取 Python 版本\n",
        "\n",
        "# 获取 Conda 版本的函数\n",
        "def get_conda_version():\n",
        "    try:\n",
        "        # 尝试使用 conda --version 获取 Conda 版本\n",
        "        result = subprocess.run(['conda', '--version'], capture_output=True, text=True)\n",
        "        if result.returncode == 0: # 如果命令成功执行\n",
        "            return result.stdout.strip() # 返回 Conda 版本\n",
        "        return \"Conda not found or version not parsed\" # 如果找不到 Conda 或版本无法解析，设置提示信息\n",
        "    except FileNotFoundError:\n",
        "        return \"Conda not found\" # 如果找不到 conda 命令，设置提示信息\n",
        "\n",
        "# 获取物理磁盘空间信息的函数\n",
        "def get_disk_space():\n",
        "    try:\n",
        "        total, used, free = shutil.disk_usage(\"/\") # 获取根目录的磁盘使用情况\n",
        "        total_gb = total / (1024**3) # 转换为 GB\n",
        "        used_gb = used / (1024**3) # 转换为 GB\n",
        "        free_gb = free / (1024**3) # 转换为 GB\n",
        "        return f\"Total: {total_gb:.2f} GB, Used: {used_gb:.2f} GB, Free: {free_gb:.2f} GB\" # 格式化输出\n",
        "    except Exception as e:\n",
        "        return f\"Could not retrieve disk info: {e}\" # 如果获取信息出错，设置错误信息\n",
        "\n",
        "# 获取环境信息\n",
        "os_name = platform.system() # 获取操作系统名称\n",
        "os_version = platform.release() # 获取操作系统版本\n",
        "if os_name == \"Linux\":\n",
        "    try:\n",
        "        # 在 Linux 上尝试获取发行版和版本\n",
        "        lsb_info = subprocess.run(['lsb_release', '-a'], capture_output=True, text=True)\n",
        "        if lsb_info.returncode == 0: # 如果命令成功执行\n",
        "            for line in lsb_info.stdout.splitlines():\n",
        "                if 'Description:' in line: # 查找包含 'Description:' 的行\n",
        "                    os_version = line.split('Description:')[1].strip() # 提取描述信息作为版本\n",
        "                    break # 找到后退出循环\n",
        "                elif 'Release:' in line: # 查找包含 'Release:' 的行\n",
        "                     os_version = line.split('Release:')[1].strip() # 提取版本号\n",
        "                     # 尝试获取 codename\n",
        "                     try:\n",
        "                         codename_info = subprocess.run(['lsb_release', '-c'], capture_output=True, text=True)\n",
        "                         if codename_info.returncode == 0:\n",
        "                             os_version += f\" ({codename_info.stdout.split(':')[1].strip()})\" # 将 codename 添加到版本信息中\n",
        "                     except:\n",
        "                         pass # 如果获取 codename 失败则忽略\n",
        "\n",
        "    except FileNotFoundError:\n",
        "        pass # lsb_release 可能未安装，忽略错误\n",
        "\n",
        "full_os_info = f\"{os_name} {os_version}\" # 组合完整的操作系统信息\n",
        "cpu_info = get_cpu_info() # 调用函数获取 CPU 信息和核心数量\n",
        "memory_info = get_memory_info() # 调用函数获取内存信息\n",
        "gpu_info = get_gpu_info() # 调用函数获取 GPU 信息和显存\n",
        "cuda_version = get_cuda_version() # 调用函数获取 CUDA 版本\n",
        "python_version = get_python_version() # 调用函数获取 Python 版本\n",
        "conda_version = get_conda_version() # 调用函数获取 Conda 版本\n",
        "disk_info = get_disk_space() # 调用函数获取物理磁盘空间信息\n",
        "\n",
        "\n",
        "# 创建用于存储数据的字典\n",
        "env_data = {\n",
        "    \"项目\": [ # 项目名称列表\n",
        "        \"操作系统\",\n",
        "        \"CPU 信息\",\n",
        "        \"内存信息\",\n",
        "        \"GPU 信息\",\n",
        "        \"CUDA 信息\",\n",
        "        \"Python 版本\",\n",
        "        \"Conda 版本\",\n",
        "        \"物理磁盘空间\" # 添加物理磁盘空间\n",
        "    ],\n",
        "    \"信息\": [ # 对应的信息列表\n",
        "        full_os_info,\n",
        "        cpu_info,\n",
        "        memory_info,\n",
        "        gpu_info,\n",
        "        cuda_version,\n",
        "        python_version,\n",
        "        conda_version,\n",
        "        disk_info # 添加物理磁盘空间信息\n",
        "    ]\n",
        "}\n",
        "\n",
        "# 创建一个 pandas DataFrame\n",
        "df = pd.DataFrame(env_data)\n",
        "\n",
        "# 打印表格\n",
        "print(\"### 环境信息\") # 打印标题\n",
        "print(df.to_markdown(index=False)) # 将 DataFrame 转换为 Markdown 格式并打印，不包含索引\n"
      ]
    },
    {
      "cell_type": "markdown",
      "id": "e0a5763f-5f45-4b8f-b3e2-480f46c5721b",
      "metadata": {
        "id": "e0a5763f-5f45-4b8f-b3e2-480f46c5721b"
      },
      "source": [
        "# 研究助理（Research Assistant）\n",
        "\n",
        "## 回顾\n",
        "\n",
        "本节将用到 LangGraph 的几个核心主题：\n",
        "\n",
        "- 记忆（Memory）\n",
        "- 人机协同（Human-in-the-loop）\n",
        "- 可控性（Controllability）\n",
        "\n",
        "现在，我们把这些理念整合起来，构建一个非常常见且实用的 AI 应用：研究自动化。\n",
        "\n",
        "传统研究通常由分析师承担，工作繁琐、耗时。AI 在这方面有很大助力空间。\n",
        "\n",
        "但研究环节需要强定制化：直接使用大模型原始输出，往往不适合真实的决策流程。\n",
        "\n",
        "基于 AI 的定制化「研究与报告生成」工作流，是一个可行且有前景的方向（参考：[Reports over RAG](https://jxnl.co/writing/2024/06/05/predictions-for-the-future-of-rag/#reports-over-rag)）。\n",
        "\n",
        "## 目标\n",
        "\n",
        "构建一个围绕聊天模型的「轻量级多智能体」系统，用于定制化研究流程。\n",
        "\n",
        "`数据源选择（Source Selection）`\n",
        "- 用户可以自由选择任意研究输入源。\n",
        "\n",
        "`规划（Planning）`\n",
        "- 用户给出主题，系统生成一支 AI 分析师团队，每位分析师负责一个子主题。\n",
        "- 在研究开始前，通过「人机协同」来微调/确认这些子主题。\n",
        "\n",
        "`大模型使用（LLM Utilization）`\n",
        "- 每位分析师会基于所选数据源，与专家型 AI 进行深入「访谈」。\n",
        "- 访谈为多轮对话，旨在抽取更具体、更有洞见的信息（类似于 [STORM](https://arxiv.org/abs/2402.14207) 论文中的做法）。\n",
        "- 这些访谈将使用带有内部状态的 `子图（sub-graphs）` 来承载与追踪。\n",
        "\n",
        "`研究过程（Research Process）`\n",
        "- 专家会并行收集信息以回答分析师的问题（`parallel`）。\n",
        "- 所有访谈将通过 `map-reduce` 同步进行与汇总。\n",
        "\n",
        "`输出格式（Output Format）`\n",
        "- 将每次访谈中得到的洞见进行综合，产出最终报告。\n",
        "- 报告使用可定制提示词，便于灵活调整输出格式。\n",
        "\n",
        "![Screenshot 2024-08-26 at 7.26.33 PM.png](https://cdn.prod.website-files.com/65b8cd72835ceeacd4449a53/66dbb164d61c93d48e604091_research-assistant1.png)"
      ]
    },
    {
      "cell_type": "code",
      "execution_count": 5,
      "id": "f23991e9-51b3-4e9f-86a0-dec16aa7d1e6",
      "metadata": {
        "id": "f23991e9-51b3-4e9f-86a0-dec16aa7d1e6",
        "scrolled": true
      },
      "outputs": [],
      "source": [
        "%%capture --no-stderr\n",
        "# 安装项目所需的Python包\n",
        "# 使用 %%capture --no-stderr 来隐藏安装过程中的输出信息，保持notebook整洁\n",
        "# %pip install --quiet -U langgraph langchain_openai langchain_community langchain_core tavily-python wikipedia\n",
        "%pip install --quiet langgraph==0.6.7 langchain_openai==0.3.32 langchain_community==0.3.29 langchain_core==0.3.75 tavily-python==0.7.12 wikipedia==1.4.0\n",
        "\n",
        "# 包说明：\n",
        "# - langgraph: LangGraph框架，用于构建多智能体工作流\n",
        "# - langchain_openai: LangChain的OpenAI集成，用于调用GPT模型\n",
        "# - langchain_community: LangChain社区工具集，包含各种第三方集成\n",
        "# - langchain_core: LangChain核心组件，提供基础功能\n",
        "# - tavily-python: Tavily搜索API客户端，用于网络搜索\n",
        "# - wikipedia: 维基百科API客户端，用于获取维基百科内容"
      ]
    },
    {
      "cell_type": "markdown",
      "id": "99a1c01d-87e1-4723-b83e-ebcf937fe914",
      "metadata": {
        "id": "99a1c01d-87e1-4723-b83e-ebcf937fe914"
      },
      "source": [
        "## 环境准备（Setup）"
      ]
    },
    {
      "cell_type": "code",
      "execution_count": 6,
      "id": "ba917800-10e4-4e2a-8e9e-30893b731e97",
      "metadata": {
        "colab": {
          "base_uri": "https://localhost:8080/"
        },
        "id": "ba917800-10e4-4e2a-8e9e-30893b731e97",
        "outputId": "83a1d95a-fda4-44eb-d61b-650e5294a192"
      },
      "outputs": [
        {
          "name": "stdout",
          "output_type": "stream",
          "text": [
            "OPENAI_API_KEY: ··········\n",
            "OPENAI_BASE_URL: ··········\n"
          ]
        }
      ],
      "source": [
        "import os, getpass\n",
        "\n",
        "def _set_env(var: str):\n",
        "    \"\"\"\n",
        "    安全设置环境变量的辅助函数\n",
        "\n",
        "    参数:\n",
        "        var (str): 环境变量名称\n",
        "\n",
        "    功能:\n",
        "        - 检查环境变量是否已存在\n",
        "        - 如果不存在，则通过getpass安全地获取用户输入\n",
        "        - 将用户输入设置为环境变量值\n",
        "    \"\"\"\n",
        "    if not os.environ.get(var):\n",
        "        os.environ[var] = getpass.getpass(f\"{var}: \")\n",
        "\n",
        "# 设置 OpenAI API 密钥\n",
        "# 这是使用 OpenAI 模型所必需的，用于身份验证\n",
        "_set_env(\"OPENAI_API_KEY\")\n",
        "\n",
        "# 设置 OpenAI API代理地址 (例如：https://api.apiyi.com/v1）\n",
        "# 用于配置API请求的基础URL，支持使用代理服务\n",
        "_set_env(\"OPENAI_BASE_URL\")"
      ]
    },
    {
      "cell_type": "code",
      "execution_count": 7,
      "id": "afe9ff57-0826-4669-b88b-4d0501a509f5",
      "metadata": {
        "id": "afe9ff57-0826-4669-b88b-4d0501a509f5"
      },
      "outputs": [],
      "source": [
        "from langchain_openai import ChatOpenAI\n",
        "\n",
        "# 初始化OpenAI聊天模型\n",
        "# 使用GPT-4o模型，这是OpenAI最新的多模态大语言模型\n",
        "# temperature=0 确保输出结果具有确定性和一致性，适合需要稳定输出的场景\n",
        "llm = ChatOpenAI(model=\"gpt-4o\", temperature=0)"
      ]
    },
    {
      "cell_type": "markdown",
      "id": "3419257b-2c6b-4d68-ae38-4a266cc02982",
      "metadata": {
        "id": "3419257b-2c6b-4d68-ae38-4a266cc02982"
      },
      "source": [
        "我们将使用 [LangSmith](https://docs.smith.langchain.com/) 进行[链路追踪（tracing）](https://docs.smith.langchain.com/concepts/tracing)，便于调试与分析。"
      ]
    },
    {
      "cell_type": "code",
      "execution_count": 8,
      "id": "5102cf2e-0ca9-465b-9499-67abb8132e5d",
      "metadata": {
        "colab": {
          "base_uri": "https://localhost:8080/"
        },
        "id": "5102cf2e-0ca9-465b-9499-67abb8132e5d",
        "outputId": "80443743-4d07-4601-884b-256543e8c211"
      },
      "outputs": [
        {
          "name": "stdout",
          "output_type": "stream",
          "text": [
            "LANGSMITH_API_KEY: ··········\n"
          ]
        }
      ],
      "source": [
        "# 设置LangSmith追踪配置\n",
        "# LangSmith是LangChain的官方监控和调试平台\n",
        "_set_env(\"LANGSMITH_API_KEY\")  # 设置LangSmith API密钥\n",
        "os.environ[\"LANGSMITH_TRACING\"] = \"true\"  # 启用链路追踪功能\n",
        "os.environ[\"LANGSMITH_PROJECT\"] = \"FlyAIBox\" # 设置项目名称，用于组织追踪数据"
      ]
    },
    {
      "cell_type": "markdown",
      "id": "f8fe5d93-e353-44bb-be3e-434654bcb7ea",
      "metadata": {
        "id": "f8fe5d93-e353-44bb-be3e-434654bcb7ea"
      },
      "source": [
        "## 分析师：人机协同（Human-In-The-Loop）\n",
        "\n",
        "通过人机协同的方式生成并审核分析师角色。"
      ]
    },
    {
      "cell_type": "code",
      "execution_count": 9,
      "id": "1eee8e60-e548-49b1-88ec-a4f3aef2174e",
      "metadata": {
        "id": "1eee8e60-e548-49b1-88ec-a4f3aef2174e"
      },
      "outputs": [],
      "source": [
        "from typing import List\n",
        "from typing_extensions import TypedDict\n",
        "from pydantic import BaseModel, Field\n",
        "\n",
        "class Analyst(BaseModel):\n",
        "    \"\"\"\n",
        "    分析师数据模型\n",
        "\n",
        "    用于定义每个AI分析师的基本信息和角色特征\n",
        "    每个分析师代表一个特定的研究视角和专长领域\n",
        "    \"\"\"\n",
        "    affiliation: str = Field(\n",
        "        description=\"分析师的主要隶属机构或组织\",\n",
        "    )\n",
        "    name: str = Field(\n",
        "        description=\"分析师姓名\"\n",
        "    )\n",
        "    role: str = Field(\n",
        "        description=\"分析师在研究主题中的具体角色定位\",\n",
        "    )\n",
        "    description: str = Field(\n",
        "        description=\"分析师的关注焦点、关切点和动机的详细描述\",\n",
        "    )\n",
        "\n",
        "    @property\n",
        "    def persona(self) -> str:\n",
        "        \"\"\"\n",
        "        生成分析师人设描述\n",
        "\n",
        "        返回:\n",
        "            str: 格式化的分析师人设信息，用于后续的AI对话中\n",
        "        \"\"\"\n",
        "        return f\"Name: {self.name}\\nRole: {self.role}\\nAffiliation: {self.affiliation}\\nDescription: {self.description}\\n\"\n",
        "\n",
        "class Perspectives(BaseModel):\n",
        "    \"\"\"\n",
        "    分析师集合数据模型\n",
        "\n",
        "    用于存储和管理多个分析师的信息\n",
        "    支持结构化输出，确保AI生成的分析师信息格式正确\n",
        "    \"\"\"\n",
        "    analysts: List[Analyst] = Field(\n",
        "        description=\"包含所有分析师角色和隶属机构的综合列表\",\n",
        "    )\n",
        "\n",
        "class GenerateAnalystsState(TypedDict):\n",
        "    \"\"\"\n",
        "    分析师生成状态管理\n",
        "\n",
        "    用于在LangGraph工作流中管理分析师生成过程的状态信息\n",
        "    \"\"\"\n",
        "    topic: str  # 研究主题\n",
        "    max_analysts: int  # 分析师数量上限\n",
        "    human_analyst_feedback: str  # 人类反馈信息，用于人机协同调整\n",
        "    analysts: List[Analyst]  # 生成的分析师列表"
      ]
    },
    {
      "cell_type": "code",
      "execution_count": 10,
      "id": "fd088ff5-4c75-412c-85f0-04afd0900bfc",
      "metadata": {
        "colab": {
          "base_uri": "https://localhost:8080/",
          "height": 428
        },
        "id": "fd088ff5-4c75-412c-85f0-04afd0900bfc",
        "outputId": "8cbe4ba3-72f9-4663-e0e7-de8a1d62750d"
      },
      "outputs": [
        {
          "output_type": "stream",
          "name": "stdout",
          "text": [
            "图可视化：\n"
          ]
        },
        {
          "output_type": "display_data",
          "data": {
            "image/png": "[encoded data removed]",
            "text/plain": [
              "<IPython.core.display.Image object>"
            ]
          },
          "metadata": {}
        },
        {
          "output_type": "stream",
          "name": "stdout",
          "text": [
            "✅ 图渲染成功！\n"
          ]
        }
      ],
      "source": [
        "from IPython.display import Image, display\n",
        "from langgraph.graph import START, END, StateGraph\n",
        "from langgraph.checkpoint.memory import MemorySaver\n",
        "from langchain_core.messages import AIMessage, HumanMessage, SystemMessage\n",
        "\n",
        "# 分析师生成指令模板\n",
        "# 这个提示词指导AI如何根据研究主题创建合适的分析师团队\n",
        "analyst_instructions=\"\"\"你需要创建一组 AI 分析师人设。请严格遵循以下指引：\n",
        "\n",
        "1. 先审阅研究主题：\n",
        "{topic}\n",
        "\n",
        "2. 查看（可选的）编辑反馈，它将指导分析师的人设创建：\n",
        "\n",
        "{human_analyst_feedback}\n",
        "\n",
        "3. 基于上述文档与/或反馈，识别最值得关注的主题。\n",
        "\n",
        "4. 选出前 {max_analysts} 个主题。\n",
        "\n",
        "5. 为每个主题分配一位分析师。\"\"\"\n",
        "\n",
        "def create_analysts(state: GenerateAnalystsState):\n",
        "    \"\"\"\n",
        "    创建分析师人设的核心函数\n",
        "\n",
        "    功能:\n",
        "        1. 根据研究主题和人类反馈生成分析师团队\n",
        "        2. 使用结构化输出确保生成的分析师信息格式正确\n",
        "        3. 将生成的分析师信息存储到状态中\n",
        "\n",
        "    参数:\n",
        "        state: 包含研究主题、分析师数量限制和人类反馈的状态对象\n",
        "\n",
        "    返回:\n",
        "        dict: 包含生成的分析师列表的字典\n",
        "    \"\"\"\n",
        "    # 从状态中提取必要信息\n",
        "    topic = state['topic']\n",
        "    max_analysts = state['max_analysts']\n",
        "    human_analyst_feedback = state.get('human_analyst_feedback', '')\n",
        "\n",
        "    # 配置结构化输出，确保返回Perspectives格式的数据\n",
        "    structured_llm = llm.with_structured_output(Perspectives)\n",
        "\n",
        "    # 构建系统消息，包含研究主题、反馈和数量限制\n",
        "    system_message = analyst_instructions.format(\n",
        "        topic=topic,\n",
        "        human_analyst_feedback=human_analyst_feedback,\n",
        "        max_analysts=max_analysts\n",
        "    )\n",
        "\n",
        "    # 调用大模型生成分析师集合\n",
        "    analysts = structured_llm.invoke([\n",
        "        SystemMessage(content=system_message),\n",
        "        HumanMessage(content=\"生成分析师集合。\")\n",
        "    ])\n",
        "\n",
        "    # 将分析师列表写入状态，供后续节点使用\n",
        "    return {\"analysts\": analysts.analysts}\n",
        "\n",
        "def human_feedback(state: GenerateAnalystsState):\n",
        "    \"\"\"\n",
        "    人机协同中断点节点\n",
        "\n",
        "    功能:\n",
        "        - 作为工作流的中断点，允许人类审查和修改生成的分析师\n",
        "        - 这是一个空操作节点，主要用于流程控制\n",
        "        - 人类可以在此节点提供反馈，系统会根据反馈重新生成分析师\n",
        "\n",
        "    参数:\n",
        "        state: 当前状态对象\n",
        "    \"\"\"\n",
        "    pass\n",
        "\n",
        "def should_continue(state: GenerateAnalystsState):\n",
        "    \"\"\"\n",
        "    条件路由函数：决定工作流的下一步执行\n",
        "\n",
        "    功能:\n",
        "        - 检查是否有人类反馈\n",
        "        - 如果有反馈，重新生成分析师\n",
        "        - 如果没有反馈，结束流程\n",
        "\n",
        "    参数:\n",
        "        state: 当前状态对象\n",
        "\n",
        "    返回:\n",
        "        str: 下一个要执行的节点名称\n",
        "    \"\"\"\n",
        "    # 检查是否有人类反馈\n",
        "    human_analyst_feedback = state.get('human_analyst_feedback', None)\n",
        "    if human_analyst_feedback:\n",
        "        return \"create_analysts\"  # 有反馈，重新生成分析师\n",
        "\n",
        "    # 没有反馈，结束流程\n",
        "    return END\n",
        "\n",
        "# 构建LangGraph工作流\n",
        "builder = StateGraph(GenerateAnalystsState)\n",
        "\n",
        "# 添加节点到工作流\n",
        "builder.add_node(\"create_analysts\", create_analysts)  # 分析师生成节点\n",
        "builder.add_node(\"human_feedback\", human_feedback)    # 人类反馈节点\n",
        "\n",
        "# 添加边连接节点\n",
        "builder.add_edge(START, \"create_analysts\")  # 开始 -> 生成分析师\n",
        "builder.add_edge(\"create_analysts\", \"human_feedback\")  # 生成分析师 -> 人类反馈\n",
        "\n",
        "# 添加条件边：根据是否有反馈决定下一步\n",
        "builder.add_conditional_edges(\n",
        "    \"human_feedback\",\n",
        "    should_continue,\n",
        "    [\"create_analysts\", END]\n",
        ")\n",
        "\n",
        "# 编译工作流\n",
        "memory = MemorySaver()  # 使用内存检查点保存状态\n",
        "graph = builder.compile(\n",
        "    interrupt_before=['human_feedback'],  # 在人类反馈节点前中断\n",
        "    checkpointer=memory\n",
        ")\n",
        "\n",
        "# 展示图结构\n",
        "# 图可视化\n",
        "print(\"图可视化：\")\n",
        "\n",
        "# 方案1：尝试使用 Pyppeteer 本地渲染（推荐）\n",
        "try:\n",
        "    # 可视化：通过 Mermaid 渲染图结构\n",
        "    display(Image(graph.get_graph(xray=1).draw_mermaid_png()))\n",
        "    print(\"✅ 图渲染成功！\")\n",
        "except Exception as e:\n",
        "    print(f\"❌ Pyppeteer 渲染失败: {e}\")\n",
        "\n",
        "    # 方案2：显示 Mermaid 文本格式\n",
        "    print(\"\\n📝 图结构（Mermaid 文本格式）：\")\n",
        "    print(\"=\" * 50)\n",
        "    mermaid_text = graph.get_graph().draw_mermaid()\n",
        "    print(mermaid_text)\n",
        "    print(\"=\" * 50)\n",
        "\n",
        "    # 方案3：显示图的节点和边信息\n",
        "    print(\"\\n🔗 图结构信息：\")\n",
        "    print(\"节点:\", list(graph.get_graph().nodes.keys()))\n",
        "    print(\"边:\", list(graph.get_graph().edges))\n",
        "\n",
        "    # 方案4：提供手动渲染说明\n",
        "    print(\"\\n💡 手动渲染说明：\")\n",
        "    print(\"1. 复制上面的 Mermaid 文本\")\n",
        "    print(\"2. 访问 https://mermaid.live/\")\n",
        "    print(\"3. 粘贴文本到编辑器中查看图形\")\n",
        "    print(\"4. 或者使用支持 Mermaid 的 Markdown 编辑器\")"
      ]
    },
    {
      "cell_type": "markdown",
      "id": "9fd42b0a-188c-4374-a03c-a2ca8272cdcf",
      "metadata": {
        "id": "9fd42b0a-188c-4374-a03c-a2ca8272cdcf"
      },
      "source": [
        "![image-20250930152238678](https://cdn.jsdelivr.net/gh/Fly0905/note-picture@main/imag/202509301522726.png)"
      ]
    },
    {
      "cell_type": "code",
      "execution_count": 11,
      "id": "6c22cb05-c436-4358-8f7a-72d722f9b5cc",
      "metadata": {
        "colab": {
          "base_uri": "https://localhost:8080/"
        },
        "id": "6c22cb05-c436-4358-8f7a-72d722f9b5cc",
        "outputId": "34730722-f511-417f-9004-7f5943e808f8"
      },
      "outputs": [
        {
          "output_type": "stream",
          "name": "stdout",
          "text": [
            "Name: John Smith\n",
            "Affiliation: AI Systems Research Lab\n",
            "Role: AI Framework Architect\n",
            "Description: John专注于AI框架的架构设计和性能优化。他对LangGraph的模块化设计和可扩展性特别感兴趣，认为这可以显著提高AI系统的开发效率和灵活性。\n",
            "--------------------------------------------------\n",
            "Name: Emily Johnson\n",
            "Affiliation: Data Science Institute\n",
            "Role: Data Processing Specialist\n",
            "Description: Emily研究AI框架在数据处理和分析中的应用。她关注LangGraph如何通过其高效的数据流管理和处理能力，提升数据科学项目的执行效率。\n",
            "--------------------------------------------------\n",
            "Name: Michael Lee\n",
            "Affiliation: Human-AI Interaction Group\n",
            "Role: User Experience Researcher\n",
            "Description: Michael致力于研究AI系统的用户体验和可用性。他认为LangGraph的直观接口和易用性可以降低用户的学习曲线，促进更广泛的应用。\n",
            "--------------------------------------------------\n"
          ]
        }
      ],
      "source": [
        "# Input\n",
        "max_analysts = 3\n",
        "topic = \"采用LangGraph作为AI Agent框架的好处\"\n",
        "thread = {\"configurable\": {\"thread_id\": \"1\"}}\n",
        "\n",
        "# Run the graph until the first interruption\n",
        "for event in graph.stream({\"topic\":topic,\"max_analysts\":max_analysts,}, thread, stream_mode=\"values\"):\n",
        "    # Review\n",
        "    analysts = event.get('analysts', '')\n",
        "    if analysts:\n",
        "        for analyst in analysts:\n",
        "            print(f\"Name: {analyst.name}\")\n",
        "            print(f\"Affiliation: {analyst.affiliation}\")\n",
        "            print(f\"Role: {analyst.role}\")\n",
        "            print(f\"Description: {analyst.description}\")\n",
        "            print(\"-\" * 50)"
      ]
    },
    {
      "cell_type": "code",
      "execution_count": 12,
      "id": "2f81ad23-5656-43e6-b50a-0d7a4f69a60a",
      "metadata": {
        "colab": {
          "base_uri": "https://localhost:8080/"
        },
        "id": "2f81ad23-5656-43e6-b50a-0d7a4f69a60a",
        "outputId": "73b5df90-e5e2-4413-c50a-15b4a91f9f09"
      },
      "outputs": [
        {
          "output_type": "execute_result",
          "data": {
            "text/plain": [
              "('human_feedback',)"
            ]
          },
          "metadata": {},
          "execution_count": 12
        }
      ],
      "source": [
        "# Get state and look at next node\n",
        "state = graph.get_state(thread)\n",
        "state.next"
      ]
    },
    {
      "cell_type": "code",
      "execution_count": 13,
      "id": "72b2a402-fd10-4f26-9a32-3e3c0d4aaf76",
      "metadata": {
        "colab": {
          "base_uri": "https://localhost:8080/"
        },
        "id": "72b2a402-fd10-4f26-9a32-3e3c0d4aaf76",
        "outputId": "ee4ff53a-e11f-41db-b829-34014225ce14"
      },
      "outputs": [
        {
          "output_type": "execute_result",
          "data": {
            "text/plain": [
              "{'configurable': {'thread_id': '1',\n",
              "  'checkpoint_ns': '',\n",
              "  'checkpoint_id': '1f09e61d-d88e-6557-8002-37f1006d6404'}}"
            ]
          },
          "metadata": {},
          "execution_count": 13
        }
      ],
      "source": [
        "# We now update the state as if we are the human_feedback node\n",
        "graph.update_state(thread, {\"human_analyst_feedback\":\n",
        "      \"加入一位来自初创公司的人，以增加创业者的视角\"}, as_node=\"human_feedback\")"
      ]
    },
    {
      "cell_type": "code",
      "execution_count": 14,
      "id": "b8816eb9-9906-441b-b552-be71107db14f",
      "metadata": {
        "colab": {
          "base_uri": "https://localhost:8080/"
        },
        "id": "b8816eb9-9906-441b-b552-be71107db14f",
        "outputId": "91ed694b-ce59-441e-a61c-dff8c7f7ba02"
      },
      "outputs": [
        {
          "output_type": "stream",
          "name": "stdout",
          "text": [
            "Name: John Smith\n",
            "Affiliation: AI Systems Research Lab\n",
            "Role: AI Framework Architect\n",
            "Description: John专注于AI框架的架构设计和性能优化。他对LangGraph的模块化设计和可扩展性特别感兴趣，认为这可以显著提高AI系统的开发效率和灵活性。\n",
            "--------------------------------------------------\n",
            "Name: Emily Johnson\n",
            "Affiliation: Data Science Institute\n",
            "Role: Data Processing Specialist\n",
            "Description: Emily研究AI框架在数据处理和分析中的应用。她关注LangGraph如何通过其高效的数据流管理和处理能力，提升数据科学项目的执行效率。\n",
            "--------------------------------------------------\n",
            "Name: Michael Lee\n",
            "Affiliation: Human-AI Interaction Group\n",
            "Role: User Experience Researcher\n",
            "Description: Michael致力于研究AI系统的用户体验和可用性。他认为LangGraph的直观接口和易用性可以降低用户的学习曲线，促进更广泛的应用。\n",
            "--------------------------------------------------\n",
            "Name: John Smith\n",
            "Affiliation: Tech Research Institute\n",
            "Role: 技术专家\n",
            "Description: John专注于AI框架的技术优势，特别是LangGraph在处理复杂语言模型时的性能和效率。他对比了其他框架，强调LangGraph在可扩展性和模块化方面的独特优势。\n",
            "--------------------------------------------------\n",
            "Name: Maria Garcia\n",
            "Affiliation: Data Security Solutions\n",
            "Role: 数据安全分析师\n",
            "Description: Maria关注LangGraph在数据安全和隐私保护方面的应用。她分析了该框架如何通过内置的安全协议和加密技术来保护用户数据，确保在AI应用中的隐私合规性。\n",
            "--------------------------------------------------\n",
            "Name: Alex Johnson\n",
            "Affiliation: Startup Innovators\n",
            "Role: 创业者视角分析师\n",
            "Description: Alex从创业者的角度探讨了LangGraph的应用。他强调了该框架在快速开发和部署AI解决方案中的灵活性，以及如何帮助初创公司在资源有限的情况下实现创新。\n",
            "--------------------------------------------------\n"
          ]
        }
      ],
      "source": [
        "# Continue the graph execution\n",
        "for event in graph.stream(None, thread, stream_mode=\"values\"):\n",
        "    # Review\n",
        "    analysts = event.get('analysts', '')\n",
        "    if analysts:\n",
        "        for analyst in analysts:\n",
        "            print(f\"Name: {analyst.name}\")\n",
        "            print(f\"Affiliation: {analyst.affiliation}\")\n",
        "            print(f\"Role: {analyst.role}\")\n",
        "            print(f\"Description: {analyst.description}\")\n",
        "            print(\"-\" * 50)"
      ]
    },
    {
      "cell_type": "code",
      "execution_count": 15,
      "id": "a43ac322-5926-4932-8653-68206fec0d2c",
      "metadata": {
        "colab": {
          "base_uri": "https://localhost:8080/"
        },
        "id": "a43ac322-5926-4932-8653-68206fec0d2c",
        "outputId": "8fbc6dff-6b2d-487e-a943-8b3c4bc48304"
      },
      "outputs": [
        {
          "output_type": "execute_result",
          "data": {
            "text/plain": [
              "{'configurable': {'thread_id': '1',\n",
              "  'checkpoint_ns': '',\n",
              "  'checkpoint_id': '1f09e61d-f695-667c-8004-4e463463f0fd'}}"
            ]
          },
          "metadata": {},
          "execution_count": 15
        }
      ],
      "source": [
        "# 如果我们满意，那么我们就简单地不提供反馈\n",
        "further_feedack = None\n",
        "graph.update_state(thread, {\"human_analyst_feedback\":\n",
        "                            further_feedack}, as_node=\"human_feedback\")"
      ]
    },
    {
      "cell_type": "code",
      "execution_count": 16,
      "id": "ab034e65-aeee-4723-8d6d-74541b548425",
      "metadata": {
        "id": "ab034e65-aeee-4723-8d6d-74541b548425"
      },
      "outputs": [],
      "source": [
        "# Continue the graph execution to end\n",
        "for event in graph.stream(None, thread, stream_mode=\"updates\"):\n",
        "    print(\"--Node--\")\n",
        "    node_name = next(iter(event.keys()))\n",
        "    print(node_name)"
      ]
    },
    {
      "cell_type": "code",
      "execution_count": 17,
      "id": "2f204e8a-285c-4e46-8223-a695caec7764",
      "metadata": {
        "id": "2f204e8a-285c-4e46-8223-a695caec7764"
      },
      "outputs": [],
      "source": [
        "final_state = graph.get_state(thread)\n",
        "analysts = final_state.values.get('analysts')"
      ]
    },
    {
      "cell_type": "code",
      "execution_count": 18,
      "id": "59704086-cb3b-42e9-8395-37be6f0d44e9",
      "metadata": {
        "colab": {
          "base_uri": "https://localhost:8080/"
        },
        "id": "59704086-cb3b-42e9-8395-37be6f0d44e9",
        "outputId": "21479871-d85a-45d5-ad96-d1d52fe4ce70"
      },
      "outputs": [
        {
          "output_type": "execute_result",
          "data": {
            "text/plain": [
              "()"
            ]
          },
          "metadata": {},
          "execution_count": 18
        }
      ],
      "source": [
        "final_state.next"
      ]
    },
    {
      "cell_type": "code",
      "execution_count": 19,
      "id": "95717ba3-aa00-48d6-bbb7-5fe4db5919bf",
      "metadata": {
        "colab": {
          "base_uri": "https://localhost:8080/"
        },
        "id": "95717ba3-aa00-48d6-bbb7-5fe4db5919bf",
        "outputId": "973f4b8a-b94c-4f28-9544-5ee6c7189fcb"
      },
      "outputs": [
        {
          "output_type": "stream",
          "name": "stdout",
          "text": [
            "Name: John Smith\n",
            "Affiliation: Tech Research Institute\n",
            "Role: 技术专家\n",
            "Description: John专注于AI框架的技术优势，特别是LangGraph在处理复杂语言模型时的性能和效率。他对比了其他框架，强调LangGraph在可扩展性和模块化方面的独特优势。\n",
            "--------------------------------------------------\n",
            "Name: Maria Garcia\n",
            "Affiliation: Data Security Solutions\n",
            "Role: 数据安全分析师\n",
            "Description: Maria关注LangGraph在数据安全和隐私保护方面的应用。她分析了该框架如何通过内置的安全协议和加密技术来保护用户数据，确保在AI应用中的隐私合规性。\n",
            "--------------------------------------------------\n",
            "Name: Alex Johnson\n",
            "Affiliation: Startup Innovators\n",
            "Role: 创业者视角分析师\n",
            "Description: Alex从创业者的角度探讨了LangGraph的应用。他强调了该框架在快速开发和部署AI解决方案中的灵活性，以及如何帮助初创公司在资源有限的情况下实现创新。\n",
            "--------------------------------------------------\n"
          ]
        }
      ],
      "source": [
        "for analyst in analysts:\n",
        "    print(f\"Name: {analyst.name}\")\n",
        "    print(f\"Affiliation: {analyst.affiliation}\")\n",
        "    print(f\"Role: {analyst.role}\")\n",
        "    print(f\"Description: {analyst.description}\")\n",
        "    print(\"-\" * 50)"
      ]
    },
    {
      "cell_type": "markdown",
      "id": "7d2498e4-20ae-4503-9dd0-a4165132b7a7",
      "metadata": {
        "id": "7d2498e4-20ae-4503-9dd0-a4165132b7a7"
      },
      "source": [
        "## 进行访谈（Conduct Interview）\n",
        "\n",
        "### 生成问题（Generate Question）\n",
        "\n",
        "分析师将向专家提出问题。"
      ]
    },
    {
      "cell_type": "code",
      "execution_count": 20,
      "id": "e5d5f559-f42e-442b-87cd-dbf0a91abf9c",
      "metadata": {
        "id": "e5d5f559-f42e-442b-87cd-dbf0a91abf9c"
      },
      "outputs": [],
      "source": [
        "import operator\n",
        "from typing import Annotated\n",
        "from langgraph.graph import MessagesState\n",
        "\n",
        "class InterviewState(MessagesState):\n",
        "    \"\"\"\n",
        "    访谈状态管理类\n",
        "\n",
        "    继承自MessagesState，用于管理分析师与专家之间的对话状态\n",
        "    包含访谈过程中的所有必要信息和上下文\n",
        "    \"\"\"\n",
        "    max_num_turns: int  # 对话轮次上限，控制访谈深度\n",
        "    context: Annotated[list, operator.add]  # 检索到的源文档列表，使用operator.add进行累加\n",
        "    analyst: Analyst  # 当前进行访谈的分析师对象\n",
        "    interview: str  # 完整的访谈记录文本\n",
        "    sections: list  # 访谈摘要小节列表，用于最终报告生成\n",
        "\n",
        "class SearchQuery(BaseModel):\n",
        "    \"\"\"\n",
        "    搜索查询数据模型\n",
        "\n",
        "    用于结构化生成搜索查询，确保搜索请求格式正确\n",
        "    \"\"\"\n",
        "    search_query: str = Field(None, description=\"用于检索的搜索查询语句\")"
      ]
    },
    {
      "cell_type": "code",
      "execution_count": 21,
      "id": "1c2e71eb-07ad-4bea-aabc-dbaf551408c0",
      "metadata": {
        "id": "1c2e71eb-07ad-4bea-aabc-dbaf551408c0"
      },
      "outputs": [],
      "source": [
        "# 问题生成指令模板\n",
        "# 指导AI分析师如何与专家进行有效的访谈对话\n",
        "question_instructions = \"\"\"你是一名分析师，需要通过访谈专家来了解一个具体主题。\n",
        "\n",
        "你的目标是提炼与该主题相关的「有趣且具体」的洞见。\n",
        "\n",
        "1. 有趣（Interesting）：让人感到意外或非显而易见的观点。\n",
        "\n",
        "2. 具体（Specific）：避免泛泛而谈，包含专家提供的具体案例或细节。\n",
        "\n",
        "以下是你的关注主题与目标设定：{goals}\n",
        "\n",
        "请先用符合你人设的名字进行自我介绍，然后提出你的第一个问题。\n",
        "\n",
        "持续追问，逐步深入，逐步完善你对该主题的理解。\n",
        "\n",
        "当你认为信息已充分，请以这句话结束访谈：「非常感谢您的帮助!」\n",
        "\n",
        "请始终保持与你的人设与目标一致的说话方式。\"\"\"\n",
        "\n",
        "def generate_question(state: InterviewState):\n",
        "    \"\"\"\n",
        "    生成访谈问题的核心函数\n",
        "\n",
        "    功能:\n",
        "        1. 根据分析师的人设和当前对话历史生成下一个问题\n",
        "        2. 确保问题符合分析师的关注点和角色定位\n",
        "        3. 维护对话的连贯性和深度\n",
        "\n",
        "    参数:\n",
        "        state: 包含分析师信息和对话历史的状态对象\n",
        "\n",
        "    返回:\n",
        "        dict: 包含新生成问题的消息列表\n",
        "    \"\"\"\n",
        "    # 从状态中获取分析师信息和当前对话历史\n",
        "    analyst = state[\"analyst\"]\n",
        "    messages = state[\"messages\"]\n",
        "\n",
        "    # 构建系统消息，包含分析师的人设信息\n",
        "    system_message = question_instructions.format(goals=analyst.persona)\n",
        "\n",
        "    # 调用大模型生成下一个问题\n",
        "    question = llm.invoke([SystemMessage(content=system_message)] + messages)\n",
        "\n",
        "    # 将生成的问题添加到消息历史中\n",
        "    return {\"messages\": [question]}"
      ]
    },
    {
      "cell_type": "markdown",
      "id": "be2ff33a-6232-4a79-8a82-882a645394f5",
      "metadata": {
        "id": "be2ff33a-6232-4a79-8a82-882a645394f5"
      },
      "source": [
        "### 生成回答：并行化（Parallelization）\n",
        "\n",
        "专家将并行地从多个来源收集信息来回答问题。\n",
        "\n",
        "例如，我们可以使用：\n",
        "\n",
        "- 具体网站（例如通过 [`WebBaseLoader`](https://python.langchain.com/v0.2/docs/integrations/document_loaders/web_base/) 抓取）\n",
        "- 已建立索引的文档（例如基于 [RAG](https://python.langchain.com/v0.2/docs/tutorials/rag/) 的检索）\n",
        "- Web 搜索\n",
        "- 维基百科搜索\n",
        "\n",
        "你也可以尝试不同的 Web 搜索工具，比如 [Tavily](https://tavily.com/)。"
      ]
    },
    {
      "cell_type": "code",
      "execution_count": 22,
      "id": "606ea95b-e811-4299-8b66-835d4016c338",
      "metadata": {
        "colab": {
          "base_uri": "https://localhost:8080/"
        },
        "id": "606ea95b-e811-4299-8b66-835d4016c338",
        "outputId": "57b45bd0-6def-4bf1-b658-cbc0e5ac9be3"
      },
      "outputs": [
        {
          "name": "stdout",
          "output_type": "stream",
          "text": [
            "TAVILY_API_KEY: ··········\n"
          ]
        }
      ],
      "source": [
        "def _set_env(var: str):\n",
        "    \"\"\"\n",
        "    安全设置环境变量的辅助函数（重复定义，保持代码完整性）\n",
        "    \"\"\"\n",
        "    if not os.environ.get(var):\n",
        "        os.environ[var] = getpass.getpass(f\"{var}: \")\n",
        "\n",
        "# 设置Tavily搜索API密钥\n",
        "# Tavily是一个专门为AI应用优化的搜索API，提供高质量的搜索结果\n",
        "_set_env(\"TAVILY_API_KEY\")"
      ]
    },
    {
      "cell_type": "code",
      "execution_count": 23,
      "id": "c61ae74a-f838-4e97-8bd5-48ccd15b7789",
      "metadata": {
        "colab": {
          "base_uri": "https://localhost:8080/"
        },
        "id": "c61ae74a-f838-4e97-8bd5-48ccd15b7789",
        "outputId": "994bd56d-1811-4e47-8c70-ab8e4eb5478d"
      },
      "outputs": [
        {
          "output_type": "stream",
          "name": "stderr",
          "text": [
            "/tmp/ipython-input-1003905209.py:6: LangChainDeprecationWarning: The class `TavilySearchResults` was deprecated in LangChain 0.3.25 and will be removed in 1.0. An updated version of the class exists in the :class:`~langchain-tavily package and should be used instead. To use it run `pip install -U :class:`~langchain-tavily` and import as `from :class:`~langchain_tavily import TavilySearch``.\n",
            "  tavily_search = TavilySearchResults(max_results=3)\n"
          ]
        }
      ],
      "source": [
        "# 网络搜索工具配置\n",
        "from langchain_community.tools.tavily_search import TavilySearchResults\n",
        "\n",
        "# 初始化Tavily搜索工具\n",
        "# max_results=3 限制每次搜索返回的结果数量，平衡信息丰富度和处理效率\n",
        "tavily_search = TavilySearchResults(max_results=3)"
      ]
    },
    {
      "cell_type": "code",
      "execution_count": 24,
      "id": "2d8f760b-5a1a-4fa9-a014-d3fb02bec51c",
      "metadata": {
        "id": "2d8f760b-5a1a-4fa9-a014-d3fb02bec51c"
      },
      "outputs": [],
      "source": [
        "# 维基百科搜索工具配置\n",
        "from langchain_community.document_loaders import WikipediaLoader"
      ]
    },
    {
      "cell_type": "markdown",
      "id": "06cb1603",
      "metadata": {
        "id": "06cb1603"
      },
      "source": [
        "接下来，我们将创建用于 Web 与维基百科检索的节点。\n",
        "\n",
        "还会创建一个用于回答分析师问题的节点。\n",
        "\n",
        "最后，创建用于保存完整访谈内容，以及撰写访谈摘要（“section”）的节点。"
      ]
    },
    {
      "cell_type": "code",
      "execution_count": 25,
      "id": "9c863768-2278-415b-aef1-96fd18c1b1cb",
      "metadata": {
        "colab": {
          "base_uri": "https://localhost:8080/",
          "height": 683
        },
        "id": "9c863768-2278-415b-aef1-96fd18c1b1cb",
        "outputId": "dedaca6d-c38d-45a7-c712-016f9bc9ccd2"
      },
      "outputs": [
        {
          "output_type": "stream",
          "name": "stdout",
          "text": [
            "图可视化：\n"
          ]
        },
        {
          "output_type": "display_data",
          "data": {
            "image/png": "[encoded data removed]",
            "text/plain": [
              "<IPython.core.display.Image object>"
            ]
          },
          "metadata": {}
        },
        {
          "output_type": "stream",
          "name": "stdout",
          "text": [
            "✅ 图渲染成功！\n"
          ]
        }
      ],
      "source": [
        "from langchain_core.messages import get_buffer_string\n",
        "\n",
        "# 搜索查询生成指令\n",
        "# 指导AI如何从对话中提取有效的搜索查询\n",
        "search_instructions = SystemMessage(content=f\"\"\"你将获得一段分析师与专家之间的对话。\n",
        "\n",
        "你的目标是基于这段对话，为Web搜索生成一条结构良好的查询语句。\n",
        "\n",
        "首先，通读整段对话。\n",
        "\n",
        "特别关注分析师最后提出的问题。\n",
        "\n",
        "将这个最终问题转化为结构良好的 Web 搜索查询。\"\"\")\n",
        "\n",
        "def search_web(state: InterviewState):\n",
        "    \"\"\"\n",
        "    通过Web搜索检索相关文档\n",
        "\n",
        "    功能:\n",
        "        1. 分析当前对话内容，生成合适的搜索查询\n",
        "        2. 使用Tavily API执行网络搜索\n",
        "        3. 格式化搜索结果，便于后续处理\n",
        "\n",
        "    参数:\n",
        "        state: 包含对话历史的状态对象\n",
        "\n",
        "    返回:\n",
        "        dict: 包含格式化搜索结果的上下文信息\n",
        "    \"\"\"\n",
        "    # 使用结构化输出生成搜索查询\n",
        "    structured_llm = llm.with_structured_output(SearchQuery)\n",
        "    search_query = structured_llm.invoke([search_instructions] + state['messages'])\n",
        "\n",
        "    # 执行Tavily网络搜索\n",
        "    search_docs = tavily_search.invoke(search_query.search_query)\n",
        "\n",
        "    # 格式化搜索结果，添加来源信息\n",
        "    formatted_search_docs = \"\\n\\n---\\n\\n\".join([\n",
        "        f'<Document href=\"{doc[\"url\"]}\"/>\\n{doc[\"content\"]}\\n</Document>'\n",
        "        for doc in search_docs\n",
        "    ])\n",
        "\n",
        "    return {\"context\": [formatted_search_docs]}\n",
        "\n",
        "def search_wikipedia(state: InterviewState):\n",
        "    \"\"\"\n",
        "    通过维基百科检索相关文档\n",
        "\n",
        "    功能:\n",
        "        1. 分析当前对话内容，生成维基百科搜索查询\n",
        "        2. 使用WikipediaLoader获取维基百科内容\n",
        "        3. 格式化搜索结果，便于后续处理\n",
        "\n",
        "    参数:\n",
        "        state: 包含对话历史的状态对象\n",
        "\n",
        "    返回:\n",
        "        dict: 包含格式化维基百科搜索结果的上下文信息\n",
        "    \"\"\"\n",
        "    # 使用结构化输出生成搜索查询\n",
        "    structured_llm = llm.with_structured_output(SearchQuery)\n",
        "    search_query = structured_llm.invoke([search_instructions] + state['messages'])\n",
        "\n",
        "    # 执行维基百科搜索，限制最多2个文档\n",
        "    search_docs = WikipediaLoader(\n",
        "        query=search_query.search_query,\n",
        "        load_max_docs=2\n",
        "    ).load()\n",
        "\n",
        "    # 格式化维基百科搜索结果\n",
        "    formatted_search_docs = \"\\n\\n---\\n\\n\".join([\n",
        "        f'<Document source=\"{doc.metadata[\"source\"]}\" page=\"{doc.metadata.get(\"page\", \"\")}\"/>\\n{doc.page_content}\\n</Document>'\n",
        "        for doc in search_docs\n",
        "    ])\n",
        "\n",
        "    return {\"context\": [formatted_search_docs]}\n",
        "\n",
        "# 专家回答指令模板\n",
        "# 指导AI专家如何基于检索到的信息回答分析师的问题\n",
        "answer_instructions = \"\"\"你是一位被分析师访谈的专家。\n",
        "\n",
        "以下是分析师的关注领域：{goals}。\n",
        "\n",
        "你的目标是回答访谈者提出的问题。\n",
        "\n",
        "回答问题时，请仅使用以下上下文：\n",
        "\n",
        "{context}\n",
        "\n",
        "回答须遵循如下要求：\n",
        "\n",
        "1. 只使用上下文中提供的信息。\n",
        "\n",
        "2. 不要引入上下文之外的信息，也不要做未在上下文明确说明的假设。\n",
        "\n",
        "3. 上下文在每段文档顶部包含来源信息。\n",
        "\n",
        "4. 在涉及具体论断时，请在相应内容旁标注引用来源编号。例如，针对来源 1 使用 [1]。\n",
        "\n",
        "5. 在答案结尾处按顺序列出引用来源，如：[1] Source 1, [2] Source 2 等。\n",
        "\n",
        "6. 若来源形如：<Document source=\"assistant/docs/llama3_1.pdf\" page=\"7\"/>，则在引用列表中只写：\n",
        "\n",
        "[1] assistant/docs/llama3_1.pdf, page 7\n",
        "\n",
        "并且不要再重复加中括号，也不要附加 Document source 前缀。\"\"\"\n",
        "\n",
        "def generate_answer(state: InterviewState):\n",
        "    \"\"\"\n",
        "    生成专家回答的核心函数\n",
        "\n",
        "    功能:\n",
        "        1. 基于检索到的上下文信息回答分析师的问题\n",
        "        2. 确保回答符合专家的角色定位\n",
        "        3. 提供准确的引用和来源信息\n",
        "\n",
        "    参数:\n",
        "        state: 包含分析师信息、对话历史和检索上下文的状态对象\n",
        "\n",
        "    返回:\n",
        "        dict: 包含专家回答的消息列表\n",
        "    \"\"\"\n",
        "    # 从状态中获取必要信息\n",
        "    analyst = state[\"analyst\"]\n",
        "    messages = state[\"messages\"]\n",
        "    context = state[\"context\"]\n",
        "\n",
        "    # 构建系统消息，包含分析师关注点和检索上下文\n",
        "    system_message = answer_instructions.format(\n",
        "        goals=analyst.persona,\n",
        "        context=context\n",
        "    )\n",
        "\n",
        "    # 调用大模型生成专家回答\n",
        "    answer = llm.invoke([SystemMessage(content=system_message)] + messages)\n",
        "\n",
        "    # 标记该消息来自专家，便于后续路由\n",
        "    answer.name = \"expert\"\n",
        "\n",
        "    # 将专家回答添加到消息历史中\n",
        "    return {\"messages\": [answer]}\n",
        "\n",
        "def save_interview(state: InterviewState):\n",
        "    \"\"\"\n",
        "    保存访谈内容的函数\n",
        "\n",
        "    功能:\n",
        "        1. 将完整的对话历史转换为文本格式\n",
        "        2. 保存访谈记录，供后续报告生成使用\n",
        "\n",
        "    参数:\n",
        "        state: 包含对话历史的状态对象\n",
        "\n",
        "    返回:\n",
        "        dict: 包含完整访谈记录的字典\n",
        "    \"\"\"\n",
        "    # 获取所有对话消息\n",
        "    messages = state[\"messages\"]\n",
        "\n",
        "    # 将消息列表转换为格式化的字符串\n",
        "    interview = get_buffer_string(messages)\n",
        "\n",
        "    # 将访谈记录保存到状态中\n",
        "    return {\"interview\": interview}\n",
        "\n",
        "def route_messages(state: InterviewState, name: str = \"expert\"):\n",
        "    \"\"\"\n",
        "    消息路由函数：决定访谈流程的下一步\n",
        "\n",
        "    功能:\n",
        "        1. 检查是否达到最大对话轮次\n",
        "        2. 检查分析师是否表示访谈结束\n",
        "        3. 决定是继续提问还是保存访谈\n",
        "\n",
        "    参数:\n",
        "        state: 当前访谈状态\n",
        "        name: 专家消息的标识符，默认为\"expert\"\n",
        "\n",
        "    返回:\n",
        "        str: 下一个要执行的节点名称\n",
        "    \"\"\"\n",
        "    # 获取对话消息和最大轮次设置\n",
        "    messages = state[\"messages\"]\n",
        "    max_num_turns = state.get('max_num_turns', 2)\n",
        "\n",
        "    # 统计专家回答次数\n",
        "    num_responses = len([\n",
        "        m for m in messages\n",
        "        if isinstance(m, AIMessage) and m.name == name\n",
        "    ])\n",
        "\n",
        "    # 如果达到最大轮次，结束访谈\n",
        "    if num_responses >= max_num_turns:\n",
        "        return 'save_interview'\n",
        "\n",
        "    # 检查上一个问题是否表明对话结束\n",
        "    # 注意：这里假设倒数第二个消息是分析师的问题\n",
        "    last_question = messages[-2]\n",
        "\n",
        "    if \"非常感谢您的帮助!\" in last_question.content:\n",
        "        return 'save_interview'\n",
        "\n",
        "    # 继续提问\n",
        "    return \"ask_question\"\n",
        "\n",
        "# 报告小节写作指令模板\n",
        "# 指导AI如何将访谈内容转换为结构化的报告小节\n",
        "section_writer_instructions = \"\"\"你是一名资深技术写作者。\n",
        "\n",
        "你的任务是基于一组来源文档，撰写一段简洁、易读的报告小节。\n",
        "\n",
        "1. 先分析来源文档内容：\n",
        "- 每个文档的名称在文档开头，以 <Document 标签呈现。\n",
        "\n",
        "2. 使用 Markdown 制作小节结构：\n",
        "- 用 ## 作为小节标题\n",
        "- 用 ### 作为小节内的小标题\n",
        "\n",
        "3. 按结构撰写：\n",
        " a. 标题（## 头）\n",
        " b. 摘要（### 头）\n",
        " c. 参考来源（### 头）\n",
        "\n",
        "4. 标题需要贴合分析师的关注点并具有吸引力：\n",
        "{focus}\n",
        "\n",
        "5. 关于摘要部分：\n",
        "- 先给出与分析师关注点相关的背景/上下文\n",
        "- 强调访谈中获得的新颖、有趣或令人意外的洞见\n",
        "- 使用到来源文档时，按使用顺序创建编号\n",
        "- 不要提及访谈者或专家的名字\n",
        "- 控制在约 400 字以内\n",
        "- 在报告正文中使用数字引用（如 [1]、[2]），基于来源文档信息\n",
        "\n",
        "6. 在参考来源部分：\n",
        "- 列出报告中使用到的全部来源\n",
        "- 给出完整链接或具体文档路径\n",
        "- 每个来源单独一行；在行尾加两个空格以产生 Markdown 换行\n",
        "- 参考格式：\n",
        "\n",
        "### Sources\n",
        "[1] 链接或文档名\n",
        "[2] 链接或文档名\n",
        "\n",
        "7. 合并重复来源。例如以下是不正确的：\n",
        "\n",
        "[3] https://ai.meta.com/blog/meta-llama-3-1/\n",
        "[4] https://ai.meta.com/blog/meta-llama-3-1/\n",
        "\n",
        "应去重为：\n",
        "\n",
        "[3] https://ai.meta.com/blog/meta-llama-3-1/\n",
        "\n",
        "8. 最终检查：\n",
        "- 确保报告结构符合要求\n",
        "- 标题前不要有任何前言\n",
        "- 检查是否遵循了全部规范\"\"\"\n",
        "\n",
        "def write_section(state: InterviewState):\n",
        "    \"\"\"\n",
        "    生成报告小节的核心函数\n",
        "\n",
        "    功能:\n",
        "        1. 基于访谈内容和检索到的文档生成结构化的报告小节\n",
        "        2. 确保小节内容符合分析师的专业关注点\n",
        "        3. 提供准确的引用和来源信息\n",
        "\n",
        "    参数:\n",
        "        state: 包含访谈记录、检索上下文和分析师信息的状态对象\n",
        "\n",
        "    返回:\n",
        "        dict: 包含生成的小节内容的字典\n",
        "    \"\"\"\n",
        "    # 从状态中获取必要信息\n",
        "    interview = state[\"interview\"]\n",
        "    context = state[\"context\"]\n",
        "    analyst = state[\"analyst\"]\n",
        "\n",
        "    # 构建系统消息，包含分析师的关注点描述\n",
        "    system_message = section_writer_instructions.format(focus=analyst.description)\n",
        "\n",
        "    # 调用大模型生成报告小节\n",
        "    section = llm.invoke([\n",
        "        SystemMessage(content=system_message),\n",
        "        HumanMessage(content=f\"使用这个来源来撰写你的小节: {context}\")\n",
        "    ])\n",
        "\n",
        "    # 将生成的小节添加到状态中\n",
        "    return {\"sections\": [section.content]}\n",
        "\n",
        "# 构建访谈工作流\n",
        "interview_builder = StateGraph(InterviewState)\n",
        "\n",
        "# 添加各个功能节点\n",
        "interview_builder.add_node(\"ask_question\", generate_question)      # 生成问题节点\n",
        "interview_builder.add_node(\"search_web\", search_web)              # 网络搜索节点\n",
        "interview_builder.add_node(\"search_wikipedia\", search_wikipedia)  # 维基百科搜索节点\n",
        "interview_builder.add_node(\"answer_question\", generate_answer)    # 生成回答节点\n",
        "interview_builder.add_node(\"save_interview\", save_interview)      # 保存访谈节点\n",
        "interview_builder.add_node(\"write_section\", write_section)        # 撰写小节节点\n",
        "\n",
        "# 定义工作流连接关系\n",
        "interview_builder.add_edge(START, \"ask_question\")  # 开始 -> 提问\n",
        "interview_builder.add_edge(\"ask_question\", \"search_web\")  # 提问 -> 网络搜索\n",
        "interview_builder.add_edge(\"ask_question\", \"search_wikipedia\")  # 提问 -> 维基百科搜索\n",
        "interview_builder.add_edge(\"search_web\", \"answer_question\")  # 网络搜索 -> 回答\n",
        "interview_builder.add_edge(\"search_wikipedia\", \"answer_question\")  # 维基百科搜索 -> 回答\n",
        "\n",
        "# 条件边：根据对话状态决定下一步\n",
        "interview_builder.add_conditional_edges(\n",
        "    \"answer_question\",\n",
        "    route_messages,\n",
        "    ['ask_question', 'save_interview']\n",
        ")\n",
        "\n",
        "interview_builder.add_edge(\"save_interview\", \"write_section\")  # 保存访谈 -> 撰写小节\n",
        "interview_builder.add_edge(\"write_section\", END)  # 撰写小节 -> 结束\n",
        "\n",
        "# 编译访谈工作流\n",
        "memory = MemorySaver()\n",
        "interview_graph = interview_builder.compile(checkpointer=memory).with_config(run_name=\"Conduct Interviews\")\n",
        "\n",
        "\n",
        "# 图可视化\n",
        "print(\"图可视化：\")\n",
        "\n",
        "# 方案1：尝试使用 Pyppeteer 本地渲染（推荐）\n",
        "try:\n",
        "    # 可视化：通过 Mermaid 渲染图结构\n",
        "    display(Image(interview_graph.get_graph().draw_mermaid_png()))\n",
        "    print(\"✅ 图渲染成功！\")\n",
        "except Exception as e:\n",
        "    print(f\"❌ Pyppeteer 渲染失败: {e}\")\n",
        "\n",
        "    # 方案2：显示 Mermaid 文本格式\n",
        "    print(\"\\n📝 图结构（Mermaid 文本格式）：\")\n",
        "    print(\"=\" * 50)\n",
        "    mermaid_text = interview_graph.get_graph().draw_mermaid()\n",
        "    print(mermaid_text)\n",
        "    print(\"=\" * 50)\n",
        "\n",
        "    # 方案3：显示图的节点和边信息\n",
        "    print(\"\\n🔗 图结构信息：\")\n",
        "    print(\"节点:\", list(interview_graph.get_graph().nodes.keys()))\n",
        "    print(\"边:\", list(interview_graph.get_graph().edges))\n",
        "\n",
        "    # 方案4：提供手动渲染说明\n",
        "    print(\"\\n💡 手动渲染说明：\")\n",
        "    print(\"1. 复制上面的 Mermaid 文本\")\n",
        "    print(\"2. 访问 https://mermaid.live/\")\n",
        "    print(\"3. 粘贴文本到编辑器中查看图形\")\n",
        "    print(\"4. 或者使用支持 Mermaid 的 Markdown 编辑器\")"
      ]
    },
    {
      "cell_type": "markdown",
      "id": "d1fd4445-7147-41d3-91f5-21bbe48f2e00",
      "metadata": {
        "id": "d1fd4445-7147-41d3-91f5-21bbe48f2e00"
      },
      "source": [
        "![image-20250930152452478](https://cdn.jsdelivr.net/gh/Fly0905/note-picture@main/imag/202509301524600.png)"
      ]
    },
    {
      "cell_type": "code",
      "execution_count": 26,
      "id": "50f382f1-6e93-48d0-a44a-1094d26ccb1e",
      "metadata": {
        "colab": {
          "base_uri": "https://localhost:8080/"
        },
        "id": "50f382f1-6e93-48d0-a44a-1094d26ccb1e",
        "outputId": "7053c5bf-1d5a-470b-cb81-fd90c732948c"
      },
      "outputs": [
        {
          "output_type": "execute_result",
          "data": {
            "text/plain": [
              "Analyst(affiliation='Tech Research Institute', name='John Smith', role='技术专家', description='John专注于AI框架的技术优势，特别是LangGraph在处理复杂语言模型时的性能和效率。他对比了其他框架，强调LangGraph在可扩展性和模块化方面的独特优势。')"
            ]
          },
          "metadata": {},
          "execution_count": 26
        }
      ],
      "source": [
        "# Pick one analyst\n",
        "analysts[0]"
      ]
    },
    {
      "cell_type": "markdown",
      "id": "3750ac4f-f458-4b2d-8bad-32ce34895758",
      "metadata": {
        "id": "3750ac4f-f458-4b2d-8bad-32ce34895758"
      },
      "source": [
        "此处我们运行一次访谈，并传入与主题相关的 llama3.1 论文索引作为参考。"
      ]
    },
    {
      "cell_type": "code",
      "execution_count": 27,
      "id": "b1642c58-2e68-45ad-b6d9-20ab26bf530b",
      "metadata": {
        "id": "b1642c58-2e68-45ad-b6d9-20ab26bf530b",
        "outputId": "e2d62a7a-cbd2-4d18-b9ed-9a6e7e6c4cde",
        "colab": {
          "base_uri": "https://localhost:8080/"
        }
      },
      "outputs": [
        {
          "output_type": "stream",
          "name": "stdout",
          "text": [
            "{\"id\":9228,\"key\":\"Earth\",\"title\":\"Earth\",\"latest\":{\"id\":1313907539,\"timestamp\":\"2025-09-28T19:11:05Z\"},\"content_model\":\"wikitext\",\"license\":{\"url\":\"https://creativecommons.org/licenses/by-sa/4.0/deed.en\",\"title\":\"Creative Commons Attribution-Share Alike 4.0\"},\"source\":\"{{Short description|Third planet from the Sun}}\\n{{Redirect|Planet Earth|other uses|Earth (disambiguation)|and|Planet Earth (disambiguation)}}\\n{{Featured article}}\\n{{pp-semi-indef}}\\n{{pp-move}}\\n{{Use American English|date=February 2025}}\\n{{Use dmy dates|date=July 2025}}\\n{{Infobox planet\\n<!---------------------------------------------------------------------------------------\\nThis infobox has been formatted in the same way as those for other planets and bodies in the Solar System, so please do not change it without discussion on the talk page. Scroll down to get beyond this long template and edit the main body text.\\n ---------------------------------------------------------------------------------------->| background = LightSteelBlue\\n| name = Earth\\n| alt_names = {{Hlist|The [[world]]|The [[globe]]|[[Terra (mythology)|Terra]]|[[Terra (mythology)|Tellus]]|[[Gaia]]}}\\n| adjectives = {{Hlist|Earthly|Terrestrial|Terran|Tellurian}}\\n| symbol = [[File:Earth symbol (bold).svg|24px|class=skin-invert|🜨]] and [[File:Globus cruciger (bold).svg|class=skin-invert|24px|♁]]\\n| image = The Blue Marble, AS17-148-22727.jpg\\n| image_alt = Photograph of Earth taken by the Apollo 17 mission. The Arabian peninsula, Africa and Madagascar lie in the upper half of the disc, whereas Antarctica is at the bottom.\\n| caption = ''[[The Blue Marble]]'', [[Apollo 17]], December 1972\\n| epoch = [[J2000.0|J2000]]<ref group=\\\"n\\\" name=\\\"epoch\\\" />\\n| aphelion = {{val|152,097,597|u=km}}\\n| perihelion = {{val|147,098,450|u=km}}<ref group=\\\"n\\\" name=\\\"apsis\\\" />\\n| time_periastron = 3 January 2026\\n| semimajor = {{val|149,598,023|u=km}}<ref name=\\\"VSOP87\\\" />\\n| eccentricity = {{val|0.0167086}}<ref name=\\\"VSOP87\\\" />\\n| period = {{convert|365.256363004|d|yr|comma=gaps|abbr=on|lk=out|disp=x|<ref name=\\\"IERS\\\" /><br />(|[[Julian year (astronomy)|<sub>j</sub>]])}}\\n| avg_speed = {{val|29.7827|u=km/s}}<ref name=\\\"earth_fact_sheet\\\" />\\n| mean_anomaly = {{val|358.617|u=°}}\\n| inclination = {{ublist |{{val|7.155|u=°}} – [[Sun]]'s equator; |{{val|1.57869|u=°}} – [[invariable plane]];<ref name=\\\"Allen294\\\" /> |{{val|0.00005|u=°}} – J2000 [[ecliptic]]}}\\n| asc_node = {{val|-11.26064|u=°}} – J2000 ecliptic<ref name=\\\"earth_fact_sheet\\\" />\\n| arg_peri = {{val|114.20783|u=°}}<ref name=\\\"earth_fact_sheet\\\" />\\n| satellites = 1, the [[Moon]]\\n| allsatellites = yes\\n| mean_radius = {{val|6371.0|u=km}}<ref name=\\\"hbcp2000\\\" />\\n| equatorial_radius = {{val|6378.137|u=km}}<ref name=usno /><ref name=\\\"WGS-84\\\" />\\n| polar_radius = {{val|6356.752|u=km}}<ref name=\\\"cazenave_ahrens1995\\\" />\\n| flattening = 1/{{val|298.257222101}} ([[ETRS89]])<ref name=\\\"IERS2004\\\" />\\n| circumference = {{unbulleted list\\n | {{val|40075.017|u=km}} [[equator]]ial<ref name=\\\"WGS-84\\\">[[World Geodetic System]] (''WGS-84''). [http://earth-info.nga.mil/GandG/wgs84/ Available online] {{Webarchive|url=https://web.archive.org/web/20200311023739/https://earth-info.nga.mil/GandG/wgs84/ |date=11 March 2020}} from [[National Geospatial-Intelligence Agency]].</ref>\\n | {{val|40007.86|u=km}} [[Meridian (geography)|meridional]]<ref name=\\\"WGS-84-2\\\" /><ref group=\\\"n\\\" name=\\\"circ\\\">Earth's [[circumference]] is almost exactly 40,000&nbsp;km because the meter was calibrated on this measurement—more specifically, 1/10-millionth of the distance between the poles and the equator.</ref>\\n }}\\n| surface_area = {{unbulleted list\\n|{{val|510,072,000|u=km2}}<ref name=\\\"Pidwirny 2006_8\\\" /><ref group=\\\"n\\\" name=\\\"surfacecover\\\" />\\n|Land: {{val|148,940,000|u=km2}}\\n|Water: {{val|361,132,000|u=km2}}\\n}}\\n| volume = {{val|1.08321|e=12|u=km3}}<ref name=\\\"earth_fact_sheet\\\" />\\n| mass = {{val|5.972168|e=24|u=kg}}<ref name=\\\"earthmass\\\" />\\n| density = {{convert|5513|kg/m3|g/cm3|comma=gaps|abbr=on|disp=out}}<ref name=\\\"earth_fact_sheet\\\" /> <!--- Planetary densities are conventionally given in g/cm3 instead of kg/m3 --->\\n| surface_grav = {{val|9.80665|u=m/s2|}}<ref name=\\\"NIST2008\\\" /><br />(exactly 1 [[Standard gravity|g<sub>0</sub>]])\\n| moment_of_inertia_factor = 0.3307<ref name=\\\"Williams1994\\\" />\\n| escape_velocity = {{val|11.186|u=km/s}}<ref name=\\\"earth_fact_sheet\\\" />\\n| rotation = {{longitem|{{val|1.0|u=d}} <br /> (24h 00&nbsp;m 00s)}}\\n| sidereal_day = {{longitem|{{val|0.99726968|u=d}}<ref name=\\\"Allen296\\\" /> <br /> (23h 56&nbsp;m 4.100s)}}\\n| rot_velocity = 1674.4 km/h<ref name=\\\"Cox2000\\\" />\\n| axial_tilt = {{val|23.4392811|u=°}}<ref name=\\\"IERS\\\" />\\n| albedo = {{ublist|class=nowrap |0.434 [[Geometric albedo|geometric]]<ref name=\\\"earth_fact_sheet\\\" /> |0.294 [[Bond albedo|Bond]]<ref name=\\\"earth_fact_sheet\\\" />}}\\n| single_temperature = {{cvt|255|K|C|0}}<br />([[Effective temperature|blackbody temperature]])<ref name=\\\"American Chemical Society 2013\\\">{{cite web | title=Atmospheres and Planetary Temperatures | website=American Chemical Society | date=18 July 2013 | url=https://www.acs.org/climatescience/energybalance/planetarytemperatures.html | access-date=3 January 2023| archive-url=https://web.archive.org/web/20230127144936/https://www.acs.org/climatescience/energybalance/planetarytemperatures.html |archive-date=27 January 2023}}</ref>\\n| atmosphere = yes\\n| temp_name1 = &nbsp;{{refn|group=n|Source for minimum,<ref name=asu_lowest_temp /> mean,<ref>{{cite journal |last1=Jones |first1=P. D. |author-link1=Phil Jones (climatologist)|last2=Harpham |first2=C. |title=Estimation of the absolute surface air temperature of the Earth |journal=Journal of Geophysical Research: Atmospheres |date=2013 |volume=118 |issue=8 |pages=3213–3217 |doi=10.1002/jgrd.50359 |bibcode=2013JGRD..118.3213J |language=en |issn=2169-8996 |doi-access=free}}</ref> and maximum<ref name=asu_highest_temp /> surface temperature<!--Moved here to avoid stretching the infobox border-->}}\\n| min_temp_1 = −89.2&nbsp;°C\\n| mean_temp_1 = 14.76&nbsp;°C\\n| max_temp_1 = 56.7&nbsp;°C\\n| surface_equivalent_dose_rate = {{convert|2.40 |mSv/yr |μSv/h |disp=out}}<ref>{{cite book |author=United Nations Scientific Committee on the Effects of Atomic Radiation |title=Sources and effects of ionizing radiation |date=2008 |publication-date=2010 |publisher=United Nations |location=New York |isbn=978-92-1-142274-0 |url=http://www.unscear.org/unscear/en/publications/2008_1.html |access-date=9 November 2012 |at=Table 1 |archive-date=16 July 2019 |archive-url=https://web.archive.org/web/20190716210835/http://www.unscear.org/unscear/en/publications/2008_1.html |url-status=live }}</ref>\\n| abs_magnitude = −3.99\\n| surface_pressure = {{val|101.325|ul=kPa}} (at sea level)\\n| atmosphere_composition = {{unbulleted list\\n | 78.08% [[nitrogen]] (dry air)\\n | 20.95% [[oxygen]] (dry air)\\n | ≤1% [[water vapor]] (variable)\\n | 0.9340% [[argon]]\\n | 0.0415% [[carbon dioxide]]\\n | 0.00182% [[neon]]\\n | 0.00052% [[helium]]\\n | 0.00017% [[methane]]\\n | 0.00011% [[krypton]]\\n | 0.00006% [[hydrogen]]\\n}}\\nSource:<ref name=\\\"earth_fact_sheet\\\" />\\n| note = no\\n}}\\n'''Earth''' is the third [[planet]] from the [[Sun]] and the only [[astronomical object]] known to [[Planetary habitability|harbor life]]. This is enabled by Earth being an [[ocean world]], the only one in the [[Solar System]] sustaining liquid [[surface water]]. Almost all of Earth's water is contained in its global ocean, covering [[Water distribution on Earth|70.8%]] of [[Earth's crust]]. The remaining 29.2% of Earth's crust is land, most of which is located in the form of [[continent]]al [[landmass]]es within Earth's [[land hemisphere]]. Most of Earth's land is at least somewhat [[humid]] and covered by vegetation, while large [[ice sheet]]s at Earth's [[polar desert]]s retain more water than Earth's [[groundwater]], lakes, rivers, and [[Water vapor#In Earth's atmosphere|atmospheric water]] combined. Earth's crust consists of slowly moving [[tectonic plates]], which interact to produce mountain ranges, [[volcano]]es, and earthquakes. [[Earth's outer core|Earth has a liquid outer core]] that generates a [[magnetosphere]] capable of deflecting most of the destructive [[solar wind]]s and [[cosmic radiation]].\\n\\nEarth has [[Atmosphere of Earth|a dynamic atmosphere]], which sustains Earth's surface conditions and protects it from most [[meteoroid]]s and [[Ozone layer|UV-light at entry]]. It is composed primarily of [[nitrogen]] and [[oxygen]]. [[Water vapor]] is widely present in the atmosphere, [[Cloud#Formation|forming clouds]] that cover most of the planet. The water vapor acts as a [[greenhouse gas]] and, together with other greenhouse gases in the atmosphere, particularly [[carbon dioxide]] (CO<sub>2</sub>), creates the conditions for both liquid surface water and water vapor to persist via the capturing of [[Solar irradiance|energy from the Sun's light]]. This process maintains the current average surface temperature of {{convert|14.76|C|F}}, at which water is liquid under normal atmospheric pressure. Differences in the amount of captured energy between geographic regions (as with the [[equatorial region]] receiving more sunlight than the polar regions) drive [[Atmospheric circulation|atmospheric]] and [[ocean current]]s, producing a global [[climate system]] with different [[climate region]]s, and a range of weather phenomena such as [[precipitation]], allowing components such as [[Carbon cycle|carbon]] and [[Nitrogen cycle|nitrogen]] to [[Biogeochemical cycle|cycle]].\\n\\nEarth is [[Hydrostatic equilibrium|rounded]] into [[Earth ellipsoid|an ellipsoid]] with [[Earth's circumference|a circumference]] of about {{convert|40000|km|mi|-2|abbr=off}}. It is the [[List of Solar System objects by size|densest planet in the Solar System]]. Of the four [[rocky planets]], it is the largest and most massive. Earth is about eight [[light-minute]]s (1 [[Astronomical Unit|AU]]) away from the Sun and [[Earth's orbit|orbits it]], taking a year (about 365.25 days) to complete one revolution. [[Earth's rotation|Earth rotates]] around its own axis in slightly less than a day (in about 23 hours and 56 minutes). [[Earth#Axial tilt and seasons|Earth's axis of rotation]] is tilted with respect to the perpendicular to its orbital plane around the Sun, producing seasons. Earth is [[orbit]]ed by one permanent [[natural satellite]], the [[Moon]], which orbits Earth at {{convert|384400|km|mi|0|abbr=on}}—1.28 light seconds—and is roughly a quarter as wide as Earth. The Moon's gravity helps stabilize Earth's axis, causes [[tide]]s and [[Tidal acceleration|gradually slows Earth's rotation]]. Likewise Earth's gravitational pull has already made the Moon's rotation [[tidally locked]], keeping the same [[near side of the Moon|near side]] facing Earth.\\n\\nEarth, like most other bodies in the Solar System, [[Age of Earth|formed about 4.5&nbsp;billion years ago]] from gas and dust in the [[Formation and evolution of the Solar System|early Solar System]]. During the first billion years of [[Earth's history]], the ocean formed and then [[Abiogenesis|life developed]] within it. Life spread globally and has been altering Earth's atmosphere and surface, leading to the [[Great Oxidation Event]] two billion years ago. [[Human]]s emerged 300,000 years ago in Africa and have spread across every continent on Earth. Humans depend on Earth's [[biosphere]] and natural resources for their survival, but have [[Human impact on the environment|increasingly impacted the planet's environment]]. Humanity's current impact on Earth's climate and biosphere is unsustainable, threatening the livelihood of humans and many other forms of life, and [[Holocene extinction|causing widespread extinctions]].\\n\\n== Etymology ==\\nThe [[Modern English]] word {{anchor|Name|Etymology}} ''Earth'' developed, via [[Middle English]], from an [[Old English]] noun most often spelled ''{{linktext|lang=ang|eorðe}}''.<ref name=\\\"oedearth\\\">{{cite book|title=Oxford English Dictionary|edition=3|chapter=earth, ''n.1''|publisher=[[Oxford University Press]]|place=[[Oxford]], England|year=2010|isbn=978-0-19-957112-3|doi=10.1093/acref/9780199571123.001.0001}}</ref> It has cognates in every [[Germanic language]], from which {{Proto|germanic|erþō}} has been reconstructed. In its earliest attestation, the word ''{{lang|ang|eorðe}}'' was used to translate the many senses of Latin ''{{linktext|lang=la|terra}}'' and Greek {{Wktl|grc|γῆ|gē}}: the ground, its soil, dry land, the human world, the surface of the world (including the sea), and the globe itself. As with Roman {{langr|la|[[Terra (goddess)|Terra]]}} (or {{langr|la|Tellus}}) and Greek {{langr|grc-Latn|[[Gaia]]}}, Earth may have been a [[earth goddess|personified goddess]] in [[Germanic paganism]]: late [[Norse mythology]] included {{langr|non|[[Jörð]]}} ('Earth'), a giantess often given as the mother of [[Thor]].<ref>{{cite book|last=Simek|first=Rudolf|author-link=Rudolf Simek|translator-last=Hall|translator-first=Angela|title=Dictionary of Northern Mythology|page=179|publisher=[[D. S. Brewer]]|year=2007|isbn=978-0-85991-513-7}}</ref>\\n\\nHistorically, ''Earth'' has been written in lowercase. During the [[Early Middle English]] period, its [[Definite article|definite sense]] as \\\"the globe\\\" began being expressed using the phrase ''the earth''. By the period of [[Early Modern English]], [[Capitalization in English#History of English capitalization|capitalization of nouns began to prevail]], and ''the earth'' was also written ''the Earth'', particularly when referenced along with other heavenly bodies. More recently, the name is sometimes simply given as ''Earth'', by analogy with the names of the [[Solar System|other planets]], though ''earth'' and forms with ''the earth'' remain common.<ref name=\\\"oedearth\\\" /> [[Style guide|House styles]] now vary: [[Oxford spelling]] recognizes the lowercase form as the more common, with the capitalized form an acceptable variant. Another convention capitalizes ''Earth'' when appearing as a name, such as a description of the \\\"Earth's atmosphere\\\", but employs the lowercase when it is preceded by ''the'', such as \\\"the atmosphere of the earth\\\". It almost always appears in lowercase in colloquial expressions such as \\\"what on earth are you doing?\\\"<ref>{{cite book|title=The New Oxford Dictionary of English|edition=1st|chapter=earth|publisher=[[Oxford University Press]]|location=Oxford|year=1998|isbn=978-0-19-861263-6}}</ref>\\n\\nThe name ''Terra'' {{IPAc-en|ˈ|t|ɛr|ə}} {{respell|TERR|ə}} is occasionally used in scientific writing; it also sees use in science fiction to distinguish humanity's inhabited planet from others,<ref>{{OED|Terra}}</ref> while in poetry ''Tellus'' {{IPAc-en|ˈ|t|ɛ|l|ə|s}} {{respell|TELL|əs}} has been used to denote personification of the Earth.<ref>{{OED|Tellus}}</ref> ''Terra'' is also the name of the planet in some [[Romance languages]], languages that evolved from Latin, like Italian and Portuguese, while in other Romance languages the word gave rise to names with slightly altered spellings, like the Spanish {{lang|es|Tierra}} and the French {{lang|fr|Terre}}. The Latinate form {{lang|la|Gaea}} ({{IPAc-en|lang|'|dʒ|iː|.|ə}} {{respell|DJEE|ə}}) of the Greek poetic name {{tlit|grc|[[Gaia]]}} ({{IPA|grc|ɡâi̯.a|lang|label=}} or {{IPA|el|ɡâj.ja|}}) is rare, though the alternative spelling ''Gaia'' has become common due to the [[Gaia hypothesis]], in which case its pronunciation is {{IPAc-en|ˈ|g|aɪ|.|ə}} {{respell|GYE|ə}} rather than the more traditional English {{IPAc-en|ˈ|g|eɪ|.|ə}} {{respell|GAY|ə}}.<ref>{{OED|Gaia}}</ref>\\n\\nThere are a number of adjectives for the planet Earth. The word ''earthly'' is derived from ''Earth''. From the Latin {{lang|la|Terra}} comes ''terran'' {{IPAc-en|ˈ|t|ɛr|ə|n}} {{respell|TERR|ən}},<ref>{{OED|Terran}}</ref> ''terrestrial'' {{IPAc-en|t|ə|ˈ|r|ɛ|s|t|r|i|ə|l}} {{respell|tərr|EHST|ree|əl}},<ref>{{OED|terrestrial}}</ref> and (via French) ''terrene'' {{IPAc-en|t|ə|ˈ|r|iː|n}} {{respell|tə|REEN}},<ref>{{OED|terrene}}</ref> and from the Latin {{lang|la|Tellus}} comes ''tellurian'' {{IPAc-en|t|ɛ|ˈ|l|ʊər|i|ə|n}} {{respell|teh|LUURR|ee|ən}}<ref>{{OED|tellurian}}</ref> and ''telluric''.<ref>{{Cite dictionary |url=http://www.lexico.com/definition/telluric |archive-url=https://web.archive.org/web/20210331100415/https://www.lexico.com/definition/telluric |archive-date=31 March 2021 |title=telluric |dictionary=[[Lexico]] UK English Dictionary |publisher=[[Oxford University Press]]}}</ref>\\n\\n== Natural history ==\\n{{Main|History of Earth|Timeline of natural history}}\\n\\n=== Formation ===\\n{{Further|Early Earth|Hadean}}\\n[[File:The Mysterious Case of the Disappearing Dust.jpg|thumb|upright=1.3|A depiction of the early [[Solar System]]'s [[protoplanetary disk]] from which Earth and other Solar System bodies were formed]]\\nThe oldest material found in the [[Solar System]] is dated to {{val|4.5682|0.0002|0.0004}} [[Gigaannum|Ga]] (billion years) ago.<ref name=bouvier_wadhwa2010/> By {{val|4.54|0.04|u=Ga}} the primordial Earth had formed.<ref name=\\\"age_earth1\\\"/> The bodies in [[Formation and evolution of the Solar System|the Solar System formed and evolved]] with the Sun. In theory, a [[solar nebula]] partitions a volume out of a [[molecular cloud]] by gravitational collapse, which begins to spin and flatten into a [[circumstellar disk]], and then the planets grow out of that disk with the Sun. A nebula contains gas, ice grains, and [[Cosmic dust|dust]] (including [[primordial nuclide]]s). According to [[nebular theory]], [[planetesimal]]s formed by [[accretion (astrophysics)|accretion]], with the primordial Earth being estimated as likely taking anywhere from 70 to 100 million years to form.<ref>{{cite journal|url=https://ntrs.nasa.gov/citations/20180002991|title=Ag Isotopic Evolution of the Mantle During Accretion: New Constraints from Pd and Ag Metal–Silicate Partitioning|journal=Differentiation: Building the Internal Architecture of Planets|last1=Righter|first1=K.|first2=M.|last2=Schonbachler|date=7 May 2018|volume=2084|page=4034|bibcode=2018LPICo2084.4034R|access-date=25 October 2020|archive-date=6 November 2020|archive-url=https://web.archive.org/web/20201106093844/https://ntrs.nasa.gov/citations/20180002991|url-status=live}}</ref>\\n\\nEstimates of the age of the Moon range from 4.5 Ga to significantly younger.<ref>{{Cite journal|last1=Tartèse|first1=Romain|last2=Anand|first2=Mahesh|last3=Gattacceca|first3=Jérôme|last4=Joy|first4=Katherine H.|author-link4=Katherine Joy|last5=Mortimer|first5=James I.|last6=Pernet-Fisher|first6=John F.|last7=Russell|first7=Sara|author7-link=Sara Russell|last8=Snape|first8=Joshua F.|last9=Weiss|first9=Benjamin P.|date=2019|title=Constraining the Evolutionary History of the Moon and the Inner Solar System: A Case for New Returned Lunar Samples|journal=Space Science Reviews|language=en|volume=215|issue=8|page=54|doi=10.1007/s11214-019-0622-x|bibcode=2019SSRv..215...54T|issn=1572-9672|doi-access=free}}</ref> A [[giant impact hypothesis|leading hypothesis]] is that it was formed by accretion from material loosed from Earth after a [[Mars]]-sized object with about 10% of Earth's mass, named [[Theia (hypothetical planet)|Theia]], collided with Earth.<ref name=reilly20091022/> It hit Earth with a glancing blow and some of its mass merged with Earth.<ref name=\\\"canup_asphaug2001b\\\"/><ref>{{cite journal|title=On the origin and composition of Theia: Constraints from new models of the Giant Impact|journal=Icarus|last1=Meier|first1=M. M. M.|last2=Reufer|first2=A.|last3=Wieler|first3=R.|date=4 August 2014|volume=242|page=5|doi=10.1016/j.icarus.2014.08.003|arxiv=1410.3819|bibcode=2014Icar..242..316M|s2cid=119226112|issn = 0019-1035 }}</ref> Between approximately 4.0 and {{val|3.8|u=Ga}}, numerous [[Impact event|asteroid impacts]] during the [[Late Heavy Bombardment]] caused significant changes to the greater surface environment of the Moon and, by inference, to that of Earth.<ref>{{cite book|title=Encyclopedia of Astrobiology|first1=Philippe|last1=Claeys|first2=Alessandro|last2=Morbidelli|author-link2=Alessandro Morbidelli (astronomer)|editor-first1=Muriel|editor-last1= Gargaud|editor-first2=Prof Ricardo|editor-last2=Amils|editor-first3= José Cernicharo|editor-last3= Quintanilla|editor-first4= Henderson James (Jim) |editor-last4= Cleaves II|editor-first5=William M.|editor-last5=Irvine|editor-first6= Prof Daniele L.|editor-last6= Pinti|editor-first7= Michel|editor-last7= Viso|year= 2011|publisher=Springer Berlin Heidelberg|pages=909–912|doi=10.1007/978-3-642-11274-4_869|chapter=Late Heavy Bombardment|isbn= 978-3-642-11271-3}}</ref>\\n\\n=== After formation ===\\n{{Main|Geological history of Earth}}\\n[[Atmosphere of Earth|Earth's atmosphere]] and oceans were formed by [[volcanism|volcanic activity]] and [[outgassing]].<ref>{{cite web |url=https://www.lpi.usra.edu/education/timeline/gallery/slide_17.html |title=Earth's Early Atmosphere and Oceans |work=[[Lunar and Planetary Institute]] |publisher=[[Universities Space Research Association]] |access-date=27 June 2019 |archive-date=8 July 2019 |archive-url=https://web.archive.org/web/20190708180329/https://www.lpi.usra.edu/education/timeline/gallery/slide_17.html |url-status=live }}</ref> Water vapor from these sources [[Origin of water on Earth|condensed]] into the oceans, augmented by water and ice from asteroids, [[protoplanet]]s, and [[comet]]s.<ref name=\\\"watersource\\\" /> Sufficient water to fill the oceans may have been on Earth since it formed.<ref>{{Cite journal|last1=Piani|first1=Laurette|last2=Marrocchi|first2=Yves|last3=Rigaudier|first3=Thomas|last4=Vacher|first4=Lionel G.|last5=Thomassin|first5=Dorian|last6=Marty|first6=Bernard|display-authors=1|date=2020|title=Earth's water may have been inherited from material similar to enstatite chondrite meteorites|journal=Science|language=en|volume=369|issue=6507|pages=1110–1113|doi=10.1126/science.aba1948|issn=0036-8075|pmid=32855337|bibcode=2020Sci...369.1110P|s2cid=221342529}}</ref> In this model, atmospheric [[greenhouse gas]]es kept the oceans from freezing when the newly forming Sun [[Faint young Sun paradox|had only 70%]] of its [[solar luminosity|current luminosity]].<ref name=\\\"asp2002\\\" /> By {{val|3.5|u=Ga}}, [[Earth's magnetic field]] was established, which helped prevent the atmosphere from being stripped away by the [[solar wind]].<ref name=\\\"physorg20100304\\\" />\\n\\n[[File:NASA-EarlyEarth-PaleOrangeDot-20190802.jpg|thumb|upright=1.5|''Pale orange dot'', an impression of [[Early Earth]], featuring its tinted orange [[methane]]-rich [[Prebiotic atmosphere|early atmosphere]]<ref name=\\\"Trainer Pavlov DeWitt Jimenez pp. 18035–18042\\\">{{cite journal |last1=Trainer |first1=Melissa G. |last2=Pavlov |first2=Alexander A. |last3=DeWitt |first3=H. Langley |last4=Jimenez |first4=Jose L. |last5=McKay |first5=Christopher P. |last6=Toon |first6=Owen B. |last7=Tolbert |first7=Margaret A. |display-authors=1 |date=28 November 2006 |title=Organic haze on Titan and the early Earth |journal=Proceedings of the National Academy of Sciences |volume=103 |issue=48 |pages=18035–18042 |doi=10.1073/pnas.0608561103 |issn=0027-8424 |pmc=1838702 |pmid=17101962 |doi-access=free}}</ref>]]\\n\\nAs the molten outer layer of Earth cooled it [[Phase transition|formed]] the first solid [[Earth's crust|crust]], which is thought to have been [[mafic]] in composition. The first [[continental crust]], which was more [[felsic]] in composition, formed by the partial melting of this mafic crust.<ref name=\\\"comp\\\">{{cite journal |title=The composition of the Earth |year=1995 |url=https://www.sciencedirect.com/science/article/abs/pii/0009254194001404 |doi=10.1016/0009-2541(94)00140-4 |last1=McDonough |first1=W.F. |last2=Sun |first2=S.-s. |journal=Chemical Geology |volume=120 |issue=3–4 |pages=223–253 |bibcode=1995ChGeo.120..223M |access-date=6 May 2023 |archive-date=6 May 2023 |archive-url=https://web.archive.org/web/20230506174028/https://www.sciencedirect.com/science/article/abs/pii/0009254194001404 |url-status=live |url-access=subscription }}</ref> The presence of grains of the [[Hadean zircon|mineral zircon of Hadean age]] in [[Eoarchean]] [[sedimentary rock]]s suggests that at least some felsic crust existed as early as {{val|4.4|u=Ga}}, only {{val|140|u=[[Megaannum|Ma]]}} after Earth's formation.<ref name=\\\"science310_5756_1947\\\" /> There are two main models of how this initial small volume of continental crust evolved to reach its current abundance:<ref name=\\\"williams_santosh2004\\\" /> (1) a relatively steady growth up to the present day,<ref name=\\\"science164_1229\\\" /> which is supported by the radiometric dating of continental crust globally and (2) an initial rapid growth in the volume of continental crust during the [[Archean]], forming the bulk of the continental crust that now exists,<ref name=\\\"ajes38_613\\\" /><ref name=\\\"tp322_19\\\" /> which is supported by isotopic evidence from [[hafnium]] in [[zircon]]s and [[neodymium]] in sedimentary rocks. The two models and the data that support them can be reconciled by large-scale [[crustal recycling|recycling of the continental crust]], particularly during the early stages of Earth's history.<ref name=\\\"Dhuime_etal_2018\\\" />\\n\\nNew continental crust forms as a result of [[plate tectonics]], a process ultimately driven by the continuous loss of heat from Earth's interior. Over [[Geologic time scale|the period]] of hundreds of millions of years, tectonic forces have caused areas of continental crust to group together to form [[supercontinent]]s that have subsequently broken apart. At approximately {{val|750|u=Ma}}, one of the earliest known supercontinents, [[Rodinia]], began to break apart. The continents later recombined to form [[Pannotia]] at {{val|600|–|540|u=Ma}}, then finally [[Pangaea]], which also began to break apart at {{val|180|u=Ma}}.<ref name=\\\"bradley_2011\\\" />\\n\\nThe most recent pattern of [[ice age]]s began about {{val|40|u=Ma}},<ref>{{cite news |url=https://www.amnh.org/explore/ology/earth/ask-a-scientist-about-our-environment/how-did-the-ice-age-end |title=When and how did the ice age end? Could another one start? |first=Ro |last=Kinzler |access-date=27 June 2019 |website=Ology |publisher=[[American Museum of Natural History]] |archive-date=27 June 2019 |archive-url=https://web.archive.org/web/20190627220742/https://www.amnh.org/explore/ology/earth/ask-a-scientist-about-our-environment/how-did-the-ice-age-end |url-status=live }}</ref> and then intensified during the [[Pleistocene]] about {{val|3|u=Ma}}.<ref>{{cite journal |title=Causes of ice age intensification across the Mid-Pleistocene Transition |journal=[[Proc Natl Acad Sci U S A]] |date=12 December 2007 |volume=114 |issue=50 |pages=13114–13119 |doi=10.1073/pnas.1702143114 |pmc=5740680 |pmid=29180424 |first1=Thomas B. |last1=Chalk |first2=Mathis P. |last2=Hain |first3=Gavin L. |last3=Foster |first4=Eelco J. |last4=Rohling |first5=Philip F. |last5=Sexton |first6=Marcus P. S. |last6=Badger |first7=Soraya G. |last7=Cherry |first8=Adam P. |last8=Hasenfratz |first9=Gerald H. |last9=Haug |first10=Samuel L. |last10=Jaccard |first11=Alfredo |last11=Martínez-García |first12=Heiko |last12=Pälike |first13=Richard D. |last13=Pancost |first14=Paul A. |last14=Wilson |display-authors=1|doi-access=free }}</ref> [[High latitude|High-]] and [[middle latitude|middle-latitude]] regions have since undergone repeated cycles of glaciation and thaw, repeating about every 21,000, 41,000 and 100,000 years.<ref name=\\\"psc\\\" /> The [[Last Glacial Period]], colloquially called the \\\"last ice age\\\", covered large parts of the continents, to the middle latitudes, in ice and ended about 11,700 years ago.<ref>{{cite journal |url=https://www.sciencedirect.com/science/article/abs/pii/S0277379110003197 |title=The potential of New Zealand kauri (Agathis australis) for testing the synchronicity of abrupt climate change during the Last Glacial Interval (60,000–11,700 years ago) |journal=Quaternary Science Reviews |publisher=Elsevier |last1=Turner |first1=Chris S.M. |display-authors=et al |year=2010 |doi=10.1016/j.quascirev.2010.08.017 |volume=29 |issue=27–28 |pages=3677–3682 |bibcode=2010QSRv...29.3677T |access-date=3 November 2020 |archive-date=31 March 2021 |archive-url=https://web.archive.org/web/20210331100359/https://www.sciencedirect.com/science/article/abs/pii/S0277379110003197 |url-status=live |url-access=subscription }}</ref>\\n\\n=== Origin of life and evolution ===\\n{{Main|Abiogenesis|Earliest known life forms|History of life}}\\n[[Chemical reaction]]s led to the first self-replicating molecules about four billion years ago. A half billion years later, the [[last universal common ancestor|last common ancestor of all current life]] arose.<ref name=\\\"sa282_6_90\\\" /> The evolution of [[photosynthesis]] allowed the Sun's energy to be harvested directly by life forms. The resultant [[molecular oxygen]] ({{chem2|O2}}) accumulated in the atmosphere and due to interaction with ultraviolet solar radiation, formed a protective [[ozone layer]] ({{chem2|O3}}) in the upper atmosphere.<ref name=\\\"NYT-20131003\\\">{{cite news |last=Zimmer |first=Carl |author-link=Carl Zimmer |title=Earth's Oxygen: A Mystery Easy to Take for Granted |url=https://www.nytimes.com/2013/10/03/science/earths-oxygen-a-mystery-easy-to-take-for-granted.html |archive-url=https://web.archive.org/web/20131003121909/http://www.nytimes.com/2013/10/03/science/earths-oxygen-a-mystery-easy-to-take-for-granted.html |archive-date=3 October 2013 |url-access=limited |date=3 October 2013 |work=[[The New York Times]] |access-date=3 October 2013}}</ref> The incorporation of smaller cells within larger ones resulted in the [[endosymbiotic theory|development of complex cells]] called [[eukaryote]]s.<ref name=\\\"jas22_3_225\\\" /> True multicellular organisms formed as cells within [[Colony (biology)|colonies]] became increasingly specialized. Aided by the absorption of harmful [[ultraviolet radiation]] by the ozone layer, life colonized Earth's surface.<ref name=\\\"burton20021129\\\" /> Among the earliest [[fossil]] evidence for life is [[microbial mat]] fossils found in 3.48&nbsp;billion-year-old [[sandstone]] in [[Western Australia]],<ref>{{cite journal |last1=Noffke |first1=Nora |author-link=Nora Noffke |last2=Christian |first2=Daniel |last3=Wacey |first3=David |last4=Hazen |first4=Robert M. |author4-link=Robert Hazen |title=Microbially Induced Sedimentary Structures Recording an Ancient Ecosystem in the ca. 3.48 Billion-Year-Old Dresser Formation, Pilbara, Western Australia |date=8 November 2013 |journal=[[Astrobiology (journal)|Astrobiology]] |doi=10.1089/ast.2013.1030 |bibcode=2013AsBio..13.1103N |pmid=24205812 |pmc=3870916 |volume=13 |issue=12 |pages=1103–1124}}</ref> [[Biogenic substance|biogenic]] [[graphite]] found in 3.7&nbsp;billion-year-old [[metasediment]]ary rocks in [[Western Greenland]],<ref>{{cite journal |last1=Ohtomo |first1=Yoko |last2=Kakegawa |first2=Takeshi |last3=Ishida |first3=Akizumi |last4=Nagase |first4=Toshiro |last5=Rosing |first5=Minik T. |s2cid=54767854 |display-authors=3 |date=January 2014 |title=Evidence for biogenic graphite in early Archaean Isua metasedimentary rocks |journal=[[Nature Geoscience]] |volume=7 |issue=1 |pages=25–28 |bibcode=2014NatGe...7...25O |doi=10.1038/ngeo2025 |issn=1752-0894}}</ref> and remains of [[biotic material]] found in 4.1&nbsp;billion-year-old rocks in Western Australia.<ref>{{cite news |last=Borenstein |first=Seth |title=Hints of life on what was thought to be desolate early Earth |url=http://apnews.excite.com/article/20151019/us-sci--earliest_life-a400435d0d.html |date=19 October 2015 |work=[[Excite (web portal)|Excite]] |location=Yonkers, NY |publisher=[[Mindspark Interactive Network]] |agency=[[Associated Press]] |access-date=20 October 2015 |archive-url=https://web.archive.org/web/20160818063111/https://apnews.excite.com/article/20151019/us-sci--earliest_life-a400435d0d.html |archive-date=18 August 2016}}</ref><ref>{{cite journal |last1=Bell |first1=Elizabeth A. |last2=Boehnike |first2=Patrick |last3=Harrison |first3=T. Mark |author-link3=T. Mark Harrison |last4=Mao |first4=Wendy L. |author4-link=Wendy Mao |date=19 October 2015 |title=Potentially biogenic carbon preserved in a 4.1&nbsp;billion-year-old zircon |journal=Proc. Natl. Acad. Sci. U.S.A. |doi=10.1073/pnas.1517557112 |issn=1091-6490 |pmid=26483481 |pmc=4664351 |volume=112 |issue=47 |pages=14518–4521 |bibcode=2015PNAS..11214518B |doi-access=free}} Early edition, published online before print.</ref> The [[Earliest known life forms|earliest direct evidence of life]] on Earth is contained in 3.45&nbsp;billion-year-old [[Australia (continent)|Australian]] rocks showing fossils of [[microorganism]]s.<ref>{{cite web |last=Tyrell |first=Kelly April |title=Oldest fossils ever found show life on Earth began before 3.5 billion years ago |url=https://news.wisc.edu/oldest-fossils-ever-found-show-life-on-earth-began-before-3-5-billion-years-ago/ |date=18 December 2017 |publisher=[[University of Wisconsin–Madison]] |access-date=18 December 2017 |archive-date=31 March 2021 |archive-url=https://web.archive.org/web/20210331100351/https://news.wisc.edu/oldest-fossils-found-show-life-began-before-3-5-billion-years-ago/ |url-status=live }}</ref><ref>{{cite journal |last1=Schopf |first1=J. William |last2=Kitajima |first2=Kouki |last3=Spicuzza |first3=Michael J. |last4=Kudryavtsev |first4=Anatolly B. |last5=Valley |first5=John W. |title=SIMS analyses of the oldest known assemblage of microfossils document their taxon-correlated carbon isotope compositions |year=2017 |journal=[[Proceedings of the National Academy of Sciences of the United States of America|PNAS]] |volume=115 |issue=1 |pages=53–58 |doi=10.1073/pnas.1718063115 |pmid=29255053 |pmc=5776830 |bibcode=2018PNAS..115...53S |doi-access=free}}</ref>\\n[[File:Archean.png|thumb|upright=1.2|An impression of the [[Archean]], the [[Geologic time scale#Divisions of geologic time|eon]] after Earth's formation, featuring round [[stromatolite]]s, which are early oxygen-producing forms of life from billions of years ago. After the [[Late Heavy Bombardment]], [[Earth's crust]] had cooled, its water-rich barren [[planetary surface|surface]] is marked by [[continent]]s and [[volcano]]es, with the Moon still orbiting Earth half as far as it is today, appearing 2.8 times larger and producing strong [[tide]]s.<ref name=\\\"Lunar and Planetary Institute\\\">{{cite web |title=Earth-Moon Dynamics |url=https://www.lpi.usra.edu/exploration/training/illustrations/earthMoon/ |access-date=2 September 2022 |website=Lunar and Planetary Institute |archive-date=7 September 2015 |archive-url=https://web.archive.org/web/20150907215806/https://www.lpi.usra.edu/exploration/training/illustrations/earthMoon/ |url-status=live }}</ref>]]\\nDuring the [[Neoproterozoic]], {{val|1000|to|539|u=Ma}}, much of Earth might have been covered in ice. This hypothesis has been termed \\\"[[Snowball Earth]]\\\", and it is of particular interest because it preceded the [[Cambrian explosion]], when multicellular life forms significantly increased in complexity.<ref>{{cite book|page=42|title=Climate Change and the Course of Global History|last1=Brooke|first1=John L.|year= 2014|publisher=Cambridge University Press|isbn=978-0-521-87164-8}}</ref><ref>{{cite book|page=56|title=Epigenetic Mechanisms of the Cambrian Explosion|last1=Cabej|first1=Nelson R.|year=2019|publisher=Elsevier Science|isbn=978-0-12-814312-4}}</ref> Following the Cambrian explosion, {{val|535|u=Ma}}, there have been at least five major [[Extinction event|mass extinctions]] and many minor ones.<ref name=\\\"Stanley_2016\\\" /> Apart from the proposed current [[Holocene extinction]] event, the [[Cretaceous–Paleogene extinction event|most recent]] was {{val|66|u=Ma}}, when [[Chicxulub impactor|an asteroid impact]] triggered the extinction of non-avian dinosaurs and other large reptiles, but largely spared small animals, such as insects, [[mammal]]s, lizards, and birds. Mammalian life has diversified over the past {{val|66|u=Mys}}, and several million years ago, an African [[ape]] species gained the ability to stand upright.<ref name=\\\"gould1994\\\" /><ref>{{Cite journal |last1=Daver |first1=G. |last2=Guy |first2=F. |last3=Mackaye |first3=H. T. |last4=Likius |first4=A. |last5=Boisserie |first5=J.-R. |last6=Moussa |first6=A. |last7=Pallas |first7=L. |last8=Vignaud |first8=P. |last9=Clarisse |first9=N. D. |date=2022 |title=Postcranial evidence of late Miocene hominin bipedalism in Chad |url=https://www.nature.com/articles/s41586-022-04901-z |journal=Nature |language=en |volume=609 |issue=7925 |pages=94–100 |doi=10.1038/s41586-022-04901-z |pmid=36002567 |bibcode=2022Natur.609...94D |issn=1476-4687 |access-date=29 March 2024 |archive-date=27 August 2022 |archive-url=https://web.archive.org/web/20220827082104/https://www.nature.com/articles/s41586-022-04901-z |url-status=live }}</ref> This facilitated tool use and encouraged communication that provided the nutrition and stimulation needed for a larger brain, which led to the [[Human evolution|evolution of humans]]. The [[History of agriculture|development of agriculture]], and then [[List of ancient civilizations|civilization]], led to humans having an [[Human impact on the environment|influence on Earth]] and the nature and quantity of other life forms that continues to this day.<ref name=\\\"bgsa119_1_140\\\" />\\n\\n=== Future ===\\n{{Main|Future of Earth}}\\n{{See also|Global catastrophic risk}}\\n[[File:Red Giant Earth warm.jpg|thumb|upright=1.3|alt=A dark gray and red sphere representing the Earth lies against a black background to the right of an orange circular object representing the Sun|A conception of the scorched Earth after the [[Sun]] has entered the [[red giant]] phase, about 5–7&nbsp;billion years in the future]]\\nEarth's expected long-term future is tied to that of the Sun. Over the next {{val|1.1|u=billion years}}, solar luminosity will increase by 10%, and over the next {{val|3.5|u=billion years}} by 40%.<ref name=\\\"sun_future\\\" /> Earth's increasing surface temperature will accelerate the [[carbonate–silicate cycle|inorganic carbon cycle]], possibly reducing {{chem2|CO2}} concentration to levels lethally low for current plants ({{val|10|ul=ppm}} for [[C4 carbon fixation|C<sub>4</sub> photosynthesis]]) in approximately {{val|100|–|900|u=million years}}.<ref name=\\\"britt2000\\\" /><ref name=\\\"pnas1_24_9576\\\" /> A lack of vegetation would result in the loss of oxygen in the atmosphere, making current animal life impossible.<ref name=\\\"ward_brownlee2002\\\" /> Due to the increased luminosity, Earth's mean temperature may reach {{convert|100|C|F|0|abbr=}} in 1.5&nbsp;billion years, and all ocean water will evaporate and be lost to space, which may trigger a [[runaway greenhouse effect]], within an estimated 1.6 to 3&nbsp;billion years.<ref name=\\\"Mello-2020\\\">{{Cite journal\\n|last1=Mello |first1=Fernando de Sousa |last2=Friaça |first2=Amâncio César Santos |date=2020 |title=The end of life on Earth is not the end of the world: converging to an estimate of life span of the biosphere? |journal=International Journal of Astrobiology |language=en |volume=19 |issue=1 |pages=25–42 |doi=10.1017/S1473550419000120 |bibcode=2020IJAsB..19...25D |issn=1473-5504 |doi-access=free}}</ref> Even if the Sun were stable and eternal, a significant fraction of the water in the modern oceans would descend into the [[Mantle (geology)|mantle]], due to reduced steam venting from mid-ocean ridges as the core of the Earth slowly cools.<ref name=\\\"Mello-2020\\\" /><ref name=\\\"hess5_4_569\\\" />\\n\\nThe Sun will [[stellar evolution|evolve]] to become a [[red giant]] in about {{val|5|u=billion years}}. Models predict that the Sun will expand to roughly {{convert|1|AU|e6km e6mi|lk=in|abbr=unit}}, about 250 times its present radius.<ref name=\\\"sun_future\\\" /><ref name=\\\"sun_future_schroder\\\" /> Earth's fate is less clear. As a red giant, the Sun will lose roughly 30% of its mass, so, without tidal effects, Earth will move to an orbit {{convert|1.7|AU|e6km e6mi|lk=off|abbr=unit}} from the Sun when the star reaches its maximum radius, otherwise, with tidal effects, it may enter the Sun's atmosphere and be vaporized, with the heavier elements sinking to the core of the dying sun.<ref name=\\\"sun_future\\\" />\\n\\n== Physical characteristics ==\\n<!--linked from 'Earth physical characteristics tables'-->\\n{{Further|Geophysics}}\\n\\n=== Size and shape ===\\n{{Main|Figure of the Earth}}\\n{{Further|Earth radius|Earth's circumference|Spherical Earth{{!}}Earth curvature|Geomorphology}}\\n{{See also|List of highest mountains on Earth}}\\n[[File:Earth2014shape SouthAmerica small.jpg|thumb|upright=1.3|Earth's western hemisphere showing topography relative to Earth's center instead of to [[mean sea level]], as in common topographic maps]]\\n[[Figure of the Earth|Earth has a rounded shape]], through [[hydrostatic equilibrium]],<ref name=\\\"Horner 2021\\\">{{cite web | last=Horner | first=Jonti | title=I've always wondered: why are the stars, planets and moons round, when comets and asteroids aren't? | website=The Conversation | date=16 July 2021 | url= https://theconversation.com/ive-always-wondered-why-are-the-stars-planets-and-moons-round-when-comets-and-asteroids-arent-160541 | access-date=3 March 2023 | archive-date=3 March 2023 | archive-url=https://web.archive.org/web/20230303211236/https://theconversation.com/amp/ive-always-wondered-why-are-the-stars-planets-and-moons-round-when-comets-and-asteroids-arent-160541 | url-status=live }}</ref> with an average diameter of {{convert|12742|km|mi}}, making it the [[List of Solar System objects by size|fifth largest]] [[Planet#Planetary-mass object|planetary sized]] and largest [[terrestrial planet|terrestrial object]] of the [[Solar System]].<ref>{{Cite web |last=Lea |first=Robert |date=6 July 2021 |title=How big is Earth? |url=https://www.space.com/17638-how-big-is-earth.html |archive-url=https://web.archive.org/web/20240109225632/https://www.space.com/17638-how-big-is-earth.html |archive-date=9 January 2024 |access-date=11 January 2024 |website=Space.com |language=en}}</ref>\\n\\nDue to [[Earth's rotation]] it has the shape of an [[Earth ellipsoid|ellipsoid]], [[equatorial bulge|bulging at its equator]]; its diameter is {{convert|43|km|mi}} longer there than at its [[Geographical pole|poles]].<ref name=\\\"ngdc2006\\\" /><ref name= \\\"milbert_smith96\\\" /> Earth's shape also has local [[topography|topographic]] variations; the largest local variations, like the [[Mariana Trench]] ({{convert|10925|m|ft|disp=or|abbr=}} below local sea level),<ref>{{Cite journal |last1= Stewart|first1=Heather A.|last2=Jamieson|first2=Alan J.|date=2019|title=The five deeps: The location and depth of the deepest place in each of the world's oceans| journal=Earth-Science Reviews |language=en |volume=197 |article-number= 102896 |doi= 10.1016/j.earscirev.2019.102896|bibcode=2019ESRv..19702896S|issn=0012-8252|doi-access=free}}</ref> shortens Earth's average radius by 0.17% and [[Mount Everest]] ({{convert|8848|m|ft|disp=or}} above local sea level) lengthens it by 0.14%.{{refn|group=n| If Earth were shrunk to the size of a [[billiard ball]], some areas of Earth such as large mountain ranges and oceanic trenches would feel like tiny imperfections, whereas much of the planet, including the [[Great Plains]] and the [[abyssal plain]]s, would feel smoother.<ref>{{cite web |url=http://billiards.colostate.edu/bd_articles/2013/june13.pdf |title=Is a Pool Ball Smoother than the Earth? |publisher=Billiards Digest |date=1 June 2013 |access-date= 26 November 2014 |archive-date=4 September 2014 |archive-url= https://web.archive.org/web/20140904201722/http://billiards.colostate.edu/bd_articles/2013/june13.pdf |url-status=live }}</ref>}}<ref>{{cite web|url= https://serc.carleton.edu/quantskills/activities/botec_himalayas.html|title=Back-of-the-Envelope Calculations: Scale of the Himalayas|work=[[Carleton University]] |last1=Tewksbury|first1=Barbara|access-date=19 October 2020|archive-date=23 October 2020 |archive-url= https://web.archive.org/web/20201023091247/https://serc.carleton.edu/quantskills/activities/botec_himalayas.html|url-status=live}}</ref> Since Earth's surface is farthest out from its [[center of mass]] at its equatorial bulge, the summit of the volcano [[Chimborazo]] in Ecuador ({{convert|6384.4|km|mi|1|abbr=on|disp=or}}) is its farthest point out.<ref name=ps20_5_16 /><ref>{{cite web |url= https://www.npr.org/templates/story/story.php?storyId=9428163 |title=The 'Highest' Spot on Earth |last1=Krulwich |first1=Robert |author-link=Robert Krulwich |work= NPR.org |date=7 April 2007 |access-date=31 July 2012 |archive-date=30 January 2013 |archive-url= https://web.archive.org/web/20130130164111/http://www.npr.org/templates/story/story.php?storyId=9428163 |url-status=live }}</ref> Parallel to the rigid land topography [[Ocean surface topography|the ocean exhibits a more dynamic topography]].<ref>{{Cite web |title=Ocean Surface Topography |url=https://sealevel.jpl.nasa.gov/ocean-observation/ocean-surface-topography |access-date=16 June 2022 |website=Ocean Surface Topography from Space |publisher=[[NASA]] |language=en |archive-date=29 July 2021 |archive-url= https://web.archive.org/web/20210729095927/https://sealevel.jpl.nasa.gov/ocean-observation/ocean-surface-topography/ |url-status=live }}</ref>\\n\\nTo measure the local variation of Earth's topography, [[geodesy]] employs an idealized Earth producing a [[geoid]] shape. Such a shape is gained if the ocean is idealized, covering Earth completely and without any perturbations such as tides and winds. The result is a smooth but irregular geoid surface, providing a mean sea level as a reference level for topographic measurements.<ref>{{Cite web |title=What is the geoid?|url=https://oceanservice.noaa.gov/facts/geoid.html | website= oceanservice.noaa.gov |access-date=10 October 2020 |publisher=[[National Ocean Service]]|language=EN-US|archive-date=17 October 2020 |archive-url= https://web.archive.org/web/20201017000735/https://oceanservice.noaa.gov/facts/geoid.html|url-status=live}}</ref>\\n\\n=== Surface ===\\n{{Further|Planetary surface|Land cover|Land|Pedosphere|Ocean|Sea|Cryosphere|Peplosphere}}\\n[[File:Global View of the Arctic and Antarctic.jpg|thumb|A [[compositing|composite]] image of Earth, with its different types of surface discernible: Earth's surface dominating Ocean (blue), Africa with lush (green) to dry (brown) land and Earth's polar ice in the form of [[Antarctic sea ice]] (grey) covering the [[Southern Ocean|Antarctic or Southern Ocean]] and the [[Antarctic ice sheet]] (white) covering [[Antarctica]].]]\\n[[File:AYool topography 15min.png|thumb|upright=1.3|[[Terrain|Relief]] of [[Earth's crust]]]]\\nEarth's surface is the boundary between the atmosphere and the solid Earth and oceans. Defined in this way, it has an area of about {{convert|510|e6km2|e6sqmi|0|abbr=unit}}.<ref name=\\\"Pidwirny 2006_8\\\" /> Earth can be divided into two [[Hemispheres of Earth|hemispheres]]: by [[latitude]] into the polar [[Northern Hemisphere|Northern]] and [[Southern Hemisphere|Southern]] hemispheres; or by [[longitude]] into the continental [[Eastern Hemisphere|Eastern]] and [[Western Hemisphere|Western]] hemispheres.\\n\\nMost of Earth's surface is ocean water: 70.8% or {{convert|361|e6km2|e6sqmi|abbr=unit}}.<ref name=\\\"Pidwirny 2006_8\\\" /> This vast pool of salty water is often called the ''world ocean'',<ref name=\\\"Janin Mandia 2012 p. 20\\\">{{cite book |last1=Janin |first1=H. |last2=Mandia |first2=S.A. |title=Rising Sea Levels: An Introduction to Cause and Impact |publisher=McFarland, Incorporated, Publishers |year=2012 |isbn=978-0-7864-5956-8 |url=https://books.google.com/books?id=it27LP5V0ugC&pg=PA20 |access-date=26 August 2022 |page=20 |archive-date=21 February 2023 |archive-url=https://web.archive.org/web/20230221195211/https://books.google.com/books?id=it27LP5V0ugC&pg=PA20 |url-status=live }}</ref><ref name=\\\"Ro 2020\\\">{{cite web |last=Ro |first=Christine |title=Is It Ocean Or Oceans? |website=Forbes |date=3 February 2020 |url=https://www.forbes.com/sites/christinero/2020/02/03/is-it-ocean-or-oceans/ |access-date=26 August 2022 |archive-date=26 August 2022 |archive-url=https://web.archive.org/web/20220826231806/https://www.forbes.com/sites/christinero/2020/02/03/is-it-ocean-or-oceans/ |url-status=live }}</ref> and makes Earth with its dynamic [[hydrosphere]] a water world<ref name=\\\"Smith 2021\\\">{{cite web |last=Smith |first=Yvette |title=Earth Is a Water World |website=NASA |date=7 June 2021 |url=http://www.nasa.gov/image-feature/earth-is-a-water-world |access-date=27 August 2022 |archive-date=27 August 2022 |archive-url=https://web.archive.org/web/20220827003111/https://www.nasa.gov/image-feature/earth-is-a-water-world/ |url-status=live }}</ref><ref name=\\\"National Geographic Society 2022\\\">{{cite web |title=Water-Worlds |website=National Geographic Society |date=20 May 2022 |url=https://education.nationalgeographic.org/resource/water-worlds/ |access-date=24 August 2022 |archive-date=19 August 2022 |archive-url=https://web.archive.org/web/20220819111728/https://education.nationalgeographic.org/resource/water-worlds/ |url-status=live }}</ref> or [[ocean world]].<ref name=\\\"Lunine 2017 pp. 123–130\\\">{{cite journal |last=Lunine |first=Jonathan I. |title=Ocean worlds exploration |journal=Acta Astronautica |publisher=Elsevier BV |volume=131 |year=2017 |issn=0094-5765 |doi=10.1016/j.actaastro.2016.11.017 |pages=123–130|bibcode=2017AcAau.131..123L |doi-access=free }}</ref><ref name=\\\"Ocean Worlds\\\">{{cite web |title=Ocean Worlds |website=Ocean Worlds |url=http://www.nasa.gov/specials/ocean-worlds/index.html |access-date=27 August 2022 |archive-date=27 August 2022 |archive-url=https://web.archive.org/web/20220827003111/https://www.nasa.gov/specials/ocean-worlds/index.html }}</ref> Indeed, in Earth's early history the ocean may have covered Earth completely.<ref name=\\\"Voosen p.\\\">{{cite journal | last=Voosen | first=Paul | title=Ancient Earth was a water world | journal=Science | publisher=American Association for the Advancement of Science (AAAS) | date=9 March 2021 | volume=371 | issue=6534 | pages=1088–1089 | issn=0036-8075 | doi=10.1126/science.abh4289 | pmid=33707245 | s2cid=241687784 }}</ref> The world ocean is commonly divided into the Pacific Ocean, Atlantic Ocean, Indian Ocean, Southern Ocean, and Arctic Ocean, from largest to smallest. The ocean covers [[oceanic crust|Earth's oceanic crust]], with the [[shelf sea]]s covering the [[continental shelf|shelves]] of the [[continental crust]] to a lesser extent. The oceanic crust forms large [[oceanic basin]]s with features like [[abyssal plain]]s, [[seamount]]s, [[submarine volcano]]es,<ref name=\\\"ngdc2006\\\" /> [[oceanic trench]]es, [[submarine canyon]]s, [[oceanic plateau]]s, and a globe-spanning [[mid-ocean ridge]] system.<ref>{{Cite web |title=NOAA Ocean Explorer: GalAPAGoS: Where Ridge Meets Hotspot |url=https://oceanexplorer.noaa.gov/explorations/05galapagos/background/mid_ocean_ridge/mid_ocean_ridge.html |archive-url=https://web.archive.org/web/20231115110723/https://oceanexplorer.noaa.gov/explorations/05galapagos/background/mid_ocean_ridge/mid_ocean_ridge.html |archive-date=15 November 2023 |access-date=28 April 2024 |website=oceanexplorer.noaa.gov}}</ref> At Earth's [[polar regions of Earth|polar regions]], the [[ocean surface]] is covered by seasonally variable amounts of [[sea ice]] that often connects with polar land, [[permafrost]] and [[ice sheet]]s, forming [[polar ice cap]]s.\\n\\nEarth's land covers 29.2%, or {{convert|149|e6km2|e6sqmi|abbr=unit}} of Earth's surface. The land surface includes many islands around the globe, but most of the land surface is taken by the four continental [[landmass]]es, which are (in descending order): [[Afro-Eurasia|Africa-Eurasia]], [[Americas|America]], [[Antarctica]], and [[mainland Australia|Australia]].<ref name=\\\"DunnMitchell2016\\\">{{cite book|first1=Ross E.|last1=Dunn|first2=Laura J.|last2=Mitchell|first3=Kerry|last3=Ward|title=The New World History: A Field Guide for Teachers and Researchers|url=https://books.google.com/books?id=-aowDwAAQBAJ&pg=PA232|year=2016|publisher=Univ of California Press|isbn=978-0-520-28989-5|pages=232–|access-date=9 August 2023|archive-date=21 February 2023|archive-url=https://web.archive.org/web/20230221195225/https://books.google.com/books?id=-aowDwAAQBAJ&pg=PA232|url-status=live}}</ref><ref name=\\\"Dempsey 2013\\\">{{cite web |last=Dempsey |first=Caitlin |title=Geography Facts about the World's Continents |website=Geography Realm |date=15 October 2013 |url=https://www.geographyrealm.com/continents/ |access-date=26 August 2022 |archive-date=26 August 2022 |archive-url=https://web.archive.org/web/20220826235549/https://www.geographyrealm.com/continents/ |url-status=live }}</ref><ref name=\\\"McColl\\\">{{cite encyclopedia|title=continents|encyclopedia=Encyclopedia of World Geography|volume=1|url=https://books.google.com/books?id=DJgnebGbAB8C&pg=PA215|editor=R.W. McColl|year=2005|publisher=Facts on File, Inc.|isbn=978-0-8160-7229-3|page=215|access-date=25 August 2022|quote=And since Africa and Asia are connected at the Suez Peninsula, Europe, Africa, and Asia are sometimes combined as Afro-Eurasia or Eurafrasia. The International Olympic Committee's official flag, containing [...] the single continent of America (North and South America being connected as the Isthmus of Panama).|archive-date=21 February 2023|archive-url=https://web.archive.org/web/20230221195231/https://books.google.com/books?id=DJgnebGbAB8C&pg=PA215|url-status=live}}</ref> These landmasses are further broken down and grouped into the [[continent]]s. The [[terrain]] of the land surface varies greatly and consists of mountains, [[desert]]s, [[plain]]s, [[plateau]]s, and other [[landform]]s. The elevation of the land surface varies from a low point of {{convert|-418|m|ft|abbr=on}} at the [[Dead Sea]], to a maximum altitude of {{convert|8848|m|ft|abbr=on}} at the top of [[Mount Everest]]. The mean height of land above sea level is about {{convert|797|m|ft|abbr=on}}.<ref>{{cite web|last=Center|first=National Geophysical Data|title=Hypsographic Curve of Earth's Surface from ETOPO1|url=https://www.ncei.noaa.gov/products/etopo-global-relief-model|website=ngdc.noaa.gov|date=19 August 2020|access-date=15 September 2017|archive-date=15 September 2017|archive-url=https://web.archive.org/web/20170915114233/https://ngdc.noaa.gov/mgg/global/etopo1_surface_histogram.html|url-status=live}}</ref>\\n\\nLand can be [[land cover|covered]] by [[surface water]], snow, ice, artificial structures or vegetation. Most of Earth's land hosts vegetation,<ref name=\\\"Carlowicz Simmon 2019\\\">{{cite web | last1=Carlowicz | first1=Michael | last2=Simmon | first2=Robert | title=Seeing Forests for the Trees and the Carbon: Mapping the World's Forests in Three Dimensions | website=NASA Earth Observatory | date=15 July 2019 | url=https://earthobservatory.nasa.gov/features/ForestCarbon#:~:text=They%20cover%20about%2030%20percent,percent%20of%20the%20Earth's%20land. | access-date=31 December 2022 | archive-date=31 December 2022 | archive-url=https://web.archive.org/web/20221231005400/https://earthobservatory.nasa.gov/features/ForestCarbon#:~:text=They%20cover%20about%2030%20percent,percent%20of%20the%20Earth's%20land. | url-status=live }}</ref> but considerable amounts of land are [[ice sheet]]s (10%,<ref name=\\\"National Geographic Society 2006\\\">{{cite web | title=Ice Sheet | website=National Geographic Society | date=6 August 2006 | url=https://education.nationalgeographic.org/resource/ice-sheet/ | access-date=3 January 2023 | archive-date=27 November 2023 | archive-url=https://web.archive.org/web/20231127174259/https://education.nationalgeographic.org/resource/ice-sheet/ | url-status=live }}</ref> not including the equally large area of land under [[permafrost]])<ref name=\\\"Obu 2021 p.\\\">{{cite journal | last=Obu | first=J. | title=How Much of the Earth's Surface is Underlain by Permafrost? | journal=Journal of Geophysical Research: Earth Surface | publisher=American Geophysical Union (AGU) | volume=126 | issue=5 | year=2021 | issn=2169-9003 | doi=10.1029/2021jf006123 | article-number=e2021JF006123 | bibcode=2021JGRF..12606123O | s2cid=235532921 }}</ref> or [[desert]]s (33%).<ref name=\\\"Cain 2010\\\">{{cite web | last=Cain | first=Fraser | title=What Percentage of the Earth's Land Surface is Desert? | website=Universe Today | date=1 June 2010 | url=https://www.universetoday.com/65639/what-percentage-of-the-earths-land-surface-is-desert/ | access-date=3 January 2023 | archive-date=3 January 2023 | archive-url=https://web.archive.org/web/20230103153344/https://www.universetoday.com/65639/what-percentage-of-the-earths-land-surface-is-desert/ | url-status=live }}</ref>\\n\\nThe [[pedosphere]] is the outermost layer of Earth's land surface and is composed of soil and subject to [[soil formation]] processes. Soil is crucial for land to be arable. Earth's total [[arable land]] is 10.7% of the land surface, with 1.3% being permanent cropland.<ref>{{cite web |title=World Bank arable land |url=http://data.worldbank.org/indicator/AG.LND.ARBL.ZS/countries/1W?display=graph |publisher=World Bank |access-date=19 October 2015 |archive-date=2 October 2015 |archive-url=https://web.archive.org/web/20151002170510/http://data.worldbank.org/indicator/AG.LND.ARBL.ZS/countries/1w?display=graph |url-status=live }}</ref><ref>{{cite web |title=World Bank permanent cropland |url=http://data.worldbank.org/indicator/AG.LND.CROP.ZS/countries?display=graph |publisher=World Bank |access-date=19 October 2015 |archive-date=13 July 2015 |archive-url=https://web.archive.org/web/20150713131245/http://data.worldbank.org/indicator/AG.LND.CROP.ZS/countries?display=graph |url-status=live }}</ref> Earth has an estimated {{convert|16.7|e6km2|e6sqmi|abbr=unit}} of cropland and {{convert|33.5|e6km2|e6sqmi|abbr=unit}} of pastureland.<ref name=\\\"Hooke2012\\\">{{cite journal |url=https://www.geosociety.org/gsatoday/archive/22/12/pdf/gt1212.pdf |title=Land transformation by humans: A review |journal=GSA Today |first1=Roger LeB. |last1=Hooke |first2=José F. |last2=Martín-Duque |first3=Javier |last3=Pedraza |volume=22 |issue=12 |pages=4–10 |date=December 2012 |doi=10.1130/GSAT151A.1 |bibcode=2012GSAT...12l...4H |access-date=9 January 2018 |archive-date=9 January 2018 |archive-url=https://web.archive.org/web/20180109181247/https://www.geosociety.org/gsatoday/archive/22/12/pdf/gt1212.pdf |url-status=live }}</ref>\\n\\nThe land surface and the [[ocean floor]] form the top of [[Earth's crust]], which together with parts of the [[upper mantle (Earth)|upper mantle]] form [[Lithosphere#Earth's lithosphere|Earth's lithosphere]]. Earth's crust may be divided into [[oceanic crust|oceanic]] and [[continental crust|continental]] crust. Beneath the ocean-floor sediments, the oceanic crust is predominantly [[basalt]]ic, while the continental crust may include lower density materials such as [[granite]], sediments and metamorphic rocks.<ref name=\\\"layers_earth\\\" /> Nearly 75% of the continental surfaces are covered by sedimentary rocks, although they form about 5% of the mass of the crust.<ref name=jessey />\\n\\nEarth's surface [[topography]] comprises both the [[ocean surface topography|topography of the ocean surface]], and the [[hypsometry|shape]] of Earth's land surface. The submarine terrain of the ocean floor has an average [[bathymetric]] depth of 4&nbsp;km, and is as varied as the terrain above sea level. Earth's surface is continually being shaped by internal [[plate tectonic]] processes including [[earthquakes]] and [[volcanism]]; by [[weathering]] and [[erosion]] driven by ice, water, wind and temperature; and by [[biological processes]] including the growth and decomposition of [[biomass]] into [[soil]].<ref name=\\\"kring\\\" /><ref>{{cite book|last=Martin|first=Ronald|url=https://books.google.com/books?id=agaOKrvAoeAC|title=Earth's Evolving Systems: The History of Planet Earth|publisher=Jones & Bartlett Learning|year=2011|isbn=978-0-7637-8001-2|oclc=635476788|access-date=9 August 2023|archive-date=21 February 2023|archive-url=https://web.archive.org/web/20230221195236/https://books.google.com/books?id=agaOKrvAoeAC|url-status=live}}</ref>\\n\\n=== Tectonic plates ===\\n{{Main|Plate tectonics}}\\n[[File:Tectonic plates (empty).svg|alt=Shows the extent and boundaries of tectonic plates, with superimposed outlines of the continents they support|thumb|[[List of tectonic plates|Earth's major plates]], which are:<ref name=\\\"brown_wohletz2005\\\" />{{Hlist|{{Legend inline|#fee6aa|[[Pacific Plate]]}}|{{Legend inline|#fb9a7a|[[African Plate]]<ref group=\\\"n\\\" name=\\\"jaes41_3_379\\\" />}}|{{Legend inline|#ac8d7f|[[North American Plate]]}}|{{Legend inline|#7fa172|[[Eurasian Plate]]}}|{{Legend inline|#8a9dbe|[[Antarctic Plate]]}}|{{Legend inline|#fcb482|[[Indo-Australian Plate]]}}|{{Legend inline|#ad82b0|[[South American Plate]]}}}}]]\\n\\nEarth's mechanically rigid outer layer of [[Earth's crust]] and [[upper mantle (Earth)|upper mantle]], the [[lithosphere]], is divided into [[list of tectonic plates|tectonic plates]]. These plates are rigid segments that move relative to each other at one of three boundaries types: at [[convergent boundary|convergent boundaries]], two plates come together; at [[divergent boundary|divergent boundaries]], two plates are pulled apart; and at [[transform fault|transform boundaries]], two plates slide past one another laterally. Along these plate boundaries, earthquakes, [[Volcanism|volcanic activity]], [[Orogeny|mountain-building]], and [[oceanic trench]] formation can occur.<ref name=\\\"kious_tilling1999\\\" /> The tectonic plates ride on top of the [[asthenosphere]], the solid but less-viscous part of the upper mantle that can flow and move along with the plates.<ref name=\\\"seligman2008\\\" />\\n\\nAs the tectonic plates migrate, oceanic crust is [[Subduction|subducted]] under the leading edges of the plates at convergent boundaries. At the same time, the upwelling of mantle material at divergent boundaries creates mid-ocean ridges. The combination of these processes recycles the oceanic crust back into the mantle. Due to this recycling, most of the ocean floor is less than {{val|100|u=Myr}} old. The oldest oceanic crust is located in the Western Pacific and is estimated to be {{val|200|u=Myr}} old.<ref name=duennebier1999 /><ref name=noaa20070307 /> By comparison, the oldest dated continental crust is {{val|4030|u=Myr|fmt=commas}},<ref name=cmp134_3 /> although zircons have been found preserved as clasts within Eoarchean sedimentary rocks that give ages up to {{val|4400|u=Myr|fmt=commas}}, indicating that at least some continental crust existed at that time.<ref name=science310_5756_1947 />\\n\\nThe seven major plates are the [[Pacific Plate|Pacific]], [[North American Plate|North American]], [[Eurasian Plate|Eurasian]], [[African Plate|African]], [[Antarctic Plate|Antarctic]], [[Indo-Australian Plate|Indo-Australian]], and [[South American Plate|South American]]. Other notable plates include the [[Arabian Plate]], the [[Caribbean Plate]], the [[Nazca Plate]] off the west coast of South America and the [[Scotia Plate]] in the southern Atlantic Ocean. The Australian Plate fused with the Indian Plate between {{val|50|and|55|u=Ma}}. The fastest-moving plates are the oceanic plates, with the [[Cocos Plate]] advancing at a rate of {{convert|75|mm/year|in/year|abbr=on}}<ref name=podp2000 /> and the Pacific Plate moving {{convert|52|–|69|mm/year|in/year|abbr=on}}. At the other extreme, the slowest-moving plate is the South American Plate, progressing at a typical rate of {{convert|10.6|mm/year|in/year|abbr=on}}.<ref name=\\\"Argus_etal_2011\\\">{{Cite journal |last1=Argus |first1=D.F. |last2=Gordon |first2=R.G. |last3=DeMets |first3=C. |date=2011 |title=Geologically current motion of 56 plates relative to the no-net-rotation reference frame |journal=Geochemistry, Geophysics, Geosystems |volume=12 |issue=11 |pages=n/a |doi=10.1029/2011GC003751 |bibcode=2011GGG....1211001A |doi-access=free}}</ref>\\n\\n=== Internal structure ===\\n{{Main|Internal structure of Earth}}\\n\\n{| class=\\\"wikitable sortable\\\" style=\\\"float: right; clear: right; margin-left: 2em; text-align:center;\\\"\\n|+Geologic layers of Earth<ref name=pnas76_9_4192>{{cite journal |last1=Jordan |first1=T. H. |title=Structural geology of the Earth's interior |journal=Proceedings of the National Academy of Sciences of the United States of America |year=1979 |volume=76 |issue=9 |pages=4192–4200 |doi=10.1073/pnas.76.9.4192 |pmid=16592703 |pmc=411539 |bibcode=1979PNAS...76.4192J|doi-access=free }}</ref>\\n| colspan=\\\"3\\\" style=\\\"font-size:smaller; text-align:center;background: white;color:black;\\\" |[[File:Earth-cutaway-schematic-english.svg|center|frameless]]Illustration of Earth's cutaway, not to scale\\n|-\\n!Depth<span style=\\\"font-size: smaller;\\\"><ref name=robertson2001>{{cite web |last1=Robertson |first1=Eugene C. |date=26 July 2001 |url=http://pubs.usgs.gov/gip/interior/ |title=The Interior of the Earth |publisher=USGS |access-date=24 March 2007 |archive-date=28 August 2011 |archive-url=https://web.archive.org/web/20110828015257/http://pubs.usgs.gov/gip/interior/ |url-status=live }}</ref><br />(km)</span>\\n! Component <br />layer name\\n!Density<br /><span style=\\\"font-size: smaller;\\\">(g/cm<sup>3</sup>)</span>\\n|-\\n|0–60\\n| style=\\\"text-align:left;\\\" |[[Earth's lithosphere|Lithosphere]]<ref group=\\\"n\\\">Locally varies between {{val|5|and|200|u=km}}.</ref>\\n|—\\n|-\\n|0–35\\n| style=\\\"text-align:left;\\\" |[[Earth's crust|Crust]]<ref group=\\\"n\\\">Locally varies between {{val|5|and|70|u=km}}.</ref>\\n|2.2–2.9\\n|-\\n|35–660\\n| style=\\\"text-align:left;\\\" |[[Upper mantle (Earth)|Upper mantle]]\\n|3.4–4.4\\n|-\\n|660–2,890\\n| style=\\\"text-align:left;\\\" |[[Lower mantle (Earth)|Lower mantle]]\\n|3.4–5.6\\n|-\\n|100–700\\n| style=\\\"text-align:left;\\\" |[[Asthenosphere]]\\n|—\\n|-\\n|2,890–5,100\\n| style=\\\"text-align:left;\\\" |[[Earth's outer core|Outer core]]\\n|9.9–12.2\\n|-\\n|5,100–6,378\\n| style=\\\"text-align:left;\\\" |[[Earth's inner core|Inner core]]\\n|12.8–13.1\\n|}\\n\\nEarth's interior, like that of the other terrestrial planets, is divided into layers by their [[chemical]] or physical ([[Rheology|rheological]]) properties. The outer layer is a chemically distinct [[Silicate minerals|silicate]] solid crust, which is underlain by a highly [[viscous]] solid mantle. The crust is separated from the mantle by the [[Mohorovičić discontinuity]].<ref name=\\\"GeolSoc\\\" /> The thickness of the crust varies from about {{convert|6|km|mi}} under the oceans to {{convert|30|-|50|km|mi|abbr=on}} for the continents. The crust and the cold, rigid, top of the [[upper mantle]] are collectively known as the lithosphere, which is divided into independently moving tectonic plates.<ref>{{cite news|url=https://education.nationalgeographic.org/resource/lithosphere/|title=Lithosphere|work=[[National Geographic]]|last1=Micalizio|first1=Caryl-Sue|last2=Evers|first2=Jeannie|date=20 May 2015|access-date=13 October 2020|archive-date=29 May 2022|archive-url=https://web.archive.org/web/20220529052948/https://education.nationalgeographic.org/resource/lithosphere/|url-status=live}}</ref>\\n\\nBeneath the lithosphere is the [[asthenosphere]], a relatively low-viscosity layer on which the lithosphere rides. Important changes in crystal structure within the mantle occur at {{convert|410|and|660|km|mi|abbr=on}} below the surface, spanning a [[Transition zone (Earth)|transition zone]] that separates the upper and lower mantle. Beneath the mantle, an extremely low viscosity liquid [[outer core]] lies above a solid [[Earth's inner core|inner core]].<ref name=tanimoto_ahrens1995 /> Earth's inner core may be rotating at a slightly higher [[angular velocity]] than the remainder of the planet, advancing by 0.1–0.5° per year, although both somewhat higher and much lower rates have also been proposed.<ref name=\\\"Deuss_2014\\\" /> The radius of the inner core is about one-fifth of that of Earth. {{anchor|Density}}The density increases with depth. Among the Solar System's planetary-sized objects, Earth is the [[list of Solar System objects by size|object with the highest density]].\\n\\n=== Chemical composition ===\\n{{Further|Abundance of the chemical elements#Earth}}\\n{{See also|Abundance of elements in Earth's crust}}\\n\\n[[Earth mass|Earth's mass]] is approximately {{val|5.97|e=24|ul=kg}} ({{Value|5.970|fmt=commas|u=[[Yottagram|Yg]]}}). It is composed mostly of iron (32.1% [[Mass fraction (chemistry)|by mass]]), [[oxygen]] (30.1%), [[silicon]] (15.1%), [[magnesium]] (13.9%), [[sulfur]] (2.9%), [[nickel]] (1.8%), [[calcium]] (1.5%), and [[aluminium]] (1.4%), with the remaining 1.2% consisting of trace amounts of other elements. Due to [[Planetary differentiation#Gravitational separation|gravitational separation]], the core is primarily composed of the denser elements: iron (88.8%), with smaller amounts of nickel (5.8%), sulfur (4.5%), and less than 1% trace elements.<ref name=\\\"pnas71_12_6973\\\" /><ref name=\\\"comp\\\" /> The most common rock constituents of the crust are [[oxide]]s. Over 99% of the [[Earth's crust|crust]] is composed of various oxides of eleven elements, principally oxides containing silicon (the [[silicate mineral]]s), aluminium, iron, calcium, magnesium, potassium, or sodium.<ref name=\\\"brown_mussett1981\\\" /><ref name=\\\"pnas71_12_6973\\\" />\\n\\n=== Internal heat ===\\n{{Main|Earth's internal heat budget}}\\n[[File:Earth heat flow.jpg|upright=1.3|thumb|A map of [[heat flow]] from Earth's interior to the surface of Earth's crust, mostly along the [[oceanic ridge]]s]]\\nThe major contributors to Earth's internal heat are primordial heat (heat left over from Earth's formation) and radiogenic heat (heat produced by radioactive decay).<ref name=Turcotte>{{cite book|author1=Donald L. Turcotte|author2=Gerald Schubert|title=Geodynamics|url=https://books.google.com/books?id=-nCHlVuJ4FoC&q=primordial&pg=PA286|date=25 March 2002|publisher=Cambridge University Press|isbn=978-0-521-66624-4}}</ref> The major heat-producing [[isotope]]s within Earth are [[potassium-40]], [[uranium-238]], and [[thorium-232]].<ref name=sanders20031210 /> At the center, the temperature may be up to {{convert|6000|C|F}},<ref>{{cite web |title=The Earth's Centre is 1000 Degrees Hotter than Previously Thought |url=http://www.esrf.eu/news/general/Earth-Center-Hotter |website=The European Synchrotron (ESRF) |access-date=12 April 2015 |archive-url=https://web.archive.org/web/20130628075455/http://www.esrf.eu/news/general/Earth-Center-Hotter/Earth-Centre-Hotter/ |archive-date=28 June 2013 |date=25 April 2013 }}</ref> and the pressure could reach {{convert|360|GPa|e6psi|abbr=unit|lk=on}}.<ref name=ptrsl360_1795_1227 /> Because much of the heat is provided by radioactive decay, scientists postulate that early in Earth's history, before isotopes with short half-lives were depleted, Earth's heat production was much higher. At approximately {{val|3|ul=Gyr}}, twice the present-day heat would have been produced, increasing the rates of [[mantle convection]] and plate tectonics, and allowing the production of uncommon [[igneous rock]]s such as [[komatiite]]s that are rarely formed today.<ref name=\\\"T&S 137\\\" /><ref name=epsl121_1 />\\n\\nThe mean heat loss from Earth is {{val|87|u=mW/m<sup>2</sup>}}, for a global heat loss of {{val|4.42|e=13|u=W}}.<ref name=jg31_3_267 /> A portion of the core's thermal energy is transported toward the crust by [[mantle plume]]s, a form of convection consisting of upwellings of higher-temperature rock. These plumes can produce [[Hotspot (geology)|hotspots]] and [[flood basalt]]s.<ref name=science246_4926_103 /> More of the heat in Earth is lost through plate tectonics, by mantle upwelling associated with [[mid-ocean ridge]]s. The final major mode of heat loss is through conduction through the lithosphere, the majority of which occurs under the oceans.<ref name=\\\"heat loss\\\" />\\n\\n=== Gravitational field ===\\n{{Main|Gravity of Earth}}\\nThe gravity of Earth is the [[acceleration]] that is imparted to objects due to the distribution of mass within Earth. Near Earth's surface, [[gravitational acceleration]] is approximately {{convert|9.8|m/s2|abbr=on}}. Local differences in topography, geology, and deeper tectonic structure cause local and broad regional differences in Earth's gravitational field, known as [[Gravity anomaly|gravity anomalies]].<ref>{{cite journal |first1=A. B. |last1=Watts |first2=S. F. |last2=Daly |title=Long wavelength gravity and topography anomalies |journal=Annual Review of Earth and Planetary Sciences |volume=9 |pages=415–418 |date=May 1981 |issue=1 |doi=10.1146/annurev.ea.09.050181.002215 |bibcode=1981AREPS...9..415W}}</ref>\\n\\n=== Magnetic field ===\\n{{Main|Earth's magnetic field}}\\n[[File:Magnetosphere Levels-en.svg|alt=Diagram showing the magnetic field lines of Earth's magnetosphere. The lines are swept back in the anti-solar direction under the influence of the solar wind.|thumb|A schematic view of Earth's magnetosphere with [[solar wind]] flowing from left to right]]\\nThe main part of Earth's magnetic field is generated in the core, the site of a [[Dynamo theory|dynamo]] process that converts the kinetic energy of thermally and compositionally driven convection into electrical and magnetic field energy. The field extends outwards from the core, through the mantle, and up to Earth's surface, where it is, approximately, a [[dipole]]. The poles of the dipole are located close to Earth's geographic poles. At the equator of the magnetic field, the magnetic-field strength at the surface is {{nowrap|3.05{{e|−5}} [[Tesla (unit)|T]]}}, with a [[magnetic dipole moment]] of {{nowrap|7.79{{e|22}} Am{{sup|2}}}} at epoch 2000, decreasing nearly 6% per century (although it still remains stronger than its long time average).<ref name=\\\"dipole\\\">{{cite journal |last1=Olson |first1=Peter |last2=Amit |first2=Hagay |title=Changes in earth's dipole |url=https://pages.jh.edu/~polson1/pdfs/ChangesinEarthsDipole.pdf |journal=Naturwissenschaften |volume=93 |issue=11 |year=2006 |pages=519–542 |doi=10.1007/s00114-006-0138-6 |pmid=16915369 |bibcode=2006NW.....93..519O |s2cid=22283432 |access-date=6 July 2019 |archive-date=27 September 2019 |archive-url=https://web.archive.org/web/20190927110538/http://pages.jh.edu/~polson1/pdfs/ChangesinEarthsDipole.pdf |url-status=live }}</ref> The convection movements in the core are chaotic; the magnetic poles drift and periodically change alignment. This causes [[Geomagnetic secular variation|secular variation]] of the main field and [[geomagnetic reversal|field reversals]] at irregular intervals averaging a few times every million years. The most recent reversal occurred approximately 700,000 years ago.<ref name=\\\"fitzpatrick2006\\\" /><ref name=\\\"campbelwh\\\" />\\n\\nThe extent of Earth's magnetic field in space defines the [[magnetosphere]]. Ions and electrons of the solar wind are deflected by the magnetosphere; solar wind pressure compresses the day-side of the magnetosphere, to about 10 Earth radii, and extends the night-side magnetosphere into a long tail.<ref>{{Cite journal|last1=Ganushkina|first1=N. Yu|last2=Liemohn|first2=M. W.|last3=Dubyagin|first3=S.|date=2018|title=Current Systems in the Earth's Magnetosphere|url=https://agupubs.onlinelibrary.wiley.com/doi/abs/10.1002/2017RG000590|journal=Reviews of Geophysics|language=en|volume=56|issue=2|pages=309–332|doi=10.1002/2017RG000590|bibcode=2018RvGeo..56..309G|hdl=2027.42/145256|s2cid=134666611|issn=1944-9208|hdl-access=free|access-date=24 October 2020|archive-date=31 March 2021|archive-url=https://web.archive.org/web/20210331100349/https://agupubs.onlinelibrary.wiley.com/doi/full/10.1002/2017RG000590}}</ref> Because the velocity of the solar wind is greater than the speed at which waves propagate through the solar wind, a supersonic [[bow shock]] precedes the day-side magnetosphere within the solar wind.<ref>{{cite web |url=http://sci.esa.int/jump.cfm?oid=40994 |title=Cluster reveals the reformation of the Earth's bow shock |publisher=European Space Agency |first=Arnaud |last=Masson |date=11 May 2007 |access-date=16 August 2016 |archive-date=31 March 2021 |archive-url=https://web.archive.org/web/20210331100440/https://sci.esa.int/web/cluster/-/40994-cluster-reveals-the-reformation-of-the-earth-s-bow-shock |url-status=live }}</ref> [[Charged particle]]s are contained within the magnetosphere; the plasmasphere is defined by low-energy particles that essentially follow magnetic field lines as Earth rotates.<ref>{{cite web |url=http://plasmasphere.nasa.gov/ |title=The Earth's Plasmasphere |publisher=NASA/Marshall Space Flight Center |last=Gallagher |first=Dennis L. |date=14 August 2015 |access-date=16 August 2016 |archive-date=28 August 2016 |archive-url=https://web.archive.org/web/20160828213813/http://plasmasphere.nasa.gov/ |url-status=live }}</ref><ref>{{cite web |url=http://plasmasphere.nasa.gov/formed.html |title=How the Plasmasphere is Formed |publisher=NASA/Marshall Space Flight Center |last=Gallagher |first=Dennis L. |date=27 May 2015 |access-date=16 August 2016 |archive-date=15 November 2016 |archive-url=https://web.archive.org/web/20161115064232/http://plasmasphere.nasa.gov/formed.html }}</ref> The ring current is defined by medium-energy [[particle]]s that drift relative to the geomagnetic field, but with paths that are still dominated by the magnetic field,<ref name=\\\"BaumjohannTreumann1997\\\">{{cite book |title=Basic Space Plasma Physics |publisher=World Scientific |first1=Wolfgang |last1=Baumjohann |first2=Rudolf A. |last2=Treumann |pages=8, 31 |year=1997 |isbn=978-1-86094-079-8}}</ref> and the [[Van Allen radiation belt]]s are formed by high-energy particles whose motion is essentially random, but contained in the magnetosphere.<ref name=\\\"Britannica\\\">{{cite encyclopedia |url=https://www.britannica.com/science/ionosphere-and-magnetosphere/Magnetosphere |title=Ionosphere and magnetosphere |encyclopedia=Encyclopædia Britannica |publisher=Encyclopædia Britannica, Inc. |first=Michael B. |last=McElroy |year=2012 |access-date=16 August 2016 |archive-date=3 July 2016 |archive-url=https://web.archive.org/web/20160703085345/https://www.britannica.com/science/ionosphere-and-magnetosphere/Magnetosphere |url-status=live }}</ref><ref name=\\\"Van Allen\\\">{{cite book |title=Origins of Magnetospheric Physics |publisher=University of Iowa Press |last=Van Allen |first=James Alfred |date=2004 |isbn=978-0-87745-921-7 |oclc=646887856}}</ref> During [[magnetic storm]]s and [[substorm]]s, charged particles can be deflected from the outer magnetosphere and especially the magnetotail, directed along field lines into Earth's [[ionosphere]], where atmospheric atoms can be excited and ionized, causing an [[aurora]].<ref name=\\\"stern2005\\\" />\\n\\n== Orbit and rotation ==\\n=== Rotation ===\\n{{Main|Earth's rotation}}\\n[[File:EpicEarth-Globespin-tilt-23.4.gif|thumb|upright=1.3|Satellite [[Time-lapse photography|time lapse imagery]] of Earth's rotation showing axis tilt]]\\nEarth's rotation period relative to the Sun—its mean solar day—is {{nowrap|86,400 seconds}} of mean solar time ({{nowrap|86,400.0025 [[SI]] seconds}}).<ref name=\\\"aj136_5_1906\\\" /> Because Earth's solar day is now slightly longer than it was during the 19th century due to [[tidal acceleration|tidal deceleration]], each day varies between {{nowrap|0 and 2 [[millisecond|ms]]}} longer than the mean solar day.<ref name=\\\"USNO_TSD\\\" /><ref>{{cite journal |title=Rapid Service/Prediction of Earth Orientation |journal=IERS Bulletin-A |date=9 April 2015 |volume=28 |issue=15 |url=http://maia.usno.navy.mil/ser7/ser7.dat |access-date=12 April 2015 |format=.DAT file (displays as plaintext in browser) |archive-url=https://web.archive.org/web/20150314182157/http://maia.usno.navy.mil/ser7/ser7.dat |archive-date=14 March 2015 }}</ref>\\n\\nEarth's rotation period relative to the [[fixed star]]s, called its ''stellar day'' by the [[International Earth Rotation and Reference Systems Service]] (IERS), is {{nowrap|86,164.0989 seconds}} of mean solar time ([[UT1]]), or {{nowrap |23{{smallsup|h}} 56{{smallsup|m}} 4.0989{{smallsup|s}}.}}<ref name=\\\"IERS\\\" /><ref group=\\\"n\\\" name=\\\"Aoki\\\" /> Earth's rotation period relative to the [[precession (astronomy)|precessing]] or moving mean [[March equinox]] (when the Sun is at 90° on the equator)<!-- , misnamed its ''[[sidereal day]]'' [don't know what is this] -->, is {{nowrap|86,164.0905 seconds}} of mean solar time (UT1) {{nowrap|(23{{smallsup|h}} 56{{smallsup|m}} 4.0905{{smallsup|s}})}}.<ref name=\\\"IERS\\\" /> Thus the sidereal day is shorter than the stellar day by about 8.4&nbsp;ms.<ref name=\\\"seidelmann1992\\\" />\\n\\nApart from meteors within the atmosphere and low-orbiting satellites, the main apparent motion of celestial bodies in Earth's sky is to the west at a rate of 15°/h = 15'/min. For bodies near the [[celestial equator]], this is equivalent to an apparent diameter of the Sun or the Moon every two minutes; from Earth's surface, the apparent sizes of the Sun and the Moon are approximately the same.<ref name=\\\"zeilik1998\\\" /><ref name=\\\"angular\\\" />\\n\\n=== Orbit ===\\n{{Main|Earth's orbit|Earth's location}}\\n[[File:Seasons1.svg|thumb|upright=1.3|Exaggerated illustration of Earth's elliptical orbit around the Sun, marking that the orbital extreme points ([[apoapsis]] and [[periapsis]]) are not the same as the four seasonal extreme points, the [[equinox]] and [[solstice]]]]\\nEarth orbits the Sun, making Earth the third-closest planet to the Sun and part of the [[inner Solar System]]. Earth's average orbital distance is about {{convert|150|e6km|e6mi|abbr=unit}}, which is the basis for the [[astronomical unit]] (AU) and is equal to roughly 8.3 [[light minute]]s or 380 times [[Lunar distance (astronomy)|Earth's distance to the Moon]]. Earth orbits the Sun every 365.2564 mean [[solar day]]s, or one [[sidereal year]]. With an apparent movement of the Sun in Earth's sky at a rate of about 1°/day eastward, which is one apparent Sun or Moon diameter every 12&nbsp;hours. Due to this motion, on average it takes 24&nbsp;hours—a solar day—for Earth to complete a full rotation about its axis so that the Sun returns to the [[Meridian (astronomy)|meridian]].\\n\\nThe orbital speed of Earth averages at {{convert|29.7827|km/s|km/h mph|0|abbr=on}}, which is fast enough to travel a distance equal to Earth's diameter, about {{convert|12742|km|mi|abbr=on}}, in seven minutes, and the distance from Earth to the Moon, {{convert|384400|km|mi|0|abbr=on}}, in about 3.5 hours.<ref name=\\\"earth_fact_sheet\\\" />\\n\\nThe Moon and Earth orbit a common [[barycenter]] every 27.32&nbsp;days relative to the background stars. When combined with the Earth–Moon system's common orbit around the Sun, the period of the [[synodic month]], from new moon to new moon, is 29.53&nbsp;days. Viewed from the [[celestial pole|celestial north pole]], the motion of Earth, the Moon, and their axial rotations are all [[counterclockwise]]. Viewed from a vantage point above the Sun and Earth's north poles, Earth orbits in a counterclockwise direction about the Sun. The orbital and axial planes are not precisely aligned: Earth's [[axial tilt|axis is tilted]] some 23.44 degrees from the perpendicular to the Earth–Sun plane (the [[ecliptic]]), and the Earth-Moon plane is tilted up to ±5.1 degrees against the Earth–Sun plane. Without this tilt, there would be an eclipse every two weeks, alternating between [[lunar eclipse]]s and [[solar eclipse]]s.<ref name=\\\"earth_fact_sheet\\\" /><ref name=\\\"moon_fact_sheet\\\" />\\n\\nThe [[Hill sphere]], or the [[Sphere of influence (astrodynamics)|sphere of gravitational influence]], of Earth is about {{convert|1.5|e6km|mi|abbr=unit}} in radius.<ref name=\\\"vazquez_etal2006\\\" /><ref group=\\\"n\\\" name=\\\"hill_radius\\\" /> This is the maximum distance at which Earth's gravitational influence is stronger than that of the more distant Sun and planets. Objects must orbit Earth within this radius, or they can become unbound by the gravitational perturbation of the Sun.<ref name=\\\"vazquez_etal2006\\\" /> Earth, along with the Solar System, is situated in the [[Milky Way]] and orbits about 28,000&nbsp;[[light-year]]s from its center. It is about 20&nbsp;light-years above the [[galactic plane]] in the [[Orion Arm]].<ref name=\\\"nasa20051201\\\" />\\n\\n=== Axial tilt and seasons ===\\n{{Main|Axial tilt#Earth}}\\n[[File:axial tilt vs tropical and polar circles.svg|thumb|upright=1.3|Earth's axial tilt causing different angles of seasonal illumination at different orbital positions around the Sun]]\\nThe axial tilt of Earth is approximately 23.439281°<ref name=\\\"IERS\\\" /> with the axis of the plane of the [[Earth's orbit]] by definition pointing always towards the [[Celestial Poles]]. Due to Earth's axial tilt, the amount of sunlight reaching any given point on the surface varies over the course of the year. This causes the seasonal change in climate, with summer in the [[Northern Hemisphere]] occurring when the [[Tropic of Cancer]] is facing the Sun, and in the [[Southern Hemisphere]] when the [[Tropic of Capricorn]] faces the Sun. In each instance, winter occurs simultaneously in the opposite hemisphere.\\n\\nDuring the summer, the day lasts longer, and the Sun climbs higher in the sky. In winter, the climate becomes cooler and the days shorter.<ref>{{cite book|last1=Rohli|first1=Robert. V.|title=Climatology|last2=Vega|first2=Anthony J.|publisher=Jones & Bartlett Learning|year=2018|isbn=978-1-284-12656-3|edition=fourth|pages=291–292}}</ref> Above the [[Arctic Circle]] and below the [[Antarctic Circle]] there is no daylight at all for part of the year, causing a [[polar night]], and this night extends for several months at the poles themselves. These same latitudes also experience a [[midnight sun]], where the sun remains visible all day.<ref>{{cite book|last=Burn|first=Chris|title=The Polar Night|url=http://nwtresearch.com/sites/default/files/the-polar-night.pdf|publisher=The Aurora Research Institute|date=March 1996|access-date=28 September 2015|archive-date=6 August 2023|archive-url=https://web.archive.org/web/20230806150129/https://nwtresearch.com/sites/default/files/the-polar-night.pdf|url-status=live}}</ref><ref>{{cite web|url=https://www.antarctica.gov.au/about-antarctica/weather-and-climate/weather/sunlight-hours/|title=Sunlight Hours|work=Australian Antarctic Programme|date=24 June 2020|access-date=13 October 2020|archive-date=22 October 2020|archive-url=https://web.archive.org/web/20201022025038/https://www.antarctica.gov.au/about-antarctica/weather-and-climate/weather/sunlight-hours/|url-status=live}}</ref>\\n\\nBy astronomical convention, the four seasons can be determined by the solstices—the points in the orbit of maximum axial tilt toward or away from the Sun—and the [[equinox]]es, when Earth's rotational axis is aligned with its orbital axis. In the Northern Hemisphere, [[winter solstice]] currently occurs around 21 December; [[summer solstice]] is near 21 June, spring equinox is around 20 March and [[September equinox|autumnal equinox]] is about 22 or 23 September. In the Southern Hemisphere, the situation is reversed, with the summer and winter solstices exchanged and the spring and autumnal equinox dates swapped.<ref name=\\\"bromberg2008\\\" />\\n\\nThe angle of Earth's axial tilt is relatively stable over long periods of time. Its axial tilt does undergo [[Astronomical nutation|nutation]]; a slight, irregular motion with a main period of 18.6&nbsp;years.<ref name=\\\"lin2006\\\" /> The orientation (rather than the angle) of Earth's axis also changes over time, [[axial precession|precessing]] around in a complete circle over each 25,800-year cycle; this precession is the reason for the difference between a sidereal year and a [[tropical year]]. Both of these motions are caused by the varying attraction of the Sun and the Moon on Earth's equatorial bulge. The poles also migrate a few meters across Earth's surface. This [[polar motion]] has multiple, cyclical components, which collectively are termed [[quasiperiodic motion]]. In addition to an annual component to this motion, there is a 14-month cycle called the [[Chandler wobble]]. Earth's rotational velocity also varies in a phenomenon known as length-of-day variation.<ref name=\\\"fisher19960205\\\" />\\n\\nEarth's annual orbit is elliptical rather than circular, and its closest approach to the Sun is called [[perihelion]]. In modern times, Earth's perihelion occurs around 3 January, and its [[aphelion]] around 4 July. These dates shift over time due to precession and changes to the orbit, the latter of which follows cyclical patterns known as [[Milankovitch cycles]]. The annual change in the Earth–Sun distance causes an increase of about 6.8% in solar energy reaching Earth at perihelion relative to aphelion.<ref>{{cite web|url=https://climate.nasa.gov/news/2948/milankovitch-orbital-cycles-and-their-role-in-earths-climate/|title=Milankovitch (Orbital) Cycles and Their Role in Earth's Climate|work=NASA|last1=Buis|first1=Alan|date=27 February 2020|access-date=27 October 2020|archive-date=30 October 2020|archive-url=https://web.archive.org/web/20201030105553/https://climate.nasa.gov/news/2948/milankovitch-orbital-cycles-and-their-role-in-earths-climate/|url-status=live}}</ref><ref group=\\\"n\\\" name=\\\"solar_energy\\\" /> Because the Southern Hemisphere is tilted toward the Sun at about the same time that Earth reaches the closest approach to the Sun, the Southern Hemisphere receives slightly more energy from the Sun than does the northern over the course of a year. This effect is much less significant than the total energy change due to the axial tilt, and most of the excess energy is absorbed by the higher proportion of water in the Southern Hemisphere.<ref>{{cite web|url=http://ocp.ldeo.columbia.edu/res/div/ocp/pub/seager/Kang_Seager_subm.pdf|title=Croll Revisited: Why is the Northern Hemisphere Warmer than the Southern Hemisphere?|work=Columbia University|last1=Kang|first1=Sarah M.|last2=Seager|first2=Richard|location=New York|access-date=27 October 2020|archive-date=7 September 2021|archive-url=https://web.archive.org/web/20210907195739/http://ocp.ldeo.columbia.edu/res/div/ocp/pub/seager/Kang_Seager_subm.pdf|url-status=live}}</ref>\\n\\n== Earth–Moon system ==\\n{{Further||Satellite system (astronomy)}}\\n\\n=== Moon ===\\n{{Main|Moon|Lunar theory|Orbit of the Moon}}\\n[[File:MarsReconnaissanceOrbiter-Views-EarthMoon-20220422.jpg|thumb|Earth and the Moon as seen from [[Mars]] by the ''[[Mars Reconnaissance Orbiter]]'']]\\n\\nThe Moon is a relatively large, [[Terrestrial planet|terrestrial]], [[Planetary-mass moon|planet-like natural satellite]], with a diameter about one-quarter of Earth's. It is the largest moon in the Solar System relative to the size of its planet, although [[Charon (moon)|Charon]] is larger relative to the dwarf planet [[Pluto]].<ref>{{cite web|url=https://astronomy.com/news/2019/06/whats-so-special-about-our-moon-anyway|title=What's so special about our Moon, anyway?|work=[[Astronomy (magazine)|Astronomy]]|last1=Klemetti|first1=Erik|date=17 June 2019|access-date=13 October 2020|archive-date=6 November 2020|archive-url=https://web.archive.org/web/20201106063032/https://astronomy.com/news/2019/06/whats-so-special-about-our-moon-anyway|url-status=live}}</ref><ref>{{cite web|url=https://solarsystem.nasa.gov/moons/pluto-moons/charon/in-depth/#:~:text=At%20half%20the%20size%20of,phenomenon%20called%20mutual%20tidal%20locking.|title=Charon|website=NASA|date=19 December 2019|access-date=13 October 2020|archive-date=14 October 2020|archive-url=https://web.archive.org/web/20201014164907/https://solarsystem.nasa.gov/moons/pluto-moons/charon/in-depth/#:~:text=At%20half%20the%20size%20of,phenomenon%20called%20mutual%20tidal%20locking.|url-status=live}}</ref> The natural satellites of other planets are also referred to as \\\"moons\\\", after Earth's.<ref>{{cite web|url=https://theconversation.com/curious-kids-why-is-the-moon-called-the-moon-127899|title=Curious Kids: Why is the moon called the moon?|website=The Conversation|last1=Brown|first1=Toby|date=2 December 2019|access-date=13 October 2020|archive-date=8 November 2020|archive-url=https://web.archive.org/web/20201108044000/https://theconversation.com/curious-kids-why-is-the-moon-called-the-moon-127899|url-status=live}}</ref> The most widely accepted theory of the Moon's origin, the [[giant-impact hypothesis]], states that it formed from the collision of a Mars-size protoplanet called Theia with the early Earth. This hypothesis explains the Moon's relative lack of iron and volatile elements and the fact that its composition is nearly identical to that of Earth's crust.<ref name=\\\"canup_asphaug2001b\\\" /> Computer simulations suggest that two blob-like remnants of this protoplanet could be inside the Earth.<ref name=\\\"NYT-20231101\\\">{{cite news |last=Chang |first=Kenneth |title=A 'Big Whack' Formed the Moon and Left Traces Deep in Earth, a Study Suggests - Two enormous blobs deep inside Earth could be remnants of the birth of the moon. |url=https://www.nytimes.com/2023/11/01/science/moon-formation-theia.html |date=1 November 2023 |work=[[The New York Times]] |url-status=live |archive-url=https://archive.today/20231101232849/https://www.nytimes.com/2023/11/01/science/moon-formation-theia.html |archive-date=1 November 2023 |access-date=2 November 2023 }}</ref><ref name=\\\"NAT-20231101\\\">{{cite journal |author=Yuan, Qian |display-authors=et al.|title=Moon-forming impactor as a source of Earth's basal mantle anomalies |url=https://www.nature.com/articles/s41586-023-06589-1 |date=1 November 2023 |journal=[[Nature (journal)|Nature]] |volume=623 |issue=7985 |pages=95–99 |doi=10.1038/s41586-023-06589-1 |pmid=37914947 |bibcode=2023Natur.623...95Y |s2cid=264869152 |url-status=live |archive-url=https://archive.today/20231102061800/https://www.nature.com/articles/s41586-023-06589-1 |archive-date=2 November 2023 |access-date=2 November 2023 |url-access=subscription }}</ref>\\n\\nThe gravitational attraction between Earth and the Moon causes [[lunar tide]]s on Earth.<ref>{{Cite journal|last1=Coughenour|first1=Christopher L.|last2=Archer|first2=Allen W.|last3=Lacovara|first3=Kenneth J.|author-link3=Kenneth Lacovara|date=2009|title=Tides, tidalites, and secular changes in the Earth–Moon system|url=http://www.sciencedirect.com/science/article/pii/S0012825209001445|journal=Earth-Science Reviews|language=en|volume=97|issue=1|pages=59–79|doi=10.1016/j.earscirev.2009.09.002|bibcode=2009ESRv...97...59C|issn=0012-8252|access-date=8 October 2020|archive-date=28 October 2012|archive-url=https://web.archive.org/web/20121028000947/http://www.sciencedirect.com/science/article/pii/S0012825209001445|url-status=live|url-access=subscription}}</ref> The same effect on the Moon has led to its [[tidal locking]]: its rotation period is the same as the time it takes to orbit Earth. As a result, it always presents the same face to the planet.<ref>{{Cite news|last=Kelley|first=Peter|date=17 August 2017|title=Tidally locked exoplanets may be more common than previously thought|url=https://www.washington.edu/news/2017/08/14/tidally-locked-exoplanets-may-be-more-common-than-previously-thought/|access-date=8 October 2020|newspaper=Uw News|language=en|archive-date=9 October 2020|archive-url=https://web.archive.org/web/20201009192401/https://www.washington.edu/news/2017/08/14/tidally-locked-exoplanets-may-be-more-common-than-previously-thought/|url-status=live}}</ref> As the Moon orbits Earth, different parts of its face are illuminated by the Sun, leading to the [[lunar phase]]s.<ref>{{Cite web|title=Lunar Phases and Eclipses {{!}} Earth's Moon|url=https://solarsystem.nasa.gov/moons/earths-moon/lunar-phases-and-eclipses|access-date=8 October 2020|website=NASA Solar System Exploration|archive-date=16 October 2020|archive-url=https://web.archive.org/web/20201016180007/https://solarsystem.nasa.gov/moons/earths-moon/lunar-phases-and-eclipses/|url-status=live}}</ref> Due to their [[Tidal interactions|tidal interaction]], the Moon recedes from Earth at the rate of approximately {{convert|38|mm/yr|in/yr|abbr=on|frac=8}}. Over millions of years, these tiny modifications—and the lengthening of Earth's day by about 23&nbsp;[[Microsecond|μs]]/yr—add up to significant changes.<ref name=\\\"espenak_meeus20070207\\\" /> During the [[Ediacaran]] period, for example, (approximately {{val|620|u=Ma}}) there were 400±7 days in a year, with each day lasting 21.9±0.4 hours.<ref>{{Cite journal |last=Williams |first=G.E. |date=2000 |title=Geological constraints on the Precambrian history of Earth's rotation and the Moon's orbit |journal=Reviews of Geophysics |volume=38 |issue=1 |pages=37–59 |doi=10.1029/1999RG900016 |bibcode=2000RvGeo..38...37W |s2cid=51948507|doi-access=free }}</ref>\\n\\nThe Moon may have dramatically affected the development of life by moderating the planet's climate. [[Paleontology|Paleontological]] evidence and computer simulations show that Earth's axial tilt is stabilized by tidal interactions with the Moon.<ref name=\\\"aaa428_261\\\" /> Some theorists think that without this stabilization against the [[torque]]s applied by the Sun and planets to Earth's equatorial bulge, the rotational axis might be chaotically unstable, exhibiting large changes over millions of years, as is the case for Mars, though this is disputed.<ref>{{cite web|url=https://phys.org/news/2015-01-earth-moon-critical-life.html#:~:text=Lissauer's%20team%20found%20that%20without,day%20angle%20of%2023.5%20degrees.|title=Earth's moon may not be critical to life|work=[[Phys.org]]|last1=Cooper|first1=Keith|date=27 January 2015|access-date=26 October 2020|archive-date=30 October 2020|archive-url=https://web.archive.org/web/20201030120857/https://phys.org/news/2015-01-earth-moon-critical-life.html#:~:text=Lissauer's%20team%20found%20that%20without,day%20angle%20of%2023.5%20degrees.|url-status=live}}</ref><ref>{{cite journal|url=http://web.mit.edu/perron/www/files/Daradich08.pdf|title=Equilibrium rotational stability and figure of Mars|journal=Icarus|last1=Dadarich|first1=Amy|first2=Jerry X.|last2=Mitrovica|author-link2=Jerry X. Mitrovica|first3=Isamu|last3=Matsuyama|first4=J. Taylor|last4=Perron|first5=Michael|last5=Manga|author-link5=Michael Manga|first6=Mark A.|last6=Richards|date=22 November 2007|volume=194|issue=2|pages=463–475|access-date=26 October 2020|doi=10.1016/j.icarus.2007.10.017|archive-date=1 December 2020|archive-url=https://web.archive.org/web/20201201094104/http://web.mit.edu/perron/www/files/Daradich08.pdf}}</ref>\\n\\nViewed from Earth, the Moon is just far enough away to have almost the same apparent-sized disk as the Sun. The [[angular size]] (or [[solid angle]]) of these two bodies match because, although the Sun's diameter is about 400 times as large as the Moon's, it is also 400 times more distant.<ref name=\\\"angular\\\" /> This allows total and annular solar eclipses to occur on Earth.<ref>{{cite web|url=https://blogs.scientificamerican.com/life-unbounded/the-solar-eclipse-coincidence/|title=The Solar Eclipse Coincidence|work=[[Scientific American]]|last1=Sharf|first1=Caleb A.|date=18 May 2012|access-date=13 October 2020|author1-link=Caleb Scharf|archive-date=15 October 2020|archive-url=https://web.archive.org/web/20201015083529/https://blogs.scientificamerican.com/life-unbounded/the-solar-eclipse-coincidence/|url-status=live}}</ref>\\n\\n=== Asteroids and artificial satellites ===\\n{{Main|Near-Earth object|Claimed moons of Earth}}\\n[[File:Debris-GEO1280.jpg|thumb|A computer-generated image mapping the prevalence of [[artificial satellite]]s and [[space debris]] around Earth in [[geosynchronous orbit|geosynchronous]] and [[low Earth orbit]]]]\\nEarth's [[Co-orbital configuration|co-orbital asteroids]] population consists of [[quasi-satellite]]s, objects with a [[horseshoe orbit]] and [[Trojan (celestial body)|trojans]]. There are at least seven quasi-satellites, including [[469219 Kamoʻoalewa]], ranging in diameter from 10 m to 5000 m.<ref name=\\\"christou_asher2011\\\" /><ref>{{cite journal|url=https://academic.oup.com/mnras/article/462/4/3441/2589984|title=Asteroid (469219) 2016 HO3, the smallest and closest Earth quasi-satellite|journal=Monthly Notices of the Royal Astronomical Society|last1=Marcos|first1=C. de la Fuente|last2=Marcos|first2=R. de la Fuente|date=8 August 2016|doi=10.1093/mnras/stw1972|pages=3441–3456|volume=462|issue=4|doi-access=free |arxiv=1608.01518|bibcode=2016MNRAS.462.3441D|s2cid=118580771|access-date=28 October 2020|archive-date=31 October 2020|archive-url=https://web.archive.org/web/20201031044749/https://academic.oup.com/mnras/article/462/4/3441/2589984|url-status=live}}</ref> A [[Earth trojan|trojan asteroid]] companion, {{mpl|2010 TK|7}}, is [[Libration|librating]] around the leading [[Lagrangian point|Lagrange triangular point]], L4, in [[Earth's orbit]] around the Sun.<ref name=\\\"Choi\\\" /> The tiny [[near-Earth asteroid]] {{mpl|2006 RH|120}} makes close approaches to the Earth–Moon system roughly every twenty years. During these approaches, it can orbit Earth for brief periods of time.<ref>{{cite web |title=2006 RH120 ( = 6R10DB9) (A second moon for the Earth?) |url=http://www.birtwhistle.org/Gallery6R10DB9.htm |website=Great Shefford Observatory|access-date=17 July 2015 |archive-url=https://web.archive.org/web/20150206154817/http://www.birtwhistle.org/Gallery6R10DB9.htm |archive-date=6 February 2015}}</ref>\\n\\n{{As of|2021|9}}, there are 4,550 operational, human-made [[satellite]]s orbiting Earth.<ref name=\\\"ucs\\\" /> There are also inoperative satellites, including [[Vanguard 1]], the oldest satellite currently in orbit, and over 16,000 pieces of tracked [[space debris]].<ref group=\\\"n\\\" name=\\\"space_debris\\\" /> Earth's largest artificial satellite is the [[International Space Station]] (ISS).<ref>{{Cite book|last1=Welch|first1=Rosanne|url=https://books.google.com/books?id=aWGHDwAAQBAJ&q=largest+artificial+satellite&pg=RA2-PA126|title=Technical Innovation in American History: An Encyclopedia of Science and Technology [3 volumes]|last2=Lamphier|first2=Peg A.|year=2019|publisher=ABC-CLIO|isbn=978-1-61069-094-2|page=126|language=en|access-date=9 August 2023|archive-date=10 August 2023|archive-url=https://web.archive.org/web/20230810224725/https://books.google.com/books?id=aWGHDwAAQBAJ&q=largest+artificial+satellite&pg=RA2-PA126|url-status=live}}</ref>\\n\\n== Hydrosphere ==\\n{{Main|Hydrosphere}}\\n[[File:Ocean world Earth.jpg|thumb|A view of Earth with its [[global ocean]] and [[cloud cover]], which dominate Earth's surface and [[hydrosphere]]; at Earth's [[Polar regions of Earth|polar]] regions, its hydrosphere forms larger areas of ice cover.]]\\nEarth's hydrosphere is the sum of Earth's water and its distribution. Most of Earth's hydrosphere consists of Earth's global ocean. Earth's hydrosphere also consists of water in the atmosphere and on land, including clouds, inland seas, lakes, rivers, and underground waters. The mass of the oceans is approximately 1.35{{e|18}}&nbsp;[[metric ton]]s or about 1/4400 of Earth's total mass. The oceans cover an area of {{convert|361.8|e6km2|e6mi2|abbr=unit}} with a mean depth of {{convert|3682|m|ft|abbr=on}}, resulting in an estimated volume of {{convert|1.332|e9km3|e6cumi|abbr=unit}}.<ref name=\\\"ocean23_2_112\\\" />\\n\\nIf all of Earth's crustal surface were at the same elevation as a smooth sphere, the depth of the resulting world ocean would be {{convert|2.7|to|2.8|km|mi|2|abbr=on}}.<ref>{{cite web|title=Third rock from the Sun&nbsp;– restless Earth|url=https://ase.tufts.edu/cosmos/print_chapter.asp?id=4|access-date=12 April 2015|work=NASA's Cosmos|archive-date=6 November 2015|archive-url=https://web.archive.org/web/20151106230149/http://ase.tufts.edu/cosmos/print_chapter.asp?id=4|url-status=live}}</ref> About 97.5% of the water is [[saline water|saline]]; the remaining 2.5% is [[fresh water]].<ref>{{Cite book|title=On Water|url=https://www.eib.org/en/publications/eib-big-ideas-on-water|access-date=7 December 2020|year=2019|doi=10.2867/509830|language=en|author1=European Investment Bank|publisher=Publications Office|isbn=978-92-861-4319-9|archive-date=29 November 2020|archive-url=https://web.archive.org/web/20201129051604/https://www.eib.org/en/publications/eib-big-ideas-on-water|url-status=live}}</ref><ref>{{Cite web|title=Chart: Globally, 70% of Freshwater is Used for Agriculture|url=https://blogs.worldbank.org/opendata/chart-globally-70-freshwater-used-agriculture|access-date=7 December 2020|website=World Bank Blogs|date=22 March 2017|last1=Khokhar|first1=Tariq|language=en|archive-date=6 December 2020|archive-url=https://web.archive.org/web/20201206080843/https://blogs.worldbank.org/opendata/chart-globally-70-freshwater-used-agriculture|url-status=live}}</ref> Most fresh water, about 68.7%, is present as ice in [[ice cap]]s and [[glacier]]s.<ref>{{cite web|last=Perlman|first=Howard|date=17 March 2014|title=The World's Water|url=https://water.usgs.gov/edu/earthwherewater.html|access-date=12 April 2015|work=USGS Water-Science School|archive-date=22 April 2015|archive-url=https://web.archive.org/web/20150422113320/http://water.usgs.gov/edu/earthwherewater.html|url-status=live}}</ref> The remaining 30% is [[ground water]], 1% [[surface water]] (covering only 2.8% of Earth's land)<ref name=\\\"Lake Scientist 2016\\\">{{cite web | title=Where Are Lakes? | website=Lake Scientist | date=28 February 2016 | url=https://www.lakescientist.com/where-are-lakes/ | access-date=28 February 2023 | archive-date=28 February 2023 | archive-url=https://web.archive.org/web/20230228013824/https://www.lakescientist.com/where-are-lakes/ | url-status=live }}</ref> and other small forms of fresh water deposits such as [[permafrost]], [[water vapor]] in the atmosphere, biological binding, etc.<ref name=\\\"School 2019\\\">{{cite web | last=School | first=Water Science | title=How Much Water is There on Earth? – U.S. Geological Survey | website=USGS.gov | date=13 November 2019 | url=https://www.usgs.gov/special-topics/water-science-school/science/how-much-water-there-earth#science | access-date=3 March 2023 | archive-date=9 June 2022 | archive-url=https://web.archive.org/web/20220609050627/https://www.usgs.gov/special-topics/water-science-school/science/how-much-water-there-earth#science | url-status=live }}</ref><ref name=\\\"Education 2022\\\">{{cite web | title=Freshwater Resources | website=Education | date=18 August 2022 | url=https://education.nationalgeographic.org/resource/freshwater-resources/ | access-date=28 February 2023 | archive-date=26 May 2022 | archive-url=https://web.archive.org/web/20220526195118/https://education.nationalgeographic.org/resource/freshwater-resources | url-status=live }}</ref>\\n\\nIn Earth's coldest regions, snow survives over the summer and [[Ice formation|changes into ice]]. This accumulated snow and ice eventually forms into [[glacier]]s, bodies of ice that flow under the influence of their own gravity. [[Alpine glaciers]] form in mountainous areas, whereas vast [[ice sheets]] form over land in polar regions. The flow of glaciers erodes the surface, changing it dramatically, with the formation of [[U-shaped valley]]s and other landforms.<ref>{{Cite book|last=Hendrix|first=Mark|title=Earth Science: An Introduction|publisher=Cengage|year=2019|isbn=978-0-357-11656-2|location=Boston|page=330}}</ref> [[Sea ice]] in the Arctic covers an area about as big as the United States, although it is quickly retreating as a consequence of climate change.<ref>{{Cite book|last=Hendrix|first=Mark|title=Earth Science: An Introduction |publisher=Cengage |year=2019 |isbn=978-0-357-11656-2|location=Boston|page=329}}</ref>\\n\\nThe average [[salinity]] of Earth's oceans is about 35&nbsp;grams of salt per kilogram of seawater (3.5% salt).<ref name=kennish2001 /> Most of this salt was released from volcanic activity or extracted from cool igneous rocks.<ref name=\\\"mullen2002\\\" /> The oceans are also a reservoir of dissolved atmospheric gases, which are essential for the survival of many aquatic life forms.<ref name=\\\"natsci_oxy4\\\" /> Sea water has an important influence on the world's climate, with the oceans acting as a large [[heat reservoir]].<ref name=\\\"michon2006\\\" /> Shifts in the oceanic temperature distribution can cause significant weather shifts, such as the [[El Niño–Southern Oscillation]].<ref name=\\\"sample2005\\\" />\\n\\nThe abundance of water, particularly liquid water, on Earth's surface is a unique feature that distinguishes it from other planets in the [[Solar System]]. Solar System planets with considerable atmospheres do partly host atmospheric water vapor, but they lack surface conditions for stable surface water.<ref name=\\\"Center 2021\\\">{{cite web |last=Center |first=Astrogeology Science |title=Tour of Water in the Solar System – U.S. Geological Survey |website=USGS.gov |date=14 October 2021 |url=https://www.usgs.gov/news/tour-water-solar-system |access-date=19 January 2022 |archive-date=19 January 2022 |archive-url=https://web.archive.org/web/20220119211912/https://www.usgs.gov/news/tour-water-solar-system |url-status=live }}</ref> Despite some [[Natural satellite|moons]] showing signs of large reservoirs of [[extraterrestrial liquid water]], with possibly even more volume than Earth's ocean, all of them are [[List of largest lakes and seas in the Solar System|large bodies of water]] under a kilometers thick frozen surface layer.<ref>{{cite web |title=Are there oceans on other planets? |website=NOAA's National Ocean Service |date=1 June 2013 |url=https://oceanservice.noaa.gov/facts/et-oceans.html |access-date=19 January 2022 |archive-date=19 June 2017 |archive-url=https://web.archive.org/web/20170619132905/http://oceanservice.noaa.gov/facts/et-oceans.html |url-status=live }}</ref>\\n\\n== Atmosphere ==\\n{{Main|Atmosphere of Earth}}\\n[[File:ISS-42 Waning sun.jpg|thumb|A view of Earth with different layers of its atmosphere visible: the [[troposphere]] with its clouds casting shadows, a band of [[stratospheric]] blue sky at the horizon, and a line of green [[airglow]] of the lower [[thermosphere]] around an [[Kármán line|altitude of 100&nbsp;km, at the edge of space]]]]\\nThe [[atmospheric pressure]] at Earth's sea level averages {{convert|101.325|kPa|psi|3|abbr=on}},<ref name=\\\"Exline2006\\\">{{cite book|last1=Exline|first1=Joseph D.|url=https://www.nasa.gov/pdf/288978main_Meteorology_Guide.pdf|title=Meteorology: An Educator's Resource for Inquiry-Based Learning for Grades 5–9|last2=Levine|first2=Arlene S.|last3=Levine|first3=Joel S.|date=2006|publisher=NASA/Langley Research Center|page=6|id=NP-2006-08-97-LaRC|access-date=28 July 2018|archive-date=28 May 2018|archive-url=https://web.archive.org/web/20180528181043/https://www.nasa.gov/pdf/288978main_Meteorology_Guide.pdf|url-status=live}}</ref> with a [[scale height]] of about {{convert|8.5|km|mi|abbr=on}}.<ref name=\\\"earth_fact_sheet\\\" /> A dry atmosphere is composed of 78.084% [[nitrogen]], 20.946% oxygen, 0.934% [[argon]], and trace amounts of carbon dioxide and other gaseous molecules.<ref name=\\\"Exline2006\\\" /> [[Water vapor]] content varies between 0.01% and 4%<ref name=\\\"Exline2006\\\" /> but averages about 1%.<ref name=\\\"earth_fact_sheet\\\" /> [[Cloud cover|Clouds cover]] around two-thirds of Earth's surface, more so over oceans than land.<ref name=\\\"King Platnick Menzel Ackerman 2013 pp. 3826–3852\\\">{{cite journal |last1=King |first1=Michael D. |last2=Platnick |first2=Steven |last3=Menzel |first3=W. Paul |last4=Ackerman |first4=Steven A. |last5=Hubanks |first5=Paul A. |title=Spatial and Temporal Distribution of Clouds Observed by MODIS Onboard the Terra and Aqua Satellites |journal=IEEE Transactions on Geoscience and Remote Sensing |publisher=Institute of Electrical and Electronics Engineers (IEEE) |volume=51 |issue=7 |year=2013 |issn=0196-2892 |doi=10.1109/tgrs.2012.2227333 |pages=3826–3852|bibcode=2013ITGRS..51.3826K |s2cid=206691291 |doi-access=free |hdl=2060/20120010368 |hdl-access=free }}</ref> The height of the [[troposphere]] varies with latitude, ranging between {{convert|8|km|mi|0|abbr=on}} at the poles to {{convert|17|km|mi|0|abbr=on}} at the equator, with some variation resulting from weather and seasonal factors.<ref name=\\\"geerts_linacre97\\\" />\\n\\nEarth's [[biosphere]] has significantly altered its [[Atmosphere of Earth|atmosphere]]. [[Oxygen evolution#Oxygen evolution in nature|Oxygenic photosynthesis]] evolved {{val|2.7|u=Gya}}, [[oxygen catastrophe|forming]] the primarily nitrogen–oxygen atmosphere of today.<ref name=\\\"NYT-20131003\\\" /> This change enabled the proliferation of [[aerobic organisms]] and, indirectly, the formation of the ozone layer due to the subsequent [[Ozone–oxygen cycle|conversion of atmospheric {{chem2|O2}} into {{chem2|O3}}]]. The ozone layer blocks ultraviolet [[solar radiation]], permitting life on land.<ref name=\\\"Harrison 2002\\\" /> Other atmospheric functions important to life include transporting water vapor, providing useful gases, causing small meteors to burn up before they strike the surface, and moderating temperature.<ref name=\\\"atmosphere\\\" /> This last phenomenon is the [[greenhouse effect]]: trace molecules within the atmosphere serve to capture [[thermal energy]] emitted from the surface, thereby raising the average temperature. Water vapor, carbon dioxide, [[methane]], [[nitrous oxide]], and [[ozone]] are the primary greenhouse gases in the atmosphere. Without this heat-retention effect, the average surface temperature would be {{convert|-18|C|F|1}}, in contrast to the current {{convert|+15|C|F}},<ref name=\\\"Pidwirny2006_7\\\" /> and life on Earth probably would not exist in its current form.<ref name=\\\"Narottam2008\\\" />\\n\\n=== Weather and climate ===\\n{{Main|Weather|Climate}}\\n{{Multiple image\\n| align = right\\n| direction = vertical\\n| width = 300\\n| image1 = IntertropicalConvergenceZone-EO.jpg\\n| caption1 = The [[ITCZ]]'s band of clouds over the Eastern Pacific and the Americas as seen from space\\n| image2 = Köppen-Geiger Climate Classification Map (1980–2016) no borders.png\\n| caption2 = Worldwide [[Köppen climate classification]]s\\n}}\\nEarth's atmosphere has no definite boundary, gradually becoming thinner and fading into outer space.<ref>{{cite web|url=https://www.nationalgeographic.com/science/article/where-is-the-edge-of-space-and-what-is-the-karman-line|archive-url=https://web.archive.org/web/20210304132146/https://www.nationalgeographic.com/science/article/where-is-the-edge-of-space-and-what-is-the-karman-line|archive-date=4 March 2021|title=Where, exactly, is the edge of space? It depends on who you ask|website=[[National Geographic]] |last1=Drake |first1=Nadia |author-link1=Nadia Drake|date=20 December 2018|access-date=4 December 2021}}</ref> Three-quarters of the atmosphere's mass is contained within the first {{convert|11|km|mi|abbr=on}} of the surface; this lowest layer is called the troposphere.<ref>{{cite web|url=https://spaceplace.nasa.gov/troposphere/en/|title=Troposphere|website=SpacePlace|publisher=[[NASA]]|last1=Erickson|first1=Kristen|last2=Doyle|first2=Heather|date=28 June 2019|access-date=4 December 2021|archive-date=4 December 2021|archive-url=https://web.archive.org/web/20211204093554/https://spaceplace.nasa.gov/troposphere/en/|url-status=live}}</ref> Energy from the Sun heats this layer, and the surface below, causing expansion of the air. This lower-density air then rises and is replaced by cooler, higher-density air. The result is [[atmospheric circulation]] that drives the weather and climate through redistribution of thermal energy.<ref name=\\\"moran2005\\\" />\\n\\nThe primary atmospheric circulation bands consist of the [[trade winds]] in the equatorial region below 30° latitude and the [[westerlies]] in the mid-latitudes between 30° and 60°.<ref name=\\\"berger2002\\\" /> [[Ocean heat content]] and [[Ocean current|currents]] are also important factors in determining climate, particularly the [[thermohaline circulation]] that distributes thermal energy from the equatorial oceans to the polar regions.<ref name=rahmstorf2003 />\\n\\nEarth receives 1361&nbsp;W/m<sup>2</sup> of&nbsp;[[solar irradiance]].<ref name=\\\"earth_fact_sheet\\\" /><ref>{{cite journal | first1=Odele | last1=Coddington | first2=Judith L. | last2=Lean | author2-link=Judith Lean | first3=Peter | last3=Pilewskie | first4=Martin | last4=Snow | first5=Doug | last5=Lindholm |date=2016 |title=A Solar Irradiance Climate Data Record |journal=Bulletin of the American Meteorological Society |volume=97 |issue=7 |pages=1265–1282 |bibcode=2016BAMS...97.1265C |doi=10.1175/bams-d-14-00265.1 |doi-access=free}}</ref> The amount of solar energy that reaches Earth's surface decreases with increasing latitude. At higher latitudes, the sunlight reaches the surface at lower angles, and it must pass through thicker columns of the atmosphere. As a result, the mean annual air temperature at sea level decreases by about {{convert|0.4|C-change|F-change|1}} per degree of latitude from the equator.<ref name=\\\"sadava_heller2006\\\" /> Earth's surface can be subdivided into specific latitudinal belts of approximately homogeneous climate. Ranging from the equator to the polar regions, these are the tropical (or equatorial), [[Subtropics|subtropical]], [[temperate]] and [[Polar region|polar]] climates.<ref name=\\\"climate_zones\\\" />\\n\\nFurther factors that affect a location's climates are its [[Continentality|proximity to oceans]], the oceanic and atmospheric circulation, and topology.<ref>{{cite book |last1=Rohli |first1=Robert. V.|title=Climatology|last2=Vega|first2=Anthony J.|publisher=Jones & Bartlett Learning|year=2018|isbn=978-1-284-12656-3|edition=fourth|page=49}}</ref> Places close to oceans typically have colder summers and warmer winters, due to the fact that oceans can store large amounts of heat. The wind transports the cold or the heat of the ocean to the land.<ref>{{cite book|last1=Rohli|first1=Robert. V.|title=Climatology|last2=Vega|first2=Anthony J.|publisher=Jones & Bartlett Learning |year=2018 |isbn=978-1-284-12656-3|edition=fourth|page=32}}</ref> Atmospheric circulation also plays an important role: San Francisco and Washington DC are both coastal cities at about the same latitude. San Francisco's climate is significantly more moderate as the prevailing wind direction is from sea to land.<ref>{{cite book |last1=Rohli |first1=Robert. V.|title=Climatology|last2=Vega|first2=Anthony J.|publisher=Jones & Bartlett Learning|year=2018|isbn=978-1-284-12656-3|edition=fourth|page=34}}</ref> Finally, temperatures [[Lapse rate|decrease with height]] causing mountainous areas to be colder than low-lying areas.<ref>{{cite book|last1=Rohli|first1=Robert. V. |title=Climatology |last2=Vega |first2=Anthony J. |publisher=Jones & Bartlett Learning |year=2018 |isbn=978-1-284-12656-3 |edition=fourth |page=46}}</ref>\\n\\nWater vapor generated through surface evaporation is transported by circulatory patterns in the atmosphere. When atmospheric conditions permit an uplift of warm, humid air, this water condenses and falls to the surface as [[precipitation]].<ref name=\\\"moran2005\\\" /> Most of the water is then transported to lower elevations by river systems and usually returned to the oceans or deposited into lakes. This [[water cycle]] is a vital mechanism for supporting life on land and is a primary factor in the erosion of surface features over geological periods. Precipitation patterns vary widely, ranging from several meters of water per year to less than a millimeter. Atmospheric circulation, topographic features, and temperature differences determine the average precipitation that falls in each region.<ref name=\\\"hydrologic_cycle\\\" />\\n\\nThe commonly used [[Köppen climate classification]] system has five broad groups ([[tropical climate|humid tropics]], [[arid]], [[humid subtropical climate|humid middle latitudes]], [[Continental climate|continental]] and cold [[polar climate|polar]]), which are further divided into more specific subtypes.<ref name=\\\"berger2002\\\" /> The Köppen system rates regions based on observed temperature and precipitation.<ref>{{cite book|last1=Rohli|first1=Robert. V.|title=Climatology|last2=Vega|first2=Anthony J.|publisher=Jones & Bartlett Learning|year=2018|isbn=978-1-284-12656-3|edition=fourth|page=159}}</ref> Surface [[Highest temperature recorded on Earth|air temperature can rise to]] around {{convert|55|C|F}} in [[hot desert]]s, such as [[Death Valley National Park|Death Valley]], and [[Lowest temperature recorded on Earth|can fall as low as]] {{convert|-89|C|F}} in [[Antarctica]].<ref>{{Cite journal | first1=Khalid I. | last1=El Fadli | first2=Randall S. | last2=Cerveny | first3=Christopher C. | last3=Burt | first4=Philip | last4=Eden | first5=David | last5=Parker | first6=Manola | last6=Brunet | first7=Thomas C. | last7=Peterson | first8=Gianpaolo | last8=Mordacchini | first9=Vinicio | last9=Pelino | first10=Pierre | last10=Bessemoulin | first11=José Luis | last11=Stella | first12=Fatima | last12=Driouech | first13=M. M Abdel | last13=Wahab | first14=Matthew B. | last14=Pace |display-authors=1|date=2013|title=World Meteorological Organization Assessment of the Purported World Record 58°C Temperature Extreme at El Azizia, Libya (13 September 1922)|journal=Bulletin of the American Meteorological Society |language=en |volume=94 |issue=2 |pages=199–204 |doi=10.1175/BAMS-D-12-00093.1|bibcode=2013BAMS...94..199E|issn=0003-0007|doi-access=free}}</ref><ref>{{Cite journal|last1=Turner|first1=John|display-authors=et al |date=2009 |title=Record low surface air temperature at Vostok station, Antarctica|journal=Journal of Geophysical Research: Atmospheres |language=en |volume=114 |issue=D24 |page=D24102 |article-number=2009JD012104 |doi=10.1029/2009JD012104|bibcode=2009JGRD..11424102T|issn=2156-2202|doi-access=free}}</ref>\\n\\n=== Upper atmosphere ===\\n[[File:Antarctic aurora ESA313457.jpg|thumb|upright=1.3|Earth's night-side upper atmosphere appearing from the bottom as bands of [[afterglow]] illuminating the [[troposphere]] in orange with silhouettes of clouds, and the [[stratosphere]] in white and blue. Next the [[mesosphere]] (pink area) extends to the orange and faintly green line of the lowest [[airglow]], at about one hundred kilometers at the [[Outer space#Boundary|edge of space]] and the lower edge of the [[thermosphere]] (invisible). Continuing with green and red bands of [[aurora]]e stretching over several hundred kilometers.]]\\nThe upper atmosphere, the atmosphere above the troposphere,<ref>{{cite web |last=Morton |first=Oliver |title=Upper atmosphere Definition und Bedeutung |website=Collins Wörterbuch |date=26 August 2022 |url=https://www.collinsdictionary.com/de/worterbuch/englisch/upper-atmosphere |language=de |access-date=26 August 2022 |archive-date=21 February 2023 |archive-url=https://web.archive.org/web/20230221195154/https://www.collinsdictionary.com/de/worterbuch/englisch/upper-atmosphere |url-status=live }}</ref> is usually divided into the [[stratosphere]], [[mesosphere]], and [[thermosphere]].<ref name=\\\"atmosphere\\\" /> Each layer has a different lapse rate, defining the rate of change in temperature with height. Beyond these, the [[exosphere]] thins out into the magnetosphere, where the geomagnetic fields interact with the solar wind.<ref name=sciweek2004 /> Within the stratosphere is the ozone layer, a component that partially shields the surface from ultraviolet light and thus is important for life on Earth. The [[Kármán line]], defined as {{convert|100|km|mi|abbr=on}} above Earth's surface, is a working definition for the boundary between the atmosphere and [[outer space]].<ref name=cordoba2004 />\\n\\nThermal energy causes some of the molecules at the outer edge of the atmosphere to increase their velocity to the point where they can escape from Earth's gravity. This causes a slow but steady [[Atmospheric escape|loss of the atmosphere into space]]. Because unfixed [[hydrogen]] has a low [[molecular mass]], it can achieve [[escape velocity]] more readily, and it leaks into outer space at a greater rate than other gases.<ref name=\\\"jas31_4_1118\\\" /> The leakage of hydrogen into space contributes to the shifting of Earth's atmosphere and surface from an initially [[redox|reducing]] state to its current oxidizing one. Photosynthesis provided a source of free oxygen, but the loss of reducing agents such as hydrogen is thought to have been a necessary precondition for the widespread accumulation of oxygen in the atmosphere.<ref name=\\\"sci293_5531_839\\\" /> Hence the ability of hydrogen to escape from the atmosphere may have influenced the nature of life that developed on Earth.<ref name=\\\"abedon1997\\\" /> In the current, oxygen-rich atmosphere most hydrogen is converted into water before it has an opportunity to escape. Instead, most of the hydrogen loss comes from the destruction of methane in the upper atmosphere.<ref name=\\\"arwps4_265\\\" />\\n\\n== Life on Earth ==\\n{{Main|Biosphere|History of life}}\\n[[File:Mollweide Cycle.gif|thumb|upright=1.3|An animation of the changing density of [[primary production|productive]] vegetation on land (low in brown; heavy in dark green) and phytoplankton at the [[ocean surface]] (low in purple; high in yellow)]]\\n\\nEarth is the only known place that has ever been [[Planetary habitability|habitable]] for life. Earth's life developed in Earth's early bodies of water some hundred million years after Earth formed, roughly 4 billion years ago. Earth provides liquid water—an environment where complex [[Organic compound|organic molecules]] can assemble and interact, and sufficient energy to sustain a [[metabolism]].<ref name=\\\"ab2003\\\" /> Plants and other organisms take up [[nutrient]]s from water, soils and the atmosphere. These nutrients are constantly recycled between different species.<ref>{{Cite book|last1=Singh|first1=J. S.|author-link1=Jamuna Sharan Singh|last2=Singh|first2=S. P.|author-link2=S. P. Singh (biochemist)|last3=Gupta|first3=S.R.|title=Ecology environmental science and conservation|publisher=S. Chand & Company|year=2013|isbn=978-93-83746-00-2|edition=First|location=New Delhi|oclc=896866658}}</ref>\\n\\nEarth's life has been shaping and inhabiting many particular [[ecosystem]]s on Earth and has eventually expanded globally forming an overarching biosphere.<ref>{{cite web|url=https://education.nationalgeographic.org/resource/biosphere/|title=Biosphere|first1=Kim|last1=Rutledge|display-authors=et al|date=24 June 2011|work=National Geographic|access-date=1 November 2020|archive-date=28 May 2022|archive-url=https://web.archive.org/web/20220528115549/https://education.nationalgeographic.org/resource/biosphere/|url-status=live}}</ref> Earth's life has also over time greatly diversified, allowing the biosphere to have different [[biome]]s, which are inhabited by comparatively similar plants and animals.<ref>{{cite web |url=https://www.bbc.com/bitesize/guides/zmyj6sg/revision/3 |title=Interdependency between animal and plant species |page=3 |work=[[BBC Bitesize]] |publisher=[[BBC]] |access-date=28 June 2019 |archive-date=27 June 2019 |archive-url=https://web.archive.org/web/20190627225057/https://www.bbc.com/bitesize/guides/zmyj6sg/revision/3 |url-status=live }}</ref> The different biomes developed at distinct elevations or [[Ocean depths|water depths]], planetary temperature [[latitude]]s and on land also with different [[humidity]]. [[Latitudinal gradients in species diversity|Earth's species diversity]] and [[Biomass (ecology)|biomass]] reaches a peak in shallow waters and with [[tropical rainforest|forests, particularly in equatorial, warm and humid conditions]]. While freezing [[Polar regions of Earth|polar regions]] and [[Alpine tundra|high altitudes]], or [[desert|extremely arid areas]] are relatively barren of plant and animal life.<ref name=\\\"amnat163_2_192\\\" />\\n\\nTherefore, life has impacted Earth, significantly altering Earth's atmosphere and surface over long periods of time, causing changes like the [[Great Oxidation Event]].<ref>{{Cite web |title=NASA Astrobiology Institute |url=https://astrobiology.nasa.gov/nai/articles/2019/3/5/clues-of-earths-early-rise-of-oxygen/index.html |access-date=9 November 2023 |website=astrobiology.nasa.gov |archive-date=17 November 2023 |archive-url=https://web.archive.org/web/20231117125556/https://astrobiology.nasa.gov/nai/articles/2019/3/5/clues-of-earths-early-rise-of-oxygen/index.html |url-status=live }}</ref> Humans furthermore have impacted Earth, its life and development.\\n\\n===Challenges for life on Earth===\\n[[Extreme weather]], such as [[tropical cyclone]]s, occurs over most of Earth's surface and has a large impact on life in those areas. From 1980 to 2000, these events caused an average of 11,800 human deaths per year.<ref>{{cite book|title=Oceans and Human Health|first1=Sharon|last1=Smith|author-link=Sharon L. Smith|first2=Lora |last2=Fleming|first3=Helena|last3=Solo-Gabriele|first4=William H.|last4=Gerwick|publisher=Elsevier Science|year= 2011|isbn=978-0-08-087782-2|page=212}}</ref> Many places are subject to [[earthquake]]s, [[landslide]]s, [[tsunami]]s, [[volcanic eruption]]s, [[tornado]]es, [[blizzard]]s, [[flood]]s, [[drought]]s, [[wildfire]]s, and other calamities and disasters.<ref>{{cite book|title=Natural Disasters|last1=Alexander|first1=David|page=3|year=1993|url=https://books.google.com/books?id=wnt0DwAAQBAJ&q=Natural+Disasters&pg=PT11|publisher=Springer Science & Business Media|isbn=978-1-317-93881-1|access-date=9 August 2023|archive-date=10 August 2023|archive-url=https://web.archive.org/web/20230810230725/https://books.google.com/books?id=wnt0DwAAQBAJ&pg=PT11&q=Natural+Disasters|url-status=live}}</ref> [[Human impact on the environment|Human impact]] is felt in many areas due to pollution of the air and water, [[acid rain]], loss of vegetation ([[overgrazing]], [[deforestation]], [[desertification]]), loss of wildlife, species [[extinction]],<ref>{{Cite web |title=What Is Climate Change? |url=https://www.un.org/en/climatechange/what-is-climate-change |url-status=live |archive-url=https://web.archive.org/web/20230126173023/https://www.un.org/en/climatechange/what-is-climate-change |archive-date=26 January 2023 |access-date=17 August 2022 |website=United Nations |language=en}}</ref> [[soil degradation]], [[soil depletion]] and [[erosion]].<ref>{{cite book|pages=52, 66, 69, 137, 142, 185, 202, 355, 366|title=The Human Impact on the Natural Environment |last1=Goudie |first1=Andrew|author-link1=Andrew Goudie (geographer) |year=2000|publisher=MIT Press|isbn=978-0-262-57138-8}}</ref> Human activities release greenhouse gases into the atmosphere which cause [[global warming]].<ref name=ConsensusOnConsensus>{{Cite journal | first1=John | last1=Cook | first2=Naomi | last2=Oreskes | author2-link=Naomi Oreskes | first3=Peter T. | last3=Doran | author3-link=Peter Doran | first4=William R. L. | last4=Anderegg | first5=Bart | last5=Verheggen | first6=Ed W | last6=Maibach | author6-link=Edward Maibach | first7=J. Stuart | last7=Carlton | first8=Stephan | last8=Lewandowsky | author8-link=Stephan Lewandowsky | first9=Andrew G. | last9=Skuce | first10=Sarah A. | last10=Green | first11=Dana | last11=Nuccitelli | first12=Peter | last12=Jacobs | first13=Mark | last13=Richardson | first14=Bärbel | last14=Winkler | first15=Rob | last15=Painting | first16=Ken | last16=Rice | date=2016 |title=Consensus on consensus: a synthesis of consensus estimates on human-caused global warming|journal=Environmental Research Letters |language=en |volume=11 |issue=4 |article-number=048002 |doi=10.1088/1748-9326/11/4/048002 |bibcode=2016ERL....11d8002C |issn=1748-9326|doi-access=free| hdl=1983/34949783-dac1-4ce7-ad95-5dc0798930a6 | hdl-access=free }}</ref> This is driving [[Effects of climate change|changes]] such as the [[Retreat of glaciers since 1850|melting of glaciers and ice sheets]], a [[Sea level rise|global rise in average sea levels]], increased risk of drought and wildfires, and migration of species to colder areas.<ref name=\\\"Global Warming Effects\\\">{{Cite web|date=14 January 2019|title=Global Warming Effects|url=https://www.nationalgeographic.com/environment/global-warming/global-warming-effects/|archive-url=https://web.archive.org/web/20170118014716/http://www.nationalgeographic.com/environment/global-warming/global-warming-effects/|archive-date=18 January 2017|access-date=16 September 2020|website=National Geographic|language=en}}</ref>\\n\\n== Human geography ==\\n{{Main|Human geography}}\\n{{See also|World}}\\n[[File:BlackMarble20161km.jpg|thumb|upright=1.3|A composite image of [[light pollution|artificial light emissions]] at night on a map of Earth]]\\nHumans, who originated from earlier [[primate]]s in Eastern Africa 300,000{{Nbsp}}years ago, [[History of human migration|have since been migrating]] around Earth, and with the advent of agriculture in the 10th millennium BC, have been increasingly [[Sedentism|settling]] Earth's land.<ref>{{Cite web |title=Introduction to Human Evolution {{!}} The Smithsonian Institution's Human Origins Program |url=http://humanorigins.si.edu/education/introduction-human-evolution |access-date=9 November 2023 |website=humanorigins.si.edu |date=11 July 2022 |language=en |archive-date=8 November 2023 |archive-url=https://web.archive.org/web/20231108211808/https://humanorigins.si.edu/education/introduction-human-evolution |url-status=live }}</ref> In the 20th century, [[Antarctica]] became the last continent to be explored and settled by humans, although human presence there remains limited. Since the 19th century, the [[World population|human population]] has grown exponentially to eight billion in the 2020s,<ref>{{Cite web |last= |first= |date=2025-11-15 |title=Day of 8 Billion |url=https://www.un.org/en/dayof8billion |url-status=live |archive-url=https://web.archive.org/web/20250523051432/https://www.un.org/en/dayof8billion/ |archive-date=2025-05-23 |access-date=2025-06-23 |website=United Nations |language=en}}</ref> and is projected to peak at around ten billion in the second half of the 21st century.<ref name=\\\"Harvey-2020\\\">{{Cite news |last=Harvey |first=Fiona |author-link=Fiona Harvey |date=15 July 2020 |title=World population in 2100 could be 2 billion below UN forecasts, study suggests |url=https://www.theguardian.com/world/2020/jul/15/world-population-in-2100-could-be-2-billion-below-un-forecasts-study-suggests |url-access=registration |url-status=live |archive-url=https://web.archive.org/web/20200904212947/https://www.theguardian.com/world/2020/jul/15/world-population-in-2100-could-be-2-billion-below-un-forecasts-study-suggests |archive-date=4 September 2020 |access-date=18 September 2020 |work=The Guardian |language=en-GB |issn=0261-3077}}</ref> Most of the growth is expected to take place in [[sub-Saharan Africa]].<ref name=\\\"Harvey-2020\\\" />\\n\\nDistribution and [[Population density#Human population density|density of human population]] varies greatly around the world with the majority living in south to eastern Asia and 90% inhabiting the [[Northern Hemisphere]] of Earth,<ref>{{Cite web|url=https://www.businessinsider.com/90-of-people-live-in-the-northern-hemisphere-2012-5|title=MAP OF THE DAY: Pretty Much Everyone Lives In The Northern Hemisphere|date=4 May 2012|work=Business Insider|last1=Lutz|first1=Ashley|access-date=5 January 2019|archive-date=19 January 2018|archive-url=https://web.archive.org/web/20180119181108/http://www.businessinsider.com/90-of-people-live-in-the-northern-hemisphere-2012-5|url-status=live}}</ref> partly due to the [[Land hemisphere|hemispherical predominance of the world's land mass]], with 68% of the world's land mass being in the Northern Hemisphere.<ref>{{Cite web |url=http://phl.upr.edu/library/notes/distributionoflandmassesofthepaleo-earth |title=Distribution of landmasses of the Paleo-Earth |first1=Abel |last1=Méndez |author-link1=Abel Méndez |date=6 July 2011 |publisher=University of Puerto Rico at Arecibo |access-date=5 January 2019 |archive-date=6 January 2019 |archive-url=https://web.archive.org/web/20190106010959/http://phl.upr.edu/library/notes/distributionoflandmassesofthepaleo-earth }}</ref> Furthermore, since the 19th century humans have increasingly converged into urban areas, with the majority living in urban areas by the 21st century.<ref name=\\\"OWID_urbanization_2019\\\" />\\n\\nBeyond Earth's surface, humans have lived only in a few special-purpose deep [[underground living|underground]] and [[underwater living|underwater]] presences and a few [[space station]]s. The human population virtually completely remains on Earth's surface, fully depending on Earth and the environment it sustains. Since the second half of the 20th century, some hundreds of humans have temporarily [[List of space travellers by first flight|stayed beyond Earth]], a tiny fraction of whom have reached another celestial body, the Moon.<ref name=\\\"shayler_vis2005\\\" /><ref>{{Cite news|last=Holmes|first=Oliver|date=19 November 2018|title=Space: how far have we gone – and where are we going?|language=en-GB|work=The Guardian|url=https://www.theguardian.com/science/2018/nov/19/space-how-far-have-we-gone-and-where-are-we-going|access-date=10 October 2020|issn=0261-3077|archive-date=6 October 2020|archive-url=https://web.archive.org/web/20201006041822/https://www.theguardian.com/science/2018/nov/19/space-how-far-have-we-gone-and-where-are-we-going|url-status=live}}</ref>\\n\\nEarth has been subject to extensive human settlement, and humans have developed diverse societies and cultures. Most of Earth's land has been territorially claimed since the 19th century by [[sovereign state]]s (countries) separated by [[Border|political borders]], and [[List of sovereign states|205 such states]] exist today,<ref>{{cite web | title = Member States {{!}} United Nations | url = https://www.un.org/en/about-us/member-states | publisher = United Nations | access-date = 3 January 2024 | archive-url = https://web.archive.org/web/20230301201032/https://www.un.org/en/about-us/member-states | archive-date = 1 March 2023 | url-status=live}}</ref> with only parts of Antarctica and a few small regions [[Terra nullius|remaining unclaimed]].<ref>{{cite book|last1=Lloyd|first1=John|author-link1=John Lloyd (producer)|title=The Discretely Plumper Second QI Book of General Ignorance|last2=Mitchinson|first2=John|author-link2=John Mitchinson (researcher)|publisher=Faber & Faber |year=2010|isbn=978-0-571-29072-7|pages=116–117}}</ref> Together, most of these states form the United Nations, the leading worldwide [[intergovernmental organization]],<ref>{{cite book|last1=Smith|first1=Courtney B.|url=https://www.rienner.com/uploads/47d958f8700e6.pdf|title=Politics and Process at the United Nations: The Global Dance|publisher=Lynne Reiner|year=2006|isbn=978-1-58826-323-0|pages=1–4|access-date=14 October 2020|archive-date=17 October 2020|archive-url=https://web.archive.org/web/20201017080431/https://www.rienner.com/uploads/47d958f8700e6.pdf|url-status=live}}</ref> which extends human governance [[Law of the Sea|over the ocean]] and [[Antarctic Treaty System|Antarctica]], and therefore all of Earth.\\n\\n=== Natural resources and land use ===\\n{{Main|Natural resource|Land use}}\\n[[File:Global land use for food production, OWID statistic.png|thumb|upright=1.3|Earth's land use for human agriculture in 2019]]\\nEarth has resources that have been exploited by humans.<ref>{{cite news|title=What are the consequences of the overexploitation of natural resources?|work=[[Iberdrola]]|url=https://www.iberdrola.com/environment/overexploitation-of-natural-resources|access-date=28 June 2019|archive-date=27 June 2019|archive-url=https://web.archive.org/web/20190627223353/https://www.iberdrola.com/environment/overexploitation-of-natural-resources|url-status=live}}</ref> Those termed [[non-renewable resource]]s, such as [[fossil fuel]]s, are only replenished over geological timescales.<ref>{{cite journal|date=20 April 2016|title=13. Exploitation of Natural Resources|url=https://www.eea.europa.eu/publications/92-826-5409-5/page013new.html|journal=[[European Environment Agency]]|publisher=[[European Union]]|access-date=28 June 2019|archive-date=27 June 2019|archive-url=https://web.archive.org/web/20190627223352/https://www.eea.europa.eu/publications/92-826-5409-5/page013new.html|url-status=live}}</ref> Large deposits of fossil fuels are obtained from Earth's crust, consisting of coal, petroleum, and natural gas.<ref>{{cite news|last=Huebsch|first=Russell|date=29 September 2017|title=How Are Fossil Fuels Extracted From the Ground?|work=Sciencing|publisher=[[Leaf Group]] Media|url=https://sciencing.com/how-are-fossil-fuels-extracted-from-the-ground-12227026.html|access-date=28 June 2019|archive-date=27 June 2019|archive-url=https://web.archive.org/web/20190627224408/https://sciencing.com/how-are-fossil-fuels-extracted-from-the-ground-12227026.html|url-status=live}}</ref> These deposits are used by humans both for energy production and as feedstock for chemical production.<ref>{{cite web|title=Electricity generation – what are the options?|url=http://www.world-nuclear.org/nuclear-basics/electricity-generation-what-are-the-options.aspx|access-date=28 June 2019|work=[[World Nuclear Association]]|archive-date=27 June 2019|archive-url=https://web.archive.org/web/20190627224414/http://www.world-nuclear.org/nuclear-basics/electricity-generation-what-are-the-options.aspx|url-status=live}}</ref> Mineral [[ore]] bodies have also been formed within the crust through a process of [[ore genesis]], resulting from actions of [[magmatism]], erosion, and plate tectonics.<ref>{{cite journal|last1=Brimhall|first1=George|date=May 1991|title=The Genesis of Ores|journal=Scientific American|publisher=Nature America|volume=264|pages=84–91|doi=10.1038/scientificamerican0591-84|jstor=24936905|number=5|bibcode=1991SciAm.264e..84B}}</ref> These metals and other elements are extracted by mining, a process which often brings environmental and health damage.<ref>{{Cite book|last=Lunine|first=Jonathan I. |author-link=Jonathan Lunine|title=Earth: Evolution of a Habitable World|publisher=Cambridge University Press |year=2013 |isbn=978-0-521-61519-8 |edition=second|pages=292–294}}</ref>\\n\\nEarth's biosphere produces many useful biological products for humans, including food, wood, [[pharmaceutical]]s, oxygen, and the recycling of organic waste. The land-based ecosystem depends upon [[topsoil]] and fresh water, and the oceanic ecosystem depends on dissolved nutrients washed down from the land.<ref name=\\\"science299_5607_673\\\" /> In 2019, {{convert|39|e6km2|e6sqmi|abbr=unit}} of Earth's land surface consisted of forest and woodlands, {{convert|12|e6km2|e6sqmi|abbr=unit}} was shrub and grassland, {{convert|40|e6km2|e6sqmi|abbr=unit}} were used for animal feed production and grazing, and {{convert|11|e6km2|e6sqmi|abbr=unit}} were cultivated as croplands.<ref name=\\\"OWID_2019\\\" /> Of the 12{{En dash}}14% of ice-free land that is used for croplands, 2 [[percentage point]]s were irrigated in 2015.<ref>{{Cite book |author=IPCC |title=IPCC Special Report on Climate Change and Land |year=2019 |page=8 |chapter=Summary for Policymakers |author-link=IPCC <!-- |display-authors= 4 --> |chapter-url=https://www.ipcc.ch/site/assets/uploads/sites/4/2019/12/02_Summary-for-Policymakers_SPM.pdf |access-date=25 September 2020 |archive-date=17 February 2020 |archive-url=https://web.archive.org/web/20200217135758/https://www.ipcc.ch/site/assets/uploads/sites/4/2019/12/02_Summary-for-Policymakers_SPM.pdf |url-status=live }}</ref> Humans use [[building material]]s to construct shelters.<ref>{{cite book |last1=Tate|first1=Nikki|author-link=Nikki Tate|title=Take Shelter: At Home Around the World|last2=Tate-Stratton|first2=Dani|year=2014|publisher=Orca Book Publishers|isbn=978-1-4598-0742-6|page=6}}</ref>\\n\\n=== Humans and the environment ===\\n{{Main|Human impact on the environment|Climate change}}\\n[[File:Global Temperature And Forces With Fahrenheit.svg|alt=The graph from 1880 to 2020 shows natural drivers exhibiting fluctuations of about 0.3 degrees Celsius. Human drivers steadily increase by 0.3 degrees over 100 years to 1980, then steeply by 0.8 degrees more over the past 40 years.|thumb|upright=1.3|Change in average surface air temperature and drivers for that change. Human activity has caused increased temperatures, with natural forces adding some variability.<ref>{{Cite book |author=IPCC |author-link=IPCC |year=2021 |title=Climate Change 2021: The Physical Science Basis |series=Contribution of Working Group I to the [[IPCC Sixth Assessment Report|Sixth Assessment Report]] of the Intergovernmental Panel on Climate Change |display-editors=4 |editor1-first=V. |editor1-last=Masson-Delmotte |editor2-first=P. |editor2-last=Zhai |editor3-first=A. |editor3-last=Pirani |editor4-first=S. L. |editor4-last=Connors |editor5-first=C. |editor5-last=Péan |editor6-first=S. |editor6-last=Berger |editor7-first=N. |editor7-last=Cau |editor8-first=Y. |editor8-last=Chen |editor9-first=L. |editor9-last=Goldfarb |editor10-first=M. I. |editor10-last=Gomis |publisher=Cambridge University Press (In Press) |place=Cambridge, United Kingdom and New York, NY, US |url=https://www.ipcc.ch/report/ar6/wg1/downloads/report/IPCC_AR6_WGI_Full_Report.pdf |at=SPM-7 |access-date=2 June 2022 |archive-date=13 August 2021 |archive-url=https://web.archive.org/web/20210813201719/https://www.ipcc.ch/report/ar6/wg1/downloads/report/IPCC_AR6_WGI_Full_Report.pdf |url-status=live }}</ref>]]\\n\\nHuman activities have impacted Earth's environments. Through activities such as the burning of fossil fuels, humans have been increasing the amount of [[greenhouse gas]]es in the atmosphere, altering [[Earth's energy budget]] and climate.<ref name=ConsensusOnConsensus /><ref>{{Cite web |url=https://earthobservatory.nasa.gov/features/EnergyBalance |title=Climate and Earth's Energy Budget |first1=Rebecca |last1=Lindsey |date=14 January 2009 |website=Earth Observatory |publisher=[[NASA]] |language=en |access-date=19 December 2021 |archive-date=2 October 2019 |archive-url=https://web.archive.org/web/20191002090444/https://earthobservatory.nasa.gov/features/EnergyBalance |url-status=live }}</ref> It is estimated that global temperatures in the year 2020 were {{convert|1.2|C-change}} warmer than the preindustrial baseline.<ref>{{cite web|date=14 January 2021|title=The State of the Global Climate 2020|url=https://public-old.wmo.int/en/our-mandate/climate/wmo-statement-state-of-global-climate|archive-url=https://web.archive.org/web/20231129232510/https://public-old.wmo.int/en/our-mandate/climate/wmo-statement-state-of-global-climate|archive-date=29 November 2023|access-date=3 March 2021|website=World Meteorological Organization |language=en}}</ref> This increase in temperature, known as [[global warming]], has contributed to the [[Retreat of glaciers since 1850|melting of glaciers]], [[Sea level rise|rising sea levels]], increased risk of drought and wildfires, and migration of species to colder areas.<ref name=\\\"Global Warming Effects\\\" />\\n\\nThe concept of [[planetary boundaries]] was introduced to quantify humanity's impact on Earth. Of the nine identified boundaries, five have been crossed: [[Biodiversity loss|Biosphere integrity]], climate change, chemical pollution, destruction of wild habitats and the [[nitrogen cycle]] are thought to have passed the safe threshold.<ref name=\\\"Boundaries\\\">{{cite web |title=We've crossed four of nine planetary boundaries. What does this mean? |website=[[Mongabay]] |last1=DiGirolamo |first1=Mike |date=8 September 2021 |url=https://news.mongabay.com/2021/09/weve-crossed-four-of-nine-planetary-boundaries-what-does-this-mean/ |access-date=27 January 2022 |archive-date=27 January 2022 |archive-url=https://web.archive.org/web/20220127200649/https://news.mongabay.com/2021/09/weve-crossed-four-of-nine-planetary-boundaries-what-does-this-mean/ |url-status=live }}</ref><ref>{{cite news |last1=Carrington |first1=Damien |title=Chemical pollution has passed safe limit for humanity, say scientists |url=https://www.theguardian.com/environment/2022/jan/18/chemical-pollution-has-passed-safe-limit-for-humanity-say-scientists |work=The Guardian |date=18 January 2022 |language=en |access-date=27 January 2022 |archive-date=12 April 2022 |archive-url=https://web.archive.org/web/20220412082940/https://www.theguardian.com/environment/2022/jan/18/chemical-pollution-has-passed-safe-limit-for-humanity-say-scientists |url-status=live }}</ref> As of 2018, no country meets the basic needs of its population without transgressing planetary boundaries. It is thought possible to provide all basic physical needs globally within sustainable levels of resource use.<ref>{{Cite journal|last1=O'Neill|first1=Daniel W.|last2=Fanning|first2=Andrew L.|last3=Lamb|first3=William F.|last4=Steinberger|first4=Julia K.|author4-link=Julia Steinberger|date=2018|title=A good life for all within planetary boundaries|url=https://www.nature.com/articles/s41893-018-0021-4|journal=Nature Sustainability|language=en|volume=1|issue=2|pages=88–95|doi=10.1038/s41893-018-0021-4|bibcode=2018NatSu...1...88O|s2cid=169679920|issn=2398-9629|access-date=30 January 2022|archive-date=1 February 2022|archive-url=https://web.archive.org/web/20220201214934/https://www.nature.com/articles/s41893-018-0021-4/|url-status=live}}</ref>\\n\\n== Cultural and historical viewpoint ==\\n{{Main|Earth in culture|Earth in science fiction}}\\n[[File:Tracy Caldwell Dyson in Cupola ISS.jpg|alt=Woman seeing the Earth from space through a window|thumb|[[Tracy Caldwell Dyson]], a [[NASA]] astronaut, observing Earth from the [[Cupola (ISS module)|''Cupola'' module]] at the [[International Space Station]] on 11&nbsp;September 2010|250x250px]]\\n[[Culture|Human cultures]] have developed many views of the planet.<ref name=\\\"NYT-20181224b\\\">{{cite news |last=Widmer |first=Ted |author-link=Edward L. Widmer|title=What Did Plato Think the Earth Looked Like? – For millenniums, humans have tried to imagine the world in space. Fifty years ago, we finally saw it. |url=https://www.nytimes.com/2018/12/24/opinion/plato-earth-christmas-eve-apollo-8.html |archive-url=https://ghostarchive.org/archive/20220101/https://www.nytimes.com/2018/12/24/opinion/plato-earth-christmas-eve-apollo-8.html |archive-date=1 January 2022 |url-access=limited |date=24 December 2018 |work=[[The New York Times]] |access-date=25 December 2018}}{{cbignore}}</ref> The standard [[astronomical symbols]] of Earth are a quartered circle, [[File:Earth symbol (fixed width).svg|🜨]],<ref name=\\\"liungman2004\\\" /> representing the [[four corners of the world]], and a [[globus cruciger]], [[File:globus cruciger (fixed width).svg|♁]]. Earth is sometimes [[Personification|personified]] as a [[deity]]. In many cultures it is a [[mother goddess]] that is also the primary [[fertility deity]].<ref name=\\\"Stookey-2004\\\">{{Cite book |title=Thematic Guide to World Mythology |last=Stookey |first=Lorena Laura |publisher=Greenwood Press |year=2004 |isbn=978-0-313-31505-3 |location=Westport, CN |pages=[https://archive.org/details/thematicguidetow00lore/page/114 114–115] |url=https://archive.org/details/thematicguidetow00lore/page/114}}</ref> [[Creation myth]]s in many religions involve the creation of Earth by a supernatural deity or deities.<ref name=\\\"Stookey-2004\\\" /> The [[Gaia hypothesis]], developed in the mid-20th century, compared Earth's environments and life as a single self-regulating organism leading to broad stabilization of the conditions of habitability.<ref>{{cite book|last1=Lovelock|first1=James E.|author-link=James Lovelock|title=The Vanishing Face of Gaia |publisher=Basic Books|year=2009|page=255|isbn=978-0-465-01549-8}}</ref><ref>{{cite journal|last=Lovelock|first=James E.|author-link=James Lovelock |year=1972 |title=Gaia as seen through the atmosphere|journal=Atmospheric Environment |volume=6|issue=8 |pages=579–580|bibcode=1972AtmEn...6..579L |doi=10.1016/0004-6981(72)90076-5 |issn=1352-2310}}</ref><ref>{{Cite journal |last1=Lovelock |first1=J.E. |last2=Margulis |first2=L. |author2-link=Lynn Margulis |date=1974 |title=Atmospheric homeostasis by and for the biosphere: the gaia hypothesis |journal=Tellus A |volume=26 |issue=1–2 |pages=2–10 |doi=10.3402/tellusa.v26i1-2.9731 |doi-access=free |s2cid=129803613 |language=en |bibcode=1974Tell...26....2L }}</ref>\\n\\n[[Timeline of first images of Earth from space|Images of Earth taken from space]], particularly during the Apollo program, have been credited with altering the way that people viewed the planet that they lived on, called the [[overview effect]], emphasizing its beauty, uniqueness and apparent fragility.<ref>{{cite news|last=Overbye|first=Dennis|author-link=Dennis Overbye|date=21 December 2018|title=Apollo 8's Earthrise: The Shot Seen Round the World – Half a century ago today, a photograph from the moon helped humans rediscover Earth.|work=[[The New York Times]]|url=https://www.nytimes.com/2018/12/21/science/earthrise-moon-apollo-nasa.html |archive-url=https://ghostarchive.org/archive/20220101/https://www.nytimes.com/2018/12/21/science/earthrise-moon-apollo-nasa.html |archive-date=1 January 2022 |url-access=limited|access-date=24 December 2018}}{{cbignore}}</ref><ref>{{cite news|last1=Boulton|first1=Matthew Myer|last2=Heithaus|first2=Joseph|date=24 December 2018|title=We Are All Riders on the Same Planet – Seen from space 50 years ago, Earth appeared as a gift to preserve and cherish. What happened?|work=[[The New York Times]] |url=https://www.nytimes.com/2018/12/24/opinion/earth-space-christmas-eve-apollo-8.html |archive-url=https://ghostarchive.org/archive/20220101/https://www.nytimes.com/2018/12/24/opinion/earth-space-christmas-eve-apollo-8.html |archive-date=1 January 2022 |url-access=limited|access-date=25 December 2018}}{{cbignore}}</ref> In particular, this caused a realization of the scope of effects from human activity on Earth's environment. Enabled by science, particularly [[Earth observation]],<ref>{{cite web |title=ESPI Evening Event \\\"Seeing Our Planet Whole: A Cultural and Ethical View of Earth Observation\\\" |website=ESPI – European Space Policy Institute |date=7 October 2021 |url=https://espi.or.at/news/espi-evening-event-seeing-our-planet-whole-a-cultural-and-ethical-view-of-earth-observation |access-date=27 January 2022 |archive-date=27 January 2022 |archive-url=https://web.archive.org/web/20220127201806/https://espi.or.at/news/espi-evening-event-seeing-our-planet-whole-a-cultural-and-ethical-view-of-earth-observation |url-status=live }}</ref> humans have started to take [[Environmentalism|action on environmental issues]] globally,<ref>{{cite web |title=Two early images of Earth that bolstered the environmental movement – CBC Radio |website=CBC |date=16 April 2020 |url=https://www.cbc.ca/radio/quirks/two-early-images-of-earth-that-bolstered-the-environmental-movement-1.5534843 |access-date=27 January 2022 |archive-date=27 January 2022 |archive-url=https://web.archive.org/web/20220127201802/https://www.cbc.ca/radio/quirks/two-early-images-of-earth-that-bolstered-the-environmental-movement-1.5534843 |url-status=live }}</ref> acknowledging the impact of humans and the [[Ecological network|interconnectedness of Earth's environments]].<ref>{{Cite book |url=https://academic.oup.com/fordham-scholarship-online/book/55509 |title=Earthly Things: Immanence, New Materialisms, and Planetary Thinking |date=3 October 2023 |publisher=Fordham University Press |isbn=978-1-5315-0413-7 |language=en |doi=10.5422/fordham/9781531503055.001.0001 |editor-last1=Bray |editor-last2=Eaton |editor-last3=Bauman |editor-first1=Karen |editor-first2=Heather |editor-first3=Whitney }}</ref>\\n\\nScientific investigation has resulted in several culturally transformative shifts in people's view of the planet. Initial belief in a [[flat Earth]] was gradually displaced in [[Ancient Greece]] by the idea of a [[spherical Earth]], which was attributed to both the philosophers [[Pythagoras]] and [[Parmenides]].<ref>{{cite book |last=Kahn |first=Charles H. |author-link=Charles H. Kahn |date=2001 |title=Pythagoras and the Pythagoreans: A Brief History |url=https://books.google.com/books?id=GKUtAwAAQBAJ&q=Pythagoreanism&pg=PA72 |location=Indianapolis, IN and Cambridge, England |publisher=Hackett Publishing Company |isbn=978-0-87220-575-8 |page=53 |access-date=9 August 2023 |archive-date=14 December 2023 |archive-url=https://web.archive.org/web/20231214140222/https://books.google.com/books?id=GKUtAwAAQBAJ&pg=PA72&q=Pythagoreanism#v=snippet&q=Pythagoreanism&f=false |url-status=live }}</ref><ref>{{Cite book|last=Garwood|first=Christine|title=Flat earth: the history of an infamous idea|date=2008|publisher=Thomas Dunne Books|isbn=978-0-312-38208-7|edition=1st|location=New York|oclc=184822945|pages=26–31}}</ref> Earth was generally believed to be [[Geocentrism|the center of the universe]] until the 16th century, when scientists first concluded that it was [[heliocentrism|a moving object]], one of the planets of the Solar System.<ref name=\\\"arnett20060716\\\" />\\n\\nIt was only during the 19th century that geologists realized [[Earth's age]] was at least many millions of years.<ref>{{Cite book |title=Physical Geology: Exploring the Earth |last1=Monroe |first1=James |publisher=Thomson Brooks/Cole |year=2007 |isbn=978-0-495-01148-4 |pages=263–265 |last2=Wicander |first2=Reed |last3=Hazlett |first3=Richard}}</ref> [[Lord Kelvin]] used [[thermodynamics]] to estimate the age of Earth to be between 20 million and 400&nbsp;million years in 1864, sparking a vigorous debate on the subject; it was only when radioactivity and [[Radiometric dating|radioactive dating]] were discovered in the late 19th and early 20th centuries that a reliable mechanism for determining Earth's age was established, proving the planet to be billions of years old.<ref>{{Cite book |title=An Equation for Every Occasion: Fifty-Two Formulas and Why They Matter |last=Henshaw |first=John M. |publisher=Johns Hopkins University Press |year=2014 |isbn=978-1-4214-1491-1 |pages=117–118}}</ref><ref>{{Cite book |title=Lord Kelvin and the Age of the Earth |last=Burchfield |first=Joe D. |publisher=University of Chicago Press |year=1990 |isbn=978-0-226-08043-7 |pages=13–18}}</ref>\\n\\n==See also==\\n{{portal|Earth|Earth Sciences|History of Science}}\\n{{columns list|colwidth=22em|\\n* [[Celestial sphere]]\\n* [[Earth phase]]\\n* [[Earth science]]\\n* [[Extremes on Earth]]\\n* [[List of Solar System extremes]]\\n* [[Outline of Earth]]\\n* [[Table of physical properties of planets in the Solar System]]\\n* [[Timeline of Earth estimates]]\\n* [[Timeline of the far future]]\\n}}\\n\\n== Notes ==\\n<!-- List alphabetized. Please keep it that way, thank you!\\n-->\\n{{reflist |30em |group=\\\"n\\\" |refs=\\n\\n<ref name=\\\"Aoki\\\">The ultimate source of these figures, uses the term \\\"seconds of UT1\\\" instead of \\\"seconds of mean solar time\\\".—{{cite journal |last1=Aoki |first1=S. |title=The new definition of universal time |journal=Astronomy and Astrophysics |year=1982 |volume=105 |issue=2 |pages=359–361 |bibcode=1982A&A...105..359A |last2=Kinoshita |first2=H. |last3=Guinot |first3=B. |last4=Kaplan |first4=G. H. |last5=McCarthy |first5=D. D. |last6=Seidelmann |first6=P. K.}}</ref>\\n\\n<ref name=\\\"apsis\\\">aphelion = ''a'' × (1 + ''e''); perihelion = ''a'' × (1&nbsp;– ''e''), where ''a'' is the semi-major axis and ''e'' is the eccentricity. The difference between Earth's perihelion and aphelion is 5 million kilometers.—{{cite book|page=144|title=Probing the New Solar System|last1=Wilkinson|first1=John|year= 2009|publisher=CSIRO Publishing|isbn=978-0-643-09949-4}}</ref>\\n\\n<ref name=\\\"epoch\\\">All astronomical quantities vary, both [[Secular phenomena|secularly]] and [[Frequency|periodically]]. The quantities given are the values at the instant [[J2000.0]] of the secular variation, ignoring all periodic variations.</ref>\\n\\n<ref name=\\\"hill_radius\\\">For Earth, the [[Hill radius]] is <math>R_H = a\\\\left ( \\\\frac{m}{3M} \\\\right )^{\\\\frac{1}{3}}</math>, where ''m'' is the mass of Earth, ''a'' is an astronomical unit, and ''M'' is the mass of the Sun. So the radius in AU is about <math>\\\\left ( \\\\frac{1}{3 \\\\cdot 332,946} \\\\right )^{\\\\frac{1}{3}} = 0.01</math>.</ref>\\n\\n<ref name=\\\"jaes41_3_379\\\">Including the [[Somali Plate]], which is being formed out of the African Plate. See: {{cite journal |first=Jean |last=Chorowicz |date=October 2005 |title=The East African rift system |journal=[[Journal of African Earth Sciences]] |volume=43 |issue=1–3 |pages=379–410 |doi=10.1016/j.jafrearsci.2005.07.019 |bibcode=2005JAfES..43..379C}}</ref>\\n\\n<ref name=\\\"solar_energy\\\">Aphelion is 103.4% of the distance to perihelion. Due to the inverse square law, the radiation at perihelion is about 106.9% of the energy at aphelion.</ref>\\n\\n<ref name=\\\"surfacecover\\\">Due to natural fluctuations, ambiguities surrounding [[Ice shelf|ice shelves]], and mapping conventions for [[vertical datum]]s, exact values for land and ocean coverage are not meaningful. Based on data from the [[Vector Map]] and [http://www.landcover.org/ Global Landcover] {{Webarchive|url=https://web.archive.org/web/20150326085837/http://www.landcover.org/ |date=26 March 2015}} datasets, extreme values for coverage of lakes and streams are 0.6% and 1.0% of Earth's surface. The ice sheets of [[Antarctica]] and [[Greenland]] are counted as land, even though much of the rock that supports them lies below sea level.</ref>\\n\\n<ref name=\\\"space_debris\\\">As of 4 January 2018, the United States Strategic Command tracked a total of 18,835 artificial objects, mostly debris. See: {{cite journal |url=https://orbitaldebris.jsc.nasa.gov/quarterly-news/pdfs/odqnv22i1.pdf |title=Satellite Box Score |journal=Orbital Debris Quarterly News |editor1-first=Phillip |editor1-last=Anz-Meador |editor2-first=Debi |editor2-last=Shoots |volume=22 |issue=1 |page=12 |date=February 2018 |access-date=18 April 2018 |archive-date=2 April 2019 |archive-url=https://web.archive.org/web/20190402034308/https://orbitaldebris.jsc.nasa.gov/quarterly-news/pdfs/odqnv22i1.pdf |url-status=live }}</ref>\\n\\n}}\\n\\n== References ==\\n<!--\\n List alphabetized. Keep it that way!\\n-->\\n{{reflist|refs=\\n\\n<ref name=\\\"aaa428_261\\\">{{cite journal |display-authors=1 |last1=Laskar |first1=J. |last2=Robutel |first2=P. |last3=Joutel |first3=F. |last4=Gastineau |first4=M. |last5=Correia |first5=A.C.M. |last6=Levrard |first6=B. |title=A long-term numerical solution for the insolation quantities of the Earth |journal=Astronomy and Astrophysics |year=2004 |volume=428 |issue=1 |pages=261–285 |bibcode=2004A&A...428..261L |doi=10.1051/0004-6361:20041335 |url=https://hal.archives-ouvertes.fr/hal-00001603/document |doi-access=free |access-date=16 May 2018 |archive-date=17 May 2018 |archive-url=https://web.archive.org/web/20180517010908/https://hal.archives-ouvertes.fr/hal-00001603/document |url-status=live }}</ref>\\n\\n<ref name=\\\"ab2003\\\">{{cite web |author=Staff |date=September 2003 |url=http://astrobiology.arc.nasa.gov/roadmap/g1.html |archive-url=https://web.archive.org/web/20120312212337/http://astrobiology.arc.nasa.gov/roadmap/g1.html |archive-date=12 March 2012 |title=Astrobiology Roadmap |publisher=NASA, Lockheed Martin |access-date=10 March 2007 }}</ref>\\n\\n<ref name=\\\"abedon1997\\\">{{cite web |last1=Abedon |first1=Stephen T. |date=31 March 1997 |url=http://www.mansfield.ohio-state.edu/~sabedon/biol1010.htm |archive-url=https://web.archive.org/web/20121129043509/http://www.mansfield.ohio-state.edu/~sabedon/biol1010.htm |archive-date=29 November 2012 |title=History of Earth |publisher=Ohio State University |access-date=19 March 2007 }}</ref>\\n\\n<ref name=\\\"age_earth1\\\">See:\\n* {{cite book |first1=G. Brent |last1=Dalrymple |author-link1=Brent Dalrymple|date=1991 |title=The Age of the Earth |publisher=Stanford University Press |location=California |isbn=978-0-8047-1569-0}}\\n* {{cite web |last=Newman |first=William L. |date=9 July 2007 |url=http://pubs.usgs.gov/gip/geotime/age.html |title=Age of the Earth |publisher=Publications Services, USGS |access-date=20 September 2007 |archive-date=23 December 2005 |archive-url=https://web.archive.org/web/20051223072700/http://pubs.usgs.gov/gip/geotime/age.html |url-status=live }}\\n* {{cite journal |last1=Dalrymple |first1=G. Brent |author-link1=Brent Dalrymple |title=The age of the Earth in the twentieth century: a problem (mostly) solved |journal=Geological Society, London, Special Publications |year=2001 |volume=190 |issue=1 |pages=205–221 |url=http://sp.lyellcollection.org/cgi/content/abstract/190/1/205 |access-date=20 September 2007 |doi=10.1144/GSL.SP.2001.190.01.14 |bibcode=2001GSLSP.190..205D |s2cid=130092094 |archive-date=11 November 2007 |archive-url=https://web.archive.org/web/20071111141237/http://sp.lyellcollection.org/cgi/content/abstract/190/1/205 |url-status=live |url-access=subscription }}</ref>\\n\\n<ref name=\\\"aj136_5_1906\\\">{{cite journal |last1=McCarthy |first1=Dennis D. |author-link1=Dennis McCarthy (scientist)|last2=Hackman |first2=Christine |last3=Nelson |first3=Robert A. |title=The Physical Basis of the Leap Second |journal=The Astronomical Journal |volume=136 |issue=5 |pages=1906–1908 |date=November 2008 |doi=10.1088/0004-6256/136/5/1906 |bibcode=2008AJ....136.1906M |doi-access=free}}</ref>\\n\\n<ref name=\\\"ajes38_613\\\">{{cite journal |last1=Armstrong |first1=R. L. |year=1991 |title=The persistent myth of crustal growth |journal=Australian Journal of Earth Sciences |volume=38 |issue=5 |pages=613–630 |doi=10.1080/08120099108727995 |bibcode=1991AuJES..38..613A |url=http://www.mantleplumes.org/WebDocuments/Armstrong1991.pdf |citeseerx=10.1.1.527.9577 |access-date=24 October 2017 |archive-date=8 August 2017 |archive-url=https://web.archive.org/web/20170808214425/http://www.mantleplumes.org/WebDocuments/Armstrong1991.pdf |url-status=live }}</ref>\\n\\n<ref name=\\\"Allen294\\\">{{cite book |title=Allen's Astrophysical Quantities |last1=Allen |first1=Clabon Walter |author-link1=Clabon Allen |last2=Cox |first2=Arthur N. |editor=Arthur N. Cox |publisher=Springer |date=2000 |isbn=978-0-387-98746-0 |url=https://books.google.com/books?id=w8PK2XFLLH8C&pg=PA294 |page=294 |access-date=13 March 2011 |archive-date=21 February 2023 |archive-url=https://web.archive.org/web/20230221195157/https://books.google.com/books?id=w8PK2XFLLH8C&pg=PA294 |url-status=live }}</ref>\\n\\n<ref name=\\\"Allen296\\\">{{cite book |title=Allen's Astrophysical Quantities |last1=Allen |first1=Clabon Walter |author-link1=Clabon Allen |last2=Cox |first2=Arthur N. |editor=Arthur N. Cox |publisher=Springer |date=2000 |isbn=978-0-387-98746-0 |url=https://books.google.com/books?id=w8PK2XFLLH8C&pg=PA296 |page=296 |access-date=17 August 2010 |archive-date=21 February 2023 |archive-url=https://web.archive.org/web/20230221195213/https://books.google.com/books?id=w8PK2XFLLH8C&pg=PA296 |url-status=live }}</ref>\\n\\n<ref name=\\\"amnat163_2_192\\\">{{cite journal |last1=Hillebrand |first1=Helmut |title=On the Generality of the Latitudinal Gradient |journal=American Naturalist |year=2004 |volume=163 |issue=2 |pages=192–211 |doi=10.1086/381004 |pmid=14970922 |s2cid=9886026 |url=http://oceanrep.geomar.de/4048/1/Hillebrand_2004_Amer_nat.pdf |access-date=20 April 2018 |archive-date=22 September 2017 |archive-url=https://web.archive.org/web/20170922001037/http://oceanrep.geomar.de/4048/1/Hillebrand_2004_Amer_nat.pdf |url-status=live }}</ref>\\n\\n<ref name=\\\"angular\\\">{{cite web |last1=Williams |first1=David R. |date=10 February 2006 |url=http://nssdc.gsfc.nasa.gov/planetary/planetfact.html |title=Planetary Fact Sheets |publisher=NASA |access-date=28 September 2008 |at=See the apparent diameters on the Sun and Moon pages |archive-date=4 March 2016 |archive-url=https://web.archive.org/web/20160304052405/http://nssdc.gsfc.nasa.gov/planetary/planetfact.html |url-status=live }}</ref>\\n<!---\\n<ref name=arghg4_143>{{cite journal |last1=Pennock |first1=R. T. |title=Creationism and intelligent design |journal=Annual Review of Genomics and Human Genetics |volume=4 |issue=1 |pages=143–163 |year=2003 |pmid=14527300 |doi=10.1146/annurev.genom.4.070802.110400}}</ref>\\n--->\\n<ref name=\\\"arnett20060716\\\">{{cite web |first1=Bill |last1=Arnett |date=16 July 2006 |title=Earth |work=The Nine Planets, A Multimedia Tour of the Solar System: one star, eight planets, and more |url=http://nineplanets.org/earth.html |access-date=9 March 2010 |archive-date=23 August 2000 |archive-url=https://web.archive.org/web/20000823145301/http://nineplanets.org/earth.html |url-status=live }}</ref>\\n\\n<ref name=\\\"arwps4_265\\\">{{cite journal |last1=Hunten |first1=D. M. |title=Hydrogen loss from the terrestrial planets |journal=Annual Review of Earth and Planetary Sciences |year=1976 |volume=4 |issue=1 |pages=265–292 |bibcode=1976AREPS...4..265H |doi=10.1146/annurev.ea.04.050176.001405 |last2=Donahue |first2=T. M|author-link2=Thomas Michael Donahue}}</ref>\\n\\n<ref name=\\\"asp2002\\\">{{cite conference |last1=Guinan |first1=E. F. |last2=Ribas |first2=I. |editor=Benjamin Montesinos, Alvaro Gimenez and Edward F. Guinan |title=Our Changing Sun: The Role of Solar Nuclear Evolution and Magnetic Activity on Earth's Atmosphere and Climate |work=ASP Conference Proceedings: The Evolving Sun and its Influence on Planetary Environments |year=2002 |location=San Francisco |isbn=978-1-58381-109-2 |publisher=Astronomical Society of the Pacific |bibcode=2002ASPC..269...85G}}</ref>\\n\\n<ref name=\\\"asu_highest_temp\\\">{{cite web |url=https://wmo.asu.edu/content/world-highest-temperature |title=World: Highest Temperature |work=[[WMO]] Weather and Climate Extremes Archive |publisher=[[Arizona State University]] |access-date=6 September 2020 |archive-date=1 May 2018 |archive-url=https://web.archive.org/web/20180501140030/https://wmo.asu.edu/content/world-highest-temperature |url-status=live }}</ref>\\n\\n<ref name=\\\"asu_lowest_temp\\\">{{cite web |url=https://wmo.asu.edu/content/world-lowest-temperature |title=World: Lowest Temperature |work=[[WMO]] Weather and Climate Extremes Archive |publisher=[[Arizona State University]] |access-date=6 September 2020 |archive-date=23 March 2019 |archive-url=https://web.archive.org/web/20190323204244/https://wmo.asu.edu/content/world-lowest-temperature |url-status=live }}</ref>\\n\\n<ref name=\\\"atmosphere\\\">{{cite web |author=Staff |date=8 October 2003 |url=http://www.nasa.gov/audience/forstudents/9-12/features/912_liftoff_atm.html |title=Earth's Atmosphere |publisher=NASA |access-date=21 March 2007 |archive-date=27 April 2020 |archive-url=https://web.archive.org/web/20200427090422/https://www.nasa.gov/audience/forstudents/9-12/features/912_liftoff_atm.html }}</ref>\\n\\n<ref name=\\\"berger2002\\\">{{cite web |last1=Berger |first1=Wolfgang H. |author-link1=Wolfgang H. Berger |year=2002 |url=http://earthguide.ucsd.edu/virtualmuseum/climatechange1/cc1syllabus.shtml |title=The Earth's Climate System |publisher=University of California, San Diego |access-date=24 March 2007 |archive-date=16 March 2013 |archive-url=https://web.archive.org/web/20130316083131/http://earthguide.ucsd.edu/virtualmuseum/climatechange1/cc1syllabus.shtml |url-status=live }}</ref>\\n\\n<ref name=\\\"bgsa119_1_140\\\">{{cite journal |last1=Wilkinson |first1=B. H. |last2=McElroy |first2=B. J. |s2cid=128776283 |title=The impact of humans on continental erosion and sedimentation |journal=Bulletin of the Geological Society of America |year=2007 |volume=119 |issue=1–2 |pages=140–156 |doi=10.1130/B25899.1 |bibcode=2007GSAB..119..140W}}</ref>\\n<!--\\n<ref name=\\\"biodiv\\\">{{cite web |author=Staff |url=http://www.biodiv.org/programmes/default.shtml |title=Themes & Issues |publisher=Secretariat of the Convention on Biological Diversity |access-date=29 March 2007 |archive-url=https://web.archive.org/web/20070407011249/http://www.biodiv.org/programmes/default.shtml |archive-date=7 April 2007}}</ref>\\n-->\\n<ref name=\\\"bouvier_wadhwa2010\\\">{{cite journal |last1=Bouvier |first1=Audrey |last2=Wadhwa |first2=Meenakshi |author-link2=Meenakshi Wadhwa|title=The age of the Solar System redefined by the oldest Pb–Pb age of a meteoritic inclusion |journal=Nature Geoscience |date=September 2010 |volume=3 |issue=9 |pages=637–641 |doi=10.1038/ngeo941 |bibcode=2010NatGe...3..637B }}</ref>\\n\\n<ref name=\\\"bradley_2011\\\">{{Cite journal |last=Bradley |first=D.C. |author-link1=Donal Bradley|date=2011 |title=Secular Trends in the Geologic Record and the Supercontinent Cycle |journal=Earth-Science Reviews |volume=108 |issue=1–2 |pages=16–33 |doi=10.1016/j.earscirev.2011.05.003 |bibcode=2011ESRv..108...16B |citeseerx=10.1.1.715.6618 |s2cid=140601854}}</ref>\\n\\n<ref name=\\\"britt2000\\\">{{cite web |first1=Robert |last1=Britt |website=Space.com|url=http://www.space.com/scienceastronomy/solarsystem/death_of_earth_000224.html |title=Freeze, Fry or Dry: How Long Has the Earth Got? |date=25 February 2000 |archive-url=https://web.archive.org/web/20090605231345/http://www.space.com/scienceastronomy/solarsystem/death_of_earth_000224.html |archive-date=5 June 2009}}</ref>\\n\\n<ref name=bromberg2008>{{cite web |last1=Bromberg |first1=Irv |date=1 May 2008 |url=http://www.sym454.org/seasons/ |title=The Lengths of the Seasons (on Earth) |publisher=[[University of Toronto]]|website=Sym545 |access-date=8 November 2008 |archive-url=https://web.archive.org/web/20081218221421/http://www.sym454.org/seasons/ |archive-date=18 December 2008 }}</ref>\\n\\n<ref name=\\\"brown_mussett1981\\\">{{cite book |last1=Brown |first1=Geoff C. |last2=Mussett |first2=Alan E. |title=The Inaccessible Earth |edition=2nd |date=1981 |page=[https://archive.org/details/inaccessibleeart0000brow_r5i2/page/166 166] |publisher=Taylor & Francis |isbn=978-0-04-550028-4 |url=https://archive.org/details/inaccessibleeart0000brow_r5i2/page/166}} Note: After Ronov and Yaroshevsky (1969).</ref>\\n\\n<ref name=\\\"brown_wohletz2005\\\">{{cite web |last1=Brown |first1=W. K. |last2=Wohletz |first2=K. H. |year=2005 |url=http://www.lanl.gov/orgs/ees/geodynamics/Wohletz/SFT-Tectonics.htm |title=SFT and the Earth's Tectonic Plates |publisher=Los Alamos National Laboratory |access-date=2 March 2007 |archive-date=2 April 2016 |archive-url=https://web.archive.org/web/20160402050339/http://www.lanl.gov/orgs/ees/geodynamics/Wohletz/SFT-Tectonics.htm |url-status=live }}</ref>\\n\\n<ref name=\\\"burton20021129\\\">{{cite web |last1=Burton |first1=Kathleen |date=29 November 2002 |url=http://www.nasa.gov/centers/ames/news/releases/2000/00_79AR.html |title=Astrobiologists Find Evidence of Early Life on Land |publisher=NASA |access-date=5 March 2007 |archive-date=11 October 2011 |archive-url=https://web.archive.org/web/20111011032824/http://www.nasa.gov/centers/ames/news/releases/2000/00_79AR.html }}</ref>\\n\\n<ref name=campbelwh>{{cite book |last1=Campbell |first1=Wallace Hall |title=Introduction to Geomagnetic Fields |publisher=Cambridge University Press |date=2003 |location=New York |page=57 |isbn=978-0-521-82206-0}}</ref>\\n\\n<ref name=canup_asphaug2001b>{{cite journal |last1=Canup |first1=R. |author-link1=Robin Canup|last2=Asphaug |first2=E. I. |author-link2=Erik Ian Asphaug|s2cid=4413525 |title=Origin of the Moon in a giant impact near the end of the Earth's formation |journal=Nature |volume=412 |pages=708–712 |year=2001 |doi=10.1038/35089010 |pmid=11507633 |issue=6848 |bibcode=2001Natur.412..708C}}</ref>\\n\\n<ref name=cazenave_ahrens1995>{{cite book |first1=Anny |last1=Cazenave |author-link=Anny Cazenave |editor=Ahrens, Thomas J |date=1995 |title=Global Earth Physics: A Handbook of Physical Constants |issue=1 |publisher=American Geophysical Union |location=Washington, DC |isbn=978-0-87590-851-9 |chapter-url=http://www.agu.org/reference/gephys/5_cazenave.pdf |archive-url=https://web.archive.org/web/20061016024803/http://www.agu.org/reference/gephys/5_cazenave.pdf |archive-date=16 October 2006 |access-date=3 August 2008 |chapter=Geoid, Topography and Distribution of Landforms |series=AGU Reference Shelf |volume=1 |doi=10.1029/RF001 |bibcode=1995geph.conf.....A}}</ref>\\n\\n<ref name=Choi>{{cite web |last1=Choi |first1=Charles Q. |title=First Asteroid Companion of Earth Discovered at Last |website=[[Space.com]] |url=http://www.space.com/12443-earth-asteroid-companion-discovered-2010-tk7.html |date=27 July 2011 |access-date=27 July 2011 |archive-date=26 August 2013 |archive-url=https://web.archive.org/web/20130826225911/http://www.space.com/12443-earth-asteroid-companion-discovered-2010-tk7.html |url-status=live }}</ref>\\n\\n<ref name=christou_asher2011>{{cite journal |last1=Christou |first1=Apostolos A. |last2=Asher |first2=David J. |author-link2=David J. Asher|date=31 March 2011 |title=A long-lived horseshoe companion to the Earth |arxiv=1104.0036 |doi=10.1111/j.1365-2966.2011.18595.x |volume=414 |issue=4 |journal=Monthly Notices of the Royal Astronomical Society |pages=2965–2969 |doi-access=free |bibcode=2011MNRAS.414.2965C|s2cid=13832179 }} See table 2, p. 5.</ref>\\n\\n<ref name=climate_zones>{{cite web |author=Staff |url=http://www.ace.mmu.ac.uk/eae/climate/older/Climate_Zones.html |archive-url=https://web.archive.org/web/20100808131632/http://www.ace.mmu.ac.uk/eae/climate/older/Climate_Zones.html |archive-date=8 August 2010 |title=Climate Zones |publisher=UK Department for Environment, Food and Rural Affairs |access-date=24 March 2007}}</ref>\\n\\n<ref name=cmp134_3>{{cite journal |doi=10.1007/s004100050465 |title=Priscoan (4.00–4.03 Ga) orthogneisses from northwestern Canada |year=1999 |last1=Bowring |first1=Samuel A. |author-link1=Samuel Bowring|journal=Contributions to Mineralogy and Petrology |volume=134 |issue=1 |pages=3–16 |last2=Williams |first2=Ian S. |s2cid=128376754 |bibcode=1999CoMP..134....3B}}</ref>\\n\\n<ref name=cordoba2004>{{cite web |first1=S. Sanz Fernández |last1=de Córdoba |date=21 June 2004 |url=http://www.fai.org/astronautics/100km.asp |archive-url=https://web.archive.org/web/20100115223732/http://www.fai.org/astronautics/100km.asp |archive-date=15 January 2010 |title=Presentation of the Karman separation line, used as the boundary separating Aeronautics and Astronautics |publisher=Fédération Aéronautique Internationale |access-date=21 April 2007 }}</ref>\\n\\n<ref name=\\\"Cox2000\\\">{{cite book |last1=Allen |first1=Clabon Walter |author-link1=Clabon Allen |last2=Cox |first2=Arthur N. |editor=Arthur N. Cox |title=Allen's Astrophysical Quantities |url=https://books.google.com/books?id=w8PK2XFLLH8C&pg=PA244 |edition=4th |date=2000 |publisher=AIP Press |location=New York |isbn=978-0-387-98746-0 |page=244 |access-date=17 August 2010 |archive-date=21 February 2023 |archive-url=https://web.archive.org/web/20230221195217/https://books.google.com/books?id=w8PK2XFLLH8C&pg=PA244 |url-status=live }}</ref>\\n<!--\\n<ref name=\\\"Apollo13History\\\">{{cite web |url=https://history.nasa.gov/SP-4029/Apollo_13a_Summary.htm |title=Apollo 13 The Seventh Mission: The Third Lunar Landing Attempt 11 April–17 April 1970 |publisher=NASA |access-date=7 November 2015}}</ref>\\n-->\\n<!--\\n<ref name=de_pater_lissauer2010>{{cite book |last1=de Pater |first1=Imke |last2=Lissauer |first2=Jack J. |author-link2=Jack J. Lissauer|title=Planetary Sciences |page=154 |edition=2nd |publisher=Cambridge University Press |date=2010 |isbn=978-0-521-85371-2}}</ref>\\n-->\\n\\n<ref name=\\\"Deuss_2014\\\">{{Cite journal |last=Deuss |first=Arwen |date=2014 |title=Heterogeneity and Anisotropy of Earth's Inner Core |url=https://www.annualreviews.org/doi/pdf/10.1146/annurev-earth-060313-054658 |journal=Annu. Rev. Earth Planet. Sci. |volume=42 |issue=1 |pages=103–126 |doi=10.1146/annurev-earth-060313-054658 |bibcode=2014AREPS..42..103D |access-date=8 February 2023 |archive-date=7 May 2020 |archive-url=https://web.archive.org/web/20200507194647/https://www.annualreviews.org/doi/pdf/10.1146/annurev-earth-060313-054658 |url-status=live |url-access=subscription }}</ref>\\n\\n<ref name=\\\"Dhuime_etal_2018\\\">{{Cite journal |last1=Dhuime |first1=B. |last2=Hawksworth |first2=C.J. |author-link2=Christopher Hawkesworth|last3=Delavault |first3=H. |last4=Cawood |first4=P.A. |date=2018 |title=Rates of generation and destruction of the continental crust: implications for continental growth |journal=Philosophical Transactions A |volume=376 |issue=2132 |doi=10.1098/rsta.2017.0403 |pmc=6189557 |pmid=30275156|bibcode=2018RSPTA.37670403D}}</ref>\\n<!--\\n<ref name=dole1970>{{cite book |first1=Stephen H. |last1=Dole |date=1970 |title=Habitable Planets for Man |edition=2nd |publisher=American Elsevier Publishing Co |url=https://www.rand.org/pubs/reports/R414/ |access-date=11 March 2007 |isbn=978-0-444-00092-7}}</ref>\\n-->\\n<ref name=duennebier1999>{{cite web |last1=Duennebier |first1=Fred |date=12 August 1999 |url=http://www.soest.hawaii.edu/GG/ASK/plate-tectonics2.html |title=Pacific Plate Motion |publisher=University of Hawaii |access-date=14 March 2007 |archive-date=31 August 2011 |archive-url=https://web.archive.org/web/20110831195803/http://www.soest.hawaii.edu/GG/ASK/plate-tectonics2.html |url-status=live }}</ref>\\n<!---\\n<ref name=Dutch2002>{{cite journal |last1=Dutch |first1=S. I. |year=2002 |title=Religion as belief versus religion as fact |journal=Journal of Geoscience Education |volume=50 |issue=2 |pages=137–144 |url=http://nagt.org/files/nagt/jge/abstracts/Dutch_v50n2p137.pdf |access-date=28 April 2008 |format=PDF}}</ref>\\n--->\\n<ref name=\\\"earth_fact_sheet\\\">{{cite web |url=https://nssdc.gsfc.nasa.gov/planetary/factsheet/earthfact.html |title=Earth Fact Sheet |work=[[NSSDCA]] |publisher=[[NASA Goddard Space Flight Center]] |first=David R. |last=Williams |date=15 November 2024 |access-date=30 December 2024 |archive-date=8 May 2013 |archive-url=https://web.archive.org/web/20130508021904/http://nssdc.gsfc.nasa.gov/planetary/factsheet/earthfact.html |url-status=live }}</ref>\\n<!---\\n<ref name=edis2003>{{cite book |first1=Taner |last1=Edis |date=2003 |title=A World Designed by God: Science and Creationism in Contemporary Islam |publisher=Amherst: Prometheus |archive-url=https://web.archive.org/web/20030608143431/http://www2.truman.edu/~edis/writings/articles/CFI-2001.pdf |url=http://www2.truman.edu/~edis/writings/articles/CFI-2001.pdf |archive-date=8 June 2003 |isbn=978-1-59102-064-6|access-date=28 April 2008 |format=PDF}}</ref>\\n--->\\n\\n<ref name=epsl121_1>{{cite journal |last1=Vlaar |first1=N |last2=Vankeken |first2=P. |last3=Vandenberg |first3=A. |title=Cooling of the Earth in the Archaean: Consequences of pressure-release melting in a hotter mantle |year=1994 |journal=Earth and Planetary Science Letters |volume=121 |issue=1–2 |pages=1–18 |doi=10.1016/0012-821X(94)90028-0 |url=http://www.geo.lsa.umich.edu/~keken/papers/Vlaar_EPSL94.pdf |bibcode=1994E&PSL.121....1V |archive-url=https://web.archive.org/web/20120319181621/http://www.geo.lsa.umich.edu/~keken/papers/Vlaar_EPSL94.pdf |archive-date=19 March 2012}}</ref>\\n\\n<ref name=\\\"espenak_meeus20070207\\\">{{cite web |last1=Espenak |first1=Fred |author-link1=Fred Espenak|last2=Meeus |first2=Jean |author-link2=Jean Meeus|date=7 February 2007 |url=http://sunearth.gsfc.nasa.gov/eclipse/SEcat5/secular.html |archive-url=https://web.archive.org/web/20080302112957/http://sunearth.gsfc.nasa.gov/eclipse/SEcat5/secular.html |archive-date=2 March 2008 |title=Secular acceleration of the Moon |publisher=NASA |access-date=20 April 2007 }}</ref>\\n\\n<ref name=\\\"fisher19960205\\\">{{cite web |last1=Fisher |first1=Rick |date=5 February 1996 |url=http://www.cv.nrao.edu/~rfisher/Ephemerides/earth_rot.html |title=Earth Rotation and Equatorial Coordinates |publisher=National Radio Astronomy Observatory |access-date=21 March 2007 |archive-date=18 August 2011 |archive-url=https://web.archive.org/web/20110818022004/http://www.cv.nrao.edu/~rfisher/Ephemerides/earth_rot.html }}</ref>\\n\\n<ref name=fitzpatrick2006>{{cite web |last1=Fitzpatrick |first1=Richard |date=16 February 2006 |url=http://farside.ph.utexas.edu/teaching/plasma/lectures/node69.html |title=MHD dynamo theory |publisher=NASA WMAP |access-date=27 February 2007 |archive-date=27 April 2020 |archive-url=https://web.archive.org/web/20200427090654/http://farside.ph.utexas.edu/teaching/plasma/lectures/node69.html |url-status=live }}</ref>\\n<!---\\n<ref name=frye1983>{{cite book |last1=Frye |first1=Roland Mushat |date=1983 |title=Is God a Creationist? The Religious Case Against Creation-Science |publisher=Scribner's |isbn=978-0-684-17993-3}}</ref>\\n--->\\n<ref name=\\\"geerts_linacre97\\\">{{cite web |last1=Geerts |first1=B. |last2=Linacre |first2=E. |url=http://www-das.uwyo.edu/~geerts/cwx/notes/chap01/tropo.html |title=The height of the tropopause |date=November 1997 |work=Resources in Atmospheric Sciences |publisher=University of Wyoming |access-date=10 August 2006 |archive-date=27 April 2020 |archive-url=https://web.archive.org/web/20200427090700/http://www-das.uwyo.edu/~geerts/cwx/notes/chap01/tropo.html |url-status=live }}</ref>\\n\\n<ref name=\\\"GeolSoc\\\">{{Cite web|year=2012|website=London Geological Society|title=The Crust and Lithosphere|url=https://www.geolsoc.org.uk/flood_basalts_2|access-date=25 October 2020|archive-date=28 October 2020|archive-url=https://web.archive.org/web/20201028212039/https://www.geolsoc.org.uk/flood_basalts_2|url-status=live}}</ref>\\n\\n<ref name=gould1994>{{cite journal |last1=Gould |first1=Stephen J. |author-link1=Stephen Jay Gould |title=The Evolution of Life on Earth |journal=[[Scientific American]] |date=October 1994 |url=http://brembs.net/gould.html |access-date=5 March 2007 |doi=10.1038/scientificamerican1094-84 |volume=271 |issue=4 |pages=84–91 |pmid=7939569 |bibcode=1994SciAm.271d..84G |archive-date=25 February 2007 |archive-url=https://web.archive.org/web/20070225041021/http://brembs.net/gould.html |url-status=live |url-access=subscription }}</ref>\\n\\n<ref name=\\\"Harrison 2002\\\">{{cite book |first1=Roy M. |last1=Harrison |author-link1=Roy M. Harrison |last2=Hester |first2=Ronald E. |date=2002 |title=Causes and Environmental Implications of Increased UV-B Radiation |publisher=Royal Society of Chemistry |isbn=978-0-85404-265-4}}</ref>\\n\\n<ref name=\\\"hbcp2000\\\">{{cite book |author=Various |editor=David R. Lide |date=2000 |title=Handbook of Chemistry and Physics |edition=81st |publisher=CRC Press |isbn=978-0-8493-0481-1 |url=https://archive.org/details/crchandbookofche81lide}}</ref>\\n\\n<ref name=\\\"heat loss\\\">{{cite journal |doi=10.1029/JB086iB12p11535 |title=Oceans and Continents: Similarities and Differences in the Mechanisms of Heat Loss |year=1981 |last1=Sclater |first1=John G |last2=Parsons |first2=Barry |last3=Jaupart |first3=Claude |author-link3=Claude Jaupart|journal=Journal of Geophysical Research |volume=86 |issue=B12 |article-number=11535 |bibcode=1981JGR....8611535S}}</ref>\\n\\n<ref name=hess5_4_569>{{cite journal |last1=Bounama |first1=Christine |year=2001 |last2=Franck |first2=S. |last3=Von Bloh |first3=W. |s2cid=14024675 |title=The fate of Earth's ocean |journal=Hydrology and Earth System Sciences |volume=5 |issue=4 |pages=569–575 |doi=10.5194/hess-5-569-2001 |bibcode=2001HESS....5..569B|doi-access=free }}</ref>\\n<!--\\n<ref name=hessd4_439>{{cite journal |last1=Peel |first1=M. C. |last2=Finlayson |first2=B. L. |last3=McMahon |first3=T. A. |title=Updated world map of the Köppen-Geiger climate classification |journal=Hydrology and Earth System Sciences Discussions |year=2007 |volume=4 |issue=2 |pages=439–473 |doi=10.5194/hessd-4-439-2007 |bibcode=2007HESS...11.1633P |url=https://hal.archives-ouvertes.fr/hal-00298818/file/hessd-4-439-2007.pdf |doi-access=free}}</ref>\\n-->\\n<ref name=hydrologic_cycle>{{cite web |author=Various |date=21 July 1997 |url=http://ww2010.atmos.uiuc.edu/(Gh)/guides/mtr/hyd/home.rxml |title=The Hydrologic Cycle |publisher=University of Illinois |access-date=24 March 2007 |archive-date=2 April 2013 |archive-url=https://web.archive.org/web/20130402205413/http://ww2010.atmos.uiuc.edu/(Gh)/guides/mtr/hyd/home.rxml |url-status=live }}</ref>\\n\\n<ref name=\\\"IERS2004\\\">{{cite book |access-date=29 April 2016 |author=International Earth Rotation and Reference Systems Service (IERS) Working Group |chapter=General Definitions and Numerical Standards |chapter-url=http://www.iers.org/SharedDocs/Publikationen/EN/IERS/Publications/tn/TechnNote32/tn32_009.pdf?__blob=publicationFile&v=1 |editor-first=Dennis D. |editor-last=McCarthy |editor-link=Dennis McCarthy (scientist) |editor2-first=Gérard |editor2-last=Petit |url=http://www.iers.org/SharedDocs/Publikationen/EN/IERS/Publications/tn/TechnNote32/tn32.pdf?__blob=publicationFile&v=1 |title=IERS Conventions (2003) |publisher=Verlag des Bundesamts für Kartographie und Geodäsie |year=2004 |format=PDF |location=Frankfurt am Main |page=12 |isbn=978-3-89888-884-4 |archive-date=12 August 2016 |archive-url=https://web.archive.org/web/20160812171821/https://www.iers.org/SharedDocs/Publikationen/EN/IERS/Publications/tn/TechnNote32/tn32.pdf?__blob=publicationFile&v=1 |url-status=live }}</ref>\\n\\n<ref name=IERS>{{cite web |author=Staff |date=13 March 2021 |url=http://hpiers.obspm.fr/eop-pc/models/constants.html |title=Useful Constants |publisher=[[International Earth Rotation and Reference Systems Service]] |access-date=8 June 2022 |archive-date=29 October 2012 |archive-url=https://web.archive.org/web/20121029154942/http://hpiers.obspm.fr/eop-pc/models/constants.html |url-status=live }}</ref>\\n\\n<ref name=jas22_3_225>{{cite journal |last1=Berkner |first1=L. V. |author-link1=Lloyd Berkner |last2=Marshall |first2=L. C. |title=On the Origin and Rise of Oxygen Concentration in the Earth's Atmosphere |journal=Journal of the Atmospheric Sciences |volume=22 |issue=3 |pages=225–261 |bibcode=1965JAtS...22..225B |doi=10.1175/1520-0469(1965)022<0225:OTOARO>2.0.CO;2 |year=1965|doi-access=free}}</ref>\\n\\n<ref name=jas31_4_1118>{{cite journal |author1-link=Liu Shaw-chen |last1=Liu |first1=S. C. |last2=Donahue |first2=T. M. |author-link2=Thomas Michael Donahue|title=The Aeronomy of Hydrogen in the Atmosphere of the Earth |journal=Journal of the Atmospheric Sciences |volume=31 |issue=4 |pages=1118–1136 |bibcode=1974JAtS...31.1118L |doi=10.1175/1520-0469(1974)031<1118:TAOHIT>2.0.CO;2 |year=1974 |doi-access=free}}</ref>\\n\\n<ref name=jessey>{{cite web |last1=Jessey |first1=David |url=http://geology.csupomona.edu/drjessey/class/Gsc101/Weathering.html |archive-url=https://web.archive.org/web/20070703170212/http://geology.csupomona.edu/drjessey/class/Gsc101/Weathering.html |archive-date=3 July 2007 |title=Weathering and Sedimentary Rocks |website=[[California State Polytechnic University, Pomona]] |access-date=20 March 2007 }}</ref>\\n\\n<ref name=jg31_3_267>{{cite journal |last1=Pollack |first1=Henry N. |author-link1=Henry Pollack (geophysicist)|last2=Hurter |first2=Suzanne J. |last3=Johnson |first3=Jeffrey R. |title=Heat flow from the Earth's interior: Analysis of the global data set |journal=Reviews of Geophysics |volume=31 |issue=3 |pages=267–280 |date=August 1993 |doi=10.1029/93RG01249 |bibcode=1993RvGeo..31..267P}}</ref>\\n<!---\\n<ref name=jge53_3_319>{{cite journal |last1=Ross |first1=M. R. |year=2005 |title=Who Believes What? Clearing up Confusion over Intelligent Design and Young-Earth Creationism |journal=Journal of Geoscience Education |volume=53 |issue=3 |page=319 |url=http://www.nagt.org/files/nagt/jge/abstracts/Ross_v53n3p319.pdf |access-date=28 April 2008 |format=PDF}}</ref>\\n--->\\n\\n<!---\\n<ref name=jrst43_4_419>{{cite journal |last1=Colburn, |first1=A. |last2=Henriques |first2=Laura |year=2006 |title=Clergy views on evolution, creationism, science, and religion |journal=Journal of Research in Science Teaching |volume=43 |issue=4 |pages=419–442 |doi=10.1002/tea.20109 |bibcode=2006JRScT..43..419C}}</ref>\\n--->\\n\\n<ref name=kennish2001>{{cite book |first1=Michael J. |last1=Kennish |author-link1=Michael J. Kennish|date=2001 |title=Practical handbook of marine science |page=35 |edition=3rd |publisher=CRC Press |location=Boca Raton, Florida|series=Marine science series |isbn=978-0-8493-2391-1|doi=10.1201/9781420038484}}</ref>\\n\\n<ref name=kious_tilling1999>{{cite web |last1=Kious |first1=W. J. |last2=Tilling |first2=R. I. |date=5 May 1999 |url=http://pubs.usgs.gov/gip/dynamic/understanding.html |title=Understanding plate motions |publisher=USGS |access-date=2 March 2007 |archive-date=10 August 2011 |archive-url=https://web.archive.org/web/20110810162308/http://pubs.usgs.gov/gip/dynamic/understanding.html |url-status=live }}</ref>\\n\\n<ref name=kring>{{cite web |last1=Kring |first1=David A |url=http://www.lpi.usra.edu/science/kring/epo_web/impact_cratering/intro/ |title=Terrestrial Impact Cratering and Its Environmental Effects |publisher=Lunar and Planetary Laboratory |access-date=22 March 2007 |archive-date=13 May 2011 |archive-url=https://web.archive.org/web/20110513055527/http://www.lpi.usra.edu/science/kring/epo_web/impact_cratering/intro/ |url-status=live }}</ref>\\n<!--\\n<ref name=kuhn2006>{{cite book |first1=Betsy |last1=Kuhn |date=2006 |title=The race for space: the United States and the Soviet Union compete for the new frontier |page=34 |publisher=Twenty-First Century Books |isbn=978-0-8225-5984-9}}</ref>\\n-->\\n\\n<ref name=layers_earth>{{cite web |author=Staff |url=http://volcano.oregonstate.edu/vwdocs/vwlessons/plate_tectonics/part1.html |archive-url=https://web.archive.org/web/20130211014443/http://volcano.oregonstate.edu/vwdocs/vwlessons/plate_tectonics/part1.html |archive-date=11 February 2013 |title=Layers of the Earth |work=Volcano World|publisher=Oregon State University|access-date=11 March 2007 }}</ref>\\n\\n<ref name=lin2006>{{cite web |first1=Haosheng |last1=Lin |title=Animation of precession of moon orbit |work=Survey of Astronomy AST110-6 |year=2006 |publisher=University of Hawaii at Manoa |url=http://www.ifa.hawaii.edu/users/lin/ast110-6/applets/precession_of_moon_orbit.htm |access-date=10 September 2010 |archive-date=31 December 2010 |archive-url=https://web.archive.org/web/20101231083800/http://www.ifa.hawaii.edu/users/lin/ast110-6/applets/precession_of_moon_orbit.htm |url-status=live }}</ref>\\n\\n<ref name=liungman2004>{{cite book |first1=Carl G. |last1=Liungman |date=2004 |chapter=Group 29: Multi-axes symmetric, both soft and straight-lined, closed signs with crossing lines |title=Symbols&nbsp;– Encyclopedia of Western Signs and Ideograms |pages=281–282 |publisher=Ionfox AB |location=New York |isbn=978-91-972705-0-2}}</ref>\\n\\n<ref name=michon2006>{{cite web |last1=Scott |first1=Michon |date=24 April 2006 |url=http://earthobservatory.nasa.gov/Study/HeatBucket/ |title=Earth's Big heat Bucket |publisher=NASA Earth Observatory |access-date=14 March 2007 |archive-date=16 September 2008 |archive-url=https://web.archive.org/web/20080916014057/http://earthobservatory.nasa.gov/Study/HeatBucket/ |url-status=live }}</ref>\\n\\n<ref name=milbert_smith96>{{cite web |last1=Milbert |first1=D. G. |last2=Smith |first2=D. A |url=http://www.ngs.noaa.gov/PUBS_LIB/gislis96.html |title=Converting GPS Height into NAVD88 Elevation with the GEOID96 Geoid Height Model |publisher=National Geodetic Survey, NOAA |access-date=7 March 2007 |archive-date=20 August 2011 |archive-url=https://web.archive.org/web/20110820090214/http://www.ngs.noaa.gov/PUBS_LIB/gislis96.html |url-status=live }}</ref>\\n\\n<ref name=\\\"moon_fact_sheet\\\">{{cite web |last1=Williams |first1=David R. |date=1 September 2004 |url=http://nssdc.gsfc.nasa.gov/planetary/factsheet/moonfact.html |title=Moon Fact Sheet |publisher=NASA |access-date=21 March 2007 |archive-date=13 June 2020 |archive-url=https://web.archive.org/web/20200613083816/https://nssdc.gsfc.nasa.gov/planetary/factsheet/moonfact.html |url-status=live }}</ref>\\n\\n<ref name=\\\"moran2005\\\">{{cite web |last1=Moran |first1=Joseph M. |year=2005 |url=http://www.nasa.gov/worldbook/weather_worldbook.html |archive-url=https://web.archive.org/web/20101213184908/http://www.nasa.gov/worldbook/weather_worldbook.html |archive-date=13 December 2010 |title=Weather |work=World Book Online Reference Center |publisher=NASA/World Book, Inc |access-date=17 March 2007 }}</ref>\\n\\n<ref name=mullen2002>{{cite web |last1=Mullen |first1=Leslie |date=11 June 2002 |url=http://www.astrobio.net/news/article223.html |archive-url=https://web.archive.org/web/20070630122335/http://www.astrobio.net/news/article223.html |archive-date=30 June 2007 |title=Salt of the Early Earth |work=NASA Astrobiology Magazine |access-date=14 March 2007}}</ref>\\n<!--\\n<ref name=nasa_rg_iss2007>{{cite web |date=16 January 2007 |url=http://www.nasa.gov/mission_pages/station/news/ISS_Reference_Guide.html |title=Reference Guide to the International Space Station |work=NASA |access-date=23 December 2008}}</ref>\\n\\n<ref name=nathist106_2_16>{{cite journal |last1=Gould |first1=Stephen J. |author-link1=Stephen J. Gould|year=1997 |title=Nonoverlapping magisteria |journal=Natural History |volume=106 |issue=2 |pages=16–22 |url=http://www.jbburnett.com/resources/gould_nonoverlapping.pdf |access-date=28 April 2008 |format=PDF}}</ref>\\n--->\\n<ref name=nasa20051201>{{cite web |author=Astrophysicist team |date=1 December 2005 |url=http://imagine.gsfc.nasa.gov/docs/ask_astro/answers/030827a.html |title=Earth's location in the Milky Way |publisher=NASA |access-date=11 June 2008|archive-url=https://web.archive.org/web/20080701122913/http://imagine.gsfc.nasa.gov/docs/ask_astro/answers/030827a.html |archive-date=1 July 2008}}</ref>\\n\\n<ref name=natsci_oxy4>{{cite web |last1=Morris |first1=Ron M |url=http://seis.natsci.csulb.edu/rmorris/oxy/oxy4.html |title=Oceanic Processes |publisher=NASA Astrobiology Magazine |access-date=14 March 2007 |archive-url=https://web.archive.org/web/20090415082741/http://seis.natsci.csulb.edu/rmorris/oxy/oxy4.html |archive-date=15 April 2009}}</ref>\\n\\n<ref name=\\\"ngdc2006\\\">{{cite web |last1=Sandwell |first1=D. T. |last2=Smith |first2=Walter H. F. |author-link2=Walter H. F. Smith|date=7 July 2006 |url=http://www.ngdc.noaa.gov/mgg/bathymetry/predicted/explore.HTML |title=Exploring the Ocean Basins with Satellite Altimeter Data |publisher=NOAA/NGDC |access-date=21 April 2007|archive-url=https://archive.today/20140715142212/http://www.ngdc.noaa.gov/mgg/bathymetry/predicted/explore.HTML|archive-date=15 July 2014}}</ref>\\n\\n<ref name=\\\"NIST2008\\\">{{Cite book |url=http://physics.nist.gov/Pubs/SP330/sp330.pdf |title=The international system of units (SI) |publisher=[[United States Department of Commerce]], [[National Institute of Standards and Technology|NIST]] Special Publication 330 |edition=2008 |page=52 |archive-url=https://web.archive.org/web/20090205071943/https://physics.nist.gov/Pubs/SP330/sp330.pdf |archive-date=5 February 2009}}</ref>\\n\\n<ref name=noaa20070307>{{cite web |display-authors=1 |last1=Mueller |first1=R. D. |last2=Roest |first2=W. R. |last3=Royer |first3=J.-Y. |last4=Gahagan |first4=L. M. |last5=Sclater |first5=J. G. |date=7 March 2007 |url=http://www.ngdc.noaa.gov/mgg/fliers/96mgg04.html |title=Age of the Ocean Floor Poster |publisher=NOAA |access-date=14 March 2007 |archive-date=5 August 2011 |archive-url=https://web.archive.org/web/20110805232321/http://www.ngdc.noaa.gov/mgg/fliers/96mgg04.html |url-status=live }}</ref>\\n\\n<ref name=ocean23_2_112>{{Cite journal |last1=Charette |first1=Matthew A. |last2=Smith |first2=Walter H. F. |author-link2=Walter H. F. Smith|title=The Volume of Earth's Ocean |journal=Oceanography |volume=23 |issue=2 |pages=112–114 |date=June 2010 |doi=10.5670/oceanog.2010.51 |doi-access=free|bibcode=2010Ocgpy..23b.112C |hdl=1912/3862 |hdl-access=free }}</ref>\\n\\n<ref name=\\\"OWID_2019\\\">{{Cite journal |last1=Ritchie |first1=H. |author-link=Hannah Ritchie |last2=Roser |first2=M. |author-link2=Max Roser |date=2019 |title=Land Use |url=https://ourworldindata.org/land-use |access-date=26 October 2020 |journal=Our World in Data |archive-date=11 April 2019 |archive-url=https://web.archive.org/web/20190411232356/https://ourworldindata.org/land-use |url-status=live }}</ref>\\n\\n<ref name=\\\"OWID_urbanization_2019\\\">{{Cite journal |last1=Ritchie |first1=H. |author-link=Hannah Ritchie |last2=Roser |first2=M. |author-link2=Max Roser |date=2019 |title=What share of people will live in urban areas in the future? |url=https://ourworldindata.org/urbanization#what-share-of-people-will-live-in-urban-areas-in-the-future |access-date=26 October 2020 |journal=Our World in Data |archive-date=29 October 2020 |archive-url=https://web.archive.org/web/20201029185610/https://ourworldindata.org/urbanization#what-share-of-people-will-live-in-urban-areas-in-the-future |url-status=live }}</ref>\\n\\n<ref name=physorg20100304>{{cite news |author=Staff |title=Oldest measurement of Earth's magnetic field reveals battle between Sun and Earth for our atmosphere |date=4 March 2010 |work=[[Phys.org]] |url=http://www.physorg.com/news186922627.html |access-date=27 March 2010 |archive-date=27 April 2011 |archive-url=https://web.archive.org/web/20110427064855/http://www.physorg.com/news186922627.html |url-status=live }}</ref>\\n\\n<ref name=\\\"Pidwirny 2006_8\\\">{{cite book |last=Pidwirny |first=Michael |date=2 February 2006 |chapter=8(o). Introduction to the Oceans {{!}} Table 8o-1: Surface area of our planet covered by oceans and continents. |title=Fundamentals of Physical Geography, 2nd Edition |publisher=[[University of British Columbia, Okanagan]] |chapter-url=http://www.physicalgeography.net/fundamentals/8o.html |access-date=26 November 2007 |archive-date=9 December 2006 |archive-url=https://web.archive.org/web/20061209125035/http://www.physicalgeography.net/fundamentals/8o.html |url-status=live}}</ref>\\n\\n<ref name=\\\"Pidwirny2006_7\\\">{{cite web |last1=Pidwirny |first1=Michael |year=2006 |url=http://www.physicalgeography.net/fundamentals/7h.html |title=Fundamentals of Physical Geography (2nd Edition) |publisher=University of British Columbia, Okanagan |access-date=19 March 2007 |archive-date=15 August 2011 |archive-url=https://web.archive.org/web/20110815014033/http://www.physicalgeography.net/fundamentals/7h.html |url-status=live }}</ref>\\n\\n<ref name=pnas1_24_9576>{{cite journal |last1=Li |first1=King-Fai |last2=Pahlevan |first2=Kaveh |last3=Kirschvink |first3=Joseph L. |author-link3=Joseph Kirschvink |last4=Yung |first4=Yuk L. |author-link4=Yuk L. Yung |year=2009 |title=Atmospheric pressure as a natural climate regulator for a terrestrial planet with a biosphere |journal=Proceedings of the National Academy of Sciences |volume=106 |issue=24 |pages=9576–9579 |url=http://www.gps.caltech.edu/~kfl/paper/Li_PNAS2009.pdf |access-date=19 July 2009 |doi=10.1073/pnas.0809436106 |pmid=19487662 |pmc=2701016 |bibcode=2009PNAS..106.9576L |doi-access=free |archive-date=4 July 2009 |archive-url=https://web.archive.org/web/20090704102832/http://www.gps.caltech.edu/~kfl/paper/Li_PNAS2009.pdf |url-status=live }}</ref>\\n\\n<ref name=pnas71_12_6973>{{cite journal |last1=Morgan |first1=J. W. |last2=Anders |first2=E. |title=Chemical composition of Earth, Venus, and Mercury |journal=Proceedings of the National Academy of Sciences |year=1980 |volume=77 |issue=12 |pages=6973–6977 |doi=10.1073/pnas.77.12.6973 |pmid=16592930 |pmc=350422 |bibcode=1980PNAS...77.6973M|doi-access=free }}</ref>\\n\\n<ref name=podp2000>{{cite web |last1=Meschede |first1=Martin |last2=Barckhausen |first2=Udo |date=20 November 2000 |url=http://www-odp.tamu.edu/publications/170_SR/chap_07/chap_07.htm |title=Plate Tectonic Evolution of the Cocos-Nazca Spreading Center |work=Proceedings of the Ocean Drilling Program |publisher=Texas A&M University |access-date=2 April 2007 |archive-date=8 August 2011 |archive-url=https://web.archive.org/web/20110808174226/http://www-odp.tamu.edu/publications/170_SR/chap_07/chap_07.htm |url-status=live }}</ref>\\n\\n<ref name=ps20_5_16>{{cite journal |last1=Senne |first1=Joseph H. |title=Did Edmund Hillary Climb the Wrong Mountain |url=http://archives.profsurv.com/magazine/article.aspx?i=589 |journal=Professional Surveyor |year=2000 |volume=20 |issue=5 |pages=16–21 |access-date=16 July 2015 |archive-date=17 July 2015 |archive-url=https://web.archive.org/web/20150717212545/http://archives.profsurv.com/magazine/article.aspx?i=589 }}</ref>\\n\\n<ref name=psc>{{cite web |author=Staff |url=http://www.lakepowell.net/sciencecenter/paleoclimate.htm |title=Paleoclimatology&nbsp;– The Study of Ancient Climates |publisher=Page Paleontology Science Center |access-date=2 March 2007 |archive-url=https://web.archive.org/web/20070304002646/http://www.lakepowell.net/sciencecenter/paleoclimate.htm |archive-date=4 March 2007}}</ref>\\n\\n<ref name=ptrsl360_1795_1227>{{cite journal |last1=Alfè |first1=D. |last2=Gillan |first2=M. J. |last3=Vočadlo |first3=L. |last4=Brodholt |first4=J. |last5=Price |first5=G. D. |title=The ''ab initio'' simulation of the Earth's core |journal=Philosophical Transactions of the Royal Society |year=2002 |volume=360 |issue=1795 |pages=1227–1244 |url=http://chianti.geol.ucl.ac.uk/~dario/pubblicazioni/PTRSA2002.pdf |access-date=28 February 2007 |doi=10.1098/rsta.2002.0992 |pmid=12804276 |bibcode=2002RSPTA.360.1227A |s2cid=21132433 |archive-date=30 September 2009 |archive-url=https://web.archive.org/web/20090930142841/http://chianti.geol.ucl.ac.uk/~dario/pubblicazioni/PTRSA2002.pdf |url-status=live }}</ref>\\n\\n<ref name=rahmstorf2003>{{cite web |first1=Stefan |last1=Rahmstorf |author-link=Stefan Rahmstorf |year=2003 |url=http://www.pik-potsdam.de/~stefan/thc_fact_sheet.html |title=The Thermohaline Ocean Circulation |work=Potsdam Institute for Climate Impact Research |access-date=21 April 2007 |archive-date=27 March 2013 |archive-url=https://web.archive.org/web/20130327151821/http://www.pik-potsdam.de/~stefan/thc_fact_sheet.html |url-status=live }}</ref>\\n\\n<ref name=reilly20091022>{{cite news |first1=Michael |last1=Reilly |date=22 October 2009 |title=Controversial Moon Origin Theory Rewrites History |url=http://news.discovery.com/space/moon-earth-formation.html |website=Discovery News |archive-url=https://web.archive.org/web/20100109042800/http://news.discovery.com/space/moon-earth-formation.html |archive-date=9 January 2010 |access-date=30 January 2010}}</ref>\\n\\n<ref name=sa282_6_90>{{cite journal |last1=Doolittle |first1=W. Ford |author-link1=Ford Doolittle|last2=Worm |first2=Boris |author-link2=Boris Worm |url=http://shiva.msu.montana.edu/courses/mb437_537_2005_fall/docs/uprooting.pdf |archive-url=https://web.archive.org/web/20110715111244/http://shiva.msu.montana.edu/courses/mb437_537_2005_fall/docs/uprooting.pdf |archive-date=15 July 2011 |title=Uprooting the tree of life |journal=[[Scientific American]] |date=February 2000 |volume=282 |issue=6 |pages=90–95 |doi=10.1038/scientificamerican0200-90 |pmid=10710791 |bibcode=2000SciAm.282b..90D}}</ref>\\n\\n<ref name=sadava_heller2006>{{cite book |last1=Sadava |first1=David E. |last2=Heller |first2=H. Craig |last3=Orians |first3=Gordon H. |author-link3=Gordon Orians|title=Life, the Science of Biology |publisher=MacMillan |date=2006 |edition=8th |page=[https://archive.org/details/lifescienceofbio00davi/page/1114 1114] |isbn=978-0-7167-7671-0 |url=https://archive.org/details/lifescienceofbio00davi/page/1114}}</ref>\\n\\n<ref name=sample2005>{{cite web |first1=Sharron |last1=Sample |date=21 June 2005 |url=http://science.hq.nasa.gov/oceans/physical/SST.html |title=Sea Surface Temperature |publisher=NASA |access-date=21 April 2007 |archive-url=https://web.archive.org/web/20130427045816/http://science.nasa.gov/earth-science/oceanography/ |archive-date=27 April 2013}}</ref>\\n\\n<ref name=sanders20031210>{{cite news |first1=Robert |last1=Sanders |title=Radioactive potassium may be major heat source in Earth's core |publisher=UC Berkeley News |date=10 December 2003 |url=http://www.berkeley.edu/news/media/releases/2003/12/10_heat.shtml |access-date=28 February 2007 |archive-date=26 August 2013 |archive-url=https://web.archive.org/web/20130826214233/http://www.berkeley.edu/news/media/releases/2003/12/10_heat.shtml |url-status=live }}</ref>\\n\\n<ref name=sci293_5531_839>{{cite journal |title=Biogenic Methane, Hydrogen Escape, and the Irreversible Oxidation of Early Earth |last1=Catling |first1=David C. |author-link1=David Catling |last2=Zahnle |first2=Kevin J. |author-link2=Kevin J. Zahnle|last3=McKay |first3=Christopher P. |author-link3=Christopher McKay|journal=Science |volume=293 |issue=5531 |pages=839–843 |doi=10.1126/science.1061976 |year=2001 |pmid=11486082 |bibcode=2001Sci...293..839C |citeseerx=10.1.1.562.2763|s2cid=37386726 }}</ref>\\n\\n<ref name=science164_1229>{{cite journal |last1=Hurley |first1=P. M. |last2=Rand |first2=J. R. |date=June 1969 |title=Pre-drift continental nuclei |journal=Science |volume=164 |pages=1229–1242 |doi=10.1126/science.164.3885.1229 |pmid=17772560 |issue=3885 |bibcode=1969Sci...164.1229H}}</ref>\\n\\n<ref name=science246_4926_103>{{cite journal |last1=Richards |first1=M. A. |last2=Duncan |first2=R. A. |last3=Courtillot |first3=V. E. |author-link3=Vincent Courtillot |s2cid=9147772 |title=Flood Basalts and Hot-Spot Tracks: Plume Heads and Tails |journal=Science |year=1989 |volume=246 |issue=4926 |pages=103–107 |bibcode=1989Sci...246..103R |doi=10.1126/science.246.4926.103 |pmid=17837768}}</ref>\\n\\n<ref name=science299_5607_673>{{cite journal |last1=Rona |first1=Peter A. |author-link1=Peter A. Rona|title=Resources of the Sea Floor |journal=Science |year=2003 |volume=299 |issue=5607 |pages=673–674 |doi=10.1126/science.1080679 |pmid=12560541|s2cid=129262186 }}</ref>\\n\\n<ref name=science310_5756_1947>{{cite journal |doi=10.1126/science.1117926 |date=December 2005 |last1=Harrison |first1=T. M.|author-link=T. Mark Harrison |last2=Blichert-Toft |first2=J. |author2-link=Janne Blichert-Toft |last3=Müller |first3=W. |last4=Albarede |first4=F. |author4-link=Francis Albarède |last5=Holden |first5=P. |last6=Mojzsis |first6=S. |s2cid=11208727 |title=Heterogeneous Hadean hafnium: evidence of continental crust at 4.4 to 4.5 ga |volume=310 |issue=5756 |pages=1947–1950 |pmid=16293721 |journal=Science |bibcode=2005Sci...310.1947H|doi-access=free }}</ref>\\n\\n<ref name=sciweek2004>{{cite web |author=Staff |year=2004 |url=http://scienceweek.com/2004/rmps-23.htm |archive-url=https://web.archive.org/web/20070713053611/http://scienceweek.com/2004/rmps-23.htm |title=Stratosphere and Weather; Discovery of the Stratosphere |work=Science Week |access-date=14 March 2007 |archive-date=13 July 2007 }}</ref>\\n<!---\\n<ref name=sec_nap2008>{{cite book |author=National Academy of Sciences, Institute of Medicine |title=Science, Evolution, and Creationism |url=http://books.nap.edu/openbook.php?record_id=11876&page=R1 |date=2008 |publisher=National Academies Press |location=Washington, DC |isbn=978-0-309-10586-6 |access-date=13 March 2011}}</ref>\\n--->\\n<ref name=seidelmann1992>{{cite book |last1=Seidelmann |first1=P. Kenneth |date=1992 |title=Explanatory Supplement to the Astronomical Almanac |page=48 |publisher=University Science Books |location=Mill Valley, CA |isbn=978-0-935702-68-2}}</ref>\\n\\n<ref name=seligman2008>{{cite web |first1=Courtney |last1=Seligman |year=2008 |url=http://cseligman.com/text/planets/innerstructure.htm |title=The Structure of the Terrestrial Planets |work=Online Astronomy eText Table of Contents |publisher=cseligman.com |access-date=28 February 2008 |archive-date=22 March 2008 |archive-url=https://web.archive.org/web/20080322043957/http://cseligman.com/text/planets/innerstructure.htm |url-status=live }}</ref>\\n\\n<ref name=shayler_vis2005>{{cite book |first1=David |last1=Shayler |first2=Bert |last2=Vis |date=2005 |title=Russia's Cosmonauts: Inside the Yuri Gagarin Training Center |publisher=Birkhäuser |isbn=978-0-387-21894-6}}</ref>\\n\\n<ref name=Stanley_2016>{{Cite journal |last1=Stanley |first1=S. M. |author-link1=Steven M. Stanley |year=2016 |title=Estimates of the magnitudes of major marine mass extinctions in earth history |journal=Proceedings of the National Academy of Sciences of the United States of America |volume=113 |issue=42 |pages=E6325–E6334 |doi=10.1073/pnas.1613094113 |pmid=27698119 |pmc=5081622 |bibcode=2016PNAS..113E6325S |s2cid=23599425 |doi-access=free}}</ref>\\n\\n<ref name=stern2005>{{cite web |last1=Stern |first1=David P. |date=8 July 2005 |url=http://www-spof.gsfc.nasa.gov/Education/wmap.html |title=Exploration of the Earth's Magnetosphere |publisher=NASA |access-date=21 March 2007 |archive-date=14 February 2013 |archive-url=https://web.archive.org/web/20130214033726/http://www-spof.gsfc.nasa.gov/Education/wmap.html }}</ref>\\n\\n<ref name=\\\"sun_future\\\">{{cite journal |last1=Sackmann |first1=I.-J. |last2=Boothroyd |first2=A. I. |last3=Kraemer |first3=K. E. |title=Our Sun. III. Present and Future |journal=Astrophysical Journal |year=1993 |volume=418 |pages=457–468 |doi=10.1086/173407 |bibcode=1993ApJ...418..457S|doi-access=free }}</ref>\\n\\n<ref name=\\\"sun_future_schroder\\\">{{cite journal |first1=K.-P. |last1=Schröder |last2=Connon Smith |first2=Robert |year=2008 |title=Distant future of the Sun and Earth revisited |doi=10.1111/j.1365-2966.2008.13022.x |journal=[[Monthly Notices of the Royal Astronomical Society]] |arxiv=0801.4031 |volume=386 |issue=1 |pages=155–163 |doi-access=free |bibcode=2008MNRAS.386..155S |s2cid=10073988}}<br />See also {{cite news |first=Jason |last=Palmer |url=https://www.newscientist.com/article/dn13369 |archive-url=https://web.archive.org/web/20120415105707/http://www.newscientist.com/article/dn13369 |archive-date=15 April 2012 |title=Hope dims that Earth will survive Sun's death |date=22 February 2008 |work=NewScientist.com news service |access-date=24 March 2008}}</ref>\\n\\n<ref name=tanimoto_ahrens1995>{{cite book |last1=Tanimoto |first1=Toshiro |editor=Thomas J. Ahrens |date=1995 |chapter=Crustal Structure of the Earth |title=Global Earth Physics: A Handbook of Physical Constants |series=AGU Reference Shelf |volume=1 |issue=1 |publisher=American Geophysical Union |location=Washington, DC |doi=10.1029/RF001 |isbn=978-0-87590-851-9 |chapter-url=http://www.agu.org/reference/gephys/15_tanimoto.pdf |archive-url=https://web.archive.org/web/20061016194153/http://www.agu.org/reference/gephys/15_tanimoto.pdf |archive-date=16 October 2006 |access-date=3 February 2007 |bibcode=1995geph.conf.....A}}</ref>\\n\\n<ref name=tp322_19>{{cite journal |doi=10.1016/S0040-1951(00)00055-X |title=Early formation and long-term stability of continents resulting from decompression melting in a convecting mantle |year=2000 |last1=De Smet |first1=J. |journal=Tectonophysics |volume=322 |issue=1–2 |pages=19–33 |bibcode=2000Tectp.322...19D |last2=Van Den Berg |first2=A.P. |last3=Vlaar |first3=N.J. |hdl=1874/1653 |url=https://dspace.library.uu.nl/bitstream/1874/1653/1/desmet_etal_00.pdf |access-date=25 August 2019 |archive-date=31 March 2021 |archive-url=https://web.archive.org/web/20210331100352/https://dspace.library.uu.nl/bitstream/handle/1874/1653/desmet_etal_00.pdf;jsessionid=72BE4EE7164C98D3E91FAC2C1347084F?sequence=1 |url-status=live }}</ref>\\n\\n<ref name=\\\"T&S 137\\\">{{cite book |last1=Turcotte |first1=D. L. |author-link1=Donald L. Turcotte|last2=Schubert |first2=G. |title=Geodynamics |publisher=Cambridge University Press |location=Cambridge, England |date=2002 |edition=2 |page=137 |chapter=4 |isbn=978-0-521-66624-4}}</ref>\\n\\n<ref name=ucs>{{cite web |url=https://www.ucsusa.org/nuclear-weapons/space-weapons/satellite-database |title=UCS Satellite Database |work=Nuclear Weapons & Global Security |publisher=[[Union of Concerned Scientists]] |date=1 September 2021 |access-date=12 January 2022 |archive-date=25 January 2016 |archive-url=https://web.archive.org/web/20160125031401/https://www.ucsusa.org/nuclear-weapons/space-weapons/satellite-database |url-status=live }}</ref>\\n\\n<ref name=usno>{{cite web |title=Selected Astronomical Constants, 2011 |work=The Astronomical Almanac |url=http://asa.usno.navy.mil/SecK/2011/Astronomical_Constants_2011.txt |archive-url=https://web.archive.org/web/20130826043456/http://asa.usno.navy.mil/SecK/2011/Astronomical_Constants_2011.txt |archive-date=26 August 2013 |access-date=25 February 2011}}</ref>\\n\\n<ref name=USNO_TSD>{{cite web |title=Leap seconds |publisher=Time Service Department, USNO |url=http://tycho.usno.navy.mil/leapsec.html |archive-url=https://web.archive.org/web/20150312003149/http://tycho.usno.navy.mil/leapsec.html |access-date=23 September 2008 |archive-date=12 March 2015}}</ref>\\n\\n<ref name=vazquez_etal2006>{{cite journal |last1=Vázquez |first1=M. |first2=P. Montañés |last2=Rodríguez |last3=Palle |first3=E. |year=2006 |url=http://www.iac.es/folleto/research/preprints/files/PP06024.pdf |title=The Earth as an Object of Astrophysical Interest in the Search for Extrasolar Planets |journal=Lecture Notes and Essays in Astrophysics |volume=2 |page=49 |access-date=21 March 2007 |bibcode=2006LNEA....2...49V |bibcode-access=free |archive-url=https://web.archive.org/web/20110817220342/http://www.iac.es/folleto/research/preprints/files/PP06024.pdf |archive-date=17 August 2011 }}</ref>\\n\\n<ref name=VSOP87>{{cite journal |title=Numerical expressions for precession formulae and mean elements for the Moon and planets |journal=Astronomy and Astrophysics |volume=282 |issue=2 |pages=663–683 |date=February 1994 |last1=Simon |first1=J.L. |display-authors=et al|bibcode=1994A&A...282..663S}}</ref>\\n\\n<ref name=ward_brownlee2002>{{cite book |last1=Ward |first1=Peter D. |author-link1=Peter Ward (paleontologist)|last2=Brownlee |first2=Donald |author-link2=Donald E. Brownlee |date=2002 |title=The Life and Death of Planet Earth: How the New Science of Astrobiology Charts the Ultimate Fate of Our World |publisher=Times Books, Henry Holt and Company |location=New York |isbn=978-0-8050-6781-1 |url=https://archive.org/details/isbn_9780805067811}}</ref>\\n\\n<ref name=\\\"watersource\\\">{{cite journal |display-authors=1 |last1=Morbidelli |first1=A. |author-link1=Alessandro Morbidelli (astronomer)|last2=Chambers |first2=J. |last3=Lunine |first3=J. I. |last4=Petit |first4=J. M. |last5=Robert |first5=F. |last6=Valsecchi |first6=G. B. |last7=Cyr |first7=K. E. |title=Source regions and time scales for the delivery of water to Earth |journal=Meteoritics & Planetary Science |year=2000 |volume=35 |issue=6 |pages=1309–1320 |bibcode=2000M&PS...35.1309M |doi=10.1111/j.1945-5100.2000.tb01518.x |doi-access=free}}</ref>\\n\\n<!--\\n<ref name=wekn_bulakh2004>{{cite book |last1=Wenk |first1=Hans-Rudolf |author-link2=Hans-Rudolf Wenk|last2=Bulakh |first2=Andreĭ Glebovich |title=Minerals: their constitution and origin |page=359 |publisher=Cambridge University Press |date=2004 |isbn=978-0-521-52958-7}}</ref>\\n-->\\n\\n<ref name=\\\"WGS-84-2\\\">{{cite web |first1=Sigurd |last1=Humerfelt |date=26 October 2010 |title=How WGS 84 defines Earth |url=http://home.online.no/~sigurdhu/WGS84_Eng.html |website=Home Online |access-date=29 April 2011 |archive-url=https://web.archive.org/web/20110424104419/http://home.online.no/~sigurdhu/WGS84_Eng.html |archive-date=24 April 2011}}</ref>\\n\\n<ref name=\\\"Williams1994\\\">{{cite journal |last1=Williams |first1=James G. |title=Contributions to the Earth's obliquity rate, precession, and nutation |journal=The Astronomical Journal |volume=108 |year=1994 |page=711 |issn=0004-6256 |doi=10.1086/117108 |bibcode=1994AJ....108..711W|s2cid=122370108 |doi-access=free }}</ref>\\n\\n<ref name=williams_santosh2004>{{cite book |first1=John James William |last1=Rogers |last2=Santosh |first2=M. |date=2004 |title=Continents and Supercontinents |page=48 |publisher=Oxford University Press US |isbn=978-0-19-516589-0}}</ref>\\n\\n<ref name=zeilik1998>{{cite book |last1=Zeilik |first1=Michael |last2=Gregory |first2=Stephen A. |title=Introductory Astronomy & Astrophysics |edition=4th |page=56 |publisher=Saunders College Publishing |isbn=978-0-03-006228-5 |date=1998}}</ref>\\n\\n<!--<ref name=\\\"Luzum2011\\\">{{cite journal |last1=Luzum |first1=Brian |last2=Capitaine |first2=Nicole |author-link2=Nicole Capitaine|last3=Fienga |first3=Agnès |author-link3=Agnès Fienga|last4=Folkner |first4=William |last5=Fukushima |first5=Toshio |last6=Hilton |first6=James |last7=Hohenkerk |first7=Catherine |last8=Krasinsky |first8=George |last9=Petit |first9=Gérard |last10=Pitjeva |first10=Elena |last11=Soffel |first11=Michael |last12=Wallace |first12=Patrick |display-authors=5 |title=The IAU 2009 system of astronomical constants: The report of the IAU working group on numerical standards for Fundamental Astronomy |journal=Celestial Mechanics and Dynamical Astronomy |volume=110 |issue=4 |date=August 2011 |pages=293–304 |bibcode=2011CeMDA.110..293L |doi=10.1007/s10569-011-9352-4 |doi-access=free}}</ref>-->\\n\\n<ref name=earthmass>{{cite web |url=https://ssd.jpl.nasa.gov/planets/phys_par.html |title=Planetary Physical Parameters |publisher=[[Jet Propulsion Laboratory]] |date=2008 |access-date=11 August 2022}}</ref>\\n\\n<ref name=Narottam2008>{{cite book |url={{GBurl|id=i4kASIoKym8C|p=40}} |title=Climate Change and International Politics |publisher=Kalpaz Publications |first=Narottam |last=Gaan |page=40 |year=2008 |isbn=978-81-7835-641-9}}</ref>\\n}}\\n\\n== External links ==\\n{{Spoken Wikipedia|En-Earth-article.ogg|date=22 April 2021}}\\n* [https://solarsystem.nasa.gov/planets/earth/overview/ Earth&nbsp;– Profile] – Solar System Exploration – [[NASA]]\\n* [http://earthobservatory.nasa.gov/ Earth Observatory] – NASA\\n* Earth – Videos – International Space Station:\\n** [https://www.youtube.com/watch?v=74mhQyuyELQ Video (01:02)] on YouTube – Earth (time-lapse)\\n** [https://www.youtube.com/watch?v=l6ahFFFQBZY Video (00:27)] on YouTube – Earth and [[aurora]]s (time-lapse)\\n* [https://www.google.com/maps/@36.6233227,-44.9959756,5662076m/data=!3m1!1e3 Google Earth 3D], interactive map\\n* [https://thehappykoala.github.io/Harmony-of-the-Spheres/#/category/Solar%20System/scenario/The%20Earth%20and%20Moon%20System Interactive 3D visualization of the Sun, Earth and Moon system]\\n* [http://portal.gplates.org/ GPlates Portal] (University of Sydney)\\n{{Earth|state=uncollapsed}}\\n{{Earth science}}\\n{{Solar System}}\\n{{Geology}}\\n{{Navboxes\\n|title = Other articles related to Earth\\n|list =\\n{{Earth's location}}\\n{{Nature nav}}\\n{{Earthsinterior}}\\n}}\\n{{Authority control}}\\n{{Subject bar|wikt=Earth|q=Earth|m=Earth|n=Earth|v=Earth|s=Earth|b=Earth|commons=Category:Earth|portal1=Biology|portal2=Earth sciences|portal3=Ecology|portal4=Geography|portal5=Volcanoes|portal6=Solar system|portal7=Outer space|portal8=Weather|portal9=World}}\\n\\n[[Category:Earth| ]]\\n[[Category:Astronomical objects known since antiquity]]\\n[[Category:Global natural environment]]\\n[[Category:Nature]]\\n[[Category:Planets of the Solar System]]\\n[[Category:Solar System]]\\n[[Category:Terrestrial planets]]\\n[[Category:Earth sciences]]\"}"
          ]
        }
      ],
      "source": [
        "!curl https://en.wikipedia.org/w/rest.php/v1/page/Earth"
      ]
    },
    {
      "cell_type": "code",
      "execution_count": 28,
      "id": "b2242d4e-8430-4de9-8cf7-3ad2f9a22b28",
      "metadata": {
        "colab": {
          "base_uri": "https://localhost:8080/",
          "height": 476
        },
        "id": "b2242d4e-8430-4de9-8cf7-3ad2f9a22b28",
        "outputId": "dbe1abc0-8e1b-4e73-c092-d263002c41df"
      },
      "outputs": [
        {
          "output_type": "execute_result",
          "data": {
            "text/plain": [
              "<IPython.core.display.Markdown object>"
            ],
            "text/markdown": "## Exploring the Technical Advantages of LangGraph in AI Frameworks\n\n### Summary\n\nIn the rapidly evolving landscape of AI agent frameworks, LangGraph stands out for its unique capabilities in handling complex language models and stateful workflows. As part of the LangChain ecosystem, LangGraph is specifically designed to build stateful, multi-actor applications powered by large language models (LLMs). It introduces the ability to create and manage cyclical graphs, which is crucial for developing sophisticated agent runtimes [1]. This modular framework allows developers to define, coordinate, and execute multiple LLM agents efficiently, ensuring seamless information exchanges and proper execution order [1].\n\nLangGraph's architecture is based on directed graphs, where each node represents an agent or processing step, and edges control the flow of data and execution between them. This structure not only enhances collaboration among agents through shared state but also supports dynamic routing based on runtime conditions [2]. The modular design of LangGraph allows for independently testable agents, making it adaptable to changing conditions and ideal for complex, adaptive AI systems [2][3].\n\nCompared to other frameworks like LlamaIndex, CrewAI, and Microsoft Semantic Kernel, LangGraph excels in its ability to manage complex, stateful workflows and its modularity, which avoids the constraints of a bulky, \"batteries-included\" approach [1][4]. This flexibility is particularly beneficial for businesses looking to enhance efficiency and productivity through streamlined operations and improved decision-making [2]. The visualization of workflows as graphs in LangGraph also aids in debugging and scalability, allowing developers to quickly pinpoint errors and add or remove nodes without disrupting the entire workflow [3].\n\n### Sources\n[1] https://www.turing.com/resources/ai-agent-frameworks  \n[2] https://medium.com/@shuv.sdr/langgraph-architecture-and-design-280c365aaf2c  \n[3] https://dev.to/techstuff/langgraph-designing-ai-workflows-with-graphs-19cf  \n[4] https://blog.langchain.com/how-minimal-built-a-multi-agent-customer-support-system-with-langgraph-langsmith/  "
          },
          "metadata": {},
          "execution_count": 28
        }
      ],
      "source": [
        "from IPython.display import Markdown\n",
        "messages = [HumanMessage(f\"所以你说你在写一篇关于{topic}的文章?\")]\n",
        "thread = {\"configurable\": {\"thread_id\": \"1\"}}\n",
        "interview = interview_graph.invoke({\"analyst\": analysts[0], \"messages\": messages, \"max_num_turns\": 2}, thread)\n",
        "Markdown(interview['sections'][0])"
      ]
    },
    {
      "cell_type": "markdown",
      "id": "3b739e87-68bb-4e96-a86a-704e84240a6c",
      "metadata": {
        "id": "3b739e87-68bb-4e96-a86a-704e84240a6c"
      },
      "source": [
        "### 并行访谈：Map-Reduce\n",
        "\n",
        "我们通过 `Send()` API 并行运行每个访谈（map 步）。\n",
        "\n",
        "随后在 reduce 步中将它们合并为报告主体。\n",
        "\n",
        "### 收尾（Finalize）\n",
        "\n",
        "最后增加一步，为最终报告写出引言与结论。"
      ]
    },
    {
      "cell_type": "code",
      "execution_count": 29,
      "id": "6a0042f9-5b9f-441a-9e8d-7d8189f44140",
      "metadata": {
        "id": "6a0042f9-5b9f-441a-9e8d-7d8189f44140"
      },
      "outputs": [],
      "source": [
        "import operator\n",
        "from typing import List, Annotated\n",
        "from typing_extensions import TypedDict\n",
        "\n",
        "class ResearchGraphState(TypedDict):\n",
        "    \"\"\"\n",
        "    研究图状态管理类\n",
        "\n",
        "    用于管理整个研究流程的状态信息，包括分析师生成、并行访谈和报告生成\n",
        "    这是整个研究助理系统的核心状态管理类\n",
        "    \"\"\"\n",
        "    topic: str  # 研究主题\n",
        "    max_analysts: int  # 分析师数量上限\n",
        "    human_analyst_feedback: str  # 人类反馈信息\n",
        "    analysts: List[Analyst]  # 分析师列表\n",
        "    sections: Annotated[list, operator.add]  # 报告小节列表，使用operator.add进行累加\n",
        "    introduction: str  # 最终报告的引言部分\n",
        "    content: str  # 最终报告的主体内容\n",
        "    conclusion: str  # 最终报告的结论部分\n",
        "    final_report: str  # 完整的最终报告"
      ]
    },
    {
      "cell_type": "code",
      "execution_count": 30,
      "id": "c2224592-d2ff-469d-97bd-928809f896d7",
      "metadata": {
        "colab": {
          "base_uri": "https://localhost:8080/",
          "height": 1000
        },
        "id": "c2224592-d2ff-469d-97bd-928809f896d7",
        "outputId": "f6bbc646-9b85-46a0-a5a1-5d64d2f7be4e"
      },
      "outputs": [
        {
          "output_type": "stream",
          "name": "stderr",
          "text": [
            "/tmp/ipython-input-1311232654.py:1: LangGraphDeprecatedSinceV10: Importing Send from langgraph.constants is deprecated. Please use 'from langgraph.types import Send' instead. Deprecated in LangGraph V1.0 to be removed in V2.0.\n",
            "  from langgraph.constants import Send\n"
          ]
        },
        {
          "output_type": "display_data",
          "data": {
            "image/png": "[encoded data removed]",
            "text/plain": [
              "<IPython.core.display.Image object>"
            ]
          },
          "metadata": {}
        }
      ],
      "source": [
        "from langgraph.constants import Send\n",
        "\n",
        "def initiate_all_interviews(state: ResearchGraphState):\n",
        "    \"\"\"\n",
        "    启动所有并行访谈的Map步骤\n",
        "\n",
        "    功能:\n",
        "        1. 检查是否有人类反馈，如果有则重新生成分析师\n",
        "        2. 如果没有反馈，则并行启动所有分析师的访谈流程\n",
        "        3. 使用Send API实现真正的并行执行\n",
        "\n",
        "    参数:\n",
        "        state: 包含分析师列表和研究主题的状态对象\n",
        "\n",
        "    返回:\n",
        "        str 或 List[Send]: 如果有人类反馈返回节点名，否则返回Send对象列表\n",
        "    \"\"\"\n",
        "    # 检查是否有人类反馈\n",
        "    human_analyst_feedback = state.get('human_analyst_feedback')\n",
        "    if human_analyst_feedback:\n",
        "        # 有人类反馈，重新生成分析师\n",
        "        return \"create_analysts\"\n",
        "\n",
        "    # 没有反馈，并行启动所有访谈\n",
        "    else:\n",
        "        topic = state[\"topic\"]\n",
        "        # 为每个分析师创建一个Send对象，实现并行执行\n",
        "        return [\n",
        "            Send(\"conduct_interview\", {\n",
        "                \"analyst\": analyst,\n",
        "                \"messages\": [HumanMessage(\n",
        "                    content=f\"So you said you were writing an article on {topic}?\"\n",
        "                )]\n",
        "            })\n",
        "            for analyst in state[\"analysts\"]\n",
        "        ]\n",
        "\n",
        "# 报告写作指令模板\n",
        "# 指导AI如何将多个分析师的小节整合为统一的报告主体\n",
        "report_writer_instructions = \"\"\"你是一名技术写作者，正在为如下主题撰写报告：\n",
        "\n",
        "{topic}\n",
        "\n",
        "你拥有一支分析师团队。每位分析师完成了两件事：\n",
        "\n",
        "1. 围绕一个具体子主题，访谈了一位专家。\n",
        "2. 将发现写成一份备忘录（memo）。\n",
        "\n",
        "你的任务：\n",
        "\n",
        "1. 你将收到分析师们的备忘录集合。\n",
        "2. 仔细思考每份备忘录的洞见。\n",
        "3. 将它们整合为简洁的总体总结，串联起所有备忘录的中心观点。\n",
        "4. 把每份备忘录的关键信息归纳成一个连贯的单一叙述。\n",
        "\n",
        "报告格式要求：\n",
        "\n",
        "1. 使用 Markdown 格式。\n",
        "2. 报告不要有任何前言。\n",
        "3. 不使用任何小标题。\n",
        "4. 报告以一个标题开头：## Insights\n",
        "5. 报告中不要提及任何分析师的名字。\n",
        "6. 保留备忘录中的引用标注（如 [1]、[2]）。\n",
        "7. 汇总最终来源列表，并以 `## Sources` 作为小节标题。\n",
        "8. 按顺序列出来源且不要重复。\n",
        "\n",
        "[1] Source 1\n",
        "[2] Source 2\n",
        "\n",
        "以下是分析师提供的备忘录，请基于此撰写报告：\n",
        "\n",
        "{context}\"\"\"\n",
        "\n",
        "def write_report(state: ResearchGraphState):\n",
        "    \"\"\"\n",
        "    生成最终报告主体内容的函数（Reduce步骤）\n",
        "\n",
        "    功能:\n",
        "        1. 收集所有分析师的小节内容\n",
        "        2. 将多个小节整合为统一的报告主体\n",
        "        3. 确保报告结构清晰、内容连贯\n",
        "\n",
        "    参数:\n",
        "        state: 包含所有小节内容和研究主题的状态对象\n",
        "\n",
        "    返回:\n",
        "        dict: 包含报告主体内容的字典\n",
        "    \"\"\"\n",
        "    # 获取所有小节内容和研究主题\n",
        "    sections = state[\"sections\"]\n",
        "    topic = state[\"topic\"]\n",
        "\n",
        "    # 将所有小节拼接为完整文本\n",
        "    formatted_str_sections = \"\\n\\n\".join([f\"{section}\" for section in sections])\n",
        "\n",
        "    # 构建系统消息，包含研究主题和小节内容\n",
        "    system_message = report_writer_instructions.format(\n",
        "        topic=topic,\n",
        "        context=formatted_str_sections\n",
        "    )\n",
        "\n",
        "    # 调用大模型生成报告主体\n",
        "    report = llm.invoke([\n",
        "        SystemMessage(content=system_message),\n",
        "        HumanMessage(content=f\"Write a report based upon these memos.\")\n",
        "    ])\n",
        "\n",
        "    return {\"content\": report.content}\n",
        "\n",
        "# 引言和结论写作指令模板\n",
        "# 指导AI如何为报告生成简洁有力的引言和结论\n",
        "intro_conclusion_instructions = \"\"\"你是一名技术写作者，正在完成主题为 {topic} 的报告。\n",
        "\n",
        "你将获得报告的全部小节。\n",
        "\n",
        "你的任务是撰写简洁而有说服力的引言或结论。\n",
        "\n",
        "由用户告知写引言还是结论。\n",
        "\n",
        "两者均不需要任何前言。\n",
        "\n",
        "目标约 100 字：\n",
        "- 引言：精炼预览各小节要点\n",
        "- 结论：精炼回顾各小节要点\n",
        "\n",
        "使用 Markdown 格式。\n",
        "\n",
        "生成的报告使用中文，所有内容都要使用中文，对于特殊的英文术语，可以使用中英文一起表示。\n",
        "\n",
        "引言要求：创建一个有吸引力的标题，并用 # 作为标题头。\n",
        "\n",
        "引言小节标题使用：## Introduction\n",
        "\n",
        "结论小节标题使用：## Conclusion\n",
        "\n",
        "撰写时可参考以下小节内容：{formatted_str_sections}\"\"\"\n",
        "\n",
        "def write_introduction(state: ResearchGraphState):\n",
        "    \"\"\"\n",
        "    生成报告引言的函数\n",
        "\n",
        "    功能:\n",
        "        1. 基于所有小节内容生成报告引言\n",
        "        2. 提供报告的整体概览和吸引力\n",
        "        3. 为读者提供阅读指导\n",
        "\n",
        "    参数:\n",
        "        state: 包含所有小节内容和研究主题的状态对象\n",
        "\n",
        "    返回:\n",
        "        dict: 包含引言内容的字典\n",
        "    \"\"\"\n",
        "    # 获取所有小节内容和研究主题\n",
        "    sections = state[\"sections\"]\n",
        "    topic = state[\"topic\"]\n",
        "\n",
        "    # 将所有小节拼接为完整文本\n",
        "    formatted_str_sections = \"\\n\\n\".join([f\"{section}\" for section in sections])\n",
        "\n",
        "    # 构建指令，包含研究主题和小节内容\n",
        "    instructions = intro_conclusion_instructions.format(\n",
        "        topic=topic,\n",
        "        formatted_str_sections=formatted_str_sections\n",
        "    )\n",
        "\n",
        "    # 调用大模型生成引言\n",
        "    intro = llm.invoke([\n",
        "        instructions,\n",
        "        HumanMessage(content=f\"Write the report introduction\")\n",
        "    ])\n",
        "\n",
        "    return {\"introduction\": intro.content}\n",
        "\n",
        "def write_conclusion(state: ResearchGraphState):\n",
        "    \"\"\"\n",
        "    生成报告结论的函数\n",
        "\n",
        "    功能:\n",
        "        1. 基于所有小节内容生成报告结论\n",
        "        2. 总结报告的主要发现和洞察\n",
        "        3. 为读者提供清晰的总结\n",
        "\n",
        "    参数:\n",
        "        state: 包含所有小节内容和研究主题的状态对象\n",
        "\n",
        "    返回:\n",
        "        dict: 包含结论内容的字典\n",
        "    \"\"\"\n",
        "    # 获取所有小节内容和研究主题\n",
        "    sections = state[\"sections\"]\n",
        "    topic = state[\"topic\"]\n",
        "\n",
        "    # 将所有小节拼接为完整文本\n",
        "    formatted_str_sections = \"\\n\\n\".join([f\"{section}\" for section in sections])\n",
        "\n",
        "    # 构建指令，包含研究主题和小节内容\n",
        "    instructions = intro_conclusion_instructions.format(\n",
        "        topic=topic,\n",
        "        formatted_str_sections=formatted_str_sections\n",
        "    )\n",
        "\n",
        "    # 调用大模型生成结论\n",
        "    conclusion = llm.invoke([\n",
        "        instructions,\n",
        "        HumanMessage(content=f\"Write the report conclusion\")\n",
        "    ])\n",
        "\n",
        "    return {\"conclusion\": conclusion.content}\n",
        "\n",
        "def finalize_report(state: ResearchGraphState):\n",
        "    \"\"\"\n",
        "    最终报告生成函数（Reduce步骤的最终阶段）\n",
        "\n",
        "    功能:\n",
        "        1. 整合引言、主体内容和结论\n",
        "        2. 处理来源信息的格式\n",
        "        3. 生成完整的最终报告\n",
        "\n",
        "    参数:\n",
        "        state: 包含引言、主体内容、结论和来源信息的状态对象\n",
        "\n",
        "    返回:\n",
        "        dict: 包含完整最终报告的字典\n",
        "    \"\"\"\n",
        "    # 获取报告主体内容\n",
        "    content = state[\"content\"]\n",
        "\n",
        "    # 清理内容格式，移除重复的标题\n",
        "    if content.startswith(\"## Insights\"):\n",
        "        content = content.strip(\"## Insights\")\n",
        "\n",
        "    # 分离主体内容和来源信息\n",
        "    if \"## Sources\" in content:\n",
        "        try:\n",
        "            content, sources = content.split(\"\\n## Sources\\n\")\n",
        "        except:\n",
        "            sources = None\n",
        "    else:\n",
        "        sources = None\n",
        "\n",
        "    # 组合完整的最终报告\n",
        "    final_report = (\n",
        "        state[\"introduction\"] +\n",
        "        \"\\n\\n---\\n\\n\" +\n",
        "        content +\n",
        "        \"\\n\\n---\\n\\n\" +\n",
        "        state[\"conclusion\"]\n",
        "    )\n",
        "\n",
        "    # 如果有来源信息，添加到报告末尾\n",
        "    if sources is not None:\n",
        "        final_report += \"\\n\\n## Sources\\n\" + sources\n",
        "\n",
        "    return {\"final_report\": final_report}\n",
        "\n",
        "# 构建完整的研究图工作流\n",
        "builder = StateGraph(ResearchGraphState)\n",
        "\n",
        "# 添加所有功能节点\n",
        "builder.add_node(\"create_analysts\", create_analysts)  # 分析师生成节点\n",
        "builder.add_node(\"human_feedback\", human_feedback)    # 人类反馈节点\n",
        "builder.add_node(\"conduct_interview\", interview_builder.compile())  # 访谈子图节点\n",
        "builder.add_node(\"write_report\", write_report)        # 报告主体写作节点\n",
        "builder.add_node(\"write_introduction\", write_introduction)  # 引言写作节点\n",
        "builder.add_node(\"write_conclusion\", write_conclusion)      # 结论写作节点\n",
        "builder.add_node(\"finalize_report\", finalize_report)        # 最终报告生成节点\n",
        "\n",
        "# 定义工作流连接关系\n",
        "builder.add_edge(START, \"create_analysts\")  # 开始 -> 生成分析师\n",
        "builder.add_edge(\"create_analysts\", \"human_feedback\")  # 生成分析师 -> 人类反馈\n",
        "\n",
        "# 条件边：根据是否有反馈决定下一步\n",
        "builder.add_conditional_edges(\n",
        "    \"human_feedback\",\n",
        "    initiate_all_interviews,\n",
        "    [\"create_analysts\", \"conduct_interview\"]\n",
        ")\n",
        "\n",
        "# 并行执行：访谈完成后同时进行报告写作、引言写作和结论写作\n",
        "builder.add_edge(\"conduct_interview\", \"write_report\")\n",
        "builder.add_edge(\"conduct_interview\", \"write_introduction\")\n",
        "builder.add_edge(\"conduct_interview\", \"write_conclusion\")\n",
        "\n",
        "# 等待所有写作任务完成后，进行最终报告生成\n",
        "builder.add_edge(\n",
        "    [\"write_conclusion\", \"write_report\", \"write_introduction\"],\n",
        "    \"finalize_report\"\n",
        ")\n",
        "builder.add_edge(\"finalize_report\", END)  # 最终报告生成 -> 结束\n",
        "\n",
        "# 编译完整的研究图工作流\n",
        "memory = MemorySaver()\n",
        "graph = builder.compile(\n",
        "    interrupt_before=['human_feedback'],  # 在人类反馈节点前中断\n",
        "    checkpointer=memory\n",
        ")\n",
        "\n",
        "# 显示完整的工作流图\n",
        "display(Image(graph.get_graph(xray=1).draw_mermaid_png()))"
      ]
    },
    {
      "cell_type": "markdown",
      "id": "1b64ba9a-2b5e-40e1-a778-0f635aa3f6d0",
      "metadata": {
        "id": "1b64ba9a-2b5e-40e1-a778-0f635aa3f6d0"
      },
      "source": [
        "我们来就 LangGraph 提一个开放式问题。"
      ]
    },
    {
      "cell_type": "code",
      "execution_count": 31,
      "id": "362932ee-4106-4a2d-a32d-b812eafcf9df",
      "metadata": {
        "colab": {
          "base_uri": "https://localhost:8080/"
        },
        "id": "362932ee-4106-4a2d-a32d-b812eafcf9df",
        "outputId": "b8f0b52f-fbbc-4b8b-c87c-8d0fd9acb213"
      },
      "outputs": [
        {
          "output_type": "stream",
          "name": "stdout",
          "text": [
            "Name: Dr. Emily Zhang\n",
            "Affiliation: LangGraph Research Institute\n",
            "Role: 技术架构师\n",
            "Description: 专注于LangGraph框架的技术架构和实现细节，分析其在AI Agent开发中的优势。\n",
            "--------------------------------------------------\n",
            "Name: Mr. John Doe\n",
            "Affiliation: AI Efficiency Solutions\n",
            "Role: 效率专家\n",
            "Description: 研究LangGraph框架在提高AI Agent开发效率和性能方面的贡献，特别是在资源管理和任务调度上的优化。\n",
            "--------------------------------------------------\n",
            "Name: Ms. Sarah Lee\n",
            "Affiliation: User Experience Lab\n",
            "Role: 用户体验设计师\n",
            "Description: 关注LangGraph框架如何改善AI Agent的用户体验，特别是在交互设计和用户反馈机制上的创新。\n",
            "--------------------------------------------------\n"
          ]
        }
      ],
      "source": [
        "# 演示：运行研究助理系统\n",
        "# 设置输入参数\n",
        "max_analysts = 3  # 分析师数量\n",
        "topic = \"采用LangGraph作为AI Agent框架的好处\"  # 研究主题\n",
        "thread = {\"configurable\": {\"thread_id\": \"1\"}}  # 线程ID，用于状态管理\n",
        "\n",
        "# 运行工作流直到第一个中断点（人类反馈节点）\n",
        "for event in graph.stream({\n",
        "    \"topic\": topic,\n",
        "    \"max_analysts\": max_analysts\n",
        "}, thread, stream_mode=\"values\"):\n",
        "\n",
        "    # 检查是否有分析师信息输出\n",
        "    analysts = event.get('analysts', '')\n",
        "    if analysts:\n",
        "        # 显示生成的分析师信息\n",
        "        for analyst in analysts:\n",
        "            print(f\"Name: {analyst.name}\")\n",
        "            print(f\"Affiliation: {analyst.affiliation}\")\n",
        "            print(f\"Role: {analyst.role}\")\n",
        "            print(f\"Description: {analyst.description}\")\n",
        "            print(\"-\" * 50)"
      ]
    },
    {
      "cell_type": "code",
      "execution_count": 32,
      "id": "ac521a5f-5a4f-44f9-8af9-d05228e20882",
      "metadata": {
        "colab": {
          "base_uri": "https://localhost:8080/"
        },
        "id": "ac521a5f-5a4f-44f9-8af9-d05228e20882",
        "outputId": "d4cf1d54-40b7-48c2-8535-7c154d491a30"
      },
      "outputs": [
        {
          "output_type": "execute_result",
          "data": {
            "text/plain": [
              "{'configurable': {'thread_id': '1',\n",
              "  'checkpoint_ns': '',\n",
              "  'checkpoint_id': '1f09e622-f265-6db3-8002-867bbfb84597'}}"
            ]
          },
          "metadata": {},
          "execution_count": 32
        }
      ],
      "source": [
        "# 模拟人类反馈：添加一个AI原生初创公司的CEO视角\n",
        "# 这展示了人机协同（Human-in-the-loop）功能的使用\n",
        "graph.update_state(thread, {\n",
        "    \"human_analyst_feedback\": \"添加一个AI原生初创公司的CEO\"\n",
        "}, as_node=\"human_feedback\")"
      ]
    },
    {
      "cell_type": "code",
      "execution_count": 33,
      "id": "a3be311f-62ee-49e7-b037-75c53d8960a8",
      "metadata": {
        "colab": {
          "base_uri": "https://localhost:8080/"
        },
        "id": "a3be311f-62ee-49e7-b037-75c53d8960a8",
        "outputId": "af7435d7-2412-422b-d42e-6f0313cdea91"
      },
      "outputs": [
        {
          "output_type": "stream",
          "name": "stdout",
          "text": [
            "Name: Dr. Emily Zhang\n",
            "Affiliation: LangGraph Research Institute\n",
            "Role: 技术架构师\n",
            "Description: 专注于LangGraph框架的技术架构和实现细节，分析其在AI Agent开发中的优势。\n",
            "--------------------------------------------------\n",
            "Name: Mr. John Doe\n",
            "Affiliation: AI Efficiency Solutions\n",
            "Role: 效率专家\n",
            "Description: 研究LangGraph框架在提高AI Agent开发效率和性能方面的贡献，特别是在资源管理和任务调度上的优化。\n",
            "--------------------------------------------------\n",
            "Name: Ms. Sarah Lee\n",
            "Affiliation: User Experience Lab\n",
            "Role: 用户体验设计师\n",
            "Description: 关注LangGraph框架如何改善AI Agent的用户体验，特别是在交互设计和用户反馈机制上的创新。\n",
            "--------------------------------------------------\n",
            "Name: Dr. Emily Zhang\n",
            "Affiliation: LangGraph Research Institute\n",
            "Role: AI Framework Specialist\n",
            "Description: 专注于LangGraph框架的技术优势，特别是在自然语言处理和多语言支持方面的创新。她的研究强调LangGraph如何通过其模块化设计和可扩展性来提高AI系统的效率和灵活性。\n",
            "--------------------------------------------------\n",
            "Name: Michael Thompson\n",
            "Affiliation: Global Tech Ventures\n",
            "Role: Tech Industry Analyst\n",
            "Description: 分析LangGraph在商业应用中的潜力，尤其是在降低开发成本和加速产品上市时间方面的优势。他的研究包括对比LangGraph与其他框架的经济效益。\n",
            "--------------------------------------------------\n",
            "Name: Sophia Lee\n",
            "Affiliation: AI Native Innovations\n",
            "Role: Startup CEO\n",
            "Description: 作为一家AI原生初创公司的CEO，他关注LangGraph如何支持初创企业快速构建和迭代AI产品。他的视角包括LangGraph在创业环境中的实用性和灵活性。\n",
            "--------------------------------------------------\n"
          ]
        }
      ],
      "source": [
        "# 检查更新后的分析师列表\n",
        "# 系统会根据人类反馈重新生成分析师团队\n",
        "for event in graph.stream(None, thread, stream_mode=\"values\"):\n",
        "    analysts = event.get('analysts', '')\n",
        "    if analysts:\n",
        "        # 显示更新后的分析师信息\n",
        "        for analyst in analysts:\n",
        "            print(f\"Name: {analyst.name}\")\n",
        "            print(f\"Affiliation: {analyst.affiliation}\")\n",
        "            print(f\"Role: {analyst.role}\")\n",
        "            print(f\"Description: {analyst.description}\")\n",
        "            print(\"-\" * 50)"
      ]
    },
    {
      "cell_type": "code",
      "execution_count": 34,
      "id": "0af41f54-88d9-4597-98b0-444c08322095",
      "metadata": {
        "colab": {
          "base_uri": "https://localhost:8080/"
        },
        "id": "0af41f54-88d9-4597-98b0-444c08322095",
        "outputId": "ec2b7784-44cf-488e-a670-3dc45f0d42fa"
      },
      "outputs": [
        {
          "output_type": "execute_result",
          "data": {
            "text/plain": [
              "{'configurable': {'thread_id': '1',\n",
              "  'checkpoint_ns': '',\n",
              "  'checkpoint_id': '1f09e623-15db-6412-8004-28bdfc779fbf'}}"
            ]
          },
          "metadata": {},
          "execution_count": 34
        }
      ],
      "source": [
        "# 确认满意当前的分析师团队，继续执行后续流程\n",
        "# 设置反馈为None表示没有进一步的修改需求\n",
        "graph.update_state(thread, {\n",
        "    \"human_analyst_feedback\": None\n",
        "}, as_node=\"human_feedback\")"
      ]
    },
    {
      "cell_type": "code",
      "execution_count": 35,
      "id": "37123ca7-c20b-43c1-9a71-39ba344e7ca6",
      "metadata": {
        "colab": {
          "base_uri": "https://localhost:8080/"
        },
        "id": "37123ca7-c20b-43c1-9a71-39ba344e7ca6",
        "outputId": "fe06656c-5c09-4786-8e43-72f50de02d6f"
      },
      "outputs": [
        {
          "output_type": "stream",
          "name": "stdout",
          "text": [
            "--Node--\n",
            "conduct_interview\n",
            "--Node--\n",
            "conduct_interview\n",
            "--Node--\n",
            "conduct_interview\n",
            "--Node--\n",
            "write_introduction\n",
            "--Node--\n",
            "write_conclusion\n",
            "--Node--\n",
            "write_report\n",
            "--Node--\n",
            "finalize_report\n"
          ]
        }
      ],
      "source": [
        "# 继续执行完整的研究流程\n",
        "# 包括并行访谈、报告生成等所有后续步骤\n",
        "for event in graph.stream(None, thread, stream_mode=\"updates\"):\n",
        "    print(\"--Node--\")\n",
        "    node_name = next(iter(event.keys()))\n",
        "    print(node_name)"
      ]
    },
    {
      "cell_type": "code",
      "execution_count": 36,
      "id": "f8f66ad8-80fd-4eb2-96b6-6ae9dffd060c",
      "metadata": {
        "colab": {
          "base_uri": "https://localhost:8080/",
          "height": 1000
        },
        "id": "f8f66ad8-80fd-4eb2-96b6-6ae9dffd060c",
        "outputId": "73e2ef25-ba90-428a-a346-b1e47766c7e6"
      },
      "outputs": [
        {
          "output_type": "execute_result",
          "data": {
            "text/plain": [
              "<IPython.core.display.Markdown object>"
            ],
            "text/markdown": "# 采用LangGraph作为AI Agent框架的好处\n\n## Introduction\n\n在当今快速发展的AI领域，LangGraph作为LangChain开发的开源AI代理框架，正在改变复杂生成式AI工作流的构建、部署和管理方式。其图形架构通过建模组件间的复杂关系，提升了AI系统的决策能力和灵活性。LangGraph的模块化设计允许独立测试代理，并根据运行时条件进行动态路由，确保系统的可扩展性和效率。此外，LangGraph支持多代理系统，促进了代理间的协作，适用于对话代理和复杂任务自动化等应用。通过处理动态输入和生成结构化输出，LangGraph为AI系统提供了更高的可视性和组织性，成为增强AI系统效率和灵活性的强大工具。\n\n---\n\n\n\nLangGraph, developed by LangChain, is an open-source AI agent framework that significantly enhances the development, deployment, and management of complex generative AI workflows. Its graph-based architecture models intricate relationships between components, offering improved decision-making and flexibility in AI systems [1]. The modular design of LangGraph allows for independently testable agents and dynamic routing based on runtime conditions, which is crucial for creating scalable and efficient AI systems. This modularity enables developers to integrate new components and adapt existing workflows without compromising performance [1][2].\n\nA standout feature of LangGraph is its support for multi-agent systems, where each node in the graph represents an agent or processing step, and edges control the flow of data and execution between them. This structure facilitates collaboration among agents through shared state and conditional transitions, ensuring reliable completion of complex tasks [3]. The platform provides APIs for designing agent-driven user experiences, allowing for quick deployment and scaling of applications, which is essential for developing conversational agents, complex task automation, and custom LLM-backed experiences [2].\n\nLangGraph's innovative approach to AI workflow management is further enhanced by its ability to handle dynamic inputs and return structured outputs, maintaining clear visibility into processes through generated graphs. By utilizing subgraphs, developers can construct more organized and flexible AI systems, breaking down complex processes into manageable components [4]. This structured approach not only improves scalability but also ensures efficient communication between parent graphs and subgraphs, thanks to shared state keys and clear interface definitions [4].\n\nIn commercial applications, LangGraph simplifies AI agent development by providing prebuilt modules, APIs, and environments, reducing development costs and accelerating product time-to-market [2]. Its graph architecture supports both linear workflows and cyclic graph topologies, allowing AI agents to process flows and make decisions under dynamic conditions [3]. This flexibility enables developers to build more complex and adaptive agent systems, enhancing AI workflow intelligence and efficiency [3]. For instance, companies like Norwegian Cruise Line have utilized LangGraph to optimize customer-facing AI solutions, improving personalized customer experiences [1].\n\nLangGraph's potential in the growing conversational AI market is substantial, with expectations of a 23.7% annual growth rate by 2030, reflecting increased demand for solutions like LangGraph [2]. The framework's ability to visualize task dependencies and workflows provides an organized approach to task management, aiding teams in effectively managing complex processes [2].\n\nFor startups, LangGraph offers a robust framework for building stateful, multi-actor applications with large language models (LLMs). It provides granular control over the agent's thought process, enabling data-driven decisions that cater to diverse user needs [1]. The infrastructure supports scalable deployment, allowing startups to efficiently handle large workloads through horizontally-scaling servers, task queues, and built-in persistence, enhancing resilience with intelligent caching and automated retries [1]. This ensures high performance and reliability as applications scale.\n\nAI agent frameworks like LangGraph offer prebuilt components and functionalities that significantly reduce development time and costs, managing extensive datasets and complex processes with scalability and flexibility [2]. By automating mundane tasks, these frameworks free up human resources for more valuable endeavors, improving overall efficiency and accuracy [2]. Startups benefit from the flexibility in language choice, with Python often preferred for its superior support for AI, including LangGraph and related libraries [3].\n\n\n---\n\n## Conclusion\n\n通过对LangGraph框架的深入分析，我们可以清晰地看到其在AI系统中的显著优势。LangGraph的模块化设计和图形架构不仅提升了AI系统的灵活性和效率，还为自然语言处理和多语言支持提供了强大的工具。其支持多代理系统的能力，促进了复杂任务的可靠完成，并通过API实现了快速部署和扩展。\n\n在商业应用中，LangGraph通过简化AI代理的开发过程，降低了成本并加速了产品上市时间。其灵活的图形架构允许在动态条件下进行循环处理，提升了AI工作流的智能化和效率。随着全球对话式AI市场的增长，LangGraph的应用潜力也在不断扩大。\n\n对于初创企业而言，LangGraph提供了强大的工具来快速开发和迭代AI产品。其可扩展的基础设施和预构建组件显著减少了开发时间和成本，使企业能够高效应对市场需求。通过选择合适的编程语言，初创企业可以充分利用LangGraph的优势，推动长期项目的发展。\n\n## Sources\n\n[1] https://www.ibm.com/think/topics/langgraph  \n[2] https://www.langchain.com/langgraph  \n[3] https://medium.com/@shuv.sdr/langgraph-architecture-and-design-280c365aaf2c  \n[4] https://dev.to/sreeni5018/langgraph-subgraphs-a-guide-to-modular-ai-agents-development-31ob  \n[5] https://oyelabs.com/langgraph-vs-crewai-vs-openai-swarm-ai-agent-framework/  \n[6] https://medium.com/pythoneers/building-ai-agent-systems-with-langgraph-9d85537a6326  \n[7] https://www.salesforce.com/ap/agentforce/ai-agents/ai-agent-frameworks/  \n[8] https://www.reddit.com/r/LangChain/comments/1n2kd63/python_or_typescript_for_a_startup_using_langgraph/"
          },
          "metadata": {},
          "execution_count": 36
        }
      ],
      "source": [
        "from IPython.display import Markdown\n",
        "\n",
        "# 获取最终状态并显示生成的报告\n",
        "final_state = graph.get_state(thread)\n",
        "report = final_state.values.get('final_report')\n",
        "\n",
        "# 使用Markdown格式显示最终报告\n",
        "Markdown(report)"
      ]
    },
    {
      "cell_type": "markdown",
      "id": "e9bf8edd-fb42-496c-9bdb-3f5d7b4d79d3",
      "metadata": {
        "id": "e9bf8edd-fb42-496c-9bdb-3f5d7b4d79d3"
      },
      "source": [
        "# LangSmith执行追踪\n",
        "\n",
        "我们可以查看一次完整的执行追踪（trace），了解整个研究流程的详细执行情况：\n",
        "\n",
        "`https://smith.langchain.com/public/2933a7bb-bcef-4d2d-9b85-cc735b22ca0c/r`\n",
        "\n",
        "## 追踪内容说明\n",
        "\n",
        "这个追踪链接展示了：\n",
        "\n",
        "1. **分析师生成过程**：如何根据研究主题创建不同的分析师角色\n",
        "2. **并行访谈执行**：多个分析师同时进行访谈的详细过程\n",
        "3. **信息检索流程**：网络搜索和维基百科搜索的具体执行\n",
        "4. **报告生成步骤**：从访谈内容到最终报告的完整转换过程\n",
        "5. **人机协同交互**：人类反馈如何影响系统行为\n",
        "\n",
        "通过这个追踪，你可以深入了解LangGraph工作流的内部执行机制和每个节点的具体功能。"
      ]
    }
  ],
  "metadata": {
    "colab": {
      "provenance": [],
      "include_colab_link": true
    },
    "kernelspec": {
      "display_name": "python(flyai_agent_in_action)",
      "language": "python",
      "name": "flyai_agent_in_action"
    },
    "language_info": {
      "codemirror_mode": {
        "name": "ipython",
        "version": 3
      },
      "file_extension": ".py",
      "mimetype": "text/x-python",
      "name": "python",
      "nbconvert_exporter": "python",
      "pygments_lexer": "ipython3",
      "version": "3.12.11"
    }
  },
  "nbformat": 4,
  "nbformat_minor": 5
}