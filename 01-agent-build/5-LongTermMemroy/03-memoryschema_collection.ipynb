{
 "cells": [
  {
   "cell_type": "markdown",
   "id": "env_config_overview",
   "metadata": {},
   "source": [
    "### 🔧 环境配置和检查\n\n#### 概述\n\n本教程需要特定的环境配置以确保最佳学习体验。以下配置将帮助您：\n\n- 使用统一的conda环境：激活统一的学习环境\n- 通过国内镜像源快速安装依赖：配置pip使用清华镜像源\n- 加速模型下载：设置HuggingFace镜像代理\n- 检查系统配置：检查硬件和软件配置\n\n#### 配置\n\n- **所需环境及其依赖已经部署好**\n- 在`Notebook`右上角选择`jupyter内核`为`python(flyai_agent_in_action)`，即可执行下方代码"
   ]
  },
  {
   "cell_type": "code",
   "execution_count": null,
   "id": "env_conda_activate",
   "metadata": {},
   "outputs": [],
   "source": [
    "%%script bash\n\n# 1. 激活 conda 环境 (仅对当前单元格有效)\neval \"$(conda shell.bash hook)\"\nconda activate flyai_agent_in_action\n\necho \"=========================================\"\necho \"== Conda 环境检查报告 (仅针对当前 Bash 子进程) ==\"\necho \"=========================================\"\n\n# 2. 检查当前激活的环境\nCURRENT_ENV_NAME=$(basename $CONDA_PREFIX)\n\nif [ \"$CURRENT_ENV_NAME\" = \"flyai_agent_in_action\" ]; then\n    echo \"✅ 当前单元格已成功激活到 flyai_agent_in_action 环境。\"\n    echo \"✅ 正在使用的环境路径: $CONDA_PREFIX\"\n    echo \"\"\n    echo \"💡 提示: 后续的 Python 单元格将使用 Notebook 当前选择的 Jupyter 内核。\"\n    echo \"   如果需要后续单元格也使用此环境，请执行以下操作:\"\n    echo \"   1. 检查 Notebook 右上角是否已选择 'python(flyai_agent_in_action)'。\"\nelse\n    echo \"❌ 激活失败或环境名称不匹配。当前环境: $CURRENT_ENV_NAME\"\n    echo \"\"\n    echo \"⚠️ 严重提示: 建议将 Notebook 的 Jupyter **内核 (Kernel)** 切换为 'python(flyai_agent_in_action)'。\"\n    echo \"   (通常位于 Notebook 右上角或 '内核' 菜单中)\"\n    echo \"\"\n    echo \"📚 备用方法 (不推荐): 如果无法切换内核，则必须在**每个**代码单元格的头部重复以下命令:\"\n    echo \"\"\n    echo \"%%script bash\"\n    echo \"# 必须在每个单元格都执行\"\n    echo \"eval \\\"\\$(conda shell.bash hook)\\\"\"\n    echo \"conda activate flyai_agent_in_action\"\nfi\n\necho \"=========================================\" "
   ]
  },
  {
   "cell_type": "code",
   "execution_count": null,
   "id": "env_pip_config",
   "metadata": {},
   "outputs": [],
   "source": [
    "# 2. 设置pip 为清华源\n",
    "%pip config set global.index-url https://pypi.tuna.tsinghua.edu.cn/simple\n",
    "%pip config list\n"
   ]
  },
  {
   "cell_type": "code",
   "execution_count": null,
   "id": "env_hf_proxy",
   "metadata": {},
   "outputs": [],
   "source": [
    "# 3. 设置HuggingFace代理\n",
    "%env HF_ENDPOINT=https://hf-mirror.com\n",
    "# 验证：使用shell命令检查\n",
    "!echo $HF_ENDPOINT"
   ]
  },
  {
   "cell_type": "code",
   "execution_count": null,
   "id": "env_system_check",
   "metadata": {},
   "outputs": [],
   "source": [
    "# 🔍 环境信息检查脚本\n",
    "#\n",
    "# 本脚本的作用：\n",
    "# 1. 安装 pandas 库用于数据表格展示\n",
    "# 2. 检查系统的各项配置信息\n",
    "# 3. 生成详细的环境报告表格\n",
    "#\n",
    "# 对于初学者来说，这个步骤帮助您：\n",
    "# - 了解当前运行环境的硬件配置\n",
    "# - 确认是否满足模型运行的最低要求\n",
    "# - 学习如何通过代码获取系统信息\n",
    "\n",
    "# 安装 pandas 库 - 用于创建和展示数据表格\n",
    "# pandas 是 Python 中最流行的数据处理和分析库\n",
    "%pip install pandas==2.2.2 tabulate==0.9.0\n",
    "\n",
    "import platform # 导入 platform 模块以获取系统信息\n",
    "import os # 导入 os 模块以与操作系统交互\n",
    "import subprocess # 导入 subprocess 模块以运行外部命令\n",
    "import pandas as pd # 导入 pandas 模块，通常用于数据处理，这里用于创建表格\n",
    "import shutil # 导入 shutil 模块以获取磁盘空间信息\n",
    "\n",
    "# 获取 CPU 信息的函数，包括核心数量\n",
    "def get_cpu_info():\n",
    "    cpu_info = \"\" # 初始化 CPU 信息字符串\n",
    "    physical_cores = \"N/A\"\n",
    "    logical_cores = \"N/A\"\n",
    "\n",
    "    if platform.system() == \"Windows\": # 如果是 Windows 系统\n",
    "        cpu_info = platform.processor() # 使用 platform.processor() 获取 CPU 信息\n",
    "        try:\n",
    "            # 获取 Windows 上的核心数量 (需要 WMI)\n",
    "            import wmi\n",
    "            c = wmi.WMI()\n",
    "            for proc in c.Win32_Processor():\n",
    "                physical_cores = proc.NumberOfCores\n",
    "                logical_cores = proc.NumberOfLogicalProcessors\n",
    "        except:\n",
    "            pass # 如果 WMI 不可用，忽略错误\n",
    "\n",
    "    elif platform.system() == \"Darwin\": # 如果是 macOS 系统\n",
    "        # 在 macOS 上使用 sysctl 命令获取 CPU 信息和核心数量\n",
    "        os.environ['PATH'] = os.environ['PATH'] + os.pathsep + '/usr/sbin' # 更新 PATH 环境变量\n",
    "        try:\n",
    "            process_brand = subprocess.Popen(['sysctl', \"machdep.cpu.brand_string\"], stdout=subprocess.PIPE, stderr=subprocess.PIPE)\n",
    "            stdout_brand, stderr_brand = process_brand.communicate()\n",
    "            cpu_info = stdout_brand.decode().split(': ')[1].strip() if stdout_brand else \"Could not retrieve CPU info\"\n",
    "\n",
    "            process_physical = subprocess.Popen(['sysctl', \"hw.physicalcpu\"], stdout=subprocess.PIPE, stderr=subprocess.PIPE)\n",
    "            stdout_physical, stderr_physical = process_physical.communicate()\n",
    "            physical_cores = stdout_physical.decode().split(': ')[1].strip() if stdout_physical else \"N/A\"\n",
    "\n",
    "            process_logical = subprocess.Popen(['sysctl', \"hw.logicalcpu\"], stdout=subprocess.PIPE, stderr=subprocess.PIPE)\n",
    "            stdout_logical, stderr_logical = process_logical.communicate()\n",
    "            logical_cores = stdout_logical.decode().split(': ')[1].strip() if stdout_logical else \"N/A\"\n",
    "\n",
    "        except:\n",
    "            cpu_info = \"Could not retrieve CPU info\"\n",
    "            physical_cores = \"N/A\"\n",
    "            logical_cores = \"N/A\"\n",
    "\n",
    "    else:  # Linux 系统\n",
    "        try:\n",
    "            # 在 Linux 上读取 /proc/cpuinfo 文件获取 CPU 信息和核心数量\n",
    "            with open('/proc/cpuinfo') as f:\n",
    "                physical_cores_count = 0\n",
    "                logical_cores_count = 0\n",
    "                cpu_info_lines = []\n",
    "                for line in f:\n",
    "                    if line.startswith('model name'): # 查找以 'model name'开头的行\n",
    "                        if not cpu_info: # 只获取第一个 model name\n",
    "                            cpu_info = line.split(': ')[1].strip()\n",
    "                    elif line.startswith('cpu cores'): # 查找以 'cpu cores' 开头的行\n",
    "                        physical_cores_count = int(line.split(': ')[1].strip())\n",
    "                    elif line.startswith('processor'): # 查找以 'processor' 开头的行\n",
    "                        logical_cores_count += 1\n",
    "                physical_cores = str(physical_cores_count) if physical_cores_count > 0 else \"N/A\"\n",
    "                logical_cores = str(logical_cores_count) if logical_cores_count > 0 else \"N/A\"\n",
    "                if not cpu_info:\n",
    "                     cpu_info = \"Could not retrieve CPU info\"\n",
    "\n",
    "        except:\n",
    "            cpu_info = \"Could not retrieve CPU info\"\n",
    "            physical_cores = \"N/A\"\n",
    "            logical_cores = \"N/A\"\n",
    "\n",
    "    return f\"{cpu_info} ({physical_cores} physical cores, {logical_cores} logical cores)\" # 返回 CPU 信息和核心数量\n",
    "\n",
    "\n",
    "# 获取内存信息的函数\n",
    "def get_memory_info():\n",
    "    mem_info = \"\" # 初始化内存信息字符串\n",
    "    if platform.system() == \"Windows\":\n",
    "        # 在 Windows 上不容易通过标准库获取，需要外部库或 PowerShell\n",
    "        mem_info = \"Requires external tools on Windows\" # 设置提示信息\n",
    "    elif platform.system() == \"Darwin\": # 如果是 macOS 系统\n",
    "        # 在 macOS 上使用 sysctl 命令获取内存大小\n",
    "        process = subprocess.Popen(['sysctl', \"hw.memsize\"], stdout=subprocess.PIPE, stderr=subprocess.PIPE) # 运行 sysctl 命令\n",
    "        stdout, stderr = process.communicate() # 获取标准输出和标准错误\n",
    "        mem_bytes = int(stdout.decode().split(': ')[1].strip()) # 解析输出，获取内存大小（字节）\n",
    "        mem_gb = mem_bytes / (1024**3) # 转换为 GB\n",
    "        mem_info = f\"{mem_gb:.2f} GB\" # 格式化输出\n",
    "    else:  # Linux 系统\n",
    "        try:\n",
    "            # 在 Linux 上读取 /proc/meminfo 文件获取内存信息\n",
    "            with open('/proc/meminfo') as f:\n",
    "                total_mem_kb = 0\n",
    "                available_mem_kb = 0\n",
    "                for line in f:\n",
    "                    if line.startswith('MemTotal'): # 查找以 'MemTotal' 开头的行\n",
    "                        total_mem_kb = int(line.split(':')[1].strip().split()[0]) # 解析行，获取总内存（KB）\n",
    "                    elif line.startswith('MemAvailable'): # 查找以 'MemAvailable' 开头的行\n",
    "                         available_mem_kb = int(line.split(':')[1].strip().split()[0]) # 解析行，获取可用内存（KB）\n",
    "\n",
    "                if total_mem_kb > 0:\n",
    "                    total_mem_gb = total_mem_kb / (1024**2) # 转换为 GB\n",
    "                    mem_info = f\"{total_mem_gb:.2f} GB\" # 格式化输出总内存\n",
    "                    if available_mem_kb > 0:\n",
    "                        available_mem_gb = available_mem_kb / (1024**2)\n",
    "                        mem_info += f\" (Available: {available_mem_gb:.2f} GB)\" # 添加可用内存信息\n",
    "                else:\n",
    "                     mem_info = \"Could not retrieve memory info\" # 如果读取文件出错，设置错误信息\n",
    "\n",
    "        except:\n",
    "            mem_info = \"Could not retrieve memory info\" # 如果读取文件出错，设置错误信息\n",
    "    return mem_info # 返回内存信息\n",
    "\n",
    "# 获取 GPU 信息的函数，包括显存\n",
    "def get_gpu_info():\n",
    "    try:\n",
    "        # 尝试使用 nvidia-smi 获取 NVIDIA GPU 信息和显存\n",
    "        result = subprocess.run(['nvidia-smi', '--query-gpu=name,memory.total', '--format=csv,noheader'], capture_output=True, text=True)\n",
    "        if result.returncode == 0: # 如果命令成功执行\n",
    "            gpu_lines = result.stdout.strip().split('\\n') # 解析输出，获取 GPU 名称和显存\n",
    "            gpu_info_list = []\n",
    "            for line in gpu_lines:\n",
    "                name, memory = line.split(', ')\n",
    "                gpu_info_list.append(f\"{name} ({memory})\") # 格式化 GPU 信息\n",
    "            return \", \".join(gpu_info_list) if gpu_info_list else \"NVIDIA GPU found, but info not listed\" # 返回 GPU 信息或提示信息\n",
    "        else:\n",
    "             # 尝试使用 lshw 获取其他 GPU 信息 (需要安装 lshw)\n",
    "            try:\n",
    "                result_lshw = subprocess.run(['lshw', '-C', 'display'], capture_output=True, text=True)\n",
    "                if result_lshw.returncode == 0: # 如果命令成功执行\n",
    "                     # 简单解析输出中的 product 名称和显存\n",
    "                    gpu_info_lines = []\n",
    "                    current_gpu = {}\n",
    "                    for line in result_lshw.stdout.splitlines():\n",
    "                        if 'product:' in line:\n",
    "                             if current_gpu:\n",
    "                                 gpu_info_lines.append(f\"{current_gpu.get('product', 'GPU')} ({current_gpu.get('memory', 'N/A')})\")\n",
    "                             current_gpu = {'product': line.split('product:')[1].strip()}\n",
    "                        elif 'size:' in line and 'memory' in line:\n",
    "                             current_gpu['memory'] = line.split('size:')[1].strip()\n",
    "\n",
    "                    if current_gpu: # 添加最后一个 GPU 的信息\n",
    "                        gpu_info_lines.append(f\"{current_gpu.get('product', 'GPU')} ({current_gpu.get('memory', 'N/A')})\")\n",
    "\n",
    "                    return \", \".join(gpu_info_lines) if gpu_info_lines else \"GPU found (via lshw), but info not parsed\" # 如果找到 GPU 但信息无法解析，设置提示信息\n",
    "                else:\n",
    "                    return \"No GPU found (checked nvidia-smi and lshw)\" # 如果两个命令都找不到 GPU，设置提示信息\n",
    "            except FileNotFoundError:\n",
    "                 return \"No GPU found (checked nvidia-smi, lshw not found)\" # 如果找不到 lshw 命令，设置提示信息\n",
    "    except FileNotFoundError:\n",
    "        return \"No GPU found (nvidia-smi not found)\" # 如果找不到 nvidia-smi 命令，设置提示信息\n",
    "\n",
    "\n",
    "# 获取 CUDA 版本的函数\n",
    "def get_cuda_version():\n",
    "    try:\n",
    "        # 尝试使用 nvcc --version 获取 CUDA 版本\n",
    "        result = subprocess.run(['nvcc', '--version'], capture_output=True, text=True)\n",
    "        if result.returncode == 0: # 如果命令成功执行\n",
    "            for line in result.stdout.splitlines():\n",
    "                if 'release' in line: # 查找包含 'release' 的行\n",
    "                    return line.split('release ')[1].split(',')[0] # 解析行，提取版本号\n",
    "        return \"CUDA not found or version not parsed\" # 如果找不到 CUDA 或版本无法解析，设置提示信息\n",
    "    except FileNotFoundError:\n",
    "        return \"CUDA not found\" # 如果找不到 nvcc 命令，设置提示信息\n",
    "\n",
    "# 获取 Python 版本的函数\n",
    "def get_python_version():\n",
    "    return platform.python_version() # 获取 Python 版本\n",
    "\n",
    "# 获取 Conda 版本的函数\n",
    "def get_conda_version():\n",
    "    try:\n",
    "        # 尝试使用 conda --version 获取 Conda 版本\n",
    "        result = subprocess.run(['conda', '--version'], capture_output=True, text=True)\n",
    "        if result.returncode == 0: # 如果命令成功执行\n",
    "            return result.stdout.strip() # 返回 Conda 版本\n",
    "        return \"Conda not found or version not parsed\" # 如果找不到 Conda 或版本无法解析，设置提示信息\n",
    "    except FileNotFoundError:\n",
    "        return \"Conda not found\" # 如果找不到 conda 命令，设置提示信息\n",
    "\n",
    "# 获取物理磁盘空间信息的函数\n",
    "def get_disk_space():\n",
    "    try:\n",
    "        total, used, free = shutil.disk_usage(\"/\") # 获取根目录的磁盘使用情况\n",
    "        total_gb = total / (1024**3) # 转换为 GB\n",
    "        used_gb = used / (1024**3) # 转换为 GB\n",
    "        free_gb = free / (1024**3) # 转换为 GB\n",
    "        return f\"Total: {total_gb:.2f} GB, Used: {used_gb:.2f} GB, Free: {free_gb:.2f} GB\" # 格式化输出\n",
    "    except Exception as e:\n",
    "        return f\"Could not retrieve disk info: {e}\" # 如果获取信息出错，设置错误信息\n",
    "\n",
    "# 获取环境信息\n",
    "os_name = platform.system() # 获取操作系统名称\n",
    "os_version = platform.release() # 获取操作系统版本\n",
    "if os_name == \"Linux\":\n",
    "    try:\n",
    "        # 在 Linux 上尝试获取发行版和版本\n",
    "        lsb_info = subprocess.run(['lsb_release', '-a'], capture_output=True, text=True)\n",
    "        if lsb_info.returncode == 0: # 如果命令成功执行\n",
    "            for line in lsb_info.stdout.splitlines():\n",
    "                if 'Description:' in line: # 查找包含 'Description:' 的行\n",
    "                    os_version = line.split('Description:')[1].strip() # 提取描述信息作为版本\n",
    "                    break # 找到后退出循环\n",
    "                elif 'Release:' in line: # 查找包含 'Release:' 的行\n",
    "                     os_version = line.split('Release:')[1].strip() # 提取版本号\n",
    "                     # 尝试获取 codename\n",
    "                     try:\n",
    "                         codename_info = subprocess.run(['lsb_release', '-c'], capture_output=True, text=True)\n",
    "                         if codename_info.returncode == 0:\n",
    "                             os_version += f\" ({codename_info.stdout.split(':')[1].strip()})\" # 将 codename 添加到版本信息中\n",
    "                     except:\n",
    "                         pass # 如果获取 codename 失败则忽略\n",
    "\n",
    "    except FileNotFoundError:\n",
    "        pass # lsb_release 可能未安装，忽略错误\n",
    "\n",
    "full_os_info = f\"{os_name} {os_version}\" # 组合完整的操作系统信息\n",
    "cpu_info = get_cpu_info() # 调用函数获取 CPU 信息和核心数量\n",
    "memory_info = get_memory_info() # 调用函数获取内存信息\n",
    "gpu_info = get_gpu_info() # 调用函数获取 GPU 信息和显存\n",
    "cuda_version = get_cuda_version() # 调用函数获取 CUDA 版本\n",
    "python_version = get_python_version() # 调用函数获取 Python 版本\n",
    "conda_version = get_conda_version() # 调用函数获取 Conda 版本\n",
    "disk_info = get_disk_space() # 调用函数获取物理磁盘空间信息\n",
    "\n",
    "\n",
    "# 创建用于存储数据的字典\n",
    "env_data = {\n",
    "    \"项目\": [ # 项目名称列表\n",
    "        \"操作系统\",\n",
    "        \"CPU 信息\",\n",
    "        \"内存信息\",\n",
    "        \"GPU 信息\",\n",
    "        \"CUDA 信息\",\n",
    "        \"Python 版本\",\n",
    "        \"Conda 版本\",\n",
    "        \"物理磁盘空间\" # 添加物理磁盘空间\n",
    "    ],\n",
    "    \"信息\": [ # 对应的信息列表\n",
    "        full_os_info,\n",
    "        cpu_info,\n",
    "        memory_info,\n",
    "        gpu_info,\n",
    "        cuda_version,\n",
    "        python_version,\n",
    "        conda_version,\n",
    "        disk_info # 添加物理磁盘空间信息\n",
    "    ]\n",
    "}\n",
    "\n",
    "# 创建一个 pandas DataFrame\n",
    "df = pd.DataFrame(env_data)\n",
    "\n",
    "# 打印表格\n",
    "print(\"### 环境信息\") # 打印标题\n",
    "print(df.to_markdown(index=False)) # 将 DataFrame 转换为 Markdown 格式并打印，不包含索引\n"
   ]
  },
  {
   "cell_type": "markdown",
   "metadata": {
    "id": "view-in-github",
    "colab_type": "text"
   },
   "source": [
    "<a href=\"https://colab.research.google.com/github/FlyAIBox/langchain-academy/blob/fly101/module-5/memoryschema_collection.ipynb\" target=\"_parent\"><img src=\"https://colab.research.google.com/assets/colab-badge.svg\" alt=\"Open In Colab\"/></a>"
   ]
  },
  {
   "cell_type": "markdown",
   "metadata": {
    "id": "j_Pu6Mcqf0Q1"
   },
   "source": [
    "# 基于集合模式的聊天机器人\n",
    "\n",
    "## 回顾\n",
    "\n",
    "在前面的课程中，我们扩展了聊天机器人，使其能够将语义记忆保存到单个[用户档案](https://langchain-ai.github.io/langgraph/concepts/memory/#profile)中。\n",
    "\n",
    "我们还介绍了一个名为[Trustcall](https://github.com/hinthornw/trustcall)的库，用于使用新信息更新这个模式。\n",
    "\n",
    "## 学习目标\n",
    "\n",
    "有时我们希望将记忆保存到[集合](https://docs.google.com/presentation/d/181mvjlgsnxudQI6S3ritg9sooNyu4AcLLFH1UK0kIuk/edit#slide=id.g30eb3c8cf10_0_200)中，而不是单个档案。\n",
    "\n",
    "在这里，我们将更新聊天机器人以[将记忆保存到集合](https://langchain-ai.github.io/langgraph/concepts/memory/#collection)中。\n",
    "\n",
    "我们还将展示如何使用[Trustcall](https://github.com/hinthornw/trustcall)来更新这个集合。\n",
    "\n",
    "## 核心概念\n",
    "\n",
    "### 什么是集合模式？\n",
    "- **集合模式**：一种灵活的数据存储方式，允许我们存储多个独立的记忆条目\n",
    "- **与档案模式的区别**：档案模式有固定的结构，而集合模式可以动态添加和更新记忆\n",
    "- **优势**：更适合存储开放式的用户交互记忆，可以随着对用户了解的深入而增长和变化\n",
    "\n",
    "### 技术栈\n",
    "- **LangGraph**：用于构建状态图和工作流\n",
    "- **Trustcall**：用于智能更新和插入记忆\n",
    "- **Pydantic**：用于数据验证和序列化\n",
    "- **OpenAI GPT-4**：作为语言模型\n"
   ]
  },
  {
   "cell_type": "code",
   "execution_count": 1,
   "metadata": {
    "id": "a-xAt7QJf0Q6"
   },
   "outputs": [],
   "source": [
    "# 安装必要的依赖包\n",
    "# 使用 %%capture 来隐藏安装过程中的输出信息\n",
    "%%capture --no-stderr\n",
    "# %pip install -U langchain_openai langgraph trustcall langchain_core\n",
    "%pip install --quiet langchain_openai==0.3.32 langchain_core==0.3.75 langgraph==0.6.7 trustcall==0.0.39"
   ]
  },
  {
   "cell_type": "code",
   "execution_count": 2,
   "metadata": {
    "colab": {
     "base_uri": "https://localhost:8080/"
    },
    "id": "vQlICG2vf0Q7",
    "outputId": "c7af21d9-0061-4aeb-8b02-902b6d8c631d"
   },
   "outputs": [
    {
     "name": "stdout",
     "output_type": "stream",
     "text": [
      "LANGSMITH_API_KEY: ··········\n"
     ]
    }
   ],
   "source": [
    "# 导入必要的库\n",
    "import os, getpass\n",
    "\n",
    "def _set_env(var: str):\n",
    "    \"\"\"\n",
    "    设置环境变量的辅助函数\n",
    "\n",
    "    参数:\n",
    "        var (str): 环境变量名称\n",
    "    \"\"\"\n",
    "    # 检查环境变量是否已在操作系统中设置\n",
    "    env_value = os.environ.get(var)\n",
    "    if not env_value:\n",
    "        # 如果未设置，提示用户输入\n",
    "        env_value = getpass.getpass(f\"{var}: \")\n",
    "\n",
    "    # 为当前进程设置环境变量\n",
    "    os.environ[var] = env_value\n",
    "\n",
    "# 设置 LangSmith API 密钥（用于追踪和监控）\n",
    "_set_env(\"LANGSMITH_API_KEY\")\n",
    "os.environ[\"LANGSMITH_TRACING\"] = \"true\"  # 启用追踪\n",
    "os.environ[\"LANGSMITH_PROJECT\"] = \"FlyAIBox\"  # 设置项目名称"
   ]
  },
  {
   "cell_type": "markdown",
   "metadata": {
    "id": "BWUviWj9f0Q7"
   },
   "source": [
    "## 定义集合模式\n",
    "\n",
    "**与将用户信息存储在固定档案结构中不同，我们将创建一个灵活的集合模式来存储用户交互的记忆。**\n",
    "\n",
    "每个记忆将作为单独的条目存储，包含一个 `content` 字段，用于存储我们想要记住的主要信息。\n",
    "\n",
    "这种方法允许我们构建一个开放式的记忆集合，随着我们对用户了解的深入而增长和变化。\n",
    "\n",
    "我们可以将集合模式定义为 [Pydantic](https://docs.pydantic.dev/latest/) 对象。\n",
    "\n",
    "### 为什么使用集合模式？\n",
    "\n",
    "1. **灵活性**：可以动态添加新的记忆类型，不受固定结构限制\n",
    "2. **可扩展性**：随着对话的进行，记忆集合可以无限增长\n",
    "3. **独立性**：每个记忆条目都是独立的，便于管理和更新\n",
    "4. **语义搜索**：支持基于内容的语义搜索和检索"
   ]
  },
  {
   "cell_type": "code",
   "execution_count": 3,
   "metadata": {
    "id": "O0FLbscOf0Q8"
   },
   "outputs": [],
   "source": [
    "# 导入 Pydantic 用于数据验证和序列化\n",
    "from pydantic import BaseModel, Field\n",
    "\n",
    "class Memory(BaseModel):\n",
    "    \"\"\"\n",
    "    单个记忆条目的数据模型\n",
    "\n",
    "    属性:\n",
    "        content (str): 记忆的主要内容，例如：\"用户表达了对学习法语的兴趣\"\n",
    "    \"\"\"\n",
    "    content: str = Field(description=\"记忆的主要内容。例如：用户表达了对学习法语的兴趣。\")\n",
    "\n",
    "class MemoryCollection(BaseModel):\n",
    "    \"\"\"\n",
    "    记忆集合的数据模型\n",
    "\n",
    "    属性:\n",
    "        memories (list[Memory]): 关于用户的记忆列表\n",
    "    \"\"\"\n",
    "    memories: list[Memory] = Field(description=\"关于用户的记忆列表。\")"
   ]
  },
  {
   "cell_type": "code",
   "execution_count": 4,
   "metadata": {
    "colab": {
     "base_uri": "https://localhost:8080/"
    },
    "id": "XZye20S-f0Q8",
    "outputId": "d009a57f-1f4e-4041-fb5e-6c245ead1fa6"
   },
   "outputs": [
    {
     "name": "stdout",
     "output_type": "stream",
     "text": [
      "OPENAI_API_KEY: ··········\n",
      "OPENAI_BASE_URL: ··········\n"
     ]
    }
   ],
   "source": [
    "# 设置OpenAI API密钥\n",
    "# 您需要从 https://api.apiyi.com/v1 获取API密钥\n",
    "_set_env(\"OPENAI_API_KEY\")\n",
    "# 设置 OpenAI API代理地址 (例如：https://api.apiyi.com/v1）\n",
    "_set_env(\"OPENAI_BASE_URL\")"
   ]
  },
  {
   "cell_type": "markdown",
   "metadata": {
    "id": "HajQPrK3f0Q8"
   },
   "source": [
    "我们可以使用 LangChain 聊天模型接口的 [`with_structured_output`](https://python.langchain.com/docs/concepts/structured_outputs/#recommended-usage) 方法来强制生成结构化输出。\n",
    "\n",
    "### 什么是结构化输出？\n",
    "- **结构化输出**：确保语言模型返回符合预定义模式的数据\n",
    "- **优势**：保证数据格式的一致性，便于后续处理\n",
    "- **应用场景**：提取信息、生成特定格式的响应等"
   ]
  },
  {
   "cell_type": "code",
   "execution_count": 5,
   "metadata": {
    "colab": {
     "base_uri": "https://localhost:8080/"
    },
    "id": "mrgD_7ZDf0Q9",
    "outputId": "51dd8f2d-5b89-49f2-a060-543f73586604"
   },
   "outputs": [
    {
     "output_type": "execute_result",
     "data": {
      "text/plain": [
       "[Memory(content='用户的名字是FLY。'), Memory(content='用户喜欢骑自行车。')]"
      ]
     },
     "metadata": {},
     "execution_count": 5
    }
   ],
   "source": [
    "# 导入必要的消息类型和模型\n",
    "from langchain_core.messages import HumanMessage\n",
    "from langchain_openai import ChatOpenAI\n",
    "\n",
    "# 初始化 GPT-4o 模型\n",
    "# temperature=0 确保输出更加确定性和一致\n",
    "model = ChatOpenAI(model=\"gpt-4o\", temperature=0)\n",
    "\n",
    "# 将记忆集合模式绑定到模型，确保输出符合我们的数据结构\n",
    "model_with_structure = model.with_structured_output(MemoryCollection)\n",
    "\n",
    "# 调用模型生成符合模式的结构化输出\n",
    "# 输入：\"我的名字是FLY，我喜欢骑自行车。\"\n",
    "memory_collection = model_with_structure.invoke([HumanMessage(\"我的名字是FLY，我喜欢骑自行车。\")])\n",
    "memory_collection.memories"
   ]
  },
  {
   "cell_type": "markdown",
   "metadata": {
    "id": "pEOKjhhaf0Q9"
   },
   "source": [
    "我们可以使用 `model_dump()` 方法将 Pydantic 模型实例序列化为 Python 字典。\n",
    "\n",
    "### `model_dump()` 的作用\n",
    "\n",
    "`model_dump()` 是 **Pydantic** 库中一个非常常用的方法，它的核心作用是**将一个 Pydantic 模型实例转换为一个 Python 字典（`dict`）**。\n",
    "\n",
    "这个方法是 **Pydantic** 模型类自带的，你不需要额外导入它。当你有一个填充了数据的 Pydantic 对象时，`model_dump()` 可以帮助你轻松地获取这些数据，以便进行后续处理，比如：\n",
    "\n",
    "  * **序列化为 JSON**：将模型数据发送给 API 接口。\n",
    "  * **写入数据库**：将模型数据转换为数据库可接受的格式。\n",
    "  * **调试和打印**：检查模型中的数据是否正确。\n",
    "\n",
    "-----\n",
    "\n",
    "### 主要参数和功能\n",
    "\n",
    "`model_dump()` 提供了几个有用的参数来控制转换过程，让你能更灵活地处理数据。\n",
    "\n",
    "#### 1\\. `mode`\n",
    "\n",
    "这是最重要的参数，它决定了如何处理数据：\n",
    "\n",
    "  * **`'json'` (默认)**：这是最常用的模式。它会确保所有数据都能够被 JSON 序列化。例如，它会自动将 `datetime` 对象转换为 ISO 格式的字符串。\n",
    "  * **`'python'`**：这种模式会尽量保留原始的 Python 类型。它不会像 `'json'` 模式那样对数据进行转换，适用于需要在 Python 环境中进一步处理的情况。\n",
    "\n",
    "#### 2\\. `include` 和 `exclude`\n",
    "\n",
    "这两个参数让你能控制哪些字段被包含或排除在最终的字典中。\n",
    "\n",
    "  * **`include`**：只包含你指定的字段。\n",
    "  * **`exclude`**：排除你指定的字段。\n",
    "\n",
    "你还可以使用嵌套的字典来指定要包含或排除子模型中的字段。\n",
    "\n",
    "#### 3\\. `by_alias`\n",
    "\n",
    "Pydantic 允许你在模型中为字段定义别名（alias），以便在加载数据时使用不同的名称。\n",
    "\n",
    "  * 当 `by_alias=True` 时，导出的字典会使用字段的**别名**作为键。这对于生成符合外部 API 要求的 JSON 数据非常有用。\n",
    "  * 当 `by_alias=False` 时（默认），导出的字典会使用**原始的字段名**作为键。\n",
    "\n",
    "### 示例\n",
    "\n",
    "让我们通过一个简单的例子来理解 `model_dump()` 的用法。\n",
    "\n",
    "```python\n",
    "from datetime import datetime\n",
    "from typing import Optional\n",
    "from pydantic import BaseModel, Field\n",
    "\n",
    "class User(BaseModel):\n",
    "    id: int\n",
    "    name: str = Field(alias='full_name')\n",
    "    registration_date: datetime\n",
    "    is_active: bool = True\n",
    "    \n",
    "# 创建一个 User 模型实例\n",
    "user_data = {\n",
    "    'id': 123,\n",
    "    'full_name': '张三',\n",
    "    'registration_date': datetime(2023, 1, 15, 10, 30, 0)\n",
    "}\n",
    "user = User.model_validate(user_data)\n",
    "\n",
    "# 默认用法: mode='json'\n",
    "# `full_name` 别名会被转换回 `name`\n",
    "print(user.model_dump())\n",
    "# 输出: {'id': 123, 'name': '张三', 'registration_date': '2023-01-15T10:30:00', 'is_active': True}\n",
    "\n",
    "# 使用 by_alias=True\n",
    "print(user.model_dump(by_alias=True))\n",
    "# 输出: {'id': 123, 'full_name': '张三', 'registration_date': '2023-01-15T10:30:00', 'is_active': True}\n",
    "\n",
    "# 使用 include\n",
    "print(user.model_dump(include={'name', 'registration_date'}))\n",
    "# 输出: {'name': '张三', 'registration_date': '2023-01-15T10:30:00'}\n",
    "\n",
    "# 使用 exclude\n",
    "print(user.model_dump(exclude={'is_active'}))\n",
    "# 输出: {'id': 123, 'name': '张三', 'registration_date': '2023-01-15T10:30:00'}\n",
    "```\n",
    "\n",
    "总之，`model_dump()` 是 Pydantic 模型的一个重要工具，它让你能以一种灵活、可控的方式，将结构化的数据模型转换为通用的 Python 字典，从而方便地与其他系统或格式进行交互。\n",
    "\n",
    "### 作用\n",
    "- **数据转换**：将 Pydantic 对象转换为标准的 Python 字典\n",
    "- **存储准备**：为后续存储到数据库或文件做准备\n",
    "- **API 传输**：便于在 API 之间传输数据"
   ]
  },
  {
   "cell_type": "code",
   "execution_count": 6,
   "metadata": {
    "colab": {
     "base_uri": "https://localhost:8080/"
    },
    "id": "aA2VPtuKf0Q-",
    "outputId": "9316f61d-868e-4ebb-b2ad-069f322e52b9"
   },
   "outputs": [
    {
     "output_type": "execute_result",
     "data": {
      "text/plain": [
       "{'content': '用户的名字是FLY。'}"
      ]
     },
     "metadata": {},
     "execution_count": 6
    }
   ],
   "source": [
    "# 将第一个记忆条目序列化为字典格式\n",
    "memory_collection.memories[0].model_dump()"
   ]
  },
  {
   "cell_type": "markdown",
   "metadata": {
    "id": "SSuoFafIf0Q-"
   },
   "source": [
    "将每个记忆的字典表示保存到存储中。\n",
    "\n",
    "### 存储机制说明\n",
    "- **命名空间**：使用 (用户ID, \"memories\") 作为命名空间来组织记忆\n",
    "- **唯一键**：为每个记忆生成唯一的 UUID 作为键\n",
    "- **值存储**：将序列化后的记忆字典作为值存储"
   ]
  },
  {
   "cell_type": "code",
   "execution_count": 7,
   "metadata": {
    "id": "YmJe84Ntf0Q-"
   },
   "outputs": [],
   "source": [
    "# 导入必要的库\n",
    "import uuid\n",
    "from langgraph.store.memory import InMemoryStore\n",
    "\n",
    "# 初始化内存存储（用于演示，生产环境建议使用持久化存储）\n",
    "in_memory_store = InMemoryStore()\n",
    "\n",
    "# 定义存储记忆的命名空间\n",
    "user_id = \"1\"  # 用户ID\n",
    "namespace_for_memory = (user_id, \"memories\")  # 命名空间：(用户ID, \"memories\")\n",
    "\n",
    "# 保存第一个记忆到存储中\n",
    "key = str(uuid.uuid4())  # 生成唯一键\n",
    "value = memory_collection.memories[0].model_dump()  # 序列化记忆\n",
    "in_memory_store.put(namespace_for_memory, key, value)\n",
    "\n",
    "# 保存第二个记忆到存储中\n",
    "key = str(uuid.uuid4())  # 生成新的唯一键\n",
    "value = memory_collection.memories[1].model_dump()  # 序列化记忆\n",
    "in_memory_store.put(namespace_for_memory, key, value)"
   ]
  },
  {
   "cell_type": "markdown",
   "metadata": {
    "id": "ACr2BzmCf0Q-"
   },
   "source": [
    "在存储中搜索记忆。\n",
    "\n",
    "### 搜索功能说明\n",
    "- **命名空间搜索**：在指定命名空间内搜索所有记忆\n",
    "- **返回格式**：包含记忆内容、键、命名空间、创建和更新时间等信息\n",
    "- **用途**：用于检索和显示已存储的用户记忆"
   ]
  },
  {
   "cell_type": "code",
   "execution_count": 8,
   "metadata": {
    "colab": {
     "base_uri": "https://localhost:8080/"
    },
    "id": "gYvjotBEf0Q-",
    "outputId": "017e825a-1d35-45b2-d6be-0041283bb137"
   },
   "outputs": [
    {
     "output_type": "stream",
     "name": "stdout",
     "text": [
      "{'namespace': ['1', 'memories'], 'key': '066f78f4-a537-4cc0-8c66-eb801eeb3b1c', 'value': {'content': '用户的名字是FLY。'}, 'created_at': '2025-09-18T01:50:27.658978+00:00', 'updated_at': '2025-09-18T01:50:27.658981+00:00', 'score': None}\n",
      "{'namespace': ['1', 'memories'], 'key': '5a42685e-523a-4507-b79f-e795fbbdb572', 'value': {'content': '用户喜欢骑自行车。'}, 'created_at': '2025-09-18T01:50:27.659149+00:00', 'updated_at': '2025-09-18T01:50:27.659150+00:00', 'score': None}\n"
     ]
    }
   ],
   "source": [
    "# 搜索并显示存储中的所有记忆\n",
    "for m in in_memory_store.search(namespace_for_memory):\n",
    "    print(m.dict())"
   ]
  },
  {
   "cell_type": "markdown",
   "metadata": {
    "id": "e2gRX6-vf0Q_"
   },
   "source": [
    "## 更新集合模式\n",
    "\n",
    "我们在上一课中讨论了更新档案模式的挑战。\n",
    "\n",
    "同样的挑战也适用于集合！\n",
    "\n",
    "我们希望具备以下能力：\n",
    "- 向集合中添加新记忆\n",
    "- 更新集合中现有的记忆\n",
    "\n",
    "现在我们将展示 [Trustcall](https://github.com/hinthornw/trustcall) 也可以用于更新集合。\n",
    "\n",
    "这使我们能够同时进行新记忆的添加和[现有记忆的更新](https://github.com/hinthornw/trustcall?tab=readme-ov-file#simultanous-updates--insertions)。\n",
    "\n",
    "让我们使用 Trustcall 定义一个新的提取器。\n",
    "\n",
    "与之前一样，我们为每个记忆提供模式 `Memory`。\n",
    "\n",
    "但是，我们可以设置 `enable_inserts=True` 来允许提取器向集合中插入新记忆。\n",
    "\n",
    "### Trustcall 的优势\n",
    "\n",
    "1. **智能更新**：能够识别哪些记忆需要更新，哪些需要新增\n",
    "2. **并行处理**：同时处理更新和插入操作\n",
    "3. **上下文感知**：基于对话上下文智能合并信息\n",
    "4. **一致性保证**：确保记忆集合的一致性和准确性"
   ]
  },
  {
   "cell_type": "code",
   "execution_count": 27,
   "metadata": {
    "id": "5geG3xKzf0Q_"
   },
   "outputs": [],
   "source": [
    "# 导入 Trustcall 库\n",
    "from trustcall import create_extractor\n",
    "\n",
    "# 创建 Trustcall 提取器\n",
    "# 配置参数说明：\n",
    "# - model: 使用的语言模型\n",
    "# - tools: 可用的工具列表（这里只有 Memory 工具）\n",
    "# - tool_choice: 指定使用的工具\n",
    "# - enable_inserts: 允许插入新记忆到集合中\n",
    "trustcall_extractor = create_extractor(\n",
    "    model,\n",
    "    tools=[Memory],\n",
    "    tool_choice=\"Memory\",\n",
    "    enable_inserts=True,  # 关键参数：允许插入新记忆\n",
    ")"
   ]
  },
  {
   "cell_type": "code",
   "execution_count": 28,
   "metadata": {
    "id": "6YMm9Mt1f0Q_"
   },
   "outputs": [],
   "source": [
    "# 导入消息类型\n",
    "from langchain_core.messages import HumanMessage, SystemMessage, AIMessage\n",
    "\n",
    "# 定义提取指令\n",
    "instruction = \"\"\"从以下对话中提取记忆：\"\"\"\n",
    "\n",
    "# 模拟对话内容\n",
    "conversation = [\n",
    "    HumanMessage(content=\"你好，我是 FLY\"),  # 用户：你好，我是 FLY\n",
    "    AIMessage(content=\"很高兴认识你，FLY\"),  # AI：很高兴认识你，FLY\n",
    "    HumanMessage(content=\"今天早上我在湖边骑自行车\")  # 用户：今天早上我在湖边骑自行车\n",
    "]\n",
    "\n",
    "# 调用提取器处理对话\n",
    "# 将系统指令和对话消息组合后传递给提取器\n",
    "result = trustcall_extractor.invoke({\"messages\": [SystemMessage(content=instruction)] + conversation})"
   ]
  },
  {
   "cell_type": "code",
   "execution_count": 29,
   "metadata": {
    "colab": {
     "base_uri": "https://localhost:8080/"
    },
    "id": "KYRi5nBgf0Q_",
    "outputId": "f54c0a29-5a97-4d55-d1e7-981ba3f07ccb"
   },
   "outputs": [
    {
     "output_type": "stream",
     "name": "stdout",
     "text": [
      "==================================\u001b[1m Ai Message \u001b[0m==================================\n",
      "Tool Calls:\n",
      "  Memory (call_xhY8DBgZqbkqXdoVnJIonGL2)\n",
      " Call ID: call_xhY8DBgZqbkqXdoVnJIonGL2\n",
      "  Args:\n",
      "    content: FLY 今天早上在湖边骑自行车。\n"
     ]
    }
   ],
   "source": [
    "# 显示提取器返回的消息，包含工具调用信息\n",
    "# result[\"messages\"] 包含模型生成的消息和工具调用\n",
    "for m in result[\"messages\"]:\n",
    "    m.pretty_print()"
   ]
  },
  {
   "cell_type": "code",
   "execution_count": 30,
   "metadata": {
    "colab": {
     "base_uri": "https://localhost:8080/"
    },
    "id": "HEYEIK-If0Q_",
    "outputId": "853e6b5d-1485-47b1-99f9-0f515de94a3d"
   },
   "outputs": [
    {
     "output_type": "stream",
     "name": "stdout",
     "text": [
      "content='FLY 今天早上在湖边骑自行车。'\n"
     ]
    }
   ],
   "source": [
    "# 显示提取的记忆，这些记忆符合我们定义的模式\n",
    "# result[\"responses\"] 包含符合 Memory 模式的记忆对象\n",
    "for m in result[\"responses\"]:\n",
    "    print(m)"
   ]
  },
  {
   "cell_type": "code",
   "execution_count": 31,
   "metadata": {
    "colab": {
     "base_uri": "https://localhost:8080/"
    },
    "id": "PNxJ3xPyf0Q_",
    "outputId": "99d3255b-cfde-4079-cc16-19198912929b"
   },
   "outputs": [
    {
     "output_type": "stream",
     "name": "stdout",
     "text": [
      "{'id': 'call_xhY8DBgZqbkqXdoVnJIonGL2'}\n"
     ]
    }
   ],
   "source": [
    "# 显示响应元数据，包含工具调用的详细信息\n",
    "# result[\"response_metadata\"] 包含每个响应的元数据信息\n",
    "for m in result[\"response_metadata\"]:\n",
    "    print(m)"
   ]
  },
  {
   "cell_type": "code",
   "execution_count": 32,
   "metadata": {
    "colab": {
     "base_uri": "https://localhost:8080/"
    },
    "id": "aZ_Ea3PRf0Q_",
    "outputId": "6f8eabe6-5b5b-40ce-c6f4-b662952629ce"
   },
   "outputs": [
    {
     "output_type": "execute_result",
     "data": {
      "text/plain": [
       "[('0', 'Memory', {'content': 'FLY 今天早上在湖边骑自行车。'})]"
      ]
     },
     "metadata": {},
     "execution_count": 32
    }
   ],
   "source": [
    "# 模拟对话的延续，用于演示记忆更新\n",
    "updated_conversation = [\n",
    "    AIMessage(content=\"太棒了，之后你做了什么？\"),  # AI：太棒了，之后你做了什么？\n",
    "    HumanMessage(content=\"我去了咖啡店喝了咖啡\"),  # 用户：我去了咖啡店喝了咖啡\n",
    "    AIMessage(content=\"你还想说什么？\"),  # AI：你还想说什么？\n",
    "    HumanMessage(content=\"我在想去日本旅游，想今年冬天再去\"),  # 用户：我在想日本，想今年冬天再去\n",
    "]\n",
    "\n",
    "# 更新指令，要求更新现有记忆并创建新记忆\n",
    "system_msg = \"\"\"基于以下对话更新现有记忆并创建新记忆：\"\"\"\n",
    "\n",
    "# 准备现有记忆数据，用于 Trustcall 的更新功能\n",
    "# 格式：(ID, 工具名称, 记忆内容字典)\n",
    "tool_name = \"Memory\"\n",
    "# 这行代码创建了一个名为 existing_memories 的列表，用于存储格式化后的现有记忆。\n",
    "# 这个列表的格式是 Trustcall 提取器在处理更新和插入时所期望的。\n",
    "\n",
    "# 列表中的每个元素都是一个元组 (ID, 工具名称, 记忆内容字典)。\n",
    "# - (str(i), tool_name, memory.model_dump()) 是列表推导式中的一个元素。\n",
    "# - enumerate(result[\"responses\"]) 遍历 result[\"responses\"] 列表，该列表包含之前提取到的 Memory 对象。\n",
    "#   enumerate 返回索引 i 和对应的 Memory 对象 memory。\n",
    "\n",
    "# - str(i) 将索引 i 转换为字符串作为记忆的 ID。这个 ID 用于标识要更新的现有记忆。\n",
    "# - tool_name 是工具名称，这里是 \"Memory\"。\n",
    "# - memory.model_dump() 将 Memory 对象序列化为 Python 字典，包含记忆的具体内容。\n",
    "\n",
    "# - if result[\"responses\"] else None 是一个条件表达式。如果 result[\"responses\"] 列表不为空，则执行列表推导式创建列表；\n",
    "#   否则，existing_memories 被设置为 None。这是因为如果之前没有提取到记忆，就不存在需要更新的现有记忆。\n",
    "existing_memories = [(str(i), tool_name, memory.model_dump()) for i, memory in enumerate(result[\"responses\"])] if result[\"responses\"] else None\n",
    "existing_memories"
   ]
  },
  {
   "cell_type": "code",
   "execution_count": 33,
   "metadata": {
    "id": "_MgjXn1Gf0RA"
   },
   "outputs": [],
   "source": [
    "# 使用更新的对话和现有记忆调用提取器\n",
    "# 这次调用将演示如何同时更新现有记忆和创建新记忆\n",
    "result = trustcall_extractor.invoke({\"messages\": updated_conversation,\n",
    "                                     \"existing\": existing_memories})"
   ]
  },
  {
   "cell_type": "code",
   "execution_count": 34,
   "metadata": {
    "colab": {
     "base_uri": "https://localhost:8080/"
    },
    "id": "nc34BTRXf0RA",
    "outputId": "653d2cdd-0f23-4b63-a728-a4f8962382c9"
   },
   "outputs": [
    {
     "output_type": "stream",
     "name": "stdout",
     "text": [
      "==================================\u001b[1m Ai Message \u001b[0m==================================\n",
      "Tool Calls:\n",
      "  Memory (call_dxfDTvEWGGUwWI4BBSVPIglj)\n",
      " Call ID: call_dxfDTvEWGGUwWI4BBSVPIglj\n",
      "  Args:\n",
      "    content: FLY 去了咖啡店喝了咖啡。\n",
      "  Memory (call_aQUNPGZ5RI5MuKiVcdLfQgUP)\n",
      " Call ID: call_aQUNPGZ5RI5MuKiVcdLfQgUP\n",
      "  Args:\n",
      "    content: FLY 想去日本旅游，计划今年冬天去。\n"
     ]
    }
   ],
   "source": [
    "# 显示模型生成的消息，可以看到进行了两次工具调用\n",
    "# 一次用于更新现有记忆，一次用于创建新记忆\n",
    "for m in result[\"messages\"]:\n",
    "    m.pretty_print()"
   ]
  },
  {
   "cell_type": "code",
   "source": [
    "\n",
    "    print(result)"
   ],
   "metadata": {
    "id": "gH4kzfe687ka",
    "outputId": "a1def8ad-e20c-40fc-9721-35e79ba88017",
    "colab": {
     "base_uri": "https://localhost:8080/"
    }
   },
   "execution_count": 38,
   "outputs": [
    {
     "output_type": "stream",
     "name": "stdout",
     "text": [
      "{'messages': [AIMessage(content='', additional_kwargs={'updated_docs': {}}, response_metadata={}, id='ad844faf-5cff-4850-9233-7e148c30bf13', tool_calls=[{'name': 'Memory', 'args': {'content': 'FLY 去了咖啡店喝了咖啡。'}, 'id': 'call_dxfDTvEWGGUwWI4BBSVPIglj', 'type': 'tool_call'}, {'name': 'Memory', 'args': {'content': 'FLY 想去日本旅游，计划今年冬天去。'}, 'id': 'call_aQUNPGZ5RI5MuKiVcdLfQgUP', 'type': 'tool_call'}])], 'responses': [Memory(content='FLY 去了咖啡店喝了咖啡。'), Memory(content='FLY 想去日本旅游，计划今年冬天去。')], 'response_metadata': [{'id': 'call_dxfDTvEWGGUwWI4BBSVPIglj'}, {'id': 'call_aQUNPGZ5RI5MuKiVcdLfQgUP'}], 'attempts': 1}\n"
     ]
    }
   ]
  },
  {
   "cell_type": "code",
   "execution_count": 35,
   "metadata": {
    "colab": {
     "base_uri": "https://localhost:8080/"
    },
    "id": "tBf7JHPTf0RA",
    "outputId": "2f88f470-b93b-42cf-c219-d1a1b729dc07"
   },
   "outputs": [
    {
     "output_type": "stream",
     "name": "stdout",
     "text": [
      "content='FLY 去了咖啡店喝了咖啡。'\n",
      "content='FLY 想去日本旅游，计划今年冬天去。'\n"
     ]
    }
   ],
   "source": [
    "# 显示更新后的记忆，包含合并和新增的内容\n",
    "for m in result[\"responses\"]:\n",
    "    print(m)"
   ]
  },
  {
   "cell_type": "markdown",
   "metadata": {
    "id": "LyrDbDe1f0RA"
   },
   "source": [
    "这告诉我们通过指定 `json_doc_id` 更新集合中的第一个记忆。\n",
    "\n",
    "### 更新机制说明\n",
    "- **json_doc_id**: 用于标识要更新的现有记忆\n",
    "- **无 json_doc_id**: 表示这是一个新记忆，将被插入到集合中\n",
    "- **智能合并**: Trustcall 能够智能地将新信息与现有记忆合并"
   ]
  },
  {
   "cell_type": "code",
   "execution_count": 44,
   "metadata": {
    "colab": {
     "base_uri": "https://localhost:8080/"
    },
    "id": "wrs2oZR6f0RA",
    "outputId": "5a823c1a-f192-44c7-8430-74084e8eb0c6"
   },
   "outputs": [
    {
     "output_type": "stream",
     "name": "stdout",
     "text": [
      "{'id': 'call_dxfDTvEWGGUwWI4BBSVPIglj'}\n",
      "{'id': 'call_aQUNPGZ5RI5MuKiVcdLfQgUP'}\n"
     ]
    }
   ],
   "source": [
    "# 显示响应元数据，可以看到更新和插入的详细信息\n",
    "for m in result[\"response_metadata\"]:\n",
    "    print(m)"
   ]
  },
  {
   "cell_type": "markdown",
   "metadata": {
    "id": "xHOoBQYDf0RA"
   },
   "source": [
    "### LangSmith 追踪\n",
    "\n",
    "LangSmith 是一个用于监控和调试 LangChain 应用的平台。\n",
    "\n",
    "追踪链接：https://smith.langchain.com/public/ebc1cb01-f021-4794-80c0-c75d6ea90446/r\n",
    "\n",
    "### 追踪的作用\n",
    "- **性能监控**：查看模型调用的延迟和成本\n",
    "- **调试工具**：检查输入输出和中间步骤\n",
    "- **质量评估**：分析模型响应的质量"
   ]
  },
  {
   "cell_type": "markdown",
   "metadata": {
    "id": "pxotR3xLf0RA"
   },
   "source": [
    "## 集成集合模式更新的聊天机器人\n",
    "\n",
    "现在，让我们将 Trustcall 集成到聊天机器人中，以创建和更新记忆集合。\n",
    "\n",
    "### 系统架构\n",
    "\n",
    "我们的聊天机器人将包含以下组件：\n",
    "\n",
    "1. **状态图 (StateGraph)**：定义聊天机器人的工作流程\n",
    "2. **记忆存储 (Memory Store)**：长期存储用户记忆\n",
    "3. **检查点 (Checkpointer)**：短期存储对话状态\n",
    "4. **Trustcall 提取器**：智能更新记忆集合\n",
    "5. **语言模型**：生成响应\n",
    "\n",
    "### 工作流程\n",
    "\n",
    "1. 用户发送消息\n",
    "2. 从存储中检索相关记忆\n",
    "3. 基于记忆和对话历史生成响应\n",
    "4. 使用 Trustcall 更新记忆集合\n",
    "5. 返回响应给用户"
   ]
  },
  {
   "cell_type": "code",
   "execution_count": 20,
   "metadata": {
    "colab": {
     "base_uri": "https://localhost:8080/",
     "height": 350
    },
    "id": "008u49E5f0RA",
    "outputId": "1e726d69-7a5f-4e3e-c457-cdc4e1d488f9"
   },
   "outputs": [
    {
     "output_type": "display_data",
     "data": {
      "image/png": "[encoded data removed]",
      "text/plain": [
       "<IPython.core.display.Image object>"
      ]
     },
     "metadata": {}
    }
   ],
   "source": [
    "# 导入必要的库\n",
    "from IPython.display import Image, display\n",
    "import uuid\n",
    "\n",
    "# LangGraph 相关导入\n",
    "from langgraph.graph import StateGraph, MessagesState, START, END\n",
    "from langgraph.store.memory import InMemoryStore\n",
    "from langchain_core.messages import merge_message_runs\n",
    "from langchain_core.messages import HumanMessage, SystemMessage\n",
    "from langchain_core.runnables.config import RunnableConfig\n",
    "from langgraph.checkpoint.memory import MemorySaver\n",
    "from langgraph.store.base import BaseStore\n",
    "\n",
    "# 初始化 GPT-4o 模型\n",
    "model = ChatOpenAI(model=\"gpt-4o\", temperature=0)\n",
    "\n",
    "# 定义记忆模式\n",
    "class Memory(BaseModel):\n",
    "    \"\"\"单个记忆条目的数据模型\"\"\"\n",
    "    content: str = Field(description=\"记忆的主要内容。例如：用户表达了对学习法语的兴趣。\")\n",
    "\n",
    "# 创建 Trustcall 提取器\n",
    "trustcall_extractor = create_extractor(\n",
    "    model,\n",
    "    tools=[Memory],\n",
    "    tool_choice=\"Memory\",\n",
    "    enable_inserts=True,  # 允许插入新记忆\n",
    ")\n",
    "\n",
    "# 聊天机器人的系统提示词\n",
    "MODEL_SYSTEM_MESSAGE = \"\"\"你是一个有用的聊天机器人。你被设计为用户的伴侣。\n",
    "\n",
    "你拥有长期记忆，能够跟踪你随时间了解到的用户信息。\n",
    "\n",
    "当前记忆（可能包含本次对话中更新的记忆）：\n",
    "\n",
    "{memory}\"\"\"\n",
    "\n",
    "# Trustcall 的指令\n",
    "TRUSTCALL_INSTRUCTION = \"\"\"反思以下交互。\n",
    "\n",
    "使用提供的工具来保留关于用户的任何必要记忆。\n",
    "\n",
    "使用并行工具调用来同时处理更新和插入：\"\"\"\n",
    "\n",
    "def call_model(state: MessagesState, config: RunnableConfig, store: BaseStore):\n",
    "    \"\"\"\n",
    "    从存储中加载记忆并使用它们来个性化聊天机器人的响应。\n",
    "\n",
    "    参数:\n",
    "        state: 消息状态\n",
    "        config: 运行配置\n",
    "        store: 记忆存储\n",
    "\n",
    "    返回:\n",
    "        包含模型响应的状态更新\n",
    "    \"\"\"\n",
    "\n",
    "    # 从配置中获取用户ID\n",
    "    user_id = config[\"configurable\"][\"user_id\"]\n",
    "\n",
    "    # 从存储中检索记忆\n",
    "    namespace = (\"memories\", user_id)\n",
    "    memories = store.search(namespace)\n",
    "\n",
    "    # 格式化记忆用于系统提示词\n",
    "    info = \"\\n\".join(f\"- {mem.value['content']}\" for mem in memories)\n",
    "    system_msg = MODEL_SYSTEM_MESSAGE.format(memory=info)\n",
    "\n",
    "    # 使用记忆和聊天历史生成响应\n",
    "    response = model.invoke([SystemMessage(content=system_msg)] + state[\"messages\"])\n",
    "\n",
    "    return {\"messages\": response}\n",
    "\n",
    "def write_memory(state: MessagesState, config: RunnableConfig, store: BaseStore):\n",
    "    \"\"\"\n",
    "    反思聊天历史并更新记忆集合。\n",
    "\n",
    "    参数:\n",
    "        state: 消息状态\n",
    "        config: 运行配置\n",
    "        store: 记忆存储\n",
    "    \"\"\"\n",
    "\n",
    "    # 从配置中获取用户ID\n",
    "    user_id = config[\"configurable\"][\"user_id\"]\n",
    "\n",
    "    # 定义记忆的命名空间\n",
    "    namespace = (\"memories\", user_id)\n",
    "\n",
    "    # 检索现有记忆作为上下文\n",
    "    existing_items = store.search(namespace)\n",
    "\n",
    "    # 为 Trustcall 提取器格式化现有记忆\n",
    "    tool_name = \"Memory\"\n",
    "    existing_memories = ([(existing_item.key, tool_name, existing_item.value)\n",
    "                          for existing_item in existing_items]\n",
    "                          if existing_items\n",
    "                          else None\n",
    "                        )\n",
    "\n",
    "    # 合并聊天历史和指令\n",
    "    updated_messages = list(merge_message_runs(messages=[SystemMessage(content=TRUSTCALL_INSTRUCTION)] + state[\"messages\"]))\n",
    "\n",
    "    # 调用提取器\n",
    "    result = trustcall_extractor.invoke({\"messages\": updated_messages,\n",
    "                                        \"existing\": existing_memories})\n",
    "\n",
    "    # 将 Trustcall 的记忆保存到存储中\n",
    "    for r, rmeta in zip(result[\"responses\"], result[\"response_metadata\"]):\n",
    "        store.put(namespace,\n",
    "                  rmeta.get(\"json_doc_id\", str(uuid.uuid4())),\n",
    "                  r.model_dump(mode=\"json\"),\n",
    "            )\n",
    "\n",
    "# 定义状态图\n",
    "builder = StateGraph(MessagesState)\n",
    "builder.add_node(\"call_model\", call_model)  # 调用模型生成响应\n",
    "builder.add_node(\"write_memory\", write_memory)  # 写入记忆\n",
    "builder.add_edge(START, \"call_model\")  # 开始 -> 调用模型\n",
    "builder.add_edge(\"call_model\", \"write_memory\")  # 调用模型 -> 写入记忆\n",
    "builder.add_edge(\"write_memory\", END)  # 写入记忆 -> 结束\n",
    "\n",
    "# 长期记忆存储（跨线程）\n",
    "across_thread_memory = InMemoryStore()\n",
    "\n",
    "# 短期记忆检查点（线程内）\n",
    "within_thread_memory = MemorySaver()\n",
    "\n",
    "# 编译图，包含检查点和存储\n",
    "graph = builder.compile(checkpointer=within_thread_memory, store=across_thread_memory)\n",
    "\n",
    "# 显示图的可视化\n",
    "display(Image(graph.get_graph(xray=1).draw_mermaid_png()))"
   ]
  },
  {
   "cell_type": "code",
   "execution_count": 39,
   "metadata": {
    "colab": {
     "base_uri": "https://localhost:8080/"
    },
    "id": "qvl97CJOf0RB",
    "outputId": "1e485ba0-b2a3-485e-e70c-47ff43a1d3f7"
   },
   "outputs": [
    {
     "output_type": "stream",
     "name": "stdout",
     "text": [
      "================================\u001b[1m Human Message \u001b[0m=================================\n",
      "\n",
      "嗨，我是Fly\n",
      "==================================\u001b[1m Ai Message \u001b[0m==================================\n",
      "\n",
      "嗨，Fly！很高兴再次和你聊天！最近有没有去湖边骑车或者逛面包店、咖啡店呢？\n"
     ]
    },
    {
     "output_type": "stream",
     "name": "stderr",
     "text": [
      "ERROR:extraction:Could not apply patch: can't remove a non-existent object ''\n",
      "ERROR:extraction:Could not apply patch: can't remove a non-existent object ''\n"
     ]
    }
   ],
   "source": [
    "# 配置运行参数\n",
    "# thread_id: 用于短期记忆（线程内）的线程ID\n",
    "# user_id: 用于长期记忆（跨线程）的用户ID\n",
    "config = {\"configurable\": {\"thread_id\": \"1\", \"user_id\": \"1\"}}\n",
    "\n",
    "# 用户输入\n",
    "input_messages = [HumanMessage(content=\"嗨，我是Fly\")]\n",
    "\n",
    "# 运行聊天机器人图\n",
    "# stream_mode=\"values\" 表示流式返回状态值\n",
    "for chunk in graph.stream({\"messages\": input_messages}, config, stream_mode=\"values\"):\n",
    "    chunk[\"messages\"][-1].pretty_print()"
   ]
  },
  {
   "cell_type": "code",
   "execution_count": 40,
   "metadata": {
    "colab": {
     "base_uri": "https://localhost:8080/"
    },
    "id": "G_ELl37Mf0RB",
    "outputId": "498ff7b8-3f7e-4701-d2a4-2e7600bfc69a"
   },
   "outputs": [
    {
     "output_type": "stream",
     "name": "stdout",
     "text": [
      "================================\u001b[1m Human Message \u001b[0m=================================\n",
      "\n",
      "我喜欢在湖边骑自行车\n",
      "==================================\u001b[1m Ai Message \u001b[0m==================================\n",
      "\n",
      "我记得你提过这个！湖边骑自行车真是个放松又健康的活动。最近有没有什么特别的骑行路线，或者有没有发现什么新的风景？\n"
     ]
    },
    {
     "output_type": "stream",
     "name": "stderr",
     "text": [
      "ERROR:extraction:Could not apply patch: can't remove a non-existent object ''\n",
      "ERROR:extraction:Could not apply patch: can't remove a non-existent object ''\n"
     ]
    }
   ],
   "source": [
    "# 继续对话 - 用户提供更多信息\n",
    "input_messages = [HumanMessage(content=\"我喜欢在湖边骑自行车\")]\n",
    "\n",
    "# 运行聊天机器人图\n",
    "for chunk in graph.stream({\"messages\": input_messages}, config, stream_mode=\"values\"):\n",
    "    chunk[\"messages\"][-1].pretty_print()"
   ]
  },
  {
   "cell_type": "code",
   "execution_count": 41,
   "metadata": {
    "colab": {
     "base_uri": "https://localhost:8080/"
    },
    "id": "nA5z2g5yf0RB",
    "outputId": "8245e38e-ff02-4d52-ec7f-ce14e2052202"
   },
   "outputs": [
    {
     "output_type": "stream",
     "name": "stdout",
     "text": [
      "{'namespace': ['memories', '1'], 'key': '61a02b8b-4e91-4036-9807-4c60e01b2e30', 'value': {'content': '用户自我介绍为Fly。'}, 'created_at': '2025-09-18T02:10:34.552754+00:00', 'updated_at': '2025-09-18T02:10:34.552756+00:00', 'score': None}\n",
      "{'namespace': ['memories', '1'], 'key': '7172f9ca-676a-45ad-a708-ca473fbfa8a2', 'value': {'content': '用户喜欢在湖边骑自行车。'}, 'created_at': '2025-09-18T02:10:50.489321+00:00', 'updated_at': '2025-09-18T02:10:50.489323+00:00', 'score': None}\n",
      "{'namespace': ['memories', '1'], 'key': '6caf57e1-fa97-4c8d-a25e-69d0f774d691', 'value': {'content': '用户喜欢去面包店。'}, 'created_at': '2025-09-18T03:39:23.616651+00:00', 'updated_at': '2025-09-18T03:39:23.616653+00:00', 'score': None}\n",
      "{'namespace': ['memories', '1'], 'key': '3685dd8c-42ac-44e9-a221-3c0536848ae2', 'value': {'content': '用户喜欢去咖啡店。'}, 'created_at': '2025-09-18T03:39:39.599828+00:00', 'updated_at': '2025-09-18T03:39:39.599830+00:00', 'score': None}\n",
      "{'namespace': ['memories', '1'], 'key': 'd051d0e9-e4af-4623-92da-d3ff825157ff', 'value': {'content': '用户自我介绍为Fly。'}, 'created_at': '2025-09-18T03:39:39.599867+00:00', 'updated_at': '2025-09-18T03:39:39.599868+00:00', 'score': None}\n",
      "{'namespace': ['memories', '1'], 'key': 'ba3a4437-e789-482a-b45d-1c57ef4ae111', 'value': {'content': '用户询问推荐的咖啡种类。'}, 'created_at': '2025-09-18T03:40:02.682989+00:00', 'updated_at': '2025-09-18T03:40:02.682991+00:00', 'score': None}\n",
      "{'namespace': ['memories', '1'], 'key': '95f7c81a-a84e-4ff3-a3f7-c96b899d1f69', 'value': {'content': '用户喜欢去咖啡店。'}, 'created_at': '2025-09-18T03:40:02.683030+00:00', 'updated_at': '2025-09-18T03:40:02.683032+00:00', 'score': None}\n"
     ]
    }
   ],
   "source": [
    "# 检查存储的记忆\n",
    "# 定义记忆命名空间\n",
    "user_id = \"1\"\n",
    "namespace = (\"memories\", user_id)\n",
    "\n",
    "# 搜索并显示所有存储的记忆\n",
    "memories = across_thread_memory.search(namespace)\n",
    "for m in memories:\n",
    "    print(m.dict())"
   ]
  },
  {
   "cell_type": "code",
   "execution_count": 45,
   "metadata": {
    "colab": {
     "base_uri": "https://localhost:8080/"
    },
    "id": "xwSk1Injf0RB",
    "outputId": "99761587-c2c5-47a2-95f3-669d7b8ce15b"
   },
   "outputs": [
    {
     "output_type": "stream",
     "name": "stdout",
     "text": [
      "================================\u001b[1m Human Message \u001b[0m=================================\n",
      "\n",
      "我也喜欢去咖啡店\n",
      "==================================\u001b[1m Ai Message \u001b[0m==================================\n",
      "\n",
      "我记得你之前提到过你喜欢去咖啡店！看来咖啡店对你来说是个特别的地方呢。是因为喜欢那里的氛围，还是享受一杯咖啡的悠闲时光？或者你会在那里做一些特别的事情，比如读书、工作，还是单纯地放松？如果你愿意分享，我很乐意听听！\n"
     ]
    }
   ],
   "source": [
    "# 继续对话 - 用户提供更多偏好信息\n",
    "input_messages = [HumanMessage(content=\"我也喜欢去咖啡店\")]\n",
    "\n",
    "# 运行聊天机器人图\n",
    "for chunk in graph.stream({\"messages\": input_messages}, config, stream_mode=\"values\"):\n",
    "    chunk[\"messages\"][-1].pretty_print()"
   ]
  },
  {
   "cell_type": "markdown",
   "metadata": {
    "id": "oRdHGvTDf0RB"
   },
   "source": [
    "在新线程中继续对话。\n",
    "\n",
    "### 新线程的作用\n",
    "- **独立对话**：新线程不会继承之前线程的短期记忆\n",
    "- **长期记忆保持**：用户的长期记忆仍然可用\n",
    "- **测试记忆功能**：验证聊天机器人是否能正确使用长期记忆"
   ]
  },
  {
   "cell_type": "code",
   "execution_count": 43,
   "metadata": {
    "colab": {
     "base_uri": "https://localhost:8080/"
    },
    "id": "2_hvV958f0RB",
    "outputId": "fbc638f5-619d-4c5b-8331-fced36402f83"
   },
   "outputs": [
    {
     "output_type": "stream",
     "name": "stdout",
     "text": [
      "================================\u001b[1m Human Message \u001b[0m=================================\n",
      "\n",
      "您推荐哪些咖啡给我？\n",
      "==================================\u001b[1m Ai Message \u001b[0m==================================\n",
      "\n",
      "Fly，我记得你之前问过这个问题！我推荐的咖啡种类可以根据你的口味和喜好来调整。如果你还没有尝试过以下这些，可以考虑：\n",
      "\n",
      "1. **拿铁（Latte）**：奶味浓郁，适合喜欢顺滑口感的人。\n",
      "2. **卡布奇诺（Cappuccino）**：奶泡丰富，口感更浓郁。\n",
      "3. **摩卡（Mocha）**：咖啡与巧克力的完美结合，适合甜食爱好者。\n",
      "4. **冷萃咖啡（Cold Brew）**：清爽低酸度，特别适合夏天。\n",
      "5. **特调咖啡**：尝试咖啡店的特色创意，比如加入水果或香料的特调。\n",
      "\n",
      "如果你有特别喜欢的口味，比如偏甜、偏苦或者喜欢尝试新奇的风味，可以告诉我，我会根据你的偏好再调整推荐！\n"
     ]
    }
   ],
   "source": [
    "# 使用新的线程ID，但保持相同的用户ID\n",
    "# 这样可以测试长期记忆是否正常工作\n",
    "config = {\"configurable\": {\"thread_id\": \"2\", \"user_id\": \"1\"}}\n",
    "\n",
    "# 用户询问推荐，这将测试聊天机器人是否能使用之前存储的记忆\n",
    "input_messages = [HumanMessage(content=\"您推荐哪些咖啡给我？\")]\n",
    "\n",
    "# 运行聊天机器人图\n",
    "for chunk in graph.stream({\"messages\": input_messages}, config, stream_mode=\"values\"):\n",
    "    chunk[\"messages\"][-1].pretty_print()"
   ]
  },
  {
   "cell_type": "markdown",
   "metadata": {
    "id": "2yfJuswKf0RB"
   },
   "source": [
    "### LangSmith 追踪\n",
    "\n",
    "LangSmith 追踪链接：https://smith.langchain.com/public/c87543ec-b426-4a82-a3ab-94d01c01d9f4/r\n",
    "\n",
    "### LangGraph Studio\n",
    "\n",
    "LangGraph Studio 是一个可视化工具，用于：\n",
    "- **图可视化**：查看聊天机器人的工作流程\n",
    "- **调试**：检查每个节点的输入输出\n",
    "- **测试**：交互式测试聊天机器人功能\n",
    "\n",
    "![LangGraph Studio 界面截图](https://cdn.prod.website-files.com/65b8cd72835ceeacd4449a53/6732d0876d3daa19fef993ba_Screenshot%202024-11-11%20at%207.50.21%E2%80%AFPM.png)\n",
    "\n",
    "## 总结\n",
    "\n",
    "### 本课程学到的内容\n",
    "\n",
    "1. **集合模式**：使用灵活的集合结构存储用户记忆\n",
    "2. **Trustcall 集成**：智能更新和插入记忆\n",
    "3. **LangGraph 工作流**：构建复杂的聊天机器人系统\n",
    "4. **记忆管理**：区分短期和长期记忆\n",
    "5. **状态图**：使用节点和边定义工作流程\n",
    "\n",
    "### 实际应用场景\n",
    "\n",
    "- **个性化助手**：记住用户偏好和习惯\n",
    "- **客服机器人**：维护客户历史记录\n",
    "- **教育应用**：跟踪学习进度和兴趣\n",
    "- **健康管理**：记录健康数据和目标"
   ]
  },
  {
   "cell_type": "code",
   "execution_count": null,
   "metadata": {
    "id": "PSYWth0pf0RB"
   },
   "outputs": [],
   "source": []
  }
 ],
 "metadata": {
  "kernelspec": {
   "display_name": "Python 3 (ipykernel)",
   "language": "python",
   "name": "python3"
  },
  "language_info": {
   "codemirror_mode": {
    "name": "ipython",
    "version": 3
   },
   "file_extension": ".py",
   "mimetype": "text/x-python",
   "name": "python",
   "nbconvert_exporter": "python",
   "pygments_lexer": "ipython3",
   "version": "3.11.8"
  },
  "colab": {
   "provenance": [],
   "include_colab_link": true
  }
 },
 "nbformat": 4,
 "nbformat_minor": 0
}