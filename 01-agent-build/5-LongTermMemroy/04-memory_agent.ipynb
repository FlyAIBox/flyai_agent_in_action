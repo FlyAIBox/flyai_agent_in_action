{
 "cells": [
  {
   "cell_type": "markdown",
   "id": "env_config_overview",
   "metadata": {},
   "source": [
    "# 🔧 环境配置和检查\n",
    "\n",
    "## 概述\n",
    "本教程需要特定的环境配置以确保最佳学习体验。以下配置将帮助您：\n",
    "- 使用统一的conda环境\n",
    "- 通过国内镜像源快速安装依赖\n",
    "- 加速模型下载\n",
    "- 检查系统配置\n",
    "\n",
    "## 配置步骤\n",
    "1. **Conda环境管理** - 激活统一的学习环境\n",
    "2. **包管理器优化** - 配置pip使用清华镜像源\n",
    "3. **模型下载加速** - 设置HuggingFace镜像代理\n",
    "4. **系统环境诊断** - 检查硬件和软件配置\n"
   ]
  },
  {
   "cell_type": "code",
   "execution_count": null,
   "id": "env_conda_activate",
   "metadata": {},
   "outputs": [],
   "source": [
    "# 1. 激活conda环境\n",
    "%%script bash\n",
    "# 初始化 conda\n",
    "eval \"$(conda shell.bash hook)\"\n",
    "conda activate flyai_agent_in_action\n",
    "conda env list\n"
   ]
  },
  {
   "cell_type": "code",
   "execution_count": null,
   "id": "env_pip_config",
   "metadata": {},
   "outputs": [],
   "source": [
    "# 2. 设置pip 为清华源\n",
    "%pip config set global.index-url https://pypi.tuna.tsinghua.edu.cn/simple\n",
    "%pip config list\n"
   ]
  },
  {
   "cell_type": "code",
   "execution_count": null,
   "id": "env_hf_proxy",
   "metadata": {},
   "outputs": [],
   "source": [
    "# 3. 设置HuggingFace代理\n",
    "%env HF_ENDPOINT=https://hf-mirror.com\n",
    "# 验证：使用shell命令检查\n",
    "!echo $HF_ENDPOINT"
   ]
  },
  {
   "cell_type": "code",
   "execution_count": null,
   "id": "env_system_check",
   "metadata": {},
   "outputs": [],
   "source": [
    "# 🔍 环境信息检查脚本\n",
    "#\n",
    "# 本脚本的作用：\n",
    "# 1. 安装 pandas 库用于数据表格展示\n",
    "# 2. 检查系统的各项配置信息\n",
    "# 3. 生成详细的环境报告表格\n",
    "#\n",
    "# 对于初学者来说，这个步骤帮助您：\n",
    "# - 了解当前运行环境的硬件配置\n",
    "# - 确认是否满足模型运行的最低要求\n",
    "# - 学习如何通过代码获取系统信息\n",
    "\n",
    "# 安装 pandas 库 - 用于创建和展示数据表格\n",
    "# pandas 是 Python 中最流行的数据处理和分析库\n",
    "%pip install pandas==2.2.2 tabulate==0.9.0\n",
    "\n",
    "import platform # 导入 platform 模块以获取系统信息\n",
    "import os # 导入 os 模块以与操作系统交互\n",
    "import subprocess # 导入 subprocess 模块以运行外部命令\n",
    "import pandas as pd # 导入 pandas 模块，通常用于数据处理，这里用于创建表格\n",
    "import shutil # 导入 shutil 模块以获取磁盘空间信息\n",
    "\n",
    "# 获取 CPU 信息的函数，包括核心数量\n",
    "def get_cpu_info():\n",
    "    cpu_info = \"\" # 初始化 CPU 信息字符串\n",
    "    physical_cores = \"N/A\"\n",
    "    logical_cores = \"N/A\"\n",
    "\n",
    "    if platform.system() == \"Windows\": # 如果是 Windows 系统\n",
    "        cpu_info = platform.processor() # 使用 platform.processor() 获取 CPU 信息\n",
    "        try:\n",
    "            # 获取 Windows 上的核心数量 (需要 WMI)\n",
    "            import wmi\n",
    "            c = wmi.WMI()\n",
    "            for proc in c.Win32_Processor():\n",
    "                physical_cores = proc.NumberOfCores\n",
    "                logical_cores = proc.NumberOfLogicalProcessors\n",
    "        except:\n",
    "            pass # 如果 WMI 不可用，忽略错误\n",
    "\n",
    "    elif platform.system() == \"Darwin\": # 如果是 macOS 系统\n",
    "        # 在 macOS 上使用 sysctl 命令获取 CPU 信息和核心数量\n",
    "        os.environ['PATH'] = os.environ['PATH'] + os.pathsep + '/usr/sbin' # 更新 PATH 环境变量\n",
    "        try:\n",
    "            process_brand = subprocess.Popen(['sysctl', \"machdep.cpu.brand_string\"], stdout=subprocess.PIPE, stderr=subprocess.PIPE)\n",
    "            stdout_brand, stderr_brand = process_brand.communicate()\n",
    "            cpu_info = stdout_brand.decode().split(': ')[1].strip() if stdout_brand else \"Could not retrieve CPU info\"\n",
    "\n",
    "            process_physical = subprocess.Popen(['sysctl', \"hw.physicalcpu\"], stdout=subprocess.PIPE, stderr=subprocess.PIPE)\n",
    "            stdout_physical, stderr_physical = process_physical.communicate()\n",
    "            physical_cores = stdout_physical.decode().split(': ')[1].strip() if stdout_physical else \"N/A\"\n",
    "\n",
    "            process_logical = subprocess.Popen(['sysctl', \"hw.logicalcpu\"], stdout=subprocess.PIPE, stderr=subprocess.PIPE)\n",
    "            stdout_logical, stderr_logical = process_logical.communicate()\n",
    "            logical_cores = stdout_logical.decode().split(': ')[1].strip() if stdout_logical else \"N/A\"\n",
    "\n",
    "        except:\n",
    "            cpu_info = \"Could not retrieve CPU info\"\n",
    "            physical_cores = \"N/A\"\n",
    "            logical_cores = \"N/A\"\n",
    "\n",
    "    else:  # Linux 系统\n",
    "        try:\n",
    "            # 在 Linux 上读取 /proc/cpuinfo 文件获取 CPU 信息和核心数量\n",
    "            with open('/proc/cpuinfo') as f:\n",
    "                physical_cores_count = 0\n",
    "                logical_cores_count = 0\n",
    "                cpu_info_lines = []\n",
    "                for line in f:\n",
    "                    if line.startswith('model name'): # 查找以 'model name'开头的行\n",
    "                        if not cpu_info: # 只获取第一个 model name\n",
    "                            cpu_info = line.split(': ')[1].strip()\n",
    "                    elif line.startswith('cpu cores'): # 查找以 'cpu cores' 开头的行\n",
    "                        physical_cores_count = int(line.split(': ')[1].strip())\n",
    "                    elif line.startswith('processor'): # 查找以 'processor' 开头的行\n",
    "                        logical_cores_count += 1\n",
    "                physical_cores = str(physical_cores_count) if physical_cores_count > 0 else \"N/A\"\n",
    "                logical_cores = str(logical_cores_count) if logical_cores_count > 0 else \"N/A\"\n",
    "                if not cpu_info:\n",
    "                     cpu_info = \"Could not retrieve CPU info\"\n",
    "\n",
    "        except:\n",
    "            cpu_info = \"Could not retrieve CPU info\"\n",
    "            physical_cores = \"N/A\"\n",
    "            logical_cores = \"N/A\"\n",
    "\n",
    "    return f\"{cpu_info} ({physical_cores} physical cores, {logical_cores} logical cores)\" # 返回 CPU 信息和核心数量\n",
    "\n",
    "\n",
    "# 获取内存信息的函数\n",
    "def get_memory_info():\n",
    "    mem_info = \"\" # 初始化内存信息字符串\n",
    "    if platform.system() == \"Windows\":\n",
    "        # 在 Windows 上不容易通过标准库获取，需要外部库或 PowerShell\n",
    "        mem_info = \"Requires external tools on Windows\" # 设置提示信息\n",
    "    elif platform.system() == \"Darwin\": # 如果是 macOS 系统\n",
    "        # 在 macOS 上使用 sysctl 命令获取内存大小\n",
    "        process = subprocess.Popen(['sysctl', \"hw.memsize\"], stdout=subprocess.PIPE, stderr=subprocess.PIPE) # 运行 sysctl 命令\n",
    "        stdout, stderr = process.communicate() # 获取标准输出和标准错误\n",
    "        mem_bytes = int(stdout.decode().split(': ')[1].strip()) # 解析输出，获取内存大小（字节）\n",
    "        mem_gb = mem_bytes / (1024**3) # 转换为 GB\n",
    "        mem_info = f\"{mem_gb:.2f} GB\" # 格式化输出\n",
    "    else:  # Linux 系统\n",
    "        try:\n",
    "            # 在 Linux 上读取 /proc/meminfo 文件获取内存信息\n",
    "            with open('/proc/meminfo') as f:\n",
    "                total_mem_kb = 0\n",
    "                available_mem_kb = 0\n",
    "                for line in f:\n",
    "                    if line.startswith('MemTotal'): # 查找以 'MemTotal' 开头的行\n",
    "                        total_mem_kb = int(line.split(':')[1].strip().split()[0]) # 解析行，获取总内存（KB）\n",
    "                    elif line.startswith('MemAvailable'): # 查找以 'MemAvailable' 开头的行\n",
    "                         available_mem_kb = int(line.split(':')[1].strip().split()[0]) # 解析行，获取可用内存（KB）\n",
    "\n",
    "                if total_mem_kb > 0:\n",
    "                    total_mem_gb = total_mem_kb / (1024**2) # 转换为 GB\n",
    "                    mem_info = f\"{total_mem_gb:.2f} GB\" # 格式化输出总内存\n",
    "                    if available_mem_kb > 0:\n",
    "                        available_mem_gb = available_mem_kb / (1024**2)\n",
    "                        mem_info += f\" (Available: {available_mem_gb:.2f} GB)\" # 添加可用内存信息\n",
    "                else:\n",
    "                     mem_info = \"Could not retrieve memory info\" # 如果读取文件出错，设置错误信息\n",
    "\n",
    "        except:\n",
    "            mem_info = \"Could not retrieve memory info\" # 如果读取文件出错，设置错误信息\n",
    "    return mem_info # 返回内存信息\n",
    "\n",
    "# 获取 GPU 信息的函数，包括显存\n",
    "def get_gpu_info():\n",
    "    try:\n",
    "        # 尝试使用 nvidia-smi 获取 NVIDIA GPU 信息和显存\n",
    "        result = subprocess.run(['nvidia-smi', '--query-gpu=name,memory.total', '--format=csv,noheader'], capture_output=True, text=True)\n",
    "        if result.returncode == 0: # 如果命令成功执行\n",
    "            gpu_lines = result.stdout.strip().split('\\n') # 解析输出，获取 GPU 名称和显存\n",
    "            gpu_info_list = []\n",
    "            for line in gpu_lines:\n",
    "                name, memory = line.split(', ')\n",
    "                gpu_info_list.append(f\"{name} ({memory})\") # 格式化 GPU 信息\n",
    "            return \", \".join(gpu_info_list) if gpu_info_list else \"NVIDIA GPU found, but info not listed\" # 返回 GPU 信息或提示信息\n",
    "        else:\n",
    "             # 尝试使用 lshw 获取其他 GPU 信息 (需要安装 lshw)\n",
    "            try:\n",
    "                result_lshw = subprocess.run(['lshw', '-C', 'display'], capture_output=True, text=True)\n",
    "                if result_lshw.returncode == 0: # 如果命令成功执行\n",
    "                     # 简单解析输出中的 product 名称和显存\n",
    "                    gpu_info_lines = []\n",
    "                    current_gpu = {}\n",
    "                    for line in result_lshw.stdout.splitlines():\n",
    "                        if 'product:' in line:\n",
    "                             if current_gpu:\n",
    "                                 gpu_info_lines.append(f\"{current_gpu.get('product', 'GPU')} ({current_gpu.get('memory', 'N/A')})\")\n",
    "                             current_gpu = {'product': line.split('product:')[1].strip()}\n",
    "                        elif 'size:' in line and 'memory' in line:\n",
    "                             current_gpu['memory'] = line.split('size:')[1].strip()\n",
    "\n",
    "                    if current_gpu: # 添加最后一个 GPU 的信息\n",
    "                        gpu_info_lines.append(f\"{current_gpu.get('product', 'GPU')} ({current_gpu.get('memory', 'N/A')})\")\n",
    "\n",
    "                    return \", \".join(gpu_info_lines) if gpu_info_lines else \"GPU found (via lshw), but info not parsed\" # 如果找到 GPU 但信息无法解析，设置提示信息\n",
    "                else:\n",
    "                    return \"No GPU found (checked nvidia-smi and lshw)\" # 如果两个命令都找不到 GPU，设置提示信息\n",
    "            except FileNotFoundError:\n",
    "                 return \"No GPU found (checked nvidia-smi, lshw not found)\" # 如果找不到 lshw 命令，设置提示信息\n",
    "    except FileNotFoundError:\n",
    "        return \"No GPU found (nvidia-smi not found)\" # 如果找不到 nvidia-smi 命令，设置提示信息\n",
    "\n",
    "\n",
    "# 获取 CUDA 版本的函数\n",
    "def get_cuda_version():\n",
    "    try:\n",
    "        # 尝试使用 nvcc --version 获取 CUDA 版本\n",
    "        result = subprocess.run(['nvcc', '--version'], capture_output=True, text=True)\n",
    "        if result.returncode == 0: # 如果命令成功执行\n",
    "            for line in result.stdout.splitlines():\n",
    "                if 'release' in line: # 查找包含 'release' 的行\n",
    "                    return line.split('release ')[1].split(',')[0] # 解析行，提取版本号\n",
    "        return \"CUDA not found or version not parsed\" # 如果找不到 CUDA 或版本无法解析，设置提示信息\n",
    "    except FileNotFoundError:\n",
    "        return \"CUDA not found\" # 如果找不到 nvcc 命令，设置提示信息\n",
    "\n",
    "# 获取 Python 版本的函数\n",
    "def get_python_version():\n",
    "    return platform.python_version() # 获取 Python 版本\n",
    "\n",
    "# 获取 Conda 版本的函数\n",
    "def get_conda_version():\n",
    "    try:\n",
    "        # 尝试使用 conda --version 获取 Conda 版本\n",
    "        result = subprocess.run(['conda', '--version'], capture_output=True, text=True)\n",
    "        if result.returncode == 0: # 如果命令成功执行\n",
    "            return result.stdout.strip() # 返回 Conda 版本\n",
    "        return \"Conda not found or version not parsed\" # 如果找不到 Conda 或版本无法解析，设置提示信息\n",
    "    except FileNotFoundError:\n",
    "        return \"Conda not found\" # 如果找不到 conda 命令，设置提示信息\n",
    "\n",
    "# 获取物理磁盘空间信息的函数\n",
    "def get_disk_space():\n",
    "    try:\n",
    "        total, used, free = shutil.disk_usage(\"/\") # 获取根目录的磁盘使用情况\n",
    "        total_gb = total / (1024**3) # 转换为 GB\n",
    "        used_gb = used / (1024**3) # 转换为 GB\n",
    "        free_gb = free / (1024**3) # 转换为 GB\n",
    "        return f\"Total: {total_gb:.2f} GB, Used: {used_gb:.2f} GB, Free: {free_gb:.2f} GB\" # 格式化输出\n",
    "    except Exception as e:\n",
    "        return f\"Could not retrieve disk info: {e}\" # 如果获取信息出错，设置错误信息\n",
    "\n",
    "# 获取环境信息\n",
    "os_name = platform.system() # 获取操作系统名称\n",
    "os_version = platform.release() # 获取操作系统版本\n",
    "if os_name == \"Linux\":\n",
    "    try:\n",
    "        # 在 Linux 上尝试获取发行版和版本\n",
    "        lsb_info = subprocess.run(['lsb_release', '-a'], capture_output=True, text=True)\n",
    "        if lsb_info.returncode == 0: # 如果命令成功执行\n",
    "            for line in lsb_info.stdout.splitlines():\n",
    "                if 'Description:' in line: # 查找包含 'Description:' 的行\n",
    "                    os_version = line.split('Description:')[1].strip() # 提取描述信息作为版本\n",
    "                    break # 找到后退出循环\n",
    "                elif 'Release:' in line: # 查找包含 'Release:' 的行\n",
    "                     os_version = line.split('Release:')[1].strip() # 提取版本号\n",
    "                     # 尝试获取 codename\n",
    "                     try:\n",
    "                         codename_info = subprocess.run(['lsb_release', '-c'], capture_output=True, text=True)\n",
    "                         if codename_info.returncode == 0:\n",
    "                             os_version += f\" ({codename_info.stdout.split(':')[1].strip()})\" # 将 codename 添加到版本信息中\n",
    "                     except:\n",
    "                         pass # 如果获取 codename 失败则忽略\n",
    "\n",
    "    except FileNotFoundError:\n",
    "        pass # lsb_release 可能未安装，忽略错误\n",
    "\n",
    "full_os_info = f\"{os_name} {os_version}\" # 组合完整的操作系统信息\n",
    "cpu_info = get_cpu_info() # 调用函数获取 CPU 信息和核心数量\n",
    "memory_info = get_memory_info() # 调用函数获取内存信息\n",
    "gpu_info = get_gpu_info() # 调用函数获取 GPU 信息和显存\n",
    "cuda_version = get_cuda_version() # 调用函数获取 CUDA 版本\n",
    "python_version = get_python_version() # 调用函数获取 Python 版本\n",
    "conda_version = get_conda_version() # 调用函数获取 Conda 版本\n",
    "disk_info = get_disk_space() # 调用函数获取物理磁盘空间信息\n",
    "\n",
    "\n",
    "# 创建用于存储数据的字典\n",
    "env_data = {\n",
    "    \"项目\": [ # 项目名称列表\n",
    "        \"操作系统\",\n",
    "        \"CPU 信息\",\n",
    "        \"内存信息\",\n",
    "        \"GPU 信息\",\n",
    "        \"CUDA 信息\",\n",
    "        \"Python 版本\",\n",
    "        \"Conda 版本\",\n",
    "        \"物理磁盘空间\" # 添加物理磁盘空间\n",
    "    ],\n",
    "    \"信息\": [ # 对应的信息列表\n",
    "        full_os_info,\n",
    "        cpu_info,\n",
    "        memory_info,\n",
    "        gpu_info,\n",
    "        cuda_version,\n",
    "        python_version,\n",
    "        conda_version,\n",
    "        disk_info # 添加物理磁盘空间信息\n",
    "    ]\n",
    "}\n",
    "\n",
    "# 创建一个 pandas DataFrame\n",
    "df = pd.DataFrame(env_data)\n",
    "\n",
    "# 打印表格\n",
    "print(\"### 环境信息\") # 打印标题\n",
    "print(df.to_markdown(index=False)) # 将 DataFrame 转换为 Markdown 格式并打印，不包含索引\n"
   ]
  },
  {
   "cell_type": "markdown",
   "metadata": {
    "id": "view-in-github",
    "colab_type": "text"
   },
   "source": [
    "<a href=\"https://colab.research.google.com/github/FlyAIBox/langchain-academy/blob/fly101/module-5/memory_agent.ipynb\" target=\"_parent\"><img src=\"https://colab.research.google.com/assets/colab-badge.svg\" alt=\"Open In Colab\"/></a>"
   ]
  },
  {
   "cell_type": "markdown",
   "metadata": {
    "id": "tjeyB8-ZHmNS"
   },
   "source": [
    "# 记忆型智能体（Memory Agent）\n",
    "\n",
    "## 回顾\n",
    "\n",
    "我们已经构建过一个聊天机器人，它可以将语义型记忆保存到单一的[用户画像（profile）](https://langchain-ai.github.io/langgraph/concepts/memory/#profile)或[集合（collection）](https://langchain-ai.github.io/langgraph/concepts/memory/#collection)中。\n",
    "\n",
    "我们还引入了 [Trustcall](https://github.com/hinthornw/trustcall)，用于对上述任一模式（schema）进行结构化更新。\n",
    "\n",
    "## 目标\n",
    "\n",
    "现在，我们将把已学的组件组合起来，构建一个具备长期记忆能力的[智能体（agent）](https://langchain-ai.github.io/langgraph/concepts/agentic_concepts/)。\n",
    "\n",
    "本次我们创建的智能体 `task_assistant` 将帮助我们管理一个待办清单（ToDo list）。\n",
    "\n",
    "此前的聊天机器人会在每轮对话后都进行反思并保存记忆。\n",
    "\n",
    "而 `task_assistant` 会自主决定“何时”保存记忆（即是否把内容加入待办）。\n",
    "\n",
    "此前的聊天机器人只会保存一种类型的记忆（profile 或 collection）。\n",
    "\n",
    "**`task_assistant` 可以决定将信息保存到用户画像，或保存为待办清单中的任务集合。**\n",
    "\n",
    "除了语义记忆，`task_assistant` **还会管理“过程性记忆”（procedural memory）。**\n",
    "\n",
    "这使得用户可以更新“如何创建待办项”的偏好与原则（例如是否偏好包含本地商家等）。"
   ]
  },
  {
   "cell_type": "code",
   "execution_count": 1,
   "metadata": {
    "id": "Ahcf1O6nHmNY"
   },
   "outputs": [],
   "source": [
    "%%capture --no-stderr\n",
    "# %pip install -U langchain_openai langgraph trustcall langchain_core\n",
    "%pip install --quiet langchain_openai==0.3.32 langchain_core==0.3.75 langgraph==0.6.7 trustcall==0.0.39"
   ]
  },
  {
   "cell_type": "code",
   "execution_count": 2,
   "metadata": {
    "id": "H-DLZXCDHmNa",
    "outputId": "d5d56589-542d-43f0-ee61-1b0e8b7de2e1",
    "colab": {
     "base_uri": "https://localhost:8080/"
    }
   },
   "outputs": [
    {
     "name": "stdout",
     "output_type": "stream",
     "text": [
      "LANGSMITH_API_KEY: ··········\n"
     ]
    }
   ],
   "source": [
    "import os, getpass\n",
    "\n",
    "def _set_env(var: str):\n",
    "    # 检查该环境变量是否已在操作系统环境中设置\n",
    "    env_value = os.environ.get(var)\n",
    "    if not env_value:\n",
    "        # 如未设置，则提示用户输入\n",
    "        env_value = getpass.getpass(f\"{var}: \")\n",
    "\n",
    "    # 将环境变量设置到当前进程\n",
    "    os.environ[var] = env_value\n",
    "\n",
    "_set_env(\"LANGSMITH_API_KEY\")\n",
    "os.environ[\"LANGSMITH_TRACING\"] = \"true\"\n",
    "os.environ[\"LANGSMITH_PROJECT\"] = \"FlyAIBox\""
   ]
  },
  {
   "cell_type": "code",
   "execution_count": 3,
   "metadata": {
    "id": "zyTqFsu1HmNb",
    "outputId": "9404c71d-39f8-4152-ccb1-8c5e220d5808",
    "colab": {
     "base_uri": "https://localhost:8080/"
    }
   },
   "outputs": [
    {
     "name": "stdout",
     "output_type": "stream",
     "text": [
      "OPENAI_API_KEY: ··········\n",
      "OPENAI_BASE_URL: ··········\n"
     ]
    }
   ],
   "source": [
    "# 设置OpenAI API密钥\n",
    "# 您需要从 https://api.apiyi.com/v1 获取API密钥\n",
    "_set_env(\"OPENAI_API_KEY\")\n",
    "# 设置 OpenAI API代理地址 (例如：https://api.apiyi.com/v1）\n",
    "_set_env(\"OPENAI_BASE_URL\")"
   ]
  },
  {
   "cell_type": "markdown",
   "metadata": {
    "id": "g1D0-qcGHmNb"
   },
   "source": [
    "## 观察 Trustcall 的更新细节\n",
    "\n",
    "Trustcall 会创建和更新 JSON 模式（schema）。\n",
    "\n",
    "如果我们想了解 Trustcall 具体做了哪些“结构化变更”，该怎么办？\n",
    "\n",
    "例如，Trustcall 自带了一些工具可以：\n",
    "\n",
    "- 自动纠正校验失败的结果（self-correct）——参见示例追踪：[链接](https://smith.langchain.com/public/5cd23009-3e05-4b00-99f0-c66ee3edd06e/r/9684db76-2003-443b-9aa2-9a9dbc5498b7)\n",
    "- 更新已有文档（patch/更新）——参见示例追踪：[链接](https://smith.langchain.com/public/f45bdaf0-6963-4c19-8ec9-f4b7fe0f68ad/r/760f90e1-a5dc-48f1-8c34-79d6a3414ac3)\n",
    "\n",
    "对这些工具行为保持可见性，有助于我们后续构建的智能体进行调试与解释。\n",
    "\n",
    "下面将展示如何实现！"
   ]
  },
  {
   "cell_type": "code",
   "execution_count": 4,
   "metadata": {
    "id": "I93w9r-VHmNb"
   },
   "outputs": [],
   "source": [
    "from pydantic import BaseModel, Field\n",
    "\n",
    "class Memory(BaseModel):\n",
    "    content: str = Field(description=\"记忆的主要内容。例如：用户表达了想要学习法语的兴趣。\")\n",
    "\n",
    "class MemoryCollection(BaseModel):\n",
    "    memories: list[Memory] = Field(description=\"关于用户的一组记忆条目。\")"
   ]
  },
  {
   "cell_type": "markdown",
   "metadata": {
    "id": "B5F3FKAmHmNc"
   },
   "source": [
    "我们可以给 Trustcall 的抽取器添加一个[监听器（listener）](https://python.langchain.com/docs/how_to/lcel_cheatsheet/#add-lifecycle-listeners)。\n",
    "\n",
    "这样会将抽取器执行过程中的运行记录（runs）传递给我们自定义的 `Spy` 类。\n",
    "\n",
    "`Spy` 会提取 Trustcall 实际调用了哪些工具、对应的调用 ID 与参数，便于审计与调试。\n",
    "\n",
    "---\n",
    "`Spy` 帮我们记录下了 Trustcall 调用的工具信息，但这只是原始数据。为了更直观地看到 Trustcall 到底做了哪些“结构化变更”，我们需要对这些原始信息进行处理。\n",
    "\n",
    "`extract_tool_info` 函数就是用来做这件事的。它就像一个“翻译官”，把 `Spy` 记录的工具调用“翻译”成我们能理解的“变更摘要”。"
   ]
  },
  {
   "cell_type": "code",
   "execution_count": 5,
   "metadata": {
    "id": "HsPJbMt1HmNc"
   },
   "outputs": [],
   "source": [
    "from trustcall import create_extractor\n",
    "from langchain_openai import ChatOpenAI\n",
    "\n",
    "# 检查 Trustcall 实际触发的工具调用\n",
    "# 这个 Spy 类就像一个“间谍”，用来监听和记录 Trustcall 在抽取过程中实际调用了哪些工具。\n",
    "class Spy:\n",
    "    def __init__(self):\n",
    "        # 这个列表用来存放捕获到的工具调用信息。\n",
    "        self.called_tools = []\n",
    "\n",
    "    # 这个方法是监听器实际执行的功能。\n",
    "    # 当 Trustcall 内部发生一个“运行”（run）时，比如调用模型或工具，这个方法就会被调用。\n",
    "    # 'run' 参数包含了这次运行的详细信息。\n",
    "    def __call__(self, run):\n",
    "        # 这里我们通过一个队列来遍历当前运行及其所有的子运行（child_runs）。\n",
    "        # 这是因为 Trustcall 的内部执行可能是一个复杂的流程，包含多个嵌套的运行。\n",
    "        q = [run]\n",
    "        while q:\n",
    "            r = q.pop()\n",
    "            # 如果当前运行有子运行，就把它们添加到队列中，以便后续检查。\n",
    "            if r.child_runs:\n",
    "                q.extend(r.child_runs)\n",
    "            # 我们主要关注类型为“chat_model”的运行，这表示聊天模型被调用了。\n",
    "            # 模型在生成回复时，可能会决定调用工具。\n",
    "            if r.run_type == \"chat_model\":\n",
    "                # 从模型的输出中提取出工具调用的信息。\n",
    "                # 这些信息通常在模型的生成结果的特定位置。\n",
    "                self.called_tools.append(\n",
    "                    r.outputs[\"generations\"][0][0][\"message\"][\"kwargs\"][\"tool_calls\"]\n",
    "                )\n",
    "\n",
    "# 初始化监听器（Spy）实例\n",
    "spy = Spy()\n",
    "\n",
    "# 初始化聊天模型。Trustcall 会使用这个模型来执行抽取和可能的工具调用。\n",
    "model = ChatOpenAI(model=\"gpt-4o\", temperature=0)\n",
    "\n",
    "# 创建 Trustcall 抽取器。\n",
    "# 这个抽取器配置为使用我们定义的 Memory schema 作为工具。\n",
    "# tool_choice=\"Memory\" 表示模型应该尝试调用 Memory 工具来结构化信息。\n",
    "# enable_inserts=True 允许 Trustcall 在需要时插入新的 Memory 文档。\n",
    "trustcall_extractor = create_extractor(\n",
    "    model,\n",
    "    tools=[Memory],\n",
    "    tool_choice=\"Memory\",\n",
    "    enable_inserts=True,\n",
    ")\n",
    "\n",
    "# 将 Spy 监听器添加到 Trustcall 抽取器上。\n",
    "# on_end=spy 表示在抽取过程结束时，调用 Spy 实例（即执行 __call__ 方法），从而捕获工具调用信息。\n",
    "trustcall_extractor_see_all_tool_calls = trustcall_extractor.with_listeners(on_end=spy)"
   ]
  },
  {
   "cell_type": "code",
   "execution_count": 6,
   "metadata": {
    "id": "28VrIpmtHmNd"
   },
   "outputs": [],
   "source": [
    "from langchain_core.messages import HumanMessage, SystemMessage, AIMessage\n",
    "\n",
    "# Instruction（抽取任务说明）\n",
    "instruction = \"\"\"从以下对话中抽取记忆（Memories）：\"\"\"\n",
    "\n",
    "# 模拟对话内容\n",
    "conversation = [\n",
    "    HumanMessage(content=\"你好，我是 FLY\"),\n",
    "    AIMessage(content=\"很高兴认识你，FLY\"),\n",
    "    HumanMessage(content=\"今天早上我在湖边骑自行车\")\n",
    "]\n",
    "\n",
    "# Invoke the extractor（调用抽取器）\n",
    "result = trustcall_extractor.invoke({\"messages\": [SystemMessage(content=instruction)] + conversation})"
   ]
  },
  {
   "cell_type": "code",
   "execution_count": 7,
   "metadata": {
    "id": "4ATEyqPPHmNd",
    "outputId": "66822edd-0da6-4fbd-8460-664205377f98",
    "colab": {
     "base_uri": "https://localhost:8080/"
    }
   },
   "outputs": [
    {
     "output_type": "stream",
     "name": "stdout",
     "text": [
      "==================================\u001b[1m Ai Message \u001b[0m==================================\n",
      "Tool Calls:\n",
      "  Memory (call_WWtiSYaZW3N0pBg0jqYxkWI2)\n",
      " Call ID: call_WWtiSYaZW3N0pBg0jqYxkWI2\n",
      "  Args:\n",
      "    content: FLY 今天早上在湖边骑自行车。\n"
     ]
    }
   ],
   "source": [
    "# 消息中包含了工具调用（tool calls）\n",
    "for m in result[\"messages\"]:\n",
    "    m.pretty_print()"
   ]
  },
  {
   "cell_type": "code",
   "execution_count": 8,
   "metadata": {
    "id": "qqXEqnVSHmNe",
    "outputId": "80dd4f24-273d-409e-e6bd-2ee920a0790a",
    "colab": {
     "base_uri": "https://localhost:8080/"
    }
   },
   "outputs": [
    {
     "output_type": "stream",
     "name": "stdout",
     "text": [
      "content='FLY 今天早上在湖边骑自行车。'\n"
     ]
    }
   ],
   "source": [
    "# responses（解析后的结果）包含符合 schema 的记忆\n",
    "for m in result[\"responses\"]:\n",
    "    print(m)"
   ]
  },
  {
   "cell_type": "code",
   "execution_count": 9,
   "metadata": {
    "id": "Ch0pzGoQHmNe",
    "outputId": "0b8827fc-10cf-4db4-d7d4-401f2a31aeda",
    "colab": {
     "base_uri": "https://localhost:8080/"
    }
   },
   "outputs": [
    {
     "output_type": "stream",
     "name": "stdout",
     "text": [
      "{'id': 'call_WWtiSYaZW3N0pBg0jqYxkWI2'}\n"
     ]
    }
   ],
   "source": [
    "# response_metadata（元信息）包含工具调用的 ID 等信息\n",
    "for m in result[\"response_metadata\"]:\n",
    "    print(m)"
   ]
  },
  {
   "cell_type": "code",
   "execution_count": 10,
   "metadata": {
    "id": "mk3bh_AVHmNe",
    "outputId": "efcbf712-2828-4cde-c3d2-4be82c242444",
    "colab": {
     "base_uri": "https://localhost:8080/"
    }
   },
   "outputs": [
    {
     "output_type": "execute_result",
     "data": {
      "text/plain": [
       "[('0', 'Memory', {'content': 'FLY 今天早上在湖边骑自行车。'})]"
      ]
     },
     "metadata": {},
     "execution_count": 10
    }
   ],
   "source": [
    "# 模拟对话的延续，用于演示记忆更新\n",
    "updated_conversation = [\n",
    "    AIMessage(content=\"太棒了，之后你做了什么？\"),\n",
    "    HumanMessage(content=\"我去了咖啡店喝了咖啡\"),\n",
    "    AIMessage(content=\"你还想说什么？\"),\n",
    "    HumanMessage(content=\"我在想去日本旅游，想今年冬天再去\"),\n",
    "]\n",
    "# Update the instruction（系统提示：基于新对话进行更新）\n",
    "system_msg = \"\"\"根据下面的对话，更新已有记忆并创建新的记忆：\"\"\"\n",
    "\n",
    "# We'll save existing memories, giving them an ID, key (tool name), and value（把已有记忆保存为 (id, 工具名, 值) 的三元组）\n",
    "tool_name = \"Memory\"\n",
    "existing_memories = [(str(i), tool_name, memory.model_dump()) for i, memory in enumerate(result[\"responses\"])] if result[\"responses\"] else None\n",
    "existing_memories"
   ]
  },
  {
   "cell_type": "code",
   "execution_count": 11,
   "metadata": {
    "id": "Bb7-xTjHHmNe"
   },
   "outputs": [],
   "source": [
    "# Invoke the extractor with our updated conversation and existing memories\n",
    "result = trustcall_extractor_see_all_tool_calls.invoke({\"messages\": updated_conversation,\n",
    "                             \"existing\": existing_memories})"
   ]
  },
  {
   "cell_type": "code",
   "execution_count": 12,
   "metadata": {
    "id": "ncSPyiAsHmNf",
    "outputId": "34c32b0a-b364-434e-d994-9cf8be2cbc85",
    "colab": {
     "base_uri": "https://localhost:8080/"
    }
   },
   "outputs": [
    {
     "output_type": "stream",
     "name": "stdout",
     "text": [
      "{'id': 'call_0DHarsWzWxQidhGPrBFG59uj'}\n",
      "{'id': 'call_8C7OqDmZ5jaCmAh1P7auhqCV'}\n"
     ]
    }
   ],
   "source": [
    "# response_metadata（元信息）包含工具调用的 ID 等信息\n",
    "for m in result[\"response_metadata\"]:\n",
    "    print(m)"
   ]
  },
  {
   "cell_type": "code",
   "execution_count": 13,
   "metadata": {
    "id": "XAbu8DoZHmNf",
    "outputId": "26aa6ca7-8d4e-4815-c1bc-f3e057c84285",
    "colab": {
     "base_uri": "https://localhost:8080/"
    }
   },
   "outputs": [
    {
     "output_type": "stream",
     "name": "stdout",
     "text": [
      "==================================\u001b[1m Ai Message \u001b[0m==================================\n",
      "Tool Calls:\n",
      "  Memory (call_0DHarsWzWxQidhGPrBFG59uj)\n",
      " Call ID: call_0DHarsWzWxQidhGPrBFG59uj\n",
      "  Args:\n",
      "    content: 用户去了咖啡店喝了咖啡。\n",
      "  Memory (call_8C7OqDmZ5jaCmAh1P7auhqCV)\n",
      " Call ID: call_8C7OqDmZ5jaCmAh1P7auhqCV\n",
      "  Args:\n",
      "    content: 用户在想去日本旅游，计划今年冬天再去。\n"
     ]
    }
   ],
   "source": [
    "# 消息中包含了工具调用（tool calls）\n",
    "for m in result[\"messages\"]:\n",
    "    m.pretty_print()"
   ]
  },
  {
   "cell_type": "code",
   "execution_count": 14,
   "metadata": {
    "id": "6lZYsstbHmNf",
    "outputId": "38d15a46-ccf6-4c83-9d71-c4d868d18816",
    "colab": {
     "base_uri": "https://localhost:8080/"
    }
   },
   "outputs": [
    {
     "output_type": "stream",
     "name": "stdout",
     "text": [
      "content='用户去了咖啡店喝了咖啡。'\n",
      "content='用户在想去日本旅游，计划今年冬天再去。'\n"
     ]
    }
   ],
   "source": [
    "# 解析后的 responses\n",
    "for m in result[\"responses\"]:\n",
    "    print(m)"
   ]
  },
  {
   "cell_type": "code",
   "execution_count": 15,
   "metadata": {
    "id": "ItTojpcUHmNf",
    "outputId": "104244f3-4f4d-45b1-fdf3-b85dbbf46125",
    "colab": {
     "base_uri": "https://localhost:8080/"
    }
   },
   "outputs": [
    {
     "output_type": "execute_result",
     "data": {
      "text/plain": [
       "[[{'name': 'Memory',\n",
       "   'args': {'content': '用户去了咖啡店喝了咖啡。'},\n",
       "   'id': 'call_0DHarsWzWxQidhGPrBFG59uj',\n",
       "   'type': 'tool_call'},\n",
       "  {'name': 'Memory',\n",
       "   'args': {'content': '用户在想去日本旅游，计划今年冬天再去。'},\n",
       "   'id': 'call_8C7OqDmZ5jaCmAh1P7auhqCV',\n",
       "   'type': 'tool_call'}]]"
      ]
     },
     "metadata": {},
     "execution_count": 15
    }
   ],
   "source": [
    "# 查看 Trustcall 在这一步实际调用了哪些工具\n",
    "spy.called_tools"
   ]
  },
  {
   "cell_type": "code",
   "execution_count": 16,
   "metadata": {
    "id": "oPGObkqlHmNf",
    "outputId": "e73b4905-a5cc-484b-af1f-2b8477d1adaa",
    "colab": {
     "base_uri": "https://localhost:8080/"
    }
   },
   "outputs": [
    {
     "output_type": "stream",
     "name": "stdout",
     "text": [
      "已创建新的 Memory：\n",
      "内容：{'content': '用户去了咖啡店喝了咖啡。'}\n",
      "\n",
      "已创建新的 Memory：\n",
      "内容：{'content': '用户在想去日本旅游，计划今年冬天再去。'}\n"
     ]
    }
   ],
   "source": [
    "def extract_tool_info(tool_calls, schema_name=\"Memory\"):\n",
    "    \"\"\"从工具调用序列中抽取结构化“变更摘要”。同时支持补丁更新与新增。\n",
    "\n",
    "    参数：\n",
    "        tool_calls: 模型产生的工具调用列表（含并行批次）\n",
    "        schema_name: 目标 schema 名称（如 \"Memory\"、\"ToDo\"、\"Profile\"）\n",
    "    \"\"\"\n",
    "\n",
    "    # 归并工具调用为“变更项”\n",
    "    changes = []\n",
    "\n",
    "    # tool_calls 是一个列表的列表，因为模型可能并行调用多个工具。\n",
    "    # 我们需要遍历每一组工具调用。\n",
    "    for call_group in tool_calls:\n",
    "        # 在每一组工具调用中，遍历每一个具体的工具调用。\n",
    "        for call in call_group:\n",
    "            # 检查工具调用的名称。Trustcall 在更新已有文档时会调用 'PatchDoc' 工具。\n",
    "            if call['name'] == 'PatchDoc':\n",
    "                # 如果是 PatchDoc 调用，说明是更新操作。\n",
    "                changes.append({\n",
    "                    'type': 'update', # 标记变更类型为“更新”\n",
    "                    'doc_id': call['args']['json_doc_id'], # 被更新文档的唯一 ID\n",
    "                    'planned_edits': call['args']['planned_edits'], # 模型对这次更新的文字描述或计划\n",
    "                    'value': call['args']['patches'][0]['value'] # 实际更新的内容（补丁的值）\n",
    "                })\n",
    "            # 检查工具调用的名称是否与我们关注的 schema 名称一致（例如 \"Memory\"）。\n",
    "            # 如果一致，通常表示模型要创建一个符合该 schema 的新文档。\n",
    "            elif call['name'] == schema_name:\n",
    "                # 如果是 schema 工具调用，说明是新增操作。\n",
    "                changes.append({\n",
    "                    'type': 'new', # 标记变更类型为“新增”\n",
    "                    'value': call['args'] # 新增文档的具体内容，以字典形式存储\n",
    "                })\n",
    "\n",
    "    # 将前面归并的变更信息格式化成更容易阅读的中文文本。\n",
    "    result_parts = []\n",
    "    for change in changes:\n",
    "        if change['type'] == 'update':\n",
    "            # 如果是更新操作，生成一段描述性文本，包含文档 ID、计划和实际更新内容。\n",
    "            result_parts.append(\n",
    "                f\"文档 {change['doc_id']} 已更新：\\n\"\n",
    "                f\"计划：{change['planned_edits']}\\n\"\n",
    "                f\"新增/替换内容：{change['value']}\"\n",
    "            )\n",
    "        else:\n",
    "            # 如果是新增操作，生成一段描述性文本，说明创建了新的 schema 文档及其内容。\n",
    "            result_parts.append(\n",
    "                f\"已创建新的 {schema_name}：\\n\"\n",
    "                f\"内容：{change['value']}\"\n",
    "            )\n",
    "\n",
    "    # 最后，使用换行符将所有描述文本连接起来，形成一个完整的变更摘要字符串。\n",
    "    return \"\\n\\n\".join(result_parts)\n",
    "\n",
    "# 查看抽取阶段的实际变更摘要\n",
    "schema_name = \"Memory\"\n",
    "changes = extract_tool_info(spy.called_tools, schema_name)\n",
    "print(changes)"
   ]
  },
  {
   "cell_type": "markdown",
   "metadata": {
    "id": "w2AFKS0tHmNg"
   },
   "source": [
    "## 创建一个智能体\n",
    "\n",
    "可选的[智能体（agent）](https://langchain-ai.github.io/langgraph/concepts/high_level/)架构有很多。\n",
    "\n",
    "这里我们实现一个相对简单的 [ReAct](https://langchain-ai.github.io/langgraph/concepts/agentic_concepts/#react-implementation) 智能体。\n",
    "\n",
    "它将作为创建与管理 ToDo 清单的辅助搭档。\n",
    "\n",
    "该智能体可以自主决定更新三类长期记忆：\n",
    "\n",
    "(a) 创建/更新用户 `profile`（用户的基本信息）\n",
    "\n",
    "(b) 在 ToDo 列表 `collection` 中新增/更新任务\n",
    "\n",
    "(c) 更新它自己用于维护 ToDo 列表的 `instructions`（操作准则）"
   ]
  },
  {
   "cell_type": "code",
   "execution_count": 17,
   "metadata": {
    "id": "xQh4str6HmNg"
   },
   "outputs": [],
   "source": [
    "from typing import TypedDict, Literal\n",
    "\n",
    "# Update memory tool\n",
    "class UpdateMemory(TypedDict):\n",
    "    \"\"\" Decision on what memory type to update \"\"\"\n",
    "    update_type: Literal['user', 'todo', 'instructions']"
   ]
  },
  {
   "cell_type": "markdown",
   "metadata": {
    "id": "GYXkmebzHmNg"
   },
   "source": [
    "## 图定义（Graph definition）\n",
    "\n",
    "我们添加一个简单的路由器 `route_message`，它会做一个二元决策：是否需要保存记忆，以及保存到哪一类长期记忆中。\n",
    "\n",
    "记忆集合（ToDo、Profile 等）的结构化更新由 `Trustcall` 负责，与前面的示例一致。"
   ]
  },
  {
   "cell_type": "code",
   "execution_count": 18,
   "metadata": {
    "id": "nv6UFSaKHmNg",
    "outputId": "f1ea9074-1295-4521-d37f-15b6e9c11cb3",
    "colab": {
     "base_uri": "https://localhost:8080/",
     "height": 266
    }
   },
   "outputs": [
    {
     "output_type": "display_data",
     "data": {
      "image/png": "[encoded data removed]",
      "text/plain": [
       "<IPython.core.display.Image object>"
      ]
     },
     "metadata": {}
    }
   ],
   "source": [
    "import uuid\n",
    "from IPython.display import Image, display\n",
    "\n",
    "from datetime import datetime\n",
    "from trustcall import create_extractor\n",
    "from typing import Optional\n",
    "from pydantic import BaseModel, Field\n",
    "\n",
    "from langchain_core.runnables import RunnableConfig\n",
    "from langchain_core.messages import merge_message_runs, HumanMessage, SystemMessage\n",
    "\n",
    "from langgraph.checkpoint.memory import MemorySaver\n",
    "from langgraph.graph import StateGraph, MessagesState, END, START\n",
    "from langgraph.store.base import BaseStore\n",
    "from langgraph.store.memory import InMemoryStore\n",
    "\n",
    "from langchain_openai import ChatOpenAI\n",
    "\n",
    "# Initialize the model（初始化聊天模型）\n",
    "model = ChatOpenAI(model=\"gpt-4o\", temperature=0)\n",
    "\n",
    "# User profile schema\n",
    "class Profile(BaseModel):\n",
    "    \"\"\"当前聊天用户的画像（基本信息）\"\"\"\n",
    "    name: Optional[str] = Field(description=\"用户姓名\", default=None)\n",
    "    location: Optional[str] = Field(description=\"用户所在城市/地区\", default=None)\n",
    "    job: Optional[str] = Field(description=\"用户的职业\", default=None)\n",
    "    connections: list[str] = Field(\n",
    "        description=\"与用户相关的个人关系，如家人、朋友或同事\",\n",
    "        default_factory=list\n",
    "    )\n",
    "    interests: list[str] = Field(\n",
    "        description=\"用户的兴趣爱好\",\n",
    "        default_factory=list\n",
    "    )\n",
    "\n",
    "# ToDo schema\n",
    "class ToDo(BaseModel):\n",
    "    task: str = Field(description=\"要完成的任务\")\n",
    "    time_to_complete: Optional[int] = Field(description=\"预计完成所需时间（分钟）\")\n",
    "    deadline: Optional[datetime] = Field(\n",
    "        description=\"任务的截止时间（如适用）\",\n",
    "        default=None\n",
    "    )\n",
    "    solutions: list[str] = Field(\n",
    "        description=\"可执行的解决方案清单（例如：具体想法、服务商、可落地的操作选项等）\",\n",
    "        min_items=1,\n",
    "        default_factory=list\n",
    "    )\n",
    "    status: Literal[\"not started\", \"in progress\", \"done\", \"archived\"] = Field(\n",
    "        description=\"任务当前状态\",\n",
    "        default=\"not started\"\n",
    "    )\n",
    "\n",
    "# Create the Trustcall extractor for updating the user profile（用于更新用户画像的 Trustcall 抽取器）\n",
    "profile_extractor = create_extractor(\n",
    "    model,\n",
    "    tools=[Profile],\n",
    "    tool_choice=\"Profile\",\n",
    ")\n",
    "\n",
    "# Chatbot instruction for choosing what to update and what tools to call\n",
    "MODEL_SYSTEM_MESSAGE = \"\"\"你是一名乐于助人的聊天机器人。\n",
    "\n",
    "你的职责是作为用户的日常助手，帮助他们维护 ToDo 待办清单。\n",
    "\n",
    "你拥有一份长期记忆，记录三类信息：\n",
    "1. 用户画像（profile）：关于用户的一般性信息\n",
    "2. ToDo 列表：与用户任务相关的事项\n",
    "3. 维护 ToDo 列表的操作准则（instructions）\n",
    "\n",
    "以下是当前的用户画像（如果尚未收集信息，可能为空）：\n",
    "<user_profile>\n",
    "{user_profile}\n",
    "</user_profile>\n",
    "\n",
    "以下是当前的 ToDo 列表（如果尚未添加任务，可能为空）：\n",
    "<todo>\n",
    "{todo}\n",
    "</todo>\n",
    "\n",
    "以下是用户目前指定的 ToDo 维护偏好（如果尚未指定，可能为空）：\n",
    "<instructions>\n",
    "{instructions}\n",
    "</instructions>\n",
    "\n",
    "你的推理与行动规范如下：\n",
    "\n",
    "1. 认真理解下方的用户消息与上下文。\n",
    "\n",
    "2. 判断是否需要更新长期记忆中的任一部分：\n",
    "- 如果用户提供了个人信息，调用 UpdateMemory 工具并传入类型 `user`，用于更新用户画像\n",
    "- 如果用户提到任务，调用 UpdateMemory 工具并传入类型 `todo`，用于更新 ToDo 列表\n",
    "- 如果用户给出了如何维护 ToDo 的偏好/原则，调用 UpdateMemory 工具并传入类型 `instructions`，用于更新操作准则\n",
    "\n",
    "3. 在合适的情况下向用户反馈“记忆已更新”：\n",
    "- 不要告知用户你更新了用户画像\n",
    "- 当你更新了 ToDo 列表时，应当明确告知\n",
    "- 不要告知用户你更新了操作准则\n",
    "\n",
    "4. 在是否更新 ToDo 列表的问题上，宁可“多更新”也无需事先征求许可。\n",
    "\n",
    "5. 无论是否进行了工具调用，都要自然地继续与用户对话。\"\"\"\n",
    "\n",
    "# Trustcall instruction\n",
    "TRUSTCALL_INSTRUCTION = \"\"\"请认真回顾以下交互内容。\n",
    "\n",
    "使用提供的工具，保留与用户相关的必要记忆。\n",
    "\n",
    "如果需要同时进行“更新已有文档”和“新增文档”，请使用并行工具调用以提升效率。\n",
    "\n",
    "系统时间：{time}\"\"\"\n",
    "\n",
    "# Instructions for updating the ToDo list\n",
    "CREATE_INSTRUCTIONS = \"\"\"请回顾以下交互内容。\n",
    "\n",
    "基于这次交互，更新你“如何维护 ToDo 列表条目”的操作准则。\n",
    "\n",
    "利用用户反馈，调整添加/更新条目的方式（例如是否偏好包含本地商家等）。\n",
    "\n",
    "你当前的准则如下：\n",
    "\n",
    "<current_instructions>\n",
    "{current_instructions}\n",
    "</current_instructions>\"\"\"\n",
    "\n",
    "# Node definitions\n",
    "def task_assistant(state: MessagesState, config: RunnableConfig, store: BaseStore):\n",
    "    \"\"\"\n",
    "    task_assistant 节点：这是智能体接收用户消息并进行初步处理的地方。\n",
    "    它的主要作用是：\n",
    "    1. 从长期存储中加载用户的个性化记忆（用户画像、ToDo 列表、操作准则）。\n",
    "    2. 将这些记忆整合到系统提示中，用于指导模型的回复。\n",
    "    3. 调用模型，让模型根据用户消息和系统提示决定是否需要更新长期记忆（通过调用 UpdateMemory 工具）并生成回复。\n",
    "    \"\"\"\n",
    "\n",
    "    # 从配置中获取当前用户的唯一 ID。这个 ID 用于区分不同用户的长期记忆。\n",
    "    user_id = config[\"configurable\"][\"user_id\"]\n",
    "\n",
    "    # --- 加载长期记忆 ---\n",
    "\n",
    "    # 1. 读取用户画像（profile）记忆\n",
    "    # 构建命名空间 (namespace)。命名空间是 Trustcall Store 中用于组织和隔离数据的方式。\n",
    "    # 这里使用 (\"profile\", user_id) 作为命名空间，表示这是特定用户 (user_id) 的用户画像数据。\n",
    "    namespace = (\"profile\", user_id)\n",
    "    # 从存储中搜索该命名空间下的所有记忆。用户画像通常只有一个文档。\n",
    "    memories = store.search(namespace)\n",
    "    # 如果找到了记忆，提取第一个（也是唯一一个）记忆的值。\n",
    "    if memories:\n",
    "        user_profile = memories[0].value\n",
    "    else:\n",
    "        # 如果没有找到，说明还没有用户画像记忆，设置为 None。\n",
    "        user_profile = None\n",
    "\n",
    "    # 2. 读取 ToDo 列表记忆\n",
    "    # 构建 ToDo 列表的命名空间。\n",
    "    namespace = (\"todo\", user_id)\n",
    "    # 从存储中搜索该命名空间下的所有 ToDo 记忆。ToDo 列表可能包含多个任务。\n",
    "    memories = store.search(namespace)\n",
    "    # 将所有 ToDo 记忆的值（每个任务的描述）用换行符连接起来，形成一个字符串。\n",
    "    todo = \"\\n\".join(f\"{mem.value}\" for mem in memories)\n",
    "\n",
    "    # 3. 读取用户偏好/操作准则（instructions）记忆\n",
    "    # 构建操作准则的命名空间。\n",
    "    namespace = (\"instructions\", user_id)\n",
    "    # 从存储中搜索该命名空间下的所有操作准则记忆。操作准则通常只有一个文档。\n",
    "    memories = store.search(namespace)\n",
    "    # 如果找到了记忆，提取第一个（也是唯一一个）记忆的值。\n",
    "    if memories:\n",
    "        instructions = memories[0].value\n",
    "    else:\n",
    "        # 如果没有找到，说明还没有操作准则记忆，设置为空字符串。\n",
    "        instructions = \"\"\n",
    "\n",
    "    # --- 构建系统提示 ---\n",
    "\n",
    "    # 使用加载的记忆信息格式化主系统提示 (MODEL_SYSTEM_MESSAGE)。\n",
    "    # 这会将用户的 profile, todo 列表和 instructions 嵌入到提示中，\n",
    "    # 让模型在生成回复时能够参考这些个性化信息。\n",
    "    system_msg = MODEL_SYSTEM_MESSAGE.format(user_profile=user_profile, todo=todo, instructions=instructions)\n",
    "\n",
    "    # --- 调用模型生成回复和工具调用 ---\n",
    "\n",
    "    # 调用聊天模型。\n",
    "    # bind_tools([UpdateMemory], parallel_tool_calls=False) 表示模型在生成回复时，\n",
    "    # 可以选择调用 UpdateMemory 工具，并且每次只调用一个工具 (parallel_tool_calls=False)。\n",
    "    # invoke(...) 传入系统消息和当前的对话历史 (state[\"messages\"])。\n",
    "    # 模型会根据这些信息生成回复，如果判断需要更新记忆，则会包含 UpdateMemory 的工具调用。\n",
    "    response = model.bind_tools([UpdateMemory], parallel_tool_calls=False).invoke([SystemMessage(content=system_msg)]+state[\"messages\"])\n",
    "\n",
    "    # 返回模型的回复。这个回复会包含模型的文本回复以及可能存在的工具调用信息。\n",
    "    return {\"messages\": [response]}\n",
    "\n",
    "def update_profile(state: MessagesState, config: RunnableConfig, store: BaseStore):\n",
    "    \"\"\"\n",
    "    update_profile 节点：负责处理模型调用 UpdateMemory 工具并指定 update_type 为 'user' 的情况。\n",
    "    它的主要作用是：\n",
    "    1. 回顾对话历史，从中提取与用户画像相关的信息。\n",
    "    2. 使用 Trustcall 抽取器更新长期存储中的用户画像记忆。\n",
    "    \"\"\"\n",
    "\n",
    "    # 从配置中获取当前用户的唯一 ID。这个 ID 用于区分不同用户的长期记忆。\n",
    "    user_id = config[\"configurable\"][\"user_id\"]\n",
    "\n",
    "    # 定义记忆的命名空间。Trustcall Store 使用命名空间来组织和隔离不同类型或不同用户的记忆。\n",
    "    # 这里使用 (\"profile\", user_id) 作为命名空间，表示这是特定用户 (user_id) 的用户画像数据。\n",
    "    namespace = (\"profile\", user_id)\n",
    "\n",
    "    # 从存储中检索当前用户已有的用户画像记忆，作为 Trustcall 抽取器进行更新的上下文。\n",
    "    # 如果之前没有用户画像，这里将返回空列表。\n",
    "    existing_items = store.search(namespace)\n",
    "\n",
    "    # 将现有的记忆格式化为 Trustcall 抽取器所需的输入格式。\n",
    "    # Trustcall 在进行更新时，需要知道现有文档的 ID、类型（schema 名称）和值。\n",
    "    tool_name = \"Profile\" # 指定要更新的 schema 名称为 \"Profile\"\n",
    "    existing_memories = ([(existing_item.key, tool_name, existing_item.value)\n",
    "                          for existing_item in existing_items]\n",
    "                          if existing_items # 如果 existing_items 不为空，则进行列表推导\n",
    "                          else None # 否则设置为 None\n",
    "                        )\n",
    "\n",
    "    # 合并系统指令和对话历史。Trustcall 抽取器需要完整的对话上下文来提取信息。\n",
    "    # TRUSTCALL_INSTRUCTION 是一个包含通用抽取指令的字符串模板。\n",
    "    TRUSTCALL_INSTRUCTION_FORMATTED=TRUSTCALL_INSTRUCTION.format(time=datetime.now().isoformat()) # 格式化指令，加入当前时间\n",
    "    # merge_message_runs 用于合并消息列表。这里将系统指令和对话历史 (除了最后一个工具调用消息) 合并。\n",
    "    updated_messages=list(merge_message_runs(messages=[SystemMessage(content=TRUSTCALL_INSTRUCTION_FORMATTED)] + state[\"messages\"][:-1]))\n",
    "\n",
    "    # 调用 Trustcall 抽取器。\n",
    "    # Trustcall 会根据提供的消息和现有记忆，决定是新增用户画像还是更新现有的。\n",
    "    result = profile_extractor.invoke({\"messages\": updated_messages,\n",
    "                                         \"existing\": existing_memories})\n",
    "\n",
    "    # 将 Trustcall 抽取出的新记忆或更新后的记忆保存到长期存储 (store) 中。\n",
    "    # result[\"responses\"] 包含抽取出的符合 Profile schema 的 Pydantic 对象。\n",
    "    # result[\"response_metadata\"] 包含抽取出的对象的元信息，如 json_doc_id（如果 Trustcall 决定更新现有文档）。\n",
    "    for r, rmeta in zip(result[\"responses\"], result[\"response_metadata\"]):\n",
    "        # store.put 方法用于将数据存入存储。\n",
    "        # namespace: 指定存储的命名空间。\n",
    "        # key: 存储项的键。如果 Trustcall 返回了 json_doc_id，说明是更新，使用该 ID 作为键；否则生成一个新的 UUID 作为新文档的键。\n",
    "        # value: 要存储的值。这里将抽取出的 Pydantic 对象转换为 JSON 格式的字典。\n",
    "        store.put(namespace,\n",
    "                  rmeta.get(\"json_doc_id\", str(uuid.uuid4())),\n",
    "                  r.model_dump(mode=\"json\"),\n",
    "            )\n",
    "    # 获取 task_assistant 节点发出的工具调用信息。\n",
    "    tool_calls = state['messages'][-1].tool_calls\n",
    "    # 返回一个工具消息 (ToolMessage)，表示 update_profile 节点已经执行完毕，\n",
    "    # 并将结果 (\"updated profile\") 发送回 task_assistant 节点。\n",
    "    # \"tool_call_id\" 用于关联这个 ToolMessage 和 task_assistant 发出的原始工具调用。\n",
    "    return {\"messages\": [{\"role\": \"tool\", \"content\": \"updated profile\", \"tool_call_id\":tool_calls[0]['id']}]}\n",
    "\n",
    "def update_todos(state: MessagesState, config: RunnableConfig, store: BaseStore):\n",
    "    \"\"\"\n",
    "    update_todos 节点：负责处理模型调用 UpdateMemory 工具并指定 update_type 为 'todo' 的情况。\n",
    "    它的主要作用是：\n",
    "    1. 回顾对话历史，从中提取与 ToDo 任务相关的信息。\n",
    "    2. 使用 Trustcall 抽取器更新长期存储中的 ToDo 列表记忆（新增或更新任务）。\n",
    "    3. 提取 Trustcall 的具体变更信息，并作为工具调用的结果返回给 task_assistant 节点。\n",
    "    \"\"\"\n",
    "\n",
    "    # 从配置中获取当前用户的唯一 ID。这个 ID 用于区分不同用户的长期记忆。\n",
    "    user_id = config[\"configurable\"][\"user_id\"]\n",
    "\n",
    "    # 定义记忆的命名空间。Trustcall Store 使用命名空间来组织和隔离不同类型或不同用户的记忆。\n",
    "    # 这里使用 (\"todo\", user_id) 作为命名空间，表示这是特定用户 (user_id) 的 ToDo 数据。\n",
    "    namespace = (\"todo\", user_id)\n",
    "\n",
    "    # 从存储中检索当前用户已有的 ToDo 记忆，作为 Trustcall 抽取器进行更新的上下文。\n",
    "    # 如果之前没有 ToDo，这里将返回空列表。\n",
    "    existing_items = store.search(namespace)\n",
    "\n",
    "    # 将现有的记忆格式化为 Trustcall 抽取器所需的输入格式。\n",
    "    # Trustcall 在进行更新时，需要知道现有文档的 ID、类型（schema 名称）和值。\n",
    "    tool_name = \"ToDo\" # 指定要更新的 schema 名称为 \"ToDo\"\n",
    "    existing_memories = ([(existing_item.key, tool_name, existing_item.value)\n",
    "                          for existing_item in existing_items]\n",
    "                          if existing_items # 如果 existing_items 不为空，则进行列表推导\n",
    "                          else None # 否则设置为 None\n",
    "                        )\n",
    "\n",
    "    # 合并系统指令和对话历史。Trustcall 抽取器需要完整的对话上下文来提取信息。\n",
    "    # TRUSTCALL_INSTRUCTION 是一个包含通用抽取指令的字符串模板。\n",
    "    TRUSTCALL_INSTRUCTION_FORMATTED=TRUSTCALL_INSTRUCTION.format(time=datetime.now().isoformat()) # 格式化指令，加入当前时间\n",
    "    # merge_message_runs 用于合并消息列表。这里将系统指令和对话历史 (除了最后一个工具调用消息) 合并。\n",
    "    updated_messages=list(merge_message_runs(messages=[SystemMessage(content=TRUSTCALL_INSTRUCTION_FORMATTED)] + state[\"messages\"][:-1]))\n",
    "\n",
    "    # Initialize the spy for visibility into the tool calls made by Trustcall（初始化监听器以观察 Trustcall 工具调用）\n",
    "    spy = Spy()\n",
    "\n",
    "    # Create the Trustcall extractor for updating the ToDo list（用于更新 ToDo 的 Trustcall 抽取器）\n",
    "    todo_extractor = create_extractor(\n",
    "    model,\n",
    "    tools=[ToDo],\n",
    "    tool_choice=tool_name,\n",
    "    enable_inserts=True\n",
    "    ).with_listeners(on_end=spy)\n",
    "\n",
    "    # Invoke the extractor\n",
    "    result = todo_extractor.invoke({\"messages\": updated_messages,\n",
    "                                    \"existing\": existing_memories})\n",
    "\n",
    "    # Save the memories from Trustcall to the store（将 Trustcall 抽取出的新记忆或更新后的记忆保存到长期存储 (store) 中）\n",
    "    # result[\"responses\"] 包含抽取出的符合 ToDo schema 的 Pydantic 对象。\n",
    "    # result[\"response_metadata\"] 包含抽取出的对象的元信息，如 json_doc_id（如果 Trustcall 决定更新现有文档）。\n",
    "    for r, rmeta in zip(result[\"responses\"], result[\"response_metadata\"]):\n",
    "        # store.put 方法用于将数据存入存储。\n",
    "        # namespace: 指定存储的命名空间。\n",
    "        # key: 存储项的键。如果 Trustcall 返回了 json_doc_id，说明是更新，使用该 ID 作为键；否则生成一个新的 UUID 作为新文档的键。\n",
    "        # value: 要存储的值。这里将抽取出的 Pydantic 对象转换为 JSON 格式的字典。\n",
    "        store.put(namespace,\n",
    "                  rmeta.get(\"json_doc_id\", str(uuid.uuid4())),\n",
    "                  r.model_dump(mode=\"json\"),\n",
    "            )\n",
    "\n",
    "    # Respond to the tool call made in task_assistant, confirming the update（响应 task_assistant 节点发出的工具调用，确认更新已完成）\n",
    "    tool_calls = state['messages'][-1].tool_calls\n",
    "\n",
    "    # Extract the changes made by Trustcall and add the the ToolMessage returned to task_assistant（提取 Trustcall 进行的具体变更信息，并作为工具调用的结果返回给 task_assistant 节点）\n",
    "    todo_update_msg = extract_tool_info(spy.called_tools, tool_name)\n",
    "    return {\"messages\": [{\"role\": \"tool\", \"content\": todo_update_msg, \"tool_call_id\":tool_calls[0]['id']}]}\n",
    "\n",
    "def update_instructions(state: MessagesState, config: RunnableConfig, store: BaseStore):\n",
    "    \"\"\"\n",
    "    update_instructions 节点：负责处理模型调用 UpdateMemory 工具并指定 update_type 为 'instructions' 的情况。\n",
    "    它的主要作用是：\n",
    "    1. 回顾对话历史，从中提取用户关于如何维护 ToDo 列表的偏好/原则。\n",
    "    2. 调用模型根据这些偏好更新长期存储中的操作准则记忆。\n",
    "    \"\"\"\n",
    "\n",
    "    # Get the user ID from the config\n",
    "    user_id = config[\"configurable\"][\"user_id\"]\n",
    "\n",
    "    namespace = (\"instructions\", user_id)\n",
    "\n",
    "    existing_memory = store.get(namespace, \"user_instructions\")\n",
    "\n",
    "    # Format the memory in the system prompt\n",
    "    system_msg = CREATE_INSTRUCTIONS.format(current_instructions=existing_memory.value if existing_memory else None)\n",
    "    new_memory = model.invoke([SystemMessage(content=system_msg)]+state['messages'][:-1] + [HumanMessage(content=\"Please update the instructions based on the conversation\")])\n",
    "\n",
    "    # Overwrite the existing memory in the store\n",
    "    key = \"user_instructions\"\n",
    "    store.put(namespace, key, {\"memory\": new_memory.content})\n",
    "    tool_calls = state['messages'][-1].tool_calls\n",
    "    return {\"messages\": [{\"role\": \"tool\", \"content\": \"updated instructions\", \"tool_call_id\":tool_calls[0]['id']}]}\n",
    "\n",
    "\n",
    "# Conditional edge（条件边：根据模型的工具调用结果路由）\n",
    "def route_message(state: MessagesState, config: RunnableConfig, store: BaseStore) -> Literal[END, \"update_todos\", \"update_instructions\", \"update_profile\"]:\n",
    "    \"\"\"\n",
    "    route_message 函数：这是图中的条件边，负责根据 task_assistant 节点的输出（特别是模型是否调用了 UpdateMemory 工具及其参数）来决定下一个节点。\n",
    "    它的主要作用是：\n",
    "    1. 检查 task_assistant 返回的消息中是否包含工具调用。\n",
    "    2. 如果没有工具调用，说明模型认为不需要更新记忆，对话结束 (END)。\n",
    "    3. 如果有工具调用，检查 UpdateMemory 工具的 update_type 参数，并路由到相应的更新节点（update_profile, update_todos, 或 update_instructions）。\n",
    "    \"\"\"\n",
    "    message = state['messages'][-1]\n",
    "    # 检查最后一条消息是否有工具调用\n",
    "    if len(message.tool_calls) ==0:\n",
    "        # 如果没有工具调用，结束对话\n",
    "        return END\n",
    "    else:\n",
    "        # 如果有工具调用，获取第一个工具调用（我们限制了 parallel_tool_calls=False，所以只会有一个）\n",
    "        tool_call = message.tool_calls[0]\n",
    "        # 根据工具调用的参数 'update_type' 来决定下一个节点\n",
    "        if tool_call['args']['update_type'] == \"user\":\n",
    "            # 如果是更新用户画像，路由到 update_profile 节点\n",
    "            return \"update_profile\"\n",
    "        elif tool_call['args']['update_type'] == \"todo\":\n",
    "            # 如果是更新 ToDo 列表，路由到 update_todos 节点\n",
    "            return \"update_todos\"\n",
    "        elif tool_call['args']['update_type'] == \"instructions\":\n",
    "            # 如果是更新操作准则，路由到 update_instructions 节点\n",
    "            return \"update_instructions\"\n",
    "        else:\n",
    "            # 如果 update_type 是未知类型，抛出错误\n",
    "            raise ValueError\n",
    "\n",
    "# Create the graph + all nodes\n",
    "builder = StateGraph(MessagesState)\n",
    "\n",
    "# Define the flow of the memory extraction process\n",
    "# 添加各个节点到图中\n",
    "builder.add_node(\"task_assistant\", task_assistant) # 添加 task_assistant 节点\n",
    "builder.add_node(\"update_todos\", update_todos)     # 添加 update_todos 节点\n",
    "builder.add_node(\"update_profile\", update_profile) # 添加 update_profile 节点\n",
    "builder.add_node(\"update_instructions\", update_instructions) # 添加 update_instructions 节点\n",
    "\n",
    "# 定义边的连接\n",
    "# 从 START（图的开始）连接到 task_assistant 节点\n",
    "builder.add_edge(START, \"task_assistant\")\n",
    "# 从 task_assistant 节点添加条件边，根据 route_message 函数的返回值决定去向\n",
    "builder.add_conditional_edges(\"task_assistant\", route_message)\n",
    "# 从各个更新节点（update_todos, update_profile, update_instructions）连接回 task_assistant 节点，\n",
    "# 这样在更新完成后，智能体可以回到 task_assistant 继续与用户交互。\n",
    "builder.add_edge(\"update_todos\", \"task_assistant\")\n",
    "builder.add_edge(\"update_profile\", \"task_assistant\")\n",
    "builder.add_edge(\"update_instructions\", \"task_assistant\")\n",
    "\n",
    "# Store for long-term (across-thread) memory\n",
    "# 初始化一个内存存储，用于长期（跨会话）记忆。\n",
    "# 在实际应用中，这里通常会使用数据库等持久化存储。\n",
    "across_thread_memory = InMemoryStore()\n",
    "\n",
    "# Checkpointer for short-term (within-thread) memory\n",
    "# 初始化一个检查点，用于短期（会话内）记忆。\n",
    "# 它会保存每个步骤的状态，以便在出现问题时可以从检查点恢复。\n",
    "within_thread_memory = MemorySaver()\n",
    "\n",
    "# We compile the graph with the checkpointer and store\n",
    "# 编译图，将节点和边连接起来，并配置检查点和长期存储。\n",
    "graph = builder.compile(checkpointer=within_thread_memory, store=across_thread_memory)\n",
    "\n",
    "# View\n",
    "# 绘制并显示图的可视化，帮助我们理解智能体的工作流程。\n",
    "display(Image(graph.get_graph(xray=1).draw_mermaid_png()))"
   ]
  },
  {
   "cell_type": "code",
   "execution_count": 19,
   "metadata": {
    "id": "h5_tsKnXHmNh",
    "outputId": "fccc6b20-42d3-4184-afc4-4f0e2d0a3fe2",
    "colab": {
     "base_uri": "https://localhost:8080/"
    }
   },
   "outputs": [
    {
     "output_type": "stream",
     "name": "stdout",
     "text": [
      "================================\u001b[1m Human Message \u001b[0m=================================\n",
      "\n",
      "我是FLY。我和妻子生活在中国杭州。我有一个3岁的女儿。\n",
      "==================================\u001b[1m Ai Message \u001b[0m==================================\n",
      "Tool Calls:\n",
      "  UpdateMemory (call_kK2lwEy4f7Lm3tOwroIGSMkW)\n",
      " Call ID: call_kK2lwEy4f7Lm3tOwroIGSMkW\n",
      "  Args:\n",
      "    update_type: user\n",
      "=================================\u001b[1m Tool Message \u001b[0m=================================\n",
      "\n",
      "updated profile\n",
      "==================================\u001b[1m Ai Message \u001b[0m==================================\n",
      "\n",
      "你好，FLY！很高兴认识你。有什么我可以帮忙的吗？\n"
     ]
    }
   ],
   "source": [
    "# 提供线程 ID（短期、会话级记忆）\n",
    "# 提供用户 ID（长期、跨会话记忆）\n",
    "config = {\"configurable\": {\"thread_id\": \"1\", \"user_id\": \"FLY\"}}\n",
    "\n",
    "# 用户输入：用于创建用户画像（profile）相关记忆\n",
    "input_messages = [HumanMessage(content=\"我是FLY。我和妻子生活在中国杭州。我有一个3岁的女儿。\")]\n",
    "\n",
    "# 运行图（Graph）\n",
    "for chunk in graph.stream({\"messages\": input_messages}, config, stream_mode=\"values\"):\n",
    "    chunk[\"messages\"][-1].pretty_print()"
   ]
  },
  {
   "cell_type": "code",
   "execution_count": 20,
   "metadata": {
    "id": "y8Bpj-W2HmNh",
    "outputId": "f9d71314-a674-43e8-fa1a-029dc1b5a604",
    "colab": {
     "base_uri": "https://localhost:8080/"
    }
   },
   "outputs": [
    {
     "output_type": "stream",
     "name": "stdout",
     "text": [
      "================================\u001b[1m Human Message \u001b[0m=================================\n",
      "\n",
      "我的妻子让我为宝宝预订游泳课程。\n",
      "==================================\u001b[1m Ai Message \u001b[0m==================================\n",
      "Tool Calls:\n",
      "  UpdateMemory (call_nGF8JB2idZM5A9Qicb8BVsxR)\n",
      " Call ID: call_nGF8JB2idZM5A9Qicb8BVsxR\n",
      "  Args:\n",
      "    update_type: todo\n",
      "=================================\u001b[1m Tool Message \u001b[0m=================================\n",
      "\n",
      "已创建新的 ToDo：\n",
      "内容：{'task': '为3岁的女儿预订游泳课程', 'time_to_complete': 30, 'solutions': ['联系当地的儿童游泳培训机构', '查看杭州的游泳馆是否提供儿童课程', '咨询其他家长推荐的游泳课程'], 'status': 'not started'}\n",
      "==================================\u001b[1m Ai Message \u001b[0m==================================\n",
      "\n",
      "我已经帮你记录了这个任务：为3岁的女儿预订游泳课程。如果需要进一步帮助，比如查找具体的培训机构或课程信息，请告诉我！\n"
     ]
    }
   ],
   "source": [
    "# 用户输入：添加一个 ToDo 任务\n",
    "input_messages = [HumanMessage(content=\"我的妻子让我为宝宝预订游泳课程。\")]\n",
    "\n",
    "# 运行图（Graph）\n",
    "for chunk in graph.stream({\"messages\": input_messages}, config, stream_mode=\"values\"):\n",
    "    chunk[\"messages\"][-1].pretty_print()"
   ]
  },
  {
   "cell_type": "code",
   "execution_count": 21,
   "metadata": {
    "id": "tKBO0zhSHmNh",
    "outputId": "d16f0b7f-27f3-4282-d482-9df955685b19",
    "colab": {
     "base_uri": "https://localhost:8080/"
    }
   },
   "outputs": [
    {
     "output_type": "stream",
     "name": "stdout",
     "text": [
      "================================\u001b[1m Human Message \u001b[0m=================================\n",
      "\n",
      "在创建或更新待办事项时，请包括具体的本地商家/供应商。\n",
      "==================================\u001b[1m Ai Message \u001b[0m==================================\n",
      "Tool Calls:\n",
      "  UpdateMemory (call_mZigkmcHwE8E031Jhy1wo6Vo)\n",
      " Call ID: call_mZigkmcHwE8E031Jhy1wo6Vo\n",
      "  Args:\n",
      "    update_type: instructions\n",
      "=================================\u001b[1m Tool Message \u001b[0m=================================\n",
      "\n",
      "updated instructions\n",
      "==================================\u001b[1m Ai Message \u001b[0m==================================\n",
      "\n",
      "好的，我会在创建或更新待办事项时，尽量包括具体的本地商家或供应商。需要我帮你查找杭州的儿童游泳课程吗？\n"
     ]
    }
   ],
   "source": [
    "# 用户输入：更新 ToDo 创建/更新的操作准则（instructions）\n",
    "input_messages = [HumanMessage(content=\"在创建或更新待办事项时，请包括具体的本地商家/供应商。\")]\n",
    "\n",
    "# 运行图（Graph）\n",
    "for chunk in graph.stream({\"messages\": input_messages}, config, stream_mode=\"values\"):\n",
    "    chunk[\"messages\"][-1].pretty_print()"
   ]
  },
  {
   "cell_type": "code",
   "execution_count": 22,
   "metadata": {
    "id": "ZjysywxnHmNh",
    "outputId": "57fda351-fd80-4946-d405-17b3a96d698a",
    "colab": {
     "base_uri": "https://localhost:8080/"
    }
   },
   "outputs": [
    {
     "output_type": "stream",
     "name": "stdout",
     "text": [
      "{'memory': 'Got it! I will now update the instructions to include specific local businesses or suppliers when creating or updating ToDo list entries.'}\n"
     ]
    }
   ],
   "source": [
    "# 检查 instructions 是否已更新\n",
    "user_id = \"FLY\"\n",
    "\n",
    "# 查询持久化存储\n",
    "for memory in across_thread_memory.search((\"instructions\", user_id)):\n",
    "    print(memory.value)"
   ]
  },
  {
   "cell_type": "code",
   "execution_count": 25,
   "metadata": {
    "id": "fa7Nvz_5HmNi",
    "outputId": "d5ab44fc-ab1b-44a8-e6da-982c7dfa08fd",
    "colab": {
     "base_uri": "https://localhost:8080/"
    }
   },
   "outputs": [
    {
     "output_type": "stream",
     "name": "stdout",
     "text": [
      "================================\u001b[1m Human Message \u001b[0m=================================\n",
      "\n",
      "我需要修理门锁。\n",
      "==================================\u001b[1m Ai Message \u001b[0m==================================\n",
      "\n",
      "这个任务已经记录在你的待办事项中了：修理门锁。如果需要进一步帮助，比如查找具体的锁匠服务，请告诉我！\n"
     ]
    }
   ],
   "source": [
    "# 用户输入：添加一个新的 ToDo 任务\n",
    "input_messages = [HumanMessage(content=\"我需要修理门锁。\")]\n",
    "\n",
    "# 运行图（Graph）\n",
    "for chunk in graph.stream({\"messages\": input_messages}, config, stream_mode=\"values\"):\n",
    "    chunk[\"messages\"][-1].pretty_print()"
   ]
  },
  {
   "cell_type": "code",
   "execution_count": 26,
   "metadata": {
    "id": "HvIT_lu6HmNi",
    "outputId": "0987d754-b183-4811-bfb7-ef81d194bd81",
    "colab": {
     "base_uri": "https://localhost:8080/"
    }
   },
   "outputs": [
    {
     "output_type": "stream",
     "name": "stdout",
     "text": [
      "{'task': '为3岁的女儿预订游泳课程', 'time_to_complete': 30, 'deadline': None, 'solutions': ['联系当地的儿童游泳培训机构', '查看杭州的游泳馆是否提供儿童课程', '咨询其他家长推荐的游泳课程'], 'status': 'not started'}\n",
      "{'task': '修理门锁', 'time_to_complete': 60, 'deadline': None, 'solutions': ['联系杭州本地的锁匠服务', '查看是否有上门修锁服务', '咨询邻居推荐的修锁师傅'], 'status': 'not started'}\n"
     ]
    }
   ],
   "source": [
    "# 查询用户的 ToDo 记忆集合\n",
    "user_id = \"FLY\"\n",
    "\n",
    "# 遍历输出\n",
    "for memory in across_thread_memory.search((\"todo\", user_id)):\n",
    "    print(memory.value)"
   ]
  },
  {
   "cell_type": "code",
   "execution_count": 27,
   "metadata": {
    "id": "DtEdyioSHmNi",
    "outputId": "4917ced5-1dee-45b0-8941-55e5660da85b",
    "colab": {
     "base_uri": "https://localhost:8080/"
    }
   },
   "outputs": [
    {
     "output_type": "stream",
     "name": "stdout",
     "text": [
      "================================\u001b[1m Human Message \u001b[0m=================================\n",
      "\n",
      "我需要在11月底之前完成学会游泳。\n",
      "==================================\u001b[1m Ai Message \u001b[0m==================================\n",
      "Tool Calls:\n",
      "  UpdateMemory (call_rwCjDcl6eNfb0wesvELmNV6a)\n",
      " Call ID: call_rwCjDcl6eNfb0wesvELmNV6a\n",
      "  Args:\n",
      "    update_type: todo\n"
     ]
    },
    {
     "output_type": "stream",
     "name": "stderr",
     "text": [
      "ERROR:extraction:2 validation errors for ToDo\n",
      "task\n",
      "  Field required [type=missing, input_value={'update_type': 'user'}, input_type=dict]\n",
      "    For further information visit https://errors.pydantic.dev/2.11/v/missing\n",
      "time_to_complete\n",
      "  Field required [type=missing, input_value={'update_type': 'user'}, input_type=dict]\n",
      "    For further information visit https://errors.pydantic.dev/2.11/v/missing\n"
     ]
    },
    {
     "output_type": "stream",
     "name": "stdout",
     "text": [
      "=================================\u001b[1m Tool Message \u001b[0m=================================\n",
      "\n",
      "已创建新的 ToDo：\n",
      "内容：{'task': '学会游泳', 'time_to_complete': None, 'deadline': '2025-11-30T23:59:59', 'solutions': ['报名成人游泳课程', '请私人教练进行一对一教学', '利用周末时间自学'], 'status': 'not started'}\n",
      "==================================\u001b[1m Ai Message \u001b[0m==================================\n",
      "\n",
      "我已经帮你记录了这个目标：在2025年11月底之前学会游泳。如果需要，我可以帮你查找杭州的游泳课程或私人教练信息。随时告诉我！\n"
     ]
    }
   ],
   "source": [
    "# 用户输入：更新已有 ToDo 的截止时间\n",
    "input_messages = [HumanMessage(content=\"我需要在11月底之前完成学会游泳。\")]\n",
    "\n",
    "# 运行图（Graph）\n",
    "for chunk in graph.stream({\"messages\": input_messages}, config, stream_mode=\"values\"):\n",
    "    chunk[\"messages\"][-1].pretty_print()"
   ]
  },
  {
   "cell_type": "markdown",
   "metadata": {
    "id": "_VREkQm-HmNi"
   },
   "source": [
    "我们可以看到，Trustcall 对已有记忆执行了“补丁式”更新（patch）：\n",
    "\n",
    "`https://smith.langchain.com/public/4ad3a8af-3b1e-493d-b163-3111aa3d575a/r`"
   ]
  },
  {
   "cell_type": "code",
   "execution_count": 28,
   "metadata": {
    "id": "o9B6khJXHmNi",
    "outputId": "dbb9457a-39ae-4338-fbae-86bc126c5c88",
    "colab": {
     "base_uri": "https://localhost:8080/"
    }
   },
   "outputs": [
    {
     "output_type": "stream",
     "name": "stdout",
     "text": [
      "================================\u001b[1m Human Message \u001b[0m=================================\n",
      "\n",
      "需要在晚上9点前发送会议总结。\n",
      "==================================\u001b[1m Ai Message \u001b[0m==================================\n",
      "Tool Calls:\n",
      "  UpdateMemory (call_fklcF1lBX2Hl1owQZl28Orkd)\n",
      " Call ID: call_fklcF1lBX2Hl1owQZl28Orkd\n",
      "  Args:\n",
      "    update_type: todo\n"
     ]
    },
    {
     "output_type": "stream",
     "name": "stderr",
     "text": [
      "ERROR:extraction:2 validation errors for ToDo\n",
      "task\n",
      "  Field required [type=missing, input_value={'update_type': 'todo'}, input_type=dict]\n",
      "    For further information visit https://errors.pydantic.dev/2.11/v/missing\n",
      "time_to_complete\n",
      "  Field required [type=missing, input_value={'update_type': 'todo'}, input_type=dict]\n",
      "    For further information visit https://errors.pydantic.dev/2.11/v/missing\n"
     ]
    },
    {
     "output_type": "stream",
     "name": "stdout",
     "text": [
      "=================================\u001b[1m Tool Message \u001b[0m=================================\n",
      "\n",
      "已创建新的 ToDo：\n",
      "内容：{'task': '发送会议总结', 'time_to_complete': 30, 'deadline': '2025-09-18T21:00:00', 'solutions': ['整理会议记录', '提炼关键点', '通过邮件发送给相关人员'], 'status': 'not started'}\n",
      "==================================\u001b[1m Ai Message \u001b[0m==================================\n",
      "\n",
      "我已经帮你记录了这个任务：在晚上9点前发送会议总结。如果需要协助整理会议记录或提炼关键点，请告诉我！\n"
     ]
    }
   ],
   "source": [
    "# 用户输入：再添加一个新的 ToDo 任务\n",
    "input_messages = [HumanMessage(content=\"需要在晚上9点前发送会议总结。\")]\n",
    "\n",
    "# 运行图（Graph）\n",
    "for chunk in graph.stream({\"messages\": input_messages}, config, stream_mode=\"values\"):\n",
    "    chunk[\"messages\"][-1].pretty_print()"
   ]
  },
  {
   "cell_type": "code",
   "execution_count": 29,
   "metadata": {
    "id": "LhH21elZHmNj",
    "outputId": "cba5f715-986f-4aca-f9c2-68e126ee6cc4",
    "colab": {
     "base_uri": "https://localhost:8080/"
    }
   },
   "outputs": [
    {
     "output_type": "stream",
     "name": "stdout",
     "text": [
      "{'task': '为3岁的女儿预订游泳课程', 'time_to_complete': 30, 'deadline': None, 'solutions': ['联系当地的儿童游泳培训机构', '查看杭州的游泳馆是否提供儿童课程', '咨询其他家长推荐的游泳课程'], 'status': 'not started'}\n",
      "{'task': '修理门锁', 'time_to_complete': 60, 'deadline': None, 'solutions': ['联系杭州本地的锁匠服务', '查看是否有上门修锁服务', '咨询邻居推荐的修锁师傅'], 'status': 'not started'}\n",
      "{'task': '学会游泳', 'time_to_complete': None, 'deadline': '2025-11-30T23:59:59', 'solutions': ['报名成人游泳课程', '请私人教练进行一对一教学', '利用周末时间自学'], 'status': 'not started'}\n",
      "{'task': '发送会议总结', 'time_to_complete': 30, 'deadline': '2025-09-18T21:00:00', 'solutions': ['整理会议记录', '提炼关键点', '通过邮件发送给相关人员'], 'status': 'not started'}\n"
     ]
    }
   ],
   "source": [
    "# 查询用户最新的 ToDo 记忆集合\n",
    "user_id = \"FLY\"\n",
    "\n",
    "# 遍历输出\n",
    "for memory in across_thread_memory.search((\"todo\", user_id)):\n",
    "    print(memory.value)"
   ]
  },
  {
   "cell_type": "markdown",
   "metadata": {
    "id": "ZHAQVGLyHmNj"
   },
   "source": [
    "现在我们创建一个新的对话线程（thread）。\n",
    "\n",
    "这会开启一个新的会话。\n",
    "\n",
    "此前保存在长期存储中的 Profile、ToDos 与 Instructions 会被自动加载并用于个性化回复。"
   ]
  },
  {
   "cell_type": "code",
   "execution_count": 30,
   "metadata": {
    "id": "X-kMwYFYHmNj",
    "outputId": "b52ce01b-1a27-4a97-b066-3e0d394134d8",
    "colab": {
     "base_uri": "https://localhost:8080/"
    }
   },
   "outputs": [
    {
     "output_type": "stream",
     "name": "stdout",
     "text": [
      "================================\u001b[1m Human Message \u001b[0m=================================\n",
      "\n",
      "我有30分钟，我能完成哪些任务？\n",
      "==================================\u001b[1m Ai Message \u001b[0m==================================\n",
      "\n",
      "根据你的 ToDo 列表，以下任务可以在30分钟内完成：\n",
      "\n",
      "1. **为3岁的女儿预订游泳课程**  \n",
      "   - 时间估计：30分钟  \n",
      "   - 建议行动：联系当地的儿童游泳培训机构或查看杭州的游泳馆是否提供儿童课程。\n",
      "\n",
      "2. **发送会议总结**  \n",
      "   - 时间估计：30分钟  \n",
      "   - 建议行动：整理会议记录，提炼关键点，并通过邮件发送给相关人员。\n",
      "\n",
      "你可以选择其中一个任务开始完成！需要我帮你制定具体的步骤或提供协助吗？\n"
     ]
    }
   ],
   "source": [
    "# 提供线程 ID（短期、会话级记忆）\n",
    "# 提供用户 ID（长期、跨会话记忆）\n",
    "config = {\"configurable\": {\"thread_id\": \"2\", \"user_id\": \"FLY\"}}\n",
    "\n",
    "# 与聊天机器人对话\n",
    "input_messages = [HumanMessage(content=\"我有30分钟，我能完成哪些任务？\")]\n",
    "\n",
    "# 运行图（Graph）\n",
    "for chunk in graph.stream({\"messages\": input_messages}, config, stream_mode=\"values\"):\n",
    "    chunk[\"messages\"][-1].pretty_print()"
   ]
  },
  {
   "cell_type": "code",
   "execution_count": 31,
   "metadata": {
    "id": "Ko1cdB29HmNj",
    "outputId": "430d29ae-936b-49b1-9d8f-32fe2cf00b80",
    "colab": {
     "base_uri": "https://localhost:8080/"
    }
   },
   "outputs": [
    {
     "output_type": "stream",
     "name": "stdout",
     "text": [
      "================================\u001b[1m Human Message \u001b[0m=================================\n",
      "\n",
      "是的，给我一些报名游泳课程的选项。\n",
      "==================================\u001b[1m Ai Message \u001b[0m==================================\n",
      "\n",
      "以下是一些在杭州可以为你女儿报名游泳课程的选项：\n",
      "\n",
      "1. **杭州游泳馆**  \n",
      "   - 许多游泳馆提供儿童游泳课程，你可以联系离家较近的游泳馆，询问是否有适合3岁孩子的课程。  \n",
      "   - 推荐：杭州黄龙体育中心游泳馆、杭州奥体中心游泳馆。\n",
      "\n",
      "2. **儿童游泳培训机构**  \n",
      "   - **金宝贝游泳中心**：专注于儿童早教和游泳课程，适合3岁孩子。  \n",
      "   - **水孩子国际游泳学校**：提供专业的儿童游泳课程，注重安全和兴趣培养。\n",
      "\n",
      "3. **家长推荐**  \n",
      "   - 你可以咨询其他家长，了解他们推荐的课程或机构，尤其是有孩子在学游泳的朋友。\n",
      "\n",
      "4. **线上平台查询**  \n",
      "   - 使用大众点评、美团等平台搜索“儿童游泳课程”，查看评价和课程详情。\n",
      "\n",
      "你可以从这些选项中选择一个开始联系，或者告诉我你的具体需求，我可以帮你进一步筛选！\n"
     ]
    }
   ],
   "source": [
    "# 与聊天机器人对话\n",
    "input_messages = [HumanMessage(content=\"是的，给我一些报名游泳课程的选项。\")]\n",
    "\n",
    "# 运行图（Graph）\n",
    "for chunk in graph.stream({\"messages\": input_messages}, config, stream_mode=\"values\"):\n",
    "    chunk[\"messages\"][-1].pretty_print()"
   ]
  },
  {
   "cell_type": "markdown",
   "metadata": {
    "id": "Cx5e9Gv_HmNj"
   },
   "source": [
    "追踪（Trace）：\n",
    "\n",
    "`https://smith.langchain.com/o/7bfa9385-4ac5-468a-a06c-ffd7dbac42ec/projects/p/27f0e396-e7ab-4eac-9501-8df28b729149?timeModel=%7B%22duration%22%3A%227d%22%7D&peek=aa03e9ad-84b7-4c38-98ae-0e87d60690dc&peeked_trace=aa03e9ad-84b7-4c38-98ae-0e87d60690dc`\n",
    "![](https://cdn.jsdelivr.net/gh/Fly0905/note-picture@main/imag/202509181621557.png)"
   ]
  }
 ],
 "metadata": {
  "kernelspec": {
   "display_name": "Python 3 (ipykernel)",
   "language": "python",
   "name": "python3"
  },
  "language_info": {
   "codemirror_mode": {
    "name": "ipython",
    "version": 3
   },
   "file_extension": ".py",
   "mimetype": "text/x-python",
   "name": "python",
   "nbconvert_exporter": "python",
   "pygments_lexer": "ipython3",
   "version": "3.11.8"
  },
  "colab": {
   "provenance": [],
   "include_colab_link": true
  }
 },
 "nbformat": 4,
 "nbformat_minor": 0
}