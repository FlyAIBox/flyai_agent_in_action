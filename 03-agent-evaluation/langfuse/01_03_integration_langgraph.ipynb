{
 "cells": [
  {
   "cell_type": "markdown",
   "id": "env_config_overview",
   "metadata": {},
   "source": [
    "### 🔧 环境配置和检查\n\n#### 概述\n\n本教程需要特定的环境配置以确保最佳学习体验。以下配置将帮助您：\n\n- 使用统一的conda环境：激活统一的学习环境\n- 通过国内镜像源快速安装依赖：配置pip使用清华镜像源\n- 加速模型下载：设置HuggingFace镜像代理\n- 检查系统配置：检查硬件和软件配置\n\n#### 配置\n\n- **所需环境及其依赖已经部署好**\n- 在`Notebook`右上角选择`jupyter内核`为`python(flyai_agent_in_action)`，即可执行下方代码"
   ]
  },
  {
   "cell_type": "code",
   "execution_count": null,
   "id": "env_conda_activate",
   "metadata": {},
   "outputs": [],
   "source": [
    "%%script bash\n\n# 1. 激活 conda 环境 (仅对当前单元格有效)\neval \"$(conda shell.bash hook)\"\nconda activate flyai_agent_in_action\n\necho \"=========================================\"\necho \"== Conda 环境检查报告 (仅针对当前 Bash 子进程) ==\"\necho \"=========================================\"\n\n# 2. 检查当前激活的环境\nCURRENT_ENV_NAME=$(basename $CONDA_PREFIX)\n\nif [ \"$CURRENT_ENV_NAME\" = \"flyai_agent_in_action\" ]; then\n    echo \"✅ 当前单元格已成功激活到 flyai_agent_in_action 环境。\"\n    echo \"✅ 正在使用的环境路径: $CONDA_PREFIX\"\n    echo \"\"\n    echo \"💡 提示: 后续的 Python 单元格将使用 Notebook 当前选择的 Jupyter 内核。\"\n    echo \"   如果需要后续单元格也使用此环境，请执行以下操作:\"\n    echo \"   1. 检查 Notebook 右上角是否已选择 'python(flyai_agent_in_action)'。\"\nelse\n    echo \"❌ 激活失败或环境名称不匹配。当前环境: $CURRENT_ENV_NAME\"\n    echo \"\"\n    echo \"⚠️ 严重提示: 建议将 Notebook 的 Jupyter **内核 (Kernel)** 切换为 'python(flyai_agent_in_action)'。\"\n    echo \"   (通常位于 Notebook 右上角或 '内核' 菜单中)\"\n    echo \"\"\n    echo \"📚 备用方法 (不推荐): 如果无法切换内核，则必须在**每个**代码单元格的头部重复以下命令:\"\n    echo \"\"\n    echo \"%%script bash\"\n    echo \"# 必须在每个单元格都执行\"\n    echo \"eval \\\"\\$(conda shell.bash hook)\\\"\"\n    echo \"conda activate flyai_agent_in_action\"\nfi\n\necho \"=========================================\" "
   ]
  },
  {
   "cell_type": "code",
   "execution_count": null,
   "id": "env_pip_config",
   "metadata": {},
   "outputs": [],
   "source": [
    "# 2. 设置pip 为清华源\n",
    "%pip config set global.index-url https://pypi.tuna.tsinghua.edu.cn/simple\n",
    "%pip config list\n"
   ]
  },
  {
   "cell_type": "code",
   "execution_count": null,
   "id": "env_hf_proxy",
   "metadata": {},
   "outputs": [],
   "source": [
    "# 3. 设置HuggingFace代理\n",
    "%env HF_ENDPOINT=https://hf-mirror.com\n",
    "# 验证：使用shell命令检查\n",
    "!echo $HF_ENDPOINT"
   ]
  },
  {
   "cell_type": "code",
   "execution_count": null,
   "id": "env_system_check",
   "metadata": {},
   "outputs": [],
   "source": [
    "# 🔍 环境信息检查脚本\n",
    "#\n",
    "# 本脚本的作用：\n",
    "# 1. 安装 pandas 库用于数据表格展示\n",
    "# 2. 检查系统的各项配置信息\n",
    "# 3. 生成详细的环境报告表格\n",
    "#\n",
    "# 对于初学者来说，这个步骤帮助您：\n",
    "# - 了解当前运行环境的硬件配置\n",
    "# - 确认是否满足模型运行的最低要求\n",
    "# - 学习如何通过代码获取系统信息\n",
    "\n",
    "# 安装 pandas 库 - 用于创建和展示数据表格\n",
    "# pandas 是 Python 中最流行的数据处理和分析库\n",
    "%pip install pandas==2.2.2 tabulate==0.9.0\n",
    "\n",
    "import platform # 导入 platform 模块以获取系统信息\n",
    "import os # 导入 os 模块以与操作系统交互\n",
    "import subprocess # 导入 subprocess 模块以运行外部命令\n",
    "import pandas as pd # 导入 pandas 模块，通常用于数据处理，这里用于创建表格\n",
    "import shutil # 导入 shutil 模块以获取磁盘空间信息\n",
    "\n",
    "# 获取 CPU 信息的函数，包括核心数量\n",
    "def get_cpu_info():\n",
    "    cpu_info = \"\" # 初始化 CPU 信息字符串\n",
    "    physical_cores = \"N/A\"\n",
    "    logical_cores = \"N/A\"\n",
    "\n",
    "    if platform.system() == \"Windows\": # 如果是 Windows 系统\n",
    "        cpu_info = platform.processor() # 使用 platform.processor() 获取 CPU 信息\n",
    "        try:\n",
    "            # 获取 Windows 上的核心数量 (需要 WMI)\n",
    "            import wmi\n",
    "            c = wmi.WMI()\n",
    "            for proc in c.Win32_Processor():\n",
    "                physical_cores = proc.NumberOfCores\n",
    "                logical_cores = proc.NumberOfLogicalProcessors\n",
    "        except:\n",
    "            pass # 如果 WMI 不可用，忽略错误\n",
    "\n",
    "    elif platform.system() == \"Darwin\": # 如果是 macOS 系统\n",
    "        # 在 macOS 上使用 sysctl 命令获取 CPU 信息和核心数量\n",
    "        os.environ['PATH'] = os.environ['PATH'] + os.pathsep + '/usr/sbin' # 更新 PATH 环境变量\n",
    "        try:\n",
    "            process_brand = subprocess.Popen(['sysctl', \"machdep.cpu.brand_string\"], stdout=subprocess.PIPE, stderr=subprocess.PIPE)\n",
    "            stdout_brand, stderr_brand = process_brand.communicate()\n",
    "            cpu_info = stdout_brand.decode().split(': ')[1].strip() if stdout_brand else \"Could not retrieve CPU info\"\n",
    "\n",
    "            process_physical = subprocess.Popen(['sysctl', \"hw.physicalcpu\"], stdout=subprocess.PIPE, stderr=subprocess.PIPE)\n",
    "            stdout_physical, stderr_physical = process_physical.communicate()\n",
    "            physical_cores = stdout_physical.decode().split(': ')[1].strip() if stdout_physical else \"N/A\"\n",
    "\n",
    "            process_logical = subprocess.Popen(['sysctl', \"hw.logicalcpu\"], stdout=subprocess.PIPE, stderr=subprocess.PIPE)\n",
    "            stdout_logical, stderr_logical = process_logical.communicate()\n",
    "            logical_cores = stdout_logical.decode().split(': ')[1].strip() if stdout_logical else \"N/A\"\n",
    "\n",
    "        except:\n",
    "            cpu_info = \"Could not retrieve CPU info\"\n",
    "            physical_cores = \"N/A\"\n",
    "            logical_cores = \"N/A\"\n",
    "\n",
    "    else:  # Linux 系统\n",
    "        try:\n",
    "            # 在 Linux 上读取 /proc/cpuinfo 文件获取 CPU 信息和核心数量\n",
    "            with open('/proc/cpuinfo') as f:\n",
    "                physical_cores_count = 0\n",
    "                logical_cores_count = 0\n",
    "                cpu_info_lines = []\n",
    "                for line in f:\n",
    "                    if line.startswith('model name'): # 查找以 'model name'开头的行\n",
    "                        if not cpu_info: # 只获取第一个 model name\n",
    "                            cpu_info = line.split(': ')[1].strip()\n",
    "                    elif line.startswith('cpu cores'): # 查找以 'cpu cores' 开头的行\n",
    "                        physical_cores_count = int(line.split(': ')[1].strip())\n",
    "                    elif line.startswith('processor'): # 查找以 'processor' 开头的行\n",
    "                        logical_cores_count += 1\n",
    "                physical_cores = str(physical_cores_count) if physical_cores_count > 0 else \"N/A\"\n",
    "                logical_cores = str(logical_cores_count) if logical_cores_count > 0 else \"N/A\"\n",
    "                if not cpu_info:\n",
    "                     cpu_info = \"Could not retrieve CPU info\"\n",
    "\n",
    "        except:\n",
    "            cpu_info = \"Could not retrieve CPU info\"\n",
    "            physical_cores = \"N/A\"\n",
    "            logical_cores = \"N/A\"\n",
    "\n",
    "    return f\"{cpu_info} ({physical_cores} physical cores, {logical_cores} logical cores)\" # 返回 CPU 信息和核心数量\n",
    "\n",
    "\n",
    "# 获取内存信息的函数\n",
    "def get_memory_info():\n",
    "    mem_info = \"\" # 初始化内存信息字符串\n",
    "    if platform.system() == \"Windows\":\n",
    "        # 在 Windows 上不容易通过标准库获取，需要外部库或 PowerShell\n",
    "        mem_info = \"Requires external tools on Windows\" # 设置提示信息\n",
    "    elif platform.system() == \"Darwin\": # 如果是 macOS 系统\n",
    "        # 在 macOS 上使用 sysctl 命令获取内存大小\n",
    "        process = subprocess.Popen(['sysctl', \"hw.memsize\"], stdout=subprocess.PIPE, stderr=subprocess.PIPE) # 运行 sysctl 命令\n",
    "        stdout, stderr = process.communicate() # 获取标准输出和标准错误\n",
    "        mem_bytes = int(stdout.decode().split(': ')[1].strip()) # 解析输出，获取内存大小（字节）\n",
    "        mem_gb = mem_bytes / (1024**3) # 转换为 GB\n",
    "        mem_info = f\"{mem_gb:.2f} GB\" # 格式化输出\n",
    "    else:  # Linux 系统\n",
    "        try:\n",
    "            # 在 Linux 上读取 /proc/meminfo 文件获取内存信息\n",
    "            with open('/proc/meminfo') as f:\n",
    "                total_mem_kb = 0\n",
    "                available_mem_kb = 0\n",
    "                for line in f:\n",
    "                    if line.startswith('MemTotal'): # 查找以 'MemTotal' 开头的行\n",
    "                        total_mem_kb = int(line.split(':')[1].strip().split()[0]) # 解析行，获取总内存（KB）\n",
    "                    elif line.startswith('MemAvailable'): # 查找以 'MemAvailable' 开头的行\n",
    "                         available_mem_kb = int(line.split(':')[1].strip().split()[0]) # 解析行，获取可用内存（KB）\n",
    "\n",
    "                if total_mem_kb > 0:\n",
    "                    total_mem_gb = total_mem_kb / (1024**2) # 转换为 GB\n",
    "                    mem_info = f\"{total_mem_gb:.2f} GB\" # 格式化输出总内存\n",
    "                    if available_mem_kb > 0:\n",
    "                        available_mem_gb = available_mem_kb / (1024**2)\n",
    "                        mem_info += f\" (Available: {available_mem_gb:.2f} GB)\" # 添加可用内存信息\n",
    "                else:\n",
    "                     mem_info = \"Could not retrieve memory info\" # 如果读取文件出错，设置错误信息\n",
    "\n",
    "        except:\n",
    "            mem_info = \"Could not retrieve memory info\" # 如果读取文件出错，设置错误信息\n",
    "    return mem_info # 返回内存信息\n",
    "\n",
    "# 获取 GPU 信息的函数，包括显存\n",
    "def get_gpu_info():\n",
    "    try:\n",
    "        # 尝试使用 nvidia-smi 获取 NVIDIA GPU 信息和显存\n",
    "        result = subprocess.run(['nvidia-smi', '--query-gpu=name,memory.total', '--format=csv,noheader'], capture_output=True, text=True)\n",
    "        if result.returncode == 0: # 如果命令成功执行\n",
    "            gpu_lines = result.stdout.strip().split('\\n') # 解析输出，获取 GPU 名称和显存\n",
    "            gpu_info_list = []\n",
    "            for line in gpu_lines:\n",
    "                name, memory = line.split(', ')\n",
    "                gpu_info_list.append(f\"{name} ({memory})\") # 格式化 GPU 信息\n",
    "            return \", \".join(gpu_info_list) if gpu_info_list else \"NVIDIA GPU found, but info not listed\" # 返回 GPU 信息或提示信息\n",
    "        else:\n",
    "             # 尝试使用 lshw 获取其他 GPU 信息 (需要安装 lshw)\n",
    "            try:\n",
    "                result_lshw = subprocess.run(['lshw', '-C', 'display'], capture_output=True, text=True)\n",
    "                if result_lshw.returncode == 0: # 如果命令成功执行\n",
    "                     # 简单解析输出中的 product 名称和显存\n",
    "                    gpu_info_lines = []\n",
    "                    current_gpu = {}\n",
    "                    for line in result_lshw.stdout.splitlines():\n",
    "                        if 'product:' in line:\n",
    "                             if current_gpu:\n",
    "                                 gpu_info_lines.append(f\"{current_gpu.get('product', 'GPU')} ({current_gpu.get('memory', 'N/A')})\")\n",
    "                             current_gpu = {'product': line.split('product:')[1].strip()}\n",
    "                        elif 'size:' in line and 'memory' in line:\n",
    "                             current_gpu['memory'] = line.split('size:')[1].strip()\n",
    "\n",
    "                    if current_gpu: # 添加最后一个 GPU 的信息\n",
    "                        gpu_info_lines.append(f\"{current_gpu.get('product', 'GPU')} ({current_gpu.get('memory', 'N/A')})\")\n",
    "\n",
    "                    return \", \".join(gpu_info_lines) if gpu_info_lines else \"GPU found (via lshw), but info not parsed\" # 如果找到 GPU 但信息无法解析，设置提示信息\n",
    "                else:\n",
    "                    return \"No GPU found (checked nvidia-smi and lshw)\" # 如果两个命令都找不到 GPU，设置提示信息\n",
    "            except FileNotFoundError:\n",
    "                 return \"No GPU found (checked nvidia-smi, lshw not found)\" # 如果找不到 lshw 命令，设置提示信息\n",
    "    except FileNotFoundError:\n",
    "        return \"No GPU found (nvidia-smi not found)\" # 如果找不到 nvidia-smi 命令，设置提示信息\n",
    "\n",
    "\n",
    "# 获取 CUDA 版本的函数\n",
    "def get_cuda_version():\n",
    "    try:\n",
    "        # 尝试使用 nvcc --version 获取 CUDA 版本\n",
    "        result = subprocess.run(['nvcc', '--version'], capture_output=True, text=True)\n",
    "        if result.returncode == 0: # 如果命令成功执行\n",
    "            for line in result.stdout.splitlines():\n",
    "                if 'release' in line: # 查找包含 'release' 的行\n",
    "                    return line.split('release ')[1].split(',')[0] # 解析行，提取版本号\n",
    "        return \"CUDA not found or version not parsed\" # 如果找不到 CUDA 或版本无法解析，设置提示信息\n",
    "    except FileNotFoundError:\n",
    "        return \"CUDA not found\" # 如果找不到 nvcc 命令，设置提示信息\n",
    "\n",
    "# 获取 Python 版本的函数\n",
    "def get_python_version():\n",
    "    return platform.python_version() # 获取 Python 版本\n",
    "\n",
    "# 获取 Conda 版本的函数\n",
    "def get_conda_version():\n",
    "    try:\n",
    "        # 尝试使用 conda --version 获取 Conda 版本\n",
    "        result = subprocess.run(['conda', '--version'], capture_output=True, text=True)\n",
    "        if result.returncode == 0: # 如果命令成功执行\n",
    "            return result.stdout.strip() # 返回 Conda 版本\n",
    "        return \"Conda not found or version not parsed\" # 如果找不到 Conda 或版本无法解析，设置提示信息\n",
    "    except FileNotFoundError:\n",
    "        return \"Conda not found\" # 如果找不到 conda 命令，设置提示信息\n",
    "\n",
    "# 获取物理磁盘空间信息的函数\n",
    "def get_disk_space():\n",
    "    try:\n",
    "        total, used, free = shutil.disk_usage(\"/\") # 获取根目录的磁盘使用情况\n",
    "        total_gb = total / (1024**3) # 转换为 GB\n",
    "        used_gb = used / (1024**3) # 转换为 GB\n",
    "        free_gb = free / (1024**3) # 转换为 GB\n",
    "        return f\"Total: {total_gb:.2f} GB, Used: {used_gb:.2f} GB, Free: {free_gb:.2f} GB\" # 格式化输出\n",
    "    except Exception as e:\n",
    "        return f\"Could not retrieve disk info: {e}\" # 如果获取信息出错，设置错误信息\n",
    "\n",
    "# 获取环境信息\n",
    "os_name = platform.system() # 获取操作系统名称\n",
    "os_version = platform.release() # 获取操作系统版本\n",
    "if os_name == \"Linux\":\n",
    "    try:\n",
    "        # 在 Linux 上尝试获取发行版和版本\n",
    "        lsb_info = subprocess.run(['lsb_release', '-a'], capture_output=True, text=True)\n",
    "        if lsb_info.returncode == 0: # 如果命令成功执行\n",
    "            for line in lsb_info.stdout.splitlines():\n",
    "                if 'Description:' in line: # 查找包含 'Description:' 的行\n",
    "                    os_version = line.split('Description:')[1].strip() # 提取描述信息作为版本\n",
    "                    break # 找到后退出循环\n",
    "                elif 'Release:' in line: # 查找包含 'Release:' 的行\n",
    "                     os_version = line.split('Release:')[1].strip() # 提取版本号\n",
    "                     # 尝试获取 codename\n",
    "                     try:\n",
    "                         codename_info = subprocess.run(['lsb_release', '-c'], capture_output=True, text=True)\n",
    "                         if codename_info.returncode == 0:\n",
    "                             os_version += f\" ({codename_info.stdout.split(':')[1].strip()})\" # 将 codename 添加到版本信息中\n",
    "                     except:\n",
    "                         pass # 如果获取 codename 失败则忽略\n",
    "\n",
    "    except FileNotFoundError:\n",
    "        pass # lsb_release 可能未安装，忽略错误\n",
    "\n",
    "full_os_info = f\"{os_name} {os_version}\" # 组合完整的操作系统信息\n",
    "cpu_info = get_cpu_info() # 调用函数获取 CPU 信息和核心数量\n",
    "memory_info = get_memory_info() # 调用函数获取内存信息\n",
    "gpu_info = get_gpu_info() # 调用函数获取 GPU 信息和显存\n",
    "cuda_version = get_cuda_version() # 调用函数获取 CUDA 版本\n",
    "python_version = get_python_version() # 调用函数获取 Python 版本\n",
    "conda_version = get_conda_version() # 调用函数获取 Conda 版本\n",
    "disk_info = get_disk_space() # 调用函数获取物理磁盘空间信息\n",
    "\n",
    "\n",
    "# 创建用于存储数据的字典\n",
    "env_data = {\n",
    "    \"项目\": [ # 项目名称列表\n",
    "        \"操作系统\",\n",
    "        \"CPU 信息\",\n",
    "        \"内存信息\",\n",
    "        \"GPU 信息\",\n",
    "        \"CUDA 信息\",\n",
    "        \"Python 版本\",\n",
    "        \"Conda 版本\",\n",
    "        \"物理磁盘空间\" # 添加物理磁盘空间\n",
    "    ],\n",
    "    \"信息\": [ # 对应的信息列表\n",
    "        full_os_info,\n",
    "        cpu_info,\n",
    "        memory_info,\n",
    "        gpu_info,\n",
    "        cuda_version,\n",
    "        python_version,\n",
    "        conda_version,\n",
    "        disk_info # 添加物理磁盘空间信息\n",
    "    ]\n",
    "}\n",
    "\n",
    "# 创建一个 pandas DataFrame\n",
    "df = pd.DataFrame(env_data)\n",
    "\n",
    "# 打印表格\n",
    "print(\"### 环境信息\") # 打印标题\n",
    "print(df.to_markdown(index=False)) # 将 DataFrame 转换为 Markdown 格式并打印，不包含索引\n"
   ]
  },
  {
   "cell_type": "markdown",
   "metadata": {
    "id": "view-in-github",
    "colab_type": "text"
   },
   "source": [
    "<a href=\"https://colab.research.google.com/github/FlyAIBox/AIAgent101/blob/main/06-agent-evaluation/langfuse/01_04_integration_langgraph.ipynb\" target=\"_parent\"><img src=\"https://colab.research.google.com/assets/colab-badge.svg\" alt=\"Open In Colab\"/></a>"
   ]
  },
  {
   "cell_type": "markdown",
   "metadata": {
    "id": "YlCI9KeX4Zn4"
   },
   "source": [
    "## 什么是 LangGraph？\n",
    "\n",
    "[LangGraph](https://langchain-ai.github.io/langgraph/) 是由 LangChain 团队开源的框架，用于基于大语言模型（LLM）构建复杂、有状态的多智能体应用。LangGraph 内置了持久化能力，可保存与恢复状态，从而支持错误恢复与包含“人机交互”（Human-in-the-loop, HITL）的工作流。"
   ]
  },
  {
   "cell_type": "markdown",
   "metadata": {
    "id": "3o8L1qPcaZeC"
   },
   "source": [
    "## 本实践手册的目标\n",
    "\n",
    "本手册演示如何借助 [Langfuse](https://langfuse.com/docs)，通过其与 [LangChain 的集成](https://langfuse.com/integrations/frameworks/langchain)，对你的 LangGraph 应用进行调试、分析与迭代优化。"
   ]
  },
  {
   "cell_type": "markdown",
   "metadata": {
    "id": "gPTaMtxH4eHV"
   },
   "source": [
    "**完成本手册后，你将能够：**\n",
    "\n",
    "- 自动通过 Langfuse 集成对 LangGraph 应用进行追踪（tracing）\n",
    "- 监控复杂的多智能体（multi-agent）方案\n",
    "- 添加评分（例如用户反馈）\n",
    "- 使用 Langfuse 管理 LangGraph 中使用的提示词（prompt）\n"
   ]
  },
  {
   "cell_type": "markdown",
   "metadata": {
    "id": "0sSIS88y9Ewm"
   },
   "source": [
    "## 初始化 Langfuse\n",
    "\n",
    "在 Langfuse 控制台项目设置页获取你的 [API 密钥](https://langfuse.com/faq/all/where-are-langfuse-api-keys)，并将其加入到运行环境变量中以初始化 Langfuse 客户端。\n",
    "\n",
    "<!-- CALLOUT_START type: \"info\" emoji: \"⚠️\" -->\n",
    "_**注意：** 本笔记使用 Langfuse Python SDK v3。_\n",
    "<!-- CALLOUT_END -->\n",
    "\n",
    "<!-- CALLOUT_START type: \"info\" emoji: \"ℹ️\" -->\n",
    "_**注意：** 需要至少 Python 3.11（参见 [GitHub Issue](https://github.com/langfuse/langfuse/issues/1926)）。_\n",
    "<!-- CALLOUT_END -->"
   ]
  },
  {
   "cell_type": "code",
   "execution_count": 1,
   "metadata": {
    "colab": {
     "base_uri": "https://localhost:8080/"
    },
    "collapsed": true,
    "id": "C85BK1vJ5yD3",
    "outputId": "806323f8-3c9c-4bd1-d558-e474a2078baf"
   },
   "outputs": [
    {
     "output_type": "stream",
     "name": "stdout",
     "text": [
      "Requirement already satisfied: langfuse==3.3.0 in /usr/local/lib/python3.12/dist-packages (3.3.0)\n",
      "Requirement already satisfied: langchain==0.3.27 in /usr/local/lib/python3.12/dist-packages (0.3.27)\n",
      "Requirement already satisfied: langchain-openai==0.3.31 in /usr/local/lib/python3.12/dist-packages (0.3.31)\n",
      "Requirement already satisfied: langchain_community==0.3.27 in /usr/local/lib/python3.12/dist-packages (0.3.27)\n",
      "Requirement already satisfied: langgraph==0.6.7 in /usr/local/lib/python3.12/dist-packages (0.6.7)\n",
      "Requirement already satisfied: backoff>=1.10.0 in /usr/local/lib/python3.12/dist-packages (from langfuse==3.3.0) (2.2.1)\n",
      "Requirement already satisfied: httpx<1.0,>=0.15.4 in /usr/local/lib/python3.12/dist-packages (from langfuse==3.3.0) (0.28.1)\n",
      "Requirement already satisfied: opentelemetry-api<2.0.0,>=1.33.1 in /usr/local/lib/python3.12/dist-packages (from langfuse==3.3.0) (1.37.0)\n",
      "Requirement already satisfied: opentelemetry-exporter-otlp-proto-http<2.0.0,>=1.33.1 in /usr/local/lib/python3.12/dist-packages (from langfuse==3.3.0) (1.37.0)\n",
      "Requirement already satisfied: opentelemetry-sdk<2.0.0,>=1.33.1 in /usr/local/lib/python3.12/dist-packages (from langfuse==3.3.0) (1.37.0)\n",
      "Requirement already satisfied: packaging<26.0,>=23.2 in /usr/local/lib/python3.12/dist-packages (from langfuse==3.3.0) (25.0)\n",
      "Requirement already satisfied: pydantic<3.0,>=1.10.7 in /usr/local/lib/python3.12/dist-packages (from langfuse==3.3.0) (2.11.9)\n",
      "Requirement already satisfied: requests<3,>=2 in /usr/local/lib/python3.12/dist-packages (from langfuse==3.3.0) (2.32.4)\n",
      "Requirement already satisfied: wrapt<2.0,>=1.14 in /usr/local/lib/python3.12/dist-packages (from langfuse==3.3.0) (1.17.3)\n",
      "Requirement already satisfied: langchain-core<1.0.0,>=0.3.72 in /usr/local/lib/python3.12/dist-packages (from langchain==0.3.27) (0.3.76)\n",
      "Requirement already satisfied: langchain-text-splitters<1.0.0,>=0.3.9 in /usr/local/lib/python3.12/dist-packages (from langchain==0.3.27) (0.3.11)\n",
      "Requirement already satisfied: langsmith>=0.1.17 in /usr/local/lib/python3.12/dist-packages (from langchain==0.3.27) (0.4.28)\n",
      "Requirement already satisfied: SQLAlchemy<3,>=1.4 in /usr/local/lib/python3.12/dist-packages (from langchain==0.3.27) (2.0.43)\n",
      "Requirement already satisfied: PyYAML>=5.3 in /usr/local/lib/python3.12/dist-packages (from langchain==0.3.27) (6.0.2)\n",
      "Requirement already satisfied: openai<2.0.0,>=1.99.9 in /usr/local/lib/python3.12/dist-packages (from langchain-openai==0.3.31) (1.108.0)\n",
      "Requirement already satisfied: tiktoken<1,>=0.7 in /usr/local/lib/python3.12/dist-packages (from langchain-openai==0.3.31) (0.11.0)\n",
      "Requirement already satisfied: aiohttp<4.0.0,>=3.8.3 in /usr/local/lib/python3.12/dist-packages (from langchain_community==0.3.27) (3.12.15)\n",
      "Requirement already satisfied: tenacity!=8.4.0,<10,>=8.1.0 in /usr/local/lib/python3.12/dist-packages (from langchain_community==0.3.27) (8.5.0)\n",
      "Requirement already satisfied: dataclasses-json<0.7,>=0.5.7 in /usr/local/lib/python3.12/dist-packages (from langchain_community==0.3.27) (0.6.7)\n",
      "Requirement already satisfied: pydantic-settings<3.0.0,>=2.4.0 in /usr/local/lib/python3.12/dist-packages (from langchain_community==0.3.27) (2.10.1)\n",
      "Requirement already satisfied: httpx-sse<1.0.0,>=0.4.0 in /usr/local/lib/python3.12/dist-packages (from langchain_community==0.3.27) (0.4.1)\n",
      "Requirement already satisfied: numpy>=1.26.2 in /usr/local/lib/python3.12/dist-packages (from langchain_community==0.3.27) (2.0.2)\n",
      "Requirement already satisfied: langgraph-checkpoint<3.0.0,>=2.1.0 in /usr/local/lib/python3.12/dist-packages (from langgraph==0.6.7) (2.1.1)\n",
      "Requirement already satisfied: langgraph-prebuilt<0.7.0,>=0.6.0 in /usr/local/lib/python3.12/dist-packages (from langgraph==0.6.7) (0.6.4)\n",
      "Requirement already satisfied: langgraph-sdk<0.3.0,>=0.2.2 in /usr/local/lib/python3.12/dist-packages (from langgraph==0.6.7) (0.2.9)\n",
      "Requirement already satisfied: xxhash>=3.5.0 in /usr/local/lib/python3.12/dist-packages (from langgraph==0.6.7) (3.5.0)\n",
      "Requirement already satisfied: aiohappyeyeballs>=2.5.0 in /usr/local/lib/python3.12/dist-packages (from aiohttp<4.0.0,>=3.8.3->langchain_community==0.3.27) (2.6.1)\n",
      "Requirement already satisfied: aiosignal>=1.4.0 in /usr/local/lib/python3.12/dist-packages (from aiohttp<4.0.0,>=3.8.3->langchain_community==0.3.27) (1.4.0)\n",
      "Requirement already satisfied: attrs>=17.3.0 in /usr/local/lib/python3.12/dist-packages (from aiohttp<4.0.0,>=3.8.3->langchain_community==0.3.27) (25.3.0)\n",
      "Requirement already satisfied: frozenlist>=1.1.1 in /usr/local/lib/python3.12/dist-packages (from aiohttp<4.0.0,>=3.8.3->langchain_community==0.3.27) (1.7.0)\n",
      "Requirement already satisfied: multidict<7.0,>=4.5 in /usr/local/lib/python3.12/dist-packages (from aiohttp<4.0.0,>=3.8.3->langchain_community==0.3.27) (6.6.4)\n",
      "Requirement already satisfied: propcache>=0.2.0 in /usr/local/lib/python3.12/dist-packages (from aiohttp<4.0.0,>=3.8.3->langchain_community==0.3.27) (0.3.2)\n",
      "Requirement already satisfied: yarl<2.0,>=1.17.0 in /usr/local/lib/python3.12/dist-packages (from aiohttp<4.0.0,>=3.8.3->langchain_community==0.3.27) (1.20.1)\n",
      "Requirement already satisfied: marshmallow<4.0.0,>=3.18.0 in /usr/local/lib/python3.12/dist-packages (from dataclasses-json<0.7,>=0.5.7->langchain_community==0.3.27) (3.26.1)\n",
      "Requirement already satisfied: typing-inspect<1,>=0.4.0 in /usr/local/lib/python3.12/dist-packages (from dataclasses-json<0.7,>=0.5.7->langchain_community==0.3.27) (0.9.0)\n",
      "Requirement already satisfied: anyio in /usr/local/lib/python3.12/dist-packages (from httpx<1.0,>=0.15.4->langfuse==3.3.0) (4.10.0)\n",
      "Requirement already satisfied: certifi in /usr/local/lib/python3.12/dist-packages (from httpx<1.0,>=0.15.4->langfuse==3.3.0) (2025.8.3)\n",
      "Requirement already satisfied: httpcore==1.* in /usr/local/lib/python3.12/dist-packages (from httpx<1.0,>=0.15.4->langfuse==3.3.0) (1.0.9)\n",
      "Requirement already satisfied: idna in /usr/local/lib/python3.12/dist-packages (from httpx<1.0,>=0.15.4->langfuse==3.3.0) (3.10)\n",
      "Requirement already satisfied: h11>=0.16 in /usr/local/lib/python3.12/dist-packages (from httpcore==1.*->httpx<1.0,>=0.15.4->langfuse==3.3.0) (0.16.0)\n",
      "Requirement already satisfied: jsonpatch<2.0,>=1.33 in /usr/local/lib/python3.12/dist-packages (from langchain-core<1.0.0,>=0.3.72->langchain==0.3.27) (1.33)\n",
      "Requirement already satisfied: typing-extensions>=4.7 in /usr/local/lib/python3.12/dist-packages (from langchain-core<1.0.0,>=0.3.72->langchain==0.3.27) (4.15.0)\n",
      "Requirement already satisfied: ormsgpack>=1.10.0 in /usr/local/lib/python3.12/dist-packages (from langgraph-checkpoint<3.0.0,>=2.1.0->langgraph==0.6.7) (1.10.0)\n",
      "Requirement already satisfied: orjson>=3.10.1 in /usr/local/lib/python3.12/dist-packages (from langgraph-sdk<0.3.0,>=0.2.2->langgraph==0.6.7) (3.11.3)\n",
      "Requirement already satisfied: requests-toolbelt>=1.0.0 in /usr/local/lib/python3.12/dist-packages (from langsmith>=0.1.17->langchain==0.3.27) (1.0.0)\n",
      "Requirement already satisfied: zstandard>=0.23.0 in /usr/local/lib/python3.12/dist-packages (from langsmith>=0.1.17->langchain==0.3.27) (0.25.0)\n",
      "Requirement already satisfied: distro<2,>=1.7.0 in /usr/local/lib/python3.12/dist-packages (from openai<2.0.0,>=1.99.9->langchain-openai==0.3.31) (1.9.0)\n",
      "Requirement already satisfied: jiter<1,>=0.4.0 in /usr/local/lib/python3.12/dist-packages (from openai<2.0.0,>=1.99.9->langchain-openai==0.3.31) (0.11.0)\n",
      "Requirement already satisfied: sniffio in /usr/local/lib/python3.12/dist-packages (from openai<2.0.0,>=1.99.9->langchain-openai==0.3.31) (1.3.1)\n",
      "Requirement already satisfied: tqdm>4 in /usr/local/lib/python3.12/dist-packages (from openai<2.0.0,>=1.99.9->langchain-openai==0.3.31) (4.67.1)\n",
      "Requirement already satisfied: importlib-metadata<8.8.0,>=6.0 in /usr/local/lib/python3.12/dist-packages (from opentelemetry-api<2.0.0,>=1.33.1->langfuse==3.3.0) (8.7.0)\n",
      "Requirement already satisfied: googleapis-common-protos~=1.52 in /usr/local/lib/python3.12/dist-packages (from opentelemetry-exporter-otlp-proto-http<2.0.0,>=1.33.1->langfuse==3.3.0) (1.70.0)\n",
      "Requirement already satisfied: opentelemetry-exporter-otlp-proto-common==1.37.0 in /usr/local/lib/python3.12/dist-packages (from opentelemetry-exporter-otlp-proto-http<2.0.0,>=1.33.1->langfuse==3.3.0) (1.37.0)\n",
      "Requirement already satisfied: opentelemetry-proto==1.37.0 in /usr/local/lib/python3.12/dist-packages (from opentelemetry-exporter-otlp-proto-http<2.0.0,>=1.33.1->langfuse==3.3.0) (1.37.0)\n",
      "Requirement already satisfied: protobuf<7.0,>=5.0 in /usr/local/lib/python3.12/dist-packages (from opentelemetry-proto==1.37.0->opentelemetry-exporter-otlp-proto-http<2.0.0,>=1.33.1->langfuse==3.3.0) (5.29.5)\n",
      "Requirement already satisfied: opentelemetry-semantic-conventions==0.58b0 in /usr/local/lib/python3.12/dist-packages (from opentelemetry-sdk<2.0.0,>=1.33.1->langfuse==3.3.0) (0.58b0)\n",
      "Requirement already satisfied: annotated-types>=0.6.0 in /usr/local/lib/python3.12/dist-packages (from pydantic<3.0,>=1.10.7->langfuse==3.3.0) (0.7.0)\n",
      "Requirement already satisfied: pydantic-core==2.33.2 in /usr/local/lib/python3.12/dist-packages (from pydantic<3.0,>=1.10.7->langfuse==3.3.0) (2.33.2)\n",
      "Requirement already satisfied: typing-inspection>=0.4.0 in /usr/local/lib/python3.12/dist-packages (from pydantic<3.0,>=1.10.7->langfuse==3.3.0) (0.4.1)\n",
      "Requirement already satisfied: python-dotenv>=0.21.0 in /usr/local/lib/python3.12/dist-packages (from pydantic-settings<3.0.0,>=2.4.0->langchain_community==0.3.27) (1.1.1)\n",
      "Requirement already satisfied: charset_normalizer<4,>=2 in /usr/local/lib/python3.12/dist-packages (from requests<3,>=2->langfuse==3.3.0) (3.4.3)\n",
      "Requirement already satisfied: urllib3<3,>=1.21.1 in /usr/local/lib/python3.12/dist-packages (from requests<3,>=2->langfuse==3.3.0) (2.5.0)\n",
      "Requirement already satisfied: greenlet>=1 in /usr/local/lib/python3.12/dist-packages (from SQLAlchemy<3,>=1.4->langchain==0.3.27) (3.2.4)\n",
      "Requirement already satisfied: regex>=2022.1.18 in /usr/local/lib/python3.12/dist-packages (from tiktoken<1,>=0.7->langchain-openai==0.3.31) (2024.11.6)\n",
      "Requirement already satisfied: zipp>=3.20 in /usr/local/lib/python3.12/dist-packages (from importlib-metadata<8.8.0,>=6.0->opentelemetry-api<2.0.0,>=1.33.1->langfuse==3.3.0) (3.23.0)\n",
      "Requirement already satisfied: jsonpointer>=1.9 in /usr/local/lib/python3.12/dist-packages (from jsonpatch<2.0,>=1.33->langchain-core<1.0.0,>=0.3.72->langchain==0.3.27) (3.0.0)\n",
      "Requirement already satisfied: mypy-extensions>=0.3.0 in /usr/local/lib/python3.12/dist-packages (from typing-inspect<1,>=0.4.0->dataclasses-json<0.7,>=0.5.7->langchain_community==0.3.27) (1.1.0)\n"
     ]
    }
   ],
   "source": [
    "%pip install langfuse==3.3.0 langchain==0.3.27 langchain-openai==0.3.31 langchain_community==0.3.27 langgraph==0.6.7"
   ]
  },
  {
   "cell_type": "markdown",
   "metadata": {
    "id": "sUbRmJ-Kh0rq"
   },
   "source": [
    "在 Langfuse 控制台的项目设置页获取 API Key，初始化 Langfuse 客户端，并将其设置到环境变量中。"
   ]
  },
  {
   "cell_type": "code",
   "execution_count": 2,
   "metadata": {
    "colab": {
     "base_uri": "https://localhost:8080/"
    },
    "id": "Vku6l5CLhwdC",
    "outputId": "604ff78f-65af-4fc1-8d81-a1a998a4c345"
   },
   "outputs": [
    {
     "name": "stdout",
     "output_type": "stream",
     "text": [
      "OPENAI_API_KEY: ··········\n",
      "OPENAI_BASE_URL: ··········\n",
      "LANGFUSE_PUBLIC_KEY: ··········\n",
      "LANGFUSE_SECRET_KEY: ··········\n",
      "LANGFUSE_HOST: ··········\n"
     ]
    }
   ],
   "source": [
    "# 🔐 环境变量配置 - 安全存储敏感信息\n",
    "# 环境变量是存储API密钥等敏感信息的最佳实践\n",
    "# 避免在代码中硬编码密钥，防止泄露\n",
    "\n",
    "import os, getpass\n",
    "\n",
    "def _set_env(var: str):\n",
    "    \"\"\"\n",
    "    安全地设置环境变量\n",
    "    如果环境变量不存在，会提示用户输入\n",
    "    使用getpass模块隐藏输入内容，防止密码泄露\n",
    "    \"\"\"\n",
    "    if not os.environ.get(var):\n",
    "        os.environ[var] = getpass.getpass(f\"{var}: \")\n",
    "\n",
    "# 🤖 OpenAI API 配置\n",
    "# OpenAI API密钥：从 https://platform.openai.com/api-keys 获取\n",
    "# 这是调用GPT模型必需的认证信息\n",
    "_set_env(\"OPENAI_API_KEY\")\n",
    "\n",
    "# API代理地址：如果你使用第三方代理服务（如国内代理）\n",
    "# 示例：https://api.apiyi.com/v1\n",
    "# 如果直接使用OpenAI官方API，可以留空\n",
    "_set_env(\"OPENAI_BASE_URL\")\n",
    "\n",
    "# 🌐 Langfuse 配置\n",
    "# Langfuse是一个可观测性平台，需要注册账户获取密钥\n",
    "# 注册地址：https://cloud.langfuse.com\n",
    "\n",
    "# 公开密钥：用于标识你的项目\n",
    "_set_env(\"LANGFUSE_PUBLIC_KEY\")\n",
    "\n",
    "# 秘密密钥：用于认证，请妥善保管\n",
    "_set_env(\"LANGFUSE_SECRET_KEY\")\n",
    "\n",
    "# 服务器地址：选择离你最近的区域\n",
    "# 🇪🇺 欧盟区域(推荐) https://cloud.langfuse.com\n",
    "# 🇺🇸 美国区域（不推荐） https://us.cloud.langfuse.com\n",
    "_set_env(\"LANGFUSE_HOST\")\n",
    "\n",
    "# 💡 初学者提示：\n",
    "# 1. 环境变量存储在操作系统中，重启后需要重新设置\n",
    "# 2. 生产环境中建议使用.env文件或云服务配置\n",
    "# 3. 永远不要在代码中硬编码API密钥！\n"
   ]
  },
  {
   "cell_type": "markdown",
   "metadata": {
    "id": "Agy0r3Byg-Aw"
   },
   "source": [
    "在环境变量设置完成后，我们即可初始化 Langfuse 客户端。`get_client()` 会使用环境变量中提供的凭据来初始化 Langfuse 客户端。"
   ]
  },
  {
   "cell_type": "code",
   "execution_count": 3,
   "metadata": {
    "colab": {
     "base_uri": "https://localhost:8080/"
    },
    "id": "3LVLs2A8g-Ax",
    "outputId": "44ce9dd7-1ada-4a05-bb0b-ca3281833dde"
   },
   "outputs": [
    {
     "output_type": "stream",
     "name": "stdout",
     "text": [
      "✅ Langfuse 客户端已通过身份验证，准备就绪！\n",
      "🔧 现在可以开始使用追踪功能了\n"
     ]
    }
   ],
   "source": [
    "from langfuse import get_client\n",
    "\n",
    "# 🚀 初始化 Langfuse 客户端\n",
    "# get_client() 会自动读取环境变量中的配置信息\n",
    "langfuse = get_client()\n",
    "\n",
    "# 🔍 验证客户端连接状态\n",
    "# 这个步骤非常重要，确保后续的追踪功能能够正常工作\n",
    "if langfuse.auth_check():\n",
    "    print(\"✅ Langfuse 客户端已通过身份验证，准备就绪！\")\n",
    "    print(\"🔧 现在可以开始使用追踪功能了\")\n",
    "else:\n",
    "    print(\"❌ 身份验证失败！\")\n",
    "    print(\"🔍 请检查以下配置项：\")\n",
    "    print(\"   - LANGFUSE_PUBLIC_KEY 是否正确\")\n",
    "    print(\"   - LANGFUSE_SECRET_KEY 是否正确\")\n",
    "    print(\"   - LANGFUSE_HOST 是否可访问\")\n",
    "    print(\"   - 网络连接是否正常\")"
   ]
  },
  {
   "cell_type": "markdown",
   "metadata": {
    "id": "kqYMmi6n9Nh1"
   },
   "source": [
    "## 示例 1：使用 LangGraph 构建简单聊天应用\n",
    "\n",
    "**本节将完成：**\n",
    "\n",
    "- 在 LangGraph 中构建一个可回答常见问题的客服聊天机器人\n",
    "- 使用 Langfuse 对机器人的输入与输出进行追踪（tracing）\n",
    "\n",
    "我们先从一个基础机器人入手，随后在下一节扩展为更高级的多智能体（multi-agent）设置，并在过程中介绍关键的 LangGraph 概念。\n",
    "\n",
    "### 创建智能体（Agent）\n",
    "\n",
    "首先创建一个 `StateGraph`。`StateGraph` 定义了聊天机器人的状态机结构。我们会添加节点来表示 LLM 以及机器人可调用的函数，并通过边（edge）定义机器人在这些函数之间的状态流转。"
   ]
  },
  {
   "cell_type": "code",
   "execution_count": 4,
   "metadata": {
    "id": "aGIxgPww6VX6"
   },
   "outputs": [],
   "source": [
    "# 🔧 导入 LangGraph 构建智能体所需的核心模块\n",
    "from typing import Annotated\n",
    "from langchain_openai import ChatOpenAI  # OpenAI 聊天模型\n",
    "from langchain_core.messages import HumanMessage  # 人类消息类型\n",
    "from typing_extensions import TypedDict  # 类型化字典\n",
    "from langgraph.graph import StateGraph  # LangGraph 状态图\n",
    "from langgraph.graph.message import add_messages  # 消息添加函数\n",
    "\n",
    "# 📋 定义智能体的状态结构\n",
    "# State 是一个类型化字典，定义了智能体在执行过程中需要维护的状态信息\n",
    "class State(TypedDict):\n",
    "    # 💬 消息列表：存储对话历史\n",
    "    # Annotated[list, add_messages] 的含义：\n",
    "    # - list: 消息的数据类型是列表\n",
    "    # - add_messages: 指定状态更新策略，新消息会追加到列表末尾而不是覆盖整个列表\n",
    "    # 这种设计确保了对话历史的完整保存\n",
    "    messages: Annotated[list, add_messages]\n",
    "\n",
    "# 🏗️ 创建状态图构建器\n",
    "# StateGraph 是 LangGraph 的核心组件，用于定义智能体的工作流程\n",
    "graph_builder = StateGraph(State)\n",
    "\n",
    "# 🤖 初始化语言模型\n",
    "# 选择 GPT-4o 模型，temperature=0.2 确保输出相对稳定但仍有一定创造性\n",
    "llm = ChatOpenAI(model=\"gpt-4o\", temperature=0.2)\n",
    "\n",
    "# 🔄 定义聊天机器人节点函数\n",
    "# 这是 LangGraph 节点函数的基本模式：接收当前状态，返回更新后的状态\n",
    "def chatbot(state: State):\n",
    "    \"\"\"\n",
    "    聊天机器人节点的核心逻辑\n",
    "\n",
    "    参数:\n",
    "        state (State): 当前的智能体状态，包含消息历史\n",
    "\n",
    "    返回:\n",
    "        dict: 包含新生成消息的状态更新\n",
    "\n",
    "    工作流程:\n",
    "    1. 获取当前的消息历史\n",
    "    2. 将消息历史发送给语言模型\n",
    "    3. 接收模型生成的回复\n",
    "    4. 将回复包装成状态更新返回\n",
    "    \"\"\"\n",
    "    # 调用语言模型处理当前对话历史，生成回复\n",
    "    response = llm.invoke(state[\"messages\"])\n",
    "\n",
    "    # 返回状态更新：将模型的回复添加到消息列表中\n",
    "    return {\"messages\": [response]}\n",
    "\n",
    "# 🔗 向图中添加\"chatbot\"节点\n",
    "# 节点代表工作单元，通常是普通的 Python 函数\n",
    "# 每个节点负责特定的处理逻辑，如调用 LLM、处理工具、数据转换等\n",
    "graph_builder.add_node(\"chatbot\", chatbot)\n",
    "\n",
    "# 🚀 设置图的入口点\n",
    "# 告诉图每次运行时从哪个节点开始执行\n",
    "# 在这个简单示例中，我们直接从 chatbot 节点开始\n",
    "graph_builder.set_entry_point(\"chatbot\")\n",
    "\n",
    "# 🏁 设置图的结束点\n",
    "# 指示图\"当这个节点运行完成后，可以退出执行\"\n",
    "# 对于简单的单轮对话，chatbot 节点执行完就可以结束\n",
    "graph_builder.set_finish_point(\"chatbot\")\n",
    "\n",
    "# ⚙️ 编译图形为可执行对象\n",
    "# compile() 方法将图构建器转换为 CompiledGraph\n",
    "# CompiledGraph 是可以实际运行的图形对象，支持 invoke、stream 等方法\n",
    "graph = graph_builder.compile()\n",
    "\n",
    "# 💡 理解 LangGraph 的核心概念：\n",
    "# 🏗️ StateGraph: 定义智能体的状态和工作流程\n",
    "# 🔄 Node: 执行具体任务的函数，如调用 LLM、使用工具等\n",
    "# 🔗 Edge: 连接节点，定义执行顺序和条件跳转\n",
    "# 📊 State: 智能体运行过程中维护的数据结构\n",
    "# ⚙️ CompiledGraph: 编译后的可执行图形对象"
   ]
  },
  {
   "cell_type": "markdown",
   "metadata": {
    "id": "IW2SJcRgh7Xo"
   },
   "source": [
    "### 在调用时添加 Langfuse 回调\n",
    "\n",
    "现在，为了追踪应用执行过程，我们将添加 [面向 LangChain 的 Langfuse 回调处理器](https://langfuse.com/integrations/frameworks/langchain)：`config={\"callbacks\": [langfuse_handler]}`"
   ]
  },
  {
   "cell_type": "code",
   "execution_count": 5,
   "metadata": {
    "colab": {
     "base_uri": "https://localhost:8080/"
    },
    "id": "8PxEc455-KYM",
    "outputId": "f7564588-e640-49a9-d36c-bbd3955eef94"
   },
   "outputs": [
    {
     "output_type": "stream",
     "name": "stdout",
     "text": [
      "🤖 智能体开始运行，正在处理问题……\n",
      "❓ 用户提问：什么是 Langfuse？\n",
      "📋 执行过程:\n",
      "📤 节点执行结果：{'chatbot': {'messages': [AIMessage(content='Langfuse 是一个专注于帮助开发者和企业管理大语言模型应用程序的工具。它主要用于监控、调试和优化基于 AI 的应用程序，使开发者能够更加高效地使用和调整这些模型。以下是 Langfuse 的主要功能和典型应用场景：\\n\\n### 主要功能\\n\\n1. **实时监控**：\\n   - 提供对应用程序的实时监控能力，帮助开发者跟踪请求和响应，确保应用程序的正常运行。\\n   - 可以监控不同模型的性能表现，帮助识别潜在的问题和瓶颈。\\n\\n2. **调试工具**：\\n   - Langfuse 提供了强大的调试功能，使开发者能够更深入地分析模型的错误和异常行为。\\n   - 支持查看详细的日志和错误报告，以便快速定位和修复问题。\\n\\n3. **性能优化**：\\n   - 收集和分析应用程序的性能数据，帮助识别性能瓶颈和优化机会。\\n   - 提供建议和工具，帮助调整模型参数和配置，以提高整体效率。\\n\\n4. **可视化界面**：\\n   - 提供用户友好的界面，便于开发者查看和管理模型的各种数据和配置。\\n   - 支持图表和报告生成，帮助更好地理解和展示模型性能。\\n\\n5. **兼容性支持**：\\n   - 支持多种大语言模型和AI框架，便于集成和使用。\\n   - 提供 API 和插件，帮助开发者将其集成到现有工作流和技术栈中。\\n\\n### 典型应用场景\\n\\n1. **AI 产品开发**：\\n   - 在构建基于大语言模型的应用时，Langfuse 使开发团队能够更高效地进行开发和调试工作。\\n   - 适合自然语言处理 (NLP) 应用，如聊天机器人、语言翻译工具等。\\n\\n2. **模型监控和维护**：\\n   - 为生产环境中的大模型应用提供监控和维护支持，确保持续高效的运行。\\n   - 帮助团队提前发现和处理潜在问题，从而提高应用的稳定性和可靠性。\\n\\n3. **数据分析**：\\n   - 通过收集和分析模型的数据表现，提供优化策略的建议。\\n   - 支持定制化报告生成，以供决策层参考。\\n\\n4. **教育和科研**：\\n   - 对于进行语言模型研究的学术机构，Langfuse 提供了一个可视化和交互的平台，用于实验数据的分析和模型性能的评估。\\n\\nLangfuse 的功能和适用场景让它成为了大语言模型应用程序管理中一个强大的工具，无论是在开发阶段还是在生产运维中，都能够提供有效的支持。', additional_kwargs={'refusal': None}, response_metadata={'token_usage': {'completion_tokens': 609, 'prompt_tokens': 26, 'total_tokens': 635, 'completion_tokens_details': {'accepted_prediction_tokens': 0, 'audio_tokens': 0, 'reasoning_tokens': 0, 'rejected_prediction_tokens': 0}, 'prompt_tokens_details': {'audio_tokens': 0, 'cached_tokens': 0}, 'input_tokens': 0, 'output_tokens': 0, 'input_tokens_details': None}, 'model_name': 'gpt-4o', 'system_fingerprint': 'fp_8458c98457', 'id': 'chatcmpl-CIrzpsLigGlDkFxYcaqhdMY4rb9KV', 'service_tier': None, 'finish_reason': 'stop', 'logprobs': None}, id='run--4c5ead80-1c44-45da-b74e-a4ba58af3642-0', usage_metadata={'input_tokens': 26, 'output_tokens': 609, 'total_tokens': 635, 'input_token_details': {'audio': 0, 'cache_read': 0}, 'output_token_details': {'audio': 0, 'reasoning': 0}})]}}\n",
      "✅ 智能体执行完成！\n",
      "🔍 请前往 Langfuse 控制台查看完整的追踪记录。\n"
     ]
    }
   ],
   "source": [
    "from langfuse.langchain import CallbackHandler\n",
    "\n",
    "# 🛎️ 初始化 Langfuse 回调处理器\n",
    "# 该处理器会自动捕获 LangChain/LangGraph 的执行细节，用于：\n",
    "# - 🕒 记录每个节点的耗时与延迟\n",
    "# - 📝 保存输入、输出及中间状态\n",
    "# - 💰 统计 token 消耗和 API 调用成本\n",
    "# - 🐞 收集异常信息，便于排错\n",
    "# - 📈 在 Langfuse 中生成可视化调用链\n",
    "langfuse_handler = CallbackHandler()\n",
    "\n",
    "# 🚀 运行智能体并启用 Langfuse 追踪\n",
    "print(\"🤖 智能体开始运行，正在处理问题……\")\n",
    "print(\"❓ 用户提问：什么是 Langfuse？\")\n",
    "print(\"📋 执行过程:\")\n",
    "\n",
    "# 使用 stream 方法可以实时查看智能体的执行步骤：\n",
    "# - graph.stream(...) 会在每个节点完成后产生一次增量输出（生成器）\n",
    "# - config={\"callbacks\": [langfuse_handler]} 确保每一步都写入 Langfuse\n",
    "# - 适合本地调试/教学演示，清晰观察逐步推理过程与耗时\n",
    "for step_result in graph.stream(\n",
    "    {\"messages\": [HumanMessage(content=\"什么是 Langfuse？请详细介绍其主要功能和典型应用场景。\")]},\n",
    "    config={\"callbacks\": [langfuse_handler]}\n",
    "):\n",
    "    # 提示：step_result 的结构类似 {\"chatbot\": {\"messages\": [...]}}，\n",
    "    # 你可以在此对中间结果执行断言/日志上报，构建更稳健的测试与可观测性\n",
    "    print(f\"📤 节点执行结果：{step_result}\")\n",
    "\n",
    "# 结束提示：在 Langfuse 控制台可查看完整调用链、耗时、token 成本等\n",
    "print(\"✅ 智能体执行完成！\")\n",
    "print(\"🔍 请前往 Langfuse 控制台查看完整的追踪记录。\")"
   ]
  },
  {
   "cell_type": "markdown",
   "metadata": {
    "id": "Fdf3ZRnWGZ0N"
   },
   "source": [
    "### 在 Langfuse 中查看追踪结果\n",
    "\n",
    "示例追踪：https://cloud.langfuse.com/project/cmequpe0j00euad07w6wrvkzg/traces?peek=cbc8503a9a111fc5eadb5e914be3fa7a&timestamp=2025-09-22T03%3A48%3A16.647Z&observation=47245ec86916a5d1\n"
   ]
  },
  {
   "cell_type": "markdown",
   "metadata": {
    "id": "17Aq7u6_LBR6"
   },
   "source": [
    "![在 Langfuse 中查看聊天应用的追踪](https://cdn.jsdelivr.net/gh/Fly0905/note-picture@main/imag/202509221150147.png)"
   ]
  },
  {
   "cell_type": "markdown",
   "metadata": {
    "id": "v3yyVtGKhMPU"
   },
   "source": [
    "### 可视化聊天应用\n",
    "\n",
    "你可以使用 `get_graph` 方法配合相应的 “draw” 方法对图进行可视化。"
   ]
  },
  {
   "cell_type": "code",
   "execution_count": 6,
   "metadata": {
    "colab": {
     "base_uri": "https://localhost:8080/",
     "height": 251
    },
    "id": "MKkM6mw47kIy",
    "outputId": "66a35e42-b0bd-4163-eeaa-9946473ff849"
   },
   "outputs": [
    {
     "output_type": "display_data",
     "data": {
      "image/png": "[encoded data removed]",
      "text/plain": [
       "<IPython.core.display.Image object>"
      ]
     },
     "metadata": {}
    }
   ],
   "source": [
    "from IPython.display import Image, display\n",
    "# 可视化当前图（graph）：有助于直观理解节点与执行顺序\n",
    "# 若图较大，可改用 draw_mermaid_file() 输出到文件或 draw_mermaid_svg() 生成矢量图\n",
    "display(Image(graph.get_graph().draw_mermaid_png()))"
   ]
  },
  {
   "cell_type": "markdown",
   "metadata": {
    "id": "yY0HW5xISntw"
   },
   "source": [
    "```mermaid\n",
    "graph TD;\n",
    "\t__start__([__start__]):::first\n",
    "\tchatbot(chatbot)\n",
    "\t__end__([__end__]):::last\n",
    "\t__start__ --> chatbot;\n",
    "\tchatbot --> __end__;\n",
    "\tclassDef default fill:#f2f0ff,line-height:1.2\n",
    "\tclassDef first fill-opacity:0\n",
    "\tclassDef last fill:#bfb6fc\n",
    "```"
   ]
  },
  {
   "cell_type": "markdown",
   "metadata": {
    "id": "9F4Tt_E4g-A0"
   },
   "source": [
    "### 在 LangGraph Server 中使用 Langfuse\n",
    "\n",
    "#### 🖥️ LangGraph Server 简介\n",
    "\n",
    "[LangGraph Server](https://langchain-ai.github.io/langgraph/concepts/langgraph_server/) 是 LangGraph 提供的服务器部署方案，用于将本地构建的图工作流发布为可扩展的在线服务，具备以下能力：\n",
    "\n",
    "- 🌐 **HTTP API 接口**：将 LangGraph 智能体封装为 REST API，便于与业务系统集成\n",
    "- 🚀 **生产级运行**：支持高并发、负载均衡与容器化交付\n",
    "- 🔧 **运维友好**：自动处理请求路由、状态恢复与错误重试\n",
    "- 📊 **监控集成**：兼容主流监控与追踪体系，便于观测运行状况\n",
    "- 🔒 **安全管控**：内置身份认证与授权机制，满足企业安全需求\n",
    "\n",
    "#### 💡 为什么要在 Server 环境接入 Langfuse？\n",
    "\n",
    "- 🏭 **生产可观测性**：实时查看线上请求的调用链与状态\n",
    "- 🐛 **远程调试**：无需复现场景即可还原问题细节\n",
    "- 📈 **性能洞察**：量化每个节点的耗时与成本\n",
    "- 💰 **费用治理**：准确统计第三方 API 的调用量与费用\n",
    "- 👥 **团队协作**：共享追踪记录，支持跨职能协同排查\n"
   ]
  },
  {
   "cell_type": "markdown",
   "metadata": {
    "id": "DTW_X4rFg-A0"
   },
   "source": [
    "#### 🔧 配置方法说明\n",
    "\n",
    "使用 LangGraph Server 时，智能体图的调用由服务器自动处理，用户无法在每次请求时手动指定回调处理器。\n",
    "\n",
    "**关键差异：**\n",
    "- 🏠 **本地开发**：可以在每次调用时添加 `config={\"callbacks\": [langfuse_handler]}`\n",
    "- 🖥️ **服务器部署**：需要在图编译时预先配置回调处理器\n",
    "\n",
    "**解决方案：**\n",
    "在声明和编译图时就添加 Langfuse 回调，这样服务器上的所有请求都会自动启用追踪功能。"
   ]
  },
  {
   "cell_type": "code",
   "execution_count": 7,
   "metadata": {
    "id": "J5UKXzbUg-A0"
   },
   "outputs": [],
   "source": [
    "# 🔧 导入服务器部署所需的模块\n",
    "# 初学者须知：本节示例面向“部署到 LangGraph Server（或任何持久化服务端）”场景，\n",
    "# 重点在于将追踪回调“静态注入”到图对象中，确保线上每个请求都被自动追踪。\n",
    "from typing import Annotated\n",
    "from langchain_openai import ChatOpenAI\n",
    "from typing_extensions import TypedDict\n",
    "from langgraph.graph import StateGraph\n",
    "from langgraph.graph.message import add_messages\n",
    "from langfuse.langchain import CallbackHandler\n",
    "\n",
    "# 📋 定义与前文一致的智能体状态结构\n",
    "# - State 是图的“共享黑板”，所有节点通过它传递数据\n",
    "# - messages 字段使用 add_messages 策略：新消息在运行中会被“追加”，而不是覆盖\n",
    "class State(TypedDict):\n",
    "    messages: Annotated[list, add_messages]\n",
    "\n",
    "# 🏗️ 构建图形结构\n",
    "# 小贴士：将最小可用功能先装成一张图，有利于后续扩展、观测与运维\n",
    "graph_builder = StateGraph(State)\n",
    "\n",
    "# 🤖 初始化语言模型\n",
    "# 说明：temperature 控制随机性。生产环境若追求稳定复现，可适当降低至 0~0.2。\n",
    "llm = ChatOpenAI(model=\"gpt-4o\", temperature=0.2)\n",
    "\n",
    "# 🔄 定义聊天机器人节点\n",
    "# 约定：节点函数签名 (state) -> partial_state\n",
    "# 返回值是“增量状态”（partial update），LangGraph 会据此合并到全局状态\n",
    "\n",
    "def chatbot(state: State):\n",
    "    \"\"\"处理用户消息并生成回复。\"\"\"\n",
    "    return {\"messages\": [llm.invoke(state[\"messages\"]) ]}\n",
    "\n",
    "# 🔗 组装图形结构\n",
    "# entry_point / finish_point 分别指定起点与终点，便于 Server 判定一次执行的生命周期\n",
    "graph_builder.add_node(\"chatbot\", chatbot)\n",
    "graph_builder.set_entry_point(\"chatbot\")\n",
    "graph_builder.set_finish_point(\"chatbot\")\n",
    "\n",
    "# 🔄 初始化 Langfuse 回调处理器（服务器模式）\n",
    "# 注意：在 Server 场景无法逐次在调用处传入 callbacks，需在图对象层面预配置\n",
    "langfuse_handler = CallbackHandler()\n",
    "\n",
    "# ⚙️ 编译图形并预配置回调处理器\n",
    "# 🎯 核心方法：with_config()\n",
    "# - compile()：编译图形，生成可执行的 CompiledGraph\n",
    "# - with_config()：为编译后的图形设置默认配置（如回调处理器）\n",
    "#\n",
    "# 💡 工作流程：\n",
    "# 1. 编译图形得到 CompiledGraph 对象\n",
    "# 2. 调用 with_config() 注入 Langfuse 回调\n",
    "# 3. 得到一个“默认启用追踪”的图对象，Server 直接引用即可\n",
    "#\n",
    "# ✅ 常见误区：\n",
    "# - 在 API Handler 内再临时创建 CallbackHandler → 会导致追踪分散、不易聚合\n",
    "# - 只在本地调试时传 callbacks，忘记在 Server 端注入 → 线上无追踪\n",
    "#\n",
    "# 🚀 优势：\n",
    "# - 无需在每次请求时手动添加回调配置\n",
    "# - 所有 API 请求都会自动写入 Langfuse 追踪\n",
    "# - 简化生产环境的部署与运维\n",
    "graph = graph_builder.compile().with_config({\"callbacks\": [langfuse_handler]})\n",
    "\n",
    "# 💡 部署提示：\n",
    "# - 在 LangGraph Server 中直接引用此 graph，即可立即获得完整的追踪数据\n",
    "# - 如需区分环境（dev/staging/prod），可在环境变量中切换 Langfuse Host/Key；\n",
    "#   但“图对象注入回调”的做法保持一致。"
   ]
  },
  {
   "cell_type": "markdown",
   "metadata": {
    "id": "PvKULkc6g-BE"
   },
   "source": [
    "## 多个 LangGraph 智能体的协同\n",
    "\n",
    "在某些架构中，一个 LangGraph 智能体会调用一个或多个其他 LangGraph 智能体。若想让整套执行链在 Langfuse 中聚合为同一条追踪，可显式传入自定义的 `trace_id`。\n",
    "\n",
    "首先生成一个共享的 `trace_id`，供主智能体与子智能体共用，以便在 Langfuse 中合并为同一条记录。\n"
   ]
  },
  {
   "cell_type": "code",
   "execution_count": 8,
   "metadata": {
    "id": "TS8hQBHVg-BE"
   },
   "outputs": [],
   "source": [
    "from langfuse import get_client, Langfuse\n",
    "from langfuse.langchain import CallbackHandler\n",
    "\n",
    "# ✅ 初学者要点：\n",
    "# - get_client() 会自动读取环境变量（LANGFUSE_PUBLIC_KEY/SECRET_KEY/HOST）进行认证\n",
    "# - Langfuse.create_trace_id() 生成可跨服务复用的 trace_id，用于将多段执行“串成一条”\n",
    "langfuse = get_client()\n",
    "\n",
    "# 🔐 生成一个稳定的 trace_id（也可由上游网关/业务系统传入，实现全链路同一 Trace）\n",
    "predefined_trace_id = Langfuse.create_trace_id()\n",
    "\n",
    "# 📡 初始化 Langfuse 回调处理器，用于采集 LangChain/LangGraph 的执行数据\n",
    "# 小贴士：该 handler 可复用，避免在每个请求内重复创建，减少开销\n",
    "langfuse_handler = CallbackHandler()\n"
   ]
  },
  {
   "cell_type": "markdown",
   "metadata": {
    "id": "73necyiUg-BE"
   },
   "source": [
    "接下来，构建子智能体的逻辑。\n"
   ]
  },
  {
   "cell_type": "code",
   "execution_count": 9,
   "metadata": {
    "id": "LWS82VWsg-BE"
   },
   "outputs": [],
   "source": [
    "from typing import Annotated\n",
    "from langchain_openai import ChatOpenAI\n",
    "from langchain_core.messages import HumanMessage\n",
    "from typing_extensions import TypedDict\n",
    "from langgraph.graph import StateGraph\n",
    "from langgraph.graph.message import add_messages\n",
    "\n",
    "# 子智能体（Sub Agent）的最小实现：仅负责根据 messages 生成一次回复\n",
    "# 这样可把“研究/检索”等专项逻辑与主流程解耦，便于复用与独立观测\n",
    "class State(TypedDict):\n",
    "    messages: Annotated[list, add_messages]\n",
    "\n",
    "graph_builder = StateGraph(State)\n",
    "\n",
    "# 说明：与主智能体可使用相同或不同模型；按需求选择\n",
    "llm = ChatOpenAI(model = \"gpt-4o\", temperature = 0.2)\n",
    "\n",
    "def chatbot(state: State):\n",
    "    # LangGraph 约定：返回增量状态（只包含需要更新的键）\n",
    "    return {\"messages\": [llm.invoke(state[\"messages\"])]}\n",
    "\n",
    "# 仅单节点的直通图，适合封装为工具被主流程调用\n",
    "graph_builder.add_node(\"chatbot\", chatbot)\n",
    "graph_builder.set_entry_point(\"chatbot\")\n",
    "graph_builder.set_finish_point(\"chatbot\")\n",
    "sub_agent = graph_builder.compile()"
   ]
  },
  {
   "cell_type": "markdown",
   "metadata": {
    "id": "oIcpIMEPg-BF"
   },
   "source": [
    "随后，将该子智能体封装成工具，供主流程调用并复用。\n"
   ]
  },
  {
   "cell_type": "code",
   "execution_count": 10,
   "metadata": {
    "id": "R0KC8Gvzg-BF"
   },
   "outputs": [],
   "source": [
    "from langchain_core.tools import tool\n",
    "\n",
    "@tool\n",
    "def langgraph_research(question):\n",
    "  \"\"\"Conducts research for various topics.\"\"\"\n",
    "\n",
    "  # 关键思路：\n",
    "  # - 使用 start_as_current_span 创建一个子跨度（span），并注入共享 trace_id，\n",
    "  #   确保该工具内的执行与主流程聚合到同一条追踪\n",
    "  with langfuse.start_as_current_span(\n",
    "      name=\"🤖-sub-research-agent\",\n",
    "      trace_context={\"trace_id\": predefined_trace_id}\n",
    "  ) as span:\n",
    "      # 在进入子智能体前，将用户问题写入 trace，便于还原现场\n",
    "      span.update_trace(input=question)\n",
    "\n",
    "      # 调用子智能体；通过 callbacks 将 LangChain 级别的细节采集到 Langfuse\n",
    "      response = sub_agent.invoke(\n",
    "          {\"messages\": [HumanMessage(content = question)]},\n",
    "          config={\"callbacks\": [langfuse_handler]}\n",
    "      )\n",
    "\n",
    "      # 返回结构是增量状态；此处取模型输出的 AI 消息作为工具答案\n",
    "      # 注意：索引 1 对应追加后的第二条消息（0 为 Human，1 为 AI）\n",
    "      span.update_trace(output= response[\"messages\"][1].content)\n",
    "\n",
    "  return response[\"messages\"][1].content"
   ]
  },
  {
   "cell_type": "markdown",
   "metadata": {
    "id": "0PpMQXiEg-BF"
   },
   "source": [
    "最后，创建第二个 LangGraph 智能体，通过前面新增的 `langgraph_research` 工具完成协作。\n"
   ]
  },
  {
   "cell_type": "code",
   "execution_count": 11,
   "metadata": {
    "id": "lhNPp4pmg-BF"
   },
   "outputs": [],
   "source": [
    "from langgraph.prebuilt import create_react_agent\n",
    "from langchain_openai import ChatOpenAI\n",
    "\n",
    "# 主智能体：采用内置 ReAct 模式（推理-行动-反思），可自动选择工具\n",
    "llm = ChatOpenAI(model = \"gpt-4o\", temperature = 0.2)\n",
    "\n",
    "# 将子智能体封装的工具注入，主智能体即可在需要时调用\n",
    "main_agent = create_react_agent(\n",
    "    model=llm,\n",
    "    tools=[langgraph_research]\n",
    ")"
   ]
  },
  {
   "cell_type": "code",
   "execution_count": 12,
   "metadata": {
    "colab": {
     "base_uri": "https://localhost:8080/"
    },
    "id": "jyeGvSf3g-BF",
    "outputId": "14edd5b7-f48c-48e2-9187-6aee8ad6b582"
   },
   "outputs": [
    {
     "output_type": "stream",
     "name": "stdout",
     "text": [
      "Trace ID: 850369415bfa30547a4dd37f61ce495c\n"
     ]
    }
   ],
   "source": [
    "user_question = \"什么是 Langfuse？\"\n",
    "\n",
    "# 🧭 使用预生成的 trace_id（通过 trace_context 注入）\n",
    "# 作用：让主/子智能体在 Langfuse 界面中聚合到同一条调用链上\n",
    "with langfuse.start_as_current_span(\n",
    "    name=\"🤖-main-agent\",\n",
    "    trace_context={\"trace_id\": predefined_trace_id}\n",
    ") as span:\n",
    "    # 记录入口输入，方便运维人员复盘\n",
    "    span.update_trace(input=user_question)\n",
    "\n",
    "    # 此处的 LangChain 执行都会归属于同一条追踪\n",
    "    response = main_agent.invoke(\n",
    "        {\"messages\": [{\"role\": \"user\", \"content\": user_question}]},\n",
    "        config={\"callbacks\": [langfuse_handler]}\n",
    "    )\n",
    "\n",
    "    # 记录最终输出，可配合评分（Score）进行质量分析\n",
    "    span.update_trace(output=response[\"messages\"][1].content)\n",
    "\n",
    "print(f\"Trace ID: {predefined_trace_id}\")  # 可在后续评分或排查时使用\n"
   ]
  },
  {
   "cell_type": "code",
   "execution_count": 13,
   "metadata": {
    "colab": {
     "base_uri": "https://localhost:8080/",
     "height": 266
    },
    "id": "alDFf_8RVG7X",
    "outputId": "823add00-dd87-4d46-a47e-9bbd8e4449ad"
   },
   "outputs": [
    {
     "output_type": "display_data",
     "data": {
      "image/png": "[encoded data removed]",
      "text/plain": [
       "<IPython.core.display.Image object>"
      ]
     },
     "metadata": {}
    }
   ],
   "source": [
    "## 可以使用 get_graph 方法配合相应的 “draw” 方法对图进行可视化。\n",
    "# 初学者提示：可视化有助于理解 ReAct 智能体内部的节点与边，\n",
    "# 快速定位执行瓶颈与错误发生位置。\n",
    "from IPython.display import Image, display\n",
    "display(Image(main_agent.get_graph().draw_mermaid_png()))"
   ]
  },
  {
   "cell_type": "markdown",
   "metadata": {
    "id": "qzPZIqUWg-BF"
   },
   "source": [
    "### 在 Langfuse 中查看多智能体追踪\n",
    "\n",
    "![多智能体追踪示例](https://cdn.jsdelivr.net/gh/Fly0905/note-picture@main/imag/202509231446631.png)\n",
    "\n",
    "示例追踪链接：https://cloud.langfuse.com/project/cmequpe0j00euad07w6wrvkzg/traces?peek=a7d9c0badaccd67fccf2045c68fb01ec&timestamp=2025-09-23T06%3A37%3A08.963Z\n"
   ]
  },
  {
   "cell_type": "markdown",
   "metadata": {
    "id": "uybP4h8wGvWw"
   },
   "source": [
    "## 为追踪添加评分\n",
    "\n",
    "[评分（Score）](https://langfuse.com/docs/scores/overview) 用于评价单个观测（observation）或整条追踪（trace），可帮助你在运行时执行自定义质量检查，或配合人工审核流程。\n",
    "\n",
    "下面的示例演示如何：\n",
    "\n",
    "- 为某个 span 记录一个数值型评分（如 `relevance`）\n",
    "- 为整条追踪记录一个分类型评分（如 `feedback`）\n",
    "\n",
    "这有助于系统化地评估与改进应用质量。\n",
    "\n",
    "**→ 想深入了解？请参阅 [Langfuse 自定义评分指南](https://langfuse.com/docs/scores/custom)。**\n"
   ]
  },
  {
   "cell_type": "code",
   "execution_count": 14,
   "metadata": {
    "id": "pgAqYnQuGwCL"
   },
   "outputs": [],
   "source": [
    "from langfuse import get_client\n",
    "\n",
    "# 评分（Score）适用场景：\n",
    "# - 在线反馈：例如“用户是否满意/是否有帮助”等\n",
    "# - 质量度量：如准确性/相关性/安全性等离线指标\n",
    "# - A/B 实验：以 trace 为单位聚合对比\n",
    "langfuse = get_client()\n",
    "\n",
    "# 方案一：使用上下文管理器返回的 span 对象进行评分（推荐，最直观）\n",
    "with langfuse.start_as_current_span(name=\"🤖-sub-research-agent\") as span:\n",
    "    # ... 此处执行 LangGraph 逻辑 ...\n",
    "\n",
    "    # 直接通过 span.score_trace 记录评分\n",
    "    # name：评分项名称；value：数值；data_type：NUMERIC/TEXT/CATEGORICAL\n",
    "    span.score_trace(\n",
    "        name=\"user-feedback\",\n",
    "        value=1,\n",
    "        data_type=\"NUMERIC\",\n",
    "        comment=\"This was correct, thank you\"\n",
    "    )\n",
    "\n",
    "# 方案二：仍在上下文中，但不直接持有 span 对象时，可用 score_current_trace()\n",
    "with langfuse.start_as_current_span(name=\"🤖-sub-research-agent\") as span:\n",
    "    # ... LangGraph execution ...\n",
    "\n",
    "    langfuse.score_current_trace(\n",
    "        name=\"user-feedback\",\n",
    "        value=1,\n",
    "        data_type=\"NUMERIC\"\n",
    "    )\n",
    "\n",
    "# 方案三：已离开上下文，用 trace_id 直接创建评分（适合异步/后台批处理）\n",
    "langfuse.create_score(\n",
    "    trace_id=predefined_trace_id,\n",
    "    name=\"user-feedback\",\n",
    "    value=1,\n",
    "    data_type=\"NUMERIC\",\n",
    "    comment=\"This was correct, thank you\"\n",
    ")\n"
   ]
  },
  {
   "cell_type": "markdown",
   "metadata": {
    "id": "cq_DeCcXSxwq"
   },
   "source": [
    "### 在 Langfuse 中查看带评分的追踪\n",
    "\n",
    "示例追踪：https://cloud.langfuse.com/project/cmequpe0j00euad07w6wrvkzg/traces?peek=a7d9c0badaccd67fccf2045c68fb01ec&timestamp=2025-09-23T06%3A37%3A08.963Z\n",
    "\n",
    "![包含评分的追踪展示](https://cdn.jsdelivr.net/gh/Fly0905/note-picture@main/imag/202509231502415.png)\n"
   ]
  }
 ],
 "metadata": {
  "colab": {
   "provenance": [],
   "include_colab_link": true
  },
  "kernelspec": {
   "display_name": ".venv",
   "language": "python",
   "name": "python3"
  },
  "language_info": {
   "codemirror_mode": {
    "name": "ipython",
    "version": 3
   },
   "file_extension": ".py",
   "mimetype": "text/x-python",
   "name": "python",
   "nbconvert_exporter": "python",
   "pygments_lexer": "ipython3",
   "version": "3.13.2"
  }
 },
 "nbformat": 4,
 "nbformat_minor": 0
}